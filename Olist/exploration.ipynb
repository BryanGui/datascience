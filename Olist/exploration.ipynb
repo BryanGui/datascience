{
 "cells": [
  {
   "cell_type": "code",
   "execution_count": 1,
   "id": "7691a063",
   "metadata": {},
   "outputs": [],
   "source": [
    "import os\n",
    "import pandas as pd\n",
    "import numpy as np\n",
    "import polars as pl"
   ]
  },
  {
   "cell_type": "markdown",
   "id": "66a4955d",
   "metadata": {},
   "source": [
    "### Graphiques et visualisations"
   ]
  },
  {
   "cell_type": "code",
   "execution_count": 2,
   "id": "fb176e0b",
   "metadata": {},
   "outputs": [],
   "source": [
    "\n",
    "#data visualisation \n",
    "\n",
    "import plotly.express as px\n",
    "import matplotlib.pyplot as plt\n",
    "import matplotlib as mpl\n",
    "import seaborn as sns\n",
    "\n",
    "import matplotlib.ticker as plticker\n",
    "from matplotlib.patches import Patch\n",
    "\n",
    "#----------------------------------------\n",
    "sns.set_style({'axes.facecolor' :'white'})\n",
    "\n",
    "mpl.rcParams['xtick.color'] = 'tab:blue'\n",
    "mpl.rcParams['ytick.color'] = 'tab:blue'\n",
    "mpl.rcParams['axes.labelcolor'] = 'tab:blue'\n",
    "#----------------------------------------"
   ]
  },
  {
   "cell_type": "code",
   "execution_count": 3,
   "id": "bf2570e5",
   "metadata": {},
   "outputs": [
    {
     "data": {
      "text/html": [
       "<svg  width=\"550\" height=\"55\"><rect x=\"0\" y=\"0\" width=\"55\" height=\"55\" style=\"fill:#4c72b0;stroke-width:2;stroke:rgb(255,255,255)\"/><rect x=\"55\" y=\"0\" width=\"55\" height=\"55\" style=\"fill:#dd8452;stroke-width:2;stroke:rgb(255,255,255)\"/><rect x=\"110\" y=\"0\" width=\"55\" height=\"55\" style=\"fill:#55a868;stroke-width:2;stroke:rgb(255,255,255)\"/><rect x=\"165\" y=\"0\" width=\"55\" height=\"55\" style=\"fill:#c44e52;stroke-width:2;stroke:rgb(255,255,255)\"/><rect x=\"220\" y=\"0\" width=\"55\" height=\"55\" style=\"fill:#8172b3;stroke-width:2;stroke:rgb(255,255,255)\"/><rect x=\"275\" y=\"0\" width=\"55\" height=\"55\" style=\"fill:#937860;stroke-width:2;stroke:rgb(255,255,255)\"/><rect x=\"330\" y=\"0\" width=\"55\" height=\"55\" style=\"fill:#da8bc3;stroke-width:2;stroke:rgb(255,255,255)\"/><rect x=\"385\" y=\"0\" width=\"55\" height=\"55\" style=\"fill:#8c8c8c;stroke-width:2;stroke:rgb(255,255,255)\"/><rect x=\"440\" y=\"0\" width=\"55\" height=\"55\" style=\"fill:#ccb974;stroke-width:2;stroke:rgb(255,255,255)\"/><rect x=\"495\" y=\"0\" width=\"55\" height=\"55\" style=\"fill:#64b5cd;stroke-width:2;stroke:rgb(255,255,255)\"/></svg>"
      ],
      "text/plain": [
       "[(0.2980392156862745, 0.4470588235294118, 0.6901960784313725),\n",
       " (0.8666666666666667, 0.5176470588235295, 0.3215686274509804),\n",
       " (0.3333333333333333, 0.6588235294117647, 0.40784313725490196),\n",
       " (0.7686274509803922, 0.3058823529411765, 0.3215686274509804),\n",
       " (0.5058823529411764, 0.4470588235294118, 0.7019607843137254),\n",
       " (0.5764705882352941, 0.47058823529411764, 0.3764705882352941),\n",
       " (0.8549019607843137, 0.5450980392156862, 0.7647058823529411),\n",
       " (0.5490196078431373, 0.5490196078431373, 0.5490196078431373),\n",
       " (0.8, 0.7254901960784313, 0.4549019607843137),\n",
       " (0.39215686274509803, 0.7098039215686275, 0.803921568627451)]"
      ]
     },
     "execution_count": 3,
     "metadata": {},
     "output_type": "execute_result"
    }
   ],
   "source": [
    "sns.color_palette('deep')"
   ]
  },
  {
   "cell_type": "code",
   "execution_count": 4,
   "id": "eb5f5df7",
   "metadata": {},
   "outputs": [],
   "source": [
    "palette = sns.color_palette('deep')"
   ]
  },
  {
   "cell_type": "code",
   "execution_count": 5,
   "id": "a2332380",
   "metadata": {},
   "outputs": [
    {
     "data": {
      "text/plain": [
       "polars.config.Config"
      ]
     },
     "execution_count": 5,
     "metadata": {},
     "output_type": "execute_result"
    }
   ],
   "source": [
    "#pl.Config.set_tbl_width_chars(width = 100)\n",
    "pl.Config.set_fmt_str_lengths(n = 15)"
   ]
  },
  {
   "cell_type": "code",
   "execution_count": 6,
   "id": "509fc2f6",
   "metadata": {},
   "outputs": [
    {
     "data": {
      "text/plain": [
       "KeysView(RcParams({'_internal.classic_mode': False,\n",
       "          'agg.path.chunksize': 0,\n",
       "          'animation.bitrate': -1,\n",
       "          'animation.codec': 'h264',\n",
       "          'animation.convert_args': [],\n",
       "          'animation.convert_path': 'convert',\n",
       "          'animation.embed_limit': 20.0,\n",
       "          'animation.ffmpeg_args': [],\n",
       "          'animation.ffmpeg_path': 'ffmpeg',\n",
       "          'animation.frame_format': 'png',\n",
       "          'animation.html': 'none',\n",
       "          'animation.writer': 'ffmpeg',\n",
       "          'axes.autolimit_mode': 'data',\n",
       "          'axes.axisbelow': 'line',\n",
       "          'axes.edgecolor': 'black',\n",
       "          'axes.facecolor': 'white',\n",
       "          'axes.formatter.limits': [-5, 6],\n",
       "          'axes.formatter.min_exponent': 0,\n",
       "          'axes.formatter.offset_threshold': 4,\n",
       "          'axes.formatter.use_locale': False,\n",
       "          'axes.formatter.use_mathtext': False,\n",
       "          'axes.formatter.useoffset': True,\n",
       "          'axes.grid': False,\n",
       "          'axes.grid.axis': 'both',\n",
       "          'axes.grid.which': 'major',\n",
       "          'axes.labelcolor': 'tab:blue',\n",
       "          'axes.labelpad': 4.0,\n",
       "          'axes.labelsize': 'medium',\n",
       "          'axes.labelweight': 'normal',\n",
       "          'axes.linewidth': 0.8,\n",
       "          'axes.prop_cycle': cycler('color', ['#1f77b4', '#ff7f0e', '#2ca02c', '#d62728', '#9467bd', '#8c564b', '#e377c2', '#7f7f7f', '#bcbd22', '#17becf']),\n",
       "          'axes.spines.bottom': True,\n",
       "          'axes.spines.left': True,\n",
       "          'axes.spines.right': True,\n",
       "          'axes.spines.top': True,\n",
       "          'axes.titlecolor': 'auto',\n",
       "          'axes.titlelocation': 'center',\n",
       "          'axes.titlepad': 6.0,\n",
       "          'axes.titlesize': 'large',\n",
       "          'axes.titleweight': 'normal',\n",
       "          'axes.titley': None,\n",
       "          'axes.unicode_minus': True,\n",
       "          'axes.xmargin': 0.05,\n",
       "          'axes.ymargin': 0.05,\n",
       "          'axes.zmargin': 0.05,\n",
       "          'axes3d.grid': True,\n",
       "          'backend': 'module://matplotlib_inline.backend_inline',\n",
       "          'backend_fallback': True,\n",
       "          'boxplot.bootstrap': None,\n",
       "          'boxplot.boxprops.color': 'black',\n",
       "          'boxplot.boxprops.linestyle': '-',\n",
       "          'boxplot.boxprops.linewidth': 1.0,\n",
       "          'boxplot.capprops.color': 'black',\n",
       "          'boxplot.capprops.linestyle': '-',\n",
       "          'boxplot.capprops.linewidth': 1.0,\n",
       "          'boxplot.flierprops.color': 'black',\n",
       "          'boxplot.flierprops.linestyle': 'none',\n",
       "          'boxplot.flierprops.linewidth': 1.0,\n",
       "          'boxplot.flierprops.marker': 'o',\n",
       "          'boxplot.flierprops.markeredgecolor': 'black',\n",
       "          'boxplot.flierprops.markeredgewidth': 1.0,\n",
       "          'boxplot.flierprops.markerfacecolor': 'none',\n",
       "          'boxplot.flierprops.markersize': 6.0,\n",
       "          'boxplot.meanline': False,\n",
       "          'boxplot.meanprops.color': 'C2',\n",
       "          'boxplot.meanprops.linestyle': '--',\n",
       "          'boxplot.meanprops.linewidth': 1.0,\n",
       "          'boxplot.meanprops.marker': '^',\n",
       "          'boxplot.meanprops.markeredgecolor': 'C2',\n",
       "          'boxplot.meanprops.markerfacecolor': 'C2',\n",
       "          'boxplot.meanprops.markersize': 6.0,\n",
       "          'boxplot.medianprops.color': 'C1',\n",
       "          'boxplot.medianprops.linestyle': '-',\n",
       "          'boxplot.medianprops.linewidth': 1.0,\n",
       "          'boxplot.notch': False,\n",
       "          'boxplot.patchartist': False,\n",
       "          'boxplot.showbox': True,\n",
       "          'boxplot.showcaps': True,\n",
       "          'boxplot.showfliers': True,\n",
       "          'boxplot.showmeans': False,\n",
       "          'boxplot.vertical': True,\n",
       "          'boxplot.whiskerprops.color': 'black',\n",
       "          'boxplot.whiskerprops.linestyle': '-',\n",
       "          'boxplot.whiskerprops.linewidth': 1.0,\n",
       "          'boxplot.whiskers': 1.5,\n",
       "          'contour.corner_mask': True,\n",
       "          'contour.linewidth': None,\n",
       "          'contour.negative_linestyle': 'dashed',\n",
       "          'date.autoformatter.day': '%Y-%m-%d',\n",
       "          'date.autoformatter.hour': '%m-%d %H',\n",
       "          'date.autoformatter.microsecond': '%M:%S.%f',\n",
       "          'date.autoformatter.minute': '%d %H:%M',\n",
       "          'date.autoformatter.month': '%Y-%m',\n",
       "          'date.autoformatter.second': '%H:%M:%S',\n",
       "          'date.autoformatter.year': '%Y',\n",
       "          'date.converter': 'auto',\n",
       "          'date.epoch': '1970-01-01T00:00:00',\n",
       "          'date.interval_multiples': True,\n",
       "          'docstring.hardcopy': False,\n",
       "          'errorbar.capsize': 0.0,\n",
       "          'figure.autolayout': False,\n",
       "          'figure.constrained_layout.h_pad': 0.04167,\n",
       "          'figure.constrained_layout.hspace': 0.02,\n",
       "          'figure.constrained_layout.use': False,\n",
       "          'figure.constrained_layout.w_pad': 0.04167,\n",
       "          'figure.constrained_layout.wspace': 0.02,\n",
       "          'figure.dpi': 100.0,\n",
       "          'figure.edgecolor': 'white',\n",
       "          'figure.facecolor': 'white',\n",
       "          'figure.figsize': [6.4, 4.8],\n",
       "          'figure.frameon': True,\n",
       "          'figure.max_open_warning': 20,\n",
       "          'figure.raise_window': True,\n",
       "          'figure.subplot.bottom': 0.11,\n",
       "          'figure.subplot.hspace': 0.2,\n",
       "          'figure.subplot.left': 0.125,\n",
       "          'figure.subplot.right': 0.9,\n",
       "          'figure.subplot.top': 0.88,\n",
       "          'figure.subplot.wspace': 0.2,\n",
       "          'figure.titlesize': 'large',\n",
       "          'figure.titleweight': 'normal',\n",
       "          'font.cursive': ['Apple Chancery',\n",
       "                           'Textile',\n",
       "                           'Zapf Chancery',\n",
       "                           'Sand',\n",
       "                           'Script MT',\n",
       "                           'Felipa',\n",
       "                           'Comic Neue',\n",
       "                           'Comic Sans MS',\n",
       "                           'cursive'],\n",
       "          'font.family': ['sans-serif'],\n",
       "          'font.fantasy': ['Chicago',\n",
       "                           'Charcoal',\n",
       "                           'Impact',\n",
       "                           'Western',\n",
       "                           'Humor Sans',\n",
       "                           'xkcd',\n",
       "                           'fantasy'],\n",
       "          'font.monospace': ['DejaVu Sans Mono',\n",
       "                             'Bitstream Vera Sans Mono',\n",
       "                             'Computer Modern Typewriter',\n",
       "                             'Andale Mono',\n",
       "                             'Nimbus Mono L',\n",
       "                             'Courier New',\n",
       "                             'Courier',\n",
       "                             'Fixed',\n",
       "                             'Terminal',\n",
       "                             'monospace'],\n",
       "          'font.sans-serif': ['DejaVu Sans',\n",
       "                              'Bitstream Vera Sans',\n",
       "                              'Computer Modern Sans Serif',\n",
       "                              'Lucida Grande',\n",
       "                              'Verdana',\n",
       "                              'Geneva',\n",
       "                              'Lucid',\n",
       "                              'Arial',\n",
       "                              'Helvetica',\n",
       "                              'Avant Garde',\n",
       "                              'sans-serif'],\n",
       "          'font.serif': ['DejaVu Serif',\n",
       "                         'Bitstream Vera Serif',\n",
       "                         'Computer Modern Roman',\n",
       "                         'New Century Schoolbook',\n",
       "                         'Century Schoolbook L',\n",
       "                         'Utopia',\n",
       "                         'ITC Bookman',\n",
       "                         'Bookman',\n",
       "                         'Nimbus Roman No9 L',\n",
       "                         'Times New Roman',\n",
       "                         'Times',\n",
       "                         'Palatino',\n",
       "                         'Charter',\n",
       "                         'serif'],\n",
       "          'font.size': 10.0,\n",
       "          'font.stretch': 'normal',\n",
       "          'font.style': 'normal',\n",
       "          'font.variant': 'normal',\n",
       "          'font.weight': 'normal',\n",
       "          'grid.alpha': 1.0,\n",
       "          'grid.color': '#b0b0b0',\n",
       "          'grid.linestyle': '-',\n",
       "          'grid.linewidth': 0.8,\n",
       "          'hatch.color': 'black',\n",
       "          'hatch.linewidth': 1.0,\n",
       "          'hist.bins': 10,\n",
       "          'image.aspect': 'equal',\n",
       "          'image.cmap': 'viridis',\n",
       "          'image.composite_image': True,\n",
       "          'image.interpolation': 'antialiased',\n",
       "          'image.lut': 256,\n",
       "          'image.origin': 'upper',\n",
       "          'image.resample': True,\n",
       "          'interactive': False,\n",
       "          'keymap.back': ['left', 'c', 'backspace', 'MouseButton.BACK'],\n",
       "          'keymap.copy': ['ctrl+c', 'cmd+c'],\n",
       "          'keymap.forward': ['right', 'v', 'MouseButton.FORWARD'],\n",
       "          'keymap.fullscreen': ['f', 'ctrl+f'],\n",
       "          'keymap.grid': ['g'],\n",
       "          'keymap.grid_minor': ['G'],\n",
       "          'keymap.help': ['f1'],\n",
       "          'keymap.home': ['h', 'r', 'home'],\n",
       "          'keymap.pan': ['p'],\n",
       "          'keymap.quit': ['ctrl+w', 'cmd+w', 'q'],\n",
       "          'keymap.quit_all': [],\n",
       "          'keymap.save': ['s', 'ctrl+s'],\n",
       "          'keymap.xscale': ['k', 'L'],\n",
       "          'keymap.yscale': ['l'],\n",
       "          'keymap.zoom': ['o'],\n",
       "          'legend.borderaxespad': 0.5,\n",
       "          'legend.borderpad': 0.4,\n",
       "          'legend.columnspacing': 2.0,\n",
       "          'legend.edgecolor': '0.8',\n",
       "          'legend.facecolor': 'inherit',\n",
       "          'legend.fancybox': True,\n",
       "          'legend.fontsize': 'medium',\n",
       "          'legend.framealpha': 0.8,\n",
       "          'legend.frameon': True,\n",
       "          'legend.handleheight': 0.7,\n",
       "          'legend.handlelength': 2.0,\n",
       "          'legend.handletextpad': 0.8,\n",
       "          'legend.labelcolor': 'None',\n",
       "          'legend.labelspacing': 0.5,\n",
       "          'legend.loc': 'best',\n",
       "          'legend.markerscale': 1.0,\n",
       "          'legend.numpoints': 1,\n",
       "          'legend.scatterpoints': 1,\n",
       "          'legend.shadow': False,\n",
       "          'legend.title_fontsize': None,\n",
       "          'lines.antialiased': True,\n",
       "          'lines.color': 'C0',\n",
       "          'lines.dash_capstyle': <CapStyle.butt: 'butt'>,\n",
       "          'lines.dash_joinstyle': <JoinStyle.round: 'round'>,\n",
       "          'lines.dashdot_pattern': [6.4, 1.6, 1.0, 1.6],\n",
       "          'lines.dashed_pattern': [3.7, 1.6],\n",
       "          'lines.dotted_pattern': [1.0, 1.65],\n",
       "          'lines.linestyle': '-',\n",
       "          'lines.linewidth': 1.5,\n",
       "          'lines.marker': 'None',\n",
       "          'lines.markeredgecolor': 'auto',\n",
       "          'lines.markeredgewidth': 1.0,\n",
       "          'lines.markerfacecolor': 'auto',\n",
       "          'lines.markersize': 6.0,\n",
       "          'lines.scale_dashes': True,\n",
       "          'lines.solid_capstyle': <CapStyle.projecting: 'projecting'>,\n",
       "          'lines.solid_joinstyle': <JoinStyle.round: 'round'>,\n",
       "          'markers.fillstyle': 'full',\n",
       "          'mathtext.bf': 'sans:bold',\n",
       "          'mathtext.cal': 'cursive',\n",
       "          'mathtext.default': 'it',\n",
       "          'mathtext.fallback': 'cm',\n",
       "          'mathtext.fontset': 'dejavusans',\n",
       "          'mathtext.it': 'sans:italic',\n",
       "          'mathtext.rm': 'sans',\n",
       "          'mathtext.sf': 'sans',\n",
       "          'mathtext.tt': 'monospace',\n",
       "          'patch.antialiased': True,\n",
       "          'patch.edgecolor': 'black',\n",
       "          'patch.facecolor': 'C0',\n",
       "          'patch.force_edgecolor': False,\n",
       "          'patch.linewidth': 1.0,\n",
       "          'path.effects': [],\n",
       "          'path.simplify': True,\n",
       "          'path.simplify_threshold': 0.111111111111,\n",
       "          'path.sketch': None,\n",
       "          'path.snap': True,\n",
       "          'pcolor.shading': 'auto',\n",
       "          'pcolormesh.snap': True,\n",
       "          'pdf.compression': 6,\n",
       "          'pdf.fonttype': 3,\n",
       "          'pdf.inheritcolor': False,\n",
       "          'pdf.use14corefonts': False,\n",
       "          'pgf.preamble': '',\n",
       "          'pgf.rcfonts': True,\n",
       "          'pgf.texsystem': 'xelatex',\n",
       "          'polaraxes.grid': True,\n",
       "          'ps.distiller.res': 6000,\n",
       "          'ps.fonttype': 3,\n",
       "          'ps.papersize': 'letter',\n",
       "          'ps.useafm': False,\n",
       "          'ps.usedistiller': None,\n",
       "          'savefig.bbox': None,\n",
       "          'savefig.directory': '~',\n",
       "          'savefig.dpi': 'figure',\n",
       "          'savefig.edgecolor': 'auto',\n",
       "          'savefig.facecolor': 'auto',\n",
       "          'savefig.format': 'png',\n",
       "          'savefig.orientation': 'portrait',\n",
       "          'savefig.pad_inches': 0.1,\n",
       "          'savefig.transparent': False,\n",
       "          'scatter.edgecolors': 'face',\n",
       "          'scatter.marker': 'o',\n",
       "          'svg.fonttype': 'path',\n",
       "          'svg.hashsalt': None,\n",
       "          'svg.image_inline': True,\n",
       "          'text.antialiased': True,\n",
       "          'text.color': 'black',\n",
       "          'text.hinting': 'force_autohint',\n",
       "          'text.hinting_factor': 8,\n",
       "          'text.kerning_factor': 0,\n",
       "          'text.latex.preamble': '',\n",
       "          'text.usetex': False,\n",
       "          'timezone': 'UTC',\n",
       "          'tk.window_focus': False,\n",
       "          'toolbar': 'toolbar2',\n",
       "          'webagg.address': '127.0.0.1',\n",
       "          'webagg.open_in_browser': True,\n",
       "          'webagg.port': 8988,\n",
       "          'webagg.port_retries': 50,\n",
       "          'xaxis.labellocation': 'center',\n",
       "          'xtick.alignment': 'center',\n",
       "          'xtick.bottom': True,\n",
       "          'xtick.color': 'tab:blue',\n",
       "          'xtick.direction': 'out',\n",
       "          'xtick.labelbottom': True,\n",
       "          'xtick.labelcolor': 'inherit',\n",
       "          'xtick.labelsize': 'medium',\n",
       "          'xtick.labeltop': False,\n",
       "          'xtick.major.bottom': True,\n",
       "          'xtick.major.pad': 3.5,\n",
       "          'xtick.major.size': 3.5,\n",
       "          'xtick.major.top': True,\n",
       "          'xtick.major.width': 0.8,\n",
       "          'xtick.minor.bottom': True,\n",
       "          'xtick.minor.pad': 3.4,\n",
       "          'xtick.minor.size': 2.0,\n",
       "          'xtick.minor.top': True,\n",
       "          'xtick.minor.visible': False,\n",
       "          'xtick.minor.width': 0.6,\n",
       "          'xtick.top': False,\n",
       "          'yaxis.labellocation': 'center',\n",
       "          'ytick.alignment': 'center_baseline',\n",
       "          'ytick.color': 'tab:blue',\n",
       "          'ytick.direction': 'out',\n",
       "          'ytick.labelcolor': 'inherit',\n",
       "          'ytick.labelleft': True,\n",
       "          'ytick.labelright': False,\n",
       "          'ytick.labelsize': 'medium',\n",
       "          'ytick.left': True,\n",
       "          'ytick.major.left': True,\n",
       "          'ytick.major.pad': 3.5,\n",
       "          'ytick.major.right': True,\n",
       "          'ytick.major.size': 3.5,\n",
       "          'ytick.major.width': 0.8,\n",
       "          'ytick.minor.left': True,\n",
       "          'ytick.minor.pad': 3.4,\n",
       "          'ytick.minor.right': True,\n",
       "          'ytick.minor.size': 2.0,\n",
       "          'ytick.minor.visible': False,\n",
       "          'ytick.minor.width': 0.6,\n",
       "          'ytick.right': False}))"
      ]
     },
     "execution_count": 6,
     "metadata": {},
     "output_type": "execute_result"
    }
   ],
   "source": [
    "mpl.rcParams.keys()"
   ]
  },
  {
   "cell_type": "code",
   "execution_count": 7,
   "id": "c594ec6f",
   "metadata": {},
   "outputs": [
    {
     "data": {
      "text/plain": [
       "'/home/bryan/OpenClassRoom/Olist'"
      ]
     },
     "execution_count": 7,
     "metadata": {},
     "output_type": "execute_result"
    }
   ],
   "source": [
    "os.getcwd()"
   ]
  },
  {
   "cell_type": "code",
   "execution_count": 8,
   "id": "7a090e9b",
   "metadata": {},
   "outputs": [],
   "source": [
    "source = os.path.join(os.getcwd(), 'data/source')"
   ]
  },
  {
   "cell_type": "code",
   "execution_count": 9,
   "id": "5520c8de",
   "metadata": {},
   "outputs": [
    {
     "data": {
      "text/plain": [
       "['olist_order_payments_dataset.csv',\n",
       " 'olist_products_dataset.csv',\n",
       " 'olist_sellers_dataset.csv',\n",
       " 'olist_geolocation_dataset.csv',\n",
       " 'olist_orders_dataset.csv',\n",
       " 'olist_order_reviews_dataset.csv',\n",
       " 'product_category_name_translation.csv',\n",
       " 'olist_customers_dataset.csv',\n",
       " 'olist_order_items_dataset.csv']"
      ]
     },
     "execution_count": 9,
     "metadata": {},
     "output_type": "execute_result"
    }
   ],
   "source": [
    "os.listdir(source)"
   ]
  },
  {
   "cell_type": "markdown",
   "id": "6642bbb0",
   "metadata": {},
   "source": [
    "# 1 - Préparation"
   ]
  },
  {
   "cell_type": "markdown",
   "id": "d667ad95",
   "metadata": {},
   "source": [
    "## 1.1 -  Téléchargement des bases de données"
   ]
  },
  {
   "cell_type": "markdown",
   "id": "2324ac9d",
   "metadata": {},
   "source": [
    "nous téléchargeons 8 databes."
   ]
  },
  {
   "cell_type": "markdown",
   "id": "e8134769",
   "metadata": {},
   "source": [
    "# Correction"
   ]
  },
  {
   "cell_type": "markdown",
   "id": "e9c54a8d",
   "metadata": {},
   "source": [
    "## 1 - order_payement"
   ]
  },
  {
   "cell_type": "code",
   "execution_count": 10,
   "id": "a4da8b0e",
   "metadata": {
    "scrolled": true
   },
   "outputs": [
    {
     "data": {
      "text/plain": [
       "['order_id',\n",
       " 'payment_sequential',\n",
       " 'payment_type',\n",
       " 'payment_installments',\n",
       " 'payment_value']"
      ]
     },
     "execution_count": 10,
     "metadata": {},
     "output_type": "execute_result"
    }
   ],
   "source": [
    "path = os.path.join(source,'olist_order_payments_dataset.csv')\n",
    "order_payement_df = pl.read_csv(path)\n",
    "order_payement_df.columns"
   ]
  },
  {
   "cell_type": "code",
   "execution_count": 11,
   "id": "37529114",
   "metadata": {},
   "outputs": [
    {
     "data": {
      "text/plain": [
       "(103886, 5)"
      ]
     },
     "execution_count": 11,
     "metadata": {},
     "output_type": "execute_result"
    }
   ],
   "source": [
    "order_payement_df.shape"
   ]
  },
  {
   "cell_type": "code",
   "execution_count": 12,
   "id": "73e56e8f",
   "metadata": {
    "scrolled": true
   },
   "outputs": [
    {
     "data": {
      "text/plain": [
       "29"
      ]
     },
     "execution_count": 12,
     "metadata": {},
     "output_type": "execute_result"
    }
   ],
   "source": [
    "order_payement_df['payment_sequential'].unique().max()"
   ]
  },
  {
   "cell_type": "code",
   "execution_count": 13,
   "id": "f27b455d",
   "metadata": {
    "scrolled": true
   },
   "outputs": [
    {
     "data": {
      "text/plain": [
       "24"
      ]
     },
     "execution_count": 13,
     "metadata": {},
     "output_type": "execute_result"
    }
   ],
   "source": [
    "order_payement_df['payment_installments'].unique().max()"
   ]
  },
  {
   "cell_type": "code",
   "execution_count": 14,
   "id": "002e697c",
   "metadata": {},
   "outputs": [
    {
     "data": {
      "text/html": [
       "<div><style>\n",
       ".dataframe > thead > tr > th,\n",
       ".dataframe > tbody > tr > td {\n",
       "  text-align: right;\n",
       "}\n",
       "</style>\n",
       "<small>shape: (5, 5)</small><table border=\"1\" class=\"dataframe\"><thead><tr><th>order_id</th><th>payment_sequential</th><th>payment_type</th><th>payment_installments</th><th>payment_value</th></tr><tr><td>str</td><td>i64</td><td>str</td><td>i64</td><td>f64</td></tr></thead><tbody><tr><td>&quot;09e21d9c7aee68...</td><td>1</td><td>&quot;credit_card&quot;</td><td>1</td><td>173.84</td></tr><tr><td>&quot;3c39f4ac4b4520...</td><td>1</td><td>&quot;credit_card&quot;</td><td>1</td><td>23.23</td></tr><tr><td>&quot;0ec7299d65db72...</td><td>1</td><td>&quot;credit_card&quot;</td><td>6</td><td>68.84</td></tr><tr><td>&quot;cfe0e21a3b8390...</td><td>1</td><td>&quot;credit_card&quot;</td><td>9</td><td>258.23</td></tr><tr><td>&quot;5fc2475da462df...</td><td>1</td><td>&quot;credit_card&quot;</td><td>6</td><td>116.22</td></tr></tbody></table></div>"
      ],
      "text/plain": [
       "shape: (5, 5)\n",
       "┌──────────────────┬──────────────────┬──────────────┬──────────────────┬───────────────┐\n",
       "│ order_id         ┆ payment_sequent… ┆ payment_type ┆ payment_install… ┆ payment_value │\n",
       "│ ---              ┆ ---              ┆ ---          ┆ ---              ┆ ---           │\n",
       "│ str              ┆ i64              ┆ str          ┆ i64              ┆ f64           │\n",
       "╞══════════════════╪══════════════════╪══════════════╪══════════════════╪═══════════════╡\n",
       "│ 09e21d9c7aee688… ┆ 1                ┆ credit_card  ┆ 1                ┆ 173.84        │\n",
       "│ 3c39f4ac4b4520b… ┆ 1                ┆ credit_card  ┆ 1                ┆ 23.23         │\n",
       "│ 0ec7299d65db721… ┆ 1                ┆ credit_card  ┆ 6                ┆ 68.84         │\n",
       "│ cfe0e21a3b8390e… ┆ 1                ┆ credit_card  ┆ 9                ┆ 258.23        │\n",
       "│ 5fc2475da462df8… ┆ 1                ┆ credit_card  ┆ 6                ┆ 116.22        │\n",
       "└──────────────────┴──────────────────┴──────────────┴──────────────────┴───────────────┘"
      ]
     },
     "execution_count": 14,
     "metadata": {},
     "output_type": "execute_result"
    }
   ],
   "source": [
    "order_payement_df.sample(5)"
   ]
  },
  {
   "cell_type": "code",
   "execution_count": 15,
   "id": "a47c085c",
   "metadata": {},
   "outputs": [
    {
     "data": {
      "text/plain": [
       "99440"
      ]
     },
     "execution_count": 15,
     "metadata": {},
     "output_type": "execute_result"
    }
   ],
   "source": [
    "order_payement_df['order_id'].n_unique()"
   ]
  },
  {
   "cell_type": "markdown",
   "id": "2c08e068",
   "metadata": {},
   "source": [
    "CORRECTION\n",
    "Nous cherchons l'unicité de la colonne order_id, pour ce la nous allons faire un groupe by sur la colonne order_id, parcontre nous allons perdre l'echelonnement des paiements et nous aurons a la place le montant total.\n",
    "Nous pouvons garder l'information du nombre de versement total"
   ]
  },
  {
   "cell_type": "code",
   "execution_count": 16,
   "id": "efd82e78",
   "metadata": {},
   "outputs": [],
   "source": [
    "order_payement_gby_df = order_payement_df.groupby(by = 'order_id')\\\n",
    ".agg([pl.col('payment_value').sum().alias('paiement_total'),\n",
    "      pl.col('payment_installments').mean().alias('nbre_versements')])"
   ]
  },
  {
   "cell_type": "code",
   "execution_count": 17,
   "id": "1a66763f",
   "metadata": {},
   "outputs": [
    {
     "data": {
      "text/plain": [
       "(99440, 3)"
      ]
     },
     "execution_count": 17,
     "metadata": {},
     "output_type": "execute_result"
    }
   ],
   "source": [
    "#Je me retrouve bien avec l'unicité sur l'order_id, et le montant total payer pour cette order.\n",
    "order_payement_gby_df.shape"
   ]
  },
  {
   "cell_type": "code",
   "execution_count": 18,
   "id": "0fcb925c",
   "metadata": {},
   "outputs": [
    {
     "data": {
      "text/html": [
       "<div><style>\n",
       ".dataframe > thead > tr > th,\n",
       ".dataframe > tbody > tr > td {\n",
       "  text-align: right;\n",
       "}\n",
       "</style>\n",
       "<small>shape: (5, 3)</small><table border=\"1\" class=\"dataframe\"><thead><tr><th>order_id</th><th>paiement_total</th><th>nbre_versements</th></tr><tr><td>str</td><td>f64</td><td>f64</td></tr></thead><tbody><tr><td>&quot;d5def3e0745284...</td><td>77.57</td><td>2.0</td></tr><tr><td>&quot;bd4b5585c4d7c1...</td><td>49.74</td><td>1.0</td></tr><tr><td>&quot;800527a0973637...</td><td>25.85</td><td>1.0</td></tr><tr><td>&quot;367085f34fdfc4...</td><td>138.03</td><td>2.0</td></tr><tr><td>&quot;1488ee1c0dc743...</td><td>132.47</td><td>3.0</td></tr></tbody></table></div>"
      ],
      "text/plain": [
       "shape: (5, 3)\n",
       "┌──────────────────┬────────────────┬─────────────────┐\n",
       "│ order_id         ┆ paiement_total ┆ nbre_versements │\n",
       "│ ---              ┆ ---            ┆ ---             │\n",
       "│ str              ┆ f64            ┆ f64             │\n",
       "╞══════════════════╪════════════════╪═════════════════╡\n",
       "│ d5def3e0745284e… ┆ 77.57          ┆ 2.0             │\n",
       "│ bd4b5585c4d7c16… ┆ 49.74          ┆ 1.0             │\n",
       "│ 800527a0973637e… ┆ 25.85          ┆ 1.0             │\n",
       "│ 367085f34fdfc41… ┆ 138.03         ┆ 2.0             │\n",
       "│ 1488ee1c0dc7439… ┆ 132.47         ┆ 3.0             │\n",
       "└──────────────────┴────────────────┴─────────────────┘"
      ]
     },
     "execution_count": 18,
     "metadata": {},
     "output_type": "execute_result"
    }
   ],
   "source": [
    "order_payement_gby_df.sample(5)"
   ]
  },
  {
   "cell_type": "code",
   "execution_count": 19,
   "id": "49f8251d",
   "metadata": {},
   "outputs": [
    {
     "data": {
      "text/plain": [
       "24.0"
      ]
     },
     "execution_count": 19,
     "metadata": {},
     "output_type": "execute_result"
    }
   ],
   "source": [
    "order_payement_gby_df['nbre_versements'].max()"
   ]
  },
  {
   "cell_type": "code",
   "execution_count": 20,
   "id": "77e797bb",
   "metadata": {},
   "outputs": [],
   "source": [
    "order_payement_gby_df.name = 'order_payement_gby_df'"
   ]
  },
  {
   "cell_type": "markdown",
   "id": "6646909e",
   "metadata": {},
   "source": [
    "## 2 - Product_df"
   ]
  },
  {
   "cell_type": "code",
   "execution_count": 21,
   "id": "df5b0de4",
   "metadata": {
    "scrolled": true
   },
   "outputs": [
    {
     "data": {
      "text/plain": [
       "(32951, 9)"
      ]
     },
     "execution_count": 21,
     "metadata": {},
     "output_type": "execute_result"
    }
   ],
   "source": [
    "path = os.path.join(source,'olist_products_dataset.csv')\n",
    "products_df = pl.read_csv(path)\n",
    "products_df.shape"
   ]
  },
  {
   "cell_type": "code",
   "execution_count": 22,
   "id": "7a53e756",
   "metadata": {},
   "outputs": [
    {
     "data": {
      "text/plain": [
       "['product_id',\n",
       " 'product_category_name',\n",
       " 'product_name_lenght',\n",
       " 'product_description_lenght',\n",
       " 'product_photos_qty',\n",
       " 'product_weight_g',\n",
       " 'product_length_cm',\n",
       " 'product_height_cm',\n",
       " 'product_width_cm']"
      ]
     },
     "execution_count": 22,
     "metadata": {},
     "output_type": "execute_result"
    }
   ],
   "source": [
    "products_df.columns"
   ]
  },
  {
   "cell_type": "code",
   "execution_count": 23,
   "id": "7d619258",
   "metadata": {},
   "outputs": [
    {
     "data": {
      "text/plain": [
       "32951"
      ]
     },
     "execution_count": 23,
     "metadata": {},
     "output_type": "execute_result"
    }
   ],
   "source": [
    "#verification unicité\n",
    "products_df['product_id'].n_unique()"
   ]
  },
  {
   "cell_type": "code",
   "execution_count": 24,
   "id": "92ee01ca",
   "metadata": {},
   "outputs": [
    {
     "data": {
      "text/html": [
       "<div><style>\n",
       ".dataframe > thead > tr > th,\n",
       ".dataframe > tbody > tr > td {\n",
       "  text-align: right;\n",
       "}\n",
       "</style>\n",
       "<small>shape: (5, 9)</small><table border=\"1\" class=\"dataframe\"><thead><tr><th>product_id</th><th>product_category_name</th><th>product_name_lenght</th><th>product_description_lenght</th><th>product_photos_qty</th><th>product_weight_g</th><th>product_length_cm</th><th>product_height_cm</th><th>product_width_cm</th></tr><tr><td>str</td><td>str</td><td>i64</td><td>i64</td><td>i64</td><td>i64</td><td>i64</td><td>i64</td><td>i64</td></tr></thead><tbody><tr><td>&quot;db6065d633b0e4...</td><td>&quot;brinquedos&quot;</td><td>55</td><td>1223</td><td>1</td><td>450</td><td>18</td><td>12</td><td>12</td></tr><tr><td>&quot;25179680ecacb5...</td><td>&quot;instrumentos_m...</td><td>42</td><td>442</td><td>4</td><td>8450</td><td>78</td><td>19</td><td>49</td></tr><tr><td>&quot;a0ff95d002b9e8...</td><td>&quot;casa_construca...</td><td>37</td><td>426</td><td>2</td><td>3100</td><td>38</td><td>28</td><td>28</td></tr><tr><td>&quot;66c88e3c982951...</td><td>&quot;cama_mesa_banh...</td><td>39</td><td>254</td><td>1</td><td>10050</td><td>50</td><td>30</td><td>40</td></tr><tr><td>&quot;69c2f05e34d543...</td><td>null</td><td>null</td><td>null</td><td>null</td><td>650</td><td>30</td><td>3</td><td>30</td></tr></tbody></table></div>"
      ],
      "text/plain": [
       "shape: (5, 9)\n",
       "┌──────────┬────────────┬────────────┬────────────┬───┬────────────┬────────────┬────────────┬────────────┐\n",
       "│ product_ ┆ product_ca ┆ product_na ┆ product_de ┆ … ┆ product_we ┆ product_le ┆ product_he ┆ product_wi │\n",
       "│ id       ┆ tegor…     ┆ me_le…     ┆ scrip…     ┆   ┆ ight_…     ┆ ngth_…     ┆ ight_…     ┆ dth_c…     │\n",
       "│ ---      ┆ ---        ┆ ---        ┆ ---        ┆   ┆ ---        ┆ ---        ┆ ---        ┆ ---        │\n",
       "│ str      ┆ str        ┆ i64        ┆ i64        ┆   ┆ i64        ┆ i64        ┆ i64        ┆ i64        │\n",
       "╞══════════╪════════════╪════════════╪════════════╪═══╪════════════╪════════════╪════════════╪════════════╡\n",
       "│ db6065d6 ┆ brinquedos ┆ 55         ┆ 1223       ┆ … ┆ 450        ┆ 18         ┆ 12         ┆ 12         │\n",
       "│ 33b0e40… ┆            ┆            ┆            ┆   ┆            ┆            ┆            ┆            │\n",
       "│ 25179680 ┆ instrument ┆ 42         ┆ 442        ┆ … ┆ 8450       ┆ 78         ┆ 19         ┆ 49         │\n",
       "│ ecacb54… ┆ os_mu…     ┆            ┆            ┆   ┆            ┆            ┆            ┆            │\n",
       "│ a0ff95d0 ┆ casa_const ┆ 37         ┆ 426        ┆ … ┆ 3100       ┆ 38         ┆ 28         ┆ 28         │\n",
       "│ 02b9e83… ┆ rucao      ┆            ┆            ┆   ┆            ┆            ┆            ┆            │\n",
       "│ 66c88e3c ┆ cama_mesa_ ┆ 39         ┆ 254        ┆ … ┆ 10050      ┆ 50         ┆ 30         ┆ 40         │\n",
       "│ 9829513… ┆ banho      ┆            ┆            ┆   ┆            ┆            ┆            ┆            │\n",
       "│ 69c2f05e ┆ null       ┆ null       ┆ null       ┆ … ┆ 650        ┆ 30         ┆ 3          ┆ 30         │\n",
       "│ 34d543d… ┆            ┆            ┆            ┆   ┆            ┆            ┆            ┆            │\n",
       "└──────────┴────────────┴────────────┴────────────┴───┴────────────┴────────────┴────────────┴────────────┘"
      ]
     },
     "execution_count": 24,
     "metadata": {},
     "output_type": "execute_result"
    }
   ],
   "source": [
    "products_df.sample(5)"
   ]
  },
  {
   "cell_type": "markdown",
   "id": "c72108c7",
   "metadata": {},
   "source": [
    "Pas de probleme d'unicité ici"
   ]
  },
  {
   "cell_type": "code",
   "execution_count": 25,
   "id": "2a1ca26d",
   "metadata": {},
   "outputs": [],
   "source": [
    "products_df.name = 'products_df'"
   ]
  },
  {
   "cell_type": "markdown",
   "id": "7eebf233",
   "metadata": {},
   "source": [
    "## 3 -  sellers_df"
   ]
  },
  {
   "cell_type": "code",
   "execution_count": 26,
   "id": "67a384e3",
   "metadata": {
    "scrolled": true
   },
   "outputs": [
    {
     "data": {
      "text/plain": [
       "(3095, 4)"
      ]
     },
     "execution_count": 26,
     "metadata": {},
     "output_type": "execute_result"
    }
   ],
   "source": [
    "path = os.path.join(source,'olist_sellers_dataset.csv')\n",
    "sellers_df = pl.read_csv(path)\n",
    "sellers_df.shape"
   ]
  },
  {
   "cell_type": "code",
   "execution_count": 27,
   "id": "a1b30e58",
   "metadata": {},
   "outputs": [
    {
     "data": {
      "text/plain": [
       "['seller_id', 'seller_zip_code_prefix', 'seller_city', 'seller_state']"
      ]
     },
     "execution_count": 27,
     "metadata": {},
     "output_type": "execute_result"
    }
   ],
   "source": [
    "sellers_df.columns"
   ]
  },
  {
   "cell_type": "code",
   "execution_count": 28,
   "id": "4ccbc40f",
   "metadata": {},
   "outputs": [
    {
     "data": {
      "text/plain": [
       "3095"
      ]
     },
     "execution_count": 28,
     "metadata": {},
     "output_type": "execute_result"
    }
   ],
   "source": [
    "sellers_df['seller_id'].n_unique()"
   ]
  },
  {
   "cell_type": "code",
   "execution_count": 29,
   "id": "5072691f",
   "metadata": {},
   "outputs": [
    {
     "data": {
      "text/html": [
       "<div><style>\n",
       ".dataframe > thead > tr > th,\n",
       ".dataframe > tbody > tr > td {\n",
       "  text-align: right;\n",
       "}\n",
       "</style>\n",
       "<small>shape: (10, 4)</small><table border=\"1\" class=\"dataframe\"><thead><tr><th>seller_id</th><th>seller_zip_code_prefix</th><th>seller_city</th><th>seller_state</th></tr><tr><td>str</td><td>i64</td><td>str</td><td>str</td></tr></thead><tbody><tr><td>&quot;2d20f1cd18725c...</td><td>86040</td><td>&quot;londrina&quot;</td><td>&quot;PR&quot;</td></tr><tr><td>&quot;5659d77e8d9037...</td><td>12062</td><td>&quot;taubate&quot;</td><td>&quot;SP&quot;</td></tr><tr><td>&quot;1b61fb1f0f2185...</td><td>87015</td><td>&quot;maringa&quot;</td><td>&quot;PR&quot;</td></tr><tr><td>&quot;fad44952713764...</td><td>21340</td><td>&quot;rio de janeiro...</td><td>&quot;RJ&quot;</td></tr><tr><td>&quot;e433f5fd4050e3...</td><td>86702</td><td>&quot;arapongas&quot;</td><td>&quot;PR&quot;</td></tr><tr><td>&quot;16090f2ca82558...</td><td>12940</td><td>&quot;atibaia&quot;</td><td>&quot;SP&quot;</td></tr><tr><td>&quot;2fa13c8bd5705d...</td><td>4679</td><td>&quot;sao paulo&quot;</td><td>&quot;SP&quot;</td></tr><tr><td>&quot;c76d4183709906...</td><td>6787</td><td>&quot;taboao da serr...</td><td>&quot;SP&quot;</td></tr><tr><td>&quot;855668e0971d4d...</td><td>13257</td><td>&quot;itatiba&quot;</td><td>&quot;SP&quot;</td></tr><tr><td>&quot;e58a5b390e28ab...</td><td>22640</td><td>&quot;rio de janeiro...</td><td>&quot;RJ&quot;</td></tr></tbody></table></div>"
      ],
      "text/plain": [
       "shape: (10, 4)\n",
       "┌──────────────────┬──────────────────┬─────────────────┬──────────────┐\n",
       "│ seller_id        ┆ seller_zip_code… ┆ seller_city     ┆ seller_state │\n",
       "│ ---              ┆ ---              ┆ ---             ┆ ---          │\n",
       "│ str              ┆ i64              ┆ str             ┆ str          │\n",
       "╞══════════════════╪══════════════════╪═════════════════╪══════════════╡\n",
       "│ 2d20f1cd18725c9… ┆ 86040            ┆ londrina        ┆ PR           │\n",
       "│ 5659d77e8d90378… ┆ 12062            ┆ taubate         ┆ SP           │\n",
       "│ 1b61fb1f0f2185d… ┆ 87015            ┆ maringa         ┆ PR           │\n",
       "│ fad449527137648… ┆ 21340            ┆ rio de janeiro  ┆ RJ           │\n",
       "│ …                ┆ …                ┆ …               ┆ …            │\n",
       "│ 2fa13c8bd5705d2… ┆ 4679             ┆ sao paulo       ┆ SP           │\n",
       "│ c76d41837099061… ┆ 6787             ┆ taboao da serra ┆ SP           │\n",
       "│ 855668e0971d4df… ┆ 13257            ┆ itatiba         ┆ SP           │\n",
       "│ e58a5b390e28abc… ┆ 22640            ┆ rio de janeiro  ┆ RJ           │\n",
       "└──────────────────┴──────────────────┴─────────────────┴──────────────┘"
      ]
     },
     "execution_count": 29,
     "metadata": {},
     "output_type": "execute_result"
    }
   ],
   "source": [
    "sellers_df.sample(10)"
   ]
  },
  {
   "cell_type": "raw",
   "id": "5759ea88",
   "metadata": {},
   "source": [
    "Pas de probleme d'unicité"
   ]
  },
  {
   "cell_type": "markdown",
   "id": "82d23dcf",
   "metadata": {},
   "source": [
    "## Nous n allons pas utiliser cette partie pour l'étude"
   ]
  },
  {
   "cell_type": "code",
   "execution_count": 30,
   "id": "1f3949e4",
   "metadata": {
    "scrolled": true
   },
   "outputs": [
    {
     "data": {
      "text/plain": [
       "['geolocation_zip_code_prefix',\n",
       " 'geolocation_lat',\n",
       " 'geolocation_lng',\n",
       " 'geolocation_city',\n",
       " 'geolocation_state']"
      ]
     },
     "execution_count": 30,
     "metadata": {},
     "output_type": "execute_result"
    }
   ],
   "source": [
    "path = os.path.join(source,'olist_geolocation_dataset.csv')\n",
    "geolocation_df = pl.read_csv(path)\n",
    "geolocation_df.columns"
   ]
  },
  {
   "cell_type": "code",
   "execution_count": 31,
   "id": "2704ae5a",
   "metadata": {},
   "outputs": [
    {
     "data": {
      "text/html": [
       "<div><style>\n",
       ".dataframe > thead > tr > th,\n",
       ".dataframe > tbody > tr > td {\n",
       "  text-align: right;\n",
       "}\n",
       "</style>\n",
       "<small>shape: (1, 1)</small><table border=\"1\" class=\"dataframe\"><thead><tr><th>geolocation_city</th></tr><tr><td>u32</td></tr></thead><tbody><tr><td>8011</td></tr></tbody></table></div>"
      ],
      "text/plain": [
       "shape: (1, 1)\n",
       "┌──────────────────┐\n",
       "│ geolocation_cit… │\n",
       "│ ---              │\n",
       "│ u32              │\n",
       "╞══════════════════╡\n",
       "│ 8011             │\n",
       "└──────────────────┘"
      ]
     },
     "execution_count": 31,
     "metadata": {},
     "output_type": "execute_result"
    }
   ],
   "source": [
    "geolocation_df.select(pl.col('geolocation_city').n_unique())"
   ]
  },
  {
   "cell_type": "code",
   "execution_count": 32,
   "id": "f57984fe",
   "metadata": {},
   "outputs": [],
   "source": [
    "sellers_df.name ='sellers_df'"
   ]
  },
  {
   "cell_type": "markdown",
   "id": "35e84c65",
   "metadata": {},
   "source": [
    "## 4 - Orders_df"
   ]
  },
  {
   "cell_type": "raw",
   "id": "d59743fb",
   "metadata": {},
   "source": [
    "Rappel : nou avions 99440 order_id différent dans la base order_paiement"
   ]
  },
  {
   "cell_type": "code",
   "execution_count": 33,
   "id": "8dc7e532",
   "metadata": {
    "scrolled": true
   },
   "outputs": [
    {
     "data": {
      "text/plain": [
       "(99441, 8)"
      ]
     },
     "execution_count": 33,
     "metadata": {},
     "output_type": "execute_result"
    }
   ],
   "source": [
    "path = os.path.join(source,'olist_orders_dataset.csv')\n",
    "orders_df = pl.read_csv(path)\n",
    "orders_df.shape"
   ]
  },
  {
   "cell_type": "code",
   "execution_count": 34,
   "id": "919e2960",
   "metadata": {},
   "outputs": [
    {
     "data": {
      "text/plain": [
       "['order_id',\n",
       " 'customer_id',\n",
       " 'order_status',\n",
       " 'order_purchase_timestamp',\n",
       " 'order_approved_at',\n",
       " 'order_delivered_carrier_date',\n",
       " 'order_delivered_customer_date',\n",
       " 'order_estimated_delivery_date']"
      ]
     },
     "execution_count": 34,
     "metadata": {},
     "output_type": "execute_result"
    }
   ],
   "source": [
    "orders_df.columns"
   ]
  },
  {
   "cell_type": "code",
   "execution_count": 35,
   "id": "5ebdaf6e",
   "metadata": {},
   "outputs": [
    {
     "data": {
      "text/plain": [
       "99441"
      ]
     },
     "execution_count": 35,
     "metadata": {},
     "output_type": "execute_result"
    }
   ],
   "source": [
    "#verification unicité\n",
    "orders_df['order_id'].n_unique()"
   ]
  },
  {
   "cell_type": "code",
   "execution_count": 36,
   "id": "432aedee",
   "metadata": {},
   "outputs": [
    {
     "data": {
      "text/plain": [
       "['bfbd0f9bdef84302105ad712db648a6c']"
      ]
     },
     "execution_count": 36,
     "metadata": {},
     "output_type": "execute_result"
    }
   ],
   "source": [
    "#Nous avons bien l'unicité de l'order_id sur ce dataset.\n",
    "#Parcontre nous avons un order_id supplémentaire\n",
    "A = orders_df['order_id'].to_list()\n",
    "B = order_payement_gby_df['order_id']\n",
    "diff_elem = list(set(A) ^ set(B))\n",
    "diff_elem "
   ]
  },
  {
   "cell_type": "code",
   "execution_count": 37,
   "id": "62acdcdc",
   "metadata": {},
   "outputs": [
    {
     "data": {
      "text/html": [
       "<div><style>\n",
       ".dataframe > thead > tr > th,\n",
       ".dataframe > tbody > tr > td {\n",
       "  text-align: right;\n",
       "}\n",
       "</style>\n",
       "<small>shape: (1, 8)</small><table border=\"1\" class=\"dataframe\"><thead><tr><th>order_id</th><th>customer_id</th><th>order_status</th><th>order_purchase_timestamp</th><th>order_approved_at</th><th>order_delivered_carrier_date</th><th>order_delivered_customer_date</th><th>order_estimated_delivery_date</th></tr><tr><td>str</td><td>str</td><td>str</td><td>str</td><td>str</td><td>str</td><td>str</td><td>str</td></tr></thead><tbody><tr><td>&quot;bfbd0f9bdef843...</td><td>&quot;86dc2ffce2dfff...</td><td>&quot;delivered&quot;</td><td>&quot;2016-09-15 12:...</td><td>&quot;2016-09-15 12:...</td><td>&quot;2016-11-07 17:...</td><td>&quot;2016-11-09 07:...</td><td>&quot;2016-10-04 00:...</td></tr></tbody></table></div>"
      ],
      "text/plain": [
       "shape: (1, 8)\n",
       "┌────────┬───────────┬────────────┬────────────┬────────────┬────────────┬────────────┬────────────┐\n",
       "│ order_ ┆ customer_ ┆ order_stat ┆ order_purc ┆ order_appr ┆ order_deli ┆ order_deli ┆ order_esti │\n",
       "│ id     ┆ id        ┆ us         ┆ hase_…     ┆ oved_…     ┆ vered…     ┆ vered…     ┆ mated…     │\n",
       "│ ---    ┆ ---       ┆ ---        ┆ ---        ┆ ---        ┆ ---        ┆ ---        ┆ ---        │\n",
       "│ str    ┆ str       ┆ str        ┆ str        ┆ str        ┆ str        ┆ str        ┆ str        │\n",
       "╞════════╪═══════════╪════════════╪════════════╪════════════╪════════════╪════════════╪════════════╡\n",
       "│ bfbd0f ┆ 86dc2ffce ┆ delivered  ┆ 2016-09-15 ┆ 2016-09-15 ┆ 2016-11-07 ┆ 2016-11-09 ┆ 2016-10-04 │\n",
       "│ 9bdef8 ┆ 2dfff3…   ┆            ┆ 12:1…      ┆ 12:1…      ┆ 17:1…      ┆ 07:4…      ┆ 00:0…      │\n",
       "│ 430…   ┆           ┆            ┆            ┆            ┆            ┆            ┆            │\n",
       "└────────┴───────────┴────────────┴────────────┴────────────┴────────────┴────────────┴────────────┘"
      ]
     },
     "execution_count": 37,
     "metadata": {},
     "output_type": "execute_result"
    }
   ],
   "source": [
    "orders_df.filter(pl.col('order_id') == diff_elem[0])"
   ]
  },
  {
   "cell_type": "raw",
   "id": "ff1606cb",
   "metadata": {},
   "source": [
    "Nous allons garder pour l'instant cette order id qui n'est pas présent dans la base paiement, donc nous ne pouvons lié cette ordre a un montant"
   ]
  },
  {
   "cell_type": "code",
   "execution_count": 38,
   "id": "1fc98683",
   "metadata": {},
   "outputs": [],
   "source": [
    "#transformation en type datetime\n",
    "colonne_datetime = ['order_purchase_timestamp', 'order_approved_at','order_delivered_carrier_date',\n",
    "                    'order_delivered_customer_date', 'order_estimated_delivery_date']\n",
    "\n",
    "for col in colonne_datetime:\n",
    "    orders_df = orders_df.with_columns(pl.col(col)\\\n",
    "                                       .str.strptime(pl.Date,fmt='%Y-%m-%d %H:%M:%S')\\\n",
    "                                       .cast(pl.Datetime))"
   ]
  },
  {
   "cell_type": "code",
   "execution_count": 39,
   "id": "b004df2c",
   "metadata": {},
   "outputs": [],
   "source": [
    "orders_df.name ='orders_df'"
   ]
  },
  {
   "cell_type": "markdown",
   "id": "2dcffd26",
   "metadata": {},
   "source": [
    "## 5 - order_reviews_df"
   ]
  },
  {
   "cell_type": "code",
   "execution_count": 40,
   "id": "0ee03ccb",
   "metadata": {},
   "outputs": [
    {
     "data": {
      "text/plain": [
       "(99224, 7)"
      ]
     },
     "execution_count": 40,
     "metadata": {},
     "output_type": "execute_result"
    }
   ],
   "source": [
    "path = os.path.join(source,'olist_order_reviews_dataset.csv')\n",
    "order_reviews_df = pl.read_csv(path)\n",
    "order_reviews_df.shape"
   ]
  },
  {
   "cell_type": "code",
   "execution_count": 41,
   "id": "d231d7b9",
   "metadata": {},
   "outputs": [
    {
     "data": {
      "text/plain": [
       "['review_id',\n",
       " 'order_id',\n",
       " 'review_score',\n",
       " 'review_comment_title',\n",
       " 'review_comment_message',\n",
       " 'review_creation_date',\n",
       " 'review_answer_timestamp']"
      ]
     },
     "execution_count": 41,
     "metadata": {},
     "output_type": "execute_result"
    }
   ],
   "source": [
    "order_reviews_df.columns"
   ]
  },
  {
   "cell_type": "code",
   "execution_count": 42,
   "id": "573133b8",
   "metadata": {},
   "outputs": [
    {
     "data": {
      "text/plain": [
       "98673"
      ]
     },
     "execution_count": 42,
     "metadata": {},
     "output_type": "execute_result"
    }
   ],
   "source": [
    "#Rappel 'order_id' : order_df =  99441 et   order_payement_gby_df = 99440\n",
    "order_reviews_df['order_id'].n_unique()"
   ]
  },
  {
   "cell_type": "code",
   "execution_count": 43,
   "id": "d8a0cdf7",
   "metadata": {},
   "outputs": [
    {
     "data": {
      "text/plain": [
       "98410"
      ]
     },
     "execution_count": 43,
     "metadata": {},
     "output_type": "execute_result"
    }
   ],
   "source": [
    "order_reviews_df['review_id'].n_unique()"
   ]
  },
  {
   "cell_type": "code",
   "execution_count": 44,
   "id": "6e21e244",
   "metadata": {},
   "outputs": [
    {
     "data": {
      "text/html": [
       "<div><style>\n",
       ".dataframe > thead > tr > th,\n",
       ".dataframe > tbody > tr > td {\n",
       "  text-align: right;\n",
       "}\n",
       "</style>\n",
       "<small>shape: (10, 7)</small><table border=\"1\" class=\"dataframe\"><thead><tr><th>review_id</th><th>order_id</th><th>review_score</th><th>review_comment_title</th><th>review_comment_message</th><th>review_creation_date</th><th>review_answer_timestamp</th></tr><tr><td>str</td><td>str</td><td>i64</td><td>str</td><td>str</td><td>str</td><td>str</td></tr></thead><tbody><tr><td>&quot;c3bde537cf9323...</td><td>&quot;8a6d1317935fc8...</td><td>4</td><td>null</td><td>null</td><td>&quot;2017-02-25 00:...</td><td>&quot;2017-03-01 11:...</td></tr><tr><td>&quot;a6df7b334e347d...</td><td>&quot;0b5b77a10f85eb...</td><td>5</td><td>null</td><td>null</td><td>&quot;2017-12-16 00:...</td><td>&quot;2017-12-17 11:...</td></tr><tr><td>&quot;ce6ff409660780...</td><td>&quot;c578990a35c5b8...</td><td>1</td><td>&quot;não recomendo&quot;</td><td>&quot;Meu pedido foi...</td><td>&quot;2018-04-26 00:...</td><td>&quot;2018-04-27 11:...</td></tr><tr><td>&quot;4118b0d741e5d3...</td><td>&quot;e43c3a1ff03aa2...</td><td>5</td><td>null</td><td>null</td><td>&quot;2017-05-31 00:...</td><td>&quot;2017-06-02 14:...</td></tr><tr><td>&quot;2ca9052d2f8334...</td><td>&quot;e2cb8763d4216d...</td><td>5</td><td>null</td><td>&quot;Entrega super ...</td><td>&quot;2017-11-24 00:...</td><td>&quot;2017-11-24 15:...</td></tr><tr><td>&quot;8eb5000a7d3b91...</td><td>&quot;3924ecb5e299e5...</td><td>5</td><td>&quot;Satisfeito&quot;</td><td>&quot;Produto de qua...</td><td>&quot;2018-08-14 00:...</td><td>&quot;2018-08-14 20:...</td></tr><tr><td>&quot;95933681bc9cbb...</td><td>&quot;d9cfa4b0f995de...</td><td>3</td><td>&quot;Aparentemente ...</td><td>null</td><td>&quot;2018-06-12 00:...</td><td>&quot;2018-06-13 00:...</td></tr><tr><td>&quot;a8f505ff0322a3...</td><td>&quot;50e8eff30cc85b...</td><td>5</td><td>null</td><td>null</td><td>&quot;2017-11-28 00:...</td><td>&quot;2017-11-29 01:...</td></tr><tr><td>&quot;20cfd1f61aa6a7...</td><td>&quot;95b19f291b5f22...</td><td>3</td><td>null</td><td>null</td><td>&quot;2018-03-27 00:...</td><td>&quot;2018-03-28 10:...</td></tr><tr><td>&quot;1f5cc76316be26...</td><td>&quot;a02d824dac1984...</td><td>5</td><td>null</td><td>null</td><td>&quot;2018-05-04 00:...</td><td>&quot;2018-05-04 23:...</td></tr></tbody></table></div>"
      ],
      "text/plain": [
       "shape: (10, 7)\n",
       "┌──────────────┬──────────────┬────────────┬────────────┬────────────┬──────────────┬──────────────┐\n",
       "│ review_id    ┆ order_id     ┆ review_sco ┆ review_com ┆ review_com ┆ review_creat ┆ review_answe │\n",
       "│ ---          ┆ ---          ┆ re         ┆ ment_…     ┆ ment_…     ┆ ion…         ┆ r_t…         │\n",
       "│ str          ┆ str          ┆ ---        ┆ ---        ┆ ---        ┆ ---          ┆ ---          │\n",
       "│              ┆              ┆ i64        ┆ str        ┆ str        ┆ str          ┆ str          │\n",
       "╞══════════════╪══════════════╪════════════╪════════════╪════════════╪══════════════╪══════════════╡\n",
       "│ c3bde537cf93 ┆ 8a6d1317935f ┆ 4          ┆ null       ┆ null       ┆ 2017-02-25   ┆ 2017-03-01   │\n",
       "│ 231…         ┆ c8b…         ┆            ┆            ┆            ┆ 00:0…        ┆ 11:0…        │\n",
       "│ a6df7b334e34 ┆ 0b5b77a10f85 ┆ 5          ┆ null       ┆ null       ┆ 2017-12-16   ┆ 2017-12-17   │\n",
       "│ 7de…         ┆ ebc…         ┆            ┆            ┆            ┆ 00:0…        ┆ 11:5…        │\n",
       "│ ce6ff4096607 ┆ c578990a35c5 ┆ 1          ┆ não        ┆ Meu pedido ┆ 2018-04-26   ┆ 2018-04-27   │\n",
       "│ 80d…         ┆ b87…         ┆            ┆ recomendo  ┆ foi …      ┆ 00:0…        ┆ 11:4…        │\n",
       "│ 4118b0d741e5 ┆ e43c3a1ff03a ┆ 5          ┆ null       ┆ null       ┆ 2017-05-31   ┆ 2017-06-02   │\n",
       "│ d3f…         ┆ a2c…         ┆            ┆            ┆            ┆ 00:0…        ┆ 14:4…        │\n",
       "│ …            ┆ …            ┆ …          ┆ …          ┆ …          ┆ …            ┆ …            │\n",
       "│ 95933681bc9c ┆ d9cfa4b0f995 ┆ 3          ┆ Aparenteme ┆ null       ┆ 2018-06-12   ┆ 2018-06-13   │\n",
       "│ bba…         ┆ deb…         ┆            ┆ nte p…     ┆            ┆ 00:0…        ┆ 00:5…        │\n",
       "│ a8f505ff0322 ┆ 50e8eff30cc8 ┆ 5          ┆ null       ┆ null       ┆ 2017-11-28   ┆ 2017-11-29   │\n",
       "│ a3d…         ┆ 5b5…         ┆            ┆            ┆            ┆ 00:0…        ┆ 01:4…        │\n",
       "│ 20cfd1f61aa6 ┆ 95b19f291b5f ┆ 3          ┆ null       ┆ null       ┆ 2018-03-27   ┆ 2018-03-28   │\n",
       "│ a71…         ┆ 226…         ┆            ┆            ┆            ┆ 00:0…        ┆ 10:3…        │\n",
       "│ 1f5cc76316be ┆ a02d824dac19 ┆ 5          ┆ null       ┆ null       ┆ 2018-05-04   ┆ 2018-05-04   │\n",
       "│ 265…         ┆ 841…         ┆            ┆            ┆            ┆ 00:0…        ┆ 23:5…        │\n",
       "└──────────────┴──────────────┴────────────┴────────────┴────────────┴──────────────┴──────────────┘"
      ]
     },
     "execution_count": 44,
     "metadata": {},
     "output_type": "execute_result"
    }
   ],
   "source": [
    "order_reviews_df.sample(10)"
   ]
  },
  {
   "cell_type": "code",
   "execution_count": 45,
   "id": "a57684a6",
   "metadata": {},
   "outputs": [
    {
     "data": {
      "text/html": [
       "<div><style>\n",
       ".dataframe > thead > tr > th,\n",
       ".dataframe > tbody > tr > td {\n",
       "  text-align: right;\n",
       "}\n",
       "</style>\n",
       "<small>shape: (0, 7)</small><table border=\"1\" class=\"dataframe\"><thead><tr><th>review_id</th><th>order_id</th><th>review_score</th><th>review_comment_title</th><th>review_comment_message</th><th>review_creation_date</th><th>review_answer_timestamp</th></tr><tr><td>str</td><td>str</td><td>i64</td><td>str</td><td>str</td><td>str</td><td>str</td></tr></thead><tbody></tbody></table></div>"
      ],
      "text/plain": [
       "shape: (0, 7)\n",
       "┌───────────┬──────────┬──────────────┬───────────────┬──────────────┬──────────────┬──────────────┐\n",
       "│ review_id ┆ order_id ┆ review_score ┆ review_commen ┆ review_comme ┆ review_creat ┆ review_answe │\n",
       "│ ---       ┆ ---      ┆ ---          ┆ t_…           ┆ nt_…         ┆ ion…         ┆ r_t…         │\n",
       "│ str       ┆ str      ┆ i64          ┆ ---           ┆ ---          ┆ ---          ┆ ---          │\n",
       "│           ┆          ┆              ┆ str           ┆ str          ┆ str          ┆ str          │\n",
       "╞═══════════╪══════════╪══════════════╪═══════════════╪══════════════╪══════════════╪══════════════╡\n",
       "└───────────┴──────────┴──────────────┴───────────────┴──────────────┴──────────────┴──────────────┘"
      ]
     },
     "execution_count": 45,
     "metadata": {},
     "output_type": "execute_result"
    }
   ],
   "source": [
    "#Il n'y pas de review score non renseigné\n",
    "order_reviews_df.filter(pl.col('review_score').is_null())"
   ]
  },
  {
   "cell_type": "code",
   "execution_count": 46,
   "id": "257a6740",
   "metadata": {},
   "outputs": [],
   "source": [
    "#transformation en type datetime\n",
    "colonne_datetime = ['review_creation_date','review_answer_timestamp']\n",
    "for col in colonne_datetime:\n",
    "    order_reviews_df = order_reviews_df.with_columns(pl.col(col)\\\n",
    "                                                    .str.strptime(pl.Date,fmt='%Y-%m-%d %H:%M:%S')\\\n",
    "                                                    .cast(pl.Datetime))"
   ]
  },
  {
   "cell_type": "code",
   "execution_count": 47,
   "id": "afec41d0",
   "metadata": {},
   "outputs": [],
   "source": [
    "order_reviews_df.name = 'order_reviews_df'"
   ]
  },
  {
   "cell_type": "markdown",
   "id": "31c029e8",
   "metadata": {},
   "source": [
    "## 6 - category_name_translation_df"
   ]
  },
  {
   "cell_type": "code",
   "execution_count": 48,
   "id": "e5c0c607",
   "metadata": {},
   "outputs": [
    {
     "data": {
      "text/plain": [
       "(71, 2)"
      ]
     },
     "execution_count": 48,
     "metadata": {},
     "output_type": "execute_result"
    }
   ],
   "source": [
    "path = os.path.join(source, 'product_category_name_translation.csv')\n",
    "category_name_translation_df = pl.read_csv(path)\n",
    "category_name_translation_df.shape"
   ]
  },
  {
   "cell_type": "code",
   "execution_count": 49,
   "id": "d2c2119a",
   "metadata": {},
   "outputs": [
    {
     "data": {
      "text/plain": [
       "['product_category_name', 'product_category_name_english']"
      ]
     },
     "execution_count": 49,
     "metadata": {},
     "output_type": "execute_result"
    }
   ],
   "source": [
    "category_name_translation_df.columns"
   ]
  },
  {
   "cell_type": "code",
   "execution_count": 50,
   "id": "bfe69ba5",
   "metadata": {},
   "outputs": [
    {
     "data": {
      "text/plain": [
       "71"
      ]
     },
     "execution_count": 50,
     "metadata": {},
     "output_type": "execute_result"
    }
   ],
   "source": [
    "category_name_translation_df['product_category_name'].n_unique()"
   ]
  },
  {
   "cell_type": "code",
   "execution_count": 51,
   "id": "21fb1511",
   "metadata": {},
   "outputs": [
    {
     "data": {
      "text/plain": [
       "74"
      ]
     },
     "execution_count": 51,
     "metadata": {},
     "output_type": "execute_result"
    }
   ],
   "source": [
    "products_df['product_category_name'].n_unique()"
   ]
  },
  {
   "cell_type": "code",
   "execution_count": 52,
   "id": "dfa977c0",
   "metadata": {},
   "outputs": [
    {
     "data": {
      "text/plain": [
       "['pc_gamer', 'portateis_cozinha_e_preparadores_de_alimentos', None]"
      ]
     },
     "execution_count": 52,
     "metadata": {},
     "output_type": "execute_result"
    }
   ],
   "source": [
    "A = category_name_translation_df['product_category_name'].unique().to_list()\n",
    "B = products_df['product_category_name'].unique().to_list()\n",
    "product_name_diff = list( set(B) ^ set(A))\n",
    "product_name_diff"
   ]
  },
  {
   "cell_type": "code",
   "execution_count": 53,
   "id": "ce2c66c3",
   "metadata": {},
   "outputs": [
    {
     "data": {
      "text/plain": [
       "(73, 2)"
      ]
     },
     "execution_count": 53,
     "metadata": {},
     "output_type": "execute_result"
    }
   ],
   "source": [
    "#Nous avons une difference de 3 elements sur la colonne 'product_category_name' qui nous servira de clé pour ces deux data sets\n",
    "#on peut ajouter 'portateis_cozinha_e_preparadores_de_alimentos' : \"portable kitchen appliances and food processors\"\n",
    "# 'pc_gamer' : 'pc_gamer'\n",
    "new_observation_df = pl.DataFrame({'product_category_name': ['pc_gamer','portateis_cozinha_e_preparadores_de_alimentos'],\n",
    "                                   'product_category_name_english': ['portateis_cozinha_e_preparadores_de_alimentos',\n",
    "                                                                     'portable kitchen appliances and food processors']\n",
    "                                  })\n",
    "category_name_translation_df.extend(new_observation_df)\n",
    "category_name_translation_df.shape"
   ]
  },
  {
   "cell_type": "code",
   "execution_count": 54,
   "id": "1cd0c4b1",
   "metadata": {},
   "outputs": [
    {
     "data": {
      "text/plain": [
       "610"
      ]
     },
     "execution_count": 54,
     "metadata": {},
     "output_type": "execute_result"
    }
   ],
   "source": [
    "#Il nous reste récuperer les product_id ligne None dans la daraframe products_df\n",
    "Liste_product_id_nul = products_df.filter(pl.col('product_category_name').is_null())['product_id'].to_list()\n",
    "len(Liste_product_id_nul)"
   ]
  },
  {
   "cell_type": "code",
   "execution_count": 55,
   "id": "ae68a5c5",
   "metadata": {},
   "outputs": [],
   "source": [
    "category_name_translation_df.name = 'category_name_translation_df'"
   ]
  },
  {
   "cell_type": "markdown",
   "id": "6a11df7a",
   "metadata": {},
   "source": [
    "## 7 - Customers_df"
   ]
  },
  {
   "cell_type": "code",
   "execution_count": 56,
   "id": "30c4eee0",
   "metadata": {},
   "outputs": [
    {
     "data": {
      "text/plain": [
       "(99441, 5)"
      ]
     },
     "execution_count": 56,
     "metadata": {},
     "output_type": "execute_result"
    }
   ],
   "source": [
    "path = os.path.join(source, 'olist_customers_dataset.csv')\n",
    "customers_df = pl.read_csv(path)\n",
    "customers_df.shape"
   ]
  },
  {
   "cell_type": "code",
   "execution_count": 57,
   "id": "442b1113",
   "metadata": {},
   "outputs": [
    {
     "data": {
      "text/plain": [
       "['customer_id',\n",
       " 'customer_unique_id',\n",
       " 'customer_zip_code_prefix',\n",
       " 'customer_city',\n",
       " 'customer_state']"
      ]
     },
     "execution_count": 57,
     "metadata": {},
     "output_type": "execute_result"
    }
   ],
   "source": [
    "customers_df.columns"
   ]
  },
  {
   "cell_type": "markdown",
   "id": "63b9c017",
   "metadata": {},
   "source": [
    "On voit qu'il y 99441 colonne ce qui correspond aux nombre de customer_id unique des deux autres data bases"
   ]
  },
  {
   "cell_type": "code",
   "execution_count": 58,
   "id": "69cffc3e",
   "metadata": {},
   "outputs": [
    {
     "data": {
      "text/plain": [
       "99441"
      ]
     },
     "execution_count": 58,
     "metadata": {},
     "output_type": "execute_result"
    }
   ],
   "source": [
    "customers_df['customer_id'].n_unique()"
   ]
  },
  {
   "cell_type": "code",
   "execution_count": 59,
   "id": "cfed25c5",
   "metadata": {},
   "outputs": [],
   "source": [
    "customers_df.name = 'customers_df'"
   ]
  },
  {
   "cell_type": "markdown",
   "id": "3569b8aa",
   "metadata": {},
   "source": [
    "## 8 - order_items_df"
   ]
  },
  {
   "cell_type": "code",
   "execution_count": 60,
   "id": "62dd32b1",
   "metadata": {},
   "outputs": [
    {
     "data": {
      "text/plain": [
       "(112650, 7)"
      ]
     },
     "execution_count": 60,
     "metadata": {},
     "output_type": "execute_result"
    }
   ],
   "source": [
    "path = os.path.join(source, 'olist_order_items_dataset.csv')\n",
    "order_items_df = pl.read_csv(path)\n",
    "order_items_df.shape"
   ]
  },
  {
   "cell_type": "code",
   "execution_count": 61,
   "id": "546591a4",
   "metadata": {},
   "outputs": [
    {
     "data": {
      "text/plain": [
       "['order_id',\n",
       " 'order_item_id',\n",
       " 'product_id',\n",
       " 'seller_id',\n",
       " 'shipping_limit_date',\n",
       " 'price',\n",
       " 'freight_value']"
      ]
     },
     "execution_count": 61,
     "metadata": {},
     "output_type": "execute_result"
    }
   ],
   "source": [
    "order_items_df.columns"
   ]
  },
  {
   "cell_type": "code",
   "execution_count": 62,
   "id": "53ba6708",
   "metadata": {},
   "outputs": [
    {
     "data": {
      "text/html": [
       "<div><style>\n",
       ".dataframe > thead > tr > th,\n",
       ".dataframe > tbody > tr > td {\n",
       "  text-align: right;\n",
       "}\n",
       "</style>\n",
       "<small>shape: (5, 7)</small><table border=\"1\" class=\"dataframe\"><thead><tr><th>order_id</th><th>order_item_id</th><th>product_id</th><th>seller_id</th><th>shipping_limit_date</th><th>price</th><th>freight_value</th></tr><tr><td>str</td><td>i64</td><td>str</td><td>str</td><td>str</td><td>f64</td><td>f64</td></tr></thead><tbody><tr><td>&quot;47321cd41efe54...</td><td>1</td><td>&quot;5a6e53c3b4e868...</td><td>&quot;7299e27ed73d2a...</td><td>&quot;2017-04-28 14:...</td><td>16.99</td><td>14.52</td></tr><tr><td>&quot;93801c56104b64...</td><td>1</td><td>&quot;063d853b6d570a...</td><td>&quot;0cbcee27c791af...</td><td>&quot;2017-03-30 11:...</td><td>145.0</td><td>15.18</td></tr><tr><td>&quot;98d327b68db476...</td><td>3</td><td>&quot;cb61986817d2a7...</td><td>&quot;6d988d6174a2c2...</td><td>&quot;2017-07-25 19:...</td><td>8.9</td><td>12.48</td></tr><tr><td>&quot;04ebaf1d65a804...</td><td>1</td><td>&quot;6c3effec7c8ddb...</td><td>&quot;37515688008a7a...</td><td>&quot;2017-11-30 10:...</td><td>24.5</td><td>11.85</td></tr><tr><td>&quot;b9fc38dc43975b...</td><td>1</td><td>&quot;6db41bd5a650ed...</td><td>&quot;7722b1df1b0e38...</td><td>&quot;2017-12-20 12:...</td><td>19.9</td><td>9.34</td></tr></tbody></table></div>"
      ],
      "text/plain": [
       "shape: (5, 7)\n",
       "┌───────────────┬──────────────┬──────────────┬──────────────┬──────────────┬───────┬──────────────┐\n",
       "│ order_id      ┆ order_item_i ┆ product_id   ┆ seller_id    ┆ shipping_lim ┆ price ┆ freight_valu │\n",
       "│ ---           ┆ d            ┆ ---          ┆ ---          ┆ it_…         ┆ ---   ┆ e            │\n",
       "│ str           ┆ ---          ┆ str          ┆ str          ┆ ---          ┆ f64   ┆ ---          │\n",
       "│               ┆ i64          ┆              ┆              ┆ str          ┆       ┆ f64          │\n",
       "╞═══════════════╪══════════════╪══════════════╪══════════════╪══════════════╪═══════╪══════════════╡\n",
       "│ 47321cd41efe5 ┆ 1            ┆ 5a6e53c3b4e8 ┆ 7299e27ed73d ┆ 2017-04-28   ┆ 16.99 ┆ 14.52        │\n",
       "│ 4f…           ┆              ┆ 684…         ┆ 2ad…         ┆ 14:5…        ┆       ┆              │\n",
       "│ 93801c56104b6 ┆ 1            ┆ 063d853b6d57 ┆ 0cbcee27c791 ┆ 2017-03-30   ┆ 145.0 ┆ 15.18        │\n",
       "│ 4d…           ┆              ┆ 0a9…         ┆ afa…         ┆ 11:4…        ┆       ┆              │\n",
       "│ 98d327b68db47 ┆ 3            ┆ cb61986817d2 ┆ 6d988d6174a2 ┆ 2017-07-25   ┆ 8.9   ┆ 12.48        │\n",
       "│ 6d…           ┆              ┆ a77…         ┆ c27…         ┆ 19:0…        ┆       ┆              │\n",
       "│ 04ebaf1d65a80 ┆ 1            ┆ 6c3effec7c8d ┆ 37515688008a ┆ 2017-11-30   ┆ 24.5  ┆ 11.85        │\n",
       "│ 4a…           ┆              ┆ dba…         ┆ 7a4…         ┆ 10:5…        ┆       ┆              │\n",
       "│ b9fc38dc43975 ┆ 1            ┆ 6db41bd5a650 ┆ 7722b1df1b0e ┆ 2017-12-20   ┆ 19.9  ┆ 9.34         │\n",
       "│ b3…           ┆              ┆ ed2…         ┆ 383…         ┆ 12:5…        ┆       ┆              │\n",
       "└───────────────┴──────────────┴──────────────┴──────────────┴──────────────┴───────┴──────────────┘"
      ]
     },
     "execution_count": 62,
     "metadata": {},
     "output_type": "execute_result"
    }
   ],
   "source": [
    "order_items_df.sample(5)"
   ]
  },
  {
   "cell_type": "code",
   "execution_count": 63,
   "id": "83fbac44",
   "metadata": {},
   "outputs": [
    {
     "data": {
      "text/plain": [
       "98666"
      ]
     },
     "execution_count": 63,
     "metadata": {},
     "output_type": "execute_result"
    }
   ],
   "source": [
    "#vérification unicité\n",
    "order_items_df['order_id'].n_unique()"
   ]
  },
  {
   "cell_type": "code",
   "execution_count": 64,
   "id": "53caa717",
   "metadata": {},
   "outputs": [
    {
     "data": {
      "text/plain": [
       "32951"
      ]
     },
     "execution_count": 64,
     "metadata": {},
     "output_type": "execute_result"
    }
   ],
   "source": [
    "order_items_df['product_id'].n_unique()"
   ]
  },
  {
   "cell_type": "code",
   "execution_count": 65,
   "id": "efae6b3d",
   "metadata": {
    "scrolled": true
   },
   "outputs": [],
   "source": [
    "#on verifie qu'il y a un qu'un order id ne peut associé qu a un seul product_id\n",
    "test = order_items_df.groupby('order_id').agg(pl.col('product_id'))"
   ]
  },
  {
   "cell_type": "code",
   "execution_count": 66,
   "id": "33f680d7",
   "metadata": {},
   "outputs": [],
   "source": [
    "def filter_func(lst):\n",
    "    return len(lst) > 2"
   ]
  },
  {
   "cell_type": "code",
   "execution_count": 67,
   "id": "6211da78",
   "metadata": {},
   "outputs": [
    {
     "data": {
      "text/html": [
       "<div><style>\n",
       ".dataframe > thead > tr > th,\n",
       ".dataframe > tbody > tr > td {\n",
       "  text-align: right;\n",
       "}\n",
       "</style>\n",
       "<small>shape: (2287, 2)</small><table border=\"1\" class=\"dataframe\"><thead><tr><th>order_id</th><th>product_id</th></tr><tr><td>str</td><td>list[str]</td></tr></thead><tbody><tr><td>&quot;cc8068a058758e...</td><td>[&quot;6d07236d4abe99b5b1cbf368971bf6e7&quot;, &quot;6d07236d4abe99b5b1cbf368971bf6e7&quot;, &quot;6d07236d4abe99b5b1cbf368971bf6e7&quot;]</td></tr><tr><td>&quot;ab14fdcfbe5246...</td><td>[&quot;9571759451b1d780ee7c15012ea109d4&quot;, &quot;9571759451b1d780ee7c15012ea109d4&quot;, … &quot;9571759451b1d780ee7c15012ea109d4&quot;]</td></tr><tr><td>&quot;14455f1aaa8335...</td><td>[&quot;2fefcfd2d56f54c3587e08e1442b36dd&quot;, &quot;2fefcfd2d56f54c3587e08e1442b36dd&quot;, &quot;2fefcfd2d56f54c3587e08e1442b36dd&quot;]</td></tr><tr><td>&quot;afc091f97bfa99...</td><td>[&quot;9e5f752e9e19cd6887063f004ee0da55&quot;, &quot;9e5f752e9e19cd6887063f004ee0da55&quot;, &quot;9e5f752e9e19cd6887063f004ee0da55&quot;]</td></tr><tr><td>&quot;6cd3f2ca1a0a50...</td><td>[&quot;bdc1cae635cc5a6a09d9481495b890c6&quot;, &quot;5292d2a10d727811b78d5b7dfb6c96b3&quot;, &quot;bdc1cae635cc5a6a09d9481495b890c6&quot;]</td></tr><tr><td>&quot;6288c084b4b8b9...</td><td>[&quot;bc4a074ab7a7ff14e98fa64671a79dc0&quot;, &quot;bc4a074ab7a7ff14e98fa64671a79dc0&quot;, … &quot;bc4a074ab7a7ff14e98fa64671a79dc0&quot;]</td></tr><tr><td>&quot;73cbd9a357e885...</td><td>[&quot;a5f25345083fc9e537fe69c874886fe7&quot;, &quot;a5f25345083fc9e537fe69c874886fe7&quot;, &quot;a5f25345083fc9e537fe69c874886fe7&quot;]</td></tr><tr><td>&quot;e0e3cde1bd7f99...</td><td>[&quot;18721a85f6f265d6137dfc0f88cc0534&quot;, &quot;e50ee1b5ca5566f7f341e115533015f5&quot;, &quot;10adb53d8faa890ca7c2f0cbcb68d777&quot;]</td></tr><tr><td>&quot;5ee31cacb02c4f...</td><td>[&quot;8e1446d14972eb9ba34dd6273315f419&quot;, &quot;8e1446d14972eb9ba34dd6273315f419&quot;, &quot;8e1446d14972eb9ba34dd6273315f419&quot;]</td></tr><tr><td>&quot;ea82d188c1d501...</td><td>[&quot;a62e25e09e05e6faf31d90c6ec1aa3d1&quot;, &quot;a62e25e09e05e6faf31d90c6ec1aa3d1&quot;, &quot;a62e25e09e05e6faf31d90c6ec1aa3d1&quot;]</td></tr><tr><td>&quot;fbf6a5df377654...</td><td>[&quot;98a4301b1aacd45984603af55b7a1de4&quot;, &quot;98a4301b1aacd45984603af55b7a1de4&quot;, … &quot;98a4301b1aacd45984603af55b7a1de4&quot;]</td></tr><tr><td>&quot;17bc0acf9f5ac5...</td><td>[&quot;b59fb744c6f3cd1dc23b10f760848d98&quot;, &quot;b59fb744c6f3cd1dc23b10f760848d98&quot;, &quot;b59fb744c6f3cd1dc23b10f760848d98&quot;]</td></tr><tr><td>&hellip;</td><td>&hellip;</td></tr><tr><td>&quot;93e856badcb505...</td><td>[&quot;96ee9343533c399d245845830908f073&quot;, &quot;d3350fee567b6f7149265243bc8cf282&quot;, &quot;cc2de3090e4e70b255499285f2d72735&quot;]</td></tr><tr><td>&quot;9a1ee1a8feb17e...</td><td>[&quot;ff8ece719f2d16180dbf891250635093&quot;, &quot;ff8ece719f2d16180dbf891250635093&quot;, … &quot;ff8ece719f2d16180dbf891250635093&quot;]</td></tr><tr><td>&quot;f5c1445b373201...</td><td>[&quot;bdc3291ab242ec1effc8eb0987850268&quot;, &quot;bdc3291ab242ec1effc8eb0987850268&quot;, &quot;bdc3291ab242ec1effc8eb0987850268&quot;]</td></tr><tr><td>&quot;edc89efa4164df...</td><td>[&quot;9f46622a1318d3fd0de27629a63e165d&quot;, &quot;d2cd82700fc883c398ede93125dc1793&quot;, … &quot;4beaa629c1622b0fc9471351db5ea62c&quot;]</td></tr><tr><td>&quot;2f8f31eb2f7b65...</td><td>[&quot;5415fa4d6c000c97cddafcf0419b09f7&quot;, &quot;f59ff3f667dc8dc2b42117736585c1ba&quot;, &quot;3c025396e63ff6925a3b68781e8b3456&quot;]</td></tr><tr><td>&quot;a5f76c8d3b285a...</td><td>[&quot;62d41a80c366aa2d8644e3270adf8440&quot;, &quot;62d41a80c366aa2d8644e3270adf8440&quot;, … &quot;62d41a80c366aa2d8644e3270adf8440&quot;]</td></tr><tr><td>&quot;ed807db8807199...</td><td>[&quot;491c6b0ec61399a890b22a6ed2d9a4b0&quot;, &quot;d2347fba1e60ea51f533960fc555baff&quot;, … &quot;b62a475bcfd309c66d84a1a93aa75fd8&quot;]</td></tr><tr><td>&quot;29bfedddd3697c...</td><td>[&quot;ec2d43cc59763ec91694573b31f1c29a&quot;, &quot;ec2d43cc59763ec91694573b31f1c29a&quot;, &quot;ec2d43cc59763ec91694573b31f1c29a&quot;]</td></tr><tr><td>&quot;4fc1fb51c00a59...</td><td>[&quot;a4d0871577d73bc394c482dd0998af7d&quot;, &quot;e044a6c8994164db4e2446054a374b9a&quot;, … &quot;3dd7de1b6e3362ad26c1879acc292f19&quot;]</td></tr><tr><td>&quot;e726c0e987fd6d...</td><td>[&quot;6d1338fc8d6ac273115ea526c7a6146a&quot;, &quot;d2f2c2b94c6ac44ece0bd0dd202c7939&quot;, … &quot;6d1338fc8d6ac273115ea526c7a6146a&quot;]</td></tr><tr><td>&quot;a9c8ac0c26c178...</td><td>[&quot;66b1f09e746c05761bcaccf6339bde8d&quot;, &quot;66b1f09e746c05761bcaccf6339bde8d&quot;, … &quot;66b1f09e746c05761bcaccf6339bde8d&quot;]</td></tr><tr><td>&quot;f23026c2bb8bf3...</td><td>[&quot;e7e04378fa044f94470c5486c6896ed5&quot;, &quot;e7e04378fa044f94470c5486c6896ed5&quot;, … &quot;e7e04378fa044f94470c5486c6896ed5&quot;]</td></tr></tbody></table></div>"
      ],
      "text/plain": [
       "shape: (2287, 2)\n",
       "┌──────────────────┬──────────────────┐\n",
       "│ order_id         ┆ product_id       │\n",
       "│ ---              ┆ ---              │\n",
       "│ str              ┆ list[str]        │\n",
       "╞══════════════════╪══════════════════╡\n",
       "│ cc8068a058758e6… ┆ [\"6d07236d4abe9… │\n",
       "│ ab14fdcfbe52463… ┆ [\"9571759451b1d… │\n",
       "│ 14455f1aaa83350… ┆ [\"2fefcfd2d56f5… │\n",
       "│ afc091f97bfa998… ┆ [\"9e5f752e9e19c… │\n",
       "│ …                ┆ …                │\n",
       "│ 4fc1fb51c00a593… ┆ [\"a4d0871577d73… │\n",
       "│ e726c0e987fd6d1… ┆ [\"6d1338fc8d6ac… │\n",
       "│ a9c8ac0c26c178f… ┆ [\"66b1f09e746c0… │\n",
       "│ f23026c2bb8bf3b… ┆ [\"e7e04378fa044… │\n",
       "└──────────────────┴──────────────────┘"
      ]
     },
     "execution_count": 67,
     "metadata": {},
     "output_type": "execute_result"
    }
   ],
   "source": [
    "test.filter(pl.col('product_id').apply(filter_func))"
   ]
  },
  {
   "cell_type": "code",
   "execution_count": 68,
   "id": "3216cdf4",
   "metadata": {},
   "outputs": [],
   "source": [
    "order_items_df = order_items_df.with_columns(pl.col('shipping_limit_date')\\\n",
    "                                             .str.strptime(pl.Date,fmt='%Y-%m-%d %H:%M:%S')\\\n",
    "                                             .cast(pl.Datetime))"
   ]
  },
  {
   "cell_type": "code",
   "execution_count": 69,
   "id": "5769319f",
   "metadata": {},
   "outputs": [],
   "source": [
    "order_items_df.name ='order_items_df'"
   ]
  },
  {
   "cell_type": "markdown",
   "id": "bb3f5d35",
   "metadata": {},
   "source": [
    "##  Résumé"
   ]
  },
  {
   "cell_type": "code",
   "execution_count": 70,
   "id": "9d05d612",
   "metadata": {},
   "outputs": [
    {
     "name": "stdout",
     "output_type": "stream",
     "text": [
      "nom : order_payement_gby_df \n",
      " shape (99440, 3) \n",
      " colonnes : ['order_id', 'paiement_total', 'nbre_versements'] \n",
      "\n",
      "nom : products_df \n",
      " shape (32951, 9) \n",
      " colonnes : ['product_id', 'product_category_name', 'product_name_lenght', 'product_description_lenght', 'product_photos_qty', 'product_weight_g', 'product_length_cm', 'product_height_cm', 'product_width_cm'] \n",
      "\n",
      "nom : sellers_df \n",
      " shape (3095, 4) \n",
      " colonnes : ['seller_id', 'seller_zip_code_prefix', 'seller_city', 'seller_state'] \n",
      "\n",
      "nom : orders_df \n",
      " shape (99441, 8) \n",
      " colonnes : ['order_id', 'customer_id', 'order_status', 'order_purchase_timestamp', 'order_approved_at', 'order_delivered_carrier_date', 'order_delivered_customer_date', 'order_estimated_delivery_date'] \n",
      "\n",
      "nom : order_reviews_df \n",
      " shape (99224, 7) \n",
      " colonnes : ['review_id', 'order_id', 'review_score', 'review_comment_title', 'review_comment_message', 'review_creation_date', 'review_answer_timestamp'] \n",
      "\n",
      "nom : category_name_translation_df \n",
      " shape (73, 2) \n",
      " colonnes : ['product_category_name', 'product_category_name_english'] \n",
      "\n",
      "nom : customers_df \n",
      " shape (99441, 5) \n",
      " colonnes : ['customer_id', 'customer_unique_id', 'customer_zip_code_prefix', 'customer_city', 'customer_state'] \n",
      "\n",
      "nom : order_items_df \n",
      " shape (112650, 7) \n",
      " colonnes : ['order_id', 'order_item_id', 'product_id', 'seller_id', 'shipping_limit_date', 'price', 'freight_value'] \n",
      "\n"
     ]
    }
   ],
   "source": [
    "dataframe_list = [order_payement_gby_df, products_df, sellers_df,orders_df, order_reviews_df,\n",
    "                category_name_translation_df, customers_df,order_items_df]\n",
    "for df in dataframe_list:\n",
    "    print(f\"nom : {df.name} \\n shape {df.shape} \\n colonnes : {df.columns} \\n\")"
   ]
  },
  {
   "cell_type": "code",
   "execution_count": 71,
   "id": "ecb31bcd",
   "metadata": {},
   "outputs": [
    {
     "data": {
      "text/html": [
       "<div><style>\n",
       ".dataframe > thead > tr > th,\n",
       ".dataframe > tbody > tr > td {\n",
       "  text-align: right;\n",
       "}\n",
       "</style>\n",
       "<small>shape: (7, 6)</small><table border=\"1\" class=\"dataframe\"><thead><tr><th>nom_df</th><th>nb_ligne</th><th>unicité_key_order_id</th><th>unicité_key_customer_id</th><th>unicité_key_product_id</th><th>unicité_key_product_category_name</th></tr><tr><td>str</td><td>i64</td><td>i64</td><td>i64</td><td>i64</td><td>i64</td></tr></thead><tbody><tr><td>&quot;order_payement...</td><td>99440</td><td>99440</td><td>0</td><td>0</td><td>0</td></tr><tr><td>&quot;orders_df&quot;</td><td>99441</td><td>99441</td><td>99441</td><td>0</td><td>0</td></tr><tr><td>&quot;order_reviews_...</td><td>99224</td><td>98673</td><td>0</td><td>0</td><td>0</td></tr><tr><td>&quot;order_items_df...</td><td>112650</td><td>98666</td><td>0</td><td>32951</td><td>0</td></tr><tr><td>&quot;customers_df&quot;</td><td>99441</td><td>0</td><td>99441</td><td>0</td><td>0</td></tr><tr><td>&quot;products_df&quot;</td><td>32951</td><td>0</td><td>0</td><td>32951</td><td>74</td></tr><tr><td>&quot;category_name_...</td><td>73</td><td>0</td><td>0</td><td>0</td><td>73</td></tr></tbody></table></div>"
      ],
      "text/plain": [
       "shape: (7, 6)\n",
       "┌─────────────────┬──────────┬─────────────────┬─────────────────┬────────────────┬────────────────┐\n",
       "│ nom_df          ┆ nb_ligne ┆ unicité_key_ord ┆ unicité_key_cus ┆ unicité_key_pr ┆ unicité_key_pr │\n",
       "│ ---             ┆ ---      ┆ …               ┆ …               ┆ o…             ┆ o…             │\n",
       "│ str             ┆ i64      ┆ ---             ┆ ---             ┆ ---            ┆ ---            │\n",
       "│                 ┆          ┆ i64             ┆ i64             ┆ i64            ┆ i64            │\n",
       "╞═════════════════╪══════════╪═════════════════╪═════════════════╪════════════════╪════════════════╡\n",
       "│ order_payement_ ┆ 99440    ┆ 99440           ┆ 0               ┆ 0              ┆ 0              │\n",
       "│ …               ┆          ┆                 ┆                 ┆                ┆                │\n",
       "│ orders_df       ┆ 99441    ┆ 99441           ┆ 99441           ┆ 0              ┆ 0              │\n",
       "│ order_reviews_d ┆ 99224    ┆ 98673           ┆ 0               ┆ 0              ┆ 0              │\n",
       "│ …               ┆          ┆                 ┆                 ┆                ┆                │\n",
       "│ order_items_df  ┆ 112650   ┆ 98666           ┆ 0               ┆ 32951          ┆ 0              │\n",
       "│ customers_df    ┆ 99441    ┆ 0               ┆ 99441           ┆ 0              ┆ 0              │\n",
       "│ products_df     ┆ 32951    ┆ 0               ┆ 0               ┆ 32951          ┆ 74             │\n",
       "│ category_name_t ┆ 73       ┆ 0               ┆ 0               ┆ 0              ┆ 73             │\n",
       "│ …               ┆          ┆                 ┆                 ┆                ┆                │\n",
       "└─────────────────┴──────────┴─────────────────┴─────────────────┴────────────────┴────────────────┘"
      ]
     },
     "execution_count": 71,
     "metadata": {},
     "output_type": "execute_result"
    }
   ],
   "source": [
    "columns = {'nom_df':[order_payement_gby_df.name,\n",
    "                     orders_df.name,\n",
    "                     order_reviews_df.name,\n",
    "                     order_items_df.name,\n",
    "                     customers_df.name,\n",
    "                     products_df.name,\n",
    "                     category_name_translation_df.name\n",
    "                    ],\n",
    "           \n",
    "           'nb_ligne':[order_payement_gby_df.shape[0],\n",
    "                     orders_df.shape[0],\n",
    "                     order_reviews_df.shape[0],\n",
    "                     order_items_df.shape[0],\n",
    "                     customers_df.shape[0],\n",
    "                     products_df.shape[0],\n",
    "                     category_name_translation_df.shape[0]\n",
    "                    ],\n",
    "           \n",
    "           'unicité_key_order_id' : [order_payement_gby_df['order_id'].n_unique(),\n",
    "                                     orders_df['order_id'].n_unique(),\n",
    "                                     order_reviews_df['order_id'].n_unique(),\n",
    "                                     order_items_df['order_id'].n_unique(),\n",
    "                                     0,\n",
    "                                     0,\n",
    "                                     0\n",
    "                                     ],\n",
    "           \n",
    "           'unicité_key_customer_id' : [0,\n",
    "                                        orders_df['customer_id'].n_unique(),\n",
    "                                        0,\n",
    "                                        0,\n",
    "                                        customers_df['customer_id'].n_unique(),\n",
    "                                        0,\n",
    "                                        0\n",
    "                                       ],\n",
    "           \n",
    "           'unicité_key_product_id' : [0,\n",
    "                                       0,\n",
    "                                       0,\n",
    "                                       order_items_df['product_id'].n_unique(),\n",
    "                                       0,\n",
    "                                       products_df['product_id'].n_unique(),\n",
    "                                       0\n",
    "                                    ],\n",
    "           \n",
    "           'unicité_key_product_category_name' : [0,\n",
    "                                                  0,\n",
    "                                                  0,\n",
    "                                                  0,\n",
    "                                                  0,\n",
    "                                                  products_df['product_category_name'].n_unique(),\n",
    "                                                  category_name_translation_df['product_category_name'].n_unique()\n",
    "                                                 ]\n",
    "          }\n",
    "summary_df = pl.DataFrame(columns)\n",
    "summary_df"
   ]
  },
  {
   "cell_type": "markdown",
   "id": "879fbc9e",
   "metadata": {},
   "source": [
    "# Correction jointures"
   ]
  },
  {
   "cell_type": "code",
   "execution_count": 72,
   "id": "7e6be752",
   "metadata": {},
   "outputs": [
    {
     "data": {
      "text/plain": [
       "(99441, 5)"
      ]
     },
     "execution_count": 72,
     "metadata": {},
     "output_type": "execute_result"
    }
   ],
   "source": [
    "#Nous allons commencer par costumer_id\n",
    "otis_df = customers_df.clone()\n",
    "otis_df.shape"
   ]
  },
  {
   "cell_type": "code",
   "execution_count": 73,
   "id": "56150c1a",
   "metadata": {},
   "outputs": [
    {
     "data": {
      "text/plain": [
       "(99441, 2)"
      ]
     },
     "execution_count": 73,
     "metadata": {},
     "output_type": "execute_result"
    }
   ],
   "source": [
    "#nous allons conserver que les deux premieres colonnes.\n",
    "otis_df = otis_df.drop(['customer_zip_code_prefix','customer_city','customer_state'])\n",
    "otis_df.shape"
   ]
  },
  {
   "cell_type": "code",
   "execution_count": 74,
   "id": "32aa9ab8",
   "metadata": {},
   "outputs": [
    {
     "data": {
      "text/html": [
       "<div><style>\n",
       ".dataframe > thead > tr > th,\n",
       ".dataframe > tbody > tr > td {\n",
       "  text-align: right;\n",
       "}\n",
       "</style>\n",
       "<small>shape: (5, 2)</small><table border=\"1\" class=\"dataframe\"><thead><tr><th>customer_id</th><th>customer_unique_id</th></tr><tr><td>str</td><td>str</td></tr></thead><tbody><tr><td>&quot;c3494677ed240d...</td><td>&quot;52914e4c99a1d1...</td></tr><tr><td>&quot;88337e7259fff9...</td><td>&quot;2f774604b1d18f...</td></tr><tr><td>&quot;0ee56fa64a206a...</td><td>&quot;903fbb42dd3425...</td></tr><tr><td>&quot;4074326e0b2d0d...</td><td>&quot;80e1f7ec74cb1a...</td></tr><tr><td>&quot;f3c933ff52ea52...</td><td>&quot;e62c31e923ffb2...</td></tr></tbody></table></div>"
      ],
      "text/plain": [
       "shape: (5, 2)\n",
       "┌──────────────────┬──────────────────┐\n",
       "│ customer_id      ┆ customer_unique… │\n",
       "│ ---              ┆ ---              │\n",
       "│ str              ┆ str              │\n",
       "╞══════════════════╪══════════════════╡\n",
       "│ c3494677ed240d9… ┆ 52914e4c99a1d18… │\n",
       "│ 88337e7259fff92… ┆ 2f774604b1d18f7… │\n",
       "│ 0ee56fa64a206a8… ┆ 903fbb42dd3425b… │\n",
       "│ 4074326e0b2d0dc… ┆ 80e1f7ec74cb1a0… │\n",
       "│ f3c933ff52ea525… ┆ e62c31e923ffb28… │\n",
       "└──────────────────┴──────────────────┘"
      ]
     },
     "execution_count": 74,
     "metadata": {},
     "output_type": "execute_result"
    }
   ],
   "source": [
    "otis_df.sample(5)"
   ]
  },
  {
   "cell_type": "markdown",
   "id": "4d9a2222",
   "metadata": {},
   "source": [
    "## Jointure 1"
   ]
  },
  {
   "cell_type": "raw",
   "id": "fc8f09bf",
   "metadata": {},
   "source": [
    "La jointure 1 avec :\n",
    "-orders_df : key = order_id\n",
    "recuperation (date du dernier achat via order_purchase_timestamp)\n",
    "récuperation (temps de livraison reel et estimé)"
   ]
  },
  {
   "cell_type": "code",
   "execution_count": 75,
   "id": "69641e23",
   "metadata": {},
   "outputs": [
    {
     "name": "stdout",
     "output_type": "stream",
     "text": [
      "99441\n",
      "99441\n"
     ]
    }
   ],
   "source": [
    "#Nous voulons récuperer les informations présentent dans orders_df via la clé customers_id\n",
    "print(orders_df['customer_id'].n_unique())\n",
    "print(otis_df['customer_id'].n_unique())"
   ]
  },
  {
   "cell_type": "code",
   "execution_count": 76,
   "id": "a4e34cc2",
   "metadata": {},
   "outputs": [
    {
     "data": {
      "text/plain": [
       "set()"
      ]
     },
     "execution_count": 76,
     "metadata": {},
     "output_type": "execute_result"
    }
   ],
   "source": [
    "#on verifie qu il ny a pas de difference \n",
    "A = orders_df['customer_id'].unique()\n",
    "B = otis_df['customer_id'].unique()\n",
    "diff = (set(A) ^ set(B))\n",
    "diff"
   ]
  },
  {
   "cell_type": "code",
   "execution_count": 77,
   "id": "80577e5b",
   "metadata": {},
   "outputs": [
    {
     "data": {
      "text/plain": [
       "(99441, 9)"
      ]
     },
     "execution_count": 77,
     "metadata": {},
     "output_type": "execute_result"
    }
   ],
   "source": [
    "#on peut effecter la jointure, dans ce cas inner ou left donnera un résultat identique.\n",
    "otis_df = otis_df.join(orders_df, on = 'customer_id', how = 'left')\n",
    "otis_df.shape"
   ]
  },
  {
   "cell_type": "code",
   "execution_count": 78,
   "id": "9279b0ef",
   "metadata": {},
   "outputs": [
    {
     "data": {
      "text/html": [
       "<div><style>\n",
       ".dataframe > thead > tr > th,\n",
       ".dataframe > tbody > tr > td {\n",
       "  text-align: right;\n",
       "}\n",
       "</style>\n",
       "<small>shape: (5, 9)</small><table border=\"1\" class=\"dataframe\"><thead><tr><th>customer_id</th><th>customer_unique_id</th><th>order_id</th><th>order_status</th><th>order_purchase_timestamp</th><th>order_approved_at</th><th>order_delivered_carrier_date</th><th>order_delivered_customer_date</th><th>order_estimated_delivery_date</th></tr><tr><td>str</td><td>str</td><td>str</td><td>str</td><td>datetime[μs]</td><td>datetime[μs]</td><td>datetime[μs]</td><td>datetime[μs]</td><td>datetime[μs]</td></tr></thead><tbody><tr><td>&quot;1dffde6bb897e1...</td><td>&quot;95ebae49ad8c37...</td><td>&quot;1f6c594830067e...</td><td>&quot;delivered&quot;</td><td>2017-08-04 00:00:00</td><td>2017-08-05 00:00:00</td><td>2017-08-07 00:00:00</td><td>2017-08-15 00:00:00</td><td>2017-08-28 00:00:00</td></tr><tr><td>&quot;84ff1c605abdce...</td><td>&quot;7fb41a4469f5c4...</td><td>&quot;6e3a1f3ec46461...</td><td>&quot;delivered&quot;</td><td>2017-11-21 00:00:00</td><td>2017-11-21 00:00:00</td><td>2017-11-24 00:00:00</td><td>2018-03-07 00:00:00</td><td>2017-12-12 00:00:00</td></tr><tr><td>&quot;8173c84f17bc3a...</td><td>&quot;33baf2d2d76a7b...</td><td>&quot;c3641f55c10bcf...</td><td>&quot;delivered&quot;</td><td>2017-05-30 00:00:00</td><td>2017-05-30 00:00:00</td><td>2017-06-07 00:00:00</td><td>2017-06-12 00:00:00</td><td>2017-06-27 00:00:00</td></tr><tr><td>&quot;6f1801be4cc2a6...</td><td>&quot;daa45b7f25ea8c...</td><td>&quot;54652fe6ede11a...</td><td>&quot;delivered&quot;</td><td>2018-01-25 00:00:00</td><td>2018-01-25 00:00:00</td><td>2018-01-26 00:00:00</td><td>2018-02-03 00:00:00</td><td>2018-02-20 00:00:00</td></tr><tr><td>&quot;7705c11b3c78e3...</td><td>&quot;4c4b5dc90eb4e3...</td><td>&quot;bb217942f3a814...</td><td>&quot;delivered&quot;</td><td>2018-04-06 00:00:00</td><td>2018-04-09 00:00:00</td><td>2018-04-11 00:00:00</td><td>2018-04-12 00:00:00</td><td>2018-04-19 00:00:00</td></tr></tbody></table></div>"
      ],
      "text/plain": [
       "shape: (5, 9)\n",
       "┌───────────┬────────────┬────┬────────────┬───┬────────────┬────────────┬────────────┬────────────┐\n",
       "│ customer_ ┆ customer_u ┆ or ┆ order_stat ┆ … ┆ order_appr ┆ order_deli ┆ order_deli ┆ order_esti │\n",
       "│ id        ┆ nique…     ┆ de ┆ us         ┆   ┆ oved_…     ┆ vered…     ┆ vered…     ┆ mated…     │\n",
       "│ ---       ┆ ---        ┆ r_ ┆ ---        ┆   ┆ ---        ┆ ---        ┆ ---        ┆ ---        │\n",
       "│ str       ┆ str        ┆ id ┆ str        ┆   ┆ datetime[μ ┆ datetime[μ ┆ datetime[μ ┆ datetime[μ │\n",
       "│           ┆            ┆ -- ┆            ┆   ┆ s]         ┆ s]         ┆ s]         ┆ s]         │\n",
       "│           ┆            ┆ -  ┆            ┆   ┆            ┆            ┆            ┆            │\n",
       "│           ┆            ┆ st ┆            ┆   ┆            ┆            ┆            ┆            │\n",
       "│           ┆            ┆ r  ┆            ┆   ┆            ┆            ┆            ┆            │\n",
       "╞═══════════╪════════════╪════╪════════════╪═══╪════════════╪════════════╪════════════╪════════════╡\n",
       "│ 1dffde6bb ┆ 95ebae49ad ┆ 1f ┆ delivered  ┆ … ┆ 2017-08-05 ┆ 2017-08-07 ┆ 2017-08-15 ┆ 2017-08-28 │\n",
       "│ 897e1c…   ┆ 8c377…     ┆ 6c ┆            ┆   ┆ 00:0…      ┆ 00:0…      ┆ 00:0…      ┆ 00:0…      │\n",
       "│           ┆            ┆ 59 ┆            ┆   ┆            ┆            ┆            ┆            │\n",
       "│           ┆            ┆ 48 ┆            ┆   ┆            ┆            ┆            ┆            │\n",
       "│           ┆            ┆ 30 ┆            ┆   ┆            ┆            ┆            ┆            │\n",
       "│           ┆            ┆ 06 ┆            ┆   ┆            ┆            ┆            ┆            │\n",
       "│           ┆            ┆ 7e ┆            ┆   ┆            ┆            ┆            ┆            │\n",
       "│           ┆            ┆ 5… ┆            ┆   ┆            ┆            ┆            ┆            │\n",
       "│ 84ff1c605 ┆ 7fb41a4469 ┆ 6e ┆ delivered  ┆ … ┆ 2017-11-21 ┆ 2017-11-24 ┆ 2018-03-07 ┆ 2017-12-12 │\n",
       "│ abdcec…   ┆ f5c43…     ┆ 3a ┆            ┆   ┆ 00:0…      ┆ 00:0…      ┆ 00:0…      ┆ 00:0…      │\n",
       "│           ┆            ┆ 1f ┆            ┆   ┆            ┆            ┆            ┆            │\n",
       "│           ┆            ┆ 3e ┆            ┆   ┆            ┆            ┆            ┆            │\n",
       "│           ┆            ┆ c4 ┆            ┆   ┆            ┆            ┆            ┆            │\n",
       "│           ┆            ┆ 64 ┆            ┆   ┆            ┆            ┆            ┆            │\n",
       "│           ┆            ┆ 61 ┆            ┆   ┆            ┆            ┆            ┆            │\n",
       "│           ┆            ┆ 7… ┆            ┆   ┆            ┆            ┆            ┆            │\n",
       "│ 8173c84f1 ┆ 33baf2d2d7 ┆ c3 ┆ delivered  ┆ … ┆ 2017-05-30 ┆ 2017-06-07 ┆ 2017-06-12 ┆ 2017-06-27 │\n",
       "│ 7bc3ac…   ┆ 6a7bf…     ┆ 64 ┆            ┆   ┆ 00:0…      ┆ 00:0…      ┆ 00:0…      ┆ 00:0…      │\n",
       "│           ┆            ┆ 1f ┆            ┆   ┆            ┆            ┆            ┆            │\n",
       "│           ┆            ┆ 55 ┆            ┆   ┆            ┆            ┆            ┆            │\n",
       "│           ┆            ┆ c1 ┆            ┆   ┆            ┆            ┆            ┆            │\n",
       "│           ┆            ┆ 0b ┆            ┆   ┆            ┆            ┆            ┆            │\n",
       "│           ┆            ┆ cf ┆            ┆   ┆            ┆            ┆            ┆            │\n",
       "│           ┆            ┆ a… ┆            ┆   ┆            ┆            ┆            ┆            │\n",
       "│ 6f1801be4 ┆ daa45b7f25 ┆ 54 ┆ delivered  ┆ … ┆ 2018-01-25 ┆ 2018-01-26 ┆ 2018-02-03 ┆ 2018-02-20 │\n",
       "│ cc2a6f…   ┆ ea8c6…     ┆ 65 ┆            ┆   ┆ 00:0…      ┆ 00:0…      ┆ 00:0…      ┆ 00:0…      │\n",
       "│           ┆            ┆ 2f ┆            ┆   ┆            ┆            ┆            ┆            │\n",
       "│           ┆            ┆ e6 ┆            ┆   ┆            ┆            ┆            ┆            │\n",
       "│           ┆            ┆ ed ┆            ┆   ┆            ┆            ┆            ┆            │\n",
       "│           ┆            ┆ e1 ┆            ┆   ┆            ┆            ┆            ┆            │\n",
       "│           ┆            ┆ 1a ┆            ┆   ┆            ┆            ┆            ┆            │\n",
       "│           ┆            ┆ d… ┆            ┆   ┆            ┆            ┆            ┆            │\n",
       "│ 7705c11b3 ┆ 4c4b5dc90e ┆ bb ┆ delivered  ┆ … ┆ 2018-04-09 ┆ 2018-04-11 ┆ 2018-04-12 ┆ 2018-04-19 │\n",
       "│ c78e3b…   ┆ b4e33…     ┆ 21 ┆            ┆   ┆ 00:0…      ┆ 00:0…      ┆ 00:0…      ┆ 00:0…      │\n",
       "│           ┆            ┆ 79 ┆            ┆   ┆            ┆            ┆            ┆            │\n",
       "│           ┆            ┆ 42 ┆            ┆   ┆            ┆            ┆            ┆            │\n",
       "│           ┆            ┆ f3 ┆            ┆   ┆            ┆            ┆            ┆            │\n",
       "│           ┆            ┆ a8 ┆            ┆   ┆            ┆            ┆            ┆            │\n",
       "│           ┆            ┆ 14 ┆            ┆   ┆            ┆            ┆            ┆            │\n",
       "│           ┆            ┆ 2… ┆            ┆   ┆            ┆            ┆            ┆            │\n",
       "└───────────┴────────────┴────┴────────────┴───┴────────────┴────────────┴────────────┴────────────┘"
      ]
     },
     "execution_count": 78,
     "metadata": {},
     "output_type": "execute_result"
    }
   ],
   "source": [
    "otis_df.sample(5)"
   ]
  },
  {
   "cell_type": "code",
   "execution_count": 79,
   "id": "2e596d69",
   "metadata": {},
   "outputs": [
    {
     "data": {
      "text/plain": [
       "99441"
      ]
     },
     "execution_count": 79,
     "metadata": {},
     "output_type": "execute_result"
    }
   ],
   "source": [
    "#nous avons récuperer la cle order_id\n",
    "otis_df['order_id'].n_unique()"
   ]
  },
  {
   "cell_type": "raw",
   "id": "a6187c5a",
   "metadata": {},
   "source": [
    "pour un customer_id nous avons un order_id"
   ]
  },
  {
   "cell_type": "markdown",
   "id": "b2e44643",
   "metadata": {},
   "source": [
    "## Jointure 2 "
   ]
  },
  {
   "cell_type": "code",
   "execution_count": 80,
   "id": "9332c002",
   "metadata": {},
   "outputs": [
    {
     "name": "stdout",
     "output_type": "stream",
     "text": [
      "99441\n",
      "99441\n"
     ]
    }
   ],
   "source": [
    "print(otis_df['order_id'].n_unique())\n",
    "print(otis_df['customer_id'].n_unique())"
   ]
  },
  {
   "cell_type": "raw",
   "id": "50cb40be",
   "metadata": {},
   "source": [
    "jointure 2 : \n",
    "order_payement_gby_df : key order_id\n",
    "Nous voulons récupere le montant des paiements"
   ]
  },
  {
   "cell_type": "code",
   "execution_count": 81,
   "id": "b9ceea88",
   "metadata": {},
   "outputs": [
    {
     "data": {
      "text/plain": [
       "{'bfbd0f9bdef84302105ad712db648a6c'}"
      ]
     },
     "execution_count": 81,
     "metadata": {},
     "output_type": "execute_result"
    }
   ],
   "source": [
    "#difference order_id\n",
    "A = otis_df['order_id'].unique()\n",
    "B = order_payement_gby_df['order_id'].unique()\n",
    "diff = (set(A) ^ set(B))\n",
    "diff"
   ]
  },
  {
   "cell_type": "raw",
   "id": "939aad3b",
   "metadata": {},
   "source": [
    "Nous retrouvons bien notre élément manquant\n",
    "donc nous allons faire une jointure interne et perdre cette observation"
   ]
  },
  {
   "cell_type": "code",
   "execution_count": 82,
   "id": "c0fa1c08",
   "metadata": {
    "scrolled": true
   },
   "outputs": [
    {
     "data": {
      "text/plain": [
       "(99440, 11)"
      ]
     },
     "execution_count": 82,
     "metadata": {},
     "output_type": "execute_result"
    }
   ],
   "source": [
    "otis_df = otis_df.join(order_payement_gby_df, on = 'order_id', how = 'inner')\n",
    "otis_df.shape"
   ]
  },
  {
   "cell_type": "code",
   "execution_count": 83,
   "id": "54fb8d19",
   "metadata": {},
   "outputs": [
    {
     "data": {
      "text/html": [
       "<div><style>\n",
       ".dataframe > thead > tr > th,\n",
       ".dataframe > tbody > tr > td {\n",
       "  text-align: right;\n",
       "}\n",
       "</style>\n",
       "<small>shape: (5, 11)</small><table border=\"1\" class=\"dataframe\"><thead><tr><th>customer_id</th><th>customer_unique_id</th><th>order_id</th><th>order_status</th><th>order_purchase_timestamp</th><th>order_approved_at</th><th>order_delivered_carrier_date</th><th>order_delivered_customer_date</th><th>order_estimated_delivery_date</th><th>paiement_total</th><th>nbre_versements</th></tr><tr><td>str</td><td>str</td><td>str</td><td>str</td><td>datetime[μs]</td><td>datetime[μs]</td><td>datetime[μs]</td><td>datetime[μs]</td><td>datetime[μs]</td><td>f64</td><td>f64</td></tr></thead><tbody><tr><td>&quot;25d1a8eaa40b15...</td><td>&quot;690c7559d9d62f...</td><td>&quot;0301ec492e902f...</td><td>&quot;delivered&quot;</td><td>2017-08-30 00:00:00</td><td>2017-08-30 00:00:00</td><td>2017-08-31 00:00:00</td><td>2017-09-26 00:00:00</td><td>2017-10-03 00:00:00</td><td>379.2</td><td>3.0</td></tr><tr><td>&quot;d51f51313fb030...</td><td>&quot;2d6df557089ee2...</td><td>&quot;cd201e0f6a3713...</td><td>&quot;delivered&quot;</td><td>2018-07-17 00:00:00</td><td>2018-07-17 00:00:00</td><td>2018-07-18 00:00:00</td><td>2018-07-24 00:00:00</td><td>2018-08-13 00:00:00</td><td>231.33</td><td>1.0</td></tr><tr><td>&quot;b39def105bd70f...</td><td>&quot;bbc4a49cc4f473...</td><td>&quot;8dac680ab12462...</td><td>&quot;delivered&quot;</td><td>2017-03-20 00:00:00</td><td>2017-03-20 00:00:00</td><td>2017-04-04 00:00:00</td><td>2017-04-07 00:00:00</td><td>2017-04-18 00:00:00</td><td>142.05</td><td>6.0</td></tr><tr><td>&quot;588047d7101d88...</td><td>&quot;12f5d6e1cbf93d...</td><td>&quot;ca5a2159806754...</td><td>&quot;delivered&quot;</td><td>2017-01-05 00:00:00</td><td>2017-01-07 00:00:00</td><td>2017-01-11 00:00:00</td><td>2017-01-17 00:00:00</td><td>2017-02-01 00:00:00</td><td>19.62</td><td>1.0</td></tr><tr><td>&quot;05c7cc5968be57...</td><td>&quot;46a1106aac449c...</td><td>&quot;d28830771e7974...</td><td>&quot;delivered&quot;</td><td>2018-01-19 00:00:00</td><td>2018-01-19 00:00:00</td><td>2018-01-25 00:00:00</td><td>2018-01-26 00:00:00</td><td>2018-02-05 00:00:00</td><td>80.45</td><td>2.0</td></tr></tbody></table></div>"
      ],
      "text/plain": [
       "shape: (5, 11)\n",
       "┌───────────┬────────────┬────┬────────────┬───┬────────────┬────────────┬────────────┬────────────┐\n",
       "│ customer_ ┆ customer_u ┆ or ┆ order_stat ┆ … ┆ order_deli ┆ order_esti ┆ paiement_t ┆ nbre_verse │\n",
       "│ id        ┆ nique…     ┆ de ┆ us         ┆   ┆ vered…     ┆ mated…     ┆ otal       ┆ ments      │\n",
       "│ ---       ┆ ---        ┆ r_ ┆ ---        ┆   ┆ ---        ┆ ---        ┆ ---        ┆ ---        │\n",
       "│ str       ┆ str        ┆ id ┆ str        ┆   ┆ datetime[μ ┆ datetime[μ ┆ f64        ┆ f64        │\n",
       "│           ┆            ┆ -- ┆            ┆   ┆ s]         ┆ s]         ┆            ┆            │\n",
       "│           ┆            ┆ -  ┆            ┆   ┆            ┆            ┆            ┆            │\n",
       "│           ┆            ┆ st ┆            ┆   ┆            ┆            ┆            ┆            │\n",
       "│           ┆            ┆ r  ┆            ┆   ┆            ┆            ┆            ┆            │\n",
       "╞═══════════╪════════════╪════╪════════════╪═══╪════════════╪════════════╪════════════╪════════════╡\n",
       "│ 25d1a8eaa ┆ 690c7559d9 ┆ 03 ┆ delivered  ┆ … ┆ 2017-09-26 ┆ 2017-10-03 ┆ 379.2      ┆ 3.0        │\n",
       "│ 40b155…   ┆ d62f2…     ┆ 01 ┆            ┆   ┆ 00:0…      ┆ 00:0…      ┆            ┆            │\n",
       "│           ┆            ┆ ec ┆            ┆   ┆            ┆            ┆            ┆            │\n",
       "│           ┆            ┆ 49 ┆            ┆   ┆            ┆            ┆            ┆            │\n",
       "│           ┆            ┆ 2e ┆            ┆   ┆            ┆            ┆            ┆            │\n",
       "│           ┆            ┆ 90 ┆            ┆   ┆            ┆            ┆            ┆            │\n",
       "│           ┆            ┆ 2f ┆            ┆   ┆            ┆            ┆            ┆            │\n",
       "│           ┆            ┆ 2… ┆            ┆   ┆            ┆            ┆            ┆            │\n",
       "│ d51f51313 ┆ 2d6df55708 ┆ cd ┆ delivered  ┆ … ┆ 2018-07-24 ┆ 2018-08-13 ┆ 231.33     ┆ 1.0        │\n",
       "│ fb0308…   ┆ 9ee20…     ┆ 20 ┆            ┆   ┆ 00:0…      ┆ 00:0…      ┆            ┆            │\n",
       "│           ┆            ┆ 1e ┆            ┆   ┆            ┆            ┆            ┆            │\n",
       "│           ┆            ┆ 0f ┆            ┆   ┆            ┆            ┆            ┆            │\n",
       "│           ┆            ┆ 6a ┆            ┆   ┆            ┆            ┆            ┆            │\n",
       "│           ┆            ┆ 37 ┆            ┆   ┆            ┆            ┆            ┆            │\n",
       "│           ┆            ┆ 13 ┆            ┆   ┆            ┆            ┆            ┆            │\n",
       "│           ┆            ┆ 9… ┆            ┆   ┆            ┆            ┆            ┆            │\n",
       "│ b39def105 ┆ bbc4a49cc4 ┆ 8d ┆ delivered  ┆ … ┆ 2017-04-07 ┆ 2017-04-18 ┆ 142.05     ┆ 6.0        │\n",
       "│ bd70f6…   ┆ f4730…     ┆ ac ┆            ┆   ┆ 00:0…      ┆ 00:0…      ┆            ┆            │\n",
       "│           ┆            ┆ 68 ┆            ┆   ┆            ┆            ┆            ┆            │\n",
       "│           ┆            ┆ 0a ┆            ┆   ┆            ┆            ┆            ┆            │\n",
       "│           ┆            ┆ b1 ┆            ┆   ┆            ┆            ┆            ┆            │\n",
       "│           ┆            ┆ 24 ┆            ┆   ┆            ┆            ┆            ┆            │\n",
       "│           ┆            ┆ 62 ┆            ┆   ┆            ┆            ┆            ┆            │\n",
       "│           ┆            ┆ 1… ┆            ┆   ┆            ┆            ┆            ┆            │\n",
       "│ 588047d71 ┆ 12f5d6e1cb ┆ ca ┆ delivered  ┆ … ┆ 2017-01-17 ┆ 2017-02-01 ┆ 19.62      ┆ 1.0        │\n",
       "│ 01d88c…   ┆ f93da…     ┆ 5a ┆            ┆   ┆ 00:0…      ┆ 00:0…      ┆            ┆            │\n",
       "│           ┆            ┆ 21 ┆            ┆   ┆            ┆            ┆            ┆            │\n",
       "│           ┆            ┆ 59 ┆            ┆   ┆            ┆            ┆            ┆            │\n",
       "│           ┆            ┆ 80 ┆            ┆   ┆            ┆            ┆            ┆            │\n",
       "│           ┆            ┆ 67 ┆            ┆   ┆            ┆            ┆            ┆            │\n",
       "│           ┆            ┆ 54 ┆            ┆   ┆            ┆            ┆            ┆            │\n",
       "│           ┆            ┆ 7… ┆            ┆   ┆            ┆            ┆            ┆            │\n",
       "│ 05c7cc596 ┆ 46a1106aac ┆ d2 ┆ delivered  ┆ … ┆ 2018-01-26 ┆ 2018-02-05 ┆ 80.45      ┆ 2.0        │\n",
       "│ 8be57b…   ┆ 449c9…     ┆ 88 ┆            ┆   ┆ 00:0…      ┆ 00:0…      ┆            ┆            │\n",
       "│           ┆            ┆ 30 ┆            ┆   ┆            ┆            ┆            ┆            │\n",
       "│           ┆            ┆ 77 ┆            ┆   ┆            ┆            ┆            ┆            │\n",
       "│           ┆            ┆ 1e ┆            ┆   ┆            ┆            ┆            ┆            │\n",
       "│           ┆            ┆ 79 ┆            ┆   ┆            ┆            ┆            ┆            │\n",
       "│           ┆            ┆ 74 ┆            ┆   ┆            ┆            ┆            ┆            │\n",
       "│           ┆            ┆ 5… ┆            ┆   ┆            ┆            ┆            ┆            │\n",
       "└───────────┴────────────┴────┴────────────┴───┴────────────┴────────────┴────────────┴────────────┘"
      ]
     },
     "execution_count": 83,
     "metadata": {},
     "output_type": "execute_result"
    }
   ],
   "source": [
    "otis_df.sample(5)"
   ]
  },
  {
   "cell_type": "markdown",
   "id": "137d0d62",
   "metadata": {},
   "source": [
    "# Jointure 3"
   ]
  },
  {
   "cell_type": "code",
   "execution_count": 84,
   "id": "46219592",
   "metadata": {},
   "outputs": [
    {
     "name": "stdout",
     "output_type": "stream",
     "text": [
      "99440\n",
      "99440\n"
     ]
    }
   ],
   "source": [
    "print(otis_df['order_id'].n_unique())\n",
    "print(otis_df['customer_id'].n_unique())"
   ]
  },
  {
   "cell_type": "raw",
   "id": "4b113d1c",
   "metadata": {},
   "source": [
    "jointure 3 : \n",
    "order_reviews_df : key order_id\n",
    "Nous récupérons review_score"
   ]
  },
  {
   "cell_type": "code",
   "execution_count": 85,
   "id": "972bdcf7",
   "metadata": {},
   "outputs": [
    {
     "name": "stdout",
     "output_type": "stream",
     "text": [
      "(99224, 7)\n",
      "98673\n"
     ]
    }
   ],
   "source": [
    "print(order_reviews_df.shape)\n",
    "print(order_reviews_df['order_id'].n_unique())"
   ]
  },
  {
   "cell_type": "code",
   "execution_count": 86,
   "id": "4c3e1a36",
   "metadata": {},
   "outputs": [
    {
     "data": {
      "text/plain": [
       "(98673, 3)"
      ]
     },
     "execution_count": 86,
     "metadata": {},
     "output_type": "execute_result"
    }
   ],
   "source": [
    "#On remarque que pour cette table il y des doublons pour les order_i\n",
    "#pour la jointure nous allons creer des une table temporaire avec unicité sur la colonne order_id\n",
    "df_temp = order_reviews_df.groupby('order_id').agg([pl.col('review_id').count()\\\n",
    "                                                   .alias('nb_review'),\n",
    "                                                   pl.col('review_score').mean()\\\n",
    "                                                   .alias('review_score_moyen')])\n",
    "df_temp.shape"
   ]
  },
  {
   "cell_type": "code",
   "execution_count": 87,
   "id": "630efaf1",
   "metadata": {},
   "outputs": [
    {
     "data": {
      "text/plain": [
       "769"
      ]
     },
     "execution_count": 87,
     "metadata": {},
     "output_type": "execute_result"
    }
   ],
   "source": [
    "#diff order_id\n",
    "A = otis_df['order_id'].unique()\n",
    "B = df_temp['order_id'].unique()\n",
    "diff = (set(A) ^ set(B))\n",
    "len(diff)"
   ]
  },
  {
   "cell_type": "code",
   "execution_count": 88,
   "id": "90284075",
   "metadata": {},
   "outputs": [
    {
     "data": {
      "text/plain": [
       "99442"
      ]
     },
     "execution_count": 88,
     "metadata": {},
     "output_type": "execute_result"
    }
   ],
   "source": [
    "98673 + 769 "
   ]
  },
  {
   "cell_type": "code",
   "execution_count": 89,
   "id": "14f66fdc",
   "metadata": {},
   "outputs": [
    {
     "data": {
      "text/plain": [
       "(99440, 13)"
      ]
     },
     "execution_count": 89,
     "metadata": {},
     "output_type": "execute_result"
    }
   ],
   "source": [
    "#jointure\n",
    "otis_df = otis_df.join(df_temp, on ='order_id', how = 'left')\n",
    "otis_df.shape"
   ]
  },
  {
   "cell_type": "code",
   "execution_count": 90,
   "id": "b4b5d53c",
   "metadata": {},
   "outputs": [
    {
     "data": {
      "text/html": [
       "<div><style>\n",
       ".dataframe > thead > tr > th,\n",
       ".dataframe > tbody > tr > td {\n",
       "  text-align: right;\n",
       "}\n",
       "</style>\n",
       "<small>shape: (5, 13)</small><table border=\"1\" class=\"dataframe\"><thead><tr><th>customer_id</th><th>customer_unique_id</th><th>order_id</th><th>order_status</th><th>order_purchase_timestamp</th><th>order_approved_at</th><th>order_delivered_carrier_date</th><th>order_delivered_customer_date</th><th>order_estimated_delivery_date</th><th>paiement_total</th><th>nbre_versements</th><th>nb_review</th><th>review_score_moyen</th></tr><tr><td>str</td><td>str</td><td>str</td><td>str</td><td>datetime[μs]</td><td>datetime[μs]</td><td>datetime[μs]</td><td>datetime[μs]</td><td>datetime[μs]</td><td>f64</td><td>f64</td><td>u32</td><td>f64</td></tr></thead><tbody><tr><td>&quot;600b59b21a6146...</td><td>&quot;8ea39d60504cd4...</td><td>&quot;60b38cffd151d7...</td><td>&quot;delivered&quot;</td><td>2018-07-17 00:00:00</td><td>2018-07-17 00:00:00</td><td>2018-07-19 00:00:00</td><td>2018-07-25 00:00:00</td><td>2018-08-07 00:00:00</td><td>199.02</td><td>10.0</td><td>1</td><td>5.0</td></tr><tr><td>&quot;bc7bbbadd46cdc...</td><td>&quot;86dc144a0c132b...</td><td>&quot;602974d0aef195...</td><td>&quot;delivered&quot;</td><td>2018-06-12 00:00:00</td><td>2018-06-13 00:00:00</td><td>2018-06-14 00:00:00</td><td>2018-06-29 00:00:00</td><td>2018-07-18 00:00:00</td><td>81.65</td><td>1.0</td><td>1</td><td>5.0</td></tr><tr><td>&quot;e14caae45d0f7c...</td><td>&quot;5d2cc2ec0299e3...</td><td>&quot;580bac61d7bdc3...</td><td>&quot;delivered&quot;</td><td>2018-01-12 00:00:00</td><td>2018-01-12 00:00:00</td><td>2018-01-15 00:00:00</td><td>2018-01-29 00:00:00</td><td>2018-02-09 00:00:00</td><td>32.0</td><td>1.0</td><td>1</td><td>5.0</td></tr><tr><td>&quot;37ed0b3fa78fab...</td><td>&quot;7f5d40ff4a466d...</td><td>&quot;0de9e77cb84163...</td><td>&quot;delivered&quot;</td><td>2017-08-13 00:00:00</td><td>2017-08-13 00:00:00</td><td>2017-08-14 00:00:00</td><td>2017-09-14 00:00:00</td><td>2017-09-08 00:00:00</td><td>50.6</td><td>1.0</td><td>1</td><td>4.0</td></tr><tr><td>&quot;610c70a5e997a8...</td><td>&quot;a7c9c26daf4a6a...</td><td>&quot;4fb5f75a2ff520...</td><td>&quot;delivered&quot;</td><td>2017-09-07 00:00:00</td><td>2017-09-07 00:00:00</td><td>2017-09-12 00:00:00</td><td>2017-09-13 00:00:00</td><td>2017-09-26 00:00:00</td><td>715.28</td><td>10.0</td><td>1</td><td>5.0</td></tr></tbody></table></div>"
      ],
      "text/plain": [
       "shape: (5, 13)\n",
       "┌───────────┬────────────┬───────┬────────────┬───┬────────────┬────────────┬─────────┬────────────┐\n",
       "│ customer_ ┆ customer_u ┆ order ┆ order_stat ┆ … ┆ paiement_t ┆ nbre_verse ┆ nb_revi ┆ review_sco │\n",
       "│ id        ┆ nique…     ┆ _id   ┆ us         ┆   ┆ otal       ┆ ments      ┆ ew      ┆ re_mo…     │\n",
       "│ ---       ┆ ---        ┆ ---   ┆ ---        ┆   ┆ ---        ┆ ---        ┆ ---     ┆ ---        │\n",
       "│ str       ┆ str        ┆ str   ┆ str        ┆   ┆ f64        ┆ f64        ┆ u32     ┆ f64        │\n",
       "╞═══════════╪════════════╪═══════╪════════════╪═══╪════════════╪════════════╪═════════╪════════════╡\n",
       "│ 600b59b21 ┆ 8ea39d6050 ┆ 60b38 ┆ delivered  ┆ … ┆ 199.02     ┆ 10.0       ┆ 1       ┆ 5.0        │\n",
       "│ a61468…   ┆ 4cd43…     ┆ cffd1 ┆            ┆   ┆            ┆            ┆         ┆            │\n",
       "│           ┆            ┆ 51d75 ┆            ┆   ┆            ┆            ┆         ┆            │\n",
       "│           ┆            ┆ …     ┆            ┆   ┆            ┆            ┆         ┆            │\n",
       "│ bc7bbbadd ┆ 86dc144a0c ┆ 60297 ┆ delivered  ┆ … ┆ 81.65      ┆ 1.0        ┆ 1       ┆ 5.0        │\n",
       "│ 46cdca…   ┆ 132b7…     ┆ 4d0ae ┆            ┆   ┆            ┆            ┆         ┆            │\n",
       "│           ┆            ┆ f1955 ┆            ┆   ┆            ┆            ┆         ┆            │\n",
       "│           ┆            ┆ …     ┆            ┆   ┆            ┆            ┆         ┆            │\n",
       "│ e14caae45 ┆ 5d2cc2ec02 ┆ 580ba ┆ delivered  ┆ … ┆ 32.0       ┆ 1.0        ┆ 1       ┆ 5.0        │\n",
       "│ d0f7c4…   ┆ 99e34…     ┆ c61d7 ┆            ┆   ┆            ┆            ┆         ┆            │\n",
       "│           ┆            ┆ bdc34 ┆            ┆   ┆            ┆            ┆         ┆            │\n",
       "│           ┆            ┆ …     ┆            ┆   ┆            ┆            ┆         ┆            │\n",
       "│ 37ed0b3fa ┆ 7f5d40ff4a ┆ 0de9e ┆ delivered  ┆ … ┆ 50.6       ┆ 1.0        ┆ 1       ┆ 4.0        │\n",
       "│ 78fab5…   ┆ 466d2…     ┆ 77cb8 ┆            ┆   ┆            ┆            ┆         ┆            │\n",
       "│           ┆            ┆ 41639 ┆            ┆   ┆            ┆            ┆         ┆            │\n",
       "│           ┆            ┆ …     ┆            ┆   ┆            ┆            ┆         ┆            │\n",
       "│ 610c70a5e ┆ a7c9c26daf ┆ 4fb5f ┆ delivered  ┆ … ┆ 715.28     ┆ 10.0       ┆ 1       ┆ 5.0        │\n",
       "│ 997a82…   ┆ 4a6a9…     ┆ 75a2f ┆            ┆   ┆            ┆            ┆         ┆            │\n",
       "│           ┆            ┆ f520a ┆            ┆   ┆            ┆            ┆         ┆            │\n",
       "│           ┆            ┆ …     ┆            ┆   ┆            ┆            ┆         ┆            │\n",
       "└───────────┴────────────┴───────┴────────────┴───┴────────────┴────────────┴─────────┴────────────┘"
      ]
     },
     "execution_count": 90,
     "metadata": {},
     "output_type": "execute_result"
    }
   ],
   "source": [
    "otis_df.sample(5)"
   ]
  },
  {
   "cell_type": "markdown",
   "id": "5f4eaaf0",
   "metadata": {},
   "source": [
    "## Jointure 4 "
   ]
  },
  {
   "cell_type": "code",
   "execution_count": 91,
   "id": "25f9504b",
   "metadata": {},
   "outputs": [
    {
     "name": "stdout",
     "output_type": "stream",
     "text": [
      "99440\n",
      "99440\n"
     ]
    }
   ],
   "source": [
    "print(otis_df['order_id'].n_unique())\n",
    "print(otis_df['customer_id'].n_unique())"
   ]
  },
  {
   "cell_type": "raw",
   "id": "ecd327e9",
   "metadata": {},
   "source": [
    "jointure 4 : \n",
    "order_items_df_df : key order_id\n",
    "Nous récupérons nombre de produit acheté pour la commande : items_order"
   ]
  },
  {
   "cell_type": "code",
   "execution_count": 92,
   "id": "6c500dc5",
   "metadata": {},
   "outputs": [
    {
     "data": {
      "text/html": [
       "<div><style>\n",
       ".dataframe > thead > tr > th,\n",
       ".dataframe > tbody > tr > td {\n",
       "  text-align: right;\n",
       "}\n",
       "</style>\n",
       "<small>shape: (5, 7)</small><table border=\"1\" class=\"dataframe\"><thead><tr><th>order_id</th><th>order_item_id</th><th>product_id</th><th>seller_id</th><th>shipping_limit_date</th><th>price</th><th>freight_value</th></tr><tr><td>str</td><td>i64</td><td>str</td><td>str</td><td>datetime[μs]</td><td>f64</td><td>f64</td></tr></thead><tbody><tr><td>&quot;11a4c9d2fc6b4d...</td><td>1</td><td>&quot;dbb4ce89c8ed5f...</td><td>&quot;91f848e9f4be36...</td><td>2017-04-11 00:00:00</td><td>84.99</td><td>18.87</td></tr><tr><td>&quot;e3ed3328649014...</td><td>2</td><td>&quot;9fd9505539e1c6...</td><td>&quot;f46490624488d3...</td><td>2018-06-20 00:00:00</td><td>34.9</td><td>11.26</td></tr><tr><td>&quot;edcde7cec7551b...</td><td>1</td><td>&quot;48b099f6925c19...</td><td>&quot;822166ed1e4790...</td><td>2018-01-23 00:00:00</td><td>34.9</td><td>44.2</td></tr><tr><td>&quot;a2ad11ea44d93d...</td><td>1</td><td>&quot;a869ec6209c361...</td><td>&quot;c3cfdc648177fd...</td><td>2017-12-19 00:00:00</td><td>150.0</td><td>14.16</td></tr><tr><td>&quot;9f101be6d0a10c...</td><td>1</td><td>&quot;53759a2ecddad2...</td><td>&quot;1f50f920176fa8...</td><td>2017-08-11 00:00:00</td><td>59.9</td><td>13.44</td></tr></tbody></table></div>"
      ],
      "text/plain": [
       "shape: (5, 7)\n",
       "┌───────────────┬──────────────┬──────────────┬──────────────┬──────────────┬───────┬──────────────┐\n",
       "│ order_id      ┆ order_item_i ┆ product_id   ┆ seller_id    ┆ shipping_lim ┆ price ┆ freight_valu │\n",
       "│ ---           ┆ d            ┆ ---          ┆ ---          ┆ it_…         ┆ ---   ┆ e            │\n",
       "│ str           ┆ ---          ┆ str          ┆ str          ┆ ---          ┆ f64   ┆ ---          │\n",
       "│               ┆ i64          ┆              ┆              ┆ datetime[μs] ┆       ┆ f64          │\n",
       "╞═══════════════╪══════════════╪══════════════╪══════════════╪══════════════╪═══════╪══════════════╡\n",
       "│ 11a4c9d2fc6b4 ┆ 1            ┆ dbb4ce89c8ed ┆ 91f848e9f4be ┆ 2017-04-11   ┆ 84.99 ┆ 18.87        │\n",
       "│ d2…           ┆              ┆ 5fb…         ┆ 368…         ┆ 00:0…        ┆       ┆              │\n",
       "│ e3ed332864901 ┆ 2            ┆ 9fd9505539e1 ┆ f46490624488 ┆ 2018-06-20   ┆ 34.9  ┆ 11.26        │\n",
       "│ 40…           ┆              ┆ c67…         ┆ d3f…         ┆ 00:0…        ┆       ┆              │\n",
       "│ edcde7cec7551 ┆ 1            ┆ 48b099f6925c ┆ 822166ed1e47 ┆ 2018-01-23   ┆ 34.9  ┆ 44.2         │\n",
       "│ bf…           ┆              ┆ 19d…         ┆ 908…         ┆ 00:0…        ┆       ┆              │\n",
       "│ a2ad11ea44d93 ┆ 1            ┆ a869ec6209c3 ┆ c3cfdc648177 ┆ 2017-12-19   ┆ 150.0 ┆ 14.16        │\n",
       "│ d9…           ┆              ┆ 61c…         ┆ fdb…         ┆ 00:0…        ┆       ┆              │\n",
       "│ 9f101be6d0a10 ┆ 1            ┆ 53759a2ecdda ┆ 1f50f920176f ┆ 2017-08-11   ┆ 59.9  ┆ 13.44        │\n",
       "│ cb…           ┆              ┆ d2b…         ┆ a81…         ┆ 00:0…        ┆       ┆              │\n",
       "└───────────────┴──────────────┴──────────────┴──────────────┴──────────────┴───────┴──────────────┘"
      ]
     },
     "execution_count": 92,
     "metadata": {},
     "output_type": "execute_result"
    }
   ],
   "source": [
    "order_items_df.sample(5)"
   ]
  },
  {
   "cell_type": "code",
   "execution_count": 93,
   "id": "30b2c242",
   "metadata": {},
   "outputs": [
    {
     "name": "stdout",
     "output_type": "stream",
     "text": [
      "(112650, 7)\n",
      "98666\n",
      "32951\n"
     ]
    }
   ],
   "source": [
    "#vérification des unicité:\n",
    "print(order_items_df.shape)\n",
    "print(order_items_df['order_id'].n_unique())\n",
    "print(order_items_df['product_id'].n_unique())"
   ]
  },
  {
   "cell_type": "code",
   "execution_count": 94,
   "id": "0b1b03bf",
   "metadata": {},
   "outputs": [
    {
     "data": {
      "text/html": [
       "<div><style>\n",
       ".dataframe > thead > tr > th,\n",
       ".dataframe > tbody > tr > td {\n",
       "  text-align: right;\n",
       "}\n",
       "</style>\n",
       "<small>shape: (5, 4)</small><table border=\"1\" class=\"dataframe\"><thead><tr><th>order_id</th><th>order_item_id</th><th>nb_produits</th><th>product_id</th></tr><tr><td>str</td><td>i64</td><td>u32</td><td>list[str]</td></tr></thead><tbody><tr><td>&quot;8272b63d03f5f7...</td><td>21</td><td>21</td><td>[&quot;270516a3f41dc035aa87d220228f844c&quot;, &quot;05b515fdc76e888aada3c6d66c201dff&quot;, … &quot;79ce45dbc2ea29b22b5a261bbb7b7ee7&quot;]</td></tr><tr><td>&quot;ab14fdcfbe5246...</td><td>20</td><td>20</td><td>[&quot;9571759451b1d780ee7c15012ea109d4&quot;, &quot;9571759451b1d780ee7c15012ea109d4&quot;, … &quot;9571759451b1d780ee7c15012ea109d4&quot;]</td></tr><tr><td>&quot;1b15974a0141d5...</td><td>20</td><td>20</td><td>[&quot;ee3d532c8a438679776d222e997606b3&quot;, &quot;ee3d532c8a438679776d222e997606b3&quot;, … &quot;ee3d532c8a438679776d222e997606b3&quot;]</td></tr><tr><td>&quot;428a2f660dc841...</td><td>15</td><td>15</td><td>[&quot;89b190a046022486c635022524a974a8&quot;, &quot;89b190a046022486c635022524a974a8&quot;, … &quot;89b190a046022486c635022524a974a8&quot;]</td></tr><tr><td>&quot;9ef13efd6949e4...</td><td>15</td><td>15</td><td>[&quot;37eb69aca8718e843d897aa7b82f462d&quot;, &quot;37eb69aca8718e843d897aa7b82f462d&quot;, … &quot;37eb69aca8718e843d897aa7b82f462d&quot;]</td></tr></tbody></table></div>"
      ],
      "text/plain": [
       "shape: (5, 4)\n",
       "┌──────────────────┬───────────────┬─────────────┬──────────────────┐\n",
       "│ order_id         ┆ order_item_id ┆ nb_produits ┆ product_id       │\n",
       "│ ---              ┆ ---           ┆ ---         ┆ ---              │\n",
       "│ str              ┆ i64           ┆ u32         ┆ list[str]        │\n",
       "╞══════════════════╪═══════════════╪═════════════╪══════════════════╡\n",
       "│ 8272b63d03f5f79… ┆ 21            ┆ 21          ┆ [\"270516a3f41dc… │\n",
       "│ ab14fdcfbe52463… ┆ 20            ┆ 20          ┆ [\"9571759451b1d… │\n",
       "│ 1b15974a0141d54… ┆ 20            ┆ 20          ┆ [\"ee3d532c8a438… │\n",
       "│ 428a2f660dc8413… ┆ 15            ┆ 15          ┆ [\"89b190a046022… │\n",
       "│ 9ef13efd6949e45… ┆ 15            ┆ 15          ┆ [\"37eb69aca8718… │\n",
       "└──────────────────┴───────────────┴─────────────┴──────────────────┘"
      ]
     },
     "execution_count": 94,
     "metadata": {},
     "output_type": "execute_result"
    }
   ],
   "source": [
    "df_temp = order_items_df.groupby('order_id').agg([pl.col('order_item_id').max(),\n",
    "                                                  pl.col('product_id').count().alias('nb_produits'),\n",
    "                                                  pl.col('product_id')\n",
    "                                                 ])\n",
    "df_temp.sort(by = 'nb_produits', descending = True).head(5)"
   ]
  },
  {
   "cell_type": "raw",
   "id": "51efa3fb",
   "metadata": {},
   "source": [
    "on peut remarquer que pour un order_id un client a pu acheté plusieurs produits différents"
   ]
  },
  {
   "cell_type": "code",
   "execution_count": 95,
   "id": "cf013069",
   "metadata": {},
   "outputs": [
    {
     "data": {
      "text/plain": [
       "(99440, 14)"
      ]
     },
     "execution_count": 95,
     "metadata": {},
     "output_type": "execute_result"
    }
   ],
   "source": [
    "df_temp = df_temp.select([pl.col('order_id'),\n",
    "                          pl.col('order_item_id')\n",
    "                                 ])\n",
    "#nous effectuons la jointure par la gauche sur la clé order_id \n",
    "otis_df = otis_df.join(df_temp, on ='order_id', how = 'left')\n",
    "otis_df.shape"
   ]
  },
  {
   "cell_type": "code",
   "execution_count": 96,
   "id": "9dc822ad",
   "metadata": {},
   "outputs": [
    {
     "data": {
      "text/html": [
       "<div><style>\n",
       ".dataframe > thead > tr > th,\n",
       ".dataframe > tbody > tr > td {\n",
       "  text-align: right;\n",
       "}\n",
       "</style>\n",
       "<small>shape: (5, 14)</small><table border=\"1\" class=\"dataframe\"><thead><tr><th>customer_id</th><th>customer_unique_id</th><th>order_id</th><th>order_status</th><th>order_purchase_timestamp</th><th>order_approved_at</th><th>order_delivered_carrier_date</th><th>order_delivered_customer_date</th><th>order_estimated_delivery_date</th><th>paiement_total</th><th>nbre_versements</th><th>nb_review</th><th>review_score_moyen</th><th>order_item_id</th></tr><tr><td>str</td><td>str</td><td>str</td><td>str</td><td>datetime[μs]</td><td>datetime[μs]</td><td>datetime[μs]</td><td>datetime[μs]</td><td>datetime[μs]</td><td>f64</td><td>f64</td><td>u32</td><td>f64</td><td>i64</td></tr></thead><tbody><tr><td>&quot;9debacf3f48d6e...</td><td>&quot;16646e2ab77742...</td><td>&quot;657c1689361cce...</td><td>&quot;delivered&quot;</td><td>2017-12-12 00:00:00</td><td>2017-12-14 00:00:00</td><td>2017-12-14 00:00:00</td><td>2017-12-17 00:00:00</td><td>2018-01-02 00:00:00</td><td>88.08</td><td>1.0</td><td>1</td><td>5.0</td><td>1</td></tr><tr><td>&quot;09fef67c127958...</td><td>&quot;525cda9909aa00...</td><td>&quot;0c1eabff9739bc...</td><td>&quot;delivered&quot;</td><td>2018-08-07 00:00:00</td><td>2018-08-07 00:00:00</td><td>2018-08-08 00:00:00</td><td>2018-08-15 00:00:00</td><td>2018-08-20 00:00:00</td><td>193.98</td><td>3.0</td><td>1</td><td>5.0</td><td>1</td></tr><tr><td>&quot;46960792879875...</td><td>&quot;a81d8129eabc9d...</td><td>&quot;477749bcfe4bc5...</td><td>&quot;delivered&quot;</td><td>2018-08-10 00:00:00</td><td>2018-08-11 00:00:00</td><td>2018-08-13 00:00:00</td><td>2018-08-17 00:00:00</td><td>2018-08-28 00:00:00</td><td>106.5</td><td>1.0</td><td>1</td><td>3.0</td><td>1</td></tr><tr><td>&quot;592f75a04ba5b9...</td><td>&quot;5410d38e4b8f0d...</td><td>&quot;7339f161136d0f...</td><td>&quot;delivered&quot;</td><td>2018-04-04 00:00:00</td><td>2018-04-04 00:00:00</td><td>2018-04-05 00:00:00</td><td>2018-04-11 00:00:00</td><td>2018-04-26 00:00:00</td><td>108.11</td><td>2.0</td><td>1</td><td>5.0</td><td>1</td></tr><tr><td>&quot;f59baee36d1ea3...</td><td>&quot;483293828ba25e...</td><td>&quot;4e01d932d5ce12...</td><td>&quot;shipped&quot;</td><td>2017-06-23 00:00:00</td><td>2017-06-27 00:00:00</td><td>2017-06-29 00:00:00</td><td>null</td><td>2017-07-19 00:00:00</td><td>100.33</td><td>1.0</td><td>1</td><td>1.0</td><td>1</td></tr></tbody></table></div>"
      ],
      "text/plain": [
       "shape: (5, 14)\n",
       "┌───────────┬────────────┬───────┬────────────┬───┬────────────┬─────────┬────────────┬────────────┐\n",
       "│ customer_ ┆ customer_u ┆ order ┆ order_stat ┆ … ┆ nbre_verse ┆ nb_revi ┆ review_sco ┆ order_item │\n",
       "│ id        ┆ nique…     ┆ _id   ┆ us         ┆   ┆ ments      ┆ ew      ┆ re_mo…     ┆ _id        │\n",
       "│ ---       ┆ ---        ┆ ---   ┆ ---        ┆   ┆ ---        ┆ ---     ┆ ---        ┆ ---        │\n",
       "│ str       ┆ str        ┆ str   ┆ str        ┆   ┆ f64        ┆ u32     ┆ f64        ┆ i64        │\n",
       "╞═══════════╪════════════╪═══════╪════════════╪═══╪════════════╪═════════╪════════════╪════════════╡\n",
       "│ 9debacf3f ┆ 16646e2ab7 ┆ 657c1 ┆ delivered  ┆ … ┆ 1.0        ┆ 1       ┆ 5.0        ┆ 1          │\n",
       "│ 48d6eb…   ┆ 77428…     ┆ 68936 ┆            ┆   ┆            ┆         ┆            ┆            │\n",
       "│           ┆            ┆ 1cce2 ┆            ┆   ┆            ┆         ┆            ┆            │\n",
       "│           ┆            ┆ …     ┆            ┆   ┆            ┆         ┆            ┆            │\n",
       "│ 09fef67c1 ┆ 525cda9909 ┆ 0c1ea ┆ delivered  ┆ … ┆ 3.0        ┆ 1       ┆ 5.0        ┆ 1          │\n",
       "│ 27958d…   ┆ aa001…     ┆ bff97 ┆            ┆   ┆            ┆         ┆            ┆            │\n",
       "│           ┆            ┆ 39bc1 ┆            ┆   ┆            ┆         ┆            ┆            │\n",
       "│           ┆            ┆ …     ┆            ┆   ┆            ┆         ┆            ┆            │\n",
       "│ 469607928 ┆ a81d8129ea ┆ 47774 ┆ delivered  ┆ … ┆ 1.0        ┆ 1       ┆ 3.0        ┆ 1          │\n",
       "│ 798754…   ┆ bc9d1…     ┆ 9bcfe ┆            ┆   ┆            ┆         ┆            ┆            │\n",
       "│           ┆            ┆ 4bc52 ┆            ┆   ┆            ┆         ┆            ┆            │\n",
       "│           ┆            ┆ …     ┆            ┆   ┆            ┆         ┆            ┆            │\n",
       "│ 592f75a04 ┆ 5410d38e4b ┆ 7339f ┆ delivered  ┆ … ┆ 2.0        ┆ 1       ┆ 5.0        ┆ 1          │\n",
       "│ ba5b97…   ┆ 8f0d5…     ┆ 16113 ┆            ┆   ┆            ┆         ┆            ┆            │\n",
       "│           ┆            ┆ 6d0fc ┆            ┆   ┆            ┆         ┆            ┆            │\n",
       "│           ┆            ┆ …     ┆            ┆   ┆            ┆         ┆            ┆            │\n",
       "│ f59baee36 ┆ 483293828b ┆ 4e01d ┆ shipped    ┆ … ┆ 1.0        ┆ 1       ┆ 1.0        ┆ 1          │\n",
       "│ d1ea32…   ┆ a25e3…     ┆ 932d5 ┆            ┆   ┆            ┆         ┆            ┆            │\n",
       "│           ┆            ┆ ce128 ┆            ┆   ┆            ┆         ┆            ┆            │\n",
       "│           ┆            ┆ …     ┆            ┆   ┆            ┆         ┆            ┆            │\n",
       "└───────────┴────────────┴───────┴────────────┴───┴────────────┴─────────┴────────────┴────────────┘"
      ]
     },
     "execution_count": 96,
     "metadata": {},
     "output_type": "execute_result"
    }
   ],
   "source": [
    "otis_df.sample(5)"
   ]
  },
  {
   "cell_type": "code",
   "execution_count": 97,
   "id": "a74b7d96",
   "metadata": {},
   "outputs": [
    {
     "name": "stdout",
     "output_type": "stream",
     "text": [
      "99440\n",
      "99440\n",
      "96095\n"
     ]
    }
   ],
   "source": [
    "print(otis_df['order_id'].n_unique())\n",
    "print(otis_df['customer_id'].n_unique())\n",
    "print(otis_df['customer_unique_id'].n_unique())"
   ]
  },
  {
   "cell_type": "code",
   "execution_count": 98,
   "id": "4202992d",
   "metadata": {},
   "outputs": [
    {
     "data": {
      "text/plain": [
       "['customer_id',\n",
       " 'customer_unique_id',\n",
       " 'order_id',\n",
       " 'order_status',\n",
       " 'order_purchase_timestamp',\n",
       " 'order_approved_at',\n",
       " 'order_delivered_carrier_date',\n",
       " 'order_delivered_customer_date',\n",
       " 'order_estimated_delivery_date',\n",
       " 'paiement_total',\n",
       " 'nbre_versements',\n",
       " 'nb_review',\n",
       " 'review_score_moyen',\n",
       " 'order_item_id']"
      ]
     },
     "execution_count": 98,
     "metadata": {},
     "output_type": "execute_result"
    }
   ],
   "source": [
    "otis_df.columns"
   ]
  },
  {
   "cell_type": "markdown",
   "id": "fbc9cda5",
   "metadata": {},
   "source": [
    "## 1.3 - Missing value"
   ]
  },
  {
   "cell_type": "code",
   "execution_count": 99,
   "id": "17d09151",
   "metadata": {},
   "outputs": [
    {
     "data": {
      "text/html": [
       "<div><style>\n",
       ".dataframe > thead > tr > th,\n",
       ".dataframe > tbody > tr > td {\n",
       "  text-align: right;\n",
       "}\n",
       "</style>\n",
       "<small>shape: (7, 5)</small><table border=\"1\" class=\"dataframe\"><thead><tr><th>describe</th><th>paiement_total</th><th>nbre_versements</th><th>review_score_moyen</th><th>order_item_id</th></tr><tr><td>str</td><td>f64</td><td>f64</td><td>f64</td><td>f64</td></tr></thead><tbody><tr><td>&quot;count&quot;</td><td>99440.0</td><td>99440.0</td><td>99440.0</td><td>99440.0</td></tr><tr><td>&quot;null_count&quot;</td><td>0.0</td><td>0.0</td><td>768.0</td><td>775.0</td></tr><tr><td>&quot;mean&quot;</td><td>160.990267</td><td>2.914696</td><td>4.086825</td><td>1.141712</td></tr><tr><td>&quot;std&quot;</td><td>221.951257</td><td>2.700263</td><td>1.346245</td><td>0.538423</td></tr><tr><td>&quot;min&quot;</td><td>0.0</td><td>0.0</td><td>1.0</td><td>1.0</td></tr><tr><td>&quot;max&quot;</td><td>13664.08</td><td>24.0</td><td>5.0</td><td>21.0</td></tr><tr><td>&quot;median&quot;</td><td>105.29</td><td>2.0</td><td>5.0</td><td>1.0</td></tr></tbody></table></div>"
      ],
      "text/plain": [
       "shape: (7, 5)\n",
       "┌────────────┬────────────────┬─────────────────┬──────────────────┬───────────────┐\n",
       "│ describe   ┆ paiement_total ┆ nbre_versements ┆ review_score_mo… ┆ order_item_id │\n",
       "│ ---        ┆ ---            ┆ ---             ┆ ---              ┆ ---           │\n",
       "│ str        ┆ f64            ┆ f64             ┆ f64              ┆ f64           │\n",
       "╞════════════╪════════════════╪═════════════════╪══════════════════╪═══════════════╡\n",
       "│ count      ┆ 99440.0        ┆ 99440.0         ┆ 99440.0          ┆ 99440.0       │\n",
       "│ null_count ┆ 0.0            ┆ 0.0             ┆ 768.0            ┆ 775.0         │\n",
       "│ mean       ┆ 160.990267     ┆ 2.914696        ┆ 4.086825         ┆ 1.141712      │\n",
       "│ std        ┆ 221.951257     ┆ 2.700263        ┆ 1.346245         ┆ 0.538423      │\n",
       "│ min        ┆ 0.0            ┆ 0.0             ┆ 1.0              ┆ 1.0           │\n",
       "│ max        ┆ 13664.08       ┆ 24.0            ┆ 5.0              ┆ 21.0          │\n",
       "│ median     ┆ 105.29         ┆ 2.0             ┆ 5.0              ┆ 1.0           │\n",
       "└────────────┴────────────────┴─────────────────┴──────────────────┴───────────────┘"
      ]
     },
     "execution_count": 99,
     "metadata": {},
     "output_type": "execute_result"
    }
   ],
   "source": [
    "otis_df.select(pl.col(pl.Float64, pl.Int64)).describe()"
   ]
  },
  {
   "cell_type": "code",
   "execution_count": 100,
   "id": "03f025f9",
   "metadata": {},
   "outputs": [],
   "source": [
    "missing_value_col = [col.name for col in df.select(otis_df.null_count()>3) if col.all() ]"
   ]
  },
  {
   "cell_type": "code",
   "execution_count": 101,
   "id": "1eed86b2",
   "metadata": {},
   "outputs": [],
   "source": [
    "missing_value = otis_df.select(pl.col(missing_value_col).null_count())\n",
    "missing_value = missing_value.to_pandas()"
   ]
  },
  {
   "cell_type": "code",
   "execution_count": 102,
   "id": "bc3579cb",
   "metadata": {},
   "outputs": [
    {
     "data": {
      "image/png": "[encoded data removed]",
      "text/plain": [
       "<Figure size 400x400 with 1 Axes>"
      ]
     },
     "metadata": {},
     "output_type": "display_data"
    }
   ],
   "source": [
    "fig, ax = plt.subplots(1,1, figsize=(4,4))\n",
    "\n",
    "g = sns.barplot(data = missing_value, palette = palette)\n",
    "g.set_xticklabels(missing_value.columns,rotation = 45, ha ='right')\n",
    "\n",
    "for container in ax.containers:\n",
    "        ax.bar_label(container, padding=1, color = 'tab:blue')\n",
    "plt.show()"
   ]
  },
  {
   "cell_type": "code",
   "execution_count": 103,
   "id": "f032803b",
   "metadata": {},
   "outputs": [
    {
     "data": {
      "text/html": [
       "<div><style>\n",
       ".dataframe > thead > tr > th,\n",
       ".dataframe > tbody > tr > td {\n",
       "  text-align: right;\n",
       "}\n",
       "</style>\n",
       "<small>shape: (768, 14)</small><table border=\"1\" class=\"dataframe\"><thead><tr><th>customer_id</th><th>customer_unique_id</th><th>order_id</th><th>order_status</th><th>order_purchase_timestamp</th><th>order_approved_at</th><th>order_delivered_carrier_date</th><th>order_delivered_customer_date</th><th>order_estimated_delivery_date</th><th>paiement_total</th><th>nbre_versements</th><th>nb_review</th><th>review_score_moyen</th><th>order_item_id</th></tr><tr><td>str</td><td>str</td><td>str</td><td>str</td><td>datetime[μs]</td><td>datetime[μs]</td><td>datetime[μs]</td><td>datetime[μs]</td><td>datetime[μs]</td><td>f64</td><td>f64</td><td>u32</td><td>f64</td><td>i64</td></tr></thead><tbody><tr><td>&quot;9b8ce803689b35...</td><td>&quot;7f3a72e8f988c6...</td><td>&quot;17825f24877a92...</td><td>&quot;delivered&quot;</td><td>2017-05-11 00:00:00</td><td>2017-05-13 00:00:00</td><td>2017-05-15 00:00:00</td><td>2017-06-07 00:00:00</td><td>2017-05-30 00:00:00</td><td>102.03</td><td>1.0</td><td>null</td><td>null</td><td>1</td></tr><tr><td>&quot;265655cf1f2dfd...</td><td>&quot;fc0a9229ea43fe...</td><td>&quot;44918cef2a112f...</td><td>&quot;shipped&quot;</td><td>2018-02-06 00:00:00</td><td>2018-02-06 00:00:00</td><td>2018-02-07 00:00:00</td><td>null</td><td>2018-03-12 00:00:00</td><td>125.43</td><td>6.0</td><td>null</td><td>null</td><td>1</td></tr><tr><td>&quot;d6b41b191f1f64...</td><td>&quot;3a62a4803c7745...</td><td>&quot;1237d70df58d4f...</td><td>&quot;delivered&quot;</td><td>2017-10-09 00:00:00</td><td>2017-10-10 00:00:00</td><td>2017-11-17 00:00:00</td><td>2017-12-05 00:00:00</td><td>2017-11-06 00:00:00</td><td>75.66</td><td>1.0</td><td>null</td><td>null</td><td>1</td></tr><tr><td>&quot;befe184e4eb181...</td><td>&quot;6ac6902b78ed85...</td><td>&quot;e91a3bc14b8d12...</td><td>&quot;delivered&quot;</td><td>2018-08-27 00:00:00</td><td>2018-08-27 00:00:00</td><td>2018-08-28 00:00:00</td><td>2018-08-29 00:00:00</td><td>2018-08-31 00:00:00</td><td>53.48</td><td>1.0</td><td>null</td><td>null</td><td>1</td></tr><tr><td>&quot;3810ae52bde69b...</td><td>&quot;0beec065ce2d16...</td><td>&quot;0f503b220e9d1f...</td><td>&quot;delivered&quot;</td><td>2017-09-09 00:00:00</td><td>2017-09-09 00:00:00</td><td>2017-09-18 00:00:00</td><td>2017-10-06 00:00:00</td><td>2017-10-02 00:00:00</td><td>480.4</td><td>10.0</td><td>null</td><td>null</td><td>1</td></tr><tr><td>&quot;24867a30fb114e...</td><td>&quot;2ca8ef8560c5cd...</td><td>&quot;8d1177e3fcee9f...</td><td>&quot;delivered&quot;</td><td>2017-12-09 00:00:00</td><td>2017-12-09 00:00:00</td><td>2017-12-14 00:00:00</td><td>2018-01-04 00:00:00</td><td>2018-01-12 00:00:00</td><td>94.76</td><td>8.0</td><td>null</td><td>null</td><td>1</td></tr><tr><td>&quot;e4c8227df878d2...</td><td>&quot;47bd939e378c0a...</td><td>&quot;03a3628434dd67...</td><td>&quot;delivered&quot;</td><td>2017-07-20 00:00:00</td><td>2017-07-20 00:00:00</td><td>2017-07-21 00:00:00</td><td>2017-08-01 00:00:00</td><td>2017-08-11 00:00:00</td><td>393.84</td><td>8.0</td><td>null</td><td>null</td><td>2</td></tr><tr><td>&quot;5ffaa9e0952296...</td><td>&quot;2f2c5d1fdc5db8...</td><td>&quot;66b04218fe3a0a...</td><td>&quot;delivered&quot;</td><td>2018-02-03 00:00:00</td><td>2018-02-03 00:00:00</td><td>2018-02-16 00:00:00</td><td>2018-02-26 00:00:00</td><td>2018-03-20 00:00:00</td><td>46.24</td><td>2.0</td><td>null</td><td>null</td><td>1</td></tr><tr><td>&quot;5c78528de7bc16...</td><td>&quot;e6925d3e39cebd...</td><td>&quot;93881917b8e0f2...</td><td>&quot;unavailable&quot;</td><td>2018-08-11 00:00:00</td><td>2018-08-11 00:00:00</td><td>null</td><td>null</td><td>2018-08-21 00:00:00</td><td>674.7</td><td>6.0</td><td>null</td><td>null</td><td>null</td></tr><tr><td>&quot;04361b218639fa...</td><td>&quot;dadbd996f437b5...</td><td>&quot;1591f1de66fc66...</td><td>&quot;delivered&quot;</td><td>2018-02-08 00:00:00</td><td>2018-02-08 00:00:00</td><td>2018-02-14 00:00:00</td><td>2018-02-24 00:00:00</td><td>2018-03-07 00:00:00</td><td>42.91</td><td>2.0</td><td>null</td><td>null</td><td>1</td></tr><tr><td>&quot;061d8030d0f605...</td><td>&quot;70a252703c9e98...</td><td>&quot;828bedfd74953f...</td><td>&quot;delivered&quot;</td><td>2018-02-17 00:00:00</td><td>2018-02-17 00:00:00</td><td>2018-02-20 00:00:00</td><td>2018-02-26 00:00:00</td><td>2018-03-09 00:00:00</td><td>72.53</td><td>1.0</td><td>null</td><td>null</td><td>1</td></tr><tr><td>&quot;8b28d65024bde7...</td><td>&quot;d7dcb6a86716ca...</td><td>&quot;6241cda1675cb9...</td><td>&quot;delivered&quot;</td><td>2017-08-03 00:00:00</td><td>2017-08-03 00:00:00</td><td>2017-08-08 00:00:00</td><td>2017-08-23 00:00:00</td><td>2017-08-25 00:00:00</td><td>26.09</td><td>2.0</td><td>null</td><td>null</td><td>1</td></tr><tr><td>&hellip;</td><td>&hellip;</td><td>&hellip;</td><td>&hellip;</td><td>&hellip;</td><td>&hellip;</td><td>&hellip;</td><td>&hellip;</td><td>&hellip;</td><td>&hellip;</td><td>&hellip;</td><td>&hellip;</td><td>&hellip;</td><td>&hellip;</td></tr><tr><td>&quot;a991a323620f70...</td><td>&quot;38e5d10b2cb0da...</td><td>&quot;cfec5af5f95fd7...</td><td>&quot;delivered&quot;</td><td>2017-11-11 00:00:00</td><td>2017-11-11 00:00:00</td><td>2017-11-14 00:00:00</td><td>2017-11-26 00:00:00</td><td>2017-12-07 00:00:00</td><td>116.94</td><td>4.0</td><td>null</td><td>null</td><td>1</td></tr><tr><td>&quot;87394943aaa0bd...</td><td>&quot;a5014689947ec9...</td><td>&quot;bcbd3afc999b3f...</td><td>&quot;delivered&quot;</td><td>2018-08-16 00:00:00</td><td>2018-08-18 00:00:00</td><td>2018-08-20 00:00:00</td><td>2018-08-23 00:00:00</td><td>2018-08-22 00:00:00</td><td>56.49</td><td>1.0</td><td>null</td><td>null</td><td>1</td></tr><tr><td>&quot;941053d2f2f52d...</td><td>&quot;1dcd5cc732b10d...</td><td>&quot;a84cd46a772fbf...</td><td>&quot;delivered&quot;</td><td>2017-08-19 00:00:00</td><td>2017-08-20 00:00:00</td><td>2017-08-23 00:00:00</td><td>2017-09-04 00:00:00</td><td>2017-09-13 00:00:00</td><td>65.01</td><td>6.0</td><td>null</td><td>null</td><td>1</td></tr><tr><td>&quot;86a7245fffe6a4...</td><td>&quot;1d532194f00542...</td><td>&quot;2f2df159f26ddb...</td><td>&quot;delivered&quot;</td><td>2017-07-17 00:00:00</td><td>2017-07-17 00:00:00</td><td>2017-07-17 00:00:00</td><td>2017-07-26 00:00:00</td><td>2017-08-09 00:00:00</td><td>166.81</td><td>8.0</td><td>null</td><td>null</td><td>1</td></tr><tr><td>&quot;da5a76cb142d1c...</td><td>&quot;cc7e6b37d88a34...</td><td>&quot;39d90234aa561e...</td><td>&quot;invoiced&quot;</td><td>2018-05-16 00:00:00</td><td>2018-05-17 00:00:00</td><td>null</td><td>null</td><td>2018-06-04 00:00:00</td><td>87.32</td><td>1.0</td><td>null</td><td>null</td><td>1</td></tr><tr><td>&quot;49d3feed347ec8...</td><td>&quot;d1d3fd01ec409b...</td><td>&quot;cca5e85092bfd9...</td><td>&quot;delivered&quot;</td><td>2018-03-16 00:00:00</td><td>2018-03-16 00:00:00</td><td>2018-03-20 00:00:00</td><td>2018-05-05 00:00:00</td><td>2018-04-19 00:00:00</td><td>99.43</td><td>1.0</td><td>null</td><td>null</td><td>1</td></tr><tr><td>&quot;d3625a7c916105...</td><td>&quot;7683033367a9aa...</td><td>&quot;ac1ba3d6cc5dbf...</td><td>&quot;delivered&quot;</td><td>2017-10-29 00:00:00</td><td>2017-10-31 00:00:00</td><td>2017-10-31 00:00:00</td><td>2017-12-05 00:00:00</td><td>2017-11-29 00:00:00</td><td>47.42</td><td>1.0</td><td>null</td><td>null</td><td>1</td></tr><tr><td>&quot;5dc6f4b9453584...</td><td>&quot;e4326d8c6d585d...</td><td>&quot;e723fd90e2d095...</td><td>&quot;shipped&quot;</td><td>2017-11-25 00:00:00</td><td>2017-11-25 00:00:00</td><td>2017-11-27 00:00:00</td><td>null</td><td>2017-12-21 00:00:00</td><td>20.1</td><td>2.0</td><td>null</td><td>null</td><td>1</td></tr><tr><td>&quot;315f814caff07b...</td><td>&quot;a3a53af62bbe94...</td><td>&quot;dacce96767ea2c...</td><td>&quot;delivered&quot;</td><td>2018-01-13 00:00:00</td><td>2018-01-13 00:00:00</td><td>2018-01-19 00:00:00</td><td>2018-01-27 00:00:00</td><td>2018-02-09 00:00:00</td><td>103.83</td><td>1.0</td><td>null</td><td>null</td><td>1</td></tr><tr><td>&quot;917c477d3c63db...</td><td>&quot;871ca3b66113e2...</td><td>&quot;cdbb4d02acee4e...</td><td>&quot;delivered&quot;</td><td>2017-12-06 00:00:00</td><td>2017-12-08 00:00:00</td><td>2017-12-08 00:00:00</td><td>2017-12-13 00:00:00</td><td>2017-12-22 00:00:00</td><td>93.78</td><td>1.0</td><td>null</td><td>null</td><td>1</td></tr><tr><td>&quot;c9eb9435ff687d...</td><td>&quot;0d5cc93aefe2e6...</td><td>&quot;80ef3cee33c246...</td><td>&quot;delivered&quot;</td><td>2018-06-23 00:00:00</td><td>2018-06-23 00:00:00</td><td>2018-06-28 00:00:00</td><td>2018-07-05 00:00:00</td><td>2018-07-20 00:00:00</td><td>36.28</td><td>1.0</td><td>null</td><td>null</td><td>1</td></tr><tr><td>&quot;10f6413b5b1071...</td><td>&quot;baefaec72794d5...</td><td>&quot;1f169866113310...</td><td>&quot;delivered&quot;</td><td>2018-04-17 00:00:00</td><td>2018-04-18 00:00:00</td><td>2018-04-18 00:00:00</td><td>2018-04-24 00:00:00</td><td>2018-05-10 00:00:00</td><td>55.13</td><td>1.0</td><td>null</td><td>null</td><td>1</td></tr></tbody></table></div>"
      ],
      "text/plain": [
       "shape: (768, 14)\n",
       "┌───────────┬────────────┬───────┬────────────┬───┬────────────┬─────────┬────────────┬────────────┐\n",
       "│ customer_ ┆ customer_u ┆ order ┆ order_stat ┆ … ┆ nbre_verse ┆ nb_revi ┆ review_sco ┆ order_item │\n",
       "│ id        ┆ nique…     ┆ _id   ┆ us         ┆   ┆ ments      ┆ ew      ┆ re_mo…     ┆ _id        │\n",
       "│ ---       ┆ ---        ┆ ---   ┆ ---        ┆   ┆ ---        ┆ ---     ┆ ---        ┆ ---        │\n",
       "│ str       ┆ str        ┆ str   ┆ str        ┆   ┆ f64        ┆ u32     ┆ f64        ┆ i64        │\n",
       "╞═══════════╪════════════╪═══════╪════════════╪═══╪════════════╪═════════╪════════════╪════════════╡\n",
       "│ 9b8ce8036 ┆ 7f3a72e8f9 ┆ 17825 ┆ delivered  ┆ … ┆ 1.0        ┆ null    ┆ null       ┆ 1          │\n",
       "│ 89b356…   ┆ 88c6e…     ┆ f2487 ┆            ┆   ┆            ┆         ┆            ┆            │\n",
       "│           ┆            ┆ 7a928 ┆            ┆   ┆            ┆         ┆            ┆            │\n",
       "│           ┆            ┆ …     ┆            ┆   ┆            ┆         ┆            ┆            │\n",
       "│ 265655cf1 ┆ fc0a9229ea ┆ 44918 ┆ shipped    ┆ … ┆ 6.0        ┆ null    ┆ null       ┆ 1          │\n",
       "│ f2dfd4…   ┆ 43fea…     ┆ cef2a ┆            ┆   ┆            ┆         ┆            ┆            │\n",
       "│           ┆            ┆ 112fc ┆            ┆   ┆            ┆         ┆            ┆            │\n",
       "│           ┆            ┆ …     ┆            ┆   ┆            ┆         ┆            ┆            │\n",
       "│ d6b41b191 ┆ 3a62a4803c ┆ 1237d ┆ delivered  ┆ … ┆ 1.0        ┆ null    ┆ null       ┆ 1          │\n",
       "│ f1f643…   ┆ 77457…     ┆ 70df5 ┆            ┆   ┆            ┆         ┆            ┆            │\n",
       "│           ┆            ┆ 8d4f9 ┆            ┆   ┆            ┆         ┆            ┆            │\n",
       "│           ┆            ┆ …     ┆            ┆   ┆            ┆         ┆            ┆            │\n",
       "│ befe184e4 ┆ 6ac6902b78 ┆ e91a3 ┆ delivered  ┆ … ┆ 1.0        ┆ null    ┆ null       ┆ 1          │\n",
       "│ eb1814…   ┆ ed854…     ┆ bc14b ┆            ┆   ┆            ┆         ┆            ┆            │\n",
       "│           ┆            ┆ 8d125 ┆            ┆   ┆            ┆         ┆            ┆            │\n",
       "│           ┆            ┆ …     ┆            ┆   ┆            ┆         ┆            ┆            │\n",
       "│ …         ┆ …          ┆ …     ┆ …          ┆ … ┆ …          ┆ …       ┆ …          ┆ …          │\n",
       "│ 315f814ca ┆ a3a53af62b ┆ dacce ┆ delivered  ┆ … ┆ 1.0        ┆ null    ┆ null       ┆ 1          │\n",
       "│ ff07be…   ┆ be94c…     ┆ 96767 ┆            ┆   ┆            ┆         ┆            ┆            │\n",
       "│           ┆            ┆ ea2ce ┆            ┆   ┆            ┆         ┆            ┆            │\n",
       "│           ┆            ┆ …     ┆            ┆   ┆            ┆         ┆            ┆            │\n",
       "│ 917c477d3 ┆ 871ca3b661 ┆ cdbb4 ┆ delivered  ┆ … ┆ 1.0        ┆ null    ┆ null       ┆ 1          │\n",
       "│ c63db7…   ┆ 13e28…     ┆ d02ac ┆            ┆   ┆            ┆         ┆            ┆            │\n",
       "│           ┆            ┆ ee4e3 ┆            ┆   ┆            ┆         ┆            ┆            │\n",
       "│           ┆            ┆ …     ┆            ┆   ┆            ┆         ┆            ┆            │\n",
       "│ c9eb9435f ┆ 0d5cc93aef ┆ 80ef3 ┆ delivered  ┆ … ┆ 1.0        ┆ null    ┆ null       ┆ 1          │\n",
       "│ f687d9…   ┆ e2e66…     ┆ cee33 ┆            ┆   ┆            ┆         ┆            ┆            │\n",
       "│           ┆            ┆ c2462 ┆            ┆   ┆            ┆         ┆            ┆            │\n",
       "│           ┆            ┆ …     ┆            ┆   ┆            ┆         ┆            ┆            │\n",
       "│ 10f6413b5 ┆ baefaec727 ┆ 1f169 ┆ delivered  ┆ … ┆ 1.0        ┆ null    ┆ null       ┆ 1          │\n",
       "│ b1071b…   ┆ 94d54…     ┆ 86611 ┆            ┆   ┆            ┆         ┆            ┆            │\n",
       "│           ┆            ┆ 3310f ┆            ┆   ┆            ┆         ┆            ┆            │\n",
       "│           ┆            ┆ …     ┆            ┆   ┆            ┆         ┆            ┆            │\n",
       "└───────────┴────────────┴───────┴────────────┴───┴────────────┴─────────┴────────────┴────────────┘"
      ]
     },
     "execution_count": 103,
     "metadata": {},
     "output_type": "execute_result"
    }
   ],
   "source": [
    "otis_df.filter(pl.col('nb_review').is_null())"
   ]
  },
  {
   "cell_type": "code",
   "execution_count": 104,
   "id": "66e638b5",
   "metadata": {},
   "outputs": [
    {
     "data": {
      "text/plain": [
       "1.005584157613102"
      ]
     },
     "execution_count": 104,
     "metadata": {},
     "output_type": "execute_result"
    }
   ],
   "source": [
    "otis_df['nb_review'].mean()"
   ]
  },
  {
   "cell_type": "code",
   "execution_count": 109,
   "id": "5cbe3041",
   "metadata": {},
   "outputs": [
    {
     "data": {
      "text/html": [
       "<div><style>\n",
       ".dataframe > thead > tr > th,\n",
       ".dataframe > tbody > tr > td {\n",
       "  text-align: right;\n",
       "}\n",
       "</style>\n",
       "<small>shape: (1, 1)</small><table border=\"1\" class=\"dataframe\"><thead><tr><th>nb_review</th></tr><tr><td>u32</td></tr></thead><tbody><tr><td>99223</td></tr></tbody></table></div>"
      ],
      "text/plain": [
       "shape: (1, 1)\n",
       "┌───────────┐\n",
       "│ nb_review │\n",
       "│ ---       │\n",
       "│ u32       │\n",
       "╞═══════════╡\n",
       "│ 99223     │\n",
       "└───────────┘"
      ]
     },
     "execution_count": 109,
     "metadata": {},
     "output_type": "execute_result"
    }
   ],
   "source": [
    "otis_df.select(pl.col('nb_review')).sum()"
   ]
  },
  {
   "cell_type": "markdown",
   "id": "544c283f",
   "metadata": {},
   "source": [
    "### coverage"
   ]
  },
  {
   "cell_type": "code",
   "execution_count": null,
   "id": "19c4bdf2",
   "metadata": {},
   "outputs": [],
   "source": [
    "debut = otis_df['order_purchase_timestamp'].min()\n",
    "fin  = otis_df['order_purchase_timestamp'].max()\n",
    "\n",
    "print(f\"la base de donnée commence le {debut} et s'arrete le {fin}\")\n",
    "print(f\"la base de donnée couvre une période de {fin-debut} jour\")"
   ]
  },
  {
   "cell_type": "markdown",
   "id": "8590d0aa",
   "metadata": {},
   "source": [
    "# 2 - EXPLORATION"
   ]
  },
  {
   "cell_type": "markdown",
   "id": "d9c0dec8",
   "metadata": {},
   "source": [
    "## 2.1.1 - Analyse univarié"
   ]
  },
  {
   "cell_type": "markdown",
   "id": "8575fb63",
   "metadata": {},
   "source": [
    "### creation de colonnes : temps de livraison"
   ]
  },
  {
   "cell_type": "code",
   "execution_count": 110,
   "id": "4b2be021",
   "metadata": {},
   "outputs": [],
   "source": [
    "#temps de livraison\n",
    "otis_df=otis_df.with_columns([(pl.col('order_delivered_customer_date')-pl.col('order_purchase_timestamp'))\\\n",
    "                        .alias('temps_de_livraison'),\n",
    "                          (pl.col('order_estimated_delivery_date')-pl.col('order_purchase_timestamp'))\\\n",
    "                        .alias('temps_de_livraison_estime'),    \n",
    "                          (pl.col('order_approved_at')-pl.col('order_purchase_timestamp'))\\\n",
    "                        .alias('delta_order_approved_at'),\n",
    "                          (pl.col('order_delivered_carrier_date')-pl.col('order_approved_at'))\\\n",
    "                        .alias('delta_delivered_carrier'),\n",
    "                          (pl.col('order_delivered_customer_date')-pl.col('order_delivered_carrier_date'))\\\n",
    "                        .alias('delta_customer_date'),\n",
    "                         ])"
   ]
  },
  {
   "cell_type": "code",
   "execution_count": 111,
   "id": "54aadfe7",
   "metadata": {},
   "outputs": [],
   "source": [
    "otis_df=otis_df.with_columns([\n",
    "    \n",
    "    (pl.col('temps_de_livraison_estime')-pl.col('temps_de_livraison'))\\\n",
    "                        .alias('delta_estimated_livraison'),\n",
    "                            ])"
   ]
  },
  {
   "cell_type": "code",
   "execution_count": 112,
   "id": "4984c34b",
   "metadata": {},
   "outputs": [],
   "source": [
    "\n",
    "\n",
    "graph_df = otis_df.groupby('temps_de_livraison_estime')\\\n",
    ".agg(pl.col(\"order_id\").count().alias('count')).to_pandas()"
   ]
  },
  {
   "cell_type": "code",
   "execution_count": 113,
   "id": "dd63d061",
   "metadata": {},
   "outputs": [],
   "source": [
    "occ_temps_livraison = pd.DataFrame({'temps_livraison' : otis_df['temps_de_livraison'].to_pandas()\n",
    "                               }).value_counts().reset_index(name='occurence')\n",
    "\n",
    "occ_temps_livraison_estime = pd.DataFrame({'temps_livraison_estime' : otis_df['temps_de_livraison_estime'].to_pandas()\n",
    "                               }).value_counts().reset_index(name='occurence')\n"
   ]
  },
  {
   "cell_type": "code",
   "execution_count": 114,
   "id": "661d5230",
   "metadata": {},
   "outputs": [
    {
     "data": {
      "text/plain": [
       "96475"
      ]
     },
     "execution_count": 114,
     "metadata": {},
     "output_type": "execute_result"
    }
   ],
   "source": [
    "#Verification : on retrouve bien le nombre de ligne\n",
    "occ_temps_livraison['occurence'].sum()"
   ]
  },
  {
   "cell_type": "code",
   "execution_count": 115,
   "id": "20502959",
   "metadata": {},
   "outputs": [],
   "source": [
    "#modification du typage ----> pour les graphiques\n",
    "\n",
    "occ_temps_livraison['temps_livraison'] = occ_temps_livraison['temps_livraison'].astype('timedelta64[D]')\n",
    "occ_temps_livraison['temps_livraison'] = occ_temps_livraison['temps_livraison'].astype('int')\n",
    "\n",
    "occ_temps_livraison_estime['temps_livraison_estime'] = occ_temps_livraison_estime['temps_livraison_estime'].astype('timedelta64[D]')\n",
    "occ_temps_livraison_estime['temps_livraison_estime'] = occ_temps_livraison_estime['temps_livraison_estime'].astype('int')"
   ]
  },
  {
   "cell_type": "code",
   "execution_count": 116,
   "id": "64defaf5",
   "metadata": {},
   "outputs": [
    {
     "data": {
      "text/html": [
       "<div>\n",
       "<style scoped>\n",
       "    .dataframe tbody tr th:only-of-type {\n",
       "        vertical-align: middle;\n",
       "    }\n",
       "\n",
       "    .dataframe tbody tr th {\n",
       "        vertical-align: top;\n",
       "    }\n",
       "\n",
       "    .dataframe thead th {\n",
       "        text-align: right;\n",
       "    }\n",
       "</style>\n",
       "<table border=\"1\" class=\"dataframe\">\n",
       "  <thead>\n",
       "    <tr style=\"text-align: right;\">\n",
       "      <th></th>\n",
       "      <th>temps_livraison</th>\n",
       "      <th>occurence</th>\n",
       "    </tr>\n",
       "  </thead>\n",
       "  <tbody>\n",
       "    <tr>\n",
       "      <th>0</th>\n",
       "      <td>7</td>\n",
       "      <td>7482</td>\n",
       "    </tr>\n",
       "    <tr>\n",
       "      <th>1</th>\n",
       "      <td>8</td>\n",
       "      <td>7123</td>\n",
       "    </tr>\n",
       "    <tr>\n",
       "      <th>2</th>\n",
       "      <td>6</td>\n",
       "      <td>6507</td>\n",
       "    </tr>\n",
       "    <tr>\n",
       "      <th>3</th>\n",
       "      <td>9</td>\n",
       "      <td>6256</td>\n",
       "    </tr>\n",
       "    <tr>\n",
       "      <th>4</th>\n",
       "      <td>10</td>\n",
       "      <td>5793</td>\n",
       "    </tr>\n",
       "  </tbody>\n",
       "</table>\n",
       "</div>"
      ],
      "text/plain": [
       "   temps_livraison  occurence\n",
       "0                7       7482\n",
       "1                8       7123\n",
       "2                6       6507\n",
       "3                9       6256\n",
       "4               10       5793"
      ]
     },
     "execution_count": 116,
     "metadata": {},
     "output_type": "execute_result"
    }
   ],
   "source": [
    "occ_temps_livraison.head(5)"
   ]
  },
  {
   "cell_type": "code",
   "execution_count": 117,
   "id": "3406e3d8",
   "metadata": {},
   "outputs": [
    {
     "data": {
      "image/png": "[encoded data removed]",
      "text/plain": [
       "<Figure size 640x480 with 1 Axes>"
      ]
     },
     "metadata": {},
     "output_type": "display_data"
    }
   ],
   "source": [
    "\n",
    "fig, ax = plt.subplots()\n",
    "\n",
    "c1 = sns.color_palette('deep')[0]\n",
    "tps_livraison = sns.barplot(occ_temps_livraison, x = 'temps_livraison', y = 'occurence',\n",
    "                            color=c1 ,ax= ax,label = 'temps_livraison')\n",
    "\n",
    "\n",
    "c2 = sns.color_palette('deep')[1]\n",
    "tps_livraison_est = sns.barplot(occ_temps_livraison_estime, x = 'temps_livraison_estime',\n",
    "                                y = 'occurence',color=c2 ,alpha = 0.7, ax= ax, )\n",
    "\n",
    "# Création des patchs pour les légendes\n",
    "patch1 = Patch(color=c1,label = 'tps_livraison')\n",
    "patch2 = Patch(color=c2,label = 'tps_livraison_estime')\n",
    "ax.legend(handles=[patch1, patch2], loc='upper right')\n",
    "\n",
    "loc = plticker.MultipleLocator(base=5.0) # this locator puts ticks at regular intervals\n",
    "ax.xaxis.set_major_locator(loc)\n",
    "\n",
    "\n",
    "plt.title('Distribution temps livraison', color ='tab:blue', fontsize = 14)\n",
    "plt.xlabel('temps livraison VS temps livraison estimé')\n",
    "plt.xlim(-1, 100)\n",
    "\n",
    "\n",
    "\n",
    "plt.show()"
   ]
  },
  {
   "cell_type": "markdown",
   "id": "6f99c672",
   "metadata": {},
   "source": [
    "### creation de colonnes : Nombre de jour du dernier achat NJDA"
   ]
  },
  {
   "cell_type": "code",
   "execution_count": 118,
   "id": "5ef4403b",
   "metadata": {},
   "outputs": [],
   "source": [
    "#Nombre de jour depuis l'achat\n",
    "date_tf = otis_df['order_purchase_timestamp'].max()\n",
    "otis_df = otis_df.with_columns((date_tf-pl.col('order_purchase_timestamp'))\\\n",
    "                               .dt.days().alias(\"NJDA\"))"
   ]
  },
  {
   "cell_type": "code",
   "execution_count": 119,
   "id": "23533ad0",
   "metadata": {},
   "outputs": [],
   "source": [
    "njda = otis_df['NJDA'].value_counts().to_pandas()['NJDA'].values\n",
    "counts = otis_df['NJDA'].value_counts().to_pandas()['counts'].values"
   ]
  },
  {
   "cell_type": "code",
   "execution_count": 120,
   "id": "caa1ec90",
   "metadata": {},
   "outputs": [
    {
     "data": {
      "text/html": [
       "<div>\n",
       "<style scoped>\n",
       "    .dataframe tbody tr th:only-of-type {\n",
       "        vertical-align: middle;\n",
       "    }\n",
       "\n",
       "    .dataframe tbody tr th {\n",
       "        vertical-align: top;\n",
       "    }\n",
       "\n",
       "    .dataframe thead th {\n",
       "        text-align: right;\n",
       "    }\n",
       "</style>\n",
       "<table border=\"1\" class=\"dataframe\">\n",
       "  <thead>\n",
       "    <tr style=\"text-align: right;\">\n",
       "      <th></th>\n",
       "      <th>NJDA</th>\n",
       "      <th>counts</th>\n",
       "    </tr>\n",
       "  </thead>\n",
       "  <tbody>\n",
       "    <tr>\n",
       "      <th>0</th>\n",
       "      <td>272</td>\n",
       "      <td>64</td>\n",
       "    </tr>\n",
       "    <tr>\n",
       "      <th>1</th>\n",
       "      <td>228</td>\n",
       "      <td>1</td>\n",
       "    </tr>\n",
       "    <tr>\n",
       "      <th>2</th>\n",
       "      <td>620</td>\n",
       "      <td>155</td>\n",
       "    </tr>\n",
       "    <tr>\n",
       "      <th>3</th>\n",
       "      <td>180</td>\n",
       "      <td>143</td>\n",
       "    </tr>\n",
       "    <tr>\n",
       "      <th>4</th>\n",
       "      <td>512</td>\n",
       "      <td>197</td>\n",
       "    </tr>\n",
       "  </tbody>\n",
       "</table>\n",
       "</div>"
      ],
      "text/plain": [
       "   NJDA  counts\n",
       "0   272      64\n",
       "1   228       1\n",
       "2   620     155\n",
       "3   180     143\n",
       "4   512     197"
      ]
     },
     "execution_count": 120,
     "metadata": {},
     "output_type": "execute_result"
    }
   ],
   "source": [
    "graph_df = pd.DataFrame({'NJDA':njda,'counts': counts})\n",
    "graph_df.head(5)"
   ]
  },
  {
   "cell_type": "code",
   "execution_count": 121,
   "id": "93a0fa73",
   "metadata": {},
   "outputs": [
    {
     "data": {
      "image/png": "[encoded data removed]",
      "text/plain": [
       "<Figure size 640x480 with 1 Axes>"
      ]
     },
     "metadata": {},
     "output_type": "display_data"
    }
   ],
   "source": [
    "fig, ax = plt.subplots()\n",
    "sns.barplot(graph_df, x='NJDA', y = 'counts', ax = ax)\n",
    "\n",
    "loc = plticker.MultipleLocator(base=50.0) # this locator puts ticks at regular intervals\n",
    "ax.xaxis.set_major_locator(loc)\n",
    "\n",
    "plt.title('Distribution Nombre de Jour depuis le Dernier Achat (NJDA)', color ='tab:blue', fontsize = 14)\n",
    "plt.ylabel('Occurence')\n",
    "plt.xlabel('Nombre de Jour depuis le Dernier Achat (NJDA)')\n",
    "plt.ylim(-1,1000)\n",
    "plt.show()"
   ]
  },
  {
   "cell_type": "code",
   "execution_count": 122,
   "id": "9b10132a",
   "metadata": {},
   "outputs": [],
   "source": [
    "#suppression des données temporelles autre que temps de livraisons et NJDA\n",
    "liste_sup = [ 'order_delivered_carrier_date','order_delivered_customer_date','order_estimated_delivery_date',\n",
    "             'temps_de_livraison_estime','delta_order_approved_at','delta_delivered_carrier',\n",
    "             'delta_customer_date','delta_estimated_livraison']"
   ]
  },
  {
   "cell_type": "code",
   "execution_count": 123,
   "id": "6af6a918",
   "metadata": {},
   "outputs": [],
   "source": [
    "otis_df = otis_df.drop(liste_sup)"
   ]
  },
  {
   "cell_type": "code",
   "execution_count": 124,
   "id": "19edb1c9",
   "metadata": {},
   "outputs": [
    {
     "data": {
      "text/plain": [
       "['customer_id',\n",
       " 'customer_unique_id',\n",
       " 'order_id',\n",
       " 'order_status',\n",
       " 'order_purchase_timestamp',\n",
       " 'order_approved_at',\n",
       " 'paiement_total',\n",
       " 'nbre_versements',\n",
       " 'nb_review',\n",
       " 'review_score_moyen',\n",
       " 'order_item_id',\n",
       " 'temps_de_livraison',\n",
       " 'NJDA']"
      ]
     },
     "execution_count": 124,
     "metadata": {},
     "output_type": "execute_result"
    }
   ],
   "source": [
    "otis_df.columns"
   ]
  },
  {
   "cell_type": "code",
   "execution_count": 125,
   "id": "291ab92b",
   "metadata": {},
   "outputs": [
    {
     "data": {
      "text/plain": [
       "(99440, 13)"
      ]
     },
     "execution_count": 125,
     "metadata": {},
     "output_type": "execute_result"
    }
   ],
   "source": [
    "otis_df.shape"
   ]
  },
  {
   "cell_type": "markdown",
   "id": "980c73f0",
   "metadata": {},
   "source": [
    "## Différence entre customer_id et customer_unique_id"
   ]
  },
  {
   "cell_type": "code",
   "execution_count": 126,
   "id": "518f0216",
   "metadata": {},
   "outputs": [],
   "source": [
    "def col_unique_valeur(df = otis_df):\n",
    "    liste_nbre_caracteres = []\n",
    "    for col in otis_df.columns :\n",
    "        unique_value = len(otis_df.select(pl.col(col).unique()))\n",
    "        liste_nbre_caracteres.append(unique_value)\n",
    "    return liste_nbre_caracteres"
   ]
  },
  {
   "cell_type": "code",
   "execution_count": 127,
   "id": "395e7fce",
   "metadata": {
    "scrolled": true
   },
   "outputs": [
    {
     "data": {
      "text/html": [
       "<div>\n",
       "<style scoped>\n",
       "    .dataframe tbody tr th:only-of-type {\n",
       "        vertical-align: middle;\n",
       "    }\n",
       "\n",
       "    .dataframe tbody tr th {\n",
       "        vertical-align: top;\n",
       "    }\n",
       "\n",
       "    .dataframe thead th {\n",
       "        text-align: right;\n",
       "    }\n",
       "</style>\n",
       "<table border=\"1\" class=\"dataframe\">\n",
       "  <thead>\n",
       "    <tr style=\"text-align: right;\">\n",
       "      <th></th>\n",
       "      <th>colonne_name</th>\n",
       "      <th>unicite</th>\n",
       "    </tr>\n",
       "  </thead>\n",
       "  <tbody>\n",
       "    <tr>\n",
       "      <th>0</th>\n",
       "      <td>customer_id</td>\n",
       "      <td>99440</td>\n",
       "    </tr>\n",
       "    <tr>\n",
       "      <th>2</th>\n",
       "      <td>order_id</td>\n",
       "      <td>99440</td>\n",
       "    </tr>\n",
       "    <tr>\n",
       "      <th>total_ligne</th>\n",
       "      <td>99440</td>\n",
       "      <td>99440</td>\n",
       "    </tr>\n",
       "    <tr>\n",
       "      <th>1</th>\n",
       "      <td>customer_unique_id</td>\n",
       "      <td>96095</td>\n",
       "    </tr>\n",
       "    <tr>\n",
       "      <th>6</th>\n",
       "      <td>paiement_total</td>\n",
       "      <td>28002</td>\n",
       "    </tr>\n",
       "  </tbody>\n",
       "</table>\n",
       "</div>"
      ],
      "text/plain": [
       "                   colonne_name  unicite\n",
       "0                   customer_id    99440\n",
       "2                      order_id    99440\n",
       "total_ligne               99440    99440\n",
       "1            customer_unique_id    96095\n",
       "6                paiement_total    28002"
      ]
     },
     "execution_count": 127,
     "metadata": {},
     "output_type": "execute_result"
    }
   ],
   "source": [
    "otis_unique_df = pd.DataFrame({'colonne_name' :otis_df.columns,\n",
    "                               'unicite':col_unique_valeur()})\n",
    "otis_unique_df.loc['total_ligne'] = len(otis_df)\n",
    "otis_unique_df.sort_values(by = 'unicite', ascending = False).head(5)"
   ]
  },
  {
   "cell_type": "code",
   "execution_count": 128,
   "id": "bbcf6b04",
   "metadata": {},
   "outputs": [],
   "source": [
    "#premiere filtre ou on selectionne que les order_item_id  = 1\n",
    "order_item_1_df = otis_df.filter(pl.col('order_item_id')==1)"
   ]
  },
  {
   "cell_type": "code",
   "execution_count": 129,
   "id": "e6bba350",
   "metadata": {},
   "outputs": [],
   "source": [
    "analyse_df = order_item_1_df.groupby('customer_unique_id')\\\n",
    ".agg(pl.col('customer_id').alias('customer_id'))\n",
    "\n",
    "analyse_df = analyse_df.with_columns(\n",
    "    pl.col('customer_id').apply(lambda x: len(x)).alias('controle')\n",
    ")"
   ]
  },
  {
   "cell_type": "code",
   "execution_count": 130,
   "id": "1b144d03",
   "metadata": {},
   "outputs": [],
   "source": [
    "analyse_df = analyse_df.filter(pl.col('controle')>=2)\n",
    "#on recupere les customer_unique_id dans une liste\n",
    "liste_analyse = analyse_df['customer_unique_id'].to_list()"
   ]
  },
  {
   "cell_type": "code",
   "execution_count": 131,
   "id": "42350dd5",
   "metadata": {},
   "outputs": [
    {
     "data": {
      "text/html": [
       "<div><style>\n",
       ".dataframe > thead > tr > th,\n",
       ".dataframe > tbody > tr > td {\n",
       "  text-align: right;\n",
       "}\n",
       "</style>\n",
       "<small>shape: (2, 6)</small><table border=\"1\" class=\"dataframe\"><thead><tr><th>customer_unique_id</th><th>customer_id</th><th>order_id</th><th>order_item_id</th><th>paiement_total</th><th>order_purchase_timestamp</th></tr><tr><td>str</td><td>str</td><td>str</td><td>i64</td><td>f64</td><td>datetime[μs]</td></tr></thead><tbody><tr><td>&quot;f121995493925a...</td><td>&quot;bf16ebb1ed47bc...</td><td>&quot;b552f6623b3b47...</td><td>1</td><td>435.95</td><td>2018-01-16 00:00:00</td></tr><tr><td>&quot;f121995493925a...</td><td>&quot;080be8dccd7f4d...</td><td>&quot;840609035f6daa...</td><td>1</td><td>41.69</td><td>2017-08-14 00:00:00</td></tr></tbody></table></div>"
      ],
      "text/plain": [
       "shape: (2, 6)\n",
       "┌────────────────┬────────────────┬────────────────┬───────────────┬───────────────┬───────────────┐\n",
       "│ customer_uniqu ┆ customer_id    ┆ order_id       ┆ order_item_id ┆ paiement_tota ┆ order_purchas │\n",
       "│ e…             ┆ ---            ┆ ---            ┆ ---           ┆ l             ┆ e_…           │\n",
       "│ ---            ┆ str            ┆ str            ┆ i64           ┆ ---           ┆ ---           │\n",
       "│ str            ┆                ┆                ┆               ┆ f64           ┆ datetime[μs]  │\n",
       "╞════════════════╪════════════════╪════════════════╪═══════════════╪═══════════════╪═══════════════╡\n",
       "│ f121995493925a ┆ bf16ebb1ed47bc ┆ b552f6623b3b47 ┆ 1             ┆ 435.95        ┆ 2018-01-16    │\n",
       "│ 5…             ┆ e…             ┆ 4…             ┆               ┆               ┆ 00:0…         │\n",
       "│ f121995493925a ┆ 080be8dccd7f4d ┆ 840609035f6daa ┆ 1             ┆ 41.69         ┆ 2017-08-14    │\n",
       "│ 5…             ┆ 3…             ┆ 3…             ┆               ┆               ┆ 00:0…         │\n",
       "└────────────────┴────────────────┴────────────────┴───────────────┴───────────────┴───────────────┘"
      ]
     },
     "execution_count": 131,
     "metadata": {},
     "output_type": "execute_result"
    }
   ],
   "source": [
    "#anlyse de ces observations:\n",
    "#on selectionne les variables pour essayer de comprendre l'écart\n",
    "colonne_analyse = ['customer_unique_id', 'customer_id','order_id','order_item_id',\n",
    "                 'paiement_total','order_purchase_timestamp']\n",
    "\n",
    "analyse_df = order_item_1_df.filter(pl.col('customer_unique_id').is_in(liste_analyse))\n",
    "analyse_df[colonne_analyse].filter(pl.col('customer_unique_id')=='f121995493925a5ef0b46a13f594e0ab')"
   ]
  },
  {
   "cell_type": "markdown",
   "id": "66fea551",
   "metadata": {},
   "source": [
    "On voit ici que le customer_id correspond plus a un order_id qu'un referencement de client.\n",
    "On utilisera la colonne customer_unique_id comme référence client."
   ]
  },
  {
   "cell_type": "markdown",
   "id": "29458264",
   "metadata": {},
   "source": [
    "## creation de colonnes : Nombre achat & quantité acheté"
   ]
  },
  {
   "cell_type": "code",
   "execution_count": 132,
   "id": "8ee3f615",
   "metadata": {},
   "outputs": [
    {
     "data": {
      "text/html": [
       "<div><style>\n",
       ".dataframe > thead > tr > th,\n",
       ".dataframe > tbody > tr > td {\n",
       "  text-align: right;\n",
       "}\n",
       "</style>\n",
       "<small>shape: (2, 3)</small><table border=\"1\" class=\"dataframe\"><thead><tr><th>order_id</th><th>order_item_id</th><th>paiement_total</th></tr><tr><td>str</td><td>i64</td><td>f64</td></tr></thead><tbody><tr><td>&quot;aaff8afa47c842...</td><td>3</td><td>232.71</td></tr><tr><td>&quot;77b062be7c5bd2...</td><td>2</td><td>134.25</td></tr></tbody></table></div>"
      ],
      "text/plain": [
       "shape: (2, 3)\n",
       "┌──────────────────┬───────────────┬────────────────┐\n",
       "│ order_id         ┆ order_item_id ┆ paiement_total │\n",
       "│ ---              ┆ ---           ┆ ---            │\n",
       "│ str              ┆ i64           ┆ f64            │\n",
       "╞══════════════════╪═══════════════╪════════════════╡\n",
       "│ aaff8afa47c8426… ┆ 3             ┆ 232.71         │\n",
       "│ 77b062be7c5bd21… ┆ 2             ┆ 134.25         │\n",
       "└──────────────────┴───────────────┴────────────────┘"
      ]
     },
     "execution_count": 132,
     "metadata": {},
     "output_type": "execute_result"
    }
   ],
   "source": [
    "liste_order_item_id_plus = otis_df.select(\n",
    "    [pl.col('order_id'),\n",
    "     pl.col('order_item_id'),\n",
    "    ])\\\n",
    ".filter(pl.col('order_item_id')>=2)\\\n",
    ".select(pl.col('order_id'))['order_id'].to_list()\n",
    "\n",
    "otis_df.filter(\n",
    "    pl.col('order_id')\\\n",
    "    .is_in(liste_order_item_id_plus[0:2]))[['order_id','order_item_id','paiement_total']]"
   ]
  },
  {
   "cell_type": "markdown",
   "id": "ebb00703",
   "metadata": {},
   "source": [
    "On voit bien ici que le order_item_id correspond a la quantité acheté mais pas le nombre d'achat\n",
    "on devra donc creer deux colonnes : la quantité acheté et le nombre de commande."
   ]
  },
  {
   "cell_type": "markdown",
   "id": "713f90a5",
   "metadata": {},
   "source": [
    "## Le nombre d'achat"
   ]
  },
  {
   "cell_type": "code",
   "execution_count": 133,
   "id": "356af7fb",
   "metadata": {},
   "outputs": [
    {
     "data": {
      "text/html": [
       "<div><style>\n",
       ".dataframe > thead > tr > th,\n",
       ".dataframe > tbody > tr > td {\n",
       "  text-align: right;\n",
       "}\n",
       "</style>\n",
       "<small>shape: (5, 3)</small><table border=\"1\" class=\"dataframe\"><thead><tr><th>customer_unique_id</th><th>nb_commande</th><th>quantite_achat</th></tr><tr><td>str</td><td>u32</td><td>i64</td></tr></thead><tbody><tr><td>&quot;4350cf84c81dc8...</td><td>1</td><td>1</td></tr><tr><td>&quot;7968b545ea270a...</td><td>1</td><td>1</td></tr><tr><td>&quot;14ba18bb17a304...</td><td>1</td><td>1</td></tr><tr><td>&quot;cd54ac48febc79...</td><td>1</td><td>1</td></tr><tr><td>&quot;9fe43a80032120...</td><td>1</td><td>1</td></tr></tbody></table></div>"
      ],
      "text/plain": [
       "shape: (5, 3)\n",
       "┌──────────────────┬─────────────┬────────────────┐\n",
       "│ customer_unique… ┆ nb_commande ┆ quantite_achat │\n",
       "│ ---              ┆ ---         ┆ ---            │\n",
       "│ str              ┆ u32         ┆ i64            │\n",
       "╞══════════════════╪═════════════╪════════════════╡\n",
       "│ 4350cf84c81dc8d… ┆ 1           ┆ 1              │\n",
       "│ 7968b545ea270ae… ┆ 1           ┆ 1              │\n",
       "│ 14ba18bb17a304f… ┆ 1           ┆ 1              │\n",
       "│ cd54ac48febc799… ┆ 1           ┆ 1              │\n",
       "│ 9fe43a800321204… ┆ 1           ┆ 1              │\n",
       "└──────────────────┴─────────────┴────────────────┘"
      ]
     },
     "execution_count": 133,
     "metadata": {},
     "output_type": "execute_result"
    }
   ],
   "source": [
    "#pour le nombre d'achat nous ne prenons pas en compte la quantité acheté\n",
    "nombre_achat_customer_df = order_item_1_df.groupby(by = 'customer_unique_id')\\\n",
    ".agg([\n",
    "    pl.col('order_id').count().alias('nb_commande'),\n",
    "    pl.col('order_item_id').max().alias('quantite_achat')\n",
    "     ])\n",
    "nombre_achat_customer_df.head(5)"
   ]
  },
  {
   "cell_type": "code",
   "execution_count": 134,
   "id": "ea93a336",
   "metadata": {},
   "outputs": [],
   "source": [
    "#on effectue une jointure pour récuperer la colonne \"nombre achat\"\n",
    "otis_df = otis_df.join(nombre_achat_customer_df, on = 'customer_unique_id' , how = 'inner')"
   ]
  },
  {
   "cell_type": "code",
   "execution_count": 135,
   "id": "5e4fbba5",
   "metadata": {
    "scrolled": true
   },
   "outputs": [],
   "source": [
    "df_graph = otis_df.groupby(by = 'nb_commande').agg(pl.col('customer_unique_id').count().alias('nombre_customers'))"
   ]
  },
  {
   "cell_type": "code",
   "execution_count": 136,
   "id": "aa31eab6",
   "metadata": {
    "scrolled": true
   },
   "outputs": [
    {
     "data": {
      "image/png": "[encoded data removed]",
      "text/plain": [
       "<Figure size 500x300 with 1 Axes>"
      ]
     },
     "metadata": {},
     "output_type": "display_data"
    }
   ],
   "source": [
    "fig, ax = plt.subplots(1,1, figsize = (5,3))\n",
    "sns.barplot(df_graph.to_pandas(),  x = 'nb_commande', y = 'nombre_customers')\n",
    "\n",
    "plt.show()"
   ]
  },
  {
   "cell_type": "code",
   "execution_count": 137,
   "id": "cb61420d",
   "metadata": {},
   "outputs": [
    {
     "data": {
      "image/png": "[encoded data removed]",
      "text/plain": [
       "<Figure size 500x300 with 1 Axes>"
      ]
     },
     "metadata": {},
     "output_type": "display_data"
    }
   ],
   "source": [
    "fig, ax = plt.subplots(1,1, figsize = (5,3))\n",
    "data = df_graph.filter(pl.col('nb_commande')>2).to_pandas()\n",
    "sns.barplot(data,  x = 'nb_commande', y = 'nombre_customers')\n",
    "\n",
    "plt.show()"
   ]
  },
  {
   "cell_type": "markdown",
   "id": "cc2b3e18",
   "metadata": {},
   "source": [
    "## review score"
   ]
  },
  {
   "cell_type": "code",
   "execution_count": 138,
   "id": "9c4bcf5b",
   "metadata": {},
   "outputs": [
    {
     "ename": "ValueError",
     "evalue": "array length 12 does not match index length 11",
     "output_type": "error",
     "traceback": [
      "\u001b[0;31m---------------------------------------------------------------------------\u001b[0m",
      "\u001b[0;31mValueError\u001b[0m                                Traceback (most recent call last)",
      "\u001b[0;32m/tmp/ipykernel_92118/2545323601.py\u001b[0m in \u001b[0;36m<module>\u001b[0;34m\u001b[0m\n\u001b[1;32m      1\u001b[0m graph_df = pd.DataFrame({'score': otis_df.to_pandas()['review_score_moyen'].unique(),\n\u001b[0;32m----> 2\u001b[0;31m                          'quantité' :otis_df.to_pandas()['review_score_moyen'].value_counts()})\n\u001b[0m\u001b[1;32m      3\u001b[0m \u001b[0mgraph_df\u001b[0m \u001b[0;34m=\u001b[0m \u001b[0mgraph_df\u001b[0m\u001b[0;34m.\u001b[0m\u001b[0mreset_index\u001b[0m\u001b[0;34m(\u001b[0m\u001b[0mdrop\u001b[0m \u001b[0;34m=\u001b[0m \u001b[0;32mTrue\u001b[0m\u001b[0;34m)\u001b[0m\u001b[0;34m\u001b[0m\u001b[0;34m\u001b[0m\u001b[0m\n\u001b[1;32m      4\u001b[0m \u001b[0mgraph_df\u001b[0m\u001b[0;34m\u001b[0m\u001b[0;34m\u001b[0m\u001b[0m\n",
      "\u001b[0;32m~/anaconda3/envs/KeFlow/lib/python3.7/site-packages/pandas/core/frame.py\u001b[0m in \u001b[0;36m__init__\u001b[0;34m(self, data, index, columns, dtype, copy)\u001b[0m\n\u001b[1;32m    612\u001b[0m         \u001b[0;32melif\u001b[0m \u001b[0misinstance\u001b[0m\u001b[0;34m(\u001b[0m\u001b[0mdata\u001b[0m\u001b[0;34m,\u001b[0m \u001b[0mdict\u001b[0m\u001b[0;34m)\u001b[0m\u001b[0;34m:\u001b[0m\u001b[0;34m\u001b[0m\u001b[0;34m\u001b[0m\u001b[0m\n\u001b[1;32m    613\u001b[0m             \u001b[0;31m# GH#38939 de facto copy defaults to False only in non-dict cases\u001b[0m\u001b[0;34m\u001b[0m\u001b[0;34m\u001b[0m\u001b[0;34m\u001b[0m\u001b[0m\n\u001b[0;32m--> 614\u001b[0;31m             \u001b[0mmgr\u001b[0m \u001b[0;34m=\u001b[0m \u001b[0mdict_to_mgr\u001b[0m\u001b[0;34m(\u001b[0m\u001b[0mdata\u001b[0m\u001b[0;34m,\u001b[0m \u001b[0mindex\u001b[0m\u001b[0;34m,\u001b[0m \u001b[0mcolumns\u001b[0m\u001b[0;34m,\u001b[0m \u001b[0mdtype\u001b[0m\u001b[0;34m=\u001b[0m\u001b[0mdtype\u001b[0m\u001b[0;34m,\u001b[0m \u001b[0mcopy\u001b[0m\u001b[0;34m=\u001b[0m\u001b[0mcopy\u001b[0m\u001b[0;34m,\u001b[0m \u001b[0mtyp\u001b[0m\u001b[0;34m=\u001b[0m\u001b[0mmanager\u001b[0m\u001b[0;34m)\u001b[0m\u001b[0;34m\u001b[0m\u001b[0;34m\u001b[0m\u001b[0m\n\u001b[0m\u001b[1;32m    615\u001b[0m         \u001b[0;32melif\u001b[0m \u001b[0misinstance\u001b[0m\u001b[0;34m(\u001b[0m\u001b[0mdata\u001b[0m\u001b[0;34m,\u001b[0m \u001b[0mma\u001b[0m\u001b[0;34m.\u001b[0m\u001b[0mMaskedArray\u001b[0m\u001b[0;34m)\u001b[0m\u001b[0;34m:\u001b[0m\u001b[0;34m\u001b[0m\u001b[0;34m\u001b[0m\u001b[0m\n\u001b[1;32m    616\u001b[0m             \u001b[0;32mimport\u001b[0m \u001b[0mnumpy\u001b[0m\u001b[0;34m.\u001b[0m\u001b[0mma\u001b[0m\u001b[0;34m.\u001b[0m\u001b[0mmrecords\u001b[0m \u001b[0;32mas\u001b[0m \u001b[0mmrecords\u001b[0m\u001b[0;34m\u001b[0m\u001b[0;34m\u001b[0m\u001b[0m\n",
      "\u001b[0;32m~/anaconda3/envs/KeFlow/lib/python3.7/site-packages/pandas/core/internals/construction.py\u001b[0m in \u001b[0;36mdict_to_mgr\u001b[0;34m(data, index, columns, dtype, typ, copy)\u001b[0m\n\u001b[1;32m    463\u001b[0m \u001b[0;34m\u001b[0m\u001b[0m\n\u001b[1;32m    464\u001b[0m     return arrays_to_mgr(\n\u001b[0;32m--> 465\u001b[0;31m         \u001b[0marrays\u001b[0m\u001b[0;34m,\u001b[0m \u001b[0mdata_names\u001b[0m\u001b[0;34m,\u001b[0m \u001b[0mindex\u001b[0m\u001b[0;34m,\u001b[0m \u001b[0mcolumns\u001b[0m\u001b[0;34m,\u001b[0m \u001b[0mdtype\u001b[0m\u001b[0;34m=\u001b[0m\u001b[0mdtype\u001b[0m\u001b[0;34m,\u001b[0m \u001b[0mtyp\u001b[0m\u001b[0;34m=\u001b[0m\u001b[0mtyp\u001b[0m\u001b[0;34m,\u001b[0m \u001b[0mconsolidate\u001b[0m\u001b[0;34m=\u001b[0m\u001b[0mcopy\u001b[0m\u001b[0;34m\u001b[0m\u001b[0;34m\u001b[0m\u001b[0m\n\u001b[0m\u001b[1;32m    466\u001b[0m     )\n\u001b[1;32m    467\u001b[0m \u001b[0;34m\u001b[0m\u001b[0m\n",
      "\u001b[0;32m~/anaconda3/envs/KeFlow/lib/python3.7/site-packages/pandas/core/internals/construction.py\u001b[0m in \u001b[0;36marrays_to_mgr\u001b[0;34m(arrays, arr_names, index, columns, dtype, verify_integrity, typ, consolidate)\u001b[0m\n\u001b[1;32m    117\u001b[0m         \u001b[0;31m# figure out the index, if necessary\u001b[0m\u001b[0;34m\u001b[0m\u001b[0;34m\u001b[0m\u001b[0;34m\u001b[0m\u001b[0m\n\u001b[1;32m    118\u001b[0m         \u001b[0;32mif\u001b[0m \u001b[0mindex\u001b[0m \u001b[0;32mis\u001b[0m \u001b[0;32mNone\u001b[0m\u001b[0;34m:\u001b[0m\u001b[0;34m\u001b[0m\u001b[0;34m\u001b[0m\u001b[0m\n\u001b[0;32m--> 119\u001b[0;31m             \u001b[0mindex\u001b[0m \u001b[0;34m=\u001b[0m \u001b[0m_extract_index\u001b[0m\u001b[0;34m(\u001b[0m\u001b[0marrays\u001b[0m\u001b[0;34m)\u001b[0m\u001b[0;34m\u001b[0m\u001b[0;34m\u001b[0m\u001b[0m\n\u001b[0m\u001b[1;32m    120\u001b[0m         \u001b[0;32melse\u001b[0m\u001b[0;34m:\u001b[0m\u001b[0;34m\u001b[0m\u001b[0;34m\u001b[0m\u001b[0m\n\u001b[1;32m    121\u001b[0m             \u001b[0mindex\u001b[0m \u001b[0;34m=\u001b[0m \u001b[0mensure_index\u001b[0m\u001b[0;34m(\u001b[0m\u001b[0mindex\u001b[0m\u001b[0;34m)\u001b[0m\u001b[0;34m\u001b[0m\u001b[0;34m\u001b[0m\u001b[0m\n",
      "\u001b[0;32m~/anaconda3/envs/KeFlow/lib/python3.7/site-packages/pandas/core/internals/construction.py\u001b[0m in \u001b[0;36m_extract_index\u001b[0;34m(data)\u001b[0m\n\u001b[1;32m    647\u001b[0m                         \u001b[0;34mf\"length {len(index)}\"\u001b[0m\u001b[0;34m\u001b[0m\u001b[0;34m\u001b[0m\u001b[0m\n\u001b[1;32m    648\u001b[0m                     )\n\u001b[0;32m--> 649\u001b[0;31m                     \u001b[0;32mraise\u001b[0m \u001b[0mValueError\u001b[0m\u001b[0;34m(\u001b[0m\u001b[0mmsg\u001b[0m\u001b[0;34m)\u001b[0m\u001b[0;34m\u001b[0m\u001b[0;34m\u001b[0m\u001b[0m\n\u001b[0m\u001b[1;32m    650\u001b[0m             \u001b[0;32melse\u001b[0m\u001b[0;34m:\u001b[0m\u001b[0;34m\u001b[0m\u001b[0;34m\u001b[0m\u001b[0m\n\u001b[1;32m    651\u001b[0m                 \u001b[0mindex\u001b[0m \u001b[0;34m=\u001b[0m \u001b[0mibase\u001b[0m\u001b[0;34m.\u001b[0m\u001b[0mdefault_index\u001b[0m\u001b[0;34m(\u001b[0m\u001b[0mlengths\u001b[0m\u001b[0;34m[\u001b[0m\u001b[0;36m0\u001b[0m\u001b[0;34m]\u001b[0m\u001b[0;34m)\u001b[0m\u001b[0;34m\u001b[0m\u001b[0;34m\u001b[0m\u001b[0m\n",
      "\u001b[0;31mValueError\u001b[0m: array length 12 does not match index length 11"
     ]
    }
   ],
   "source": [
    "graph_df = pd.DataFrame({'score': otis_df.to_pandas()['review_score_moyen'].unique(),\n",
    "                         'quantité' :otis_df.to_pandas()['review_score_moyen'].value_counts()})\n",
    "graph_df = graph_df.reset_index(drop = True)\n",
    "graph_df"
   ]
  },
  {
   "cell_type": "code",
   "execution_count": null,
   "id": "a0f19cce",
   "metadata": {},
   "outputs": [],
   "source": [
    "fig, ax = plt.subplots(1,1,figsize=(4,3))\n",
    "sns.barplot(graph_df, x = 'score', y ='quantité')\n",
    "for container in ax.containers:\n",
    "        ax.bar_label(container, padding=-2, color = 'tab:blue')\n",
    "plt.show()"
   ]
  },
  {
   "cell_type": "markdown",
   "id": "0ae89679",
   "metadata": {},
   "source": [
    "## Paiement"
   ]
  },
  {
   "cell_type": "markdown",
   "id": "e059a71b",
   "metadata": {},
   "source": [
    "### Distribution"
   ]
  },
  {
   "cell_type": "code",
   "execution_count": 139,
   "id": "0204e134",
   "metadata": {},
   "outputs": [],
   "source": [
    "data = otis_df['paiement_total']"
   ]
  },
  {
   "cell_type": "code",
   "execution_count": 140,
   "id": "3ab005ca",
   "metadata": {},
   "outputs": [
    {
     "data": {
      "image/png": "[encoded data removed]",
      "text/plain": [
       "<Figure size 500x300 with 1 Axes>"
      ]
     },
     "metadata": {},
     "output_type": "display_data"
    }
   ],
   "source": [
    "fig, ax = plt.subplots(1,1, figsize= (5,3))\n",
    "sns.histplot(data.to_pandas(), color = sns.color_palette('deep')[1])\n",
    "plt.xlim(0,2000)\n",
    "plt.title('distribution de la valeur des paiements', color = \"tab:blue\")\n",
    "plt.show()"
   ]
  },
  {
   "cell_type": "code",
   "execution_count": 141,
   "id": "11d371ec",
   "metadata": {},
   "outputs": [
    {
     "data": {
      "text/html": [
       "<div><style>\n",
       ".dataframe > thead > tr > th,\n",
       ".dataframe > tbody > tr > td {\n",
       "  text-align: right;\n",
       "}\n",
       "</style>\n",
       "<small>shape: (4, 2)</small><table border=\"1\" class=\"dataframe\"><thead><tr><th>statistic</th><th>value</th></tr><tr><td>str</td><td>f64</td></tr></thead><tbody><tr><td>&quot;min&quot;</td><td>0.0</td></tr><tr><td>&quot;max&quot;</td><td>6929.31</td></tr><tr><td>&quot;mean&quot;</td><td>151.288329</td></tr><tr><td>&quot;std&quot;</td><td>205.561022</td></tr></tbody></table></div>"
      ],
      "text/plain": [
       "shape: (4, 2)\n",
       "┌───────────┬────────────┐\n",
       "│ statistic ┆ value      │\n",
       "│ ---       ┆ ---        │\n",
       "│ str       ┆ f64        │\n",
       "╞═══════════╪════════════╡\n",
       "│ min       ┆ 0.0        │\n",
       "│ max       ┆ 6929.31    │\n",
       "│ mean      ┆ 151.288329 │\n",
       "│ std       ┆ 205.561022 │\n",
       "└───────────┴────────────┘"
      ]
     },
     "execution_count": 141,
     "metadata": {},
     "output_type": "execute_result"
    }
   ],
   "source": [
    "statistic = ['min', 'mean','max','std' ]\n",
    "data.describe().filter(pl.col('statistic').is_in(statistic))"
   ]
  },
  {
   "cell_type": "markdown",
   "id": "1b64c3ef",
   "metadata": {},
   "source": [
    "## Constructionde la base clients"
   ]
  },
  {
   "cell_type": "code",
   "execution_count": 144,
   "id": "5ca5466e",
   "metadata": {},
   "outputs": [
    {
     "data": {
      "text/plain": [
       "['customer_id',\n",
       " 'customer_unique_id',\n",
       " 'order_id',\n",
       " 'order_status',\n",
       " 'order_purchase_timestamp',\n",
       " 'order_approved_at',\n",
       " 'paiement_total',\n",
       " 'nbre_versements',\n",
       " 'nb_review',\n",
       " 'review_score_moyen',\n",
       " 'order_item_id',\n",
       " 'temps_de_livraison',\n",
       " 'NJDA',\n",
       " 'nb_commande',\n",
       " 'quantite_achat']"
      ]
     },
     "execution_count": 144,
     "metadata": {},
     "output_type": "execute_result"
    }
   ],
   "source": [
    "otis_df.columns"
   ]
  },
  {
   "cell_type": "raw",
   "id": "2b119b42",
   "metadata": {},
   "source": [
    "Pour l'étude nous avons garder comme données celle qui permettent de faire une analyse RFM:\n",
    "Reccurence : Le nombre d'achats\n",
    "frequence : la date du dernier achat\n",
    "Montant : 'payment_value' moyen\n",
    "Nous avons ajouté :\n",
    "le temps de livraison\n",
    "le retour client (score review ) \n",
    "la quantité acheté par commande.\n",
    "Nous utiliserons la colonne 'customer_unique_client comme identification du client"
   ]
  },
  {
   "cell_type": "code",
   "execution_count": 145,
   "id": "629bd928",
   "metadata": {},
   "outputs": [],
   "source": [
    "otis_customers_df = otis_df.groupby(by ='customer_unique_id')\\\n",
    ".agg([pl.col('nb_commande').max().alias('nbre_achat'),\n",
    "      pl.col('quantite_achat').max().alias('quantite_achat_max'),\n",
    "      pl.col('paiement_total').mean().alias('paiement_moyen'),          #payement moyen\n",
    "      pl.col('temps_de_livraison').mean().alias('temps_livraison_moyen'), #temps de livraison moyen\n",
    "      pl.col('review_score_moyen').mean().alias('review_score_moyen'),        #'review_score_moyen'\n",
    "      pl.col('NJDA').min().alias('NJDA'),\n",
    "       ])"
   ]
  },
  {
   "cell_type": "code",
   "execution_count": 146,
   "id": "a26ad95e",
   "metadata": {},
   "outputs": [
    {
     "data": {
      "text/html": [
       "<div>\n",
       "<style scoped>\n",
       "    .dataframe tbody tr th:only-of-type {\n",
       "        vertical-align: middle;\n",
       "    }\n",
       "\n",
       "    .dataframe tbody tr th {\n",
       "        vertical-align: top;\n",
       "    }\n",
       "\n",
       "    .dataframe thead th {\n",
       "        text-align: right;\n",
       "    }\n",
       "</style>\n",
       "<table border=\"1\" class=\"dataframe\">\n",
       "  <thead>\n",
       "    <tr style=\"text-align: right;\">\n",
       "      <th></th>\n",
       "      <th>customer_unique_id</th>\n",
       "      <th>nbre_achat</th>\n",
       "      <th>quantite_achat_max</th>\n",
       "      <th>paiement_moyen</th>\n",
       "      <th>temps_livraison_moyen</th>\n",
       "      <th>review_score_moyen</th>\n",
       "      <th>NJDA</th>\n",
       "    </tr>\n",
       "  </thead>\n",
       "  <tbody>\n",
       "    <tr>\n",
       "      <th>0</th>\n",
       "      <td>8ac6335b52338b08e4f607ad01c0ca75</td>\n",
       "      <td>1</td>\n",
       "      <td>1</td>\n",
       "      <td>54.09</td>\n",
       "      <td>13 days</td>\n",
       "      <td>5.0</td>\n",
       "      <td>252</td>\n",
       "    </tr>\n",
       "    <tr>\n",
       "      <th>1</th>\n",
       "      <td>60a31fb224a2ade6a4a2508fb0305991</td>\n",
       "      <td>1</td>\n",
       "      <td>1</td>\n",
       "      <td>678.17</td>\n",
       "      <td>18 days</td>\n",
       "      <td>3.0</td>\n",
       "      <td>579</td>\n",
       "    </tr>\n",
       "    <tr>\n",
       "      <th>2</th>\n",
       "      <td>0825f342da6a33d48c89202d11ef61f7</td>\n",
       "      <td>1</td>\n",
       "      <td>1</td>\n",
       "      <td>138.64</td>\n",
       "      <td>6 days</td>\n",
       "      <td>5.0</td>\n",
       "      <td>88</td>\n",
       "    </tr>\n",
       "    <tr>\n",
       "      <th>3</th>\n",
       "      <td>49775316f12383c6fd30504f0922b7aa</td>\n",
       "      <td>1</td>\n",
       "      <td>1</td>\n",
       "      <td>49.09</td>\n",
       "      <td>22 days</td>\n",
       "      <td>1.0</td>\n",
       "      <td>323</td>\n",
       "    </tr>\n",
       "    <tr>\n",
       "      <th>4</th>\n",
       "      <td>71289f58e61bb9977ff1c6f7d91a5af7</td>\n",
       "      <td>1</td>\n",
       "      <td>1</td>\n",
       "      <td>35.24</td>\n",
       "      <td>8 days</td>\n",
       "      <td>5.0</td>\n",
       "      <td>90</td>\n",
       "    </tr>\n",
       "  </tbody>\n",
       "</table>\n",
       "</div>"
      ],
      "text/plain": [
       "                 customer_unique_id  nbre_achat  quantite_achat_max  \\\n",
       "0  8ac6335b52338b08e4f607ad01c0ca75           1                   1   \n",
       "1  60a31fb224a2ade6a4a2508fb0305991           1                   1   \n",
       "2  0825f342da6a33d48c89202d11ef61f7           1                   1   \n",
       "3  49775316f12383c6fd30504f0922b7aa           1                   1   \n",
       "4  71289f58e61bb9977ff1c6f7d91a5af7           1                   1   \n",
       "\n",
       "   paiement_moyen temps_livraison_moyen  review_score_moyen  NJDA  \n",
       "0           54.09               13 days                 5.0   252  \n",
       "1          678.17               18 days                 3.0   579  \n",
       "2          138.64                6 days                 5.0    88  \n",
       "3           49.09               22 days                 1.0   323  \n",
       "4           35.24                8 days                 5.0    90  "
      ]
     },
     "execution_count": 146,
     "metadata": {},
     "output_type": "execute_result"
    }
   ],
   "source": [
    "otis_customers_df = otis_customers_df.to_pandas()\n",
    "otis_customers_df.head(5)"
   ]
  },
  {
   "cell_type": "code",
   "execution_count": 147,
   "id": "d5f5ac09",
   "metadata": {},
   "outputs": [],
   "source": [
    "#on modifie le type de la colonne temps livraison moyen\n",
    "otis_customers_df['temps_livraison_moyen'] = otis_customers_df['temps_livraison_moyen'].view(int)"
   ]
  },
  {
   "cell_type": "code",
   "execution_count": 148,
   "id": "25ec27b7",
   "metadata": {},
   "outputs": [
    {
     "data": {
      "text/plain": [
       "customer_unique_id        object\n",
       "nbre_achat                uint32\n",
       "quantite_achat_max         int64\n",
       "paiement_moyen           float64\n",
       "temps_livraison_moyen      int64\n",
       "review_score_moyen       float64\n",
       "NJDA                       int64\n",
       "dtype: object"
      ]
     },
     "execution_count": 148,
     "metadata": {},
     "output_type": "execute_result"
    }
   ],
   "source": [
    "otis_customers_df.dtypes"
   ]
  },
  {
   "cell_type": "code",
   "execution_count": 149,
   "id": "fe1f3201",
   "metadata": {},
   "outputs": [],
   "source": [
    "#fichier customers plus(features)\n",
    "otis_customers_df.to_csv('data/cleaned/customers.csv')"
   ]
  },
  {
   "cell_type": "code",
   "execution_count": null,
   "id": "0f5f39d6",
   "metadata": {},
   "outputs": [],
   "source": []
  },
  {
   "cell_type": "code",
   "execution_count": null,
   "id": "41ef04a4",
   "metadata": {},
   "outputs": [],
   "source": []
  }
 ],
 "metadata": {
  "kernelspec": {
   "display_name": "Python 3 (ipykernel)",
   "language": "python",
   "name": "python3"
  },
  "language_info": {
   "codemirror_mode": {
    "name": "ipython",
    "version": 3
   },
   "file_extension": ".py",
   "mimetype": "text/x-python",
   "name": "python",
   "nbconvert_exporter": "python",
   "pygments_lexer": "ipython3",
   "version": "3.10.13"
  }
 },
 "nbformat": 4,
 "nbformat_minor": 5
}
