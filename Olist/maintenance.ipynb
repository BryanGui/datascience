{
 "cells": [
  {
   "cell_type": "code",
   "execution_count": 1,
   "id": "5ad81f01",
   "metadata": {},
   "outputs": [],
   "source": [
    "import os\n",
    "\n",
    "import pandas as pd\n",
    "import numpy as np\n",
    "\n",
    "from sklearn.preprocessing import StandardScaler\n",
    "\n",
    "from sklearn.compose import make_column_transformer, ColumnTransformer\n",
    "\n",
    "import matplotlib.pyplot as plt\n",
    "\n",
    "import matplotlib as mpl\n",
    "#----------------------------------------\n",
    "mpl.rcParams['xtick.color'] = 'tab:blue'\n",
    "mpl.rcParams['ytick.color'] = 'tab:blue'\n",
    "mpl.rcParams['axes.labelcolor'] = 'tab:blue'\n",
    "#----------------------------------------\n",
    "\n",
    "import seaborn as sns"
   ]
  },
  {
   "cell_type": "code",
   "execution_count": 2,
   "id": "cc4fdd85",
   "metadata": {},
   "outputs": [],
   "source": [
    "chemin = 'data/cleaned/maintenance.csv'\n",
    "maintenance_df = pd.read_csv(chemin, index_col = 0)"
   ]
  },
  {
   "cell_type": "code",
   "execution_count": 3,
   "id": "98126daf",
   "metadata": {},
   "outputs": [],
   "source": [
    "maintenance_df = maintenance_df.drop('temps_de_livraison', axis = 1)"
   ]
  },
  {
   "cell_type": "markdown",
   "id": "0abfb6e5",
   "metadata": {},
   "source": [
    "## Les valeurs manquantes"
   ]
  },
  {
   "cell_type": "code",
   "execution_count": 4,
   "id": "bba8a079",
   "metadata": {},
   "outputs": [
    {
     "name": "stdout",
     "output_type": "stream",
     "text": [
      "2400\n"
     ]
    }
   ],
   "source": [
    "rqdIndex = maintenance_df[maintenance_df['order_delivered_customer_date'].isna()].index\n",
    "print(len(rqdIndex))\n",
    "maintenance_df = maintenance_df.drop(rqdIndex, axis = 0)"
   ]
  },
  {
   "cell_type": "code",
   "execution_count": 5,
   "id": "9fe98b74",
   "metadata": {},
   "outputs": [
    {
     "name": "stdout",
     "output_type": "stream",
     "text": [
      "object et object\n"
     ]
    }
   ],
   "source": [
    "print(maintenance_df['order_purchase_timestamp'].dtypes, \"et\" ,  maintenance_df['order_delivered_customer_date'].dtypes)"
   ]
  },
  {
   "cell_type": "code",
   "execution_count": 6,
   "id": "1a9a3756",
   "metadata": {},
   "outputs": [],
   "source": [
    "maintenance_df['order_purchase_timestamp'] = pd.to_datetime(maintenance_df['order_purchase_timestamp'])"
   ]
  },
  {
   "cell_type": "code",
   "execution_count": 7,
   "id": "0b715d8a",
   "metadata": {},
   "outputs": [],
   "source": [
    " maintenance_df['order_delivered_customer_date'] =pd.to_datetime( maintenance_df['order_delivered_customer_date'])"
   ]
  },
  {
   "cell_type": "code",
   "execution_count": 8,
   "id": "afb58793",
   "metadata": {},
   "outputs": [
    {
     "name": "stdout",
     "output_type": "stream",
     "text": [
      "datetime64[ns] et datetime64[ns]\n"
     ]
    }
   ],
   "source": [
    "#verification que le format a bien été changé\n",
    "print(maintenance_df['order_purchase_timestamp'].dtypes, \"et\" ,  maintenance_df['order_delivered_customer_date'].dtypes)"
   ]
  },
  {
   "cell_type": "markdown",
   "id": "3c21114e",
   "metadata": {},
   "source": [
    "### Création de la colonne temps de livraison"
   ]
  },
  {
   "cell_type": "code",
   "execution_count": 9,
   "id": "24297e25",
   "metadata": {},
   "outputs": [
    {
     "data": {
      "text/plain": [
       "pandas._libs.tslibs.timestamps.Timestamp"
      ]
     },
     "execution_count": 9,
     "metadata": {},
     "output_type": "execute_result"
    }
   ],
   "source": [
    "type(maintenance_df['order_purchase_timestamp'].max())"
   ]
  },
  {
   "cell_type": "code",
   "execution_count": 10,
   "id": "2f7c9d7a",
   "metadata": {},
   "outputs": [
    {
     "data": {
      "text/plain": [
       "Timestamp('2018-08-29 00:00:00')"
      ]
     },
     "execution_count": 10,
     "metadata": {},
     "output_type": "execute_result"
    }
   ],
   "source": [
    "maintenance_df['order_purchase_timestamp'].max()"
   ]
  },
  {
   "cell_type": "code",
   "execution_count": 11,
   "id": "5c5a6bf6",
   "metadata": {},
   "outputs": [],
   "source": [
    "maintenance_df['temps_livraison'] = (maintenance_df['order_delivered_customer_date'] - maintenance_df['order_purchase_timestamp'])"
   ]
  },
  {
   "cell_type": "code",
   "execution_count": 12,
   "id": "491f313f",
   "metadata": {},
   "outputs": [],
   "source": [
    "maintenance_df['temps_livraison'] = maintenance_df['temps_livraison'].astype('timedelta64[D]')"
   ]
  },
  {
   "cell_type": "code",
   "execution_count": 13,
   "id": "1980ce7f",
   "metadata": {},
   "outputs": [],
   "source": [
    "maintenance_df['temps_livraison'] = maintenance_df['temps_livraison'].astype('int')"
   ]
  },
  {
   "cell_type": "code",
   "execution_count": 14,
   "id": "4342f91b",
   "metadata": {},
   "outputs": [
    {
     "data": {
      "text/plain": [
       "0          7\n",
       "1         16\n",
       "2          8\n",
       "3          6\n",
       "4         25\n",
       "          ..\n",
       "115604    17\n",
       "115605     9\n",
       "115606     5\n",
       "115607     2\n",
       "115608     5\n",
       "Name: temps_livraison, Length: 113209, dtype: int64"
      ]
     },
     "execution_count": 14,
     "metadata": {},
     "output_type": "execute_result"
    }
   ],
   "source": [
    "maintenance_df['temps_livraison']"
   ]
  },
  {
   "cell_type": "code",
   "execution_count": 15,
   "id": "b02be5af",
   "metadata": {},
   "outputs": [],
   "source": [
    "date = maintenance_df['order_purchase_timestamp'].value_counts().index\n",
    "quantité = maintenance_df['order_purchase_timestamp'].value_counts().values\n",
    "df_graph = pd.DataFrame({'date' : date, \n",
    "                         'quantité' : quantité\n",
    "                        })\n",
    "df_graph.dtypes\n",
    "df_graph = df_graph.sort_values(by = 'date')"
   ]
  },
  {
   "cell_type": "code",
   "execution_count": 16,
   "id": "05993f88",
   "metadata": {},
   "outputs": [
    {
     "data": {
      "text/plain": [
       "<AxesSubplot:xlabel='date', ylabel='quantité'>"
      ]
     },
     "execution_count": 16,
     "metadata": {},
     "output_type": "execute_result"
    },
    {
     "data": {
      "image/png": "[encoded data removed]",
      "text/plain": [
       "<Figure size 640x480 with 1 Axes>"
      ]
     },
     "metadata": {},
     "output_type": "display_data"
    }
   ],
   "source": [
    "sns.barplot(data = df_graph, x = 'date', y = 'quantité')"
   ]
  },
  {
   "cell_type": "code",
   "execution_count": 17,
   "id": "a47ff7c9",
   "metadata": {},
   "outputs": [
    {
     "data": {
      "text/html": [
       "<div>\n",
       "<style scoped>\n",
       "    .dataframe tbody tr th:only-of-type {\n",
       "        vertical-align: middle;\n",
       "    }\n",
       "\n",
       "    .dataframe tbody tr th {\n",
       "        vertical-align: top;\n",
       "    }\n",
       "\n",
       "    .dataframe thead th {\n",
       "        text-align: right;\n",
       "    }\n",
       "</style>\n",
       "<table border=\"1\" class=\"dataframe\">\n",
       "  <thead>\n",
       "    <tr style=\"text-align: right;\">\n",
       "      <th></th>\n",
       "      <th>date</th>\n",
       "      <th>quantité</th>\n",
       "    </tr>\n",
       "  </thead>\n",
       "  <tbody>\n",
       "    <tr>\n",
       "      <th>0</th>\n",
       "      <td>2017-11-24</td>\n",
       "      <td>1379</td>\n",
       "    </tr>\n",
       "  </tbody>\n",
       "</table>\n",
       "</div>"
      ],
      "text/plain": [
       "        date  quantité\n",
       "0 2017-11-24      1379"
      ]
     },
     "execution_count": 17,
     "metadata": {},
     "output_type": "execute_result"
    }
   ],
   "source": [
    "df_graph[df_graph['quantité'] == df_graph['quantité'].max()]"
   ]
  },
  {
   "cell_type": "markdown",
   "id": "c2cfa816",
   "metadata": {},
   "source": [
    "#### fonction ou on selectionne la date finale"
   ]
  },
  {
   "cell_type": "code",
   "execution_count": 18,
   "id": "07f67449",
   "metadata": {},
   "outputs": [],
   "source": [
    "#fonction qui va retourner une dataframe avec toutes les date < t0\n",
    "def creation_df_t0(t0):\n",
    "    cond = maintenance_df['order_purchase_timestamp'] <=  t0\n",
    "    rqdIndex = maintenance_df[cond].index\n",
    "    maintenance_t0_df = maintenance_df.loc[rqdIndex]\n",
    "    return maintenance_t0_df"
   ]
  },
  {
   "cell_type": "code",
   "execution_count": 19,
   "id": "a13f4874",
   "metadata": {},
   "outputs": [],
   "source": [
    "# Construction de la dataframe customers\n",
    "def creation_customers_df(t0,df):\n",
    "    temp_df = creation_df_t0(t0)\n",
    "    print(f\"Pour la date {t0}, nous avions une dataframe : {temp_df.shape}\")\n",
    "    customers_df = temp_df.groupby('customer_id')\\\n",
    "    .agg({'payment_value': 'mean', \n",
    "          'review_score': 'mean',\n",
    "          'nombre_achat' : 'max',\n",
    "          'Nbj_dernier_achat' : 'mean',\n",
    "          'temps_livraison' : 'mean'\n",
    "          })\n",
    "    print(f\"Nous obtenons une dataframe customers : {customers_df.shape}\")\n",
    "    return customers_df"
   ]
  },
  {
   "cell_type": "code",
   "execution_count": 20,
   "id": "a1d9b489",
   "metadata": {},
   "outputs": [
    {
     "data": {
      "text/plain": [
       "<function __main__.creation_df_t0(t0)>"
      ]
     },
     "execution_count": 20,
     "metadata": {},
     "output_type": "execute_result"
    }
   ],
   "source": [
    "creation_df_t0"
   ]
  },
  {
   "cell_type": "code",
   "execution_count": 21,
   "id": "9098f266",
   "metadata": {},
   "outputs": [
    {
     "name": "stdout",
     "output_type": "stream",
     "text": [
      "Pour la date 2017-11-24, nous avions une dataframe : (42611, 52)\n",
      "Nous obtenons une dataframe customers : (35124, 5)\n"
     ]
    },
    {
     "data": {
      "text/html": [
       "<div>\n",
       "<style scoped>\n",
       "    .dataframe tbody tr th:only-of-type {\n",
       "        vertical-align: middle;\n",
       "    }\n",
       "\n",
       "    .dataframe tbody tr th {\n",
       "        vertical-align: top;\n",
       "    }\n",
       "\n",
       "    .dataframe thead th {\n",
       "        text-align: right;\n",
       "    }\n",
       "</style>\n",
       "<table border=\"1\" class=\"dataframe\">\n",
       "  <thead>\n",
       "    <tr style=\"text-align: right;\">\n",
       "      <th></th>\n",
       "      <th>payment_value</th>\n",
       "      <th>review_score</th>\n",
       "      <th>nombre_achat</th>\n",
       "      <th>Nbj_dernier_achat</th>\n",
       "      <th>temps_livraison</th>\n",
       "    </tr>\n",
       "    <tr>\n",
       "      <th>customer_id</th>\n",
       "      <th></th>\n",
       "      <th></th>\n",
       "      <th></th>\n",
       "      <th></th>\n",
       "      <th></th>\n",
       "    </tr>\n",
       "  </thead>\n",
       "  <tbody>\n",
       "    <tr>\n",
       "      <th>00012a2ce6f8dcda20d059ce98491703</th>\n",
       "      <td>114.74</td>\n",
       "      <td>1.0</td>\n",
       "      <td>1</td>\n",
       "      <td>321.0</td>\n",
       "      <td>14.0</td>\n",
       "    </tr>\n",
       "    <tr>\n",
       "      <th>000161a058600d5901f007fab4c27140</th>\n",
       "      <td>67.41</td>\n",
       "      <td>4.0</td>\n",
       "      <td>1</td>\n",
       "      <td>442.0</td>\n",
       "      <td>9.0</td>\n",
       "    </tr>\n",
       "    <tr>\n",
       "      <th>0001fd6190edaaf884bcaf3d49edf079</th>\n",
       "      <td>195.42</td>\n",
       "      <td>5.0</td>\n",
       "      <td>1</td>\n",
       "      <td>580.0</td>\n",
       "      <td>6.0</td>\n",
       "    </tr>\n",
       "    <tr>\n",
       "      <th>0002414f95344307404f0ace7a26f1d5</th>\n",
       "      <td>179.35</td>\n",
       "      <td>5.0</td>\n",
       "      <td>1</td>\n",
       "      <td>411.0</td>\n",
       "      <td>28.0</td>\n",
       "    </tr>\n",
       "    <tr>\n",
       "      <th>0004164d20a9e969af783496f3408652</th>\n",
       "      <td>71.80</td>\n",
       "      <td>1.0</td>\n",
       "      <td>1</td>\n",
       "      <td>537.0</td>\n",
       "      <td>8.0</td>\n",
       "    </tr>\n",
       "    <tr>\n",
       "      <th>...</th>\n",
       "      <td>...</td>\n",
       "      <td>...</td>\n",
       "      <td>...</td>\n",
       "      <td>...</td>\n",
       "      <td>...</td>\n",
       "    </tr>\n",
       "    <tr>\n",
       "      <th>fff25ab9d3c9ba6ad8119576f285a3d9</th>\n",
       "      <td>220.71</td>\n",
       "      <td>5.0</td>\n",
       "      <td>1</td>\n",
       "      <td>515.0</td>\n",
       "      <td>14.0</td>\n",
       "    </tr>\n",
       "    <tr>\n",
       "      <th>fff415b4c72e09483a25c15108c65d31</th>\n",
       "      <td>84.57</td>\n",
       "      <td>5.0</td>\n",
       "      <td>1</td>\n",
       "      <td>311.0</td>\n",
       "      <td>13.0</td>\n",
       "    </tr>\n",
       "    <tr>\n",
       "      <th>fff4f0c85a4d710abe06599e1ed08a42</th>\n",
       "      <td>89.70</td>\n",
       "      <td>5.0</td>\n",
       "      <td>1</td>\n",
       "      <td>555.0</td>\n",
       "      <td>6.0</td>\n",
       "    </tr>\n",
       "    <tr>\n",
       "      <th>fffa0238b217e18a8adeeda0669923a3</th>\n",
       "      <td>43.72</td>\n",
       "      <td>5.0</td>\n",
       "      <td>1</td>\n",
       "      <td>385.0</td>\n",
       "      <td>2.0</td>\n",
       "    </tr>\n",
       "    <tr>\n",
       "      <th>ffffa3172527f765de70084a7e53aae8</th>\n",
       "      <td>45.50</td>\n",
       "      <td>5.0</td>\n",
       "      <td>2</td>\n",
       "      <td>394.0</td>\n",
       "      <td>12.0</td>\n",
       "    </tr>\n",
       "  </tbody>\n",
       "</table>\n",
       "<p>35124 rows × 5 columns</p>\n",
       "</div>"
      ],
      "text/plain": [
       "                                  payment_value  review_score  nombre_achat  \\\n",
       "customer_id                                                                   \n",
       "00012a2ce6f8dcda20d059ce98491703         114.74           1.0             1   \n",
       "000161a058600d5901f007fab4c27140          67.41           4.0             1   \n",
       "0001fd6190edaaf884bcaf3d49edf079         195.42           5.0             1   \n",
       "0002414f95344307404f0ace7a26f1d5         179.35           5.0             1   \n",
       "0004164d20a9e969af783496f3408652          71.80           1.0             1   \n",
       "...                                         ...           ...           ...   \n",
       "fff25ab9d3c9ba6ad8119576f285a3d9         220.71           5.0             1   \n",
       "fff415b4c72e09483a25c15108c65d31          84.57           5.0             1   \n",
       "fff4f0c85a4d710abe06599e1ed08a42          89.70           5.0             1   \n",
       "fffa0238b217e18a8adeeda0669923a3          43.72           5.0             1   \n",
       "ffffa3172527f765de70084a7e53aae8          45.50           5.0             2   \n",
       "\n",
       "                                  Nbj_dernier_achat  temps_livraison  \n",
       "customer_id                                                           \n",
       "00012a2ce6f8dcda20d059ce98491703              321.0             14.0  \n",
       "000161a058600d5901f007fab4c27140              442.0              9.0  \n",
       "0001fd6190edaaf884bcaf3d49edf079              580.0              6.0  \n",
       "0002414f95344307404f0ace7a26f1d5              411.0             28.0  \n",
       "0004164d20a9e969af783496f3408652              537.0              8.0  \n",
       "...                                             ...              ...  \n",
       "fff25ab9d3c9ba6ad8119576f285a3d9              515.0             14.0  \n",
       "fff415b4c72e09483a25c15108c65d31              311.0             13.0  \n",
       "fff4f0c85a4d710abe06599e1ed08a42              555.0              6.0  \n",
       "fffa0238b217e18a8adeeda0669923a3              385.0              2.0  \n",
       "ffffa3172527f765de70084a7e53aae8              394.0             12.0  \n",
       "\n",
       "[35124 rows x 5 columns]"
      ]
     },
     "execution_count": 21,
     "metadata": {},
     "output_type": "execute_result"
    }
   ],
   "source": [
    "df = maintenance_df\n",
    "t0 = '2017-11-24'\n",
    "creation_customers_df(t0,df)"
   ]
  },
  {
   "cell_type": "code",
   "execution_count": null,
   "id": "c29c1884",
   "metadata": {},
   "outputs": [],
   "source": []
  },
  {
   "cell_type": "code",
   "execution_count": 22,
   "id": "869ac4bd",
   "metadata": {},
   "outputs": [
    {
     "name": "stdout",
     "output_type": "stream",
     "text": [
      "Pour la date 2018-08-29 00:00:00, nous avions une dataframe : (113209, 52)\n",
      "Nous obtenons une dataframe customers : (94486, 5)\n"
     ]
    },
    {
     "data": {
      "text/html": [
       "<div>\n",
       "<style scoped>\n",
       "    .dataframe tbody tr th:only-of-type {\n",
       "        vertical-align: middle;\n",
       "    }\n",
       "\n",
       "    .dataframe tbody tr th {\n",
       "        vertical-align: top;\n",
       "    }\n",
       "\n",
       "    .dataframe thead th {\n",
       "        text-align: right;\n",
       "    }\n",
       "</style>\n",
       "<table border=\"1\" class=\"dataframe\">\n",
       "  <thead>\n",
       "    <tr style=\"text-align: right;\">\n",
       "      <th></th>\n",
       "      <th>payment_value</th>\n",
       "      <th>review_score</th>\n",
       "      <th>nombre_achat</th>\n",
       "      <th>Nbj_dernier_achat</th>\n",
       "      <th>temps_livraison</th>\n",
       "    </tr>\n",
       "    <tr>\n",
       "      <th>customer_id</th>\n",
       "      <th></th>\n",
       "      <th></th>\n",
       "      <th></th>\n",
       "      <th></th>\n",
       "      <th></th>\n",
       "    </tr>\n",
       "  </thead>\n",
       "  <tbody>\n",
       "    <tr>\n",
       "      <th>00012a2ce6f8dcda20d059ce98491703</th>\n",
       "      <td>114.74</td>\n",
       "      <td>1.0</td>\n",
       "      <td>1</td>\n",
       "      <td>321.0</td>\n",
       "      <td>14.0</td>\n",
       "    </tr>\n",
       "    <tr>\n",
       "      <th>000161a058600d5901f007fab4c27140</th>\n",
       "      <td>67.41</td>\n",
       "      <td>4.0</td>\n",
       "      <td>1</td>\n",
       "      <td>442.0</td>\n",
       "      <td>9.0</td>\n",
       "    </tr>\n",
       "    <tr>\n",
       "      <th>0001fd6190edaaf884bcaf3d49edf079</th>\n",
       "      <td>195.42</td>\n",
       "      <td>5.0</td>\n",
       "      <td>1</td>\n",
       "      <td>580.0</td>\n",
       "      <td>6.0</td>\n",
       "    </tr>\n",
       "    <tr>\n",
       "      <th>0002414f95344307404f0ace7a26f1d5</th>\n",
       "      <td>179.35</td>\n",
       "      <td>5.0</td>\n",
       "      <td>1</td>\n",
       "      <td>411.0</td>\n",
       "      <td>28.0</td>\n",
       "    </tr>\n",
       "    <tr>\n",
       "      <th>000379cdec625522490c315e70c7a9fb</th>\n",
       "      <td>107.01</td>\n",
       "      <td>4.0</td>\n",
       "      <td>1</td>\n",
       "      <td>182.0</td>\n",
       "      <td>11.0</td>\n",
       "    </tr>\n",
       "    <tr>\n",
       "      <th>...</th>\n",
       "      <td>...</td>\n",
       "      <td>...</td>\n",
       "      <td>...</td>\n",
       "      <td>...</td>\n",
       "      <td>...</td>\n",
       "    </tr>\n",
       "    <tr>\n",
       "      <th>fffcb937e9dd47a13f05ecb8290f4d3e</th>\n",
       "      <td>91.91</td>\n",
       "      <td>5.0</td>\n",
       "      <td>1</td>\n",
       "      <td>198.0</td>\n",
       "      <td>4.0</td>\n",
       "    </tr>\n",
       "    <tr>\n",
       "      <th>fffecc9f79fd8c764f843e9951b11341</th>\n",
       "      <td>27.12</td>\n",
       "      <td>3.0</td>\n",
       "      <td>3</td>\n",
       "      <td>186.0</td>\n",
       "      <td>12.0</td>\n",
       "    </tr>\n",
       "    <tr>\n",
       "      <th>fffeda5b6d849fbd39689bb92087f431</th>\n",
       "      <td>63.13</td>\n",
       "      <td>4.0</td>\n",
       "      <td>1</td>\n",
       "      <td>132.0</td>\n",
       "      <td>17.0</td>\n",
       "    </tr>\n",
       "    <tr>\n",
       "      <th>ffff42319e9b2d713724ae527742af25</th>\n",
       "      <td>214.13</td>\n",
       "      <td>5.0</td>\n",
       "      <td>1</td>\n",
       "      <td>110.0</td>\n",
       "      <td>5.0</td>\n",
       "    </tr>\n",
       "    <tr>\n",
       "      <th>ffffa3172527f765de70084a7e53aae8</th>\n",
       "      <td>45.50</td>\n",
       "      <td>5.0</td>\n",
       "      <td>2</td>\n",
       "      <td>394.0</td>\n",
       "      <td>12.0</td>\n",
       "    </tr>\n",
       "  </tbody>\n",
       "</table>\n",
       "<p>94486 rows × 5 columns</p>\n",
       "</div>"
      ],
      "text/plain": [
       "                                  payment_value  review_score  nombre_achat  \\\n",
       "customer_id                                                                   \n",
       "00012a2ce6f8dcda20d059ce98491703         114.74           1.0             1   \n",
       "000161a058600d5901f007fab4c27140          67.41           4.0             1   \n",
       "0001fd6190edaaf884bcaf3d49edf079         195.42           5.0             1   \n",
       "0002414f95344307404f0ace7a26f1d5         179.35           5.0             1   \n",
       "000379cdec625522490c315e70c7a9fb         107.01           4.0             1   \n",
       "...                                         ...           ...           ...   \n",
       "fffcb937e9dd47a13f05ecb8290f4d3e          91.91           5.0             1   \n",
       "fffecc9f79fd8c764f843e9951b11341          27.12           3.0             3   \n",
       "fffeda5b6d849fbd39689bb92087f431          63.13           4.0             1   \n",
       "ffff42319e9b2d713724ae527742af25         214.13           5.0             1   \n",
       "ffffa3172527f765de70084a7e53aae8          45.50           5.0             2   \n",
       "\n",
       "                                  Nbj_dernier_achat  temps_livraison  \n",
       "customer_id                                                           \n",
       "00012a2ce6f8dcda20d059ce98491703              321.0             14.0  \n",
       "000161a058600d5901f007fab4c27140              442.0              9.0  \n",
       "0001fd6190edaaf884bcaf3d49edf079              580.0              6.0  \n",
       "0002414f95344307404f0ace7a26f1d5              411.0             28.0  \n",
       "000379cdec625522490c315e70c7a9fb              182.0             11.0  \n",
       "...                                             ...              ...  \n",
       "fffcb937e9dd47a13f05ecb8290f4d3e              198.0              4.0  \n",
       "fffecc9f79fd8c764f843e9951b11341              186.0             12.0  \n",
       "fffeda5b6d849fbd39689bb92087f431              132.0             17.0  \n",
       "ffff42319e9b2d713724ae527742af25              110.0              5.0  \n",
       "ffffa3172527f765de70084a7e53aae8              394.0             12.0  \n",
       "\n",
       "[94486 rows x 5 columns]"
      ]
     },
     "execution_count": 22,
     "metadata": {},
     "output_type": "execute_result"
    }
   ],
   "source": [
    "# Test avec la date max \n",
    "df = maintenance_df\n",
    "t0 = '2018-08-29 00:00:00'\n",
    "creation_customers_df(t0,df)"
   ]
  },
  {
   "cell_type": "markdown",
   "id": "f26d41c7",
   "metadata": {},
   "source": [
    "### Constuction Kmeans avec 4 clusters"
   ]
  },
  {
   "cell_type": "code",
   "execution_count": 23,
   "id": "bce51f06",
   "metadata": {},
   "outputs": [],
   "source": [
    "from sklearn.cluster import KMeans"
   ]
  },
  {
   "cell_type": "code",
   "execution_count": 24,
   "id": "00dc7c4b",
   "metadata": {},
   "outputs": [
    {
     "data": {
      "text/plain": [
       "<function sklearn.cluster._kmeans.KMeans.__init__(self, n_clusters=8, *, init='k-means++', n_init=10, max_iter=300, tol=0.0001, verbose=0, random_state=None, copy_x=True, algorithm='auto')>"
      ]
     },
     "execution_count": 24,
     "metadata": {},
     "output_type": "execute_result"
    }
   ],
   "source": [
    "KMeans.__init__"
   ]
  },
  {
   "cell_type": "code",
   "execution_count": 25,
   "id": "f793ff47",
   "metadata": {},
   "outputs": [],
   "source": [
    "k_means = KMeans(n_clusters = 4, init = 'k-means++', max_iter = 300, random_state = 0, algorithm = \"elkan\")"
   ]
  },
  {
   "cell_type": "code",
   "execution_count": 26,
   "id": "426a7ffe",
   "metadata": {},
   "outputs": [],
   "source": [
    "#construction d'un pipeline \n",
    "from sklearn.pipeline import Pipeline\n",
    "modele = Pipeline(steps =[('preprocessing', StandardScaler()),\n",
    "                          ('estimator', k_means)\n",
    "                         ])"
   ]
  },
  {
   "cell_type": "markdown",
   "id": "7c4d8738",
   "metadata": {},
   "source": [
    "## Maintenance"
   ]
  },
  {
   "cell_type": "code",
   "execution_count": 27,
   "id": "9fd35dd2",
   "metadata": {},
   "outputs": [
    {
     "name": "stdout",
     "output_type": "stream",
     "text": [
      "Pour la date 2018-06-29 00:00:00, nous avions une dataframe : (98662, 52)\n",
      "Nous obtenons une dataframe customers : (81992, 5)\n"
     ]
    }
   ],
   "source": [
    "#selection de la date t0 et cretion de la database t0\n",
    "t0 = '2018-06-29 00:00:00'\n",
    "df = maintenance_df\n",
    "customers_t0_df = creation_customers_df(t0,df)"
   ]
  },
  {
   "cell_type": "code",
   "execution_count": 28,
   "id": "41783557",
   "metadata": {},
   "outputs": [],
   "source": [
    "#on fit le modele\n",
    "modele_t0 = modele.fit(customers_t0_df)"
   ]
  },
  {
   "cell_type": "code",
   "execution_count": 29,
   "id": "955dea2c",
   "metadata": {},
   "outputs": [
    {
     "data": {
      "text/plain": [
       "1    40948\n",
       "0    25788\n",
       "2    12556\n",
       "3     2700\n",
       "Name: labels, dtype: int64"
      ]
     },
     "execution_count": 29,
     "metadata": {},
     "output_type": "execute_result"
    }
   ],
   "source": [
    "#On ajoute la colonne df dans la dataframe\n",
    "customers_t0_df['labels'] = k_means.labels_\n",
    "customers_t0_df['labels'].value_counts()"
   ]
  },
  {
   "cell_type": "code",
   "execution_count": 30,
   "id": "f338348a",
   "metadata": {},
   "outputs": [
    {
     "name": "stdout",
     "output_type": "stream",
     "text": [
      "Pour la date 2018-08-29 00:00:00, nous avions une dataframe : (113209, 52)\n",
      "Nous obtenons une dataframe customers : (94486, 5)\n"
     ]
    }
   ],
   "source": [
    "#a t1 ou le nouveau t0 devient '2018-08-29 00:00:00'\n",
    "t0 = '2018-08-29 00:00:00'\n",
    "df = maintenance_df\n",
    "customers_t1_df = creation_customers_df(t0,df)"
   ]
  },
  {
   "cell_type": "markdown",
   "id": "1136eca0",
   "metadata": {},
   "source": [
    "### Mise en place du calcul de l'ARI"
   ]
  },
  {
   "cell_type": "code",
   "execution_count": 31,
   "id": "340caa9b",
   "metadata": {},
   "outputs": [
    {
     "data": {
      "text/plain": [
       "array([2, 0, 0, ..., 1, 1, 0], dtype=int32)"
      ]
     },
     "execution_count": 31,
     "metadata": {},
     "output_type": "execute_result"
    }
   ],
   "source": [
    "#label obtenu en t1 avec la methode de prédiction via le modele fit en t0\n",
    "t1_predict =modele_t0.predict(customers_t1_df)\n",
    "t1_predict"
   ]
  },
  {
   "cell_type": "code",
   "execution_count": 32,
   "id": "68d8b1e4",
   "metadata": {},
   "outputs": [
    {
     "data": {
      "text/plain": [
       "array([1, 1, 1, ..., 0, 0, 1], dtype=int32)"
      ]
     },
     "execution_count": 32,
     "metadata": {},
     "output_type": "execute_result"
    }
   ],
   "source": [
    "#label obtenu avec fit en t1\n",
    "modele_t1 = k_means.fit(customers_t1_df)\n",
    "modele_t1.labels_"
   ]
  },
  {
   "cell_type": "code",
   "execution_count": 33,
   "id": "7a67744e",
   "metadata": {},
   "outputs": [],
   "source": [
    "#on ajoutes les deux colonnes dans la data frame customers_t1\n",
    "customers_t1_df['labels_t1_predict_t0'] = t1_predict\n",
    "customers_t1_df['labels_t1'] = modele_t1.labels_"
   ]
  },
  {
   "cell_type": "code",
   "execution_count": 34,
   "id": "ddf45337",
   "metadata": {},
   "outputs": [
    {
     "data": {
      "text/plain": [
       "0.4439022709914569"
      ]
     },
     "execution_count": 34,
     "metadata": {},
     "output_type": "execute_result"
    }
   ],
   "source": [
    "from sklearn.metrics.cluster import adjusted_rand_score\n",
    "predict = customers_t1_df['labels_t1_predict_t0']\n",
    "labels = customers_t1_df['labels_t1'] \n",
    "adjusted_rand_score(labels, predict)"
   ]
  },
  {
   "cell_type": "markdown",
   "id": "160f4a92",
   "metadata": {},
   "source": [
    "## Automatisation et optimisation du calcul de l'ARI "
   ]
  },
  {
   "cell_type": "code",
   "execution_count": 35,
   "id": "a18f523b",
   "metadata": {},
   "outputs": [
    {
     "name": "stdout",
     "output_type": "stream",
     "text": [
      "2018-07-04 00:00:00\n"
     ]
    }
   ],
   "source": [
    "import pandas as pd\n",
    "\n",
    "t0 = '2018-06-29 00:00:00'\n",
    "t0_datetime = pd.to_datetime(t0)  # Convertir la chaîne de caractères en datetime\n",
    "t1_datetime = t0_datetime + pd.Timedelta(days=5)  # Ajouter 5 jours à la date\n",
    "t1 = t1_datetime.strftime('%Y-%m-%d %H:%M:%S')  # Convertir la datetime en chaîne de caractères\n",
    "\n",
    "print(t1)  # afficher la date résultante\n"
   ]
  },
  {
   "cell_type": "code",
   "execution_count": 36,
   "id": "3ec0d160",
   "metadata": {},
   "outputs": [
    {
     "data": {
      "text/plain": [
       "Timestamp('2018-06-29 00:00:00')"
      ]
     },
     "execution_count": 36,
     "metadata": {},
     "output_type": "execute_result"
    }
   ],
   "source": [
    "t0_datetime = pd.to_datetime(t0)\n",
    "t0_datetime"
   ]
  },
  {
   "cell_type": "code",
   "execution_count": 37,
   "id": "8b2b0908",
   "metadata": {},
   "outputs": [
    {
     "ename": "NameError",
     "evalue": "name 'new_t1' is not defined",
     "output_type": "error",
     "traceback": [
      "\u001b[0;31m---------------------------------------------------------------------------\u001b[0m",
      "\u001b[0;31mNameError\u001b[0m                                 Traceback (most recent call last)",
      "\u001b[0;32m/tmp/ipykernel_8004/54728552.py\u001b[0m in \u001b[0;36m<module>\u001b[0;34m\u001b[0m\n\u001b[0;32m----> 1\u001b[0;31m \u001b[0mcustomers_new_t1_df\u001b[0m \u001b[0;34m=\u001b[0m \u001b[0mcreation_customers_df\u001b[0m\u001b[0;34m(\u001b[0m\u001b[0mnew_t1\u001b[0m\u001b[0;34m,\u001b[0m\u001b[0mdf\u001b[0m\u001b[0;34m)\u001b[0m\u001b[0;34m\u001b[0m\u001b[0;34m\u001b[0m\u001b[0m\n\u001b[0m",
      "\u001b[0;31mNameError\u001b[0m: name 'new_t1' is not defined"
     ]
    }
   ],
   "source": [
    "customers_new_t1_df = creation_customers_df(new_t1,df)"
   ]
  },
  {
   "cell_type": "code",
   "execution_count": null,
   "id": "8972929c",
   "metadata": {},
   "outputs": [],
   "source": [
    "t0 = '2018-06-29 00:00:00'\n",
    "tf = "
   ]
  },
  {
   "cell_type": "code",
   "execution_count": null,
   "id": "d97dbc61",
   "metadata": {},
   "outputs": [],
   "source": []
  },
  {
   "cell_type": "code",
   "execution_count": 38,
   "id": "a6a829d0",
   "metadata": {},
   "outputs": [],
   "source": [
    "def new_t1 (t0,t1):\n",
    "    t0 = pd.to_datetime(t0,format='%Y-%m-%d %H:%M:%S')\n",
    "    t1 = pd.to_datetime(t1,format='%Y-%m-%d %H:%M:%S')\n",
    "    t2 = t0 + (t1-t0)/2\n",
    "    return pd.to_datetime(t2,format='%Y-%m-%d %H:%M:%S')"
   ]
  },
  {
   "cell_type": "code",
   "execution_count": 39,
   "id": "cd1811fc",
   "metadata": {},
   "outputs": [
    {
     "data": {
      "text/plain": [
       "<function sklearn.cluster._kmeans.KMeans.__init__(self, n_clusters=8, *, init='k-means++', n_init=10, max_iter=300, tol=0.0001, verbose=0, random_state=None, copy_x=True, algorithm='auto')>"
      ]
     },
     "execution_count": 39,
     "metadata": {},
     "output_type": "execute_result"
    }
   ],
   "source": [
    "KMeans.__init__"
   ]
  },
  {
   "cell_type": "code",
   "execution_count": 40,
   "id": "2438b7de",
   "metadata": {},
   "outputs": [],
   "source": [
    "t0 = '2018-06-29 00:00:00'\n",
    "tf = '2018-08-29 00:00:00'\n",
    "new_t1 = new_t1 (t0,t1)"
   ]
  },
  {
   "cell_type": "raw",
   "id": "eafef8f4",
   "metadata": {},
   "source": [
    "Ce qui nous interesse c'est de voir la différence entre les labels obtenus zvec d'un modele entrainé sur les données en date tf et les labels obtenus via un prediction sur les données en date tf mais avec un modele entrainé sur des données a une date antérieure t0"
   ]
  },
  {
   "cell_type": "code",
   "execution_count": 41,
   "id": "1748f480",
   "metadata": {},
   "outputs": [],
   "source": [
    "def optimisation_ARI(t0,tf):\n",
    "    #creation des listes pour enregistrer les différents score ARI\n",
    "    liste_ARI_score = []\n",
    "    liste_date_t0 = []\n",
    "    features = ['payment_value', 'review_score', 'nombre_achat', 'Nbj_dernier_achat','temps_livraison']\n",
    "    \n",
    "    #construction de la dataframe en tf:\n",
    "    customers_tf_df = creation_customers_df(tf,df)\n",
    "    \n",
    "#----------------------------------------MODELE------------------------------------------------------------------\n",
    "   \n",
    "    kmeans = KMeans(n_clusters = 4, init ='k-means++', algorithm  ='elkan')\n",
    "    \n",
    "    preprocessor = ColumnTransformer(transformers =[('scale', StandardScaler(), features)],\n",
    "                                    remainder  = 'passthrough')\n",
    "    \n",
    "    modele = Pipeline(steps =[('preprocessor', preprocessor),\n",
    "                              ('estimator', k_means)])\n",
    "#----------------------------------------------------------------------------------------------------------------    \n",
    "    \n",
    "    \n",
    "    #Entrainement modele date = tf pour obtenir les labels\n",
    "    modele_tf = modele.fit(customers_tf_df[features])\n",
    "    customers_tf_df['labels_t1'] = modele_tf[-1].labels_\n",
    "    \n",
    "    \n",
    "#-------------------------------ITERATION ARI SCORE--------------------------------------------------------------    \n",
    "    \n",
    "    new_t0 = t0        #initialisation de new_t0\n",
    "    while new_t0 < tf: #arret de la boucle\n",
    "        \n",
    "        #Dataframe en new_t0\n",
    "        customers_t0_df = creation_customers_df(new_t0,df)\n",
    "        \n",
    "        #Entrainement du modele en new_t0\n",
    "        modele_t0 = modele.fit(customers_t0_df[features])\n",
    "        \n",
    "        #labels predictions en tf avec le modele t0\n",
    "        tf_predict = modele_t0.predict(customers_tf_df) \n",
    "        customers_tf_df['labels_t1_predict_t0'] = tf_predict\n",
    "        \n",
    "        \n",
    "        #On calcul le score ARI\n",
    "        predict = customers_tf_df['labels_t1_predict_t0']\n",
    "        labels = customers_tf_df['labels_t1'] \n",
    "        ARI_score = adjusted_rand_score(labels, predict)\n",
    "        \n",
    "        \n",
    "        #on ajoute le date et le score dans les listes corespondantes\n",
    "        liste_ARI_score.append(ARI_score)\n",
    "        liste_date_t0.append(new_t0)\n",
    "        \n",
    "        #on fixe une nouvelle date\n",
    "        old_t0 = new_t0\n",
    "        old_t0_datetime = pd.to_datetime(old_t0)  # Convertir la chaîne de caractères en datetime\n",
    "        new_t0_datetime = old_t0_datetime + pd.Timedelta(days=7)  # Ajouter 5 jours à la date\n",
    "        new_t0 = new_t0_datetime.strftime('%Y-%m-%d %H:%M:%S')  # Convertir la datetime en chaîne de caractères\n",
    "        \n",
    "    return liste_ARI_score, liste_date_t0"
   ]
  },
  {
   "cell_type": "code",
   "execution_count": 42,
   "id": "0dd59661",
   "metadata": {
    "scrolled": true
   },
   "outputs": [
    {
     "name": "stdout",
     "output_type": "stream",
     "text": [
      "Pour la date 2018-08-29 00:00:00, nous avions une dataframe : (113209, 52)\n",
      "Nous obtenons une dataframe customers : (94486, 5)\n",
      "Pour la date 2017-08-29 00:00:00, nous avions une dataframe : (25908, 52)\n",
      "Nous obtenons une dataframe customers : (21383, 5)\n",
      "Pour la date 2017-09-05 00:00:00, nous avions une dataframe : (27092, 52)\n",
      "Nous obtenons une dataframe customers : (22350, 5)\n",
      "Pour la date 2017-09-12 00:00:00, nous avions une dataframe : (28216, 52)\n",
      "Nous obtenons une dataframe customers : (23286, 5)\n",
      "Pour la date 2017-09-19 00:00:00, nous avions une dataframe : (29469, 52)\n",
      "Nous obtenons une dataframe customers : (24336, 5)\n",
      "Pour la date 2017-09-26 00:00:00, nous avions une dataframe : (30612, 52)\n",
      "Nous obtenons une dataframe customers : (25258, 5)\n",
      "Pour la date 2017-10-03 00:00:00, nous avions une dataframe : (31745, 52)\n",
      "Nous obtenons une dataframe customers : (26203, 5)\n",
      "Pour la date 2017-10-10 00:00:00, nous avions une dataframe : (32927, 52)\n",
      "Nous obtenons une dataframe customers : (27183, 5)\n",
      "Pour la date 2017-10-17 00:00:00, nous avions une dataframe : (34193, 52)\n",
      "Nous obtenons une dataframe customers : (28212, 5)\n",
      "Pour la date 2017-10-24 00:00:00, nous avions une dataframe : (35442, 52)\n",
      "Nous obtenons une dataframe customers : (29232, 5)\n",
      "Pour la date 2017-10-31 00:00:00, nous avions une dataframe : (36581, 52)\n",
      "Nous obtenons une dataframe customers : (30145, 5)\n",
      "Pour la date 2017-11-07 00:00:00, nous avions une dataframe : (37705, 52)\n",
      "Nous obtenons une dataframe customers : (31075, 5)\n",
      "Pour la date 2017-11-14 00:00:00, nous avions une dataframe : (39107, 52)\n",
      "Nous obtenons une dataframe customers : (32262, 5)\n",
      "Pour la date 2017-11-21 00:00:00, nous avions une dataframe : (40665, 52)\n",
      "Nous obtenons une dataframe customers : (33545, 5)\n",
      "Pour la date 2017-11-28 00:00:00, nous avions une dataframe : (44612, 52)\n",
      "Nous obtenons une dataframe customers : (36721, 5)\n",
      "Pour la date 2017-12-05 00:00:00, nous avions une dataframe : (46764, 52)\n",
      "Nous obtenons une dataframe customers : (38553, 5)\n",
      "Pour la date 2017-12-12 00:00:00, nous avions une dataframe : (48544, 52)\n",
      "Nous obtenons une dataframe customers : (40046, 5)\n",
      "Pour la date 2017-12-19 00:00:00, nous avions une dataframe : (49951, 52)\n",
      "Nous obtenons une dataframe customers : (41250, 5)\n",
      "Pour la date 2017-12-26 00:00:00, nous avions une dataframe : (50874, 52)\n",
      "Nous obtenons une dataframe customers : (42047, 5)\n",
      "Pour la date 2018-01-02 00:00:00, nous avions une dataframe : (51848, 52)\n",
      "Nous obtenons une dataframe customers : (42869, 5)\n",
      "Pour la date 2018-01-09 00:00:00, nous avions une dataframe : (53677, 52)\n",
      "Nous obtenons une dataframe customers : (44421, 5)\n",
      "Pour la date 2018-01-16 00:00:00, nous avions une dataframe : (55783, 52)\n",
      "Nous obtenons une dataframe customers : (46176, 5)\n",
      "Pour la date 2018-01-23 00:00:00, nous avions une dataframe : (57648, 52)\n",
      "Nous obtenons une dataframe customers : (47770, 5)\n",
      "Pour la date 2018-01-30 00:00:00, nous avions une dataframe : (59393, 52)\n",
      "Nous obtenons une dataframe customers : (49213, 5)\n",
      "Pour la date 2018-02-06 00:00:00, nous avions une dataframe : (61255, 52)\n",
      "Nous obtenons une dataframe customers : (50780, 5)\n",
      "Pour la date 2018-02-13 00:00:00, nous avions une dataframe : (62918, 52)\n",
      "Nous obtenons une dataframe customers : (52189, 5)\n",
      "Pour la date 2018-02-20 00:00:00, nous avions une dataframe : (64889, 52)\n",
      "Nous obtenons une dataframe customers : (53842, 5)\n",
      "Pour la date 2018-02-27 00:00:00, nous avions une dataframe : (66992, 52)\n",
      "Nous obtenons une dataframe customers : (55562, 5)\n",
      "Pour la date 2018-03-06 00:00:00, nous avions une dataframe : (69065, 52)\n",
      "Nous obtenons une dataframe customers : (57302, 5)\n",
      "Pour la date 2018-03-13 00:00:00, nous avions une dataframe : (70803, 52)\n",
      "Nous obtenons une dataframe customers : (58777, 5)\n",
      "Pour la date 2018-03-20 00:00:00, nous avions une dataframe : (72801, 52)\n",
      "Nous obtenons une dataframe customers : (60421, 5)\n",
      "Pour la date 2018-03-27 00:00:00, nous avions une dataframe : (74691, 52)\n",
      "Nous obtenons une dataframe customers : (61981, 5)\n",
      "Pour la date 2018-04-03 00:00:00, nous avions une dataframe : (76372, 52)\n",
      "Nous obtenons une dataframe customers : (63391, 5)\n",
      "Pour la date 2018-04-10 00:00:00, nous avions une dataframe : (78070, 52)\n",
      "Nous obtenons une dataframe customers : (64844, 5)\n",
      "Pour la date 2018-04-17 00:00:00, nous avions une dataframe : (79976, 52)\n",
      "Nous obtenons une dataframe customers : (66421, 5)\n",
      "Pour la date 2018-04-24 00:00:00, nous avions une dataframe : (81947, 52)\n",
      "Nous obtenons une dataframe customers : (68057, 5)\n",
      "Pour la date 2018-05-01 00:00:00, nous avions une dataframe : (83812, 52)\n",
      "Nous obtenons une dataframe customers : (69628, 5)\n",
      "Pour la date 2018-05-08 00:00:00, nous avions une dataframe : (86068, 52)\n",
      "Nous obtenons une dataframe customers : (71543, 5)\n",
      "Pour la date 2018-05-15 00:00:00, nous avions une dataframe : (88438, 52)\n",
      "Nous obtenons une dataframe customers : (73481, 5)\n",
      "Pour la date 2018-05-22 00:00:00, nous avions une dataframe : (90222, 52)\n",
      "Nous obtenons une dataframe customers : (74965, 5)\n",
      "Pour la date 2018-05-29 00:00:00, nous avions une dataframe : (91228, 52)\n",
      "Nous obtenons une dataframe customers : (75795, 5)\n",
      "Pour la date 2018-06-05 00:00:00, nous avions une dataframe : (92646, 52)\n",
      "Nous obtenons une dataframe customers : (76990, 5)\n",
      "Pour la date 2018-06-12 00:00:00, nous avions une dataframe : (94502, 52)\n",
      "Nous obtenons une dataframe customers : (78520, 5)\n",
      "Pour la date 2018-06-19 00:00:00, nous avions une dataframe : (96195, 52)\n",
      "Nous obtenons une dataframe customers : (79943, 5)\n",
      "Pour la date 2018-06-26 00:00:00, nous avions une dataframe : (97933, 52)\n",
      "Nous obtenons une dataframe customers : (81377, 5)\n",
      "Pour la date 2018-07-03 00:00:00, nous avions une dataframe : (99447, 52)\n",
      "Nous obtenons une dataframe customers : (82675, 5)\n",
      "Pour la date 2018-07-10 00:00:00, nous avions une dataframe : (100642, 52)\n",
      "Nous obtenons une dataframe customers : (83707, 5)\n",
      "Pour la date 2018-07-17 00:00:00, nous avions une dataframe : (101948, 52)\n",
      "Nous obtenons une dataframe customers : (84844, 5)\n",
      "Pour la date 2018-07-24 00:00:00, nous avions une dataframe : (103961, 52)\n",
      "Nous obtenons une dataframe customers : (86575, 5)\n",
      "Pour la date 2018-07-31 00:00:00, nous avions une dataframe : (105914, 52)\n",
      "Nous obtenons une dataframe customers : (88188, 5)\n",
      "Pour la date 2018-08-07 00:00:00, nous avions une dataframe : (108385, 52)\n",
      "Nous obtenons une dataframe customers : (90298, 5)\n",
      "Pour la date 2018-08-14 00:00:00, nous avions une dataframe : (110458, 52)\n",
      "Nous obtenons une dataframe customers : (92097, 5)\n",
      "Pour la date 2018-08-21 00:00:00, nous avions une dataframe : (112418, 52)\n",
      "Nous obtenons une dataframe customers : (93810, 5)\n",
      "Pour la date 2018-08-28 00:00:00, nous avions une dataframe : (113193, 52)\n",
      "Nous obtenons une dataframe customers : (94475, 5)\n"
     ]
    }
   ],
   "source": [
    "t0 = '2017-08-29 00:00:00'\n",
    "tf = '2018-08-29 00:00:00'\n",
    "liste_ARI_score, liste_date_t0 = optimisation_ARI(t0,tf)"
   ]
  },
  {
   "cell_type": "code",
   "execution_count": 43,
   "id": "dcb5afdd",
   "metadata": {},
   "outputs": [],
   "source": [
    "#on change le format de la date dans la liste\n",
    "liste_date_t0 = [x.split(' ')[0] for x in liste_date_t0]"
   ]
  },
  {
   "cell_type": "code",
   "execution_count": 52,
   "id": "0d23a749",
   "metadata": {
    "scrolled": true
   },
   "outputs": [
    {
     "data": {
      "text/html": [
       "<div>\n",
       "<style scoped>\n",
       "    .dataframe tbody tr th:only-of-type {\n",
       "        vertical-align: middle;\n",
       "    }\n",
       "\n",
       "    .dataframe tbody tr th {\n",
       "        vertical-align: top;\n",
       "    }\n",
       "\n",
       "    .dataframe thead th {\n",
       "        text-align: right;\n",
       "    }\n",
       "</style>\n",
       "<table border=\"1\" class=\"dataframe\">\n",
       "  <thead>\n",
       "    <tr style=\"text-align: right;\">\n",
       "      <th></th>\n",
       "      <th>Ari_score</th>\n",
       "      <th>date</th>\n",
       "    </tr>\n",
       "  </thead>\n",
       "  <tbody>\n",
       "    <tr>\n",
       "      <th>52</th>\n",
       "      <td>0.999782</td>\n",
       "      <td>2018-08-28</td>\n",
       "    </tr>\n",
       "    <tr>\n",
       "      <th>51</th>\n",
       "      <td>0.990651</td>\n",
       "      <td>2018-08-21</td>\n",
       "    </tr>\n",
       "    <tr>\n",
       "      <th>50</th>\n",
       "      <td>0.963611</td>\n",
       "      <td>2018-08-14</td>\n",
       "    </tr>\n",
       "    <tr>\n",
       "      <th>49</th>\n",
       "      <td>0.923145</td>\n",
       "      <td>2018-08-07</td>\n",
       "    </tr>\n",
       "    <tr>\n",
       "      <th>48</th>\n",
       "      <td>0.779281</td>\n",
       "      <td>2018-07-31</td>\n",
       "    </tr>\n",
       "    <tr>\n",
       "      <th>47</th>\n",
       "      <td>0.755604</td>\n",
       "      <td>2018-07-24</td>\n",
       "    </tr>\n",
       "    <tr>\n",
       "      <th>46</th>\n",
       "      <td>0.734018</td>\n",
       "      <td>2018-07-17</td>\n",
       "    </tr>\n",
       "    <tr>\n",
       "      <th>45</th>\n",
       "      <td>0.725307</td>\n",
       "      <td>2018-07-10</td>\n",
       "    </tr>\n",
       "    <tr>\n",
       "      <th>44</th>\n",
       "      <td>0.717745</td>\n",
       "      <td>2018-07-03</td>\n",
       "    </tr>\n",
       "    <tr>\n",
       "      <th>43</th>\n",
       "      <td>0.707427</td>\n",
       "      <td>2018-06-26</td>\n",
       "    </tr>\n",
       "    <tr>\n",
       "      <th>42</th>\n",
       "      <td>0.696601</td>\n",
       "      <td>2018-06-19</td>\n",
       "    </tr>\n",
       "    <tr>\n",
       "      <th>41</th>\n",
       "      <td>0.685028</td>\n",
       "      <td>2018-06-12</td>\n",
       "    </tr>\n",
       "    <tr>\n",
       "      <th>40</th>\n",
       "      <td>0.672627</td>\n",
       "      <td>2018-06-05</td>\n",
       "    </tr>\n",
       "    <tr>\n",
       "      <th>39</th>\n",
       "      <td>0.659962</td>\n",
       "      <td>2018-05-29</td>\n",
       "    </tr>\n",
       "    <tr>\n",
       "      <th>38</th>\n",
       "      <td>0.650273</td>\n",
       "      <td>2018-05-22</td>\n",
       "    </tr>\n",
       "    <tr>\n",
       "      <th>37</th>\n",
       "      <td>0.638341</td>\n",
       "      <td>2018-05-15</td>\n",
       "    </tr>\n",
       "    <tr>\n",
       "      <th>36</th>\n",
       "      <td>0.621403</td>\n",
       "      <td>2018-05-08</td>\n",
       "    </tr>\n",
       "    <tr>\n",
       "      <th>35</th>\n",
       "      <td>0.608223</td>\n",
       "      <td>2018-05-01</td>\n",
       "    </tr>\n",
       "    <tr>\n",
       "      <th>34</th>\n",
       "      <td>0.597067</td>\n",
       "      <td>2018-04-24</td>\n",
       "    </tr>\n",
       "    <tr>\n",
       "      <th>33</th>\n",
       "      <td>0.584537</td>\n",
       "      <td>2018-04-17</td>\n",
       "    </tr>\n",
       "    <tr>\n",
       "      <th>32</th>\n",
       "      <td>0.572822</td>\n",
       "      <td>2018-04-10</td>\n",
       "    </tr>\n",
       "    <tr>\n",
       "      <th>31</th>\n",
       "      <td>0.564090</td>\n",
       "      <td>2018-04-03</td>\n",
       "    </tr>\n",
       "    <tr>\n",
       "      <th>30</th>\n",
       "      <td>0.555050</td>\n",
       "      <td>2018-03-27</td>\n",
       "    </tr>\n",
       "    <tr>\n",
       "      <th>29</th>\n",
       "      <td>0.543974</td>\n",
       "      <td>2018-03-20</td>\n",
       "    </tr>\n",
       "    <tr>\n",
       "      <th>28</th>\n",
       "      <td>0.534655</td>\n",
       "      <td>2018-03-13</td>\n",
       "    </tr>\n",
       "    <tr>\n",
       "      <th>27</th>\n",
       "      <td>0.526065</td>\n",
       "      <td>2018-03-06</td>\n",
       "    </tr>\n",
       "    <tr>\n",
       "      <th>26</th>\n",
       "      <td>0.516688</td>\n",
       "      <td>2018-02-27</td>\n",
       "    </tr>\n",
       "    <tr>\n",
       "      <th>25</th>\n",
       "      <td>0.508499</td>\n",
       "      <td>2018-02-20</td>\n",
       "    </tr>\n",
       "    <tr>\n",
       "      <th>24</th>\n",
       "      <td>0.497547</td>\n",
       "      <td>2018-02-13</td>\n",
       "    </tr>\n",
       "    <tr>\n",
       "      <th>23</th>\n",
       "      <td>0.489215</td>\n",
       "      <td>2018-02-06</td>\n",
       "    </tr>\n",
       "    <tr>\n",
       "      <th>22</th>\n",
       "      <td>0.476554</td>\n",
       "      <td>2018-01-30</td>\n",
       "    </tr>\n",
       "    <tr>\n",
       "      <th>21</th>\n",
       "      <td>0.465626</td>\n",
       "      <td>2018-01-23</td>\n",
       "    </tr>\n",
       "    <tr>\n",
       "      <th>20</th>\n",
       "      <td>0.452243</td>\n",
       "      <td>2018-01-16</td>\n",
       "    </tr>\n",
       "    <tr>\n",
       "      <th>19</th>\n",
       "      <td>0.440770</td>\n",
       "      <td>2018-01-09</td>\n",
       "    </tr>\n",
       "    <tr>\n",
       "      <th>18</th>\n",
       "      <td>0.428436</td>\n",
       "      <td>2018-01-02</td>\n",
       "    </tr>\n",
       "    <tr>\n",
       "      <th>17</th>\n",
       "      <td>0.422664</td>\n",
       "      <td>2017-12-26</td>\n",
       "    </tr>\n",
       "    <tr>\n",
       "      <th>16</th>\n",
       "      <td>0.418988</td>\n",
       "      <td>2017-12-19</td>\n",
       "    </tr>\n",
       "    <tr>\n",
       "      <th>15</th>\n",
       "      <td>0.410453</td>\n",
       "      <td>2017-12-12</td>\n",
       "    </tr>\n",
       "    <tr>\n",
       "      <th>14</th>\n",
       "      <td>0.402829</td>\n",
       "      <td>2017-12-05</td>\n",
       "    </tr>\n",
       "    <tr>\n",
       "      <th>13</th>\n",
       "      <td>0.386678</td>\n",
       "      <td>2017-11-28</td>\n",
       "    </tr>\n",
       "    <tr>\n",
       "      <th>12</th>\n",
       "      <td>0.360780</td>\n",
       "      <td>2017-11-21</td>\n",
       "    </tr>\n",
       "    <tr>\n",
       "      <th>11</th>\n",
       "      <td>0.351793</td>\n",
       "      <td>2017-11-14</td>\n",
       "    </tr>\n",
       "    <tr>\n",
       "      <th>10</th>\n",
       "      <td>0.341236</td>\n",
       "      <td>2017-11-07</td>\n",
       "    </tr>\n",
       "    <tr>\n",
       "      <th>9</th>\n",
       "      <td>0.332481</td>\n",
       "      <td>2017-10-31</td>\n",
       "    </tr>\n",
       "    <tr>\n",
       "      <th>8</th>\n",
       "      <td>0.325870</td>\n",
       "      <td>2017-10-24</td>\n",
       "    </tr>\n",
       "    <tr>\n",
       "      <th>7</th>\n",
       "      <td>0.314441</td>\n",
       "      <td>2017-10-17</td>\n",
       "    </tr>\n",
       "    <tr>\n",
       "      <th>6</th>\n",
       "      <td>0.300428</td>\n",
       "      <td>2017-10-10</td>\n",
       "    </tr>\n",
       "    <tr>\n",
       "      <th>5</th>\n",
       "      <td>0.291347</td>\n",
       "      <td>2017-10-03</td>\n",
       "    </tr>\n",
       "    <tr>\n",
       "      <th>4</th>\n",
       "      <td>0.284314</td>\n",
       "      <td>2017-09-26</td>\n",
       "    </tr>\n",
       "    <tr>\n",
       "      <th>3</th>\n",
       "      <td>0.277008</td>\n",
       "      <td>2017-09-19</td>\n",
       "    </tr>\n",
       "    <tr>\n",
       "      <th>2</th>\n",
       "      <td>0.264620</td>\n",
       "      <td>2017-09-12</td>\n",
       "    </tr>\n",
       "    <tr>\n",
       "      <th>1</th>\n",
       "      <td>0.255937</td>\n",
       "      <td>2017-09-05</td>\n",
       "    </tr>\n",
       "    <tr>\n",
       "      <th>0</th>\n",
       "      <td>0.247287</td>\n",
       "      <td>2017-08-29</td>\n",
       "    </tr>\n",
       "  </tbody>\n",
       "</table>\n",
       "</div>"
      ],
      "text/plain": [
       "    Ari_score        date\n",
       "52   0.999782  2018-08-28\n",
       "51   0.990651  2018-08-21\n",
       "50   0.963611  2018-08-14\n",
       "49   0.923145  2018-08-07\n",
       "48   0.779281  2018-07-31\n",
       "47   0.755604  2018-07-24\n",
       "46   0.734018  2018-07-17\n",
       "45   0.725307  2018-07-10\n",
       "44   0.717745  2018-07-03\n",
       "43   0.707427  2018-06-26\n",
       "42   0.696601  2018-06-19\n",
       "41   0.685028  2018-06-12\n",
       "40   0.672627  2018-06-05\n",
       "39   0.659962  2018-05-29\n",
       "38   0.650273  2018-05-22\n",
       "37   0.638341  2018-05-15\n",
       "36   0.621403  2018-05-08\n",
       "35   0.608223  2018-05-01\n",
       "34   0.597067  2018-04-24\n",
       "33   0.584537  2018-04-17\n",
       "32   0.572822  2018-04-10\n",
       "31   0.564090  2018-04-03\n",
       "30   0.555050  2018-03-27\n",
       "29   0.543974  2018-03-20\n",
       "28   0.534655  2018-03-13\n",
       "27   0.526065  2018-03-06\n",
       "26   0.516688  2018-02-27\n",
       "25   0.508499  2018-02-20\n",
       "24   0.497547  2018-02-13\n",
       "23   0.489215  2018-02-06\n",
       "22   0.476554  2018-01-30\n",
       "21   0.465626  2018-01-23\n",
       "20   0.452243  2018-01-16\n",
       "19   0.440770  2018-01-09\n",
       "18   0.428436  2018-01-02\n",
       "17   0.422664  2017-12-26\n",
       "16   0.418988  2017-12-19\n",
       "15   0.410453  2017-12-12\n",
       "14   0.402829  2017-12-05\n",
       "13   0.386678  2017-11-28\n",
       "12   0.360780  2017-11-21\n",
       "11   0.351793  2017-11-14\n",
       "10   0.341236  2017-11-07\n",
       "9    0.332481  2017-10-31\n",
       "8    0.325870  2017-10-24\n",
       "7    0.314441  2017-10-17\n",
       "6    0.300428  2017-10-10\n",
       "5    0.291347  2017-10-03\n",
       "4    0.284314  2017-09-26\n",
       "3    0.277008  2017-09-19\n",
       "2    0.264620  2017-09-12\n",
       "1    0.255937  2017-09-05\n",
       "0    0.247287  2017-08-29"
      ]
     },
     "execution_count": 52,
     "metadata": {},
     "output_type": "execute_result"
    }
   ],
   "source": [
    "Ari_score_df = pd.DataFrame({'Ari_score': liste_ARI_score,'date' : liste_date_t0 })\n",
    "Ari_score_df.sort_values(by ='Ari_score', ascending = False)"
   ]
  },
  {
   "cell_type": "code",
   "execution_count": null,
   "id": "ce4890b3",
   "metadata": {},
   "outputs": [],
   "source": []
  },
  {
   "cell_type": "code",
   "execution_count": 45,
   "id": "2a69d977",
   "metadata": {},
   "outputs": [
    {
     "name": "stderr",
     "output_type": "stream",
     "text": [
      "/home/bryan/anaconda3/envs/KeFlow/lib/python3.7/site-packages/ipykernel_launcher.py:3: UserWarning: FixedFormatter should only be used together with FixedLocator\n",
      "  This is separate from the ipykernel package so we can avoid doing imports until\n"
     ]
    },
    {
     "data": {
      "image/png": "[encoded data removed]",
      "text/plain": [
       "<Figure size 600x600 with 1 Axes>"
      ]
     },
     "metadata": {},
     "output_type": "display_data"
    }
   ],
   "source": [
    "fig, ax = plt.subplots(1,1, figsize = (6,6))\n",
    "plt.plot(liste_date_t0, liste_ARI_score)\n",
    "ax.set_xticklabels(liste_date_t0, rotation = 90, ha ='right')\n",
    "plt.show()"
   ]
  },
  {
   "cell_type": "code",
   "execution_count": null,
   "id": "d26a203b",
   "metadata": {},
   "outputs": [],
   "source": [
    "pd.to"
   ]
  },
  {
   "cell_type": "code",
   "execution_count": null,
   "id": "f67cce8a",
   "metadata": {},
   "outputs": [],
   "source": []
  }
 ],
 "metadata": {
  "kernelspec": {
   "display_name": "Python 3 (ipykernel)",
   "language": "python",
   "name": "python3"
  },
  "language_info": {
   "codemirror_mode": {
    "name": "ipython",
    "version": 3
   },
   "file_extension": ".py",
   "mimetype": "text/x-python",
   "name": "python",
   "nbconvert_exporter": "python",
   "pygments_lexer": "ipython3",
   "version": "3.7.16"
  }
 },
 "nbformat": 4,
 "nbformat_minor": 5
}
