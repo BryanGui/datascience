{
 "cells": [
  {
   "cell_type": "markdown",
   "id": "84ad31b2",
   "metadata": {},
   "source": [
    "# Analyse univariée"
   ]
  },
  {
   "cell_type": "code",
   "execution_count": 1,
   "id": "0e29abc6",
   "metadata": {},
   "outputs": [],
   "source": [
    "import pandas as pd\n",
    "import traitement_texte as tt\n",
    "import os\n",
    "import seaborn as sns\n",
    "import matplotlib.pyplot as plt\n",
    "from scipy import stats"
   ]
  },
  {
   "cell_type": "code",
   "execution_count": 2,
   "id": "a32d6e80",
   "metadata": {},
   "outputs": [
    {
     "data": {
      "text/plain": [
       "'/home/bryan/OpenClassRoom/Projet_Nutri/netoyage données'"
      ]
     },
     "execution_count": 2,
     "metadata": {},
     "output_type": "execute_result"
    }
   ],
   "source": [
    "os.getcwd()"
   ]
  },
  {
   "cell_type": "code",
   "execution_count": 3,
   "id": "d45bd9f0",
   "metadata": {},
   "outputs": [
    {
     "ename": "FileNotFoundError",
     "evalue": "[Errno 2] No such file or directory: '/home/bryan/OpenClassRoom/Projet_1/data/df_clean.csv'",
     "output_type": "error",
     "traceback": [
      "\u001b[0;31m---------------------------------------------------------------------------\u001b[0m",
      "\u001b[0;31mFileNotFoundError\u001b[0m                         Traceback (most recent call last)",
      "\u001b[0;32m/tmp/ipykernel_94231/1626672629.py\u001b[0m in \u001b[0;36m<module>\u001b[0;34m\u001b[0m\n\u001b[1;32m      2\u001b[0m \u001b[0mPATH_DIRECTORY\u001b[0m \u001b[0;34m=\u001b[0m \u001b[0;34m'/home/bryan/OpenClassRoom/Projet_1/data'\u001b[0m\u001b[0;34m\u001b[0m\u001b[0;34m\u001b[0m\u001b[0m\n\u001b[1;32m      3\u001b[0m \u001b[0mPATH_COMPLET\u001b[0m \u001b[0;34m=\u001b[0m \u001b[0mos\u001b[0m\u001b[0;34m.\u001b[0m\u001b[0mpath\u001b[0m\u001b[0;34m.\u001b[0m\u001b[0mjoin\u001b[0m\u001b[0;34m(\u001b[0m\u001b[0mPATH_DIRECTORY\u001b[0m\u001b[0;34m,\u001b[0m \u001b[0mnom_fichier\u001b[0m\u001b[0;34m)\u001b[0m\u001b[0;34m\u001b[0m\u001b[0;34m\u001b[0m\u001b[0m\n\u001b[0;32m----> 4\u001b[0;31m \u001b[0mdf\u001b[0m \u001b[0;34m=\u001b[0m \u001b[0mpd\u001b[0m\u001b[0;34m.\u001b[0m\u001b[0mread_csv\u001b[0m\u001b[0;34m(\u001b[0m\u001b[0mPATH_COMPLET\u001b[0m\u001b[0;34m,\u001b[0m \u001b[0mindex_col\u001b[0m \u001b[0;34m=\u001b[0m \u001b[0;36m0\u001b[0m\u001b[0;34m,\u001b[0m \u001b[0mlow_memory\u001b[0m\u001b[0;34m=\u001b[0m\u001b[0;32mFalse\u001b[0m\u001b[0;34m)\u001b[0m\u001b[0;34m\u001b[0m\u001b[0;34m\u001b[0m\u001b[0m\n\u001b[0m",
      "\u001b[0;32m~/anaconda3/envs/KeFlow/lib/python3.7/site-packages/pandas/util/_decorators.py\u001b[0m in \u001b[0;36mwrapper\u001b[0;34m(*args, **kwargs)\u001b[0m\n\u001b[1;32m    309\u001b[0m                     \u001b[0mstacklevel\u001b[0m\u001b[0;34m=\u001b[0m\u001b[0mstacklevel\u001b[0m\u001b[0;34m,\u001b[0m\u001b[0;34m\u001b[0m\u001b[0;34m\u001b[0m\u001b[0m\n\u001b[1;32m    310\u001b[0m                 )\n\u001b[0;32m--> 311\u001b[0;31m             \u001b[0;32mreturn\u001b[0m \u001b[0mfunc\u001b[0m\u001b[0;34m(\u001b[0m\u001b[0;34m*\u001b[0m\u001b[0margs\u001b[0m\u001b[0;34m,\u001b[0m \u001b[0;34m**\u001b[0m\u001b[0mkwargs\u001b[0m\u001b[0;34m)\u001b[0m\u001b[0;34m\u001b[0m\u001b[0;34m\u001b[0m\u001b[0m\n\u001b[0m\u001b[1;32m    312\u001b[0m \u001b[0;34m\u001b[0m\u001b[0m\n\u001b[1;32m    313\u001b[0m         \u001b[0;32mreturn\u001b[0m \u001b[0mwrapper\u001b[0m\u001b[0;34m\u001b[0m\u001b[0;34m\u001b[0m\u001b[0m\n",
      "\u001b[0;32m~/anaconda3/envs/KeFlow/lib/python3.7/site-packages/pandas/io/parsers/readers.py\u001b[0m in \u001b[0;36mread_csv\u001b[0;34m(filepath_or_buffer, sep, delimiter, header, names, index_col, usecols, squeeze, prefix, mangle_dupe_cols, dtype, engine, converters, true_values, false_values, skipinitialspace, skiprows, skipfooter, nrows, na_values, keep_default_na, na_filter, verbose, skip_blank_lines, parse_dates, infer_datetime_format, keep_date_col, date_parser, dayfirst, cache_dates, iterator, chunksize, compression, thousands, decimal, lineterminator, quotechar, quoting, doublequote, escapechar, comment, encoding, encoding_errors, dialect, error_bad_lines, warn_bad_lines, on_bad_lines, delim_whitespace, low_memory, memory_map, float_precision, storage_options)\u001b[0m\n\u001b[1;32m    584\u001b[0m     \u001b[0mkwds\u001b[0m\u001b[0;34m.\u001b[0m\u001b[0mupdate\u001b[0m\u001b[0;34m(\u001b[0m\u001b[0mkwds_defaults\u001b[0m\u001b[0;34m)\u001b[0m\u001b[0;34m\u001b[0m\u001b[0;34m\u001b[0m\u001b[0m\n\u001b[1;32m    585\u001b[0m \u001b[0;34m\u001b[0m\u001b[0m\n\u001b[0;32m--> 586\u001b[0;31m     \u001b[0;32mreturn\u001b[0m \u001b[0m_read\u001b[0m\u001b[0;34m(\u001b[0m\u001b[0mfilepath_or_buffer\u001b[0m\u001b[0;34m,\u001b[0m \u001b[0mkwds\u001b[0m\u001b[0;34m)\u001b[0m\u001b[0;34m\u001b[0m\u001b[0;34m\u001b[0m\u001b[0m\n\u001b[0m\u001b[1;32m    587\u001b[0m \u001b[0;34m\u001b[0m\u001b[0m\n\u001b[1;32m    588\u001b[0m \u001b[0;34m\u001b[0m\u001b[0m\n",
      "\u001b[0;32m~/anaconda3/envs/KeFlow/lib/python3.7/site-packages/pandas/io/parsers/readers.py\u001b[0m in \u001b[0;36m_read\u001b[0;34m(filepath_or_buffer, kwds)\u001b[0m\n\u001b[1;32m    480\u001b[0m \u001b[0;34m\u001b[0m\u001b[0m\n\u001b[1;32m    481\u001b[0m     \u001b[0;31m# Create the parser.\u001b[0m\u001b[0;34m\u001b[0m\u001b[0;34m\u001b[0m\u001b[0;34m\u001b[0m\u001b[0m\n\u001b[0;32m--> 482\u001b[0;31m     \u001b[0mparser\u001b[0m \u001b[0;34m=\u001b[0m \u001b[0mTextFileReader\u001b[0m\u001b[0;34m(\u001b[0m\u001b[0mfilepath_or_buffer\u001b[0m\u001b[0;34m,\u001b[0m \u001b[0;34m**\u001b[0m\u001b[0mkwds\u001b[0m\u001b[0;34m)\u001b[0m\u001b[0;34m\u001b[0m\u001b[0;34m\u001b[0m\u001b[0m\n\u001b[0m\u001b[1;32m    483\u001b[0m \u001b[0;34m\u001b[0m\u001b[0m\n\u001b[1;32m    484\u001b[0m     \u001b[0;32mif\u001b[0m \u001b[0mchunksize\u001b[0m \u001b[0;32mor\u001b[0m \u001b[0miterator\u001b[0m\u001b[0;34m:\u001b[0m\u001b[0;34m\u001b[0m\u001b[0;34m\u001b[0m\u001b[0m\n",
      "\u001b[0;32m~/anaconda3/envs/KeFlow/lib/python3.7/site-packages/pandas/io/parsers/readers.py\u001b[0m in \u001b[0;36m__init__\u001b[0;34m(self, f, engine, **kwds)\u001b[0m\n\u001b[1;32m    809\u001b[0m             \u001b[0mself\u001b[0m\u001b[0;34m.\u001b[0m\u001b[0moptions\u001b[0m\u001b[0;34m[\u001b[0m\u001b[0;34m\"has_index_names\"\u001b[0m\u001b[0;34m]\u001b[0m \u001b[0;34m=\u001b[0m \u001b[0mkwds\u001b[0m\u001b[0;34m[\u001b[0m\u001b[0;34m\"has_index_names\"\u001b[0m\u001b[0;34m]\u001b[0m\u001b[0;34m\u001b[0m\u001b[0;34m\u001b[0m\u001b[0m\n\u001b[1;32m    810\u001b[0m \u001b[0;34m\u001b[0m\u001b[0m\n\u001b[0;32m--> 811\u001b[0;31m         \u001b[0mself\u001b[0m\u001b[0;34m.\u001b[0m\u001b[0m_engine\u001b[0m \u001b[0;34m=\u001b[0m \u001b[0mself\u001b[0m\u001b[0;34m.\u001b[0m\u001b[0m_make_engine\u001b[0m\u001b[0;34m(\u001b[0m\u001b[0mself\u001b[0m\u001b[0;34m.\u001b[0m\u001b[0mengine\u001b[0m\u001b[0;34m)\u001b[0m\u001b[0;34m\u001b[0m\u001b[0;34m\u001b[0m\u001b[0m\n\u001b[0m\u001b[1;32m    812\u001b[0m \u001b[0;34m\u001b[0m\u001b[0m\n\u001b[1;32m    813\u001b[0m     \u001b[0;32mdef\u001b[0m \u001b[0mclose\u001b[0m\u001b[0;34m(\u001b[0m\u001b[0mself\u001b[0m\u001b[0;34m)\u001b[0m\u001b[0;34m:\u001b[0m\u001b[0;34m\u001b[0m\u001b[0;34m\u001b[0m\u001b[0m\n",
      "\u001b[0;32m~/anaconda3/envs/KeFlow/lib/python3.7/site-packages/pandas/io/parsers/readers.py\u001b[0m in \u001b[0;36m_make_engine\u001b[0;34m(self, engine)\u001b[0m\n\u001b[1;32m   1038\u001b[0m             )\n\u001b[1;32m   1039\u001b[0m         \u001b[0;31m# error: Too many arguments for \"ParserBase\"\u001b[0m\u001b[0;34m\u001b[0m\u001b[0;34m\u001b[0m\u001b[0;34m\u001b[0m\u001b[0m\n\u001b[0;32m-> 1040\u001b[0;31m         \u001b[0;32mreturn\u001b[0m \u001b[0mmapping\u001b[0m\u001b[0;34m[\u001b[0m\u001b[0mengine\u001b[0m\u001b[0;34m]\u001b[0m\u001b[0;34m(\u001b[0m\u001b[0mself\u001b[0m\u001b[0;34m.\u001b[0m\u001b[0mf\u001b[0m\u001b[0;34m,\u001b[0m \u001b[0;34m**\u001b[0m\u001b[0mself\u001b[0m\u001b[0;34m.\u001b[0m\u001b[0moptions\u001b[0m\u001b[0;34m)\u001b[0m  \u001b[0;31m# type: ignore[call-arg]\u001b[0m\u001b[0;34m\u001b[0m\u001b[0;34m\u001b[0m\u001b[0m\n\u001b[0m\u001b[1;32m   1041\u001b[0m \u001b[0;34m\u001b[0m\u001b[0m\n\u001b[1;32m   1042\u001b[0m     \u001b[0;32mdef\u001b[0m \u001b[0m_failover_to_python\u001b[0m\u001b[0;34m(\u001b[0m\u001b[0mself\u001b[0m\u001b[0;34m)\u001b[0m\u001b[0;34m:\u001b[0m\u001b[0;34m\u001b[0m\u001b[0;34m\u001b[0m\u001b[0m\n",
      "\u001b[0;32m~/anaconda3/envs/KeFlow/lib/python3.7/site-packages/pandas/io/parsers/c_parser_wrapper.py\u001b[0m in \u001b[0;36m__init__\u001b[0;34m(self, src, **kwds)\u001b[0m\n\u001b[1;32m     49\u001b[0m \u001b[0;34m\u001b[0m\u001b[0m\n\u001b[1;32m     50\u001b[0m         \u001b[0;31m# open handles\u001b[0m\u001b[0;34m\u001b[0m\u001b[0;34m\u001b[0m\u001b[0;34m\u001b[0m\u001b[0m\n\u001b[0;32m---> 51\u001b[0;31m         \u001b[0mself\u001b[0m\u001b[0;34m.\u001b[0m\u001b[0m_open_handles\u001b[0m\u001b[0;34m(\u001b[0m\u001b[0msrc\u001b[0m\u001b[0;34m,\u001b[0m \u001b[0mkwds\u001b[0m\u001b[0;34m)\u001b[0m\u001b[0;34m\u001b[0m\u001b[0;34m\u001b[0m\u001b[0m\n\u001b[0m\u001b[1;32m     52\u001b[0m         \u001b[0;32massert\u001b[0m \u001b[0mself\u001b[0m\u001b[0;34m.\u001b[0m\u001b[0mhandles\u001b[0m \u001b[0;32mis\u001b[0m \u001b[0;32mnot\u001b[0m \u001b[0;32mNone\u001b[0m\u001b[0;34m\u001b[0m\u001b[0;34m\u001b[0m\u001b[0m\n\u001b[1;32m     53\u001b[0m \u001b[0;34m\u001b[0m\u001b[0m\n",
      "\u001b[0;32m~/anaconda3/envs/KeFlow/lib/python3.7/site-packages/pandas/io/parsers/base_parser.py\u001b[0m in \u001b[0;36m_open_handles\u001b[0;34m(self, src, kwds)\u001b[0m\n\u001b[1;32m    227\u001b[0m             \u001b[0mmemory_map\u001b[0m\u001b[0;34m=\u001b[0m\u001b[0mkwds\u001b[0m\u001b[0;34m.\u001b[0m\u001b[0mget\u001b[0m\u001b[0;34m(\u001b[0m\u001b[0;34m\"memory_map\"\u001b[0m\u001b[0;34m,\u001b[0m \u001b[0;32mFalse\u001b[0m\u001b[0;34m)\u001b[0m\u001b[0;34m,\u001b[0m\u001b[0;34m\u001b[0m\u001b[0;34m\u001b[0m\u001b[0m\n\u001b[1;32m    228\u001b[0m             \u001b[0mstorage_options\u001b[0m\u001b[0;34m=\u001b[0m\u001b[0mkwds\u001b[0m\u001b[0;34m.\u001b[0m\u001b[0mget\u001b[0m\u001b[0;34m(\u001b[0m\u001b[0;34m\"storage_options\"\u001b[0m\u001b[0;34m,\u001b[0m \u001b[0;32mNone\u001b[0m\u001b[0;34m)\u001b[0m\u001b[0;34m,\u001b[0m\u001b[0;34m\u001b[0m\u001b[0;34m\u001b[0m\u001b[0m\n\u001b[0;32m--> 229\u001b[0;31m             \u001b[0merrors\u001b[0m\u001b[0;34m=\u001b[0m\u001b[0mkwds\u001b[0m\u001b[0;34m.\u001b[0m\u001b[0mget\u001b[0m\u001b[0;34m(\u001b[0m\u001b[0;34m\"encoding_errors\"\u001b[0m\u001b[0;34m,\u001b[0m \u001b[0;34m\"strict\"\u001b[0m\u001b[0;34m)\u001b[0m\u001b[0;34m,\u001b[0m\u001b[0;34m\u001b[0m\u001b[0;34m\u001b[0m\u001b[0m\n\u001b[0m\u001b[1;32m    230\u001b[0m         )\n\u001b[1;32m    231\u001b[0m \u001b[0;34m\u001b[0m\u001b[0m\n",
      "\u001b[0;32m~/anaconda3/envs/KeFlow/lib/python3.7/site-packages/pandas/io/common.py\u001b[0m in \u001b[0;36mget_handle\u001b[0;34m(path_or_buf, mode, encoding, compression, memory_map, is_text, errors, storage_options)\u001b[0m\n\u001b[1;32m    705\u001b[0m                 \u001b[0mencoding\u001b[0m\u001b[0;34m=\u001b[0m\u001b[0mioargs\u001b[0m\u001b[0;34m.\u001b[0m\u001b[0mencoding\u001b[0m\u001b[0;34m,\u001b[0m\u001b[0;34m\u001b[0m\u001b[0;34m\u001b[0m\u001b[0m\n\u001b[1;32m    706\u001b[0m                 \u001b[0merrors\u001b[0m\u001b[0;34m=\u001b[0m\u001b[0merrors\u001b[0m\u001b[0;34m,\u001b[0m\u001b[0;34m\u001b[0m\u001b[0;34m\u001b[0m\u001b[0m\n\u001b[0;32m--> 707\u001b[0;31m                 \u001b[0mnewline\u001b[0m\u001b[0;34m=\u001b[0m\u001b[0;34m\"\"\u001b[0m\u001b[0;34m,\u001b[0m\u001b[0;34m\u001b[0m\u001b[0;34m\u001b[0m\u001b[0m\n\u001b[0m\u001b[1;32m    708\u001b[0m             )\n\u001b[1;32m    709\u001b[0m         \u001b[0;32melse\u001b[0m\u001b[0;34m:\u001b[0m\u001b[0;34m\u001b[0m\u001b[0;34m\u001b[0m\u001b[0m\n",
      "\u001b[0;31mFileNotFoundError\u001b[0m: [Errno 2] No such file or directory: '/home/bryan/OpenClassRoom/Projet_1/data/df_clean.csv'"
     ]
    }
   ],
   "source": [
    "nom_fichier = 'df_clean.csv'\n",
    "PATH_DIRECTORY = '/home/bryan/OpenClassRoom/Projet_1/data'\n",
    "PATH_COMPLET = os.path.join(PATH_DIRECTORY, nom_fichier)\n",
    "df = pd.read_csv(PATH_COMPLET, index_col = 0, low_memory=False)"
   ]
  },
  {
   "cell_type": "code",
   "execution_count": null,
   "id": "ec8400e4",
   "metadata": {},
   "outputs": [],
   "source": [
    "graph_path = '/home/bryan/OpenClassRoom/Projet_1/graphique'"
   ]
  },
  {
   "cell_type": "markdown",
   "id": "1e60aebe",
   "metadata": {},
   "source": [
    "## analyse de la variable \"additives\""
   ]
  },
  {
   "cell_type": "code",
   "execution_count": null,
   "id": "dfe4e395",
   "metadata": {},
   "outputs": [],
   "source": [
    "df['additives_n'].unique()"
   ]
  },
  {
   "cell_type": "code",
   "execution_count": null,
   "id": "d5478d34",
   "metadata": {},
   "outputs": [],
   "source": [
    "df['additives_tags'].unique()"
   ]
  },
  {
   "cell_type": "code",
   "execution_count": null,
   "id": "cb753399",
   "metadata": {},
   "outputs": [],
   "source": [
    "df['additives_tags'].isna().sum()"
   ]
  },
  {
   "cell_type": "code",
   "execution_count": null,
   "id": "ee5f162d",
   "metadata": {},
   "outputs": [],
   "source": [
    "def transform_to_list(string):\n",
    "    string = str(string).split(\" \")\n",
    "    return string"
   ]
  },
  {
   "cell_type": "code",
   "execution_count": null,
   "id": "92d788b2",
   "metadata": {},
   "outputs": [],
   "source": [
    "df['additives_tags'][df['additives_tags'].notna()] = df['additives_tags'].apply(transform_to_list)"
   ]
  },
  {
   "cell_type": "code",
   "execution_count": null,
   "id": "4a4c1f5a",
   "metadata": {},
   "outputs": [],
   "source": [
    "df['additives_tags'][df['additives_tags'].notna()]"
   ]
  },
  {
   "cell_type": "code",
   "execution_count": null,
   "id": "cb2b1225",
   "metadata": {},
   "outputs": [],
   "source": [
    "# creation champ  'nombre additif'\n",
    "df['nbre_additifs']=0\n",
    "#creation d'une liste contenant les additifs\n",
    "liste_additifs = []\n",
    "for index, ligne in enumerate(df['additives_tags'][df['additives_tags'].notna()]):\n",
    "    #on recupère le nombre d'additif dans df['nbre_additifs']\n",
    "    df['nbre_additifs'].loc[index] = len(ligne)\n",
    "    #on ajoute l'additif dans un dictionanire\n",
    "    for count, value in enumerate(ligne):\n",
    "         #on ajoute l'additif dans la liste_additifs:\n",
    "        if ligne[count] not in liste_additifs:\n",
    "            liste_additifs.append(ligne[count])"
   ]
  },
  {
   "cell_type": "code",
   "execution_count": null,
   "id": "f33c52ca",
   "metadata": {},
   "outputs": [],
   "source": [
    "liste_additifs"
   ]
  },
  {
   "cell_type": "code",
   "execution_count": null,
   "id": "6b141cba",
   "metadata": {},
   "outputs": [],
   "source": [
    "#creation d'un dictionnaire avec pour key = nom additif, et pour value = nombre d'occurence\n",
    "dict_additifs = {}\n",
    "for nom_additif in liste_additifs:\n",
    "    nbre_occurence = 0\n",
    "    for ligne in df['additives_tags'][df['additives_tags'].notna()]:\n",
    "        if nom_additif in ligne:\n",
    "            nbre_occurence += 1\n",
    "    dict_additifs[nom_additif] = nbre_occurence"
   ]
  },
  {
   "cell_type": "code",
   "execution_count": null,
   "id": "b01e25c8",
   "metadata": {},
   "outputs": [],
   "source": [
    "dict_additifs"
   ]
  },
  {
   "cell_type": "code",
   "execution_count": null,
   "id": "b3b10c9f",
   "metadata": {},
   "outputs": [],
   "source": [
    "#transformation du dict_additifs en DF\n",
    "df_additifs = pd.DataFrame(list(dict_additifs.items()),columns=['additif', 'occurence'])\n",
    "df_additifs.head(10)"
   ]
  },
  {
   "cell_type": "code",
   "execution_count": null,
   "id": "da36c3f2",
   "metadata": {},
   "outputs": [],
   "source": [
    "df_additifs = df_additifs.sort_values(by =['occurence'], axis=0, ascending=False, inplace=False)\n",
    "df_additifs.head()"
   ]
  },
  {
   "cell_type": "code",
   "execution_count": null,
   "id": "5de92d80",
   "metadata": {},
   "outputs": [],
   "source": [
    "#selection des additifs les plus present\n",
    "X = []\n",
    "Y = []\n",
    "for cle in dict_additifs:\n",
    "    if dict_additifs[cle] >4000 :\n",
    "        X.append(cle)\n",
    "        Y.append(dict_additifs[cle])"
   ]
  },
  {
   "cell_type": "code",
   "execution_count": null,
   "id": "50bb12b9",
   "metadata": {},
   "outputs": [],
   "source": [
    "sns.set_theme(palette=\"pastel\")\n",
    "plt.figure(figsize=(14, 6))\n",
    "ax = sns.barplot(x=Y, y=X, data=df_additifs, orient='horizontal')\n",
    "plt.title(\"Principaux additifs\", fontsize=20, color='tab:blue', fontweight=\"bold\")\n",
    "\n",
    "path_complet = os.path.join(graph_path,'Principaux additifs.jpg')\n",
    "plt.savefig(path_complet, dpi=300, bbox_inches='tight')"
   ]
  },
  {
   "cell_type": "code",
   "execution_count": null,
   "id": "88b65d14",
   "metadata": {},
   "outputs": [],
   "source": [
    "#l additif le plus present est 'e330': acide citrique"
   ]
  },
  {
   "cell_type": "code",
   "execution_count": null,
   "id": "5f619810",
   "metadata": {},
   "outputs": [],
   "source": [
    "#recherche de corrélation entre le nombre d'additif et le nutrition grade ou score"
   ]
  },
  {
   "cell_type": "code",
   "execution_count": null,
   "id": "bce1f0a5",
   "metadata": {},
   "outputs": [],
   "source": [
    "df.groupby(['nutrition_grade_fr'])['nbre_additifs'].mean()"
   ]
  },
  {
   "cell_type": "code",
   "execution_count": null,
   "id": "df5532d4",
   "metadata": {},
   "outputs": [],
   "source": [
    "sns.set_theme(palette=\"pastel\")\n",
    "plt.figure(figsize=(14, 6))\n",
    "sns.boxplot(x='nutrition_grade_fr', y='nbre_additifs', data=df)\n",
    "\n",
    "plt.title(\"Nombre additifs & Nutrition grade\", fontsize=20, color='tab:blue', fontweight=\"bold\")\n",
    "\n",
    "path_complet = os.path.join(graph_path,'Nombre additifs & Nutrition grade.jpg')\n",
    "plt.savefig(path_complet, dpi=300, bbox_inches='tight')"
   ]
  },
  {
   "cell_type": "code",
   "execution_count": null,
   "id": "c5051ce3",
   "metadata": {
    "scrolled": true
   },
   "outputs": [],
   "source": [
    "df.groupby(['nbre_additifs'])['nutrition-score-uk_100g'].mean()"
   ]
  },
  {
   "cell_type": "code",
   "execution_count": null,
   "id": "8fcab99d",
   "metadata": {},
   "outputs": [],
   "source": [
    "sns.set_theme(palette=\"pastel\")\n",
    "plt.figure(figsize=(14, 6))\n",
    "sns.scatterplot(data=df, x='nutrition-score-uk_100g', y='nbre_additifs')\n",
    "\n",
    "plt.title(\"Nombre additifs & Nutrition-score\", fontsize=20, color='tab:blue', fontweight=\"bold\")\n",
    "\n",
    "path_complet = os.path.join(graph_path,'Nombre additifs & Nutrition-score.jpg')\n",
    "plt.savefig(path_complet, dpi=300, bbox_inches='tight')"
   ]
  },
  {
   "cell_type": "markdown",
   "id": "dce037ca",
   "metadata": {},
   "source": [
    "### pas d'influence entre le nombre d'additifs et le le nutrution grade."
   ]
  },
  {
   "cell_type": "markdown",
   "id": "dab1203b",
   "metadata": {},
   "source": [
    "# analyse de la variable 'nutrition_grade_fr' & 'nutrition-score-uk_100g'"
   ]
  },
  {
   "cell_type": "code",
   "execution_count": null,
   "id": "d14d1d76",
   "metadata": {},
   "outputs": [],
   "source": [
    "nutrition_grade = df.groupby(by = 'nutrition_grade_fr')\n",
    "df_nutrition_grade = df[['nutrition_grade_fr','nutrition-score-uk_100g']].sort_values(by = 'nutrition_grade_fr' )"
   ]
  },
  {
   "cell_type": "code",
   "execution_count": null,
   "id": "14119fd4",
   "metadata": {},
   "outputs": [],
   "source": [
    "#Distribution nutrition grade\n",
    "sns.set_theme(palette=\"pastel\")\n",
    "plt.figure(figsize=(8, 6))\n",
    "sns.histplot(df_nutrition_grade, x='nutrition_grade_fr', shrink=0.9)\n",
    "\n",
    "plt.title(\"Distribution nutrition grade\", fontsize=20, color='tab:blue', fontweight=\"bold\")\n",
    "\n",
    "path_complet = os.path.join(graph_path,'Distribution nutrition grade.jpg')\n",
    "plt.savefig(path_complet, dpi=300, bbox_inches='tight')\n"
   ]
  },
  {
   "cell_type": "code",
   "execution_count": null,
   "id": "9de10cce",
   "metadata": {},
   "outputs": [],
   "source": [
    "#Distribution nutrition-score\n",
    "sns.set_theme(palette=\"pastel\")\n",
    "plt.figure(figsize=(14, 6))\n",
    "sns.histplot(data = df['nutrition-score-uk_100g'], kde = True, bins = 50)\n",
    "\n",
    "plt.title(\"Distribution nutrition-score\", fontsize=20, color='tab:blue', fontweight=\"bold\")\n",
    "\n",
    "path_complet = os.path.join(graph_path,'Distribution nutrition-score.jpg')\n",
    "plt.savefig(path_complet, dpi=300, bbox_inches='tight')"
   ]
  },
  {
   "cell_type": "code",
   "execution_count": null,
   "id": "3a328290",
   "metadata": {},
   "outputs": [],
   "source": [
    "#Test de normalité sur la distribution du champ\n",
    "a = df['nutrition-score-uk_100g']\n",
    "alpha = 0.05\n",
    "k2, p = stats.normaltest(a=a, axis=0, nan_policy='omit')\n",
    "print(\"p = {:g}\".format(p))\n",
    "\n",
    "# null hypothesis H0: x comes from a normal distribution\n",
    "if p < alpha: \n",
    "    print(\"The null hypothesis can be rejected\")\n",
    "else:\n",
    "    print(\"The null hypothesis cannot be rejected\")"
   ]
  },
  {
   "cell_type": "code",
   "execution_count": null,
   "id": "516b7ad4",
   "metadata": {},
   "outputs": [],
   "source": [
    "#Verification qu il existe bien une corelation entre le score et le grade:\n",
    "sns.set_theme(palette=\"pastel\")\n",
    "plt.figure(figsize=(8, 6))\n",
    "sns.boxplot(x='nutrition_grade_fr', y='nutrition-score-uk_100g', data=df_nutrition_grade)\n",
    "\n",
    "plt.title(\"Nutrition Grade - Nutrition-score\", fontsize=20, color='tab:blue', fontweight=\"bold\")\n",
    "\n",
    "path_complet = os.path.join(graph_path,'Nutrition Grade - Nutrition-score - boxplot.jpg')\n",
    "plt.savefig(path_complet, dpi=300, bbox_inches='tight')"
   ]
  },
  {
   "cell_type": "markdown",
   "id": "9b1ec3d4",
   "metadata": {},
   "source": [
    "### Les propriétés asymptotiques de l'ANOVA signifient que plus on a de données à disposition, plus l'ANOVA est capable de supporter un écart important aux hypothèses"
   ]
  },
  {
   "cell_type": "code",
   "execution_count": null,
   "id": "c12d4194",
   "metadata": {},
   "outputs": [],
   "source": [
    "from scipy.stats import f_oneway"
   ]
  },
  {
   "cell_type": "code",
   "execution_count": null,
   "id": "a5706387",
   "metadata": {},
   "outputs": [],
   "source": [
    "df_a = nutrition_grade.get_group('a')\n",
    "df_b = nutrition_grade.get_group('b')\n",
    "df_c = nutrition_grade.get_group('c')\n",
    "df_d = nutrition_grade.get_group('d')\n",
    "df_e = nutrition_grade.get_group('e')"
   ]
  },
  {
   "cell_type": "code",
   "execution_count": null,
   "id": "92064d99",
   "metadata": {},
   "outputs": [],
   "source": [
    "a = df_a['nutrition-score-uk_100g'].values\n",
    "b = df_b['nutrition-score-uk_100g'].values\n",
    "c = df_c['nutrition-score-uk_100g'].values\n",
    "d = df_d['nutrition-score-uk_100g'].values\n",
    "e = df_e['nutrition-score-uk_100g'].values"
   ]
  },
  {
   "cell_type": "code",
   "execution_count": null,
   "id": "4d3eef5a",
   "metadata": {},
   "outputs": [],
   "source": [
    "# null hypothesis H0: the population median of all of the groups are equal\n",
    "if p < alpha: \n",
    "    print(\"The null hypothesis can be rejected\")\n",
    "else:\n",
    "    print(\"The null hypothesis cannot be rejected\")\n",
    "f_oneway(a,b,c,d,e)"
   ]
  },
  {
   "cell_type": "markdown",
   "id": "31e257c4",
   "metadata": {},
   "source": [
    "# Partie modifiée suite a la soutenance"
   ]
  },
  {
   "cell_type": "code",
   "execution_count": null,
   "id": "3019949e",
   "metadata": {},
   "outputs": [],
   "source": [
    "#Kruskal-Wallis H-test\n",
    "# null hypothesis H0: the population median of all of the groups are equal\n",
    "if p < alpha: \n",
    "    print(\"The null hypothesis can be rejected\")\n",
    "else:\n",
    "    print(\"The null hypothesis cannot be rejected\")\n",
    "stats.kruskal(a,b,c,d,e)"
   ]
  },
  {
   "cell_type": "markdown",
   "id": "24ceff8c",
   "metadata": {},
   "source": [
    "### conclusion, il y a bien une une corellation entre le grade et le score"
   ]
  },
  {
   "cell_type": "markdown",
   "id": "6a10deef",
   "metadata": {},
   "source": [
    "# analyse via les groupes alimentaires"
   ]
  },
  {
   "cell_type": "code",
   "execution_count": null,
   "id": "6ced81e7",
   "metadata": {},
   "outputs": [],
   "source": [
    "nutrition_grade = df.groupby(by = 'nutrition_grade_fr')\n",
    "df_nutrition_grade = df[['nutrition_grade_fr','pnns_groups_1', 'pnns_groups_2','nutrition-score-uk_100g']].sort_values(by = ['nutrition_grade_fr','pnns_groups_1'])\n",
    "df_pnns = df_nutrition_grade[df['pnns_groups_1'] != 'unknown']\n",
    "df_pnns.shape"
   ]
  },
  {
   "cell_type": "code",
   "execution_count": null,
   "id": "7b43c278",
   "metadata": {},
   "outputs": [],
   "source": [
    "sns.set_theme()\n",
    "\n",
    "fig, ax = plt.subplots(1,1,figsize=(14, 6))\n",
    "\n",
    "sns.countplot(x='pnns_groups_1',data =df_pnns, ax = ax)\n",
    "fig.suptitle(\"Distribution groupe alimentaire N1\", fontsize=20, color='tab:blue', fontweight=\"bold\", y =0.92)\n",
    "plt.ylabel(\"Count\", size = 15,color='tab:blue')\n",
    "plt.xlabel(\"Groupe alimentaire\", size = 15,color='tab:blue')\n",
    "ax.tick_params(pad = 0, labelsize=15, colors='tab:purple')\n",
    "plt.xticks(rotation=90)\n",
    "\n",
    "for container in ax.containers:\n",
    "        ax.bar_label(container, padding=1)\n",
    "        \n",
    "path_complet = os.path.join(graph_path,'Distribution groupe alimentaire N1.jpg')\n",
    "plt.savefig(path_complet, dpi=300, bbox_inches='tight')\n",
    "\n",
    "plt.show()"
   ]
  },
  {
   "cell_type": "code",
   "execution_count": null,
   "id": "d6f0b1d2",
   "metadata": {},
   "outputs": [],
   "source": [
    "sns.set_theme()\n",
    "fig, ax = plt.subplots(1,1,figsize=(14, 6))\n",
    "                   \n",
    "sns.countplot(x='pnns_groups_2',data =df_pnns)\n",
    "\n",
    "fig.suptitle(\"Distribution groupe alimentaire N2\", fontsize=20, color='tab:blue', fontweight=\"bold\", y=0.92)\n",
    "plt.ylabel(\"Count\", size = 15,color='tab:blue')\n",
    "plt.xlabel(\"Groupe alimentaire\", size = 15,color='tab:blue')\n",
    "ax.tick_params(pad = 0, labelsize=15, colors='tab:purple')\n",
    "plt.xticks(rotation=90)\n",
    "\n",
    "for container in ax.containers:\n",
    "        ax.bar_label(container, padding=1)                  \n",
    "                          \n",
    "path_complet = os.path.join(graph_path,'Distribution groupe alimentaire N2.jpg')\n",
    "plt.savefig(path_complet, dpi=300, bbox_inches='tight')\n",
    "\n",
    "plt.show()"
   ]
  },
  {
   "cell_type": "code",
   "execution_count": null,
   "id": "0fb5bd25",
   "metadata": {},
   "outputs": [],
   "source": [
    "sns.set_theme()\n",
    "fig, ax =plt.subplots(figsize=(14, 6))\n",
    "\n",
    "ax = sns.histplot(x='pnns_groups_1',data =df_pnns, hue ='nutrition_grade_fr', shrink=0.9)\n",
    "\n",
    "plt.title(\"Repartition des grades nutritionnelle par groupe alimentaire N1\", fontsize=20, color='tab:blue', fontweight=\"bold\")\n",
    "plt.ylabel(\"Count\", size = 15,color='tab:blue')\n",
    "plt.xlabel(\"Groupe alimentaire\", size = 15,color='tab:blue')\n",
    "ax.tick_params(pad = 0, labelsize=15, colors='tab:purple')\n",
    "plt.xticks(rotation=90)\n",
    "\n",
    "path_complet = os.path.join(graph_path,'Repartition des grades nutritionnelle par groupe alimentaire N1.jpg')\n",
    "plt.savefig(path_complet, dpi=300, bbox_inches='tight')\n",
    "                \n",
    "plt.show()"
   ]
  },
  {
   "cell_type": "code",
   "execution_count": null,
   "id": "db964e69",
   "metadata": {},
   "outputs": [],
   "source": [
    "sns.set_theme()\n",
    "fig, ax = plt.subplots(1,1 ,figsize=(14, 6))\n",
    "\n",
    "ax = sns.histplot(x='pnns_groups_2',data =df_pnns, hue ='nutrition_grade_fr', shrink=0.9)\n",
    "\n",
    "plt.title(\"Repartition des grades nutritionnelle par groupe alimentaire N2\", fontsize=20, color='tab:blue', fontweight=\"bold\")\n",
    "plt.ylabel(\"Count\", size = 15,color='tab:blue')\n",
    "plt.xlabel(\"Groupe alimentaire\", size = 15,color='tab:blue')\n",
    "ax.tick_params(pad = 0, labelsize=15, colors='tab:purple')\n",
    "plt.xticks(rotation=90)\n",
    "\n",
    "path_complet = os.path.join(graph_path,'Repartition des grades nutritionnelle par groupe alimentaire N2.jpg')\n",
    "plt.savefig(path_complet, dpi=300, bbox_inches='tight')\n",
    "      "
   ]
  },
  {
   "cell_type": "code",
   "execution_count": null,
   "id": "65897745",
   "metadata": {},
   "outputs": [],
   "source": [
    "#tableau de contingences entre pnns-groups_1 et nutritions grade\n",
    "X = df_pnns['pnns_groups_1']\n",
    "Y = df_pnns['nutrition_grade_fr']\n",
    "data_crosstab = pd.crosstab(X, Y,dropna =True)\n",
    "df_crosstab = pd.DataFrame(data_crosstab)\n",
    "df_crosstab"
   ]
  },
  {
   "cell_type": "code",
   "execution_count": null,
   "id": "9682fc9b",
   "metadata": {},
   "outputs": [],
   "source": [
    "fig = plt.figure(num = None, figsize = (40,10), dpi = 80, facecolor ='w', edgecolor ='k')\n",
    "plt.clf()\n",
    "ax = fig.add_subplot(111)\n",
    "ax.set_aspect(1)\n",
    "res = sns.heatmap(df_crosstab, annot = False, fmt='.2f', cmap=\"YlGnBu\", vmin=0.0, vmax =3000)\n",
    "\n",
    "plt.title(\"Tableau de contingence : grades nutritionnelle Vs groupe alimentaire N1\", fontsize=20, color='tab:blue', fontweight=\"bold\")\n",
    "\n",
    "path_complet = os.path.join(graph_path,'Tableau de contingence : grades nutritionnelle Vs groupe alimentaire N1.jpg')\n",
    "fig.savefig(path_complet, dpi=300, bbox_inches='tight')\n",
    "\n",
    "plt.show()"
   ]
  },
  {
   "cell_type": "code",
   "execution_count": null,
   "id": "f265b822",
   "metadata": {},
   "outputs": [],
   "source": [
    "# V de cramer\n",
    "from scipy.stats.contingency import association\n",
    "association(df_crosstab, method=\"cramer\")"
   ]
  },
  {
   "cell_type": "code",
   "execution_count": null,
   "id": "8e36087f",
   "metadata": {},
   "outputs": [],
   "source": [
    "#Le V de cramer > 0.30 on peut considerer que la relation entre pnns_groups_1 et le grade est forte."
   ]
  },
  {
   "cell_type": "code",
   "execution_count": null,
   "id": "42f117cb",
   "metadata": {},
   "outputs": [],
   "source": [
    "# le T de \"tschuprow\"\n",
    "association(df_crosstab,method=\"tschuprow\")"
   ]
  },
  {
   "cell_type": "code",
   "execution_count": null,
   "id": "cddcbfd8",
   "metadata": {},
   "outputs": [],
   "source": [
    "#Verification qu il existe bien une corelation entre le score et le groupe alimentaire N1:\n",
    "sns.set_theme()\n",
    "fig, ax = plt.subplots(1,1,figsize=(14, 6))\n",
    "\n",
    "ax = sns.boxplot(x='pnns_groups_1', y='nutrition-score-uk_100g', data=df_nutrition_grade.sort_values(by='nutrition-score-uk_100g'))\n",
    "\n",
    "plt.title(\"correlation entre nutri-score et groupe alimentaire N1\", fontsize=20, color='tab:blue', fontweight=\"bold\")\n",
    "\n",
    "\n",
    "plt.ylabel(\"Nutri-score\", size = 15,color='tab:blue')\n",
    "plt.xlabel(\"Groupe alimentaire\", size = 15,color='tab:blue')\n",
    "ax.tick_params(pad = 0, labelsize=15, colors='tab:purple')\n",
    "plt.xticks(rotation=90)\n",
    "\n",
    "path_complet = os.path.join(graph_path,'correlation entre score nutritionnelle et groupe alimentaire N1 - boxplot.jpg')\n",
    "plt.savefig(path_complet, dpi=300, bbox_inches='tight')\n",
    "\n",
    "plt.show()"
   ]
  },
  {
   "cell_type": "code",
   "execution_count": null,
   "id": "19cb686b",
   "metadata": {},
   "outputs": [],
   "source": [
    "X = df_nutrition_grade.groupby(['pnns_groups_1'])['nutrition-score-uk_100g'].agg('mean').sort_values()\n",
    "col_pnns_group_1 = df_nutrition_grade.groupby(['pnns_groups_1']).groups.keys()\n",
    "df_pnns_groups_1_mean=pd.DataFrame(X,col_pnns_group_1)\n",
    "df_pnns_groups_1_mean = df_pnns_groups_1_mean.sort_values(by='nutrition-score-uk_100g')\n",
    "df_pnns_groups_1_mean"
   ]
  },
  {
   "cell_type": "code",
   "execution_count": null,
   "id": "f3e11a20",
   "metadata": {},
   "outputs": [],
   "source": [
    "sns.set_theme()\n",
    "\n",
    "fig , ax = plt.subplots(1,1, figsize =(14,6))\n",
    "\n",
    "sns.barplot(y='nutrition-score-uk_100g',x =df_pnns_groups_1_mean.index, data=df_pnns_groups_1_mean, ax =ax)\n",
    "\n",
    "fig.suptitle(\"score nutritionnel moyen par groupe alimentaire N1\", fontsize=20, color='tab:blue', fontweight=\"bold\")\n",
    "plt.ylabel(\"Nutri-score\", size = 20,color='tab:blue')\n",
    "plt.xlabel(\"Groupe alimentaire\", size = 15,color='tab:blue')\n",
    "ax.tick_params(pad = 0, labelsize=15, colors='tab:purple')\n",
    "plt.xticks(rotation = 90)\n",
    "\n",
    "for container in ax.containers:\n",
    "        ax.bar_label(container, padding=1, fmt = '%.2f')\n",
    "        \n",
    "path_complet = os.path.join(graph_path,'nutri-score moyen par groupe alimentaire N1.jpg')\n",
    "plt.savefig(path_complet, dpi=300, bbox_inches='tight')\n",
    "\n",
    "\n",
    "plt.show()\n"
   ]
  },
  {
   "cell_type": "code",
   "execution_count": null,
   "id": "644df32e",
   "metadata": {
    "scrolled": true
   },
   "outputs": [],
   "source": [
    "X = df_nutrition_grade.groupby(['pnns_groups_2'])['nutrition-score-uk_100g'].agg('mean').sort_values()\n",
    "col_pnns_group_2 = df_nutrition_grade.groupby(['pnns_groups_2']).groups.keys()\n",
    "df_pnns_groups_2_mean=pd.DataFrame(X,col_pnns_group_2)\n",
    "df_pnns_groups_2_mean = df_pnns_groups_2_mean.sort_values(by='nutrition-score-uk_100g')\n",
    "df_pnns_groups_2_mean"
   ]
  },
  {
   "cell_type": "code",
   "execution_count": null,
   "id": "e404d53e",
   "metadata": {},
   "outputs": [],
   "source": [
    "sns.set_theme()\n",
    "fig, ax = plt.subplots(1,1,figsize=(14, 6))\n",
    "sns.barplot(y='nutrition-score-uk_100g',x =df_pnns_groups_2_mean.index, data=df_pnns_groups_2_mean)\n",
    "\n",
    "fig.suptitle(\"nutri-score moyen par groupe alimentaire N2\", fontsize=20, color='tab:blue', fontweight=\"bold\")\n",
    "plt.ylabel(\"Nutri-score\", size = 20,color='tab:blue')\n",
    "plt.xlabel(\"Groupe alimentaire\", size = 15,color='tab:blue')\n",
    "ax.tick_params(pad = 0, labelsize=15, colors='tab:purple')\n",
    "plt.xticks(rotation = 90)\n",
    "\n",
    "for container in ax.containers:\n",
    "        ax.bar_label(container, padding=2, fmt='%.0f')\n",
    "        \n",
    "path_complet = os.path.join(graph_path,'nutri-score moyen par groupe alimentaire N2.jpg')\n",
    "plt.savefig(path_complet, dpi=300, bbox_inches='tight')\n",
    "\n",
    "\n",
    "plt.show()\n"
   ]
  },
  {
   "cell_type": "code",
   "execution_count": null,
   "id": "61f80563",
   "metadata": {
    "scrolled": true
   },
   "outputs": [],
   "source": [
    "#tableau de contingences entre pnns-groups_1 et nutritions grade\n",
    "X = df_pnns['pnns_groups_2']\n",
    "Y = df_pnns['nutrition_grade_fr']\n",
    "data_crosstab = pd.crosstab(X, Y,dropna =True)\n",
    "df_crosstab = pd.DataFrame(data_crosstab)\n",
    "df_crosstab"
   ]
  },
  {
   "cell_type": "code",
   "execution_count": null,
   "id": "be2df0b6",
   "metadata": {},
   "outputs": [],
   "source": [
    "fig = plt.figure(num = None, figsize = (15,30), dpi = 80, facecolor ='w', edgecolor ='k')\n",
    "plt.clf()\n",
    "ax = fig.add_subplot(111)\n",
    "ax.set_aspect(1)\n",
    "\n",
    "plt.title(\"Tableau de contingence : grades nutritionnelle Vs groupe alimentaire N2\", fontsize=20, color='tab:blue', fontweight=\"bold\")\n",
    "\n",
    "path_complet = os.path.join(graph_path,'Tableau de contingence : grades nutritionnelle Vs groupe alimentaire N2.jpg')\n",
    "fig.savefig(path_complet, dpi=300, bbox_inches='tight')\n",
    "res = sns.heatmap(df_crosstab, annot = False, fmt='.2f',cmap=\"YlGnBu\", vmin=0.0, vmax =2053, linewidths=.5)\n",
    "plt.show()"
   ]
  },
  {
   "cell_type": "code",
   "execution_count": null,
   "id": "e9704b20",
   "metadata": {},
   "outputs": [],
   "source": [
    "# V de cramer\n",
    "from scipy.stats.contingency import association\n",
    "association(df_crosstab, method=\"cramer\")"
   ]
  },
  {
   "cell_type": "code",
   "execution_count": null,
   "id": "72b93e3b",
   "metadata": {},
   "outputs": [],
   "source": [
    "#On remarque nous avons plus de de dependance entre les groupes alimentaires de niveau 2 avec le nutrtition grade\n",
    "#qu'avec le groupe alimentaire 1"
   ]
  },
  {
   "cell_type": "code",
   "execution_count": null,
   "id": "9066fece",
   "metadata": {},
   "outputs": [],
   "source": [
    "#Verification qu il existe bien une corelation entre le score et le grade:\n",
    "sns.set_theme()\n",
    "\n",
    "fig, ax = plt.subplots(figsize=(20, 7))\n",
    "ax = sns.boxplot(x='pnns_groups_2', y='nutrition-score-uk_100g', data=df_nutrition_grade)\n",
    "\n",
    "plt.title(\"distribution du nutri-score par groupe alimentaire N2\", fontsize=20, color='tab:blue', fontweight=\"bold\")\n",
    "\n",
    "plt.ylabel(\"Nutri-score\", size = 20,color='tab:blue')\n",
    "plt.xlabel(\"Groupe alimentaire\", size = 15,color='tab:blue')\n",
    "ax.tick_params(pad = 0, labelsize=15, colors='tab:purple')\n",
    "plt.xticks(rotation = 90)\n",
    "        \n",
    "path_complet = os.path.join(graph_path,'distribution du score nutritionnel par groupe alimentaire N2.jpg')\n",
    "plt.savefig(path_complet, dpi=300, bbox_inches='tight')\n",
    "\n",
    "\n",
    "plt.show()"
   ]
  },
  {
   "cell_type": "markdown",
   "id": "7da8cd33",
   "metadata": {},
   "source": [
    "# Analyse via les composants alimentaires"
   ]
  },
  {
   "cell_type": "code",
   "execution_count": null,
   "id": "3e3655fa",
   "metadata": {},
   "outputs": [],
   "source": [
    "df_float = df.select_dtypes(include = ['float64'])"
   ]
  },
  {
   "cell_type": "code",
   "execution_count": null,
   "id": "8c5055f9",
   "metadata": {},
   "outputs": [],
   "source": [
    "df_float.shape"
   ]
  },
  {
   "cell_type": "code",
   "execution_count": null,
   "id": "24698941",
   "metadata": {},
   "outputs": [],
   "source": []
  },
  {
   "cell_type": "code",
   "execution_count": null,
   "id": "b9eb93bf",
   "metadata": {},
   "outputs": [],
   "source": []
  },
  {
   "cell_type": "code",
   "execution_count": null,
   "id": "4dde7ac5",
   "metadata": {},
   "outputs": [],
   "source": [
    "#Liste des 6 composants alimentaire\n",
    "liste_composant = ['fat_100g','carbohydrates_100g','proteins_100g','vitamines_total','oligo_elem_total','sels_mineraux_total']\n",
    "\n",
    "\n",
    "#liste des composants de la colonne 'fat_100g'\n",
    "liste_lipide =['saturated-fat_100g','monounsaturated-fat_100g', 'polyunsaturated-fat_100g','trans-fat_100g', \n",
    "               'cholesterol_100g']\n",
    "\n",
    "liste_satured_fat=['caprylic-acid_100g', 'capric-acid_100g', 'lauric-acid_100g','myristic-acid_100g',\n",
    "                   'palmitic-acid_100g', 'stearic-acid_100g', 'arachidic-acid_100g','behenic-acid_100g', \n",
    "                   'montanic-acid_100g']\n",
    "\n",
    "liste_monounsatured_fat=['omega-9-fat_100g','oleic-acid_100g', 'gondoic-acid_100g',]\n",
    "\n",
    "liste_polyunsaturated_fat =['omega-3-fat_100g', 'alpha-linolenic-acid_100g', 'eicosapentaenoic-acid_100g',\n",
    "                            'docosahexaenoic-acid_100g', 'omega-6-fat_100g', 'linoleic-acid_100g', \n",
    "                            'arachidonic-acid_100g', 'gamma-linolenic-acid_100g', 'dihomo-gamma-linolenic-acid_100g']\n",
    "\n",
    "\n",
    "#liste des composant de la colonne \"carbohydrates_100g\"\n",
    "liste_glucide = ['sugars_100g', 'sucrose_100g', 'glucose_100g', 'fructose_100g', 'lactose_100g', 'maltose_100g',\n",
    "                 'maltodextrins_100g', 'starch_100g', 'polyols_100g', 'fiber_100g']\n",
    "\n",
    "#liste des composant de la colonne \"proteins_100g\"\n",
    "liste_proteines = ['casein_100g','serum-proteins_100g','nucleotides_100g']\n",
    "\n",
    "#listes vitamine:\n",
    "liste_vitamines = ['vitamin-a_100g', 'beta-carotene_100g', 'vitamin-d_100g', 'vitamin-e_100g', 'vitamin-k_100g', \n",
    "                   'vitamin-c_100g', 'vitamin-b1_100g', 'vitamin-b2_100g', 'vitamin-pp_100g', 'vitamin-b6_100g', \n",
    "                   'vitamin-b9_100g', 'folates_100g', 'vitamin-b12_100g', 'biotin_100g', 'pantothenic-acid_100g']\n",
    "#creation de la colonne \"vitamines_total\"\n",
    "df_float['vitamines_total'] = df_float[liste_vitamines].sum(axis = 1, skipna=True)\n",
    "\n",
    "#liste_sels_mineraux\n",
    "liste_sels_mineraux = ['salt_100g','sodium_100g','calcium_100g','phosphorus_100g','magnesium_100g']\n",
    "#creation de la colonne \"sels_mineraux_total\"\n",
    "df_float['sels_mineraux_total'] = df_float[liste_sels_mineraux].sum(axis = 1, skipna=True)\n",
    "\n",
    "#liste_oligo_elem\n",
    "liste_oligo_elem = ['iron_100g','zinc_100g','copper_100g','manganese_100g', 'fluoride_100g','selenium_100g',\n",
    "                    'chromium_100g', 'molybdenum_100g','iodine_100g']\n",
    "#creation de la colonne \"oligo_elem_total\"\n",
    "df_float['oligo_elem_total'] = df_float[liste_oligo_elem].sum(axis = 1, skipna=True)"
   ]
  },
  {
   "cell_type": "code",
   "execution_count": null,
   "id": "026bf203",
   "metadata": {},
   "outputs": [],
   "source": [
    "liste_composant.append('nutrition-score-uk_100g')"
   ]
  },
  {
   "cell_type": "code",
   "execution_count": null,
   "id": "ea28586c",
   "metadata": {},
   "outputs": [],
   "source": [
    "corr_df =df_float[liste_composant].corr(method='pearson')\n",
    "plt.figure(figsize=(10, 10))\n",
    "cmap=sns.cubehelix_palette(20, light=0.95, dark=0.15)\n",
    "sns.heatmap(corr_df, annot=True,cmap=cmap, linewidths=.5)\n",
    "plt.title(\"Covariance entre composant nutritionnel et score nutritionnel\", fontsize=20, color='tab:blue', fontweight=\"bold\")\n",
    "\n",
    "path_complet = os.path.join(graph_path,'Covariance entre composant nutritionnel et score nutritionnel.jpg')\n",
    "plt.savefig(path_complet, dpi=300, bbox_inches='tight')\n",
    "plt.show()"
   ]
  },
  {
   "cell_type": "code",
   "execution_count": null,
   "id": "61a589c4",
   "metadata": {},
   "outputs": [],
   "source": [
    "#il y a 3 composants qui semble avoir une incidance significative sur la nutrition_score:\n",
    "#les lipides(Fat_100g),les glucides(Carbohydrates_100g), les proteines (proteins_100g)."
   ]
  },
  {
   "cell_type": "code",
   "execution_count": null,
   "id": "642af977",
   "metadata": {},
   "outputs": [],
   "source": [
    "X = 'fat_100g'\n",
    "Y = 'nutrition-score-uk_100g'\n",
    "fig, ax = plt.subplots(figsize=(10, 6))\n",
    "ax.set_xlim(0, 110)\n",
    "ax.set_ylim(-20, 50)\n",
    "sns.regplot(x=X ,y=Y, data=df, ax = ax, marker=\"+\", line_kws={\"color\": \"red\"})\n",
    "\n",
    "plt.title(\"linear regression nutri-score vs Fat\", fontsize=20, color='tab:blue', fontweight=\"bold\")\n",
    "\n",
    "path_complet = os.path.join(graph_path,'linear regression nutri-score vs Fat.jpg')\n",
    "plt.savefig(path_complet, dpi=300, bbox_inches='tight')\n",
    "\n",
    "plt.show()"
   ]
  },
  {
   "cell_type": "code",
   "execution_count": null,
   "id": "aa0c5346",
   "metadata": {},
   "outputs": [],
   "source": [
    "# linear regression coefs\n",
    "from scipy import stats\n",
    "x = df['fat_100g'].notna()\n",
    "y = df['nutrition-score-uk_100g']\n",
    "res = stats.linregress(x, y)\n",
    "print(f\"Y = {res.slope:.2f} * X + {res.intercept:.2f} \\n\")\n",
    "print(\"test de significativité de la pente \\n-H0 : la pente n'est pas signficatif \\n-H1: La pente est sgnificative\")\n",
    "alpha = 0.05\n",
    "if res.pvalue < alpha :\n",
    "    print(f\"-pvalue = {res.pvalue}\")\n",
    "    print(f\"on rejette H0 au seuil {alpha*100}% , le coef directeur est significatif \\n\")\n",
    "else:\n",
    "    print(f\"on ne rejette pas H0 au seuil de {alpha}, le coef directeur est null \\n\")\n",
    "    \n",
    "print(f\"le coefficient de determination est : R-squared: {res.rvalue**2:.6f}\")\n",
    "print(f\"Standard error of the estimated slope is : {res.stderr:.3f}\")\n",
    "print(f\"Standard error of the estimated intercept is : {res.intercept_stderr:.3f}\")"
   ]
  },
  {
   "cell_type": "code",
   "execution_count": null,
   "id": "0d3c20af",
   "metadata": {},
   "outputs": [],
   "source": [
    "X = 'carbohydrates_100g'\n",
    "Y = 'nutrition-score-uk_100g'\n",
    "fig, ax = plt.subplots(figsize=(10, 6))\n",
    "ax.set_xlim(0, 110)\n",
    "ax.set_ylim(-20, 50)\n",
    "sns.regplot(x=X ,y=Y, data=df, ax = ax, marker=\"+\", line_kws={\"color\": \"red\"})\n",
    "\n",
    "plt.title(\"linear regression nutri-score vs carbohydrate\", fontsize=20, color='tab:blue', fontweight=\"bold\")\n",
    "\n",
    "path_complet = os.path.join(graph_path,'linear regression nutri-score vs carbohydrate.jpg')\n",
    "plt.savefig(path_complet, dpi=300, bbox_inches='tight')\n",
    "plt.show()"
   ]
  },
  {
   "cell_type": "code",
   "execution_count": null,
   "id": "d7a00710",
   "metadata": {},
   "outputs": [],
   "source": [
    "# linear regression coefs\n",
    "from scipy import stats\n",
    "x = df['carbohydrates_100g'].notna()\n",
    "y = df['nutrition-score-uk_100g']\n",
    "res = stats.linregress(x, y)\n",
    "print(f\"Y = {res.slope:.2f} * X + {res.intercept:.2f} \\n\")\n",
    "print(\"test de significativité de la pente \\n-H0 : la pente n'est pas signficatif \\n-H1: La pente est sgnificative\")\n",
    "alpha = 0.05\n",
    "if res.pvalue < alpha :\n",
    "    print(f\"-pvalue = {res.pvalue}\")\n",
    "    print(f\"on rejette H0 au seuil {alpha*100}% , le coef directeur est significatif \\n\")\n",
    "else:\n",
    "    print(f\"on ne rejette pas H0 au seuil de {alpha}, le coef directeur est null \\n\")\n",
    "    \n",
    "print(f\"le coefficient de determination est : R-squared: {res.rvalue**2:.6f}\")\n",
    "print(f\"Standard error of the estimated slope is : {res.stderr:.3f}\")\n",
    "print(f\"Standard error of the estimated intercept is : {res.intercept_stderr:.3f}\")"
   ]
  },
  {
   "cell_type": "code",
   "execution_count": null,
   "id": "b7a4c457",
   "metadata": {},
   "outputs": [],
   "source": [
    "X = 'proteins_100g'\n",
    "Y = 'nutrition-score-uk_100g'\n",
    "fig, ax = plt.subplots(figsize=(10, 6))\n",
    "ax.set_xlim(0, 110)\n",
    "ax.set_ylim(-20, 50)\n",
    "sns.regplot(x=X ,y=Y, data=df, ax = ax, marker=\"+\", line_kws={\"color\": \"red\"})\n",
    "\n",
    "plt.title(\"linear regression nutri-score vs proteins\", fontsize=20, color='tab:blue', fontweight=\"bold\")\n",
    "\n",
    "path_complet = os.path.join(graph_path,'linear regression nutri-score vs proteins.jpg')\n",
    "plt.savefig(path_complet, dpi=300, bbox_inches='tight')\n",
    "\n",
    "plt.show()"
   ]
  },
  {
   "cell_type": "code",
   "execution_count": null,
   "id": "6d0f6b8a",
   "metadata": {},
   "outputs": [],
   "source": [
    "# linear regression coefs\n",
    "from scipy import stats\n",
    "x = df['proteins_100g'].notna()\n",
    "y = df['nutrition-score-uk_100g']\n",
    "\n",
    "res = stats.linregress(x, y)\n",
    "\n",
    "print(f\"Y = {res.slope:.2f} * X + {res.intercept:.2f} \\n\")\n",
    "print(\"test de significativité de la pente \\n-H0 : la pente n'est pas signficatif \\n-H1: La pente est sgnificative\")\n",
    "alpha = 0.05\n",
    "if res.pvalue < alpha :\n",
    "    print(f\"-pvalue = {res.pvalue}\")\n",
    "    print(f\"on rejette H0 au seuil {alpha*100}% , le coef directeur est significatif \\n\")\n",
    "else:\n",
    "    print(f\"on ne rejette pas H0 au seuil de {alpha}, le coef directeur est null \\n\")\n",
    "    \n",
    "print(f\"le coefficient de determination est : R-squared: {res.rvalue**2:.6f}\")\n",
    "print(f\"Standard error of the estimated slope is : {res.stderr:.3f}\")\n",
    "print(f\"Standard error of the estimated intercept is : {res.intercept_stderr:.3f}\")"
   ]
  },
  {
   "cell_type": "code",
   "execution_count": null,
   "id": "c7773a28",
   "metadata": {},
   "outputs": [],
   "source": []
  }
 ],
 "metadata": {
  "kernelspec": {
   "display_name": "Python 3 (ipykernel)",
   "language": "python",
   "name": "python3"
  },
  "language_info": {
   "codemirror_mode": {
    "name": "ipython",
    "version": 3
   },
   "file_extension": ".py",
   "mimetype": "text/x-python",
   "name": "python",
   "nbconvert_exporter": "python",
   "pygments_lexer": "ipython3",
   "version": "3.7.16"
  }
 },
 "nbformat": 4,
 "nbformat_minor": 5
}
