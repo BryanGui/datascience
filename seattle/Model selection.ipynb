{
 "cells": [
  {
   "cell_type": "code",
   "execution_count": 1,
   "id": "20e5244d",
   "metadata": {},
   "outputs": [],
   "source": [
    "#config\n",
    "from sklearn import set_config\n",
    "set_config(display = \"diagram\")\n",
    "\n",
    "#built in\n",
    "import os \n",
    "\n",
    "#HTML\n",
    "from IPython.core.display import HTML\n",
    "\n",
    "#data\n",
    "import pandas as pd\n",
    "import numpy as np\n",
    "\n",
    "#preprocessing\n",
    "from sklearn.preprocessing import StandardScaler, PolynomialFeatures, RobustScaler\n",
    "from sklearn.preprocessing import OneHotEncoder, LabelBinarizer, KBinsDiscretizer\n",
    "\n",
    "#pipeline\n",
    "from sklearn.pipeline import Pipeline, make_pipeline\n",
    "\n",
    "#compose\n",
    "from sklearn.compose import ColumnTransformer, make_column_transformer\n",
    "\n",
    "#Estimator\n",
    "from sklearn.linear_model import ElasticNet, LinearRegression, Ridge, Lasso\n",
    "from sklearn.svm import SVR, LinearSVR\n",
    "from sklearn.ensemble import RandomForestRegressor\n",
    "from sklearn.dummy import DummyRegressor\n",
    "from sklearn.tree import DecisionTreeRegressor\n",
    "from sklearn.ensemble import BaggingRegressor\n",
    "from sklearn.ensemble import AdaBoostRegressor\n",
    "\n",
    "#model selection\n",
    "from sklearn.model_selection import train_test_split, GridSearchCV\n",
    "\n",
    "#metrics\n",
    "from sklearn.metrics import r2_score,mean_squared_error, SCORERS\n",
    "\n",
    "#data visualisation\n",
    "import matplotlib.pyplot as plt\n",
    "import seaborn as sns\n",
    "\n",
    "\n",
    "#clone\n",
    "from sklearn.base import clone"
   ]
  },
  {
   "cell_type": "code",
   "execution_count": 2,
   "id": "3b3366a5",
   "metadata": {},
   "outputs": [],
   "source": [
    "sns_c = sns.color_palette(palette='deep')"
   ]
  },
  {
   "cell_type": "code",
   "execution_count": 3,
   "id": "b842f2f5",
   "metadata": {
    "scrolled": true
   },
   "outputs": [
    {
     "name": "stdout",
     "output_type": "stream",
     "text": [
      "root = ./data/source \n",
      " dirs = []\n",
      " files = ['day.csv', '2016_Building_Energy_Benchmarking.csv', 'les-arbres.csv'] \n",
      "\n",
      "root = ./data/cleaned \n",
      " dirs = []\n",
      " files = ['df_clean.csv', 'df_clean2.csv'] \n",
      "\n",
      "root = ./data \n",
      " dirs = ['source', 'cleaned']\n",
      " files = ['reg_tree.dot', 'reg_tree.pdf'] \n",
      "\n",
      "root = ./.ipynb_checkpoints \n",
      " dirs = []\n",
      " files = ['exo2 Linear Model statsmodel-checkpoint.ipynb', 'exo Linear Model statsmodel-checkpoint.ipynb', 'modeles-checkpoint.ipynb', 'Shap-checkpoint.ipynb', 'modele regression - SHAP-checkpoint.ipynb', 'Model selection-checkpoint.ipynb', 'Model final-checkpoint.ipynb', 'Exploration-checkpoint.ipynb', 'TestModel-checkpoint.ipynb'] \n",
      "\n",
      "root = ./TP_SVM/data/source \n",
      " dirs = []\n",
      " files = ['mushrooms.csv'] \n",
      "\n",
      "root = ./TP_SVM/data/cleaned \n",
      " dirs = []\n",
      " files = [] \n",
      "\n",
      "root = ./TP_SVM/data \n",
      " dirs = ['source', 'cleaned']\n",
      " files = ['cleaneddf_cleaned.csv'] \n",
      "\n",
      "root = ./TP_SVM/.ipynb_checkpoints \n",
      " dirs = []\n",
      " files = ['Implementaton model-checkpoint.ipynb', 'TP SVM-checkpoint.ipynb'] \n",
      "\n",
      "root = ./TP_SVM \n",
      " dirs = ['data', '.ipynb_checkpoints']\n",
      " files = ['Implementaton model.ipynb', 'TP SVM.ipynb'] \n",
      "\n",
      "root = . \n",
      " dirs = ['data', '.ipynb_checkpoints', 'TP_SVM']\n",
      " files = ['exo2 Linear Model statsmodel.ipynb', 'TestModel.ipynb', 'exo Linear Model statsmodel.ipynb', 'tree_reg.dot', 'Model final.ipynb', 'Shap.ipynb', 'Model selection.ipynb', 'modele regression - SHAP.ipynb', 'modeles.ipynb', 'Exploration.ipynb'] \n",
      "\n"
     ]
    }
   ],
   "source": [
    "for root, dirs, files in os.walk(\".\", topdown=False):\n",
    "    print(f\"root = {root} \\n dirs = {dirs}\\n files = {files} \\n\")"
   ]
  },
  {
   "cell_type": "code",
   "execution_count": 4,
   "id": "aae09417",
   "metadata": {},
   "outputs": [
    {
     "data": {
      "text/plain": [
       "['df_clean.csv', 'df_clean2.csv']"
      ]
     },
     "execution_count": 4,
     "metadata": {},
     "output_type": "execute_result"
    }
   ],
   "source": [
    "os.listdir('data/cleaned')"
   ]
  },
  {
   "cell_type": "markdown",
   "id": "b124d39b",
   "metadata": {},
   "source": [
    "# 1 - Preparation des données"
   ]
  },
  {
   "cell_type": "markdown",
   "id": "74aa1aa9",
   "metadata": {},
   "source": [
    "## 1.1 - Chargement et présentation"
   ]
  },
  {
   "cell_type": "code",
   "execution_count": 5,
   "id": "9e2bd015",
   "metadata": {},
   "outputs": [],
   "source": [
    "source = 'data/cleaned/'\n",
    "nom_fichier = 'df_clean2.csv'\n",
    "df = pd.read_csv(source+nom_fichier, index_col = 0)"
   ]
  },
  {
   "cell_type": "code",
   "execution_count": 7,
   "id": "d39ebcc1",
   "metadata": {},
   "outputs": [
    {
     "data": {
      "text/plain": [
       "(2384, 43)"
      ]
     },
     "execution_count": 7,
     "metadata": {},
     "output_type": "execute_result"
    }
   ],
   "source": [
    "df.shape"
   ]
  },
  {
   "cell_type": "code",
   "execution_count": 8,
   "id": "2d77a54f",
   "metadata": {},
   "outputs": [],
   "source": [
    "def stats (df):\n",
    "    \n",
    "    lines = df.shape[0]\n",
    "    d_types = df.dtypes\n",
    "    counts = df.apply(lambda x :x.count())\n",
    "    unique = df.apply(lambda x : x.nunique())\n",
    "    nulls = df.isnull().sum()\n",
    "    missing_ratio = (nulls / lines )*100\n",
    "    skew = df.skew(numeric_only = True).round(2)\n",
    "    kurt = df.kurtosis(numeric_only = True).round(2)\n",
    "    \n",
    "    col_name = ['dtypes', 'counts', 'unique','skewness', 'kurtosis', 'null', 'missing_ration']\n",
    "    temp = pd.concat([d_types, counts, unique, skew, kurt, nulls, missing_ratio], axis=1)\n",
    "    temp.columns = col_name\n",
    "    return temp"
   ]
  },
  {
   "cell_type": "code",
   "execution_count": 9,
   "id": "1b8b5125",
   "metadata": {},
   "outputs": [
    {
     "data": {
      "text/html": [
       "<div>\n",
       "<style scoped>\n",
       "    .dataframe tbody tr th:only-of-type {\n",
       "        vertical-align: middle;\n",
       "    }\n",
       "\n",
       "    .dataframe tbody tr th {\n",
       "        vertical-align: top;\n",
       "    }\n",
       "\n",
       "    .dataframe thead th {\n",
       "        text-align: right;\n",
       "    }\n",
       "</style>\n",
       "<table border=\"1\" class=\"dataframe\">\n",
       "  <thead>\n",
       "    <tr style=\"text-align: right;\">\n",
       "      <th></th>\n",
       "      <th>BuildingType</th>\n",
       "      <th>PrimaryPropertyType</th>\n",
       "      <th>CouncilDistrictCode</th>\n",
       "      <th>Neighborhood</th>\n",
       "      <th>Latitude</th>\n",
       "      <th>Longitude</th>\n",
       "      <th>YearBuilt</th>\n",
       "      <th>NumberofBuildings</th>\n",
       "      <th>NumberofFloors</th>\n",
       "      <th>PropertyGFATotal</th>\n",
       "      <th>...</th>\n",
       "      <th>TotalGHGEmissions</th>\n",
       "      <th>GHGEmissionsIntensity</th>\n",
       "      <th>NonResidentialGFA</th>\n",
       "      <th>delta_Site_WM</th>\n",
       "      <th>delta_Source_WM</th>\n",
       "      <th>Delta_Site_Source</th>\n",
       "      <th>Delta_Site_Source_WN</th>\n",
       "      <th>ratio_Site_Source_WN</th>\n",
       "      <th>NaturalGaz_p</th>\n",
       "      <th>Electricity_p</th>\n",
       "    </tr>\n",
       "  </thead>\n",
       "  <tbody>\n",
       "    <tr>\n",
       "      <th>0</th>\n",
       "      <td>NonResidential</td>\n",
       "      <td>Hotel</td>\n",
       "      <td>7</td>\n",
       "      <td>DOWNTOWN</td>\n",
       "      <td>47.61220</td>\n",
       "      <td>-122.33799</td>\n",
       "      <td>1927</td>\n",
       "      <td>1.0</td>\n",
       "      <td>12</td>\n",
       "      <td>88434</td>\n",
       "      <td>...</td>\n",
       "      <td>249.98</td>\n",
       "      <td>2.83</td>\n",
       "      <td>88434</td>\n",
       "      <td>-2.600006</td>\n",
       "      <td>-6.500000</td>\n",
       "      <td>-100.800003</td>\n",
       "      <td>-104.699997</td>\n",
       "      <td>-1.241993</td>\n",
       "      <td>0.176638</td>\n",
       "      <td>0.546060</td>\n",
       "    </tr>\n",
       "    <tr>\n",
       "      <th>1</th>\n",
       "      <td>NonResidential</td>\n",
       "      <td>Hotel</td>\n",
       "      <td>7</td>\n",
       "      <td>DOWNTOWN</td>\n",
       "      <td>47.61317</td>\n",
       "      <td>-122.33393</td>\n",
       "      <td>1996</td>\n",
       "      <td>1.0</td>\n",
       "      <td>11</td>\n",
       "      <td>103566</td>\n",
       "      <td>...</td>\n",
       "      <td>295.86</td>\n",
       "      <td>2.86</td>\n",
       "      <td>103566</td>\n",
       "      <td>-3.099998</td>\n",
       "      <td>-3.299988</td>\n",
       "      <td>-81.300003</td>\n",
       "      <td>-81.499992</td>\n",
       "      <td>-0.832482</td>\n",
       "      <td>0.613391</td>\n",
       "      <td>0.386609</td>\n",
       "    </tr>\n",
       "    <tr>\n",
       "      <th>2</th>\n",
       "      <td>NonResidential</td>\n",
       "      <td>Hotel</td>\n",
       "      <td>7</td>\n",
       "      <td>DOWNTOWN</td>\n",
       "      <td>47.61393</td>\n",
       "      <td>-122.33810</td>\n",
       "      <td>1969</td>\n",
       "      <td>1.0</td>\n",
       "      <td>41</td>\n",
       "      <td>956110</td>\n",
       "      <td>...</td>\n",
       "      <td>2089.28</td>\n",
       "      <td>2.19</td>\n",
       "      <td>756493</td>\n",
       "      <td>-1.699997</td>\n",
       "      <td>-2.200012</td>\n",
       "      <td>-145.899994</td>\n",
       "      <td>-146.400009</td>\n",
       "      <td>-1.498465</td>\n",
       "      <td>0.020579</td>\n",
       "      <td>0.682307</td>\n",
       "    </tr>\n",
       "    <tr>\n",
       "      <th>3</th>\n",
       "      <td>NonResidential</td>\n",
       "      <td>Hotel</td>\n",
       "      <td>7</td>\n",
       "      <td>DOWNTOWN</td>\n",
       "      <td>47.61412</td>\n",
       "      <td>-122.33664</td>\n",
       "      <td>1926</td>\n",
       "      <td>1.0</td>\n",
       "      <td>10</td>\n",
       "      <td>61320</td>\n",
       "      <td>...</td>\n",
       "      <td>286.43</td>\n",
       "      <td>4.67</td>\n",
       "      <td>61320</td>\n",
       "      <td>-2.500000</td>\n",
       "      <td>-7.800003</td>\n",
       "      <td>-105.399994</td>\n",
       "      <td>-110.699997</td>\n",
       "      <td>-0.977052</td>\n",
       "      <td>0.266567</td>\n",
       "      <td>0.407519</td>\n",
       "    </tr>\n",
       "    <tr>\n",
       "      <th>4</th>\n",
       "      <td>NonResidential</td>\n",
       "      <td>Hotel</td>\n",
       "      <td>7</td>\n",
       "      <td>DOWNTOWN</td>\n",
       "      <td>47.61375</td>\n",
       "      <td>-122.34047</td>\n",
       "      <td>1980</td>\n",
       "      <td>1.0</td>\n",
       "      <td>18</td>\n",
       "      <td>175580</td>\n",
       "      <td>...</td>\n",
       "      <td>505.01</td>\n",
       "      <td>2.88</td>\n",
       "      <td>191454</td>\n",
       "      <td>-3.899994</td>\n",
       "      <td>-4.200012</td>\n",
       "      <td>-96.599991</td>\n",
       "      <td>-96.900009</td>\n",
       "      <td>-0.816344</td>\n",
       "      <td>0.621198</td>\n",
       "      <td>0.378802</td>\n",
       "    </tr>\n",
       "  </tbody>\n",
       "</table>\n",
       "<p>5 rows × 43 columns</p>\n",
       "</div>"
      ],
      "text/plain": [
       "     BuildingType PrimaryPropertyType  CouncilDistrictCode Neighborhood  \\\n",
       "0  NonResidential               Hotel                    7     DOWNTOWN   \n",
       "1  NonResidential               Hotel                    7     DOWNTOWN   \n",
       "2  NonResidential               Hotel                    7     DOWNTOWN   \n",
       "3  NonResidential               Hotel                    7     DOWNTOWN   \n",
       "4  NonResidential               Hotel                    7     DOWNTOWN   \n",
       "\n",
       "   Latitude  Longitude  YearBuilt  NumberofBuildings  NumberofFloors  \\\n",
       "0  47.61220 -122.33799       1927                1.0              12   \n",
       "1  47.61317 -122.33393       1996                1.0              11   \n",
       "2  47.61393 -122.33810       1969                1.0              41   \n",
       "3  47.61412 -122.33664       1926                1.0              10   \n",
       "4  47.61375 -122.34047       1980                1.0              18   \n",
       "\n",
       "   PropertyGFATotal  ...  TotalGHGEmissions  GHGEmissionsIntensity  \\\n",
       "0             88434  ...             249.98                   2.83   \n",
       "1            103566  ...             295.86                   2.86   \n",
       "2            956110  ...            2089.28                   2.19   \n",
       "3             61320  ...             286.43                   4.67   \n",
       "4            175580  ...             505.01                   2.88   \n",
       "\n",
       "  NonResidentialGFA  delta_Site_WM delta_Source_WM  Delta_Site_Source  \\\n",
       "0             88434      -2.600006       -6.500000        -100.800003   \n",
       "1            103566      -3.099998       -3.299988         -81.300003   \n",
       "2            756493      -1.699997       -2.200012        -145.899994   \n",
       "3             61320      -2.500000       -7.800003        -105.399994   \n",
       "4            191454      -3.899994       -4.200012         -96.599991   \n",
       "\n",
       "  Delta_Site_Source_WN  ratio_Site_Source_WN  NaturalGaz_p  Electricity_p  \n",
       "0          -104.699997             -1.241993      0.176638       0.546060  \n",
       "1           -81.499992             -0.832482      0.613391       0.386609  \n",
       "2          -146.400009             -1.498465      0.020579       0.682307  \n",
       "3          -110.699997             -0.977052      0.266567       0.407519  \n",
       "4           -96.900009             -0.816344      0.621198       0.378802  \n",
       "\n",
       "[5 rows x 43 columns]"
      ]
     },
     "execution_count": 9,
     "metadata": {},
     "output_type": "execute_result"
    }
   ],
   "source": [
    "df.head(5)"
   ]
  },
  {
   "cell_type": "code",
   "execution_count": 10,
   "id": "b04cce75",
   "metadata": {},
   "outputs": [
    {
     "data": {
      "text/html": [
       "<div>\n",
       "<style scoped>\n",
       "    .dataframe tbody tr th:only-of-type {\n",
       "        vertical-align: middle;\n",
       "    }\n",
       "\n",
       "    .dataframe tbody tr th {\n",
       "        vertical-align: top;\n",
       "    }\n",
       "\n",
       "    .dataframe thead th {\n",
       "        text-align: right;\n",
       "    }\n",
       "</style>\n",
       "<table border=\"1\" class=\"dataframe\">\n",
       "  <thead>\n",
       "    <tr style=\"text-align: right;\">\n",
       "      <th></th>\n",
       "      <th>dtypes</th>\n",
       "      <th>counts</th>\n",
       "      <th>unique</th>\n",
       "      <th>skewness</th>\n",
       "      <th>kurtosis</th>\n",
       "      <th>null</th>\n",
       "      <th>missing_ration</th>\n",
       "    </tr>\n",
       "  </thead>\n",
       "  <tbody>\n",
       "    <tr>\n",
       "      <th>BuildingType</th>\n",
       "      <td>object</td>\n",
       "      <td>2384</td>\n",
       "      <td>8</td>\n",
       "      <td>NaN</td>\n",
       "      <td>NaN</td>\n",
       "      <td>0</td>\n",
       "      <td>0.0</td>\n",
       "    </tr>\n",
       "    <tr>\n",
       "      <th>PrimaryPropertyType</th>\n",
       "      <td>object</td>\n",
       "      <td>2384</td>\n",
       "      <td>24</td>\n",
       "      <td>NaN</td>\n",
       "      <td>NaN</td>\n",
       "      <td>0</td>\n",
       "      <td>0.0</td>\n",
       "    </tr>\n",
       "    <tr>\n",
       "      <th>CouncilDistrictCode</th>\n",
       "      <td>int64</td>\n",
       "      <td>2384</td>\n",
       "      <td>7</td>\n",
       "      <td>-0.08</td>\n",
       "      <td>-1.51</td>\n",
       "      <td>0</td>\n",
       "      <td>0.0</td>\n",
       "    </tr>\n",
       "    <tr>\n",
       "      <th>Neighborhood</th>\n",
       "      <td>object</td>\n",
       "      <td>2384</td>\n",
       "      <td>19</td>\n",
       "      <td>NaN</td>\n",
       "      <td>NaN</td>\n",
       "      <td>0</td>\n",
       "      <td>0.0</td>\n",
       "    </tr>\n",
       "    <tr>\n",
       "      <th>Latitude</th>\n",
       "      <td>float64</td>\n",
       "      <td>2384</td>\n",
       "      <td>2110</td>\n",
       "      <td>0.16</td>\n",
       "      <td>-0.17</td>\n",
       "      <td>0</td>\n",
       "      <td>0.0</td>\n",
       "    </tr>\n",
       "  </tbody>\n",
       "</table>\n",
       "</div>"
      ],
      "text/plain": [
       "                      dtypes  counts  unique  skewness  kurtosis  null  \\\n",
       "BuildingType          object    2384       8       NaN       NaN     0   \n",
       "PrimaryPropertyType   object    2384      24       NaN       NaN     0   \n",
       "CouncilDistrictCode    int64    2384       7     -0.08     -1.51     0   \n",
       "Neighborhood          object    2384      19       NaN       NaN     0   \n",
       "Latitude             float64    2384    2110      0.16     -0.17     0   \n",
       "\n",
       "                     missing_ration  \n",
       "BuildingType                    0.0  \n",
       "PrimaryPropertyType             0.0  \n",
       "CouncilDistrictCode             0.0  \n",
       "Neighborhood                    0.0  \n",
       "Latitude                        0.0  "
      ]
     },
     "execution_count": 10,
     "metadata": {},
     "output_type": "execute_result"
    }
   ],
   "source": [
    "stats(df).head()"
   ]
  },
  {
   "cell_type": "markdown",
   "id": "2e48207b",
   "metadata": {},
   "source": [
    "### 1.1.1 - Les estimateurs utilisés"
   ]
  },
  {
   "cell_type": "raw",
   "id": "d8566b24",
   "metadata": {},
   "source": [
    "Les estimateurs simples :\n",
    "    -DummyRegressor\n",
    "    -LinearRegressor\n",
    "    -Ridge\n",
    "    -SVR\n",
    "    -DecisionTreeRegressor\n",
    "Les méthodes d'ensembles:\n",
    "    -bagging and pasting('SVR', 'LinearRegression', 'DecisionTree_R','Ridge')\n",
    "    -adaboost('Base', 'SVR', 'LinearRegression', 'DecisionTree_R', 'Ridge')\n",
    "    -GradientBoostingRegressor\n",
    "    -XGBRegressor"
   ]
  },
  {
   "cell_type": "markdown",
   "id": "97028310",
   "metadata": {},
   "source": [
    "### Fonction pour afficher les resultats dans une DF"
   ]
  },
  {
   "cell_type": "code",
   "execution_count": 11,
   "id": "9cadab24",
   "metadata": {},
   "outputs": [],
   "source": [
    "def score_p(modele, X, y):\n",
    "    y_pred = modele.predict(X)\n",
    "    rmse = mean_squared_error(y, y_pred, squared = False).round(2)\n",
    "    r2 = r2_score(y, y_pred).round(2)\n",
    "    \n",
    "    return rmse, r2"
   ]
  },
  {
   "cell_type": "code",
   "execution_count": 12,
   "id": "78d43ccb",
   "metadata": {},
   "outputs": [],
   "source": [
    "def add_result(df, data):\n",
    "    df = df.copy()\n",
    "    df = df.append(data,  ignore_index= True)\n",
    "    return df"
   ]
  },
  {
   "cell_type": "code",
   "execution_count": 13,
   "id": "35996a83",
   "metadata": {},
   "outputs": [],
   "source": [
    "#fonction pour calculer le R2 et rmse\n",
    "def summary( modele, df, X_train, X_test, y_train , y_test, \n",
    "            ensembliste = 'non',target ='TotalGHGEmissions',commentaires = \"\"):\n",
    "\n",
    "    #recupération nom du modele\n",
    "    nom_modele = modele[-1].__class__.__name__\n",
    "    \n",
    "    #Calcul du rmse et r2\n",
    "    #train set\n",
    "    train_rmse = score_p(modele, X_train, y_train)[0]\n",
    "    train_r2 = score_p(modele, X_train, y_train)[1]\n",
    "    \n",
    "    #test set\n",
    "    test_rmse = score_p(modele, X_test, y_test)[0]\n",
    "    test_r2 = score_p(modele, X_test, y_test)[1]\n",
    "    \n",
    "    #On ajoute les données dans la DataFrame\n",
    "    \n",
    "    data = {'Modele' : nom_modele,'Ensembliste':ensembliste,'Target' : target,\n",
    "               'Train_RMSE': train_rmse,'Test_RMSE' : test_rmse,'Train_R2' : train_r2,\n",
    "               'Test_R2' : test_r2, 'Commentaires' : commentaires}\n",
    "    df = add_result(df, data)\n",
    "    return df"
   ]
  },
  {
   "cell_type": "markdown",
   "id": "aaaafc3e",
   "metadata": {},
   "source": [
    "# 1.3 - Construction des Preprocesseurs"
   ]
  },
  {
   "cell_type": "raw",
   "id": "805e294d",
   "metadata": {},
   "source": [
    "#!TIPS\n",
    "Pour la suite si on veut avoir accès à certains attributs il faut que le préprocessor retourne une matrice dense et pas une matrice creuse\n",
    "2 méthodes pour transformer une matrice creuse (sparse) en matrice dense\n",
    "1 - X_train.toarray()\n",
    "2 - sparse_threshold = 0"
   ]
  },
  {
   "cell_type": "code",
   "execution_count": 14,
   "id": "1bd7a6c0",
   "metadata": {},
   "outputs": [],
   "source": [
    "num_features = []\n",
    "num_bin_features = []\n",
    "cat_features = []\n",
    "features = num_features + num_bin_features + cat_features "
   ]
  },
  {
   "cell_type": "markdown",
   "id": "9069aa25",
   "metadata": {},
   "source": [
    "### 1.3.1 - Scaled poly ohe preprocessor (spo)"
   ]
  },
  {
   "cell_type": "code",
   "execution_count": 15,
   "id": "485dda9b",
   "metadata": {},
   "outputs": [],
   "source": [
    "def init_spo():\n",
    "    num_t = Pipeline(steps = [\n",
    "    ('poly', PolynomialFeatures()),\n",
    "    ('scale',RobustScaler()),\n",
    "    ])\n",
    "\n",
    "\n",
    "    num_bin_t = Pipeline(steps = [\n",
    "        ('kbd' ,KBinsDiscretizer(n_bins = 2))\n",
    "    ])\n",
    "\n",
    "    cat_t = Pipeline(steps = [\n",
    "        ('ohe', OneHotEncoder(handle_unknown = 'ignore'))\n",
    "    ])\n",
    "\n",
    "\n",
    "    spo_preprocessor = ColumnTransformer(transformers =[\n",
    "        #(\"passthrough_numeric\", \"passthrough\", [\"colonnes\"])\n",
    "        ('nun_t', num_t,num_features),\n",
    "        #('num_bin_t', num_bin_t, num_bin_features),\n",
    "        ('cat_t', cat_t, cat_features)\n",
    "    ], remainder = 'drop', verbose_feature_names_out = False, sparse_threshold = 0)\n",
    "    return spo_preprocessor"
   ]
  },
  {
   "cell_type": "code",
   "execution_count": 16,
   "id": "4807993c",
   "metadata": {},
   "outputs": [
    {
     "data": {
      "text/html": [
       "<style>#sk-2e52619e-e766-49b5-857b-beec168b75aa {color: black;background-color: white;}#sk-2e52619e-e766-49b5-857b-beec168b75aa pre{padding: 0;}#sk-2e52619e-e766-49b5-857b-beec168b75aa div.sk-toggleable {background-color: white;}#sk-2e52619e-e766-49b5-857b-beec168b75aa label.sk-toggleable__label {cursor: pointer;display: block;width: 100%;margin-bottom: 0;padding: 0.3em;box-sizing: border-box;text-align: center;}#sk-2e52619e-e766-49b5-857b-beec168b75aa label.sk-toggleable__label-arrow:before {content: \"▸\";float: left;margin-right: 0.25em;color: #696969;}#sk-2e52619e-e766-49b5-857b-beec168b75aa label.sk-toggleable__label-arrow:hover:before {color: black;}#sk-2e52619e-e766-49b5-857b-beec168b75aa div.sk-estimator:hover label.sk-toggleable__label-arrow:before {color: black;}#sk-2e52619e-e766-49b5-857b-beec168b75aa div.sk-toggleable__content {max-height: 0;max-width: 0;overflow: hidden;text-align: left;background-color: #f0f8ff;}#sk-2e52619e-e766-49b5-857b-beec168b75aa div.sk-toggleable__content pre {margin: 0.2em;color: black;border-radius: 0.25em;background-color: #f0f8ff;}#sk-2e52619e-e766-49b5-857b-beec168b75aa input.sk-toggleable__control:checked~div.sk-toggleable__content {max-height: 200px;max-width: 100%;overflow: auto;}#sk-2e52619e-e766-49b5-857b-beec168b75aa input.sk-toggleable__control:checked~label.sk-toggleable__label-arrow:before {content: \"▾\";}#sk-2e52619e-e766-49b5-857b-beec168b75aa div.sk-estimator input.sk-toggleable__control:checked~label.sk-toggleable__label {background-color: #d4ebff;}#sk-2e52619e-e766-49b5-857b-beec168b75aa div.sk-label input.sk-toggleable__control:checked~label.sk-toggleable__label {background-color: #d4ebff;}#sk-2e52619e-e766-49b5-857b-beec168b75aa input.sk-hidden--visually {border: 0;clip: rect(1px 1px 1px 1px);clip: rect(1px, 1px, 1px, 1px);height: 1px;margin: -1px;overflow: hidden;padding: 0;position: absolute;width: 1px;}#sk-2e52619e-e766-49b5-857b-beec168b75aa div.sk-estimator {font-family: monospace;background-color: #f0f8ff;border: 1px dotted black;border-radius: 0.25em;box-sizing: border-box;margin-bottom: 0.5em;}#sk-2e52619e-e766-49b5-857b-beec168b75aa div.sk-estimator:hover {background-color: #d4ebff;}#sk-2e52619e-e766-49b5-857b-beec168b75aa div.sk-parallel-item::after {content: \"\";width: 100%;border-bottom: 1px solid gray;flex-grow: 1;}#sk-2e52619e-e766-49b5-857b-beec168b75aa div.sk-label:hover label.sk-toggleable__label {background-color: #d4ebff;}#sk-2e52619e-e766-49b5-857b-beec168b75aa div.sk-serial::before {content: \"\";position: absolute;border-left: 1px solid gray;box-sizing: border-box;top: 2em;bottom: 0;left: 50%;}#sk-2e52619e-e766-49b5-857b-beec168b75aa div.sk-serial {display: flex;flex-direction: column;align-items: center;background-color: white;padding-right: 0.2em;padding-left: 0.2em;}#sk-2e52619e-e766-49b5-857b-beec168b75aa div.sk-item {z-index: 1;}#sk-2e52619e-e766-49b5-857b-beec168b75aa div.sk-parallel {display: flex;align-items: stretch;justify-content: center;background-color: white;}#sk-2e52619e-e766-49b5-857b-beec168b75aa div.sk-parallel::before {content: \"\";position: absolute;border-left: 1px solid gray;box-sizing: border-box;top: 2em;bottom: 0;left: 50%;}#sk-2e52619e-e766-49b5-857b-beec168b75aa div.sk-parallel-item {display: flex;flex-direction: column;position: relative;background-color: white;}#sk-2e52619e-e766-49b5-857b-beec168b75aa div.sk-parallel-item:first-child::after {align-self: flex-end;width: 50%;}#sk-2e52619e-e766-49b5-857b-beec168b75aa div.sk-parallel-item:last-child::after {align-self: flex-start;width: 50%;}#sk-2e52619e-e766-49b5-857b-beec168b75aa div.sk-parallel-item:only-child::after {width: 0;}#sk-2e52619e-e766-49b5-857b-beec168b75aa div.sk-dashed-wrapped {border: 1px dashed gray;margin: 0 0.4em 0.5em 0.4em;box-sizing: border-box;padding-bottom: 0.4em;background-color: white;position: relative;}#sk-2e52619e-e766-49b5-857b-beec168b75aa div.sk-label label {font-family: monospace;font-weight: bold;background-color: white;display: inline-block;line-height: 1.2em;}#sk-2e52619e-e766-49b5-857b-beec168b75aa div.sk-label-container {position: relative;z-index: 2;text-align: center;}#sk-2e52619e-e766-49b5-857b-beec168b75aa div.sk-container {/* jupyter's `normalize.less` sets `[hidden] { display: none; }` but bootstrap.min.css set `[hidden] { display: none !important; }` so we also need the `!important` here to be able to override the default hidden behavior on the sphinx rendered scikit-learn.org. See: https://github.com/scikit-learn/scikit-learn/issues/21755 */display: inline-block !important;position: relative;}#sk-2e52619e-e766-49b5-857b-beec168b75aa div.sk-text-repr-fallback {display: none;}</style><div id=\"sk-2e52619e-e766-49b5-857b-beec168b75aa\" class=\"sk-top-container\"><div class=\"sk-text-repr-fallback\"><pre>ColumnTransformer(sparse_threshold=0,\n",
       "                  transformers=[(&#x27;nun_t&#x27;,\n",
       "                                 Pipeline(steps=[(&#x27;poly&#x27;, PolynomialFeatures()),\n",
       "                                                 (&#x27;scale&#x27;, RobustScaler())]),\n",
       "                                 []),\n",
       "                                (&#x27;cat_t&#x27;,\n",
       "                                 Pipeline(steps=[(&#x27;ohe&#x27;,\n",
       "                                                  OneHotEncoder(handle_unknown=&#x27;ignore&#x27;))]),\n",
       "                                 [])],\n",
       "                  verbose_feature_names_out=False)</pre><b>Please rerun this cell to show the HTML repr or trust the notebook.</b></div><div class=\"sk-container\" hidden><div class=\"sk-item sk-dashed-wrapped\"><div class=\"sk-label-container\"><div class=\"sk-label sk-toggleable\"><input class=\"sk-toggleable__control sk-hidden--visually\" id=\"d32e63c8-bb53-4597-a564-4a64f4e3269f\" type=\"checkbox\" ><label for=\"d32e63c8-bb53-4597-a564-4a64f4e3269f\" class=\"sk-toggleable__label sk-toggleable__label-arrow\">ColumnTransformer</label><div class=\"sk-toggleable__content\"><pre>ColumnTransformer(sparse_threshold=0,\n",
       "                  transformers=[(&#x27;nun_t&#x27;,\n",
       "                                 Pipeline(steps=[(&#x27;poly&#x27;, PolynomialFeatures()),\n",
       "                                                 (&#x27;scale&#x27;, RobustScaler())]),\n",
       "                                 []),\n",
       "                                (&#x27;cat_t&#x27;,\n",
       "                                 Pipeline(steps=[(&#x27;ohe&#x27;,\n",
       "                                                  OneHotEncoder(handle_unknown=&#x27;ignore&#x27;))]),\n",
       "                                 [])],\n",
       "                  verbose_feature_names_out=False)</pre></div></div></div><div class=\"sk-parallel\"><div class=\"sk-parallel-item\"><div class=\"sk-item\"><div class=\"sk-label-container\"><div class=\"sk-label sk-toggleable\"><input class=\"sk-toggleable__control sk-hidden--visually\" id=\"628d77f8-ff71-4f27-94ff-aa331654aa7a\" type=\"checkbox\" ><label for=\"628d77f8-ff71-4f27-94ff-aa331654aa7a\" class=\"sk-toggleable__label sk-toggleable__label-arrow\">nun_t</label><div class=\"sk-toggleable__content\"><pre>[]</pre></div></div></div><div class=\"sk-serial\"><div class=\"sk-item\"><div class=\"sk-serial\"><div class=\"sk-item\"><div class=\"sk-estimator sk-toggleable\"><input class=\"sk-toggleable__control sk-hidden--visually\" id=\"f5608842-2a44-4c1a-969e-6e005ce272b8\" type=\"checkbox\" ><label for=\"f5608842-2a44-4c1a-969e-6e005ce272b8\" class=\"sk-toggleable__label sk-toggleable__label-arrow\">PolynomialFeatures</label><div class=\"sk-toggleable__content\"><pre>PolynomialFeatures()</pre></div></div></div><div class=\"sk-item\"><div class=\"sk-estimator sk-toggleable\"><input class=\"sk-toggleable__control sk-hidden--visually\" id=\"b1e4fa40-482a-4633-a649-19ca471cb4a5\" type=\"checkbox\" ><label for=\"b1e4fa40-482a-4633-a649-19ca471cb4a5\" class=\"sk-toggleable__label sk-toggleable__label-arrow\">RobustScaler</label><div class=\"sk-toggleable__content\"><pre>RobustScaler()</pre></div></div></div></div></div></div></div></div><div class=\"sk-parallel-item\"><div class=\"sk-item\"><div class=\"sk-label-container\"><div class=\"sk-label sk-toggleable\"><input class=\"sk-toggleable__control sk-hidden--visually\" id=\"5c53e5ab-0221-401f-b07c-363d5532843f\" type=\"checkbox\" ><label for=\"5c53e5ab-0221-401f-b07c-363d5532843f\" class=\"sk-toggleable__label sk-toggleable__label-arrow\">cat_t</label><div class=\"sk-toggleable__content\"><pre>[]</pre></div></div></div><div class=\"sk-serial\"><div class=\"sk-item\"><div class=\"sk-serial\"><div class=\"sk-item\"><div class=\"sk-estimator sk-toggleable\"><input class=\"sk-toggleable__control sk-hidden--visually\" id=\"0ebdd76b-14a4-4762-ab8b-315ad4bcb2e7\" type=\"checkbox\" ><label for=\"0ebdd76b-14a4-4762-ab8b-315ad4bcb2e7\" class=\"sk-toggleable__label sk-toggleable__label-arrow\">OneHotEncoder</label><div class=\"sk-toggleable__content\"><pre>OneHotEncoder(handle_unknown=&#x27;ignore&#x27;)</pre></div></div></div></div></div></div></div></div></div></div></div></div>"
      ],
      "text/plain": [
       "ColumnTransformer(sparse_threshold=0,\n",
       "                  transformers=[('nun_t',\n",
       "                                 Pipeline(steps=[('poly', PolynomialFeatures()),\n",
       "                                                 ('scale', RobustScaler())]),\n",
       "                                 []),\n",
       "                                ('cat_t',\n",
       "                                 Pipeline(steps=[('ohe',\n",
       "                                                  OneHotEncoder(handle_unknown='ignore'))]),\n",
       "                                 [])],\n",
       "                  verbose_feature_names_out=False)"
      ]
     },
     "execution_count": 16,
     "metadata": {},
     "output_type": "execute_result"
    }
   ],
   "source": [
    "init_spo()"
   ]
  },
  {
   "cell_type": "markdown",
   "id": "7bf9b639",
   "metadata": {},
   "source": [
    "### 1.3.3 - scaled ohe preprocessor (so)"
   ]
  },
  {
   "cell_type": "code",
   "execution_count": 17,
   "id": "40ca4581",
   "metadata": {},
   "outputs": [],
   "source": [
    "def init_so():\n",
    "    so_preprocessor = ColumnTransformer(\n",
    "        [ \n",
    "            ('num_t',RobustScaler(), num_features),\n",
    "            #('num_bins_t', KBinsDiscretizer(n_bins = 2), num_bin_features),\n",
    "            ('cat_t', OneHotEncoder(handle_unknown = 'ignore'),cat_features),        \n",
    "        ],remainder = 'drop', verbose_feature_names_out = False,sparse_threshold = 0)\n",
    "    return so_preprocessor"
   ]
  },
  {
   "cell_type": "code",
   "execution_count": 18,
   "id": "d62e8db1",
   "metadata": {},
   "outputs": [
    {
     "data": {
      "text/html": [
       "<style>#sk-84612fce-b700-4782-a48b-abd3412d443f {color: black;background-color: white;}#sk-84612fce-b700-4782-a48b-abd3412d443f pre{padding: 0;}#sk-84612fce-b700-4782-a48b-abd3412d443f div.sk-toggleable {background-color: white;}#sk-84612fce-b700-4782-a48b-abd3412d443f label.sk-toggleable__label {cursor: pointer;display: block;width: 100%;margin-bottom: 0;padding: 0.3em;box-sizing: border-box;text-align: center;}#sk-84612fce-b700-4782-a48b-abd3412d443f label.sk-toggleable__label-arrow:before {content: \"▸\";float: left;margin-right: 0.25em;color: #696969;}#sk-84612fce-b700-4782-a48b-abd3412d443f label.sk-toggleable__label-arrow:hover:before {color: black;}#sk-84612fce-b700-4782-a48b-abd3412d443f div.sk-estimator:hover label.sk-toggleable__label-arrow:before {color: black;}#sk-84612fce-b700-4782-a48b-abd3412d443f div.sk-toggleable__content {max-height: 0;max-width: 0;overflow: hidden;text-align: left;background-color: #f0f8ff;}#sk-84612fce-b700-4782-a48b-abd3412d443f div.sk-toggleable__content pre {margin: 0.2em;color: black;border-radius: 0.25em;background-color: #f0f8ff;}#sk-84612fce-b700-4782-a48b-abd3412d443f input.sk-toggleable__control:checked~div.sk-toggleable__content {max-height: 200px;max-width: 100%;overflow: auto;}#sk-84612fce-b700-4782-a48b-abd3412d443f input.sk-toggleable__control:checked~label.sk-toggleable__label-arrow:before {content: \"▾\";}#sk-84612fce-b700-4782-a48b-abd3412d443f div.sk-estimator input.sk-toggleable__control:checked~label.sk-toggleable__label {background-color: #d4ebff;}#sk-84612fce-b700-4782-a48b-abd3412d443f div.sk-label input.sk-toggleable__control:checked~label.sk-toggleable__label {background-color: #d4ebff;}#sk-84612fce-b700-4782-a48b-abd3412d443f input.sk-hidden--visually {border: 0;clip: rect(1px 1px 1px 1px);clip: rect(1px, 1px, 1px, 1px);height: 1px;margin: -1px;overflow: hidden;padding: 0;position: absolute;width: 1px;}#sk-84612fce-b700-4782-a48b-abd3412d443f div.sk-estimator {font-family: monospace;background-color: #f0f8ff;border: 1px dotted black;border-radius: 0.25em;box-sizing: border-box;margin-bottom: 0.5em;}#sk-84612fce-b700-4782-a48b-abd3412d443f div.sk-estimator:hover {background-color: #d4ebff;}#sk-84612fce-b700-4782-a48b-abd3412d443f div.sk-parallel-item::after {content: \"\";width: 100%;border-bottom: 1px solid gray;flex-grow: 1;}#sk-84612fce-b700-4782-a48b-abd3412d443f div.sk-label:hover label.sk-toggleable__label {background-color: #d4ebff;}#sk-84612fce-b700-4782-a48b-abd3412d443f div.sk-serial::before {content: \"\";position: absolute;border-left: 1px solid gray;box-sizing: border-box;top: 2em;bottom: 0;left: 50%;}#sk-84612fce-b700-4782-a48b-abd3412d443f div.sk-serial {display: flex;flex-direction: column;align-items: center;background-color: white;padding-right: 0.2em;padding-left: 0.2em;}#sk-84612fce-b700-4782-a48b-abd3412d443f div.sk-item {z-index: 1;}#sk-84612fce-b700-4782-a48b-abd3412d443f div.sk-parallel {display: flex;align-items: stretch;justify-content: center;background-color: white;}#sk-84612fce-b700-4782-a48b-abd3412d443f div.sk-parallel::before {content: \"\";position: absolute;border-left: 1px solid gray;box-sizing: border-box;top: 2em;bottom: 0;left: 50%;}#sk-84612fce-b700-4782-a48b-abd3412d443f div.sk-parallel-item {display: flex;flex-direction: column;position: relative;background-color: white;}#sk-84612fce-b700-4782-a48b-abd3412d443f div.sk-parallel-item:first-child::after {align-self: flex-end;width: 50%;}#sk-84612fce-b700-4782-a48b-abd3412d443f div.sk-parallel-item:last-child::after {align-self: flex-start;width: 50%;}#sk-84612fce-b700-4782-a48b-abd3412d443f div.sk-parallel-item:only-child::after {width: 0;}#sk-84612fce-b700-4782-a48b-abd3412d443f div.sk-dashed-wrapped {border: 1px dashed gray;margin: 0 0.4em 0.5em 0.4em;box-sizing: border-box;padding-bottom: 0.4em;background-color: white;position: relative;}#sk-84612fce-b700-4782-a48b-abd3412d443f div.sk-label label {font-family: monospace;font-weight: bold;background-color: white;display: inline-block;line-height: 1.2em;}#sk-84612fce-b700-4782-a48b-abd3412d443f div.sk-label-container {position: relative;z-index: 2;text-align: center;}#sk-84612fce-b700-4782-a48b-abd3412d443f div.sk-container {/* jupyter's `normalize.less` sets `[hidden] { display: none; }` but bootstrap.min.css set `[hidden] { display: none !important; }` so we also need the `!important` here to be able to override the default hidden behavior on the sphinx rendered scikit-learn.org. See: https://github.com/scikit-learn/scikit-learn/issues/21755 */display: inline-block !important;position: relative;}#sk-84612fce-b700-4782-a48b-abd3412d443f div.sk-text-repr-fallback {display: none;}</style><div id=\"sk-84612fce-b700-4782-a48b-abd3412d443f\" class=\"sk-top-container\"><div class=\"sk-text-repr-fallback\"><pre>ColumnTransformer(sparse_threshold=0,\n",
       "                  transformers=[(&#x27;num_t&#x27;, RobustScaler(), []),\n",
       "                                (&#x27;cat_t&#x27;,\n",
       "                                 OneHotEncoder(handle_unknown=&#x27;ignore&#x27;), [])],\n",
       "                  verbose_feature_names_out=False)</pre><b>Please rerun this cell to show the HTML repr or trust the notebook.</b></div><div class=\"sk-container\" hidden><div class=\"sk-item sk-dashed-wrapped\"><div class=\"sk-label-container\"><div class=\"sk-label sk-toggleable\"><input class=\"sk-toggleable__control sk-hidden--visually\" id=\"90d656c6-4d76-4ae8-9827-f45f273fd02a\" type=\"checkbox\" ><label for=\"90d656c6-4d76-4ae8-9827-f45f273fd02a\" class=\"sk-toggleable__label sk-toggleable__label-arrow\">ColumnTransformer</label><div class=\"sk-toggleable__content\"><pre>ColumnTransformer(sparse_threshold=0,\n",
       "                  transformers=[(&#x27;num_t&#x27;, RobustScaler(), []),\n",
       "                                (&#x27;cat_t&#x27;,\n",
       "                                 OneHotEncoder(handle_unknown=&#x27;ignore&#x27;), [])],\n",
       "                  verbose_feature_names_out=False)</pre></div></div></div><div class=\"sk-parallel\"><div class=\"sk-parallel-item\"><div class=\"sk-item\"><div class=\"sk-label-container\"><div class=\"sk-label sk-toggleable\"><input class=\"sk-toggleable__control sk-hidden--visually\" id=\"819d24df-c8cb-42ef-a7e8-7dd654664921\" type=\"checkbox\" ><label for=\"819d24df-c8cb-42ef-a7e8-7dd654664921\" class=\"sk-toggleable__label sk-toggleable__label-arrow\">num_t</label><div class=\"sk-toggleable__content\"><pre>[]</pre></div></div></div><div class=\"sk-serial\"><div class=\"sk-item\"><div class=\"sk-estimator sk-toggleable\"><input class=\"sk-toggleable__control sk-hidden--visually\" id=\"869d6d14-8776-4c01-a9e6-aa890115751c\" type=\"checkbox\" ><label for=\"869d6d14-8776-4c01-a9e6-aa890115751c\" class=\"sk-toggleable__label sk-toggleable__label-arrow\">RobustScaler</label><div class=\"sk-toggleable__content\"><pre>RobustScaler()</pre></div></div></div></div></div></div><div class=\"sk-parallel-item\"><div class=\"sk-item\"><div class=\"sk-label-container\"><div class=\"sk-label sk-toggleable\"><input class=\"sk-toggleable__control sk-hidden--visually\" id=\"e55db2b0-d24f-4ef4-905c-57eafc72254f\" type=\"checkbox\" ><label for=\"e55db2b0-d24f-4ef4-905c-57eafc72254f\" class=\"sk-toggleable__label sk-toggleable__label-arrow\">cat_t</label><div class=\"sk-toggleable__content\"><pre>[]</pre></div></div></div><div class=\"sk-serial\"><div class=\"sk-item\"><div class=\"sk-estimator sk-toggleable\"><input class=\"sk-toggleable__control sk-hidden--visually\" id=\"60bbb786-2c9c-49dc-865f-17578e1daa3b\" type=\"checkbox\" ><label for=\"60bbb786-2c9c-49dc-865f-17578e1daa3b\" class=\"sk-toggleable__label sk-toggleable__label-arrow\">OneHotEncoder</label><div class=\"sk-toggleable__content\"><pre>OneHotEncoder(handle_unknown=&#x27;ignore&#x27;)</pre></div></div></div></div></div></div></div></div></div></div>"
      ],
      "text/plain": [
       "ColumnTransformer(sparse_threshold=0,\n",
       "                  transformers=[('num_t', RobustScaler(), []),\n",
       "                                ('cat_t',\n",
       "                                 OneHotEncoder(handle_unknown='ignore'), [])],\n",
       "                  verbose_feature_names_out=False)"
      ]
     },
     "execution_count": 18,
     "metadata": {},
     "output_type": "execute_result"
    }
   ],
   "source": [
    "init_so()"
   ]
  },
  {
   "cell_type": "markdown",
   "id": "e57697e4",
   "metadata": {},
   "source": [
    "###  1.3.2 - ohe preprocessor (o)"
   ]
  },
  {
   "cell_type": "code",
   "execution_count": 19,
   "id": "69d6d443",
   "metadata": {},
   "outputs": [],
   "source": [
    "def init_o():  \n",
    "    o_preprocessor = ColumnTransformer(\n",
    "        [\n",
    "            ('passthrough_numeric', 'passthrough', num_features),\n",
    "            ('cat_t', OneHotEncoder(handle_unknown = 'ignore'),cat_features),\n",
    "        ], remainder = 'drop', verbose_feature_names_out = False,sparse_threshold = 0,\n",
    "    )\n",
    "    return o_preprocessor"
   ]
  },
  {
   "cell_type": "code",
   "execution_count": 20,
   "id": "8cbcd3d8",
   "metadata": {},
   "outputs": [
    {
     "data": {
      "text/html": [
       "<style>#sk-dc388cec-9abe-4ea8-9f83-06987b43f3b0 {color: black;background-color: white;}#sk-dc388cec-9abe-4ea8-9f83-06987b43f3b0 pre{padding: 0;}#sk-dc388cec-9abe-4ea8-9f83-06987b43f3b0 div.sk-toggleable {background-color: white;}#sk-dc388cec-9abe-4ea8-9f83-06987b43f3b0 label.sk-toggleable__label {cursor: pointer;display: block;width: 100%;margin-bottom: 0;padding: 0.3em;box-sizing: border-box;text-align: center;}#sk-dc388cec-9abe-4ea8-9f83-06987b43f3b0 label.sk-toggleable__label-arrow:before {content: \"▸\";float: left;margin-right: 0.25em;color: #696969;}#sk-dc388cec-9abe-4ea8-9f83-06987b43f3b0 label.sk-toggleable__label-arrow:hover:before {color: black;}#sk-dc388cec-9abe-4ea8-9f83-06987b43f3b0 div.sk-estimator:hover label.sk-toggleable__label-arrow:before {color: black;}#sk-dc388cec-9abe-4ea8-9f83-06987b43f3b0 div.sk-toggleable__content {max-height: 0;max-width: 0;overflow: hidden;text-align: left;background-color: #f0f8ff;}#sk-dc388cec-9abe-4ea8-9f83-06987b43f3b0 div.sk-toggleable__content pre {margin: 0.2em;color: black;border-radius: 0.25em;background-color: #f0f8ff;}#sk-dc388cec-9abe-4ea8-9f83-06987b43f3b0 input.sk-toggleable__control:checked~div.sk-toggleable__content {max-height: 200px;max-width: 100%;overflow: auto;}#sk-dc388cec-9abe-4ea8-9f83-06987b43f3b0 input.sk-toggleable__control:checked~label.sk-toggleable__label-arrow:before {content: \"▾\";}#sk-dc388cec-9abe-4ea8-9f83-06987b43f3b0 div.sk-estimator input.sk-toggleable__control:checked~label.sk-toggleable__label {background-color: #d4ebff;}#sk-dc388cec-9abe-4ea8-9f83-06987b43f3b0 div.sk-label input.sk-toggleable__control:checked~label.sk-toggleable__label {background-color: #d4ebff;}#sk-dc388cec-9abe-4ea8-9f83-06987b43f3b0 input.sk-hidden--visually {border: 0;clip: rect(1px 1px 1px 1px);clip: rect(1px, 1px, 1px, 1px);height: 1px;margin: -1px;overflow: hidden;padding: 0;position: absolute;width: 1px;}#sk-dc388cec-9abe-4ea8-9f83-06987b43f3b0 div.sk-estimator {font-family: monospace;background-color: #f0f8ff;border: 1px dotted black;border-radius: 0.25em;box-sizing: border-box;margin-bottom: 0.5em;}#sk-dc388cec-9abe-4ea8-9f83-06987b43f3b0 div.sk-estimator:hover {background-color: #d4ebff;}#sk-dc388cec-9abe-4ea8-9f83-06987b43f3b0 div.sk-parallel-item::after {content: \"\";width: 100%;border-bottom: 1px solid gray;flex-grow: 1;}#sk-dc388cec-9abe-4ea8-9f83-06987b43f3b0 div.sk-label:hover label.sk-toggleable__label {background-color: #d4ebff;}#sk-dc388cec-9abe-4ea8-9f83-06987b43f3b0 div.sk-serial::before {content: \"\";position: absolute;border-left: 1px solid gray;box-sizing: border-box;top: 2em;bottom: 0;left: 50%;}#sk-dc388cec-9abe-4ea8-9f83-06987b43f3b0 div.sk-serial {display: flex;flex-direction: column;align-items: center;background-color: white;padding-right: 0.2em;padding-left: 0.2em;}#sk-dc388cec-9abe-4ea8-9f83-06987b43f3b0 div.sk-item {z-index: 1;}#sk-dc388cec-9abe-4ea8-9f83-06987b43f3b0 div.sk-parallel {display: flex;align-items: stretch;justify-content: center;background-color: white;}#sk-dc388cec-9abe-4ea8-9f83-06987b43f3b0 div.sk-parallel::before {content: \"\";position: absolute;border-left: 1px solid gray;box-sizing: border-box;top: 2em;bottom: 0;left: 50%;}#sk-dc388cec-9abe-4ea8-9f83-06987b43f3b0 div.sk-parallel-item {display: flex;flex-direction: column;position: relative;background-color: white;}#sk-dc388cec-9abe-4ea8-9f83-06987b43f3b0 div.sk-parallel-item:first-child::after {align-self: flex-end;width: 50%;}#sk-dc388cec-9abe-4ea8-9f83-06987b43f3b0 div.sk-parallel-item:last-child::after {align-self: flex-start;width: 50%;}#sk-dc388cec-9abe-4ea8-9f83-06987b43f3b0 div.sk-parallel-item:only-child::after {width: 0;}#sk-dc388cec-9abe-4ea8-9f83-06987b43f3b0 div.sk-dashed-wrapped {border: 1px dashed gray;margin: 0 0.4em 0.5em 0.4em;box-sizing: border-box;padding-bottom: 0.4em;background-color: white;position: relative;}#sk-dc388cec-9abe-4ea8-9f83-06987b43f3b0 div.sk-label label {font-family: monospace;font-weight: bold;background-color: white;display: inline-block;line-height: 1.2em;}#sk-dc388cec-9abe-4ea8-9f83-06987b43f3b0 div.sk-label-container {position: relative;z-index: 2;text-align: center;}#sk-dc388cec-9abe-4ea8-9f83-06987b43f3b0 div.sk-container {/* jupyter's `normalize.less` sets `[hidden] { display: none; }` but bootstrap.min.css set `[hidden] { display: none !important; }` so we also need the `!important` here to be able to override the default hidden behavior on the sphinx rendered scikit-learn.org. See: https://github.com/scikit-learn/scikit-learn/issues/21755 */display: inline-block !important;position: relative;}#sk-dc388cec-9abe-4ea8-9f83-06987b43f3b0 div.sk-text-repr-fallback {display: none;}</style><div id=\"sk-dc388cec-9abe-4ea8-9f83-06987b43f3b0\" class=\"sk-top-container\"><div class=\"sk-text-repr-fallback\"><pre>ColumnTransformer(sparse_threshold=0,\n",
       "                  transformers=[(&#x27;passthrough_numeric&#x27;, &#x27;passthrough&#x27;, []),\n",
       "                                (&#x27;cat_t&#x27;,\n",
       "                                 OneHotEncoder(handle_unknown=&#x27;ignore&#x27;), [])],\n",
       "                  verbose_feature_names_out=False)</pre><b>Please rerun this cell to show the HTML repr or trust the notebook.</b></div><div class=\"sk-container\" hidden><div class=\"sk-item sk-dashed-wrapped\"><div class=\"sk-label-container\"><div class=\"sk-label sk-toggleable\"><input class=\"sk-toggleable__control sk-hidden--visually\" id=\"c57ef73e-549b-435a-ae05-386a6e5257ed\" type=\"checkbox\" ><label for=\"c57ef73e-549b-435a-ae05-386a6e5257ed\" class=\"sk-toggleable__label sk-toggleable__label-arrow\">ColumnTransformer</label><div class=\"sk-toggleable__content\"><pre>ColumnTransformer(sparse_threshold=0,\n",
       "                  transformers=[(&#x27;passthrough_numeric&#x27;, &#x27;passthrough&#x27;, []),\n",
       "                                (&#x27;cat_t&#x27;,\n",
       "                                 OneHotEncoder(handle_unknown=&#x27;ignore&#x27;), [])],\n",
       "                  verbose_feature_names_out=False)</pre></div></div></div><div class=\"sk-parallel\"><div class=\"sk-parallel-item\"><div class=\"sk-item\"><div class=\"sk-label-container\"><div class=\"sk-label sk-toggleable\"><input class=\"sk-toggleable__control sk-hidden--visually\" id=\"d0036e5d-b921-48ea-9beb-4be36b877f53\" type=\"checkbox\" ><label for=\"d0036e5d-b921-48ea-9beb-4be36b877f53\" class=\"sk-toggleable__label sk-toggleable__label-arrow\">passthrough_numeric</label><div class=\"sk-toggleable__content\"><pre>[]</pre></div></div></div><div class=\"sk-serial\"><div class=\"sk-item\"><div class=\"sk-estimator sk-toggleable\"><input class=\"sk-toggleable__control sk-hidden--visually\" id=\"def7b021-7478-4856-b5bd-6725bc8b6031\" type=\"checkbox\" ><label for=\"def7b021-7478-4856-b5bd-6725bc8b6031\" class=\"sk-toggleable__label sk-toggleable__label-arrow\">passthrough</label><div class=\"sk-toggleable__content\"><pre>passthrough</pre></div></div></div></div></div></div><div class=\"sk-parallel-item\"><div class=\"sk-item\"><div class=\"sk-label-container\"><div class=\"sk-label sk-toggleable\"><input class=\"sk-toggleable__control sk-hidden--visually\" id=\"a323c502-a352-4a49-8b0e-db6f9f540ce8\" type=\"checkbox\" ><label for=\"a323c502-a352-4a49-8b0e-db6f9f540ce8\" class=\"sk-toggleable__label sk-toggleable__label-arrow\">cat_t</label><div class=\"sk-toggleable__content\"><pre>[]</pre></div></div></div><div class=\"sk-serial\"><div class=\"sk-item\"><div class=\"sk-estimator sk-toggleable\"><input class=\"sk-toggleable__control sk-hidden--visually\" id=\"a7080c0a-b6c4-4d6a-8df6-95b14d4f5bf8\" type=\"checkbox\" ><label for=\"a7080c0a-b6c4-4d6a-8df6-95b14d4f5bf8\" class=\"sk-toggleable__label sk-toggleable__label-arrow\">OneHotEncoder</label><div class=\"sk-toggleable__content\"><pre>OneHotEncoder(handle_unknown=&#x27;ignore&#x27;)</pre></div></div></div></div></div></div></div></div></div></div>"
      ],
      "text/plain": [
       "ColumnTransformer(sparse_threshold=0,\n",
       "                  transformers=[('passthrough_numeric', 'passthrough', []),\n",
       "                                ('cat_t',\n",
       "                                 OneHotEncoder(handle_unknown='ignore'), [])],\n",
       "                  verbose_feature_names_out=False)"
      ]
     },
     "execution_count": 20,
     "metadata": {},
     "output_type": "execute_result"
    }
   ],
   "source": [
    "init_o()"
   ]
  },
  {
   "cell_type": "markdown",
   "id": "23aac8ae",
   "metadata": {},
   "source": [
    "# A - Emission de CO2  - TotalGHGEmissions"
   ]
  },
  {
   "cell_type": "markdown",
   "id": "00aa19cd",
   "metadata": {},
   "source": [
    "## 1.2 - Selection des variables "
   ]
  },
  {
   "cell_type": "markdown",
   "id": "ce374bb8",
   "metadata": {},
   "source": [
    "### variables cible"
   ]
  },
  {
   "cell_type": "code",
   "execution_count": 21,
   "id": "4ac41958",
   "metadata": {},
   "outputs": [],
   "source": [
    "target = df['TotalGHGEmissions']"
   ]
  },
  {
   "cell_type": "markdown",
   "id": "8f65f04c",
   "metadata": {},
   "source": [
    "### variables explicatives"
   ]
  },
  {
   "cell_type": "code",
   "execution_count": 22,
   "id": "ccc60096",
   "metadata": {},
   "outputs": [],
   "source": [
    "num_features = [\n",
    "    'LargestPropertyUseTypeGFA',\n",
    "    'SecondLargestPropertyUseTypeGFA',\n",
    "    'ThirdLargestPropertyUseTypeGFA',\n",
    "    'Electricity_p',\n",
    "    'NaturalGaz_p',\n",
    "    'Latitude',\n",
    "    'Longitude',\n",
    "    'NonResidentialGFA',\n",
    "    'PropertyGFAParking',\n",
    "    'PropertyGFABuilding(s)']\n",
    "\n",
    "num_bin_features =  ['NumberofBuildings']\n",
    "\n",
    "cat_features = [\n",
    "    'PrimaryPropertyType',\n",
    "    'BuildingType',\n",
    "    'LargestPropertyUseType']"
   ]
  },
  {
   "cell_type": "code",
   "execution_count": 23,
   "id": "22866153",
   "metadata": {},
   "outputs": [
    {
     "data": {
      "text/html": [
       "<div>\n",
       "<style scoped>\n",
       "    .dataframe tbody tr th:only-of-type {\n",
       "        vertical-align: middle;\n",
       "    }\n",
       "\n",
       "    .dataframe tbody tr th {\n",
       "        vertical-align: top;\n",
       "    }\n",
       "\n",
       "    .dataframe thead th {\n",
       "        text-align: right;\n",
       "    }\n",
       "</style>\n",
       "<table border=\"1\" class=\"dataframe\">\n",
       "  <thead>\n",
       "    <tr style=\"text-align: right;\">\n",
       "      <th></th>\n",
       "      <th>dtypes</th>\n",
       "      <th>counts</th>\n",
       "      <th>unique</th>\n",
       "      <th>skewness</th>\n",
       "      <th>kurtosis</th>\n",
       "      <th>null</th>\n",
       "      <th>missing_ration</th>\n",
       "    </tr>\n",
       "  </thead>\n",
       "  <tbody>\n",
       "    <tr>\n",
       "      <th>LargestPropertyUseTypeGFA</th>\n",
       "      <td>float64</td>\n",
       "      <td>2384</td>\n",
       "      <td>2242</td>\n",
       "      <td>5.58</td>\n",
       "      <td>43.16</td>\n",
       "      <td>0</td>\n",
       "      <td>0.0</td>\n",
       "    </tr>\n",
       "    <tr>\n",
       "      <th>SecondLargestPropertyUseTypeGFA</th>\n",
       "      <td>float64</td>\n",
       "      <td>2384</td>\n",
       "      <td>1337</td>\n",
       "      <td>5.35</td>\n",
       "      <td>39.62</td>\n",
       "      <td>0</td>\n",
       "      <td>0.0</td>\n",
       "    </tr>\n",
       "    <tr>\n",
       "      <th>ThirdLargestPropertyUseTypeGFA</th>\n",
       "      <td>float64</td>\n",
       "      <td>2384</td>\n",
       "      <td>496</td>\n",
       "      <td>17.07</td>\n",
       "      <td>406.05</td>\n",
       "      <td>0</td>\n",
       "      <td>0.0</td>\n",
       "    </tr>\n",
       "    <tr>\n",
       "      <th>Electricity_p</th>\n",
       "      <td>float64</td>\n",
       "      <td>2384</td>\n",
       "      <td>1680</td>\n",
       "      <td>-0.44</td>\n",
       "      <td>-0.98</td>\n",
       "      <td>0</td>\n",
       "      <td>0.0</td>\n",
       "    </tr>\n",
       "    <tr>\n",
       "      <th>NaturalGaz_p</th>\n",
       "      <td>float64</td>\n",
       "      <td>2384</td>\n",
       "      <td>1628</td>\n",
       "      <td>0.55</td>\n",
       "      <td>-0.89</td>\n",
       "      <td>0</td>\n",
       "      <td>0.0</td>\n",
       "    </tr>\n",
       "    <tr>\n",
       "      <th>Latitude</th>\n",
       "      <td>float64</td>\n",
       "      <td>2384</td>\n",
       "      <td>2110</td>\n",
       "      <td>0.16</td>\n",
       "      <td>-0.17</td>\n",
       "      <td>0</td>\n",
       "      <td>0.0</td>\n",
       "    </tr>\n",
       "    <tr>\n",
       "      <th>Longitude</th>\n",
       "      <td>float64</td>\n",
       "      <td>2384</td>\n",
       "      <td>1941</td>\n",
       "      <td>-0.10</td>\n",
       "      <td>0.61</td>\n",
       "      <td>0</td>\n",
       "      <td>0.0</td>\n",
       "    </tr>\n",
       "    <tr>\n",
       "      <th>NonResidentialGFA</th>\n",
       "      <td>int64</td>\n",
       "      <td>2384</td>\n",
       "      <td>2240</td>\n",
       "      <td>5.94</td>\n",
       "      <td>46.20</td>\n",
       "      <td>0</td>\n",
       "      <td>0.0</td>\n",
       "    </tr>\n",
       "    <tr>\n",
       "      <th>PropertyGFAParking</th>\n",
       "      <td>int64</td>\n",
       "      <td>2384</td>\n",
       "      <td>444</td>\n",
       "      <td>5.74</td>\n",
       "      <td>43.52</td>\n",
       "      <td>0</td>\n",
       "      <td>0.0</td>\n",
       "    </tr>\n",
       "    <tr>\n",
       "      <th>PropertyGFABuilding(s)</th>\n",
       "      <td>int64</td>\n",
       "      <td>2384</td>\n",
       "      <td>2286</td>\n",
       "      <td>5.59</td>\n",
       "      <td>45.23</td>\n",
       "      <td>0</td>\n",
       "      <td>0.0</td>\n",
       "    </tr>\n",
       "    <tr>\n",
       "      <th>NumberofBuildings</th>\n",
       "      <td>float64</td>\n",
       "      <td>2384</td>\n",
       "      <td>16</td>\n",
       "      <td>14.75</td>\n",
       "      <td>285.62</td>\n",
       "      <td>0</td>\n",
       "      <td>0.0</td>\n",
       "    </tr>\n",
       "    <tr>\n",
       "      <th>PrimaryPropertyType</th>\n",
       "      <td>object</td>\n",
       "      <td>2384</td>\n",
       "      <td>24</td>\n",
       "      <td>NaN</td>\n",
       "      <td>NaN</td>\n",
       "      <td>0</td>\n",
       "      <td>0.0</td>\n",
       "    </tr>\n",
       "    <tr>\n",
       "      <th>BuildingType</th>\n",
       "      <td>object</td>\n",
       "      <td>2384</td>\n",
       "      <td>8</td>\n",
       "      <td>NaN</td>\n",
       "      <td>NaN</td>\n",
       "      <td>0</td>\n",
       "      <td>0.0</td>\n",
       "    </tr>\n",
       "    <tr>\n",
       "      <th>LargestPropertyUseType</th>\n",
       "      <td>object</td>\n",
       "      <td>2384</td>\n",
       "      <td>55</td>\n",
       "      <td>NaN</td>\n",
       "      <td>NaN</td>\n",
       "      <td>0</td>\n",
       "      <td>0.0</td>\n",
       "    </tr>\n",
       "  </tbody>\n",
       "</table>\n",
       "</div>"
      ],
      "text/plain": [
       "                                  dtypes  counts  unique  skewness  kurtosis  \\\n",
       "LargestPropertyUseTypeGFA        float64    2384    2242      5.58     43.16   \n",
       "SecondLargestPropertyUseTypeGFA  float64    2384    1337      5.35     39.62   \n",
       "ThirdLargestPropertyUseTypeGFA   float64    2384     496     17.07    406.05   \n",
       "Electricity_p                    float64    2384    1680     -0.44     -0.98   \n",
       "NaturalGaz_p                     float64    2384    1628      0.55     -0.89   \n",
       "Latitude                         float64    2384    2110      0.16     -0.17   \n",
       "Longitude                        float64    2384    1941     -0.10      0.61   \n",
       "NonResidentialGFA                  int64    2384    2240      5.94     46.20   \n",
       "PropertyGFAParking                 int64    2384     444      5.74     43.52   \n",
       "PropertyGFABuilding(s)             int64    2384    2286      5.59     45.23   \n",
       "NumberofBuildings                float64    2384      16     14.75    285.62   \n",
       "PrimaryPropertyType               object    2384      24       NaN       NaN   \n",
       "BuildingType                      object    2384       8       NaN       NaN   \n",
       "LargestPropertyUseType            object    2384      55       NaN       NaN   \n",
       "\n",
       "                                 null  missing_ration  \n",
       "LargestPropertyUseTypeGFA           0             0.0  \n",
       "SecondLargestPropertyUseTypeGFA     0             0.0  \n",
       "ThirdLargestPropertyUseTypeGFA      0             0.0  \n",
       "Electricity_p                       0             0.0  \n",
       "NaturalGaz_p                        0             0.0  \n",
       "Latitude                            0             0.0  \n",
       "Longitude                           0             0.0  \n",
       "NonResidentialGFA                   0             0.0  \n",
       "PropertyGFAParking                  0             0.0  \n",
       "PropertyGFABuilding(s)              0             0.0  \n",
       "NumberofBuildings                   0             0.0  \n",
       "PrimaryPropertyType                 0             0.0  \n",
       "BuildingType                        0             0.0  \n",
       "LargestPropertyUseType              0             0.0  "
      ]
     },
     "execution_count": 23,
     "metadata": {},
     "output_type": "execute_result"
    }
   ],
   "source": [
    "stats(df[num_features + num_bin_features + cat_features])"
   ]
  },
  {
   "cell_type": "markdown",
   "id": "4d60bd88",
   "metadata": {},
   "source": [
    "### 1.3.4 - Séparation de la base de donnée"
   ]
  },
  {
   "cell_type": "code",
   "execution_count": 24,
   "id": "2e9dcee7",
   "metadata": {},
   "outputs": [],
   "source": [
    "#creation d'une colonne pour stratifier la séparation entre le jeu d'entrainement et de test\n",
    "df['GHGEmissionsIntensity_qt'] = pd.qcut(df['GHGEmissionsIntensity'],3)"
   ]
  },
  {
   "cell_type": "code",
   "execution_count": 25,
   "id": "f0ca21c1",
   "metadata": {},
   "outputs": [
    {
     "data": {
      "text/plain": [
       "(-0.021, 0.39]    800\n",
       "(1.167, 34.09]    795\n",
       "(0.39, 1.167]     789\n",
       "Name: GHGEmissionsIntensity_qt, dtype: int64"
      ]
     },
     "execution_count": 25,
     "metadata": {},
     "output_type": "execute_result"
    }
   ],
   "source": [
    "df['GHGEmissionsIntensity_qt'].value_counts()"
   ]
  },
  {
   "cell_type": "code",
   "execution_count": 26,
   "id": "5c8569b9",
   "metadata": {},
   "outputs": [],
   "source": [
    "#Séparation des observations entre train et test\n",
    "X_train, X_test, y_train, y_test = train_test_split(df[num_features + cat_features],df['TotalGHGEmissions'].values ,test_size =0.32, random_state =18,\n",
    "                                     stratify = df['GHGEmissionsIntensity_qt'])"
   ]
  },
  {
   "cell_type": "code",
   "execution_count": 27,
   "id": "391fde86",
   "metadata": {},
   "outputs": [
    {
     "data": {
      "text/html": [
       "<div>\n",
       "<style scoped>\n",
       "    .dataframe tbody tr th:only-of-type {\n",
       "        vertical-align: middle;\n",
       "    }\n",
       "\n",
       "    .dataframe tbody tr th {\n",
       "        vertical-align: top;\n",
       "    }\n",
       "\n",
       "    .dataframe thead th {\n",
       "        text-align: right;\n",
       "    }\n",
       "</style>\n",
       "<table border=\"1\" class=\"dataframe\">\n",
       "  <thead>\n",
       "    <tr style=\"text-align: right;\">\n",
       "      <th></th>\n",
       "      <th>Modele</th>\n",
       "      <th>Ensembliste</th>\n",
       "      <th>Target</th>\n",
       "      <th>Train_RMSE</th>\n",
       "      <th>Test_RMSE</th>\n",
       "      <th>Train_R2</th>\n",
       "      <th>Test_R2</th>\n",
       "      <th>Commentaires</th>\n",
       "    </tr>\n",
       "  </thead>\n",
       "  <tbody>\n",
       "  </tbody>\n",
       "</table>\n",
       "</div>"
      ],
      "text/plain": [
       "Empty DataFrame\n",
       "Columns: [Modele, Ensembliste, Target, Train_RMSE, Test_RMSE, Train_R2, Test_R2, Commentaires]\n",
       "Index: []"
      ]
     },
     "execution_count": 27,
     "metadata": {},
     "output_type": "execute_result"
    }
   ],
   "source": [
    "#Creation de la dataframe Summary\n",
    "df_summary = pd.DataFrame(columns = ['Modele','Ensembliste','Target','Train_RMSE','Test_RMSE','Train_R2',\n",
    "            'Test_R2', 'Commentaires'])\n",
    "df_summary"
   ]
  },
  {
   "cell_type": "markdown",
   "id": "3a0142b1",
   "metadata": {},
   "source": [
    "# 2 - Les Modeles"
   ]
  },
  {
   "cell_type": "markdown",
   "id": "bdfdfeb9",
   "metadata": {},
   "source": [
    "## 2.1 - Les modeles simples"
   ]
  },
  {
   "cell_type": "markdown",
   "id": "abed578c",
   "metadata": {},
   "source": [
    "### 2.1.1 - DummyRegressor"
   ]
  },
  {
   "cell_type": "code",
   "execution_count": 28,
   "id": "eff28db8",
   "metadata": {},
   "outputs": [
    {
     "data": {
      "text/plain": [
       "dict_keys(['constant', 'quantile', 'strategy'])"
      ]
     },
     "execution_count": 28,
     "metadata": {},
     "output_type": "execute_result"
    }
   ],
   "source": [
    "DummyRegressor().get_params().keys()"
   ]
  },
  {
   "cell_type": "code",
   "execution_count": 29,
   "id": "9bd515d6",
   "metadata": {},
   "outputs": [],
   "source": [
    "dummy_reg = Pipeline(\n",
    "    [\n",
    "        (\"preprocessor\", init_spo()),\n",
    "        (\"regressor\", DummyRegressor(strategy=\"mean\"))\n",
    "    ]\n",
    ")"
   ]
  },
  {
   "cell_type": "code",
   "execution_count": 30,
   "id": "b3ca8b2d",
   "metadata": {},
   "outputs": [],
   "source": [
    "dummy_reg_CO2 = dummy_reg.fit(X_train, y_train)"
   ]
  },
  {
   "cell_type": "code",
   "execution_count": 31,
   "id": "205db0e2",
   "metadata": {},
   "outputs": [],
   "source": [
    "df_summary = summary(dummy_reg_CO2, df_summary,X_train, X_test, y_train, y_test)"
   ]
  },
  {
   "cell_type": "code",
   "execution_count": 32,
   "id": "f6e085dc",
   "metadata": {},
   "outputs": [],
   "source": [
    "y_pred_dummy = dummy_reg.predict(X_test)"
   ]
  },
  {
   "cell_type": "markdown",
   "id": "0f6a0458",
   "metadata": {},
   "source": [
    "### 2.2 - Ridge"
   ]
  },
  {
   "cell_type": "code",
   "execution_count": 33,
   "id": "8a10363d",
   "metadata": {},
   "outputs": [],
   "source": [
    "ridge_reg = Pipeline(\n",
    "    [\n",
    "        (\"preprocessor\", init_spo()),\n",
    "        (\"regressor\", Ridge())\n",
    "    ]\n",
    ")"
   ]
  },
  {
   "cell_type": "code",
   "execution_count": 34,
   "id": "bbd2d1af",
   "metadata": {},
   "outputs": [
    {
     "data": {
      "text/plain": [
       "dict_keys(['alpha', 'copy_X', 'fit_intercept', 'max_iter', 'normalize', 'positive', 'random_state', 'solver', 'tol'])"
      ]
     },
     "execution_count": 34,
     "metadata": {},
     "output_type": "execute_result"
    }
   ],
   "source": [
    "ridge_reg[1].get_params().keys()"
   ]
  },
  {
   "cell_type": "raw",
   "id": "ed6a4237",
   "metadata": {
    "collapsed": true
   },
   "source": [
    "TIPS :  récuperer la liste de tous les scorers de sklearn\n",
    "sorted(SCORERS.keys())"
   ]
  },
  {
   "cell_type": "code",
   "execution_count": 35,
   "id": "66634b57",
   "metadata": {
    "scrolled": true
   },
   "outputs": [
    {
     "name": "stderr",
     "output_type": "stream",
     "text": [
      "/home/bryan/anaconda3/envs/KeFlow/lib/python3.7/site-packages/sklearn/linear_model/_ridge.py:157: LinAlgWarning: Ill-conditioned matrix (rcond=9.61694e-26): result may not be accurate.\n",
      "  return linalg.solve(A, Xy, sym_pos=True, overwrite_a=True).T\n"
     ]
    }
   ],
   "source": [
    "ridge_reg_CO2 = clone(ridge_reg).fit(X_train, y_train)"
   ]
  },
  {
   "cell_type": "markdown",
   "id": "6f1b4424",
   "metadata": {},
   "source": [
    "#### Paramétrage"
   ]
  },
  {
   "cell_type": "code",
   "execution_count": 36,
   "id": "45d29be3",
   "metadata": {},
   "outputs": [
    {
     "name": "stderr",
     "output_type": "stream",
     "text": [
      "/home/bryan/anaconda3/envs/KeFlow/lib/python3.7/site-packages/sklearn/linear_model/_ridge.py:157: LinAlgWarning: Ill-conditioned matrix (rcond=8.07358e-25): result may not be accurate.\n",
      "  return linalg.solve(A, Xy, sym_pos=True, overwrite_a=True).T\n"
     ]
    }
   ],
   "source": [
    "param_grid = {'regressor__alpha' : [0,1,10,100],\n",
    "              'preprocessor__nun_t__poly__degree': [1,2,3]\n",
    "             }\n",
    "scoring = 'neg_mean_squared_error'\n",
    "gs = GridSearchCV(\n",
    "    ridge_reg_CO2, param_grid,\n",
    "    cv =10,\n",
    "    scoring = scoring,\n",
    "    n_jobs =-1,\n",
    "    return_train_score = True, \n",
    "    error_score='raise').fit(X_train, y_train)"
   ]
  },
  {
   "cell_type": "code",
   "execution_count": 37,
   "id": "5c211e0f",
   "metadata": {
    "scrolled": true
   },
   "outputs": [
    {
     "data": {
      "text/html": [
       "<table border=\"1\" class=\"dataframe\">\n",
       "  <thead>\n",
       "    <tr style=\"text-align: right;\">\n",
       "      <th></th>\n",
       "      <th>params</th>\n",
       "      <th>rank_test_score</th>\n",
       "      <th>mean_test_score</th>\n",
       "      <th>std_test_score</th>\n",
       "      <th>mean_train_score</th>\n",
       "      <th>std_train_score</th>\n",
       "    </tr>\n",
       "  </thead>\n",
       "  <tbody>\n",
       "    <tr>\n",
       "      <th>6</th>\n",
       "      <td>{'preprocessor__nun_t__poly__degree': 2, 'regressor__alpha': 10}</td>\n",
       "      <td>1</td>\n",
       "      <td>-123396.14</td>\n",
       "      <td>209146.85</td>\n",
       "      <td>-22309.32</td>\n",
       "      <td>1870.45</td>\n",
       "    </tr>\n",
       "    <tr>\n",
       "      <th>5</th>\n",
       "      <td>{'preprocessor__nun_t__poly__degree': 2, 'regressor__alpha': 1}</td>\n",
       "      <td>2</td>\n",
       "      <td>-142965.70</td>\n",
       "      <td>284093.73</td>\n",
       "      <td>-18176.75</td>\n",
       "      <td>1951.49</td>\n",
       "    </tr>\n",
       "    <tr>\n",
       "      <th>7</th>\n",
       "      <td>{'preprocessor__nun_t__poly__degree': 2, 'regressor__alpha': 100}</td>\n",
       "      <td>3</td>\n",
       "      <td>-146092.97</td>\n",
       "      <td>239195.47</td>\n",
       "      <td>-29314.55</td>\n",
       "      <td>2195.59</td>\n",
       "    </tr>\n",
       "    <tr>\n",
       "      <th>1</th>\n",
       "      <td>{'preprocessor__nun_t__poly__degree': 1, 'regressor__alpha': 1}</td>\n",
       "      <td>4</td>\n",
       "      <td>-235307.31</td>\n",
       "      <td>435452.90</td>\n",
       "      <td>-88458.53</td>\n",
       "      <td>16522.67</td>\n",
       "    </tr>\n",
       "    <tr>\n",
       "      <th>2</th>\n",
       "      <td>{'preprocessor__nun_t__poly__degree': 1, 'regressor__alpha': 10}</td>\n",
       "      <td>5</td>\n",
       "      <td>-238367.25</td>\n",
       "      <td>438382.61</td>\n",
       "      <td>-97555.64</td>\n",
       "      <td>17089.14</td>\n",
       "    </tr>\n",
       "  </tbody>\n",
       "</table>"
      ],
      "text/plain": [
       "<IPython.core.display.HTML object>"
      ]
     },
     "execution_count": 37,
     "metadata": {},
     "output_type": "execute_result"
    }
   ],
   "source": [
    "results_col = ['params','rank_test_score','mean_test_score', 'std_test_score','mean_train_score', 'std_train_score' ]\n",
    "HTML(pd.DataFrame(data = gs.cv_results_, columns = results_col).round(2).sort_values(by = 'rank_test_score').head(5).to_html())"
   ]
  },
  {
   "cell_type": "code",
   "execution_count": 38,
   "id": "74e6b4ff",
   "metadata": {},
   "outputs": [
    {
     "name": "stderr",
     "output_type": "stream",
     "text": [
      "/home/bryan/anaconda3/envs/KeFlow/lib/python3.7/site-packages/sklearn/linear_model/_ridge.py:157: LinAlgWarning: Ill-conditioned matrix (rcond=8.07358e-25): result may not be accurate.\n",
      "  return linalg.solve(A, Xy, sym_pos=True, overwrite_a=True).T\n"
     ]
    },
    {
     "data": {
      "text/html": [
       "<style>#sk-3dcc524a-aeec-414c-92fd-0dca7b9e52e1 {color: black;background-color: white;}#sk-3dcc524a-aeec-414c-92fd-0dca7b9e52e1 pre{padding: 0;}#sk-3dcc524a-aeec-414c-92fd-0dca7b9e52e1 div.sk-toggleable {background-color: white;}#sk-3dcc524a-aeec-414c-92fd-0dca7b9e52e1 label.sk-toggleable__label {cursor: pointer;display: block;width: 100%;margin-bottom: 0;padding: 0.3em;box-sizing: border-box;text-align: center;}#sk-3dcc524a-aeec-414c-92fd-0dca7b9e52e1 label.sk-toggleable__label-arrow:before {content: \"▸\";float: left;margin-right: 0.25em;color: #696969;}#sk-3dcc524a-aeec-414c-92fd-0dca7b9e52e1 label.sk-toggleable__label-arrow:hover:before {color: black;}#sk-3dcc524a-aeec-414c-92fd-0dca7b9e52e1 div.sk-estimator:hover label.sk-toggleable__label-arrow:before {color: black;}#sk-3dcc524a-aeec-414c-92fd-0dca7b9e52e1 div.sk-toggleable__content {max-height: 0;max-width: 0;overflow: hidden;text-align: left;background-color: #f0f8ff;}#sk-3dcc524a-aeec-414c-92fd-0dca7b9e52e1 div.sk-toggleable__content pre {margin: 0.2em;color: black;border-radius: 0.25em;background-color: #f0f8ff;}#sk-3dcc524a-aeec-414c-92fd-0dca7b9e52e1 input.sk-toggleable__control:checked~div.sk-toggleable__content {max-height: 200px;max-width: 100%;overflow: auto;}#sk-3dcc524a-aeec-414c-92fd-0dca7b9e52e1 input.sk-toggleable__control:checked~label.sk-toggleable__label-arrow:before {content: \"▾\";}#sk-3dcc524a-aeec-414c-92fd-0dca7b9e52e1 div.sk-estimator input.sk-toggleable__control:checked~label.sk-toggleable__label {background-color: #d4ebff;}#sk-3dcc524a-aeec-414c-92fd-0dca7b9e52e1 div.sk-label input.sk-toggleable__control:checked~label.sk-toggleable__label {background-color: #d4ebff;}#sk-3dcc524a-aeec-414c-92fd-0dca7b9e52e1 input.sk-hidden--visually {border: 0;clip: rect(1px 1px 1px 1px);clip: rect(1px, 1px, 1px, 1px);height: 1px;margin: -1px;overflow: hidden;padding: 0;position: absolute;width: 1px;}#sk-3dcc524a-aeec-414c-92fd-0dca7b9e52e1 div.sk-estimator {font-family: monospace;background-color: #f0f8ff;border: 1px dotted black;border-radius: 0.25em;box-sizing: border-box;margin-bottom: 0.5em;}#sk-3dcc524a-aeec-414c-92fd-0dca7b9e52e1 div.sk-estimator:hover {background-color: #d4ebff;}#sk-3dcc524a-aeec-414c-92fd-0dca7b9e52e1 div.sk-parallel-item::after {content: \"\";width: 100%;border-bottom: 1px solid gray;flex-grow: 1;}#sk-3dcc524a-aeec-414c-92fd-0dca7b9e52e1 div.sk-label:hover label.sk-toggleable__label {background-color: #d4ebff;}#sk-3dcc524a-aeec-414c-92fd-0dca7b9e52e1 div.sk-serial::before {content: \"\";position: absolute;border-left: 1px solid gray;box-sizing: border-box;top: 2em;bottom: 0;left: 50%;}#sk-3dcc524a-aeec-414c-92fd-0dca7b9e52e1 div.sk-serial {display: flex;flex-direction: column;align-items: center;background-color: white;padding-right: 0.2em;padding-left: 0.2em;}#sk-3dcc524a-aeec-414c-92fd-0dca7b9e52e1 div.sk-item {z-index: 1;}#sk-3dcc524a-aeec-414c-92fd-0dca7b9e52e1 div.sk-parallel {display: flex;align-items: stretch;justify-content: center;background-color: white;}#sk-3dcc524a-aeec-414c-92fd-0dca7b9e52e1 div.sk-parallel::before {content: \"\";position: absolute;border-left: 1px solid gray;box-sizing: border-box;top: 2em;bottom: 0;left: 50%;}#sk-3dcc524a-aeec-414c-92fd-0dca7b9e52e1 div.sk-parallel-item {display: flex;flex-direction: column;position: relative;background-color: white;}#sk-3dcc524a-aeec-414c-92fd-0dca7b9e52e1 div.sk-parallel-item:first-child::after {align-self: flex-end;width: 50%;}#sk-3dcc524a-aeec-414c-92fd-0dca7b9e52e1 div.sk-parallel-item:last-child::after {align-self: flex-start;width: 50%;}#sk-3dcc524a-aeec-414c-92fd-0dca7b9e52e1 div.sk-parallel-item:only-child::after {width: 0;}#sk-3dcc524a-aeec-414c-92fd-0dca7b9e52e1 div.sk-dashed-wrapped {border: 1px dashed gray;margin: 0 0.4em 0.5em 0.4em;box-sizing: border-box;padding-bottom: 0.4em;background-color: white;position: relative;}#sk-3dcc524a-aeec-414c-92fd-0dca7b9e52e1 div.sk-label label {font-family: monospace;font-weight: bold;background-color: white;display: inline-block;line-height: 1.2em;}#sk-3dcc524a-aeec-414c-92fd-0dca7b9e52e1 div.sk-label-container {position: relative;z-index: 2;text-align: center;}#sk-3dcc524a-aeec-414c-92fd-0dca7b9e52e1 div.sk-container {/* jupyter's `normalize.less` sets `[hidden] { display: none; }` but bootstrap.min.css set `[hidden] { display: none !important; }` so we also need the `!important` here to be able to override the default hidden behavior on the sphinx rendered scikit-learn.org. See: https://github.com/scikit-learn/scikit-learn/issues/21755 */display: inline-block !important;position: relative;}#sk-3dcc524a-aeec-414c-92fd-0dca7b9e52e1 div.sk-text-repr-fallback {display: none;}</style><div id=\"sk-3dcc524a-aeec-414c-92fd-0dca7b9e52e1\" class=\"sk-top-container\"><div class=\"sk-text-repr-fallback\"><pre>Pipeline(steps=[(&#x27;preprocessor&#x27;,\n",
       "                 ColumnTransformer(sparse_threshold=0,\n",
       "                                   transformers=[(&#x27;nun_t&#x27;,\n",
       "                                                  Pipeline(steps=[(&#x27;poly&#x27;,\n",
       "                                                                   PolynomialFeatures()),\n",
       "                                                                  (&#x27;scale&#x27;,\n",
       "                                                                   RobustScaler())]),\n",
       "                                                  [&#x27;LargestPropertyUseTypeGFA&#x27;,\n",
       "                                                   &#x27;SecondLargestPropertyUseTypeGFA&#x27;,\n",
       "                                                   &#x27;ThirdLargestPropertyUseTypeGFA&#x27;,\n",
       "                                                   &#x27;Electricity_p&#x27;,\n",
       "                                                   &#x27;NaturalGaz_p&#x27;, &#x27;Latitude&#x27;,\n",
       "                                                   &#x27;Longitude&#x27;,\n",
       "                                                   &#x27;NonResidentialGFA&#x27;,\n",
       "                                                   &#x27;PropertyGFAParking&#x27;,\n",
       "                                                   &#x27;PropertyGFABuilding(s)&#x27;]),\n",
       "                                                 (&#x27;cat_t&#x27;,\n",
       "                                                  Pipeline(steps=[(&#x27;ohe&#x27;,\n",
       "                                                                   OneHotEncoder(handle_unknown=&#x27;ignore&#x27;))]),\n",
       "                                                  [&#x27;PrimaryPropertyType&#x27;,\n",
       "                                                   &#x27;BuildingType&#x27;,\n",
       "                                                   &#x27;LargestPropertyUseType&#x27;])],\n",
       "                                   verbose_feature_names_out=False)),\n",
       "                (&#x27;regressor&#x27;, Ridge(alpha=10))])</pre><b>Please rerun this cell to show the HTML repr or trust the notebook.</b></div><div class=\"sk-container\" hidden><div class=\"sk-item sk-dashed-wrapped\"><div class=\"sk-label-container\"><div class=\"sk-label sk-toggleable\"><input class=\"sk-toggleable__control sk-hidden--visually\" id=\"81c1f921-2309-4161-b590-e393d9f2efc4\" type=\"checkbox\" ><label for=\"81c1f921-2309-4161-b590-e393d9f2efc4\" class=\"sk-toggleable__label sk-toggleable__label-arrow\">Pipeline</label><div class=\"sk-toggleable__content\"><pre>Pipeline(steps=[(&#x27;preprocessor&#x27;,\n",
       "                 ColumnTransformer(sparse_threshold=0,\n",
       "                                   transformers=[(&#x27;nun_t&#x27;,\n",
       "                                                  Pipeline(steps=[(&#x27;poly&#x27;,\n",
       "                                                                   PolynomialFeatures()),\n",
       "                                                                  (&#x27;scale&#x27;,\n",
       "                                                                   RobustScaler())]),\n",
       "                                                  [&#x27;LargestPropertyUseTypeGFA&#x27;,\n",
       "                                                   &#x27;SecondLargestPropertyUseTypeGFA&#x27;,\n",
       "                                                   &#x27;ThirdLargestPropertyUseTypeGFA&#x27;,\n",
       "                                                   &#x27;Electricity_p&#x27;,\n",
       "                                                   &#x27;NaturalGaz_p&#x27;, &#x27;Latitude&#x27;,\n",
       "                                                   &#x27;Longitude&#x27;,\n",
       "                                                   &#x27;NonResidentialGFA&#x27;,\n",
       "                                                   &#x27;PropertyGFAParking&#x27;,\n",
       "                                                   &#x27;PropertyGFABuilding(s)&#x27;]),\n",
       "                                                 (&#x27;cat_t&#x27;,\n",
       "                                                  Pipeline(steps=[(&#x27;ohe&#x27;,\n",
       "                                                                   OneHotEncoder(handle_unknown=&#x27;ignore&#x27;))]),\n",
       "                                                  [&#x27;PrimaryPropertyType&#x27;,\n",
       "                                                   &#x27;BuildingType&#x27;,\n",
       "                                                   &#x27;LargestPropertyUseType&#x27;])],\n",
       "                                   verbose_feature_names_out=False)),\n",
       "                (&#x27;regressor&#x27;, Ridge(alpha=10))])</pre></div></div></div><div class=\"sk-serial\"><div class=\"sk-item sk-dashed-wrapped\"><div class=\"sk-label-container\"><div class=\"sk-label sk-toggleable\"><input class=\"sk-toggleable__control sk-hidden--visually\" id=\"d0363cb8-5016-456f-b5bf-9ec70cababaa\" type=\"checkbox\" ><label for=\"d0363cb8-5016-456f-b5bf-9ec70cababaa\" class=\"sk-toggleable__label sk-toggleable__label-arrow\">preprocessor: ColumnTransformer</label><div class=\"sk-toggleable__content\"><pre>ColumnTransformer(sparse_threshold=0,\n",
       "                  transformers=[(&#x27;nun_t&#x27;,\n",
       "                                 Pipeline(steps=[(&#x27;poly&#x27;, PolynomialFeatures()),\n",
       "                                                 (&#x27;scale&#x27;, RobustScaler())]),\n",
       "                                 [&#x27;LargestPropertyUseTypeGFA&#x27;,\n",
       "                                  &#x27;SecondLargestPropertyUseTypeGFA&#x27;,\n",
       "                                  &#x27;ThirdLargestPropertyUseTypeGFA&#x27;,\n",
       "                                  &#x27;Electricity_p&#x27;, &#x27;NaturalGaz_p&#x27;, &#x27;Latitude&#x27;,\n",
       "                                  &#x27;Longitude&#x27;, &#x27;NonResidentialGFA&#x27;,\n",
       "                                  &#x27;PropertyGFAParking&#x27;,\n",
       "                                  &#x27;PropertyGFABuilding(s)&#x27;]),\n",
       "                                (&#x27;cat_t&#x27;,\n",
       "                                 Pipeline(steps=[(&#x27;ohe&#x27;,\n",
       "                                                  OneHotEncoder(handle_unknown=&#x27;ignore&#x27;))]),\n",
       "                                 [&#x27;PrimaryPropertyType&#x27;, &#x27;BuildingType&#x27;,\n",
       "                                  &#x27;LargestPropertyUseType&#x27;])],\n",
       "                  verbose_feature_names_out=False)</pre></div></div></div><div class=\"sk-parallel\"><div class=\"sk-parallel-item\"><div class=\"sk-item\"><div class=\"sk-label-container\"><div class=\"sk-label sk-toggleable\"><input class=\"sk-toggleable__control sk-hidden--visually\" id=\"328e7d22-28c4-48c1-a669-1186acb47ade\" type=\"checkbox\" ><label for=\"328e7d22-28c4-48c1-a669-1186acb47ade\" class=\"sk-toggleable__label sk-toggleable__label-arrow\">nun_t</label><div class=\"sk-toggleable__content\"><pre>[&#x27;LargestPropertyUseTypeGFA&#x27;, &#x27;SecondLargestPropertyUseTypeGFA&#x27;, &#x27;ThirdLargestPropertyUseTypeGFA&#x27;, &#x27;Electricity_p&#x27;, &#x27;NaturalGaz_p&#x27;, &#x27;Latitude&#x27;, &#x27;Longitude&#x27;, &#x27;NonResidentialGFA&#x27;, &#x27;PropertyGFAParking&#x27;, &#x27;PropertyGFABuilding(s)&#x27;]</pre></div></div></div><div class=\"sk-serial\"><div class=\"sk-item\"><div class=\"sk-serial\"><div class=\"sk-item\"><div class=\"sk-estimator sk-toggleable\"><input class=\"sk-toggleable__control sk-hidden--visually\" id=\"15301a45-c8d6-4928-9703-76ee27cf8de8\" type=\"checkbox\" ><label for=\"15301a45-c8d6-4928-9703-76ee27cf8de8\" class=\"sk-toggleable__label sk-toggleable__label-arrow\">PolynomialFeatures</label><div class=\"sk-toggleable__content\"><pre>PolynomialFeatures()</pre></div></div></div><div class=\"sk-item\"><div class=\"sk-estimator sk-toggleable\"><input class=\"sk-toggleable__control sk-hidden--visually\" id=\"b5d305dc-563b-40f1-ae3f-a889c35c375e\" type=\"checkbox\" ><label for=\"b5d305dc-563b-40f1-ae3f-a889c35c375e\" class=\"sk-toggleable__label sk-toggleable__label-arrow\">RobustScaler</label><div class=\"sk-toggleable__content\"><pre>RobustScaler()</pre></div></div></div></div></div></div></div></div><div class=\"sk-parallel-item\"><div class=\"sk-item\"><div class=\"sk-label-container\"><div class=\"sk-label sk-toggleable\"><input class=\"sk-toggleable__control sk-hidden--visually\" id=\"35332474-ac78-4fa0-8f4e-4568bb16caab\" type=\"checkbox\" ><label for=\"35332474-ac78-4fa0-8f4e-4568bb16caab\" class=\"sk-toggleable__label sk-toggleable__label-arrow\">cat_t</label><div class=\"sk-toggleable__content\"><pre>[&#x27;PrimaryPropertyType&#x27;, &#x27;BuildingType&#x27;, &#x27;LargestPropertyUseType&#x27;]</pre></div></div></div><div class=\"sk-serial\"><div class=\"sk-item\"><div class=\"sk-serial\"><div class=\"sk-item\"><div class=\"sk-estimator sk-toggleable\"><input class=\"sk-toggleable__control sk-hidden--visually\" id=\"2a49d258-3339-491c-a5bb-1c42949cc26c\" type=\"checkbox\" ><label for=\"2a49d258-3339-491c-a5bb-1c42949cc26c\" class=\"sk-toggleable__label sk-toggleable__label-arrow\">OneHotEncoder</label><div class=\"sk-toggleable__content\"><pre>OneHotEncoder(handle_unknown=&#x27;ignore&#x27;)</pre></div></div></div></div></div></div></div></div></div></div><div class=\"sk-item\"><div class=\"sk-estimator sk-toggleable\"><input class=\"sk-toggleable__control sk-hidden--visually\" id=\"fb9c46fc-abca-44ed-bb16-b3a6bcbc6b7b\" type=\"checkbox\" ><label for=\"fb9c46fc-abca-44ed-bb16-b3a6bcbc6b7b\" class=\"sk-toggleable__label sk-toggleable__label-arrow\">Ridge</label><div class=\"sk-toggleable__content\"><pre>Ridge(alpha=10)</pre></div></div></div></div></div></div></div>"
      ],
      "text/plain": [
       "Pipeline(steps=[('preprocessor',\n",
       "                 ColumnTransformer(sparse_threshold=0,\n",
       "                                   transformers=[('nun_t',\n",
       "                                                  Pipeline(steps=[('poly',\n",
       "                                                                   PolynomialFeatures()),\n",
       "                                                                  ('scale',\n",
       "                                                                   RobustScaler())]),\n",
       "                                                  ['LargestPropertyUseTypeGFA',\n",
       "                                                   'SecondLargestPropertyUseTypeGFA',\n",
       "                                                   'ThirdLargestPropertyUseTypeGFA',\n",
       "                                                   'Electricity_p',\n",
       "                                                   'NaturalGaz_p', 'Latitude',\n",
       "                                                   'Longitude',\n",
       "                                                   'NonResidentialGFA',\n",
       "                                                   'PropertyGFAParking',\n",
       "                                                   'PropertyGFABuilding(s)']),\n",
       "                                                 ('cat_t',\n",
       "                                                  Pipeline(steps=[('ohe',\n",
       "                                                                   OneHotEncoder(handle_unknown='ignore'))]),\n",
       "                                                  ['PrimaryPropertyType',\n",
       "                                                   'BuildingType',\n",
       "                                                   'LargestPropertyUseType'])],\n",
       "                                   verbose_feature_names_out=False)),\n",
       "                ('regressor', Ridge(alpha=10))])"
      ]
     },
     "execution_count": 38,
     "metadata": {},
     "output_type": "execute_result"
    }
   ],
   "source": [
    "ridge_reg_CO2.set_params(**gs.best_params_).fit(X_train, y_train)"
   ]
  },
  {
   "cell_type": "code",
   "execution_count": 39,
   "id": "25f9d233",
   "metadata": {},
   "outputs": [],
   "source": [
    "df_summary = summary(ridge_reg_CO2,df_summary,X_train, X_test, y_train, y_test)"
   ]
  },
  {
   "cell_type": "code",
   "execution_count": 40,
   "id": "820d6e65",
   "metadata": {},
   "outputs": [],
   "source": [
    "y_pred_ridge = ridge_reg_CO2.predict(X_test)"
   ]
  },
  {
   "cell_type": "markdown",
   "id": "4abe8692",
   "metadata": {},
   "source": [
    "### 2.1.2 - LinearRegression"
   ]
  },
  {
   "cell_type": "code",
   "execution_count": 41,
   "id": "1aeb9cd5",
   "metadata": {},
   "outputs": [],
   "source": [
    "lin_reg = Pipeline(steps=\n",
    "    [('preprocessor' , init_spo()),\n",
    "     ('regressor' , LinearRegression())\n",
    "                       \n",
    "    ],\n",
    ")"
   ]
  },
  {
   "cell_type": "code",
   "execution_count": 42,
   "id": "097b6d4b",
   "metadata": {},
   "outputs": [
    {
     "name": "stdout",
     "output_type": "stream",
     "text": [
      "{'preprocessor__nun_t__poly__degree': 1, 'regressor__fit_intercept': True}\n"
     ]
    }
   ],
   "source": [
    "lin_reg_CO2 = clone(lin_reg).fit(X_train, y_train)\n",
    "#parametrage\n",
    "scoring = 'neg_mean_squared_error'\n",
    "params_grid = {'preprocessor__nun_t__poly__degree' : [1,2],\n",
    "               'regressor__fit_intercept' : [True, False]}\n",
    "gs = GridSearchCV(lin_reg_CO2,\n",
    "                  params_grid,\n",
    "                  cv = 5,\n",
    "                  scoring = scoring,\n",
    "                  n_jobs = -1,\n",
    "                  return_train_score = True\n",
    "                 ).fit(X_train, y_train)\n",
    "\n",
    "print(gs.best_params_)"
   ]
  },
  {
   "cell_type": "code",
   "execution_count": 43,
   "id": "01260a22",
   "metadata": {},
   "outputs": [
    {
     "data": {
      "text/plain": [
       "dict_keys(['mean_fit_time', 'std_fit_time', 'mean_score_time', 'std_score_time', 'param_preprocessor__nun_t__poly__degree', 'param_regressor__fit_intercept', 'params', 'split0_test_score', 'split1_test_score', 'split2_test_score', 'split3_test_score', 'split4_test_score', 'mean_test_score', 'std_test_score', 'rank_test_score', 'split0_train_score', 'split1_train_score', 'split2_train_score', 'split3_train_score', 'split4_train_score', 'mean_train_score', 'std_train_score'])"
      ]
     },
     "execution_count": 43,
     "metadata": {},
     "output_type": "execute_result"
    }
   ],
   "source": [
    "gs.cv_results_.keys()"
   ]
  },
  {
   "cell_type": "code",
   "execution_count": 44,
   "id": "65eeff3c",
   "metadata": {},
   "outputs": [],
   "source": [
    "lin_reg_CO2.set_params(**gs.best_params_).fit(X_train, y_train)\n",
    "df_summary = summary(lin_reg_CO2,df_summary,X_train, X_test, y_train, y_test)"
   ]
  },
  {
   "cell_type": "code",
   "execution_count": 45,
   "id": "764d4bbe",
   "metadata": {},
   "outputs": [],
   "source": [
    "y_pred_linear = lin_reg_CO2.predict(X_test)"
   ]
  },
  {
   "cell_type": "markdown",
   "id": "37e94596",
   "metadata": {},
   "source": [
    "### 2.1.3 - DecisionTreeRegressor"
   ]
  },
  {
   "cell_type": "raw",
   "id": "c1ae1a70",
   "metadata": {},
   "source": [
    "Pour les arbes nous n'avons pas besoin de normaliser ou de centrer les données.\n",
    "Nous utilisons un autre préprocessor"
   ]
  },
  {
   "cell_type": "code",
   "execution_count": 46,
   "id": "5fc5e497",
   "metadata": {},
   "outputs": [
    {
     "data": {
      "text/html": [
       "<style>#sk-60ea9b6b-9bda-402f-ab36-07822d80cae9 {color: black;background-color: white;}#sk-60ea9b6b-9bda-402f-ab36-07822d80cae9 pre{padding: 0;}#sk-60ea9b6b-9bda-402f-ab36-07822d80cae9 div.sk-toggleable {background-color: white;}#sk-60ea9b6b-9bda-402f-ab36-07822d80cae9 label.sk-toggleable__label {cursor: pointer;display: block;width: 100%;margin-bottom: 0;padding: 0.3em;box-sizing: border-box;text-align: center;}#sk-60ea9b6b-9bda-402f-ab36-07822d80cae9 label.sk-toggleable__label-arrow:before {content: \"▸\";float: left;margin-right: 0.25em;color: #696969;}#sk-60ea9b6b-9bda-402f-ab36-07822d80cae9 label.sk-toggleable__label-arrow:hover:before {color: black;}#sk-60ea9b6b-9bda-402f-ab36-07822d80cae9 div.sk-estimator:hover label.sk-toggleable__label-arrow:before {color: black;}#sk-60ea9b6b-9bda-402f-ab36-07822d80cae9 div.sk-toggleable__content {max-height: 0;max-width: 0;overflow: hidden;text-align: left;background-color: #f0f8ff;}#sk-60ea9b6b-9bda-402f-ab36-07822d80cae9 div.sk-toggleable__content pre {margin: 0.2em;color: black;border-radius: 0.25em;background-color: #f0f8ff;}#sk-60ea9b6b-9bda-402f-ab36-07822d80cae9 input.sk-toggleable__control:checked~div.sk-toggleable__content {max-height: 200px;max-width: 100%;overflow: auto;}#sk-60ea9b6b-9bda-402f-ab36-07822d80cae9 input.sk-toggleable__control:checked~label.sk-toggleable__label-arrow:before {content: \"▾\";}#sk-60ea9b6b-9bda-402f-ab36-07822d80cae9 div.sk-estimator input.sk-toggleable__control:checked~label.sk-toggleable__label {background-color: #d4ebff;}#sk-60ea9b6b-9bda-402f-ab36-07822d80cae9 div.sk-label input.sk-toggleable__control:checked~label.sk-toggleable__label {background-color: #d4ebff;}#sk-60ea9b6b-9bda-402f-ab36-07822d80cae9 input.sk-hidden--visually {border: 0;clip: rect(1px 1px 1px 1px);clip: rect(1px, 1px, 1px, 1px);height: 1px;margin: -1px;overflow: hidden;padding: 0;position: absolute;width: 1px;}#sk-60ea9b6b-9bda-402f-ab36-07822d80cae9 div.sk-estimator {font-family: monospace;background-color: #f0f8ff;border: 1px dotted black;border-radius: 0.25em;box-sizing: border-box;margin-bottom: 0.5em;}#sk-60ea9b6b-9bda-402f-ab36-07822d80cae9 div.sk-estimator:hover {background-color: #d4ebff;}#sk-60ea9b6b-9bda-402f-ab36-07822d80cae9 div.sk-parallel-item::after {content: \"\";width: 100%;border-bottom: 1px solid gray;flex-grow: 1;}#sk-60ea9b6b-9bda-402f-ab36-07822d80cae9 div.sk-label:hover label.sk-toggleable__label {background-color: #d4ebff;}#sk-60ea9b6b-9bda-402f-ab36-07822d80cae9 div.sk-serial::before {content: \"\";position: absolute;border-left: 1px solid gray;box-sizing: border-box;top: 2em;bottom: 0;left: 50%;}#sk-60ea9b6b-9bda-402f-ab36-07822d80cae9 div.sk-serial {display: flex;flex-direction: column;align-items: center;background-color: white;padding-right: 0.2em;padding-left: 0.2em;}#sk-60ea9b6b-9bda-402f-ab36-07822d80cae9 div.sk-item {z-index: 1;}#sk-60ea9b6b-9bda-402f-ab36-07822d80cae9 div.sk-parallel {display: flex;align-items: stretch;justify-content: center;background-color: white;}#sk-60ea9b6b-9bda-402f-ab36-07822d80cae9 div.sk-parallel::before {content: \"\";position: absolute;border-left: 1px solid gray;box-sizing: border-box;top: 2em;bottom: 0;left: 50%;}#sk-60ea9b6b-9bda-402f-ab36-07822d80cae9 div.sk-parallel-item {display: flex;flex-direction: column;position: relative;background-color: white;}#sk-60ea9b6b-9bda-402f-ab36-07822d80cae9 div.sk-parallel-item:first-child::after {align-self: flex-end;width: 50%;}#sk-60ea9b6b-9bda-402f-ab36-07822d80cae9 div.sk-parallel-item:last-child::after {align-self: flex-start;width: 50%;}#sk-60ea9b6b-9bda-402f-ab36-07822d80cae9 div.sk-parallel-item:only-child::after {width: 0;}#sk-60ea9b6b-9bda-402f-ab36-07822d80cae9 div.sk-dashed-wrapped {border: 1px dashed gray;margin: 0 0.4em 0.5em 0.4em;box-sizing: border-box;padding-bottom: 0.4em;background-color: white;position: relative;}#sk-60ea9b6b-9bda-402f-ab36-07822d80cae9 div.sk-label label {font-family: monospace;font-weight: bold;background-color: white;display: inline-block;line-height: 1.2em;}#sk-60ea9b6b-9bda-402f-ab36-07822d80cae9 div.sk-label-container {position: relative;z-index: 2;text-align: center;}#sk-60ea9b6b-9bda-402f-ab36-07822d80cae9 div.sk-container {/* jupyter's `normalize.less` sets `[hidden] { display: none; }` but bootstrap.min.css set `[hidden] { display: none !important; }` so we also need the `!important` here to be able to override the default hidden behavior on the sphinx rendered scikit-learn.org. See: https://github.com/scikit-learn/scikit-learn/issues/21755 */display: inline-block !important;position: relative;}#sk-60ea9b6b-9bda-402f-ab36-07822d80cae9 div.sk-text-repr-fallback {display: none;}</style><div id=\"sk-60ea9b6b-9bda-402f-ab36-07822d80cae9\" class=\"sk-top-container\"><div class=\"sk-text-repr-fallback\"><pre>Pipeline(steps=[(&#x27;preprocessor&#x27;,\n",
       "                 ColumnTransformer(sparse_threshold=0,\n",
       "                                   transformers=[(&#x27;passthrough_numeric&#x27;,\n",
       "                                                  &#x27;passthrough&#x27;,\n",
       "                                                  [&#x27;LargestPropertyUseTypeGFA&#x27;,\n",
       "                                                   &#x27;SecondLargestPropertyUseTypeGFA&#x27;,\n",
       "                                                   &#x27;ThirdLargestPropertyUseTypeGFA&#x27;,\n",
       "                                                   &#x27;Electricity_p&#x27;,\n",
       "                                                   &#x27;NaturalGaz_p&#x27;, &#x27;Latitude&#x27;,\n",
       "                                                   &#x27;Longitude&#x27;,\n",
       "                                                   &#x27;NonResidentialGFA&#x27;,\n",
       "                                                   &#x27;PropertyGFAParking&#x27;,\n",
       "                                                   &#x27;PropertyGFABuilding(s)&#x27;]),\n",
       "                                                 (&#x27;cat_t&#x27;,\n",
       "                                                  OneHotEncoder(handle_unknown=&#x27;ignore&#x27;),\n",
       "                                                  [&#x27;PrimaryPropertyType&#x27;,\n",
       "                                                   &#x27;BuildingType&#x27;,\n",
       "                                                   &#x27;LargestPropertyUseType&#x27;])],\n",
       "                                   verbose_feature_names_out=False)),\n",
       "                (&#x27;regressor&#x27;, DecisionTreeRegressor())])</pre><b>Please rerun this cell to show the HTML repr or trust the notebook.</b></div><div class=\"sk-container\" hidden><div class=\"sk-item sk-dashed-wrapped\"><div class=\"sk-label-container\"><div class=\"sk-label sk-toggleable\"><input class=\"sk-toggleable__control sk-hidden--visually\" id=\"e0da7f89-52ec-4878-bb8e-d34aa497ca56\" type=\"checkbox\" ><label for=\"e0da7f89-52ec-4878-bb8e-d34aa497ca56\" class=\"sk-toggleable__label sk-toggleable__label-arrow\">Pipeline</label><div class=\"sk-toggleable__content\"><pre>Pipeline(steps=[(&#x27;preprocessor&#x27;,\n",
       "                 ColumnTransformer(sparse_threshold=0,\n",
       "                                   transformers=[(&#x27;passthrough_numeric&#x27;,\n",
       "                                                  &#x27;passthrough&#x27;,\n",
       "                                                  [&#x27;LargestPropertyUseTypeGFA&#x27;,\n",
       "                                                   &#x27;SecondLargestPropertyUseTypeGFA&#x27;,\n",
       "                                                   &#x27;ThirdLargestPropertyUseTypeGFA&#x27;,\n",
       "                                                   &#x27;Electricity_p&#x27;,\n",
       "                                                   &#x27;NaturalGaz_p&#x27;, &#x27;Latitude&#x27;,\n",
       "                                                   &#x27;Longitude&#x27;,\n",
       "                                                   &#x27;NonResidentialGFA&#x27;,\n",
       "                                                   &#x27;PropertyGFAParking&#x27;,\n",
       "                                                   &#x27;PropertyGFABuilding(s)&#x27;]),\n",
       "                                                 (&#x27;cat_t&#x27;,\n",
       "                                                  OneHotEncoder(handle_unknown=&#x27;ignore&#x27;),\n",
       "                                                  [&#x27;PrimaryPropertyType&#x27;,\n",
       "                                                   &#x27;BuildingType&#x27;,\n",
       "                                                   &#x27;LargestPropertyUseType&#x27;])],\n",
       "                                   verbose_feature_names_out=False)),\n",
       "                (&#x27;regressor&#x27;, DecisionTreeRegressor())])</pre></div></div></div><div class=\"sk-serial\"><div class=\"sk-item sk-dashed-wrapped\"><div class=\"sk-label-container\"><div class=\"sk-label sk-toggleable\"><input class=\"sk-toggleable__control sk-hidden--visually\" id=\"acc6fca0-24ad-49cf-a96f-041aa930fdd2\" type=\"checkbox\" ><label for=\"acc6fca0-24ad-49cf-a96f-041aa930fdd2\" class=\"sk-toggleable__label sk-toggleable__label-arrow\">preprocessor: ColumnTransformer</label><div class=\"sk-toggleable__content\"><pre>ColumnTransformer(sparse_threshold=0,\n",
       "                  transformers=[(&#x27;passthrough_numeric&#x27;, &#x27;passthrough&#x27;,\n",
       "                                 [&#x27;LargestPropertyUseTypeGFA&#x27;,\n",
       "                                  &#x27;SecondLargestPropertyUseTypeGFA&#x27;,\n",
       "                                  &#x27;ThirdLargestPropertyUseTypeGFA&#x27;,\n",
       "                                  &#x27;Electricity_p&#x27;, &#x27;NaturalGaz_p&#x27;, &#x27;Latitude&#x27;,\n",
       "                                  &#x27;Longitude&#x27;, &#x27;NonResidentialGFA&#x27;,\n",
       "                                  &#x27;PropertyGFAParking&#x27;,\n",
       "                                  &#x27;PropertyGFABuilding(s)&#x27;]),\n",
       "                                (&#x27;cat_t&#x27;,\n",
       "                                 OneHotEncoder(handle_unknown=&#x27;ignore&#x27;),\n",
       "                                 [&#x27;PrimaryPropertyType&#x27;, &#x27;BuildingType&#x27;,\n",
       "                                  &#x27;LargestPropertyUseType&#x27;])],\n",
       "                  verbose_feature_names_out=False)</pre></div></div></div><div class=\"sk-parallel\"><div class=\"sk-parallel-item\"><div class=\"sk-item\"><div class=\"sk-label-container\"><div class=\"sk-label sk-toggleable\"><input class=\"sk-toggleable__control sk-hidden--visually\" id=\"da92d14a-87b1-445f-a0cc-72ef46c738ba\" type=\"checkbox\" ><label for=\"da92d14a-87b1-445f-a0cc-72ef46c738ba\" class=\"sk-toggleable__label sk-toggleable__label-arrow\">passthrough_numeric</label><div class=\"sk-toggleable__content\"><pre>[&#x27;LargestPropertyUseTypeGFA&#x27;, &#x27;SecondLargestPropertyUseTypeGFA&#x27;, &#x27;ThirdLargestPropertyUseTypeGFA&#x27;, &#x27;Electricity_p&#x27;, &#x27;NaturalGaz_p&#x27;, &#x27;Latitude&#x27;, &#x27;Longitude&#x27;, &#x27;NonResidentialGFA&#x27;, &#x27;PropertyGFAParking&#x27;, &#x27;PropertyGFABuilding(s)&#x27;]</pre></div></div></div><div class=\"sk-serial\"><div class=\"sk-item\"><div class=\"sk-estimator sk-toggleable\"><input class=\"sk-toggleable__control sk-hidden--visually\" id=\"7a298310-d6b6-4867-8ca5-e26fbc073ed4\" type=\"checkbox\" ><label for=\"7a298310-d6b6-4867-8ca5-e26fbc073ed4\" class=\"sk-toggleable__label sk-toggleable__label-arrow\">passthrough</label><div class=\"sk-toggleable__content\"><pre>passthrough</pre></div></div></div></div></div></div><div class=\"sk-parallel-item\"><div class=\"sk-item\"><div class=\"sk-label-container\"><div class=\"sk-label sk-toggleable\"><input class=\"sk-toggleable__control sk-hidden--visually\" id=\"b239685d-0461-4a31-b2c6-d245c46e2781\" type=\"checkbox\" ><label for=\"b239685d-0461-4a31-b2c6-d245c46e2781\" class=\"sk-toggleable__label sk-toggleable__label-arrow\">cat_t</label><div class=\"sk-toggleable__content\"><pre>[&#x27;PrimaryPropertyType&#x27;, &#x27;BuildingType&#x27;, &#x27;LargestPropertyUseType&#x27;]</pre></div></div></div><div class=\"sk-serial\"><div class=\"sk-item\"><div class=\"sk-estimator sk-toggleable\"><input class=\"sk-toggleable__control sk-hidden--visually\" id=\"effed820-dee4-47db-9580-4cc4b6769532\" type=\"checkbox\" ><label for=\"effed820-dee4-47db-9580-4cc4b6769532\" class=\"sk-toggleable__label sk-toggleable__label-arrow\">OneHotEncoder</label><div class=\"sk-toggleable__content\"><pre>OneHotEncoder(handle_unknown=&#x27;ignore&#x27;)</pre></div></div></div></div></div></div></div></div><div class=\"sk-item\"><div class=\"sk-estimator sk-toggleable\"><input class=\"sk-toggleable__control sk-hidden--visually\" id=\"e93f6f81-2ab6-46ad-90d3-acba9dba02ac\" type=\"checkbox\" ><label for=\"e93f6f81-2ab6-46ad-90d3-acba9dba02ac\" class=\"sk-toggleable__label sk-toggleable__label-arrow\">DecisionTreeRegressor</label><div class=\"sk-toggleable__content\"><pre>DecisionTreeRegressor()</pre></div></div></div></div></div></div></div>"
      ],
      "text/plain": [
       "Pipeline(steps=[('preprocessor',\n",
       "                 ColumnTransformer(sparse_threshold=0,\n",
       "                                   transformers=[('passthrough_numeric',\n",
       "                                                  'passthrough',\n",
       "                                                  ['LargestPropertyUseTypeGFA',\n",
       "                                                   'SecondLargestPropertyUseTypeGFA',\n",
       "                                                   'ThirdLargestPropertyUseTypeGFA',\n",
       "                                                   'Electricity_p',\n",
       "                                                   'NaturalGaz_p', 'Latitude',\n",
       "                                                   'Longitude',\n",
       "                                                   'NonResidentialGFA',\n",
       "                                                   'PropertyGFAParking',\n",
       "                                                   'PropertyGFABuilding(s)']),\n",
       "                                                 ('cat_t',\n",
       "                                                  OneHotEncoder(handle_unknown='ignore'),\n",
       "                                                  ['PrimaryPropertyType',\n",
       "                                                   'BuildingType',\n",
       "                                                   'LargestPropertyUseType'])],\n",
       "                                   verbose_feature_names_out=False)),\n",
       "                ('regressor', DecisionTreeRegressor())])"
      ]
     },
     "execution_count": 46,
     "metadata": {},
     "output_type": "execute_result"
    }
   ],
   "source": [
    "tree_reg = Pipeline(steps = [\n",
    "        ('preprocessor', init_o()),\n",
    "        ('regressor', DecisionTreeRegressor()),\n",
    "    ]\n",
    ")\n",
    "tree_reg"
   ]
  },
  {
   "cell_type": "code",
   "execution_count": 47,
   "id": "885e3bf0",
   "metadata": {},
   "outputs": [
    {
     "name": "stdout",
     "output_type": "stream",
     "text": [
      "{'regressor__max_depth': 8, 'regressor__min_samples_leaf': 10}\n"
     ]
    }
   ],
   "source": [
    "tree_reg_CO2 = clone(tree_reg)\n",
    "#parametrage\n",
    "param_grid = {'regressor__max_depth' : [5,8,15],\n",
    "              'regressor__min_samples_leaf' : [10, 20,30],\n",
    "             }\n",
    "scoring = 'neg_mean_squared_error'\n",
    "gs = GridSearchCV(tree_reg_CO2, param_grid, cv=10, scoring = scoring,return_train_score = True,\n",
    "                  verbose =-1, n_jobs =-1).fit(X_train, y_train)\n",
    "print(gs.best_params_)"
   ]
  },
  {
   "cell_type": "code",
   "execution_count": 48,
   "id": "371d0185",
   "metadata": {},
   "outputs": [
    {
     "data": {
      "text/html": [
       "<table border=\"1\" class=\"dataframe\">\n",
       "  <thead>\n",
       "    <tr style=\"text-align: right;\">\n",
       "      <th></th>\n",
       "      <th>params</th>\n",
       "      <th>rank_test_score</th>\n",
       "      <th>mean_test_score</th>\n",
       "      <th>std_test_score</th>\n",
       "      <th>mean_train_score</th>\n",
       "      <th>std_train_score</th>\n",
       "    </tr>\n",
       "  </thead>\n",
       "  <tbody>\n",
       "    <tr>\n",
       "      <th>3</th>\n",
       "      <td>{'regressor__max_depth': 8, 'regressor__min_samples_leaf': 10}</td>\n",
       "      <td>1</td>\n",
       "      <td>-258187.38</td>\n",
       "      <td>436219.75</td>\n",
       "      <td>-174718.67</td>\n",
       "      <td>58065.07</td>\n",
       "    </tr>\n",
       "    <tr>\n",
       "      <th>6</th>\n",
       "      <td>{'regressor__max_depth': 15, 'regressor__min_samples_leaf': 10}</td>\n",
       "      <td>2</td>\n",
       "      <td>-258520.75</td>\n",
       "      <td>436205.65</td>\n",
       "      <td>-174128.30</td>\n",
       "      <td>57897.97</td>\n",
       "    </tr>\n",
       "    <tr>\n",
       "      <th>0</th>\n",
       "      <td>{'regressor__max_depth': 5, 'regressor__min_samples_leaf': 10}</td>\n",
       "      <td>3</td>\n",
       "      <td>-260681.69</td>\n",
       "      <td>436494.15</td>\n",
       "      <td>-177291.72</td>\n",
       "      <td>58680.68</td>\n",
       "    </tr>\n",
       "    <tr>\n",
       "      <th>5</th>\n",
       "      <td>{'regressor__max_depth': 8, 'regressor__min_samples_leaf': 30}</td>\n",
       "      <td>4</td>\n",
       "      <td>-300188.31</td>\n",
       "      <td>590009.10</td>\n",
       "      <td>-258338.32</td>\n",
       "      <td>62754.58</td>\n",
       "    </tr>\n",
       "    <tr>\n",
       "      <th>8</th>\n",
       "      <td>{'regressor__max_depth': 15, 'regressor__min_samples_leaf': 30}</td>\n",
       "      <td>5</td>\n",
       "      <td>-300202.38</td>\n",
       "      <td>590003.74</td>\n",
       "      <td>-258321.21</td>\n",
       "      <td>62753.19</td>\n",
       "    </tr>\n",
       "    <tr>\n",
       "      <th>2</th>\n",
       "      <td>{'regressor__max_depth': 5, 'regressor__min_samples_leaf': 30}</td>\n",
       "      <td>6</td>\n",
       "      <td>-300274.75</td>\n",
       "      <td>590194.49</td>\n",
       "      <td>-259012.40</td>\n",
       "      <td>62718.11</td>\n",
       "    </tr>\n",
       "    <tr>\n",
       "      <th>4</th>\n",
       "      <td>{'regressor__max_depth': 8, 'regressor__min_samples_leaf': 20}</td>\n",
       "      <td>7</td>\n",
       "      <td>-305069.61</td>\n",
       "      <td>592573.17</td>\n",
       "      <td>-255438.79</td>\n",
       "      <td>62788.85</td>\n",
       "    </tr>\n",
       "    <tr>\n",
       "      <th>7</th>\n",
       "      <td>{'regressor__max_depth': 15, 'regressor__min_samples_leaf': 20}</td>\n",
       "      <td>8</td>\n",
       "      <td>-305114.32</td>\n",
       "      <td>592583.19</td>\n",
       "      <td>-255351.99</td>\n",
       "      <td>62770.48</td>\n",
       "    </tr>\n",
       "    <tr>\n",
       "      <th>1</th>\n",
       "      <td>{'regressor__max_depth': 5, 'regressor__min_samples_leaf': 20}</td>\n",
       "      <td>9</td>\n",
       "      <td>-305147.53</td>\n",
       "      <td>592913.78</td>\n",
       "      <td>-256431.67</td>\n",
       "      <td>62698.62</td>\n",
       "    </tr>\n",
       "  </tbody>\n",
       "</table>"
      ],
      "text/plain": [
       "<IPython.core.display.HTML object>"
      ]
     },
     "execution_count": 48,
     "metadata": {},
     "output_type": "execute_result"
    }
   ],
   "source": [
    "results = gs.cv_results_\n",
    "col = ['params','rank_test_score','mean_test_score', 'std_test_score','mean_train_score', 'std_train_score' ]\n",
    "HTML(pd.DataFrame(results, columns = col).round(2).sort_values(by='rank_test_score').to_html())"
   ]
  },
  {
   "cell_type": "code",
   "execution_count": 49,
   "id": "4a32bb43",
   "metadata": {},
   "outputs": [
    {
     "data": {
      "text/html": [
       "<style>#sk-5e0bf355-2665-4e24-85da-2054e30d6246 {color: black;background-color: white;}#sk-5e0bf355-2665-4e24-85da-2054e30d6246 pre{padding: 0;}#sk-5e0bf355-2665-4e24-85da-2054e30d6246 div.sk-toggleable {background-color: white;}#sk-5e0bf355-2665-4e24-85da-2054e30d6246 label.sk-toggleable__label {cursor: pointer;display: block;width: 100%;margin-bottom: 0;padding: 0.3em;box-sizing: border-box;text-align: center;}#sk-5e0bf355-2665-4e24-85da-2054e30d6246 label.sk-toggleable__label-arrow:before {content: \"▸\";float: left;margin-right: 0.25em;color: #696969;}#sk-5e0bf355-2665-4e24-85da-2054e30d6246 label.sk-toggleable__label-arrow:hover:before {color: black;}#sk-5e0bf355-2665-4e24-85da-2054e30d6246 div.sk-estimator:hover label.sk-toggleable__label-arrow:before {color: black;}#sk-5e0bf355-2665-4e24-85da-2054e30d6246 div.sk-toggleable__content {max-height: 0;max-width: 0;overflow: hidden;text-align: left;background-color: #f0f8ff;}#sk-5e0bf355-2665-4e24-85da-2054e30d6246 div.sk-toggleable__content pre {margin: 0.2em;color: black;border-radius: 0.25em;background-color: #f0f8ff;}#sk-5e0bf355-2665-4e24-85da-2054e30d6246 input.sk-toggleable__control:checked~div.sk-toggleable__content {max-height: 200px;max-width: 100%;overflow: auto;}#sk-5e0bf355-2665-4e24-85da-2054e30d6246 input.sk-toggleable__control:checked~label.sk-toggleable__label-arrow:before {content: \"▾\";}#sk-5e0bf355-2665-4e24-85da-2054e30d6246 div.sk-estimator input.sk-toggleable__control:checked~label.sk-toggleable__label {background-color: #d4ebff;}#sk-5e0bf355-2665-4e24-85da-2054e30d6246 div.sk-label input.sk-toggleable__control:checked~label.sk-toggleable__label {background-color: #d4ebff;}#sk-5e0bf355-2665-4e24-85da-2054e30d6246 input.sk-hidden--visually {border: 0;clip: rect(1px 1px 1px 1px);clip: rect(1px, 1px, 1px, 1px);height: 1px;margin: -1px;overflow: hidden;padding: 0;position: absolute;width: 1px;}#sk-5e0bf355-2665-4e24-85da-2054e30d6246 div.sk-estimator {font-family: monospace;background-color: #f0f8ff;border: 1px dotted black;border-radius: 0.25em;box-sizing: border-box;margin-bottom: 0.5em;}#sk-5e0bf355-2665-4e24-85da-2054e30d6246 div.sk-estimator:hover {background-color: #d4ebff;}#sk-5e0bf355-2665-4e24-85da-2054e30d6246 div.sk-parallel-item::after {content: \"\";width: 100%;border-bottom: 1px solid gray;flex-grow: 1;}#sk-5e0bf355-2665-4e24-85da-2054e30d6246 div.sk-label:hover label.sk-toggleable__label {background-color: #d4ebff;}#sk-5e0bf355-2665-4e24-85da-2054e30d6246 div.sk-serial::before {content: \"\";position: absolute;border-left: 1px solid gray;box-sizing: border-box;top: 2em;bottom: 0;left: 50%;}#sk-5e0bf355-2665-4e24-85da-2054e30d6246 div.sk-serial {display: flex;flex-direction: column;align-items: center;background-color: white;padding-right: 0.2em;padding-left: 0.2em;}#sk-5e0bf355-2665-4e24-85da-2054e30d6246 div.sk-item {z-index: 1;}#sk-5e0bf355-2665-4e24-85da-2054e30d6246 div.sk-parallel {display: flex;align-items: stretch;justify-content: center;background-color: white;}#sk-5e0bf355-2665-4e24-85da-2054e30d6246 div.sk-parallel::before {content: \"\";position: absolute;border-left: 1px solid gray;box-sizing: border-box;top: 2em;bottom: 0;left: 50%;}#sk-5e0bf355-2665-4e24-85da-2054e30d6246 div.sk-parallel-item {display: flex;flex-direction: column;position: relative;background-color: white;}#sk-5e0bf355-2665-4e24-85da-2054e30d6246 div.sk-parallel-item:first-child::after {align-self: flex-end;width: 50%;}#sk-5e0bf355-2665-4e24-85da-2054e30d6246 div.sk-parallel-item:last-child::after {align-self: flex-start;width: 50%;}#sk-5e0bf355-2665-4e24-85da-2054e30d6246 div.sk-parallel-item:only-child::after {width: 0;}#sk-5e0bf355-2665-4e24-85da-2054e30d6246 div.sk-dashed-wrapped {border: 1px dashed gray;margin: 0 0.4em 0.5em 0.4em;box-sizing: border-box;padding-bottom: 0.4em;background-color: white;position: relative;}#sk-5e0bf355-2665-4e24-85da-2054e30d6246 div.sk-label label {font-family: monospace;font-weight: bold;background-color: white;display: inline-block;line-height: 1.2em;}#sk-5e0bf355-2665-4e24-85da-2054e30d6246 div.sk-label-container {position: relative;z-index: 2;text-align: center;}#sk-5e0bf355-2665-4e24-85da-2054e30d6246 div.sk-container {/* jupyter's `normalize.less` sets `[hidden] { display: none; }` but bootstrap.min.css set `[hidden] { display: none !important; }` so we also need the `!important` here to be able to override the default hidden behavior on the sphinx rendered scikit-learn.org. See: https://github.com/scikit-learn/scikit-learn/issues/21755 */display: inline-block !important;position: relative;}#sk-5e0bf355-2665-4e24-85da-2054e30d6246 div.sk-text-repr-fallback {display: none;}</style><div id=\"sk-5e0bf355-2665-4e24-85da-2054e30d6246\" class=\"sk-top-container\"><div class=\"sk-text-repr-fallback\"><pre>Pipeline(steps=[(&#x27;preprocessor&#x27;,\n",
       "                 ColumnTransformer(sparse_threshold=0,\n",
       "                                   transformers=[(&#x27;passthrough_numeric&#x27;,\n",
       "                                                  &#x27;passthrough&#x27;,\n",
       "                                                  [&#x27;LargestPropertyUseTypeGFA&#x27;,\n",
       "                                                   &#x27;SecondLargestPropertyUseTypeGFA&#x27;,\n",
       "                                                   &#x27;ThirdLargestPropertyUseTypeGFA&#x27;,\n",
       "                                                   &#x27;Electricity_p&#x27;,\n",
       "                                                   &#x27;NaturalGaz_p&#x27;, &#x27;Latitude&#x27;,\n",
       "                                                   &#x27;Longitude&#x27;,\n",
       "                                                   &#x27;NonResidentialGFA&#x27;,\n",
       "                                                   &#x27;PropertyGFAParking&#x27;,\n",
       "                                                   &#x27;PropertyGFABuilding(s)&#x27;]),\n",
       "                                                 (&#x27;cat_t&#x27;,\n",
       "                                                  OneHotEncoder(handle_unknown=&#x27;ignore&#x27;),\n",
       "                                                  [&#x27;PrimaryPropertyType&#x27;,\n",
       "                                                   &#x27;BuildingType&#x27;,\n",
       "                                                   &#x27;LargestPropertyUseType&#x27;])],\n",
       "                                   verbose_feature_names_out=False)),\n",
       "                (&#x27;regressor&#x27;,\n",
       "                 DecisionTreeRegressor(max_depth=8, min_samples_leaf=10))])</pre><b>Please rerun this cell to show the HTML repr or trust the notebook.</b></div><div class=\"sk-container\" hidden><div class=\"sk-item sk-dashed-wrapped\"><div class=\"sk-label-container\"><div class=\"sk-label sk-toggleable\"><input class=\"sk-toggleable__control sk-hidden--visually\" id=\"f4cee4f7-b709-4ee5-8f07-526b75ca7226\" type=\"checkbox\" ><label for=\"f4cee4f7-b709-4ee5-8f07-526b75ca7226\" class=\"sk-toggleable__label sk-toggleable__label-arrow\">Pipeline</label><div class=\"sk-toggleable__content\"><pre>Pipeline(steps=[(&#x27;preprocessor&#x27;,\n",
       "                 ColumnTransformer(sparse_threshold=0,\n",
       "                                   transformers=[(&#x27;passthrough_numeric&#x27;,\n",
       "                                                  &#x27;passthrough&#x27;,\n",
       "                                                  [&#x27;LargestPropertyUseTypeGFA&#x27;,\n",
       "                                                   &#x27;SecondLargestPropertyUseTypeGFA&#x27;,\n",
       "                                                   &#x27;ThirdLargestPropertyUseTypeGFA&#x27;,\n",
       "                                                   &#x27;Electricity_p&#x27;,\n",
       "                                                   &#x27;NaturalGaz_p&#x27;, &#x27;Latitude&#x27;,\n",
       "                                                   &#x27;Longitude&#x27;,\n",
       "                                                   &#x27;NonResidentialGFA&#x27;,\n",
       "                                                   &#x27;PropertyGFAParking&#x27;,\n",
       "                                                   &#x27;PropertyGFABuilding(s)&#x27;]),\n",
       "                                                 (&#x27;cat_t&#x27;,\n",
       "                                                  OneHotEncoder(handle_unknown=&#x27;ignore&#x27;),\n",
       "                                                  [&#x27;PrimaryPropertyType&#x27;,\n",
       "                                                   &#x27;BuildingType&#x27;,\n",
       "                                                   &#x27;LargestPropertyUseType&#x27;])],\n",
       "                                   verbose_feature_names_out=False)),\n",
       "                (&#x27;regressor&#x27;,\n",
       "                 DecisionTreeRegressor(max_depth=8, min_samples_leaf=10))])</pre></div></div></div><div class=\"sk-serial\"><div class=\"sk-item sk-dashed-wrapped\"><div class=\"sk-label-container\"><div class=\"sk-label sk-toggleable\"><input class=\"sk-toggleable__control sk-hidden--visually\" id=\"a3b7cd82-3117-4a59-b0be-b710e76c0322\" type=\"checkbox\" ><label for=\"a3b7cd82-3117-4a59-b0be-b710e76c0322\" class=\"sk-toggleable__label sk-toggleable__label-arrow\">preprocessor: ColumnTransformer</label><div class=\"sk-toggleable__content\"><pre>ColumnTransformer(sparse_threshold=0,\n",
       "                  transformers=[(&#x27;passthrough_numeric&#x27;, &#x27;passthrough&#x27;,\n",
       "                                 [&#x27;LargestPropertyUseTypeGFA&#x27;,\n",
       "                                  &#x27;SecondLargestPropertyUseTypeGFA&#x27;,\n",
       "                                  &#x27;ThirdLargestPropertyUseTypeGFA&#x27;,\n",
       "                                  &#x27;Electricity_p&#x27;, &#x27;NaturalGaz_p&#x27;, &#x27;Latitude&#x27;,\n",
       "                                  &#x27;Longitude&#x27;, &#x27;NonResidentialGFA&#x27;,\n",
       "                                  &#x27;PropertyGFAParking&#x27;,\n",
       "                                  &#x27;PropertyGFABuilding(s)&#x27;]),\n",
       "                                (&#x27;cat_t&#x27;,\n",
       "                                 OneHotEncoder(handle_unknown=&#x27;ignore&#x27;),\n",
       "                                 [&#x27;PrimaryPropertyType&#x27;, &#x27;BuildingType&#x27;,\n",
       "                                  &#x27;LargestPropertyUseType&#x27;])],\n",
       "                  verbose_feature_names_out=False)</pre></div></div></div><div class=\"sk-parallel\"><div class=\"sk-parallel-item\"><div class=\"sk-item\"><div class=\"sk-label-container\"><div class=\"sk-label sk-toggleable\"><input class=\"sk-toggleable__control sk-hidden--visually\" id=\"0e69be8d-797c-4442-a964-9c355618df32\" type=\"checkbox\" ><label for=\"0e69be8d-797c-4442-a964-9c355618df32\" class=\"sk-toggleable__label sk-toggleable__label-arrow\">passthrough_numeric</label><div class=\"sk-toggleable__content\"><pre>[&#x27;LargestPropertyUseTypeGFA&#x27;, &#x27;SecondLargestPropertyUseTypeGFA&#x27;, &#x27;ThirdLargestPropertyUseTypeGFA&#x27;, &#x27;Electricity_p&#x27;, &#x27;NaturalGaz_p&#x27;, &#x27;Latitude&#x27;, &#x27;Longitude&#x27;, &#x27;NonResidentialGFA&#x27;, &#x27;PropertyGFAParking&#x27;, &#x27;PropertyGFABuilding(s)&#x27;]</pre></div></div></div><div class=\"sk-serial\"><div class=\"sk-item\"><div class=\"sk-estimator sk-toggleable\"><input class=\"sk-toggleable__control sk-hidden--visually\" id=\"4c28d5ab-baf9-44e3-b55c-d7c906c06ff2\" type=\"checkbox\" ><label for=\"4c28d5ab-baf9-44e3-b55c-d7c906c06ff2\" class=\"sk-toggleable__label sk-toggleable__label-arrow\">passthrough</label><div class=\"sk-toggleable__content\"><pre>passthrough</pre></div></div></div></div></div></div><div class=\"sk-parallel-item\"><div class=\"sk-item\"><div class=\"sk-label-container\"><div class=\"sk-label sk-toggleable\"><input class=\"sk-toggleable__control sk-hidden--visually\" id=\"203b9398-b93c-434f-8de6-2e54e86e0067\" type=\"checkbox\" ><label for=\"203b9398-b93c-434f-8de6-2e54e86e0067\" class=\"sk-toggleable__label sk-toggleable__label-arrow\">cat_t</label><div class=\"sk-toggleable__content\"><pre>[&#x27;PrimaryPropertyType&#x27;, &#x27;BuildingType&#x27;, &#x27;LargestPropertyUseType&#x27;]</pre></div></div></div><div class=\"sk-serial\"><div class=\"sk-item\"><div class=\"sk-estimator sk-toggleable\"><input class=\"sk-toggleable__control sk-hidden--visually\" id=\"3ff065f0-fc27-4253-8b3f-5b9204b03bca\" type=\"checkbox\" ><label for=\"3ff065f0-fc27-4253-8b3f-5b9204b03bca\" class=\"sk-toggleable__label sk-toggleable__label-arrow\">OneHotEncoder</label><div class=\"sk-toggleable__content\"><pre>OneHotEncoder(handle_unknown=&#x27;ignore&#x27;)</pre></div></div></div></div></div></div></div></div><div class=\"sk-item\"><div class=\"sk-estimator sk-toggleable\"><input class=\"sk-toggleable__control sk-hidden--visually\" id=\"e51817bc-a9eb-469a-88b8-cedb97ecf477\" type=\"checkbox\" ><label for=\"e51817bc-a9eb-469a-88b8-cedb97ecf477\" class=\"sk-toggleable__label sk-toggleable__label-arrow\">DecisionTreeRegressor</label><div class=\"sk-toggleable__content\"><pre>DecisionTreeRegressor(max_depth=8, min_samples_leaf=10)</pre></div></div></div></div></div></div></div>"
      ],
      "text/plain": [
       "Pipeline(steps=[('preprocessor',\n",
       "                 ColumnTransformer(sparse_threshold=0,\n",
       "                                   transformers=[('passthrough_numeric',\n",
       "                                                  'passthrough',\n",
       "                                                  ['LargestPropertyUseTypeGFA',\n",
       "                                                   'SecondLargestPropertyUseTypeGFA',\n",
       "                                                   'ThirdLargestPropertyUseTypeGFA',\n",
       "                                                   'Electricity_p',\n",
       "                                                   'NaturalGaz_p', 'Latitude',\n",
       "                                                   'Longitude',\n",
       "                                                   'NonResidentialGFA',\n",
       "                                                   'PropertyGFAParking',\n",
       "                                                   'PropertyGFABuilding(s)']),\n",
       "                                                 ('cat_t',\n",
       "                                                  OneHotEncoder(handle_unknown='ignore'),\n",
       "                                                  ['PrimaryPropertyType',\n",
       "                                                   'BuildingType',\n",
       "                                                   'LargestPropertyUseType'])],\n",
       "                                   verbose_feature_names_out=False)),\n",
       "                ('regressor',\n",
       "                 DecisionTreeRegressor(max_depth=8, min_samples_leaf=10))])"
      ]
     },
     "execution_count": 49,
     "metadata": {},
     "output_type": "execute_result"
    }
   ],
   "source": [
    "tree_reg_CO2.set_params(**gs.best_params_).fit(X_train, y_train)"
   ]
  },
  {
   "cell_type": "code",
   "execution_count": 50,
   "id": "c74825e4",
   "metadata": {},
   "outputs": [
    {
     "name": "stdout",
     "output_type": "stream",
     "text": [
      "la profondeur de l'arbre est de 8 et le nombre de feuilles (noeuds terminaux) est de 55\n"
     ]
    }
   ],
   "source": [
    "depth = tree_reg_CO2[-1].get_depth()\n",
    "n_leaves = tree_reg_CO2[-1].get_n_leaves()\n",
    "print(f\"la profondeur de l'arbre est de {depth} et le nombre de feuilles (noeuds terminaux) est de {n_leaves}\")"
   ]
  },
  {
   "cell_type": "code",
   "execution_count": 51,
   "id": "728f3adb",
   "metadata": {},
   "outputs": [],
   "source": [
    "df_summary = summary(tree_reg_CO2, df_summary,X_train, X_test, y_train, y_test)"
   ]
  },
  {
   "cell_type": "code",
   "execution_count": 52,
   "id": "3e6d20ed",
   "metadata": {},
   "outputs": [],
   "source": [
    "y_pred_tree = tree_reg_CO2.predict(X_test)"
   ]
  },
  {
   "cell_type": "markdown",
   "id": "817d9f25",
   "metadata": {},
   "source": [
    "### 2.1.4 -  Support Vector Machine SVM"
   ]
  },
  {
   "cell_type": "code",
   "execution_count": 53,
   "id": "1d2c934a",
   "metadata": {},
   "outputs": [],
   "source": [
    "svr_reg = Pipeline(\n",
    "    [\n",
    "        ('processor', init_so()),\n",
    "        ('regressor', SVR(kernel = 'poly'))\n",
    "    ]\n",
    ")"
   ]
  },
  {
   "cell_type": "code",
   "execution_count": 54,
   "id": "e4c3eb38",
   "metadata": {},
   "outputs": [
    {
     "name": "stdout",
     "output_type": "stream",
     "text": [
      "Fitting 6 folds for each of 8 candidates, totalling 48 fits\n",
      "{'regressor__C': 1, 'regressor__degree': 3, 'regressor__epsilon': 150}\n"
     ]
    }
   ],
   "source": [
    "#parametrage\n",
    "param_grid = {\n",
    "                'regressor__C' :[1,5],\n",
    "                'regressor__degree' : [1,3],\n",
    "                'regressor__epsilon' : [150, 160]\n",
    "             }\n",
    "\n",
    "scoring = 'neg_mean_squared_error'\n",
    "gs = GridSearchCV(svr_reg, param_grid, cv = 6, scoring =scoring,\n",
    "                 verbose = 1, return_train_score = True, n_jobs =-1).fit(X_train, y_train)\n",
    "print(gs.best_params_)"
   ]
  },
  {
   "cell_type": "code",
   "execution_count": 55,
   "id": "13413b80",
   "metadata": {},
   "outputs": [],
   "source": [
    "svr_reg.set_params(**gs.best_params_).fit(X_train, y_train)\n",
    "df_summary = summary(svr_reg, df_summary, X_train, X_test, y_train, y_test)"
   ]
  },
  {
   "cell_type": "markdown",
   "id": "15175669",
   "metadata": {},
   "source": [
    "## 2.2 - Modele d'ensemble"
   ]
  },
  {
   "cell_type": "markdown",
   "id": "991e4340",
   "metadata": {},
   "source": [
    "### 2.2.1 - bagging and pasting"
   ]
  },
  {
   "cell_type": "markdown",
   "id": "bfc2b154",
   "metadata": {},
   "source": [
    "### 2.2.1.1 - Bagging - Linear regression"
   ]
  },
  {
   "cell_type": "code",
   "execution_count": 56,
   "id": "1113c205",
   "metadata": {},
   "outputs": [
    {
     "data": {
      "text/html": [
       "<style>#sk-86f38aca-4ba2-4b38-b8a9-953e6d343c70 {color: black;background-color: white;}#sk-86f38aca-4ba2-4b38-b8a9-953e6d343c70 pre{padding: 0;}#sk-86f38aca-4ba2-4b38-b8a9-953e6d343c70 div.sk-toggleable {background-color: white;}#sk-86f38aca-4ba2-4b38-b8a9-953e6d343c70 label.sk-toggleable__label {cursor: pointer;display: block;width: 100%;margin-bottom: 0;padding: 0.3em;box-sizing: border-box;text-align: center;}#sk-86f38aca-4ba2-4b38-b8a9-953e6d343c70 label.sk-toggleable__label-arrow:before {content: \"▸\";float: left;margin-right: 0.25em;color: #696969;}#sk-86f38aca-4ba2-4b38-b8a9-953e6d343c70 label.sk-toggleable__label-arrow:hover:before {color: black;}#sk-86f38aca-4ba2-4b38-b8a9-953e6d343c70 div.sk-estimator:hover label.sk-toggleable__label-arrow:before {color: black;}#sk-86f38aca-4ba2-4b38-b8a9-953e6d343c70 div.sk-toggleable__content {max-height: 0;max-width: 0;overflow: hidden;text-align: left;background-color: #f0f8ff;}#sk-86f38aca-4ba2-4b38-b8a9-953e6d343c70 div.sk-toggleable__content pre {margin: 0.2em;color: black;border-radius: 0.25em;background-color: #f0f8ff;}#sk-86f38aca-4ba2-4b38-b8a9-953e6d343c70 input.sk-toggleable__control:checked~div.sk-toggleable__content {max-height: 200px;max-width: 100%;overflow: auto;}#sk-86f38aca-4ba2-4b38-b8a9-953e6d343c70 input.sk-toggleable__control:checked~label.sk-toggleable__label-arrow:before {content: \"▾\";}#sk-86f38aca-4ba2-4b38-b8a9-953e6d343c70 div.sk-estimator input.sk-toggleable__control:checked~label.sk-toggleable__label {background-color: #d4ebff;}#sk-86f38aca-4ba2-4b38-b8a9-953e6d343c70 div.sk-label input.sk-toggleable__control:checked~label.sk-toggleable__label {background-color: #d4ebff;}#sk-86f38aca-4ba2-4b38-b8a9-953e6d343c70 input.sk-hidden--visually {border: 0;clip: rect(1px 1px 1px 1px);clip: rect(1px, 1px, 1px, 1px);height: 1px;margin: -1px;overflow: hidden;padding: 0;position: absolute;width: 1px;}#sk-86f38aca-4ba2-4b38-b8a9-953e6d343c70 div.sk-estimator {font-family: monospace;background-color: #f0f8ff;border: 1px dotted black;border-radius: 0.25em;box-sizing: border-box;margin-bottom: 0.5em;}#sk-86f38aca-4ba2-4b38-b8a9-953e6d343c70 div.sk-estimator:hover {background-color: #d4ebff;}#sk-86f38aca-4ba2-4b38-b8a9-953e6d343c70 div.sk-parallel-item::after {content: \"\";width: 100%;border-bottom: 1px solid gray;flex-grow: 1;}#sk-86f38aca-4ba2-4b38-b8a9-953e6d343c70 div.sk-label:hover label.sk-toggleable__label {background-color: #d4ebff;}#sk-86f38aca-4ba2-4b38-b8a9-953e6d343c70 div.sk-serial::before {content: \"\";position: absolute;border-left: 1px solid gray;box-sizing: border-box;top: 2em;bottom: 0;left: 50%;}#sk-86f38aca-4ba2-4b38-b8a9-953e6d343c70 div.sk-serial {display: flex;flex-direction: column;align-items: center;background-color: white;padding-right: 0.2em;padding-left: 0.2em;}#sk-86f38aca-4ba2-4b38-b8a9-953e6d343c70 div.sk-item {z-index: 1;}#sk-86f38aca-4ba2-4b38-b8a9-953e6d343c70 div.sk-parallel {display: flex;align-items: stretch;justify-content: center;background-color: white;}#sk-86f38aca-4ba2-4b38-b8a9-953e6d343c70 div.sk-parallel::before {content: \"\";position: absolute;border-left: 1px solid gray;box-sizing: border-box;top: 2em;bottom: 0;left: 50%;}#sk-86f38aca-4ba2-4b38-b8a9-953e6d343c70 div.sk-parallel-item {display: flex;flex-direction: column;position: relative;background-color: white;}#sk-86f38aca-4ba2-4b38-b8a9-953e6d343c70 div.sk-parallel-item:first-child::after {align-self: flex-end;width: 50%;}#sk-86f38aca-4ba2-4b38-b8a9-953e6d343c70 div.sk-parallel-item:last-child::after {align-self: flex-start;width: 50%;}#sk-86f38aca-4ba2-4b38-b8a9-953e6d343c70 div.sk-parallel-item:only-child::after {width: 0;}#sk-86f38aca-4ba2-4b38-b8a9-953e6d343c70 div.sk-dashed-wrapped {border: 1px dashed gray;margin: 0 0.4em 0.5em 0.4em;box-sizing: border-box;padding-bottom: 0.4em;background-color: white;position: relative;}#sk-86f38aca-4ba2-4b38-b8a9-953e6d343c70 div.sk-label label {font-family: monospace;font-weight: bold;background-color: white;display: inline-block;line-height: 1.2em;}#sk-86f38aca-4ba2-4b38-b8a9-953e6d343c70 div.sk-label-container {position: relative;z-index: 2;text-align: center;}#sk-86f38aca-4ba2-4b38-b8a9-953e6d343c70 div.sk-container {/* jupyter's `normalize.less` sets `[hidden] { display: none; }` but bootstrap.min.css set `[hidden] { display: none !important; }` so we also need the `!important` here to be able to override the default hidden behavior on the sphinx rendered scikit-learn.org. See: https://github.com/scikit-learn/scikit-learn/issues/21755 */display: inline-block !important;position: relative;}#sk-86f38aca-4ba2-4b38-b8a9-953e6d343c70 div.sk-text-repr-fallback {display: none;}</style><div id=\"sk-86f38aca-4ba2-4b38-b8a9-953e6d343c70\" class=\"sk-top-container\"><div class=\"sk-text-repr-fallback\"><pre>Pipeline(steps=[(&#x27;preprocessor&#x27;,\n",
       "                 ColumnTransformer(sparse_threshold=0,\n",
       "                                   transformers=[(&#x27;nun_t&#x27;,\n",
       "                                                  Pipeline(steps=[(&#x27;poly&#x27;,\n",
       "                                                                   PolynomialFeatures()),\n",
       "                                                                  (&#x27;scale&#x27;,\n",
       "                                                                   RobustScaler())]),\n",
       "                                                  [&#x27;LargestPropertyUseTypeGFA&#x27;,\n",
       "                                                   &#x27;SecondLargestPropertyUseTypeGFA&#x27;,\n",
       "                                                   &#x27;ThirdLargestPropertyUseTypeGFA&#x27;,\n",
       "                                                   &#x27;Electricity_p&#x27;,\n",
       "                                                   &#x27;NaturalGaz_p&#x27;, &#x27;Latitude&#x27;,\n",
       "                                                   &#x27;Longitude&#x27;,\n",
       "                                                   &#x27;NonResidentialGFA&#x27;,\n",
       "                                                   &#x27;PropertyGFAParking&#x27;,\n",
       "                                                   &#x27;PropertyGFABuilding(s)&#x27;]),\n",
       "                                                 (&#x27;cat_t&#x27;,\n",
       "                                                  Pipeline(steps=[(&#x27;ohe&#x27;,\n",
       "                                                                   OneHotEncoder(handle_unknown=&#x27;ignore&#x27;))]),\n",
       "                                                  [&#x27;PrimaryPropertyType&#x27;,\n",
       "                                                   &#x27;BuildingType&#x27;,\n",
       "                                                   &#x27;LargestPropertyUseType&#x27;])],\n",
       "                                   verbose_feature_names_out=False)),\n",
       "                (&#x27;estimator&#x27;,\n",
       "                 BaggingRegressor(base_estimator=LinearRegression(),\n",
       "                                  max_samples=0.1, n_estimators=500,\n",
       "                                  n_jobs=-1))])</pre><b>Please rerun this cell to show the HTML repr or trust the notebook.</b></div><div class=\"sk-container\" hidden><div class=\"sk-item sk-dashed-wrapped\"><div class=\"sk-label-container\"><div class=\"sk-label sk-toggleable\"><input class=\"sk-toggleable__control sk-hidden--visually\" id=\"c70eb723-102d-45d2-92cd-382a3db8ebdc\" type=\"checkbox\" ><label for=\"c70eb723-102d-45d2-92cd-382a3db8ebdc\" class=\"sk-toggleable__label sk-toggleable__label-arrow\">Pipeline</label><div class=\"sk-toggleable__content\"><pre>Pipeline(steps=[(&#x27;preprocessor&#x27;,\n",
       "                 ColumnTransformer(sparse_threshold=0,\n",
       "                                   transformers=[(&#x27;nun_t&#x27;,\n",
       "                                                  Pipeline(steps=[(&#x27;poly&#x27;,\n",
       "                                                                   PolynomialFeatures()),\n",
       "                                                                  (&#x27;scale&#x27;,\n",
       "                                                                   RobustScaler())]),\n",
       "                                                  [&#x27;LargestPropertyUseTypeGFA&#x27;,\n",
       "                                                   &#x27;SecondLargestPropertyUseTypeGFA&#x27;,\n",
       "                                                   &#x27;ThirdLargestPropertyUseTypeGFA&#x27;,\n",
       "                                                   &#x27;Electricity_p&#x27;,\n",
       "                                                   &#x27;NaturalGaz_p&#x27;, &#x27;Latitude&#x27;,\n",
       "                                                   &#x27;Longitude&#x27;,\n",
       "                                                   &#x27;NonResidentialGFA&#x27;,\n",
       "                                                   &#x27;PropertyGFAParking&#x27;,\n",
       "                                                   &#x27;PropertyGFABuilding(s)&#x27;]),\n",
       "                                                 (&#x27;cat_t&#x27;,\n",
       "                                                  Pipeline(steps=[(&#x27;ohe&#x27;,\n",
       "                                                                   OneHotEncoder(handle_unknown=&#x27;ignore&#x27;))]),\n",
       "                                                  [&#x27;PrimaryPropertyType&#x27;,\n",
       "                                                   &#x27;BuildingType&#x27;,\n",
       "                                                   &#x27;LargestPropertyUseType&#x27;])],\n",
       "                                   verbose_feature_names_out=False)),\n",
       "                (&#x27;estimator&#x27;,\n",
       "                 BaggingRegressor(base_estimator=LinearRegression(),\n",
       "                                  max_samples=0.1, n_estimators=500,\n",
       "                                  n_jobs=-1))])</pre></div></div></div><div class=\"sk-serial\"><div class=\"sk-item sk-dashed-wrapped\"><div class=\"sk-label-container\"><div class=\"sk-label sk-toggleable\"><input class=\"sk-toggleable__control sk-hidden--visually\" id=\"06462fdc-0c9a-4468-a1e5-bbaad7600150\" type=\"checkbox\" ><label for=\"06462fdc-0c9a-4468-a1e5-bbaad7600150\" class=\"sk-toggleable__label sk-toggleable__label-arrow\">preprocessor: ColumnTransformer</label><div class=\"sk-toggleable__content\"><pre>ColumnTransformer(sparse_threshold=0,\n",
       "                  transformers=[(&#x27;nun_t&#x27;,\n",
       "                                 Pipeline(steps=[(&#x27;poly&#x27;, PolynomialFeatures()),\n",
       "                                                 (&#x27;scale&#x27;, RobustScaler())]),\n",
       "                                 [&#x27;LargestPropertyUseTypeGFA&#x27;,\n",
       "                                  &#x27;SecondLargestPropertyUseTypeGFA&#x27;,\n",
       "                                  &#x27;ThirdLargestPropertyUseTypeGFA&#x27;,\n",
       "                                  &#x27;Electricity_p&#x27;, &#x27;NaturalGaz_p&#x27;, &#x27;Latitude&#x27;,\n",
       "                                  &#x27;Longitude&#x27;, &#x27;NonResidentialGFA&#x27;,\n",
       "                                  &#x27;PropertyGFAParking&#x27;,\n",
       "                                  &#x27;PropertyGFABuilding(s)&#x27;]),\n",
       "                                (&#x27;cat_t&#x27;,\n",
       "                                 Pipeline(steps=[(&#x27;ohe&#x27;,\n",
       "                                                  OneHotEncoder(handle_unknown=&#x27;ignore&#x27;))]),\n",
       "                                 [&#x27;PrimaryPropertyType&#x27;, &#x27;BuildingType&#x27;,\n",
       "                                  &#x27;LargestPropertyUseType&#x27;])],\n",
       "                  verbose_feature_names_out=False)</pre></div></div></div><div class=\"sk-parallel\"><div class=\"sk-parallel-item\"><div class=\"sk-item\"><div class=\"sk-label-container\"><div class=\"sk-label sk-toggleable\"><input class=\"sk-toggleable__control sk-hidden--visually\" id=\"93c93898-199a-44b2-8264-89e4bd1dee4d\" type=\"checkbox\" ><label for=\"93c93898-199a-44b2-8264-89e4bd1dee4d\" class=\"sk-toggleable__label sk-toggleable__label-arrow\">nun_t</label><div class=\"sk-toggleable__content\"><pre>[&#x27;LargestPropertyUseTypeGFA&#x27;, &#x27;SecondLargestPropertyUseTypeGFA&#x27;, &#x27;ThirdLargestPropertyUseTypeGFA&#x27;, &#x27;Electricity_p&#x27;, &#x27;NaturalGaz_p&#x27;, &#x27;Latitude&#x27;, &#x27;Longitude&#x27;, &#x27;NonResidentialGFA&#x27;, &#x27;PropertyGFAParking&#x27;, &#x27;PropertyGFABuilding(s)&#x27;]</pre></div></div></div><div class=\"sk-serial\"><div class=\"sk-item\"><div class=\"sk-serial\"><div class=\"sk-item\"><div class=\"sk-estimator sk-toggleable\"><input class=\"sk-toggleable__control sk-hidden--visually\" id=\"1d75c6ef-fdc1-432f-81bb-0dc9b301fb3a\" type=\"checkbox\" ><label for=\"1d75c6ef-fdc1-432f-81bb-0dc9b301fb3a\" class=\"sk-toggleable__label sk-toggleable__label-arrow\">PolynomialFeatures</label><div class=\"sk-toggleable__content\"><pre>PolynomialFeatures()</pre></div></div></div><div class=\"sk-item\"><div class=\"sk-estimator sk-toggleable\"><input class=\"sk-toggleable__control sk-hidden--visually\" id=\"751c304a-0910-4ee0-821a-df759c547343\" type=\"checkbox\" ><label for=\"751c304a-0910-4ee0-821a-df759c547343\" class=\"sk-toggleable__label sk-toggleable__label-arrow\">RobustScaler</label><div class=\"sk-toggleable__content\"><pre>RobustScaler()</pre></div></div></div></div></div></div></div></div><div class=\"sk-parallel-item\"><div class=\"sk-item\"><div class=\"sk-label-container\"><div class=\"sk-label sk-toggleable\"><input class=\"sk-toggleable__control sk-hidden--visually\" id=\"4bd71ff2-a113-49c4-8af8-2029e2968b75\" type=\"checkbox\" ><label for=\"4bd71ff2-a113-49c4-8af8-2029e2968b75\" class=\"sk-toggleable__label sk-toggleable__label-arrow\">cat_t</label><div class=\"sk-toggleable__content\"><pre>[&#x27;PrimaryPropertyType&#x27;, &#x27;BuildingType&#x27;, &#x27;LargestPropertyUseType&#x27;]</pre></div></div></div><div class=\"sk-serial\"><div class=\"sk-item\"><div class=\"sk-serial\"><div class=\"sk-item\"><div class=\"sk-estimator sk-toggleable\"><input class=\"sk-toggleable__control sk-hidden--visually\" id=\"5fdcda6f-cdaa-41a1-8a14-2a7c7c8081f0\" type=\"checkbox\" ><label for=\"5fdcda6f-cdaa-41a1-8a14-2a7c7c8081f0\" class=\"sk-toggleable__label sk-toggleable__label-arrow\">OneHotEncoder</label><div class=\"sk-toggleable__content\"><pre>OneHotEncoder(handle_unknown=&#x27;ignore&#x27;)</pre></div></div></div></div></div></div></div></div></div></div><div class=\"sk-item sk-dashed-wrapped\"><div class=\"sk-label-container\"><div class=\"sk-label sk-toggleable\"><input class=\"sk-toggleable__control sk-hidden--visually\" id=\"1323e9c1-edde-4494-a973-f5e6c5fc6604\" type=\"checkbox\" ><label for=\"1323e9c1-edde-4494-a973-f5e6c5fc6604\" class=\"sk-toggleable__label sk-toggleable__label-arrow\">estimator: BaggingRegressor</label><div class=\"sk-toggleable__content\"><pre>BaggingRegressor(base_estimator=LinearRegression(), max_samples=0.1,\n",
       "                 n_estimators=500, n_jobs=-1)</pre></div></div></div><div class=\"sk-parallel\"><div class=\"sk-parallel-item\"><div class=\"sk-item\"><div class=\"sk-serial\"><div class=\"sk-item\"><div class=\"sk-estimator sk-toggleable\"><input class=\"sk-toggleable__control sk-hidden--visually\" id=\"7f2aaa98-90ed-4a01-b6d8-bc69a3dc88f9\" type=\"checkbox\" ><label for=\"7f2aaa98-90ed-4a01-b6d8-bc69a3dc88f9\" class=\"sk-toggleable__label sk-toggleable__label-arrow\">LinearRegression</label><div class=\"sk-toggleable__content\"><pre>LinearRegression()</pre></div></div></div></div></div></div></div></div></div></div></div></div>"
      ],
      "text/plain": [
       "Pipeline(steps=[('preprocessor',\n",
       "                 ColumnTransformer(sparse_threshold=0,\n",
       "                                   transformers=[('nun_t',\n",
       "                                                  Pipeline(steps=[('poly',\n",
       "                                                                   PolynomialFeatures()),\n",
       "                                                                  ('scale',\n",
       "                                                                   RobustScaler())]),\n",
       "                                                  ['LargestPropertyUseTypeGFA',\n",
       "                                                   'SecondLargestPropertyUseTypeGFA',\n",
       "                                                   'ThirdLargestPropertyUseTypeGFA',\n",
       "                                                   'Electricity_p',\n",
       "                                                   'NaturalGaz_p', 'Latitude',\n",
       "                                                   'Longitude',\n",
       "                                                   'NonResidentialGFA',\n",
       "                                                   'PropertyGFAParking',\n",
       "                                                   'PropertyGFABuilding(s)']),\n",
       "                                                 ('cat_t',\n",
       "                                                  Pipeline(steps=[('ohe',\n",
       "                                                                   OneHotEncoder(handle_unknown='ignore'))]),\n",
       "                                                  ['PrimaryPropertyType',\n",
       "                                                   'BuildingType',\n",
       "                                                   'LargestPropertyUseType'])],\n",
       "                                   verbose_feature_names_out=False)),\n",
       "                ('estimator',\n",
       "                 BaggingRegressor(base_estimator=LinearRegression(),\n",
       "                                  max_samples=0.1, n_estimators=500,\n",
       "                                  n_jobs=-1))])"
      ]
     },
     "execution_count": 56,
     "metadata": {},
     "output_type": "execute_result"
    }
   ],
   "source": [
    "estimator = LinearRegression()\n",
    "bag_lin_reg = BaggingRegressor(estimator, n_estimators = 500, max_samples = 0.1, bootstrap = True, n_jobs = -1)\n",
    "modele =Pipeline(steps = [\n",
    "    ('preprocessor', init_spo()),\n",
    "    ('estimator', bag_lin_reg)\n",
    "])\n",
    "modele"
   ]
  },
  {
   "cell_type": "code",
   "execution_count": 57,
   "id": "51fd1bce",
   "metadata": {},
   "outputs": [
    {
     "name": "stdout",
     "output_type": "stream",
     "text": [
      "Fitting 6 folds for each of 4 candidates, totalling 24 fits\n",
      "{'estimator__max_samples': 1, 'estimator__n_estimators': 40}\n"
     ]
    }
   ],
   "source": [
    "#parametrage\n",
    "param_grid = {'estimator__n_estimators': [40,45],\n",
    "              'estimator__max_samples' : [0.9,1]}\n",
    "scoring = 'neg_mean_squared_error'\n",
    "gs = GridSearchCV(modele,\n",
    "                  param_grid,\n",
    "                  cv = 6,\n",
    "                  scoring= scoring,\n",
    "                  return_train_score =True,\n",
    "                  verbose = 1).fit(X_train, y_train)\n",
    "print(gs.best_params_)"
   ]
  },
  {
   "cell_type": "code",
   "execution_count": 58,
   "id": "02af5db2",
   "metadata": {},
   "outputs": [
    {
     "data": {
      "text/html": [
       "<table border=\"1\" class=\"dataframe\">\n",
       "  <thead>\n",
       "    <tr style=\"text-align: right;\">\n",
       "      <th></th>\n",
       "      <th>params</th>\n",
       "      <th>rank_test_score</th>\n",
       "      <th>mean_test_score</th>\n",
       "      <th>std_test_score</th>\n",
       "      <th>mean_train_score</th>\n",
       "      <th>std_train_score</th>\n",
       "    </tr>\n",
       "  </thead>\n",
       "  <tbody>\n",
       "    <tr>\n",
       "      <th>2</th>\n",
       "      <td>{'estimator__max_samples': 1, 'estimator__n_estimators': 40}</td>\n",
       "      <td>1</td>\n",
       "      <td>-364184.68</td>\n",
       "      <td>520816.71</td>\n",
       "      <td>-364501.68</td>\n",
       "      <td>104658.14</td>\n",
       "    </tr>\n",
       "    <tr>\n",
       "      <th>3</th>\n",
       "      <td>{'estimator__max_samples': 1, 'estimator__n_estimators': 45}</td>\n",
       "      <td>2</td>\n",
       "      <td>-379704.23</td>\n",
       "      <td>511414.05</td>\n",
       "      <td>-379765.89</td>\n",
       "      <td>118151.58</td>\n",
       "    </tr>\n",
       "    <tr>\n",
       "      <th>1</th>\n",
       "      <td>{'estimator__max_samples': 0.9, 'estimator__n_estimators': 45}</td>\n",
       "      <td>3</td>\n",
       "      <td>-635804.47</td>\n",
       "      <td>1290950.41</td>\n",
       "      <td>-62481.56</td>\n",
       "      <td>44261.83</td>\n",
       "    </tr>\n",
       "    <tr>\n",
       "      <th>0</th>\n",
       "      <td>{'estimator__max_samples': 0.9, 'estimator__n_estimators': 40}</td>\n",
       "      <td>4</td>\n",
       "      <td>-814639.80</td>\n",
       "      <td>1690649.23</td>\n",
       "      <td>-47545.88</td>\n",
       "      <td>29405.10</td>\n",
       "    </tr>\n",
       "  </tbody>\n",
       "</table>"
      ],
      "text/plain": [
       "<IPython.core.display.HTML object>"
      ]
     },
     "execution_count": 58,
     "metadata": {},
     "output_type": "execute_result"
    }
   ],
   "source": [
    "results = gs.cv_results_\n",
    "HTML(pd.DataFrame(results, columns =col).round(2).sort_values(by='rank_test_score').to_html())"
   ]
  },
  {
   "cell_type": "code",
   "execution_count": 59,
   "id": "f46a8029",
   "metadata": {},
   "outputs": [
    {
     "data": {
      "text/html": [
       "<div>\n",
       "<style scoped>\n",
       "    .dataframe tbody tr th:only-of-type {\n",
       "        vertical-align: middle;\n",
       "    }\n",
       "\n",
       "    .dataframe tbody tr th {\n",
       "        vertical-align: top;\n",
       "    }\n",
       "\n",
       "    .dataframe thead th {\n",
       "        text-align: right;\n",
       "    }\n",
       "</style>\n",
       "<table border=\"1\" class=\"dataframe\">\n",
       "  <thead>\n",
       "    <tr style=\"text-align: right;\">\n",
       "      <th></th>\n",
       "      <th>Modele</th>\n",
       "      <th>Ensembliste</th>\n",
       "      <th>Target</th>\n",
       "      <th>Train_RMSE</th>\n",
       "      <th>Test_RMSE</th>\n",
       "      <th>Train_R2</th>\n",
       "      <th>Test_R2</th>\n",
       "      <th>Commentaires</th>\n",
       "    </tr>\n",
       "  </thead>\n",
       "  <tbody>\n",
       "    <tr>\n",
       "      <th>0</th>\n",
       "      <td>DummyRegressor</td>\n",
       "      <td>non</td>\n",
       "      <td>TotalGHGEmissions</td>\n",
       "      <td>601.19</td>\n",
       "      <td>579.45</td>\n",
       "      <td>0.00</td>\n",
       "      <td>-0.00</td>\n",
       "      <td></td>\n",
       "    </tr>\n",
       "    <tr>\n",
       "      <th>1</th>\n",
       "      <td>Ridge</td>\n",
       "      <td>non</td>\n",
       "      <td>TotalGHGEmissions</td>\n",
       "      <td>151.44</td>\n",
       "      <td>252.58</td>\n",
       "      <td>0.94</td>\n",
       "      <td>0.81</td>\n",
       "      <td></td>\n",
       "    </tr>\n",
       "    <tr>\n",
       "      <th>2</th>\n",
       "      <td>LinearRegression</td>\n",
       "      <td>non</td>\n",
       "      <td>TotalGHGEmissions</td>\n",
       "      <td>301.91</td>\n",
       "      <td>420.27</td>\n",
       "      <td>0.75</td>\n",
       "      <td>0.47</td>\n",
       "      <td></td>\n",
       "    </tr>\n",
       "    <tr>\n",
       "      <th>3</th>\n",
       "      <td>DecisionTreeRegressor</td>\n",
       "      <td>non</td>\n",
       "      <td>TotalGHGEmissions</td>\n",
       "      <td>396.44</td>\n",
       "      <td>362.85</td>\n",
       "      <td>0.57</td>\n",
       "      <td>0.61</td>\n",
       "      <td></td>\n",
       "    </tr>\n",
       "    <tr>\n",
       "      <th>4</th>\n",
       "      <td>SVR</td>\n",
       "      <td>non</td>\n",
       "      <td>TotalGHGEmissions</td>\n",
       "      <td>433.66</td>\n",
       "      <td>601.64</td>\n",
       "      <td>0.48</td>\n",
       "      <td>-0.08</td>\n",
       "      <td></td>\n",
       "    </tr>\n",
       "    <tr>\n",
       "      <th>5</th>\n",
       "      <td>BaggingRegressor</td>\n",
       "      <td>LinearRegression</td>\n",
       "      <td>TotalGHGEmissions</td>\n",
       "      <td>601.35</td>\n",
       "      <td>579.26</td>\n",
       "      <td>-0.00</td>\n",
       "      <td>-0.00</td>\n",
       "      <td></td>\n",
       "    </tr>\n",
       "  </tbody>\n",
       "</table>\n",
       "</div>"
      ],
      "text/plain": [
       "                  Modele       Ensembliste             Target  Train_RMSE  \\\n",
       "0         DummyRegressor               non  TotalGHGEmissions      601.19   \n",
       "1                  Ridge               non  TotalGHGEmissions      151.44   \n",
       "2       LinearRegression               non  TotalGHGEmissions      301.91   \n",
       "3  DecisionTreeRegressor               non  TotalGHGEmissions      396.44   \n",
       "4                    SVR               non  TotalGHGEmissions      433.66   \n",
       "5       BaggingRegressor  LinearRegression  TotalGHGEmissions      601.35   \n",
       "\n",
       "   Test_RMSE  Train_R2  Test_R2 Commentaires  \n",
       "0     579.45      0.00    -0.00               \n",
       "1     252.58      0.94     0.81               \n",
       "2     420.27      0.75     0.47               \n",
       "3     362.85      0.57     0.61               \n",
       "4     601.64      0.48    -0.08               \n",
       "5     579.26     -0.00    -0.00               "
      ]
     },
     "execution_count": 59,
     "metadata": {},
     "output_type": "execute_result"
    }
   ],
   "source": [
    "modele.set_params(**gs.best_params_).fit(X_train, y_train)\n",
    "df_summary =summary(modele,df_summary, X_train, X_test, y_train, y_test, ensembliste = \"LinearRegression\")\n",
    "df_summary"
   ]
  },
  {
   "cell_type": "markdown",
   "id": "ae2f9c41",
   "metadata": {},
   "source": [
    "### 2.2.1.2 - Bagging - SVR"
   ]
  },
  {
   "cell_type": "code",
   "execution_count": 60,
   "id": "a87c8bee",
   "metadata": {},
   "outputs": [],
   "source": [
    "estimator = SVR()\n",
    "bag_lin_reg = BaggingRegressor(estimator, n_estimators = 500, max_samples = 0.1, bootstrap = True, n_jobs = -1)\n",
    "modele =Pipeline(steps = [\n",
    "    ('preprocessor', init_so()),\n",
    "    ('estimator', bag_lin_reg)\n",
    "])"
   ]
  },
  {
   "cell_type": "code",
   "execution_count": 61,
   "id": "72c5024e",
   "metadata": {},
   "outputs": [
    {
     "name": "stdout",
     "output_type": "stream",
     "text": [
      "Fitting 3 folds for each of 8 candidates, totalling 24 fits\n",
      "{'estimator__base_estimator__C': 15000, 'estimator__base_estimator__degree': 1, 'estimator__n_estimators': 1000}\n"
     ]
    }
   ],
   "source": [
    "#parametrage\n",
    "param_grid = {'estimator__base_estimator__C' : [15000, 20000],\n",
    "              'estimator__base_estimator__degree' : [1,2],\n",
    "              'estimator__n_estimators' : [1000,1100]}\n",
    "\n",
    "scoring = 'neg_mean_squared_error'\n",
    "gs = GridSearchCV(modele,\n",
    "                  param_grid,\n",
    "                  cv = 3,\n",
    "                  scoring=scoring,\n",
    "                  n_jobs= -1,\n",
    "                  verbose = 1).fit(X_train, y_train)\n",
    "print(gs.best_params_)"
   ]
  },
  {
   "cell_type": "code",
   "execution_count": 62,
   "id": "9266fc2d",
   "metadata": {},
   "outputs": [],
   "source": [
    "modele.set_params(**gs.best_params_).fit(X_train, y_train)\n",
    "df_summary =summary(modele,df_summary, X_train, X_test, y_train, y_test, ensembliste = \"SVR\")"
   ]
  },
  {
   "cell_type": "markdown",
   "id": "df779dba",
   "metadata": {},
   "source": [
    "### 2.2.1.3 Bagging - Decision Tree regressor"
   ]
  },
  {
   "cell_type": "code",
   "execution_count": 63,
   "id": "d9c0d471",
   "metadata": {},
   "outputs": [],
   "source": [
    "def arret_precoce(modele,X_train,y_train,X_test,y_test, n_estimators, n_error):\n",
    "    min_val_error = float('inf')\n",
    "    for n in range(1, n_estimators):\n",
    "        modele.n_estimators = n\n",
    "        modele.fit(X_train,y_train)\n",
    "        val_error = mean_squared_error(y_test, modele.predict(X_test), squared= False)\n",
    "        if min_val_error >= val_error:\n",
    "            min_val_error = val_error\n",
    "            error_going_up = 0\n",
    "        else:\n",
    "            error_going_up +=1\n",
    "            if error_going_up > n_error :\n",
    "                break\n",
    "    \n",
    "    print(f\"n_estimators ={n} et rmse = {val_error: .2f}\")\n",
    "    return n"
   ]
  },
  {
   "cell_type": "code",
   "execution_count": 64,
   "id": "b91297a4",
   "metadata": {},
   "outputs": [],
   "source": [
    "estimator = DecisionTreeRegressor()\n",
    "bag_lin_reg = BaggingRegressor(estimator, n_estimators = 500, max_samples = 0.1, bootstrap = True, n_jobs = -1)\n",
    "modele =Pipeline(steps = [\n",
    "    ('preprocessor', init_o()),\n",
    "    ('estimator', bag_lin_reg)\n",
    "])"
   ]
  },
  {
   "cell_type": "code",
   "execution_count": 65,
   "id": "30e4b73e",
   "metadata": {},
   "outputs": [
    {
     "name": "stdout",
     "output_type": "stream",
     "text": [
      "n_estimators =54 et rmse =  431.67\n"
     ]
    },
    {
     "data": {
      "text/plain": [
       "54"
      ]
     },
     "execution_count": 65,
     "metadata": {},
     "output_type": "execute_result"
    }
   ],
   "source": [
    "n_estimators = arret_precoce(modele,X_train,y_train,X_test,y_test, 500, 20)\n",
    "n_estimators"
   ]
  },
  {
   "cell_type": "code",
   "execution_count": 66,
   "id": "8e00b47a",
   "metadata": {},
   "outputs": [],
   "source": [
    "modele.set_params(estimator__n_estimators =n_estimators).fit(X_train, y_train)\n",
    "df_summary =summary(modele,df_summary, X_train, X_test, y_train, y_test, ensembliste = \"DecisionTreeRegressor\",\n",
    "                   commentaires = \"avec arret précoce\")"
   ]
  },
  {
   "cell_type": "markdown",
   "id": "14b02c11",
   "metadata": {},
   "source": [
    "## 2.2.2 - Adaboost"
   ]
  },
  {
   "cell_type": "markdown",
   "id": "1f7d5bd7",
   "metadata": {},
   "source": [
    "### 2.2.2.1 - Linear Regresssion"
   ]
  },
  {
   "cell_type": "code",
   "execution_count": 67,
   "id": "207b57a4",
   "metadata": {},
   "outputs": [],
   "source": [
    "from sklearn.ensemble import AdaBoostRegressor"
   ]
  },
  {
   "cell_type": "code",
   "execution_count": 68,
   "id": "201656bd",
   "metadata": {},
   "outputs": [],
   "source": [
    "predicteur = LinearRegression()\n",
    "modele = Pipeline(steps = \n",
    "                   [\n",
    "                       ('preprocessor', init_spo()),\n",
    "                       ( 'estimateur',AdaBoostRegressor(predicteur, n_estimators =10,  learning_rate = 0.5))\n",
    "                   ]\n",
    "                  )"
   ]
  },
  {
   "cell_type": "raw",
   "id": "0c0bba9d",
   "metadata": {
    "scrolled": true
   },
   "source": [
    "ERROR!\n",
    "ada_reg.fit(df_train, df_train['TotalGHGEmissions'])\n",
    "----->\n",
    "ValueError: Specifying the columns using strings is only supported for pandas DataFrames"
   ]
  },
  {
   "cell_type": "code",
   "execution_count": 69,
   "id": "514bb909",
   "metadata": {},
   "outputs": [
    {
     "name": "stdout",
     "output_type": "stream",
     "text": [
      "{'estimateur__learning_rate': 0.5, 'estimateur__n_estimators': 1, 'preprocessor__nun_t__poly__degree': 2}\n"
     ]
    }
   ],
   "source": [
    "#parametrage\n",
    "param_grid = {'estimateur__n_estimators' :[1,10,100],\n",
    "              'preprocessor__nun_t__poly__degree' : [1,2,3],\n",
    "              'estimateur__learning_rate' : [0.1,0.5,0.8]}\n",
    "gs = GridSearchCV(modele,\n",
    "                  param_grid, \n",
    "                  cv = 6,\n",
    "                  return_train_score = True,\n",
    "                  n_jobs = -1,\n",
    "                  verbose = -1).fit(X_train, y_train)\n",
    "print(gs.best_params_)"
   ]
  },
  {
   "cell_type": "code",
   "execution_count": 70,
   "id": "974965df",
   "metadata": {},
   "outputs": [],
   "source": [
    "modele.set_params(**gs.best_params_).fit(X_train, y_train)\n",
    "df_summary =summary(modele,df_summary, X_train, X_test, y_train, y_test, ensembliste = \"LinearRegresssion\")"
   ]
  },
  {
   "cell_type": "code",
   "execution_count": 71,
   "id": "eaa88bae",
   "metadata": {},
   "outputs": [],
   "source": [
    "y_pred_adaboost_linear = modele.predict(X_test)"
   ]
  },
  {
   "cell_type": "markdown",
   "id": "3da0f6d4",
   "metadata": {},
   "source": [
    "### Analyses"
   ]
  },
  {
   "cell_type": "code",
   "execution_count": 72,
   "id": "e417e85f",
   "metadata": {},
   "outputs": [
    {
     "data": {
      "text/plain": [
       "array([1.93294888])"
      ]
     },
     "execution_count": 72,
     "metadata": {},
     "output_type": "execute_result"
    }
   ],
   "source": [
    "modele[-1].estimator_weights_"
   ]
  },
  {
   "cell_type": "code",
   "execution_count": 73,
   "id": "877c83c6",
   "metadata": {},
   "outputs": [
    {
     "data": {
      "text/plain": [
       "array([0.02051445])"
      ]
     },
     "execution_count": 73,
     "metadata": {},
     "output_type": "execute_result"
    }
   ],
   "source": [
    "modele[-1].estimator_errors_"
   ]
  },
  {
   "cell_type": "code",
   "execution_count": 74,
   "id": "d62f8f9a",
   "metadata": {
    "scrolled": true
   },
   "outputs": [
    {
     "data": {
      "text/plain": [
       "-23466.66870440386"
      ]
     },
     "execution_count": 74,
     "metadata": {},
     "output_type": "execute_result"
    }
   ],
   "source": [
    "#on peut obtenir les coefs pour chaque estimateurs\n",
    "#ici nous avons le coef du premier estimateur de la premiere variable explicative\n",
    "modele[-1].estimators_[0].coef_[0]"
   ]
  },
  {
   "cell_type": "markdown",
   "id": "4102141e",
   "metadata": {},
   "source": [
    "### 2.2.2.2 - Autres"
   ]
  },
  {
   "cell_type": "code",
   "execution_count": 75,
   "id": "41d79c7c",
   "metadata": {},
   "outputs": [],
   "source": [
    "ada_base = AdaBoostRegressor()\n",
    "#The default Adaboost base estimator is a decision stump. it is a decision tree with a max depth of 1.\n",
    "#Par default n_estimators = 50 et learning_rate = 1, loss = linear\n",
    "svr_reg = SVR()\n",
    "ada_svr = AdaBoostRegressor(svr_reg)\n",
    "tree_reg = DecisionTreeRegressor()\n",
    "ada_tree = AdaBoostRegressor(tree_reg)\n",
    "lin_reg = LinearRegression()\n",
    "ada_lin = AdaBoostRegressor(lin_reg)\n",
    "ridge_reg = Ridge()\n",
    "ada_ridge = AdaBoostRegressor(ridge_reg)"
   ]
  },
  {
   "cell_type": "code",
   "execution_count": 76,
   "id": "52d69814",
   "metadata": {},
   "outputs": [],
   "source": [
    "from sklearn.model_selection import KFold, cross_val_score\n",
    "#ici nous creons une foction qui va calculer les diffenrents scores obtenu par un estimateur\n",
    "def cv_score_model(mod, X, y, folds, scoring):\n",
    "    cv = KFold(n_splits = folds, shuffle = True)\n",
    "    cv_estimate = cross_val_score(mod, X,y, cv=cv, scoring = scoring)\n",
    "    \n",
    "    return np.mean(cv_estimate), np.std(cv_estimate)"
   ]
  },
  {
   "cell_type": "markdown",
   "id": "5d0a8c9a",
   "metadata": {},
   "source": [
    "ERROR ! \n",
    "ValueError: Supported target types are: ('binary', 'multiclass'). Got 'continuous' instead.\n",
    "----> KFold cross validation instead of StratifiedKFold"
   ]
  },
  {
   "cell_type": "code",
   "execution_count": 77,
   "id": "0f849bf6",
   "metadata": {},
   "outputs": [],
   "source": [
    "#creation d'une fonction qui va calculer les scores pour les diferent estimateurs\n",
    "def fill_results_df(model_list,name_list, scoring_list,X, y,folds):\n",
    "    results = pd.DataFrame(index = name_list)\n",
    "    for score in scoring_list :\n",
    "        sc_mean = '{}_mean'.format(score)\n",
    "        sc_std = '{}_std'.format(score)\n",
    "        \n",
    "        for name, model in zip(name_list, model_list):\n",
    "            mean, std = cv_score_model(model, X, y, folds, scoring = score)\n",
    "            results.loc[name, sc_mean] = mean\n",
    "            results.loc[name, sc_std] = std\n",
    "        \n",
    "\n",
    "    return results"
   ]
  },
  {
   "cell_type": "code",
   "execution_count": 78,
   "id": "28d486eb",
   "metadata": {},
   "outputs": [],
   "source": [
    "models = [ada_base, ada_svr, ada_lin, ada_tree]\n",
    "model_names = ['Base', 'SVR', 'LinearRegression', 'DecisionTree_R']\n",
    "scoring_list = ['neg_root_mean_squared_error', 'r2']"
   ]
  },
  {
   "cell_type": "markdown",
   "id": "f188c86d",
   "metadata": {},
   "source": [
    "### 2.2.2.3 - adaboost avec un svr estimateur"
   ]
  },
  {
   "cell_type": "code",
   "execution_count": 79,
   "id": "5dd21c79",
   "metadata": {},
   "outputs": [],
   "source": [
    "estimateur = SVR()\n",
    "modele = Pipeline(steps = \n",
    "                   [\n",
    "                       ('preprocessor', init_so()),\n",
    "                       ( 'estimateur',AdaBoostRegressor(estimateur, n_estimators =10,  learning_rate = 0.5))\n",
    "                   ]\n",
    "                  )"
   ]
  },
  {
   "cell_type": "code",
   "execution_count": 80,
   "id": "96804940",
   "metadata": {},
   "outputs": [
    {
     "name": "stdout",
     "output_type": "stream",
     "text": [
      "{'estimateur__learning_rate': 0.1, 'estimateur__n_estimators': 100}\n"
     ]
    }
   ],
   "source": [
    "#parametrage\n",
    "param_grid = {'estimateur__n_estimators' :[1,10,100],\n",
    "              'estimateur__learning_rate' : [0.1,0.5,0.8]}\n",
    "gs = GridSearchCV(modele,\n",
    "                  param_grid, \n",
    "                  cv = 6,\n",
    "                  return_train_score = True,\n",
    "                  n_jobs = -1,\n",
    "                  verbose = -1).fit(X_train, y_train)\n",
    "print(gs.best_params_)"
   ]
  },
  {
   "cell_type": "code",
   "execution_count": 81,
   "id": "91b10cd5",
   "metadata": {},
   "outputs": [],
   "source": [
    "modele.set_params(**gs.best_params_).fit(X_train, y_train)\n",
    "df_summary =summary(modele,df_summary, X_train, X_test, y_train, y_test, ensembliste = \"SVR\")"
   ]
  },
  {
   "cell_type": "markdown",
   "id": "a667e74a",
   "metadata": {},
   "source": [
    "### 2.2.2.4 - Adaboost avec un DecisionTreeRegressor"
   ]
  },
  {
   "cell_type": "code",
   "execution_count": 82,
   "id": "7c1cda81",
   "metadata": {},
   "outputs": [],
   "source": [
    "estimateur = DecisionTreeRegressor()\n",
    "modele = Pipeline(steps = \n",
    "                   [\n",
    "                       ('preprocessor', init_o()),\n",
    "                       ( 'estimateur',AdaBoostRegressor(estimateur, n_estimators =10,  learning_rate = 0.5))\n",
    "                   ]\n",
    "                  )"
   ]
  },
  {
   "cell_type": "code",
   "execution_count": 83,
   "id": "6446fe98",
   "metadata": {},
   "outputs": [
    {
     "data": {
      "text/plain": [
       "dict_keys(['__module__', '__doc__', '_required_parameters', '__init__', '_run_search', '__abstractmethods__', '_abc_impl'])"
      ]
     },
     "execution_count": 83,
     "metadata": {},
     "output_type": "execute_result"
    }
   ],
   "source": [
    "#Tips\n",
    "GridSearchCV.__dict__.keys()"
   ]
  },
  {
   "cell_type": "code",
   "execution_count": 84,
   "id": "ad893135",
   "metadata": {},
   "outputs": [
    {
     "data": {
      "text/plain": [
       "<function sklearn.model_selection._search.GridSearchCV.__init__(self, estimator, param_grid, *, scoring=None, n_jobs=None, refit=True, cv=None, verbose=0, pre_dispatch='2*n_jobs', error_score=nan, return_train_score=False)>"
      ]
     },
     "execution_count": 84,
     "metadata": {},
     "output_type": "execute_result"
    }
   ],
   "source": [
    "#Tips : recherche les parametres d'une classe \n",
    "GridSearchCV.__init__"
   ]
  },
  {
   "cell_type": "code",
   "execution_count": 85,
   "id": "4c1cfd8e",
   "metadata": {},
   "outputs": [
    {
     "data": {
      "text/plain": [
       "['estimator', 'param_grid']"
      ]
     },
     "execution_count": 85,
     "metadata": {},
     "output_type": "execute_result"
    }
   ],
   "source": [
    "GridSearchCV._required_parameters"
   ]
  },
  {
   "cell_type": "code",
   "execution_count": 86,
   "id": "63c940e2",
   "metadata": {},
   "outputs": [
    {
     "name": "stdout",
     "output_type": "stream",
     "text": [
      "Fitting 6 folds for each of 16 candidates, totalling 96 fits\n",
      "{'estimateur__base_estimator__max_depth': 15, 'estimateur__base_estimator__min_samples_leaf': 10, 'estimateur__learning_rate': 0.8, 'estimateur__n_estimators': 100}\n"
     ]
    }
   ],
   "source": [
    "#parametrage\n",
    "param_grid = {'estimateur__n_estimators' :[100,120],\n",
    "              'estimateur__learning_rate' : [0.8, 1],\n",
    "              'estimateur__base_estimator__max_depth' : [10,15],\n",
    "              'estimateur__base_estimator__min_samples_leaf' : [10,15],}\n",
    "gs = GridSearchCV(modele,\n",
    "                  param_grid, \n",
    "                  cv = 6,\n",
    "                  return_train_score = True,\n",
    "                  n_jobs = -1,\n",
    "                  verbose = 1).fit(X_train, y_train)\n",
    "print(gs.best_params_)"
   ]
  },
  {
   "cell_type": "code",
   "execution_count": 87,
   "id": "edc04dd1",
   "metadata": {},
   "outputs": [
    {
     "data": {
      "text/html": [
       "<div>\n",
       "<style scoped>\n",
       "    .dataframe tbody tr th:only-of-type {\n",
       "        vertical-align: middle;\n",
       "    }\n",
       "\n",
       "    .dataframe tbody tr th {\n",
       "        vertical-align: top;\n",
       "    }\n",
       "\n",
       "    .dataframe thead th {\n",
       "        text-align: right;\n",
       "    }\n",
       "</style>\n",
       "<table border=\"1\" class=\"dataframe\">\n",
       "  <thead>\n",
       "    <tr style=\"text-align: right;\">\n",
       "      <th></th>\n",
       "      <th>Modele</th>\n",
       "      <th>Ensembliste</th>\n",
       "      <th>Target</th>\n",
       "      <th>Train_RMSE</th>\n",
       "      <th>Test_RMSE</th>\n",
       "      <th>Train_R2</th>\n",
       "      <th>Test_R2</th>\n",
       "      <th>Commentaires</th>\n",
       "    </tr>\n",
       "  </thead>\n",
       "  <tbody>\n",
       "    <tr>\n",
       "      <th>0</th>\n",
       "      <td>DummyRegressor</td>\n",
       "      <td>non</td>\n",
       "      <td>TotalGHGEmissions</td>\n",
       "      <td>601.19</td>\n",
       "      <td>579.45</td>\n",
       "      <td>0.00</td>\n",
       "      <td>-0.00</td>\n",
       "      <td></td>\n",
       "    </tr>\n",
       "    <tr>\n",
       "      <th>1</th>\n",
       "      <td>Ridge</td>\n",
       "      <td>non</td>\n",
       "      <td>TotalGHGEmissions</td>\n",
       "      <td>151.44</td>\n",
       "      <td>252.58</td>\n",
       "      <td>0.94</td>\n",
       "      <td>0.81</td>\n",
       "      <td></td>\n",
       "    </tr>\n",
       "    <tr>\n",
       "      <th>2</th>\n",
       "      <td>LinearRegression</td>\n",
       "      <td>non</td>\n",
       "      <td>TotalGHGEmissions</td>\n",
       "      <td>301.91</td>\n",
       "      <td>420.27</td>\n",
       "      <td>0.75</td>\n",
       "      <td>0.47</td>\n",
       "      <td></td>\n",
       "    </tr>\n",
       "    <tr>\n",
       "      <th>3</th>\n",
       "      <td>DecisionTreeRegressor</td>\n",
       "      <td>non</td>\n",
       "      <td>TotalGHGEmissions</td>\n",
       "      <td>396.44</td>\n",
       "      <td>362.85</td>\n",
       "      <td>0.57</td>\n",
       "      <td>0.61</td>\n",
       "      <td></td>\n",
       "    </tr>\n",
       "    <tr>\n",
       "      <th>4</th>\n",
       "      <td>SVR</td>\n",
       "      <td>non</td>\n",
       "      <td>TotalGHGEmissions</td>\n",
       "      <td>433.66</td>\n",
       "      <td>601.64</td>\n",
       "      <td>0.48</td>\n",
       "      <td>-0.08</td>\n",
       "      <td></td>\n",
       "    </tr>\n",
       "    <tr>\n",
       "      <th>5</th>\n",
       "      <td>BaggingRegressor</td>\n",
       "      <td>LinearRegression</td>\n",
       "      <td>TotalGHGEmissions</td>\n",
       "      <td>601.35</td>\n",
       "      <td>579.26</td>\n",
       "      <td>-0.00</td>\n",
       "      <td>-0.00</td>\n",
       "      <td></td>\n",
       "    </tr>\n",
       "    <tr>\n",
       "      <th>6</th>\n",
       "      <td>BaggingRegressor</td>\n",
       "      <td>SVR</td>\n",
       "      <td>TotalGHGEmissions</td>\n",
       "      <td>565.26</td>\n",
       "      <td>581.93</td>\n",
       "      <td>0.12</td>\n",
       "      <td>-0.01</td>\n",
       "      <td></td>\n",
       "    </tr>\n",
       "    <tr>\n",
       "      <th>7</th>\n",
       "      <td>BaggingRegressor</td>\n",
       "      <td>DecisionTreeRegressor</td>\n",
       "      <td>TotalGHGEmissions</td>\n",
       "      <td>454.98</td>\n",
       "      <td>415.42</td>\n",
       "      <td>0.43</td>\n",
       "      <td>0.49</td>\n",
       "      <td>avec arret précoce</td>\n",
       "    </tr>\n",
       "    <tr>\n",
       "      <th>8</th>\n",
       "      <td>AdaBoostRegressor</td>\n",
       "      <td>LinearRegresssion</td>\n",
       "      <td>TotalGHGEmissions</td>\n",
       "      <td>194.03</td>\n",
       "      <td>319.91</td>\n",
       "      <td>0.90</td>\n",
       "      <td>0.69</td>\n",
       "      <td></td>\n",
       "    </tr>\n",
       "    <tr>\n",
       "      <th>9</th>\n",
       "      <td>AdaBoostRegressor</td>\n",
       "      <td>SVR</td>\n",
       "      <td>TotalGHGEmissions</td>\n",
       "      <td>605.96</td>\n",
       "      <td>584.42</td>\n",
       "      <td>-0.02</td>\n",
       "      <td>-0.02</td>\n",
       "      <td></td>\n",
       "    </tr>\n",
       "    <tr>\n",
       "      <th>10</th>\n",
       "      <td>AdaBoostRegressor</td>\n",
       "      <td>DecisionTreeRegressor</td>\n",
       "      <td>TotalGHGEmissions</td>\n",
       "      <td>41.54</td>\n",
       "      <td>200.14</td>\n",
       "      <td>1.00</td>\n",
       "      <td>0.88</td>\n",
       "      <td></td>\n",
       "    </tr>\n",
       "  </tbody>\n",
       "</table>\n",
       "</div>"
      ],
      "text/plain": [
       "                   Modele            Ensembliste             Target  \\\n",
       "0          DummyRegressor                    non  TotalGHGEmissions   \n",
       "1                   Ridge                    non  TotalGHGEmissions   \n",
       "2        LinearRegression                    non  TotalGHGEmissions   \n",
       "3   DecisionTreeRegressor                    non  TotalGHGEmissions   \n",
       "4                     SVR                    non  TotalGHGEmissions   \n",
       "5        BaggingRegressor       LinearRegression  TotalGHGEmissions   \n",
       "6        BaggingRegressor                    SVR  TotalGHGEmissions   \n",
       "7        BaggingRegressor  DecisionTreeRegressor  TotalGHGEmissions   \n",
       "8       AdaBoostRegressor      LinearRegresssion  TotalGHGEmissions   \n",
       "9       AdaBoostRegressor                    SVR  TotalGHGEmissions   \n",
       "10      AdaBoostRegressor  DecisionTreeRegressor  TotalGHGEmissions   \n",
       "\n",
       "    Train_RMSE  Test_RMSE  Train_R2  Test_R2        Commentaires  \n",
       "0       601.19     579.45      0.00    -0.00                      \n",
       "1       151.44     252.58      0.94     0.81                      \n",
       "2       301.91     420.27      0.75     0.47                      \n",
       "3       396.44     362.85      0.57     0.61                      \n",
       "4       433.66     601.64      0.48    -0.08                      \n",
       "5       601.35     579.26     -0.00    -0.00                      \n",
       "6       565.26     581.93      0.12    -0.01                      \n",
       "7       454.98     415.42      0.43     0.49  avec arret précoce  \n",
       "8       194.03     319.91      0.90     0.69                      \n",
       "9       605.96     584.42     -0.02    -0.02                      \n",
       "10       41.54     200.14      1.00     0.88                      "
      ]
     },
     "execution_count": 87,
     "metadata": {},
     "output_type": "execute_result"
    }
   ],
   "source": [
    "modele.set_params(**gs.best_params_).fit(X_train, y_train)\n",
    "df_summary =summary(modele,df_summary, X_train, X_test, y_train, y_test, ensembliste = \"DecisionTreeRegressor\")\n",
    "df_summary"
   ]
  },
  {
   "cell_type": "code",
   "execution_count": 88,
   "id": "75e43275",
   "metadata": {},
   "outputs": [],
   "source": [
    "y_pred_adaboost_tree = modele.predict(X_test)"
   ]
  },
  {
   "cell_type": "markdown",
   "id": "df691ebd",
   "metadata": {},
   "source": [
    "## 2.2.3 - GradientBoostingRegressor"
   ]
  },
  {
   "cell_type": "code",
   "execution_count": 89,
   "id": "db606629",
   "metadata": {},
   "outputs": [],
   "source": [
    "from sklearn.ensemble import GradientBoostingRegressor\n",
    "#Rappel : par default GBR utilise l'estimator decisionTree (max_depth = 2)\n",
    "gbrt = GradientBoostingRegressor()"
   ]
  },
  {
   "cell_type": "code",
   "execution_count": 90,
   "id": "af516dfb",
   "metadata": {},
   "outputs": [
    {
     "data": {
      "text/plain": [
       "<function sklearn.ensemble._gb.GradientBoostingRegressor.__init__(self, *, loss='squared_error', learning_rate=0.1, n_estimators=100, subsample=1.0, criterion='friedman_mse', min_samples_split=2, min_samples_leaf=1, min_weight_fraction_leaf=0.0, max_depth=3, min_impurity_decrease=0.0, init=None, random_state=None, max_features=None, alpha=0.9, verbose=0, max_leaf_nodes=None, warm_start=False, validation_fraction=0.1, n_iter_no_change=None, tol=0.0001, ccp_alpha=0.0)>"
      ]
     },
     "execution_count": 90,
     "metadata": {},
     "output_type": "execute_result"
    }
   ],
   "source": [
    "#valeur defaut\n",
    "GradientBoostingRegressor.__init__"
   ]
  },
  {
   "cell_type": "code",
   "execution_count": 91,
   "id": "d5067b86",
   "metadata": {},
   "outputs": [],
   "source": [
    "estimateur = GradientBoostingRegressor()\n",
    "modele = Pipeline(steps = \n",
    "                   [\n",
    "                       ('preprocessor', init_o()),\n",
    "                       ( 'estimateur',GradientBoostingRegressor())\n",
    "                   ]\n",
    "                  )"
   ]
  },
  {
   "cell_type": "markdown",
   "id": "c68a7b85",
   "metadata": {},
   "source": [
    "### 2.2.3.2 GridsearchCV"
   ]
  },
  {
   "cell_type": "code",
   "execution_count": 92,
   "id": "a1b730de",
   "metadata": {},
   "outputs": [
    {
     "name": "stdout",
     "output_type": "stream",
     "text": [
      "Fitting 6 folds for each of 24 candidates, totalling 144 fits\n",
      "{'estimateur__learning_rate': 0.8, 'estimateur__max_depth': 2, 'estimateur__min_samples_split': 5, 'estimateur__n_estimators': 210}\n"
     ]
    }
   ],
   "source": [
    "#parametrage\n",
    "param_grid = {'estimateur__n_estimators': [210,220],\n",
    "              'estimateur__max_depth' : range(2,5),\n",
    "              'estimateur__learning_rate' : [0.8,0.9],\n",
    "              'estimateur__min_samples_split': [5,8]}\n",
    "gs=GridSearchCV(modele, param_grid, cv = 6, n_jobs = -1, verbose =1).fit(X_train, y_train)\n",
    "print(gs.best_params_)"
   ]
  },
  {
   "cell_type": "code",
   "execution_count": 93,
   "id": "e8d8d05b",
   "metadata": {},
   "outputs": [],
   "source": [
    "modele.set_params(**gs.best_params_).fit(X_train, y_train)\n",
    "df_summary =summary(modele,df_summary, X_train, X_test, y_train, y_test, ensembliste = \"DecisionTreeRegressor\")"
   ]
  },
  {
   "cell_type": "markdown",
   "id": "d721b617",
   "metadata": {},
   "source": [
    "### 2.2.3.3 - Avec arrets precoce"
   ]
  },
  {
   "cell_type": "code",
   "execution_count": 94,
   "id": "d6472e61",
   "metadata": {},
   "outputs": [],
   "source": [
    "#warm_start \n",
    "min_val_error = float(\"inf\")\n",
    "for n_estimators in range(1,120):\n",
    "    modele.set_params(estimateur__n_estimators = n_estimators)\n",
    "    modele.fit(X_train, y_train)\n",
    "    y_pred = modele.predict(X_test)\n",
    "    val_error = mean_squared_error(y_pred, y_test)\n",
    "    if val_error <= min_val_error:\n",
    "        min_val_error = val_error\n",
    "        error_going_up = 0\n",
    "    else:\n",
    "        error_going_up += 1\n",
    "        if error_going_up == 20:\n",
    "            break #arret precoce"
   ]
  },
  {
   "cell_type": "code",
   "execution_count": 95,
   "id": "387f6266",
   "metadata": {},
   "outputs": [
    {
     "name": "stdout",
     "output_type": "stream",
     "text": [
      "n_estimators = 25 et r2 = 0.7788962383859857\n"
     ]
    }
   ],
   "source": [
    "print(f\"n_estimators = {modele.get_params()['estimateur__n_estimators']} et r2 = {modele.score(X_test, y_test)}\")"
   ]
  },
  {
   "cell_type": "code",
   "execution_count": 96,
   "id": "aa790acd",
   "metadata": {},
   "outputs": [],
   "source": [
    "modele.set_params(estimateur__n_estimators = 26).fit(X_train, y_train)\n",
    "df_summary =summary(modele,df_summary, X_train, X_test, y_train, y_test, ensembliste = \"DecisionTreeRegressor\",\n",
    "                   commentaires = 'arrêt précoce')"
   ]
  },
  {
   "cell_type": "markdown",
   "id": "168309c6",
   "metadata": {},
   "source": [
    "### 2.2.4 - XGBoost (extreme Gradient Boosting)"
   ]
  },
  {
   "cell_type": "code",
   "execution_count": 97,
   "id": "ef3149c5",
   "metadata": {},
   "outputs": [
    {
     "data": {
      "text/plain": [
       "<bound method XGBRegressor.__init__ of XGBRegressor(base_score=None, booster=None, colsample_bylevel=None,\n",
       "             colsample_bynode=None, colsample_bytree=None,\n",
       "             enable_categorical=False, gamma=None, gpu_id=None,\n",
       "             importance_type=None, interaction_constraints=None,\n",
       "             learning_rate=None, max_delta_step=None, max_depth=None,\n",
       "             min_child_weight=None, missing=nan, monotone_constraints=None,\n",
       "             n_estimators=100, n_jobs=None, num_parallel_tree=None,\n",
       "             predictor=None, random_state=None, reg_alpha=None, reg_lambda=None,\n",
       "             scale_pos_weight=None, subsample=None, tree_method=None,\n",
       "             validate_parameters=None, verbosity=None)>"
      ]
     },
     "execution_count": 97,
     "metadata": {},
     "output_type": "execute_result"
    }
   ],
   "source": [
    "import xgboost\n",
    "xgboost.XGBRegressor().__init__"
   ]
  },
  {
   "cell_type": "code",
   "execution_count": 98,
   "id": "d7512db1",
   "metadata": {},
   "outputs": [],
   "source": [
    "modele = Pipeline(steps = \n",
    "                   [\n",
    "                       ('preprocessor', init_o()),\n",
    "                       ( 'estimateur',xgboost.XGBRegressor())\n",
    "                   ]\n",
    "                  )"
   ]
  },
  {
   "cell_type": "code",
   "execution_count": 99,
   "id": "8b940483",
   "metadata": {},
   "outputs": [
    {
     "data": {
      "text/html": [
       "<style>#sk-dd29041f-decf-424f-b897-3c919815d35a {color: black;background-color: white;}#sk-dd29041f-decf-424f-b897-3c919815d35a pre{padding: 0;}#sk-dd29041f-decf-424f-b897-3c919815d35a div.sk-toggleable {background-color: white;}#sk-dd29041f-decf-424f-b897-3c919815d35a label.sk-toggleable__label {cursor: pointer;display: block;width: 100%;margin-bottom: 0;padding: 0.3em;box-sizing: border-box;text-align: center;}#sk-dd29041f-decf-424f-b897-3c919815d35a label.sk-toggleable__label-arrow:before {content: \"▸\";float: left;margin-right: 0.25em;color: #696969;}#sk-dd29041f-decf-424f-b897-3c919815d35a label.sk-toggleable__label-arrow:hover:before {color: black;}#sk-dd29041f-decf-424f-b897-3c919815d35a div.sk-estimator:hover label.sk-toggleable__label-arrow:before {color: black;}#sk-dd29041f-decf-424f-b897-3c919815d35a div.sk-toggleable__content {max-height: 0;max-width: 0;overflow: hidden;text-align: left;background-color: #f0f8ff;}#sk-dd29041f-decf-424f-b897-3c919815d35a div.sk-toggleable__content pre {margin: 0.2em;color: black;border-radius: 0.25em;background-color: #f0f8ff;}#sk-dd29041f-decf-424f-b897-3c919815d35a input.sk-toggleable__control:checked~div.sk-toggleable__content {max-height: 200px;max-width: 100%;overflow: auto;}#sk-dd29041f-decf-424f-b897-3c919815d35a input.sk-toggleable__control:checked~label.sk-toggleable__label-arrow:before {content: \"▾\";}#sk-dd29041f-decf-424f-b897-3c919815d35a div.sk-estimator input.sk-toggleable__control:checked~label.sk-toggleable__label {background-color: #d4ebff;}#sk-dd29041f-decf-424f-b897-3c919815d35a div.sk-label input.sk-toggleable__control:checked~label.sk-toggleable__label {background-color: #d4ebff;}#sk-dd29041f-decf-424f-b897-3c919815d35a input.sk-hidden--visually {border: 0;clip: rect(1px 1px 1px 1px);clip: rect(1px, 1px, 1px, 1px);height: 1px;margin: -1px;overflow: hidden;padding: 0;position: absolute;width: 1px;}#sk-dd29041f-decf-424f-b897-3c919815d35a div.sk-estimator {font-family: monospace;background-color: #f0f8ff;border: 1px dotted black;border-radius: 0.25em;box-sizing: border-box;margin-bottom: 0.5em;}#sk-dd29041f-decf-424f-b897-3c919815d35a div.sk-estimator:hover {background-color: #d4ebff;}#sk-dd29041f-decf-424f-b897-3c919815d35a div.sk-parallel-item::after {content: \"\";width: 100%;border-bottom: 1px solid gray;flex-grow: 1;}#sk-dd29041f-decf-424f-b897-3c919815d35a div.sk-label:hover label.sk-toggleable__label {background-color: #d4ebff;}#sk-dd29041f-decf-424f-b897-3c919815d35a div.sk-serial::before {content: \"\";position: absolute;border-left: 1px solid gray;box-sizing: border-box;top: 2em;bottom: 0;left: 50%;}#sk-dd29041f-decf-424f-b897-3c919815d35a div.sk-serial {display: flex;flex-direction: column;align-items: center;background-color: white;padding-right: 0.2em;padding-left: 0.2em;}#sk-dd29041f-decf-424f-b897-3c919815d35a div.sk-item {z-index: 1;}#sk-dd29041f-decf-424f-b897-3c919815d35a div.sk-parallel {display: flex;align-items: stretch;justify-content: center;background-color: white;}#sk-dd29041f-decf-424f-b897-3c919815d35a div.sk-parallel::before {content: \"\";position: absolute;border-left: 1px solid gray;box-sizing: border-box;top: 2em;bottom: 0;left: 50%;}#sk-dd29041f-decf-424f-b897-3c919815d35a div.sk-parallel-item {display: flex;flex-direction: column;position: relative;background-color: white;}#sk-dd29041f-decf-424f-b897-3c919815d35a div.sk-parallel-item:first-child::after {align-self: flex-end;width: 50%;}#sk-dd29041f-decf-424f-b897-3c919815d35a div.sk-parallel-item:last-child::after {align-self: flex-start;width: 50%;}#sk-dd29041f-decf-424f-b897-3c919815d35a div.sk-parallel-item:only-child::after {width: 0;}#sk-dd29041f-decf-424f-b897-3c919815d35a div.sk-dashed-wrapped {border: 1px dashed gray;margin: 0 0.4em 0.5em 0.4em;box-sizing: border-box;padding-bottom: 0.4em;background-color: white;position: relative;}#sk-dd29041f-decf-424f-b897-3c919815d35a div.sk-label label {font-family: monospace;font-weight: bold;background-color: white;display: inline-block;line-height: 1.2em;}#sk-dd29041f-decf-424f-b897-3c919815d35a div.sk-label-container {position: relative;z-index: 2;text-align: center;}#sk-dd29041f-decf-424f-b897-3c919815d35a div.sk-container {/* jupyter's `normalize.less` sets `[hidden] { display: none; }` but bootstrap.min.css set `[hidden] { display: none !important; }` so we also need the `!important` here to be able to override the default hidden behavior on the sphinx rendered scikit-learn.org. See: https://github.com/scikit-learn/scikit-learn/issues/21755 */display: inline-block !important;position: relative;}#sk-dd29041f-decf-424f-b897-3c919815d35a div.sk-text-repr-fallback {display: none;}</style><div id=\"sk-dd29041f-decf-424f-b897-3c919815d35a\" class=\"sk-top-container\"><div class=\"sk-text-repr-fallback\"><pre>Pipeline(steps=[(&#x27;preprocessor&#x27;,\n",
       "                 ColumnTransformer(sparse_threshold=0,\n",
       "                                   transformers=[(&#x27;passthrough_numeric&#x27;,\n",
       "                                                  &#x27;passthrough&#x27;,\n",
       "                                                  [&#x27;LargestPropertyUseTypeGFA&#x27;,\n",
       "                                                   &#x27;SecondLargestPropertyUseTypeGFA&#x27;,\n",
       "                                                   &#x27;ThirdLargestPropertyUseTypeGFA&#x27;,\n",
       "                                                   &#x27;Electricity_p&#x27;,\n",
       "                                                   &#x27;NaturalGaz_p&#x27;, &#x27;Latitude&#x27;,\n",
       "                                                   &#x27;Longitude&#x27;,\n",
       "                                                   &#x27;NonResidentialGFA&#x27;,\n",
       "                                                   &#x27;PropertyGFAParking&#x27;,\n",
       "                                                   &#x27;PropertyGFABuilding(s)&#x27;]),\n",
       "                                                 (&#x27;cat_t&#x27;,\n",
       "                                                  One...\n",
       "                              gamma=0, gpu_id=-1, importance_type=None,\n",
       "                              interaction_constraints=&#x27;&#x27;,\n",
       "                              learning_rate=0.300000012, max_delta_step=0,\n",
       "                              max_depth=6, min_child_weight=1, missing=nan,\n",
       "                              monotone_constraints=&#x27;()&#x27;, n_estimators=100,\n",
       "                              n_jobs=8, num_parallel_tree=1, predictor=&#x27;auto&#x27;,\n",
       "                              random_state=0, reg_alpha=0, reg_lambda=1,\n",
       "                              scale_pos_weight=1, subsample=1,\n",
       "                              tree_method=&#x27;exact&#x27;, validate_parameters=1,\n",
       "                              verbosity=None))])</pre><b>Please rerun this cell to show the HTML repr or trust the notebook.</b></div><div class=\"sk-container\" hidden><div class=\"sk-item sk-dashed-wrapped\"><div class=\"sk-label-container\"><div class=\"sk-label sk-toggleable\"><input class=\"sk-toggleable__control sk-hidden--visually\" id=\"cb10da8d-cccb-4cc0-b961-c0aa6af9121c\" type=\"checkbox\" ><label for=\"cb10da8d-cccb-4cc0-b961-c0aa6af9121c\" class=\"sk-toggleable__label sk-toggleable__label-arrow\">Pipeline</label><div class=\"sk-toggleable__content\"><pre>Pipeline(steps=[(&#x27;preprocessor&#x27;,\n",
       "                 ColumnTransformer(sparse_threshold=0,\n",
       "                                   transformers=[(&#x27;passthrough_numeric&#x27;,\n",
       "                                                  &#x27;passthrough&#x27;,\n",
       "                                                  [&#x27;LargestPropertyUseTypeGFA&#x27;,\n",
       "                                                   &#x27;SecondLargestPropertyUseTypeGFA&#x27;,\n",
       "                                                   &#x27;ThirdLargestPropertyUseTypeGFA&#x27;,\n",
       "                                                   &#x27;Electricity_p&#x27;,\n",
       "                                                   &#x27;NaturalGaz_p&#x27;, &#x27;Latitude&#x27;,\n",
       "                                                   &#x27;Longitude&#x27;,\n",
       "                                                   &#x27;NonResidentialGFA&#x27;,\n",
       "                                                   &#x27;PropertyGFAParking&#x27;,\n",
       "                                                   &#x27;PropertyGFABuilding(s)&#x27;]),\n",
       "                                                 (&#x27;cat_t&#x27;,\n",
       "                                                  One...\n",
       "                              gamma=0, gpu_id=-1, importance_type=None,\n",
       "                              interaction_constraints=&#x27;&#x27;,\n",
       "                              learning_rate=0.300000012, max_delta_step=0,\n",
       "                              max_depth=6, min_child_weight=1, missing=nan,\n",
       "                              monotone_constraints=&#x27;()&#x27;, n_estimators=100,\n",
       "                              n_jobs=8, num_parallel_tree=1, predictor=&#x27;auto&#x27;,\n",
       "                              random_state=0, reg_alpha=0, reg_lambda=1,\n",
       "                              scale_pos_weight=1, subsample=1,\n",
       "                              tree_method=&#x27;exact&#x27;, validate_parameters=1,\n",
       "                              verbosity=None))])</pre></div></div></div><div class=\"sk-serial\"><div class=\"sk-item sk-dashed-wrapped\"><div class=\"sk-label-container\"><div class=\"sk-label sk-toggleable\"><input class=\"sk-toggleable__control sk-hidden--visually\" id=\"7dea7f18-3caa-46c1-885f-419bcc62c76a\" type=\"checkbox\" ><label for=\"7dea7f18-3caa-46c1-885f-419bcc62c76a\" class=\"sk-toggleable__label sk-toggleable__label-arrow\">preprocessor: ColumnTransformer</label><div class=\"sk-toggleable__content\"><pre>ColumnTransformer(sparse_threshold=0,\n",
       "                  transformers=[(&#x27;passthrough_numeric&#x27;, &#x27;passthrough&#x27;,\n",
       "                                 [&#x27;LargestPropertyUseTypeGFA&#x27;,\n",
       "                                  &#x27;SecondLargestPropertyUseTypeGFA&#x27;,\n",
       "                                  &#x27;ThirdLargestPropertyUseTypeGFA&#x27;,\n",
       "                                  &#x27;Electricity_p&#x27;, &#x27;NaturalGaz_p&#x27;, &#x27;Latitude&#x27;,\n",
       "                                  &#x27;Longitude&#x27;, &#x27;NonResidentialGFA&#x27;,\n",
       "                                  &#x27;PropertyGFAParking&#x27;,\n",
       "                                  &#x27;PropertyGFABuilding(s)&#x27;]),\n",
       "                                (&#x27;cat_t&#x27;,\n",
       "                                 OneHotEncoder(handle_unknown=&#x27;ignore&#x27;),\n",
       "                                 [&#x27;PrimaryPropertyType&#x27;, &#x27;BuildingType&#x27;,\n",
       "                                  &#x27;LargestPropertyUseType&#x27;])],\n",
       "                  verbose_feature_names_out=False)</pre></div></div></div><div class=\"sk-parallel\"><div class=\"sk-parallel-item\"><div class=\"sk-item\"><div class=\"sk-label-container\"><div class=\"sk-label sk-toggleable\"><input class=\"sk-toggleable__control sk-hidden--visually\" id=\"a4874cc2-531a-4a11-99d2-f01871d446d7\" type=\"checkbox\" ><label for=\"a4874cc2-531a-4a11-99d2-f01871d446d7\" class=\"sk-toggleable__label sk-toggleable__label-arrow\">passthrough_numeric</label><div class=\"sk-toggleable__content\"><pre>[&#x27;LargestPropertyUseTypeGFA&#x27;, &#x27;SecondLargestPropertyUseTypeGFA&#x27;, &#x27;ThirdLargestPropertyUseTypeGFA&#x27;, &#x27;Electricity_p&#x27;, &#x27;NaturalGaz_p&#x27;, &#x27;Latitude&#x27;, &#x27;Longitude&#x27;, &#x27;NonResidentialGFA&#x27;, &#x27;PropertyGFAParking&#x27;, &#x27;PropertyGFABuilding(s)&#x27;]</pre></div></div></div><div class=\"sk-serial\"><div class=\"sk-item\"><div class=\"sk-estimator sk-toggleable\"><input class=\"sk-toggleable__control sk-hidden--visually\" id=\"1a174a28-b253-4498-a461-97223b1ac701\" type=\"checkbox\" ><label for=\"1a174a28-b253-4498-a461-97223b1ac701\" class=\"sk-toggleable__label sk-toggleable__label-arrow\">passthrough</label><div class=\"sk-toggleable__content\"><pre>passthrough</pre></div></div></div></div></div></div><div class=\"sk-parallel-item\"><div class=\"sk-item\"><div class=\"sk-label-container\"><div class=\"sk-label sk-toggleable\"><input class=\"sk-toggleable__control sk-hidden--visually\" id=\"61bbd271-e953-4c6a-9200-f5d014ced129\" type=\"checkbox\" ><label for=\"61bbd271-e953-4c6a-9200-f5d014ced129\" class=\"sk-toggleable__label sk-toggleable__label-arrow\">cat_t</label><div class=\"sk-toggleable__content\"><pre>[&#x27;PrimaryPropertyType&#x27;, &#x27;BuildingType&#x27;, &#x27;LargestPropertyUseType&#x27;]</pre></div></div></div><div class=\"sk-serial\"><div class=\"sk-item\"><div class=\"sk-estimator sk-toggleable\"><input class=\"sk-toggleable__control sk-hidden--visually\" id=\"5ef00da1-794c-430d-93ae-e248d77af15b\" type=\"checkbox\" ><label for=\"5ef00da1-794c-430d-93ae-e248d77af15b\" class=\"sk-toggleable__label sk-toggleable__label-arrow\">OneHotEncoder</label><div class=\"sk-toggleable__content\"><pre>OneHotEncoder(handle_unknown=&#x27;ignore&#x27;)</pre></div></div></div></div></div></div></div></div><div class=\"sk-item\"><div class=\"sk-estimator sk-toggleable\"><input class=\"sk-toggleable__control sk-hidden--visually\" id=\"3314b273-8b0c-40e2-bd0c-71d2fd2e23c7\" type=\"checkbox\" ><label for=\"3314b273-8b0c-40e2-bd0c-71d2fd2e23c7\" class=\"sk-toggleable__label sk-toggleable__label-arrow\">XGBRegressor</label><div class=\"sk-toggleable__content\"><pre>XGBRegressor(base_score=0.5, booster=&#x27;gbtree&#x27;, colsample_bylevel=1,\n",
       "             colsample_bynode=1, colsample_bytree=1, enable_categorical=False,\n",
       "             gamma=0, gpu_id=-1, importance_type=None,\n",
       "             interaction_constraints=&#x27;&#x27;, learning_rate=0.300000012,\n",
       "             max_delta_step=0, max_depth=6, min_child_weight=1, missing=nan,\n",
       "             monotone_constraints=&#x27;()&#x27;, n_estimators=100, n_jobs=8,\n",
       "             num_parallel_tree=1, predictor=&#x27;auto&#x27;, random_state=0, reg_alpha=0,\n",
       "             reg_lambda=1, scale_pos_weight=1, subsample=1, tree_method=&#x27;exact&#x27;,\n",
       "             validate_parameters=1, verbosity=None)</pre></div></div></div></div></div></div></div>"
      ],
      "text/plain": [
       "Pipeline(steps=[('preprocessor',\n",
       "                 ColumnTransformer(sparse_threshold=0,\n",
       "                                   transformers=[('passthrough_numeric',\n",
       "                                                  'passthrough',\n",
       "                                                  ['LargestPropertyUseTypeGFA',\n",
       "                                                   'SecondLargestPropertyUseTypeGFA',\n",
       "                                                   'ThirdLargestPropertyUseTypeGFA',\n",
       "                                                   'Electricity_p',\n",
       "                                                   'NaturalGaz_p', 'Latitude',\n",
       "                                                   'Longitude',\n",
       "                                                   'NonResidentialGFA',\n",
       "                                                   'PropertyGFAParking',\n",
       "                                                   'PropertyGFABuilding(s)']),\n",
       "                                                 ('cat_t',\n",
       "                                                  One...\n",
       "                              gamma=0, gpu_id=-1, importance_type=None,\n",
       "                              interaction_constraints='',\n",
       "                              learning_rate=0.300000012, max_delta_step=0,\n",
       "                              max_depth=6, min_child_weight=1, missing=nan,\n",
       "                              monotone_constraints='()', n_estimators=100,\n",
       "                              n_jobs=8, num_parallel_tree=1, predictor='auto',\n",
       "                              random_state=0, reg_alpha=0, reg_lambda=1,\n",
       "                              scale_pos_weight=1, subsample=1,\n",
       "                              tree_method='exact', validate_parameters=1,\n",
       "                              verbosity=None))])"
      ]
     },
     "execution_count": 99,
     "metadata": {},
     "output_type": "execute_result"
    }
   ],
   "source": [
    "modele.fit(X_train, y_train)"
   ]
  },
  {
   "cell_type": "code",
   "execution_count": 100,
   "id": "eba28010",
   "metadata": {
    "scrolled": false
   },
   "outputs": [
    {
     "data": {
      "text/html": [
       "<div>\n",
       "<style scoped>\n",
       "    .dataframe tbody tr th:only-of-type {\n",
       "        vertical-align: middle;\n",
       "    }\n",
       "\n",
       "    .dataframe tbody tr th {\n",
       "        vertical-align: top;\n",
       "    }\n",
       "\n",
       "    .dataframe thead th {\n",
       "        text-align: right;\n",
       "    }\n",
       "</style>\n",
       "<table border=\"1\" class=\"dataframe\">\n",
       "  <thead>\n",
       "    <tr style=\"text-align: right;\">\n",
       "      <th></th>\n",
       "      <th>Modele</th>\n",
       "      <th>Ensembliste</th>\n",
       "      <th>Target</th>\n",
       "      <th>Train_RMSE</th>\n",
       "      <th>Test_RMSE</th>\n",
       "      <th>Train_R2</th>\n",
       "      <th>Test_R2</th>\n",
       "      <th>Commentaires</th>\n",
       "    </tr>\n",
       "  </thead>\n",
       "  <tbody>\n",
       "    <tr>\n",
       "      <th>0</th>\n",
       "      <td>DummyRegressor</td>\n",
       "      <td>non</td>\n",
       "      <td>TotalGHGEmissions</td>\n",
       "      <td>601.19</td>\n",
       "      <td>579.45</td>\n",
       "      <td>0.00</td>\n",
       "      <td>-0.00</td>\n",
       "      <td></td>\n",
       "    </tr>\n",
       "    <tr>\n",
       "      <th>1</th>\n",
       "      <td>Ridge</td>\n",
       "      <td>non</td>\n",
       "      <td>TotalGHGEmissions</td>\n",
       "      <td>151.44</td>\n",
       "      <td>252.58</td>\n",
       "      <td>0.94</td>\n",
       "      <td>0.81</td>\n",
       "      <td></td>\n",
       "    </tr>\n",
       "    <tr>\n",
       "      <th>2</th>\n",
       "      <td>LinearRegression</td>\n",
       "      <td>non</td>\n",
       "      <td>TotalGHGEmissions</td>\n",
       "      <td>301.91</td>\n",
       "      <td>420.27</td>\n",
       "      <td>0.75</td>\n",
       "      <td>0.47</td>\n",
       "      <td></td>\n",
       "    </tr>\n",
       "    <tr>\n",
       "      <th>3</th>\n",
       "      <td>DecisionTreeRegressor</td>\n",
       "      <td>non</td>\n",
       "      <td>TotalGHGEmissions</td>\n",
       "      <td>396.44</td>\n",
       "      <td>362.85</td>\n",
       "      <td>0.57</td>\n",
       "      <td>0.61</td>\n",
       "      <td></td>\n",
       "    </tr>\n",
       "    <tr>\n",
       "      <th>4</th>\n",
       "      <td>SVR</td>\n",
       "      <td>non</td>\n",
       "      <td>TotalGHGEmissions</td>\n",
       "      <td>433.66</td>\n",
       "      <td>601.64</td>\n",
       "      <td>0.48</td>\n",
       "      <td>-0.08</td>\n",
       "      <td></td>\n",
       "    </tr>\n",
       "    <tr>\n",
       "      <th>5</th>\n",
       "      <td>BaggingRegressor</td>\n",
       "      <td>LinearRegression</td>\n",
       "      <td>TotalGHGEmissions</td>\n",
       "      <td>601.35</td>\n",
       "      <td>579.26</td>\n",
       "      <td>-0.00</td>\n",
       "      <td>-0.00</td>\n",
       "      <td></td>\n",
       "    </tr>\n",
       "    <tr>\n",
       "      <th>6</th>\n",
       "      <td>BaggingRegressor</td>\n",
       "      <td>SVR</td>\n",
       "      <td>TotalGHGEmissions</td>\n",
       "      <td>565.26</td>\n",
       "      <td>581.93</td>\n",
       "      <td>0.12</td>\n",
       "      <td>-0.01</td>\n",
       "      <td></td>\n",
       "    </tr>\n",
       "    <tr>\n",
       "      <th>7</th>\n",
       "      <td>BaggingRegressor</td>\n",
       "      <td>DecisionTreeRegressor</td>\n",
       "      <td>TotalGHGEmissions</td>\n",
       "      <td>454.98</td>\n",
       "      <td>415.42</td>\n",
       "      <td>0.43</td>\n",
       "      <td>0.49</td>\n",
       "      <td>avec arret précoce</td>\n",
       "    </tr>\n",
       "    <tr>\n",
       "      <th>8</th>\n",
       "      <td>AdaBoostRegressor</td>\n",
       "      <td>LinearRegresssion</td>\n",
       "      <td>TotalGHGEmissions</td>\n",
       "      <td>194.03</td>\n",
       "      <td>319.91</td>\n",
       "      <td>0.90</td>\n",
       "      <td>0.69</td>\n",
       "      <td></td>\n",
       "    </tr>\n",
       "    <tr>\n",
       "      <th>9</th>\n",
       "      <td>AdaBoostRegressor</td>\n",
       "      <td>SVR</td>\n",
       "      <td>TotalGHGEmissions</td>\n",
       "      <td>605.96</td>\n",
       "      <td>584.42</td>\n",
       "      <td>-0.02</td>\n",
       "      <td>-0.02</td>\n",
       "      <td></td>\n",
       "    </tr>\n",
       "    <tr>\n",
       "      <th>10</th>\n",
       "      <td>AdaBoostRegressor</td>\n",
       "      <td>DecisionTreeRegressor</td>\n",
       "      <td>TotalGHGEmissions</td>\n",
       "      <td>41.54</td>\n",
       "      <td>200.14</td>\n",
       "      <td>1.00</td>\n",
       "      <td>0.88</td>\n",
       "      <td></td>\n",
       "    </tr>\n",
       "    <tr>\n",
       "      <th>11</th>\n",
       "      <td>GradientBoostingRegressor</td>\n",
       "      <td>DecisionTreeRegressor</td>\n",
       "      <td>TotalGHGEmissions</td>\n",
       "      <td>25.84</td>\n",
       "      <td>276.45</td>\n",
       "      <td>1.00</td>\n",
       "      <td>0.77</td>\n",
       "      <td></td>\n",
       "    </tr>\n",
       "    <tr>\n",
       "      <th>12</th>\n",
       "      <td>GradientBoostingRegressor</td>\n",
       "      <td>DecisionTreeRegressor</td>\n",
       "      <td>TotalGHGEmissions</td>\n",
       "      <td>89.96</td>\n",
       "      <td>280.27</td>\n",
       "      <td>0.98</td>\n",
       "      <td>0.77</td>\n",
       "      <td>arrêt précoce</td>\n",
       "    </tr>\n",
       "    <tr>\n",
       "      <th>13</th>\n",
       "      <td>XGBRegressor</td>\n",
       "      <td>DecisionTreeRegressor</td>\n",
       "      <td>TotalGHGEmissions</td>\n",
       "      <td>14.30</td>\n",
       "      <td>361.45</td>\n",
       "      <td>1.00</td>\n",
       "      <td>0.61</td>\n",
       "      <td></td>\n",
       "    </tr>\n",
       "  </tbody>\n",
       "</table>\n",
       "</div>"
      ],
      "text/plain": [
       "                       Modele            Ensembliste             Target  \\\n",
       "0              DummyRegressor                    non  TotalGHGEmissions   \n",
       "1                       Ridge                    non  TotalGHGEmissions   \n",
       "2            LinearRegression                    non  TotalGHGEmissions   \n",
       "3       DecisionTreeRegressor                    non  TotalGHGEmissions   \n",
       "4                         SVR                    non  TotalGHGEmissions   \n",
       "5            BaggingRegressor       LinearRegression  TotalGHGEmissions   \n",
       "6            BaggingRegressor                    SVR  TotalGHGEmissions   \n",
       "7            BaggingRegressor  DecisionTreeRegressor  TotalGHGEmissions   \n",
       "8           AdaBoostRegressor      LinearRegresssion  TotalGHGEmissions   \n",
       "9           AdaBoostRegressor                    SVR  TotalGHGEmissions   \n",
       "10          AdaBoostRegressor  DecisionTreeRegressor  TotalGHGEmissions   \n",
       "11  GradientBoostingRegressor  DecisionTreeRegressor  TotalGHGEmissions   \n",
       "12  GradientBoostingRegressor  DecisionTreeRegressor  TotalGHGEmissions   \n",
       "13               XGBRegressor  DecisionTreeRegressor  TotalGHGEmissions   \n",
       "\n",
       "    Train_RMSE  Test_RMSE  Train_R2  Test_R2        Commentaires  \n",
       "0       601.19     579.45      0.00    -0.00                      \n",
       "1       151.44     252.58      0.94     0.81                      \n",
       "2       301.91     420.27      0.75     0.47                      \n",
       "3       396.44     362.85      0.57     0.61                      \n",
       "4       433.66     601.64      0.48    -0.08                      \n",
       "5       601.35     579.26     -0.00    -0.00                      \n",
       "6       565.26     581.93      0.12    -0.01                      \n",
       "7       454.98     415.42      0.43     0.49  avec arret précoce  \n",
       "8       194.03     319.91      0.90     0.69                      \n",
       "9       605.96     584.42     -0.02    -0.02                      \n",
       "10       41.54     200.14      1.00     0.88                      \n",
       "11       25.84     276.45      1.00     0.77                      \n",
       "12       89.96     280.27      0.98     0.77       arrêt précoce  \n",
       "13       14.30     361.45      1.00     0.61                      "
      ]
     },
     "execution_count": 100,
     "metadata": {},
     "output_type": "execute_result"
    }
   ],
   "source": [
    "df_summary =summary(modele,df_summary, X_train, X_test, y_train, y_test, ensembliste = \"DecisionTreeRegressor\")\n",
    "df_summary"
   ]
  },
  {
   "cell_type": "code",
   "execution_count": 122,
   "id": "5c330b50",
   "metadata": {
    "scrolled": false
   },
   "outputs": [
    {
     "data": {
      "image/png": "[encoded data removed]",
      "text/plain": [
       "<Figure size 1000x1500 with 4 Axes>"
      ]
     },
     "metadata": {},
     "output_type": "display_data"
    }
   ],
   "source": [
    "fig, ax = plt.subplots(4,1,figsize = (10,15))\n",
    "sns.lineplot(x=pd.Series(y_test).index, y= y_test, color ='grey', label ='y_test',linewidth=0.3, ax =ax[0])\n",
    "sns.lineplot(x=pd.Series(y_test).index, y= y_test, color ='grey', label ='y_test',linewidth=0.3, ax =ax[1])\n",
    "sns.lineplot(x=pd.Series(y_test).index, y= y_test, color ='grey', label ='y_test',linewidth=0.3, ax =ax[2])\n",
    "sns.lineplot(x=pd.Series(y_test).index, y= y_test, color ='grey', label ='y_test',linewidth=0.3, ax =ax[3])\n",
    "sns.lineplot(x=pd.Series(y_test).index, y = y_pred_dummy, dashes = True,color = sns_c[0], label ='dummy', ax=ax[0])\n",
    "sns.lineplot(x=pd.Series(y_test).index, y = y_pred_ridge, color = sns_c[0], label ='ridge',linewidth=0.4, ax=ax[1])\n",
    "sns.lineplot(x=pd.Series(y_test).index, y = y_pred_linear, color = sns_c[5], label ='linear',linewidth=0.4, ax=ax[2])\n",
    "sns.lineplot(x=pd.Series(y_test).index, y = y_pred_adaboost_linear, color = sns_c[3], label ='adaboost_linear',linewidth=0.4, ax=ax[2])\n",
    "sns.lineplot(x=pd.Series(y_test).index, y = y_pred_tree, color = sns_c[4], label ='decision tree',linewidth=0.4, ax=ax[3])\n",
    "sns.lineplot(x=pd.Series(y_test).index, y = y_pred_adaboost_tree, color = sns_c[5], label ='adaboost tree',linewidth=0.4, ax=ax[3])\n",
    "for i in range(4):\n",
    "    ax[i].set_ylim(0, 2000)"
   ]
  },
  {
   "cell_type": "code",
   "execution_count": 124,
   "id": "697f4276",
   "metadata": {
    "scrolled": false
   },
   "outputs": [
    {
     "data": {
      "text/html": [
       "<div>\n",
       "<style scoped>\n",
       "    .dataframe tbody tr th:only-of-type {\n",
       "        vertical-align: middle;\n",
       "    }\n",
       "\n",
       "    .dataframe tbody tr th {\n",
       "        vertical-align: top;\n",
       "    }\n",
       "\n",
       "    .dataframe thead th {\n",
       "        text-align: right;\n",
       "    }\n",
       "</style>\n",
       "<table border=\"1\" class=\"dataframe\">\n",
       "  <thead>\n",
       "    <tr style=\"text-align: right;\">\n",
       "      <th></th>\n",
       "      <th>Modele</th>\n",
       "      <th>Ensembliste</th>\n",
       "      <th>Train_RMSE</th>\n",
       "      <th>Test_RMSE</th>\n",
       "      <th>Train_R2</th>\n",
       "      <th>Test_R2</th>\n",
       "      <th>Commentaires</th>\n",
       "    </tr>\n",
       "  </thead>\n",
       "  <tbody>\n",
       "    <tr>\n",
       "      <th>11</th>\n",
       "      <td>GradientBoostingRegressor</td>\n",
       "      <td>DecisionTreeRegressor</td>\n",
       "      <td>25.84</td>\n",
       "      <td>276.45</td>\n",
       "      <td>1.00</td>\n",
       "      <td>0.77</td>\n",
       "      <td></td>\n",
       "    </tr>\n",
       "    <tr>\n",
       "      <th>12</th>\n",
       "      <td>GradientBoostingRegressor</td>\n",
       "      <td>DecisionTreeRegressor</td>\n",
       "      <td>89.96</td>\n",
       "      <td>280.27</td>\n",
       "      <td>0.98</td>\n",
       "      <td>0.77</td>\n",
       "      <td>arrêt précoce</td>\n",
       "    </tr>\n",
       "    <tr>\n",
       "      <th>13</th>\n",
       "      <td>XGBRegressor</td>\n",
       "      <td>DecisionTreeRegressor</td>\n",
       "      <td>14.30</td>\n",
       "      <td>361.45</td>\n",
       "      <td>1.00</td>\n",
       "      <td>0.61</td>\n",
       "      <td></td>\n",
       "    </tr>\n",
       "  </tbody>\n",
       "</table>\n",
       "</div>"
      ],
      "text/plain": [
       "                       Modele            Ensembliste  Train_RMSE  Test_RMSE  \\\n",
       "11  GradientBoostingRegressor  DecisionTreeRegressor       25.84     276.45   \n",
       "12  GradientBoostingRegressor  DecisionTreeRegressor       89.96     280.27   \n",
       "13               XGBRegressor  DecisionTreeRegressor       14.30     361.45   \n",
       "\n",
       "    Train_R2  Test_R2   Commentaires  \n",
       "11      1.00     0.77                 \n",
       "12      0.98     0.77  arrêt précoce  \n",
       "13      1.00     0.61                 "
      ]
     },
     "execution_count": 124,
     "metadata": {},
     "output_type": "execute_result"
    }
   ],
   "source": [
    "cond = df_summary['Modele'] == 'BaggingRegressor'\n",
    "df_summary.iloc[[11,12,13],[0,1,3,4,5,6,7]]"
   ]
  },
  {
   "cell_type": "markdown",
   "id": "fe316df5",
   "metadata": {},
   "source": [
    "## B - Consommation energetique"
   ]
  },
  {
   "cell_type": "markdown",
   "id": "4511bf3f",
   "metadata": {},
   "source": [
    "## 1.2 - Selection des variables "
   ]
  },
  {
   "cell_type": "code",
   "execution_count": 125,
   "id": "72540845",
   "metadata": {},
   "outputs": [],
   "source": [
    "target = df['SourceEUIWN(kBtu/sf)']"
   ]
  },
  {
   "cell_type": "markdown",
   "id": "c014f89e",
   "metadata": {},
   "source": [
    "### Variables Explicatives"
   ]
  },
  {
   "cell_type": "code",
   "execution_count": 126,
   "id": "ed5382f2",
   "metadata": {},
   "outputs": [],
   "source": [
    "num_features = [\n",
    "    'LargestPropertyUseTypeGFA',\n",
    "    'SecondLargestPropertyUseTypeGFA',\n",
    "    'ThirdLargestPropertyUseTypeGFA',\n",
    "    'Electricity_p',\n",
    "    'NaturalGaz_p',\n",
    "    'Latitude',\n",
    "    'Longitude',\n",
    "    'NonResidentialGFA',\n",
    "    'PropertyGFAParking',\n",
    "    'PropertyGFABuilding(s)',\n",
    "    'NumberofBuildings',\n",
    "    'NumberofFloors',\n",
    "    'ratio_Site_Source_WN'\n",
    "]\n",
    "\n",
    "num_bin_features =  ['NumberofBuildings']\n",
    "\n",
    "cat_features = [\n",
    "    'PrimaryPropertyType',\n",
    "    'BuildingType',\n",
    "    'LargestPropertyUseType'\n",
    "]"
   ]
  },
  {
   "cell_type": "markdown",
   "id": "37a14dd5",
   "metadata": {},
   "source": [
    "### 1.3.4 - Séparation de la base de donnée"
   ]
  },
  {
   "cell_type": "code",
   "execution_count": 127,
   "id": "42e3d6ee",
   "metadata": {},
   "outputs": [],
   "source": [
    "#creation d'une colonne pour stratifier la séparation entre le jeu d'entrainement et de test\n",
    "df['SourceEUIWN_qt'] = pd.qcut(df['SourceEUIWN(kBtu/sf)'],3)"
   ]
  },
  {
   "cell_type": "code",
   "execution_count": 128,
   "id": "2e33f858",
   "metadata": {},
   "outputs": [],
   "source": [
    "#Séparation des observations entre train et test\n",
    "X_train, X_test, y_train, y_test = train_test_split(df[num_features + cat_features],df['SourceEUIWN(kBtu/sf)'].values ,test_size =0.5, random_state =18,\n",
    "                                     stratify = df['GHGEmissionsIntensity_qt'])"
   ]
  },
  {
   "cell_type": "code",
   "execution_count": 129,
   "id": "16304efd",
   "metadata": {},
   "outputs": [
    {
     "data": {
      "text/html": [
       "<div>\n",
       "<style scoped>\n",
       "    .dataframe tbody tr th:only-of-type {\n",
       "        vertical-align: middle;\n",
       "    }\n",
       "\n",
       "    .dataframe tbody tr th {\n",
       "        vertical-align: top;\n",
       "    }\n",
       "\n",
       "    .dataframe thead th {\n",
       "        text-align: right;\n",
       "    }\n",
       "</style>\n",
       "<table border=\"1\" class=\"dataframe\">\n",
       "  <thead>\n",
       "    <tr style=\"text-align: right;\">\n",
       "      <th></th>\n",
       "      <th>Modele</th>\n",
       "      <th>Ensembliste</th>\n",
       "      <th>Target</th>\n",
       "      <th>Train_RMSE</th>\n",
       "      <th>Test_RMSE</th>\n",
       "      <th>Train_R2</th>\n",
       "      <th>Test_R2</th>\n",
       "      <th>Commentaires</th>\n",
       "    </tr>\n",
       "  </thead>\n",
       "  <tbody>\n",
       "  </tbody>\n",
       "</table>\n",
       "</div>"
      ],
      "text/plain": [
       "Empty DataFrame\n",
       "Columns: [Modele, Ensembliste, Target, Train_RMSE, Test_RMSE, Train_R2, Test_R2, Commentaires]\n",
       "Index: []"
      ]
     },
     "execution_count": 129,
     "metadata": {},
     "output_type": "execute_result"
    }
   ],
   "source": [
    "#Creation de la dataframe Summary\n",
    "df_summary = pd.DataFrame(columns = ['Modele','Ensembliste','Target','Train_RMSE','Test_RMSE','Train_R2',\n",
    "            'Test_R2', 'Commentaires'])\n",
    "df_summary"
   ]
  },
  {
   "cell_type": "markdown",
   "id": "1ab7b85e",
   "metadata": {},
   "source": [
    "# 2 - Les modeles"
   ]
  },
  {
   "cell_type": "markdown",
   "id": "bb4140a7",
   "metadata": {},
   "source": [
    "## 2.1 Les modeles simple"
   ]
  },
  {
   "cell_type": "code",
   "execution_count": 130,
   "id": "d39cb347",
   "metadata": {},
   "outputs": [],
   "source": [
    "dummy_reg = Pipeline(\n",
    "    [\n",
    "        (\"preprocessor\", init_spo()),\n",
    "        (\"regressor\", DummyRegressor(strategy=\"mean\"))\n",
    "    ]\n",
    ")"
   ]
  },
  {
   "cell_type": "code",
   "execution_count": 131,
   "id": "b9e17498",
   "metadata": {},
   "outputs": [
    {
     "data": {
      "text/html": [
       "<div>\n",
       "<style scoped>\n",
       "    .dataframe tbody tr th:only-of-type {\n",
       "        vertical-align: middle;\n",
       "    }\n",
       "\n",
       "    .dataframe tbody tr th {\n",
       "        vertical-align: top;\n",
       "    }\n",
       "\n",
       "    .dataframe thead th {\n",
       "        text-align: right;\n",
       "    }\n",
       "</style>\n",
       "<table border=\"1\" class=\"dataframe\">\n",
       "  <thead>\n",
       "    <tr style=\"text-align: right;\">\n",
       "      <th></th>\n",
       "      <th>Modele</th>\n",
       "      <th>Ensembliste</th>\n",
       "      <th>Target</th>\n",
       "      <th>Train_RMSE</th>\n",
       "      <th>Test_RMSE</th>\n",
       "      <th>Train_R2</th>\n",
       "      <th>Test_R2</th>\n",
       "      <th>Commentaires</th>\n",
       "    </tr>\n",
       "  </thead>\n",
       "  <tbody>\n",
       "    <tr>\n",
       "      <th>0</th>\n",
       "      <td>DummyRegressor</td>\n",
       "      <td>non</td>\n",
       "      <td>TotalGHGEmissions</td>\n",
       "      <td>154.78</td>\n",
       "      <td>160.48</td>\n",
       "      <td>0.0</td>\n",
       "      <td>-0.0</td>\n",
       "      <td></td>\n",
       "    </tr>\n",
       "  </tbody>\n",
       "</table>\n",
       "</div>"
      ],
      "text/plain": [
       "           Modele Ensembliste             Target  Train_RMSE  Test_RMSE  \\\n",
       "0  DummyRegressor         non  TotalGHGEmissions      154.78     160.48   \n",
       "\n",
       "   Train_R2  Test_R2 Commentaires  \n",
       "0       0.0     -0.0               "
      ]
     },
     "execution_count": 131,
     "metadata": {},
     "output_type": "execute_result"
    }
   ],
   "source": [
    "dummy_reg_TE = clone(dummy_reg).fit(X_train, y_train)\n",
    "df_summary =summary(dummy_reg_TE,df_summary, X_train, X_test, y_train, y_test)\n",
    "df_summary"
   ]
  },
  {
   "cell_type": "markdown",
   "id": "e3b50894",
   "metadata": {},
   "source": [
    "### 2.2 - Ridge"
   ]
  },
  {
   "cell_type": "code",
   "execution_count": 132,
   "id": "1e06330e",
   "metadata": {},
   "outputs": [],
   "source": [
    "ridge_reg = Pipeline(\n",
    "    [\n",
    "        (\"preprocessor\", init_spo()),\n",
    "        (\"regressor\", Ridge())\n",
    "    ]\n",
    ")"
   ]
  },
  {
   "cell_type": "code",
   "execution_count": 133,
   "id": "a95909e1",
   "metadata": {},
   "outputs": [
    {
     "name": "stderr",
     "output_type": "stream",
     "text": [
      "/home/bryan/anaconda3/envs/KeFlow/lib/python3.7/site-packages/sklearn/linear_model/_ridge.py:157: LinAlgWarning: Ill-conditioned matrix (rcond=1.91752e-25): result may not be accurate.\n",
      "  return linalg.solve(A, Xy, sym_pos=True, overwrite_a=True).T\n"
     ]
    },
    {
     "name": "stdout",
     "output_type": "stream",
     "text": [
      "{'preprocessor__nun_t__poly__degree': 1, 'regressor__alpha': 10}\n"
     ]
    }
   ],
   "source": [
    "ridge_reg_TE = ridge_reg.fit(X_train, y_train)\n",
    "#parametrage\n",
    "param_grid = {'regressor__alpha' : [0,1,10,100],\n",
    "              'preprocessor__nun_t__poly__degree': [1,2,3]\n",
    "             }\n",
    "scoring = 'neg_mean_squared_error'\n",
    "gs = GridSearchCV(\n",
    "    ridge_reg_TE, param_grid,\n",
    "    cv =10,\n",
    "    scoring = scoring,\n",
    "    n_jobs =-1,\n",
    "    return_train_score = True, \n",
    "    error_score='raise').fit(X_train, y_train)\n",
    "\n",
    "print(gs.best_params_)"
   ]
  },
  {
   "cell_type": "code",
   "execution_count": 134,
   "id": "eb569803",
   "metadata": {},
   "outputs": [
    {
     "data": {
      "text/html": [
       "<div>\n",
       "<style scoped>\n",
       "    .dataframe tbody tr th:only-of-type {\n",
       "        vertical-align: middle;\n",
       "    }\n",
       "\n",
       "    .dataframe tbody tr th {\n",
       "        vertical-align: top;\n",
       "    }\n",
       "\n",
       "    .dataframe thead th {\n",
       "        text-align: right;\n",
       "    }\n",
       "</style>\n",
       "<table border=\"1\" class=\"dataframe\">\n",
       "  <thead>\n",
       "    <tr style=\"text-align: right;\">\n",
       "      <th></th>\n",
       "      <th>Modele</th>\n",
       "      <th>Ensembliste</th>\n",
       "      <th>Target</th>\n",
       "      <th>Train_RMSE</th>\n",
       "      <th>Test_RMSE</th>\n",
       "      <th>Train_R2</th>\n",
       "      <th>Test_R2</th>\n",
       "      <th>Commentaires</th>\n",
       "    </tr>\n",
       "  </thead>\n",
       "  <tbody>\n",
       "    <tr>\n",
       "      <th>0</th>\n",
       "      <td>DummyRegressor</td>\n",
       "      <td>non</td>\n",
       "      <td>TotalGHGEmissions</td>\n",
       "      <td>154.78</td>\n",
       "      <td>160.48</td>\n",
       "      <td>0.0</td>\n",
       "      <td>-0.00</td>\n",
       "      <td></td>\n",
       "    </tr>\n",
       "    <tr>\n",
       "      <th>1</th>\n",
       "      <td>Ridge</td>\n",
       "      <td>non</td>\n",
       "      <td>TotalGHGEmissions</td>\n",
       "      <td>120.16</td>\n",
       "      <td>131.75</td>\n",
       "      <td>0.4</td>\n",
       "      <td>0.33</td>\n",
       "      <td></td>\n",
       "    </tr>\n",
       "  </tbody>\n",
       "</table>\n",
       "</div>"
      ],
      "text/plain": [
       "           Modele Ensembliste             Target  Train_RMSE  Test_RMSE  \\\n",
       "0  DummyRegressor         non  TotalGHGEmissions      154.78     160.48   \n",
       "1           Ridge         non  TotalGHGEmissions      120.16     131.75   \n",
       "\n",
       "   Train_R2  Test_R2 Commentaires  \n",
       "0       0.0    -0.00               \n",
       "1       0.4     0.33               "
      ]
     },
     "execution_count": 134,
     "metadata": {},
     "output_type": "execute_result"
    }
   ],
   "source": [
    "ridge_reg_TE.set_params(**gs.best_params_).fit(X_train, y_train)\n",
    "df_summary =summary(ridge_reg_TE,df_summary, X_train, X_test, y_train, y_test)\n",
    "df_summary"
   ]
  },
  {
   "cell_type": "markdown",
   "id": "3a0991ed",
   "metadata": {},
   "source": [
    "### 2.1.2 - LinearRegression"
   ]
  },
  {
   "cell_type": "code",
   "execution_count": 135,
   "id": "aad9e7fc",
   "metadata": {},
   "outputs": [],
   "source": [
    "lin_reg = Pipeline(\n",
    "    [\n",
    "        (\"preprocessor\", init_spo()),\n",
    "        (\"regressor\", LinearRegression())\n",
    "    ]\n",
    ")"
   ]
  },
  {
   "cell_type": "code",
   "execution_count": 136,
   "id": "c3cebf2e",
   "metadata": {},
   "outputs": [
    {
     "name": "stdout",
     "output_type": "stream",
     "text": [
      "{'preprocessor__nun_t__poly__degree': 1, 'regressor__fit_intercept': True}\n"
     ]
    }
   ],
   "source": [
    "lin_reg_TE = lin_reg.fit(X_train, y_train)\n",
    "#parametrage\n",
    "scoring = 'neg_mean_squared_error'\n",
    "params_grid = {'preprocessor__nun_t__poly__degree' : [1,2,3],\n",
    "               'regressor__fit_intercept' : [True, False]}\n",
    "gs = GridSearchCV(lin_reg_TE,\n",
    "                  params_grid,\n",
    "                  cv = 5,\n",
    "                  scoring = scoring,\n",
    "                  n_jobs = -1,\n",
    "                  return_train_score = True\n",
    "                 ).fit(X_train, y_train)\n",
    "\n",
    "print(gs.best_params_)"
   ]
  },
  {
   "cell_type": "code",
   "execution_count": 137,
   "id": "7e8847dd",
   "metadata": {},
   "outputs": [
    {
     "data": {
      "text/html": [
       "<div>\n",
       "<style scoped>\n",
       "    .dataframe tbody tr th:only-of-type {\n",
       "        vertical-align: middle;\n",
       "    }\n",
       "\n",
       "    .dataframe tbody tr th {\n",
       "        vertical-align: top;\n",
       "    }\n",
       "\n",
       "    .dataframe thead th {\n",
       "        text-align: right;\n",
       "    }\n",
       "</style>\n",
       "<table border=\"1\" class=\"dataframe\">\n",
       "  <thead>\n",
       "    <tr style=\"text-align: right;\">\n",
       "      <th></th>\n",
       "      <th>Modele</th>\n",
       "      <th>Ensembliste</th>\n",
       "      <th>Target</th>\n",
       "      <th>Train_RMSE</th>\n",
       "      <th>Test_RMSE</th>\n",
       "      <th>Train_R2</th>\n",
       "      <th>Test_R2</th>\n",
       "      <th>Commentaires</th>\n",
       "    </tr>\n",
       "  </thead>\n",
       "  <tbody>\n",
       "    <tr>\n",
       "      <th>0</th>\n",
       "      <td>DummyRegressor</td>\n",
       "      <td>non</td>\n",
       "      <td>TotalGHGEmissions</td>\n",
       "      <td>154.78</td>\n",
       "      <td>160.48</td>\n",
       "      <td>0.00</td>\n",
       "      <td>-0.00</td>\n",
       "      <td></td>\n",
       "    </tr>\n",
       "    <tr>\n",
       "      <th>1</th>\n",
       "      <td>Ridge</td>\n",
       "      <td>non</td>\n",
       "      <td>TotalGHGEmissions</td>\n",
       "      <td>120.16</td>\n",
       "      <td>131.75</td>\n",
       "      <td>0.40</td>\n",
       "      <td>0.33</td>\n",
       "      <td></td>\n",
       "    </tr>\n",
       "    <tr>\n",
       "      <th>2</th>\n",
       "      <td>LinearRegression</td>\n",
       "      <td>non</td>\n",
       "      <td>TotalGHGEmissions</td>\n",
       "      <td>106.44</td>\n",
       "      <td>101.18</td>\n",
       "      <td>0.53</td>\n",
       "      <td>0.60</td>\n",
       "      <td></td>\n",
       "    </tr>\n",
       "  </tbody>\n",
       "</table>\n",
       "</div>"
      ],
      "text/plain": [
       "             Modele Ensembliste             Target  Train_RMSE  Test_RMSE  \\\n",
       "0    DummyRegressor         non  TotalGHGEmissions      154.78     160.48   \n",
       "1             Ridge         non  TotalGHGEmissions      120.16     131.75   \n",
       "2  LinearRegression         non  TotalGHGEmissions      106.44     101.18   \n",
       "\n",
       "   Train_R2  Test_R2 Commentaires  \n",
       "0      0.00    -0.00               \n",
       "1      0.40     0.33               \n",
       "2      0.53     0.60               "
      ]
     },
     "execution_count": 137,
     "metadata": {},
     "output_type": "execute_result"
    }
   ],
   "source": [
    "lin_reg_TE.set_params(**gs.best_params_).fit(X_train, y_train)\n",
    "df_summary =summary(lin_reg_TE,df_summary, X_train, X_test, y_train, y_test)\n",
    "df_summary"
   ]
  },
  {
   "cell_type": "markdown",
   "id": "4f9518a3",
   "metadata": {},
   "source": [
    "### 2.1.3 - DecisionTreeRegressor"
   ]
  },
  {
   "cell_type": "code",
   "execution_count": 138,
   "id": "f151a203",
   "metadata": {},
   "outputs": [],
   "source": [
    "tree_reg_TE = Pipeline(\n",
    "    [\n",
    "        (\"preprocessor\", init_o()),\n",
    "        (\"regressor\", DecisionTreeRegressor())\n",
    "    ]\n",
    ")"
   ]
  },
  {
   "cell_type": "code",
   "execution_count": 139,
   "id": "abbf4ef5",
   "metadata": {},
   "outputs": [
    {
     "name": "stdout",
     "output_type": "stream",
     "text": [
      "{'regressor__max_depth': 8, 'regressor__min_samples_leaf': 30}\n"
     ]
    }
   ],
   "source": [
    "#parametrage\n",
    "param_grid = {'regressor__max_depth' : [5,8,15],\n",
    "              'regressor__min_samples_leaf' : [10, 20,30],\n",
    "             }\n",
    "scoring = 'neg_mean_squared_error'\n",
    "gs = GridSearchCV(tree_reg_TE,param_grid, cv=10, scoring = scoring,return_train_score = True,\n",
    "                  verbose =-1, n_jobs =-1).fit(X_train, y_train)\n",
    "print(gs.best_params_)"
   ]
  },
  {
   "cell_type": "code",
   "execution_count": 140,
   "id": "be5040ea",
   "metadata": {},
   "outputs": [
    {
     "data": {
      "text/html": [
       "<div>\n",
       "<style scoped>\n",
       "    .dataframe tbody tr th:only-of-type {\n",
       "        vertical-align: middle;\n",
       "    }\n",
       "\n",
       "    .dataframe tbody tr th {\n",
       "        vertical-align: top;\n",
       "    }\n",
       "\n",
       "    .dataframe thead th {\n",
       "        text-align: right;\n",
       "    }\n",
       "</style>\n",
       "<table border=\"1\" class=\"dataframe\">\n",
       "  <thead>\n",
       "    <tr style=\"text-align: right;\">\n",
       "      <th></th>\n",
       "      <th>Modele</th>\n",
       "      <th>Ensembliste</th>\n",
       "      <th>Target</th>\n",
       "      <th>Train_RMSE</th>\n",
       "      <th>Test_RMSE</th>\n",
       "      <th>Train_R2</th>\n",
       "      <th>Test_R2</th>\n",
       "      <th>Commentaires</th>\n",
       "    </tr>\n",
       "  </thead>\n",
       "  <tbody>\n",
       "    <tr>\n",
       "      <th>0</th>\n",
       "      <td>DummyRegressor</td>\n",
       "      <td>non</td>\n",
       "      <td>TotalGHGEmissions</td>\n",
       "      <td>154.78</td>\n",
       "      <td>160.48</td>\n",
       "      <td>0.00</td>\n",
       "      <td>-0.00</td>\n",
       "      <td></td>\n",
       "    </tr>\n",
       "    <tr>\n",
       "      <th>1</th>\n",
       "      <td>Ridge</td>\n",
       "      <td>non</td>\n",
       "      <td>TotalGHGEmissions</td>\n",
       "      <td>120.16</td>\n",
       "      <td>131.75</td>\n",
       "      <td>0.40</td>\n",
       "      <td>0.33</td>\n",
       "      <td></td>\n",
       "    </tr>\n",
       "    <tr>\n",
       "      <th>2</th>\n",
       "      <td>LinearRegression</td>\n",
       "      <td>non</td>\n",
       "      <td>TotalGHGEmissions</td>\n",
       "      <td>106.44</td>\n",
       "      <td>101.18</td>\n",
       "      <td>0.53</td>\n",
       "      <td>0.60</td>\n",
       "      <td></td>\n",
       "    </tr>\n",
       "    <tr>\n",
       "      <th>3</th>\n",
       "      <td>DecisionTreeRegressor</td>\n",
       "      <td>non</td>\n",
       "      <td>TotalGHGEmissions</td>\n",
       "      <td>133.29</td>\n",
       "      <td>151.04</td>\n",
       "      <td>0.26</td>\n",
       "      <td>0.11</td>\n",
       "      <td></td>\n",
       "    </tr>\n",
       "  </tbody>\n",
       "</table>\n",
       "</div>"
      ],
      "text/plain": [
       "                  Modele Ensembliste             Target  Train_RMSE  \\\n",
       "0         DummyRegressor         non  TotalGHGEmissions      154.78   \n",
       "1                  Ridge         non  TotalGHGEmissions      120.16   \n",
       "2       LinearRegression         non  TotalGHGEmissions      106.44   \n",
       "3  DecisionTreeRegressor         non  TotalGHGEmissions      133.29   \n",
       "\n",
       "   Test_RMSE  Train_R2  Test_R2 Commentaires  \n",
       "0     160.48      0.00    -0.00               \n",
       "1     131.75      0.40     0.33               \n",
       "2     101.18      0.53     0.60               \n",
       "3     151.04      0.26     0.11               "
      ]
     },
     "execution_count": 140,
     "metadata": {},
     "output_type": "execute_result"
    }
   ],
   "source": [
    "tree_reg_TE.set_params(**gs.best_params_).fit(X_train, y_train)\n",
    "df_summary =summary(tree_reg_TE,df_summary, X_train, X_test, y_train, y_test)\n",
    "df_summary"
   ]
  },
  {
   "cell_type": "code",
   "execution_count": 141,
   "id": "93a18f06",
   "metadata": {},
   "outputs": [
    {
     "name": "stdout",
     "output_type": "stream",
     "text": [
      "la profondeur de l'arbre est de 8 et le nombre de feuilles (noeuds terminaux) est de 23\n"
     ]
    }
   ],
   "source": [
    "depth = tree_reg_TE[-1].get_depth()\n",
    "n_leaves = tree_reg_TE[-1].get_n_leaves()\n",
    "print(f\"la profondeur de l'arbre est de {depth} et le nombre de feuilles (noeuds terminaux) est de {n_leaves}\")"
   ]
  },
  {
   "cell_type": "markdown",
   "id": "42499185",
   "metadata": {},
   "source": [
    "### 2.1.4 -  Support Vector Machine SVM"
   ]
  },
  {
   "cell_type": "code",
   "execution_count": 142,
   "id": "149904ca",
   "metadata": {},
   "outputs": [],
   "source": [
    "svr_reg_TE = Pipeline(\n",
    "    [\n",
    "        (\"preprocessor\", init_so()),\n",
    "        (\"regressor\", SVR())\n",
    "    ]\n",
    ")"
   ]
  },
  {
   "cell_type": "code",
   "execution_count": 143,
   "id": "b1b87e70",
   "metadata": {},
   "outputs": [
    {
     "name": "stdout",
     "output_type": "stream",
     "text": [
      "{'regressor__C': 10, 'regressor__epsilon': 110}\n"
     ]
    }
   ],
   "source": [
    "param_grid = {'regressor__C' :[1, 10],\n",
    "              'regressor__epsilon' : [1,110,200]\n",
    "             }\n",
    "\n",
    "scoring = 'neg_mean_squared_error'\n",
    "gs = GridSearchCV(svr_reg_TE,param_grid, cv = 6, scoring =scoring,\n",
    "                 verbose = -1, return_train_score = True, n_jobs =-1).fit(X_train, y_train)\n",
    "print(gs.best_params_)"
   ]
  },
  {
   "cell_type": "code",
   "execution_count": 144,
   "id": "a8ddfa09",
   "metadata": {},
   "outputs": [
    {
     "data": {
      "text/html": [
       "<div>\n",
       "<style scoped>\n",
       "    .dataframe tbody tr th:only-of-type {\n",
       "        vertical-align: middle;\n",
       "    }\n",
       "\n",
       "    .dataframe tbody tr th {\n",
       "        vertical-align: top;\n",
       "    }\n",
       "\n",
       "    .dataframe thead th {\n",
       "        text-align: right;\n",
       "    }\n",
       "</style>\n",
       "<table border=\"1\" class=\"dataframe\">\n",
       "  <thead>\n",
       "    <tr style=\"text-align: right;\">\n",
       "      <th></th>\n",
       "      <th>Modele</th>\n",
       "      <th>Ensembliste</th>\n",
       "      <th>Target</th>\n",
       "      <th>Train_RMSE</th>\n",
       "      <th>Test_RMSE</th>\n",
       "      <th>Train_R2</th>\n",
       "      <th>Test_R2</th>\n",
       "      <th>Commentaires</th>\n",
       "    </tr>\n",
       "  </thead>\n",
       "  <tbody>\n",
       "    <tr>\n",
       "      <th>0</th>\n",
       "      <td>DummyRegressor</td>\n",
       "      <td>non</td>\n",
       "      <td>TotalGHGEmissions</td>\n",
       "      <td>154.78</td>\n",
       "      <td>160.48</td>\n",
       "      <td>0.00</td>\n",
       "      <td>-0.00</td>\n",
       "      <td></td>\n",
       "    </tr>\n",
       "    <tr>\n",
       "      <th>1</th>\n",
       "      <td>Ridge</td>\n",
       "      <td>non</td>\n",
       "      <td>TotalGHGEmissions</td>\n",
       "      <td>120.16</td>\n",
       "      <td>131.75</td>\n",
       "      <td>0.40</td>\n",
       "      <td>0.33</td>\n",
       "      <td></td>\n",
       "    </tr>\n",
       "    <tr>\n",
       "      <th>2</th>\n",
       "      <td>LinearRegression</td>\n",
       "      <td>non</td>\n",
       "      <td>TotalGHGEmissions</td>\n",
       "      <td>106.44</td>\n",
       "      <td>101.18</td>\n",
       "      <td>0.53</td>\n",
       "      <td>0.60</td>\n",
       "      <td></td>\n",
       "    </tr>\n",
       "    <tr>\n",
       "      <th>3</th>\n",
       "      <td>DecisionTreeRegressor</td>\n",
       "      <td>non</td>\n",
       "      <td>TotalGHGEmissions</td>\n",
       "      <td>133.29</td>\n",
       "      <td>151.04</td>\n",
       "      <td>0.26</td>\n",
       "      <td>0.11</td>\n",
       "      <td></td>\n",
       "    </tr>\n",
       "    <tr>\n",
       "      <th>4</th>\n",
       "      <td>SVR</td>\n",
       "      <td>non</td>\n",
       "      <td>TotalGHGEmissions</td>\n",
       "      <td>153.77</td>\n",
       "      <td>160.06</td>\n",
       "      <td>0.01</td>\n",
       "      <td>0.00</td>\n",
       "      <td></td>\n",
       "    </tr>\n",
       "  </tbody>\n",
       "</table>\n",
       "</div>"
      ],
      "text/plain": [
       "                  Modele Ensembliste             Target  Train_RMSE  \\\n",
       "0         DummyRegressor         non  TotalGHGEmissions      154.78   \n",
       "1                  Ridge         non  TotalGHGEmissions      120.16   \n",
       "2       LinearRegression         non  TotalGHGEmissions      106.44   \n",
       "3  DecisionTreeRegressor         non  TotalGHGEmissions      133.29   \n",
       "4                    SVR         non  TotalGHGEmissions      153.77   \n",
       "\n",
       "   Test_RMSE  Train_R2  Test_R2 Commentaires  \n",
       "0     160.48      0.00    -0.00               \n",
       "1     131.75      0.40     0.33               \n",
       "2     101.18      0.53     0.60               \n",
       "3     151.04      0.26     0.11               \n",
       "4     160.06      0.01     0.00               "
      ]
     },
     "execution_count": 144,
     "metadata": {},
     "output_type": "execute_result"
    }
   ],
   "source": [
    "svr_reg_TE.set_params(**gs.best_params_).fit(X_train, y_train)\n",
    "df_summary =summary(svr_reg_TE,df_summary, X_train, X_test, y_train, y_test)\n",
    "df_summary"
   ]
  },
  {
   "cell_type": "markdown",
   "id": "7a118dc2",
   "metadata": {},
   "source": [
    "## 2.2 - Modeled'ensemble"
   ]
  },
  {
   "cell_type": "markdown",
   "id": "8036281f",
   "metadata": {},
   "source": [
    "### 2.2.1 - bagging and pasting"
   ]
  },
  {
   "cell_type": "markdown",
   "id": "a126a470",
   "metadata": {},
   "source": [
    "### 2.2.1.1 - Bagging - Linear regression"
   ]
  },
  {
   "cell_type": "code",
   "execution_count": 145,
   "id": "62e4236b",
   "metadata": {},
   "outputs": [],
   "source": [
    "estimator = LinearRegression()\n",
    "bag_lin_reg = BaggingRegressor(estimator,bootstrap = True, n_jobs = -1)\n",
    "modele =Pipeline(steps = [\n",
    "    ('preprocessor', init_spo()),\n",
    "    ('estimator', bag_lin_reg)\n",
    "])"
   ]
  },
  {
   "cell_type": "code",
   "execution_count": 146,
   "id": "bcda4038",
   "metadata": {},
   "outputs": [
    {
     "name": "stdout",
     "output_type": "stream",
     "text": [
      "Fitting 6 folds for each of 4 candidates, totalling 24 fits\n",
      "{'estimator__max_samples': 1, 'estimator__n_estimators': 500}\n"
     ]
    }
   ],
   "source": [
    "#parametrage\n",
    "param_grid = {'estimator__n_estimators': [300,500],\n",
    "              'estimator__max_samples' : [0.5,1]}\n",
    "scoring = 'neg_mean_squared_error'\n",
    "gs = GridSearchCV(modele,\n",
    "                  param_grid,\n",
    "                  cv = 6,\n",
    "                  scoring= scoring,\n",
    "                  return_train_score =True,\n",
    "                  verbose = 1).fit(X_train, y_train)\n",
    "print(gs.best_params_)"
   ]
  },
  {
   "cell_type": "code",
   "execution_count": 147,
   "id": "fedf058c",
   "metadata": {},
   "outputs": [
    {
     "data": {
      "text/html": [
       "<div>\n",
       "<style scoped>\n",
       "    .dataframe tbody tr th:only-of-type {\n",
       "        vertical-align: middle;\n",
       "    }\n",
       "\n",
       "    .dataframe tbody tr th {\n",
       "        vertical-align: top;\n",
       "    }\n",
       "\n",
       "    .dataframe thead th {\n",
       "        text-align: right;\n",
       "    }\n",
       "</style>\n",
       "<table border=\"1\" class=\"dataframe\">\n",
       "  <thead>\n",
       "    <tr style=\"text-align: right;\">\n",
       "      <th></th>\n",
       "      <th>Modele</th>\n",
       "      <th>Ensembliste</th>\n",
       "      <th>Target</th>\n",
       "      <th>Train_RMSE</th>\n",
       "      <th>Test_RMSE</th>\n",
       "      <th>Train_R2</th>\n",
       "      <th>Test_R2</th>\n",
       "      <th>Commentaires</th>\n",
       "    </tr>\n",
       "  </thead>\n",
       "  <tbody>\n",
       "    <tr>\n",
       "      <th>0</th>\n",
       "      <td>DummyRegressor</td>\n",
       "      <td>non</td>\n",
       "      <td>TotalGHGEmissions</td>\n",
       "      <td>154.78</td>\n",
       "      <td>160.48</td>\n",
       "      <td>0.00</td>\n",
       "      <td>-0.00</td>\n",
       "      <td></td>\n",
       "    </tr>\n",
       "    <tr>\n",
       "      <th>1</th>\n",
       "      <td>Ridge</td>\n",
       "      <td>non</td>\n",
       "      <td>TotalGHGEmissions</td>\n",
       "      <td>120.16</td>\n",
       "      <td>131.75</td>\n",
       "      <td>0.40</td>\n",
       "      <td>0.33</td>\n",
       "      <td></td>\n",
       "    </tr>\n",
       "    <tr>\n",
       "      <th>2</th>\n",
       "      <td>LinearRegression</td>\n",
       "      <td>non</td>\n",
       "      <td>TotalGHGEmissions</td>\n",
       "      <td>106.44</td>\n",
       "      <td>101.18</td>\n",
       "      <td>0.53</td>\n",
       "      <td>0.60</td>\n",
       "      <td></td>\n",
       "    </tr>\n",
       "    <tr>\n",
       "      <th>3</th>\n",
       "      <td>DecisionTreeRegressor</td>\n",
       "      <td>non</td>\n",
       "      <td>TotalGHGEmissions</td>\n",
       "      <td>133.29</td>\n",
       "      <td>151.04</td>\n",
       "      <td>0.26</td>\n",
       "      <td>0.11</td>\n",
       "      <td></td>\n",
       "    </tr>\n",
       "    <tr>\n",
       "      <th>4</th>\n",
       "      <td>SVR</td>\n",
       "      <td>non</td>\n",
       "      <td>TotalGHGEmissions</td>\n",
       "      <td>153.77</td>\n",
       "      <td>160.06</td>\n",
       "      <td>0.01</td>\n",
       "      <td>0.00</td>\n",
       "      <td></td>\n",
       "    </tr>\n",
       "    <tr>\n",
       "      <th>5</th>\n",
       "      <td>BaggingRegressor</td>\n",
       "      <td>LinearRegression</td>\n",
       "      <td>TotalGHGEmissions</td>\n",
       "      <td>154.83</td>\n",
       "      <td>160.39</td>\n",
       "      <td>-0.00</td>\n",
       "      <td>-0.00</td>\n",
       "      <td></td>\n",
       "    </tr>\n",
       "  </tbody>\n",
       "</table>\n",
       "</div>"
      ],
      "text/plain": [
       "                  Modele       Ensembliste             Target  Train_RMSE  \\\n",
       "0         DummyRegressor               non  TotalGHGEmissions      154.78   \n",
       "1                  Ridge               non  TotalGHGEmissions      120.16   \n",
       "2       LinearRegression               non  TotalGHGEmissions      106.44   \n",
       "3  DecisionTreeRegressor               non  TotalGHGEmissions      133.29   \n",
       "4                    SVR               non  TotalGHGEmissions      153.77   \n",
       "5       BaggingRegressor  LinearRegression  TotalGHGEmissions      154.83   \n",
       "\n",
       "   Test_RMSE  Train_R2  Test_R2 Commentaires  \n",
       "0     160.48      0.00    -0.00               \n",
       "1     131.75      0.40     0.33               \n",
       "2     101.18      0.53     0.60               \n",
       "3     151.04      0.26     0.11               \n",
       "4     160.06      0.01     0.00               \n",
       "5     160.39     -0.00    -0.00               "
      ]
     },
     "execution_count": 147,
     "metadata": {},
     "output_type": "execute_result"
    }
   ],
   "source": [
    "modele.set_params(**gs.best_params_).fit(X_train, y_train)\n",
    "df_summary =summary(modele,df_summary, X_train, X_test, y_train, y_test,ensembliste ='LinearRegression' )\n",
    "df_summary"
   ]
  },
  {
   "cell_type": "markdown",
   "id": "e273a56d",
   "metadata": {},
   "source": [
    "### 2.2.1.2 - Bagging - SVR"
   ]
  },
  {
   "cell_type": "code",
   "execution_count": 148,
   "id": "3f8d2dc5",
   "metadata": {},
   "outputs": [],
   "source": [
    "estimator = SVR()\n",
    "bag_lin_reg = BaggingRegressor(estimator,bootstrap = True, n_jobs = -1)\n",
    "modele =Pipeline(steps = [\n",
    "    ('preprocessor', init_so()),\n",
    "    ('estimator', bag_lin_reg)\n",
    "])"
   ]
  },
  {
   "cell_type": "code",
   "execution_count": 149,
   "id": "8cca82c3",
   "metadata": {},
   "outputs": [
    {
     "data": {
      "text/plain": [
       "dict_keys(['base_estimator__C', 'base_estimator__cache_size', 'base_estimator__coef0', 'base_estimator__degree', 'base_estimator__epsilon', 'base_estimator__gamma', 'base_estimator__kernel', 'base_estimator__max_iter', 'base_estimator__shrinking', 'base_estimator__tol', 'base_estimator__verbose', 'base_estimator', 'bootstrap', 'bootstrap_features', 'max_features', 'max_samples', 'n_estimators', 'n_jobs', 'oob_score', 'random_state', 'verbose', 'warm_start'])"
      ]
     },
     "execution_count": 149,
     "metadata": {},
     "output_type": "execute_result"
    }
   ],
   "source": [
    "modele[-1].get_params().keys()"
   ]
  },
  {
   "cell_type": "code",
   "execution_count": 150,
   "id": "caa8a325",
   "metadata": {},
   "outputs": [
    {
     "name": "stdout",
     "output_type": "stream",
     "text": [
      "Fitting 3 folds for each of 8 candidates, totalling 24 fits\n",
      "{'estimator__base_estimator__C': 20000, 'estimator__base_estimator__degree': 2, 'estimator__n_estimators': 1100}\n"
     ]
    }
   ],
   "source": [
    "#parametrage\n",
    "param_grid = {'estimator__base_estimator__C' : [15000, 20000],\n",
    "              'estimator__base_estimator__degree' : [1,2],\n",
    "              'estimator__n_estimators' : [1000,1100]}\n",
    "\n",
    "scoring = 'neg_mean_squared_error'\n",
    "gs = GridSearchCV(modele,\n",
    "                  param_grid,\n",
    "                  cv = 3,\n",
    "                  scoring=scoring,\n",
    "                  n_jobs= -1,\n",
    "                  verbose = 1).fit(X_train, y_train)\n",
    "print(gs.best_params_)"
   ]
  },
  {
   "cell_type": "code",
   "execution_count": 151,
   "id": "558aa3e3",
   "metadata": {},
   "outputs": [
    {
     "data": {
      "text/html": [
       "<div>\n",
       "<style scoped>\n",
       "    .dataframe tbody tr th:only-of-type {\n",
       "        vertical-align: middle;\n",
       "    }\n",
       "\n",
       "    .dataframe tbody tr th {\n",
       "        vertical-align: top;\n",
       "    }\n",
       "\n",
       "    .dataframe thead th {\n",
       "        text-align: right;\n",
       "    }\n",
       "</style>\n",
       "<table border=\"1\" class=\"dataframe\">\n",
       "  <thead>\n",
       "    <tr style=\"text-align: right;\">\n",
       "      <th></th>\n",
       "      <th>Modele</th>\n",
       "      <th>Ensembliste</th>\n",
       "      <th>Target</th>\n",
       "      <th>Train_RMSE</th>\n",
       "      <th>Test_RMSE</th>\n",
       "      <th>Train_R2</th>\n",
       "      <th>Test_R2</th>\n",
       "      <th>Commentaires</th>\n",
       "    </tr>\n",
       "  </thead>\n",
       "  <tbody>\n",
       "    <tr>\n",
       "      <th>0</th>\n",
       "      <td>DummyRegressor</td>\n",
       "      <td>non</td>\n",
       "      <td>TotalGHGEmissions</td>\n",
       "      <td>154.78</td>\n",
       "      <td>160.48</td>\n",
       "      <td>0.00</td>\n",
       "      <td>-0.00</td>\n",
       "      <td></td>\n",
       "    </tr>\n",
       "    <tr>\n",
       "      <th>1</th>\n",
       "      <td>Ridge</td>\n",
       "      <td>non</td>\n",
       "      <td>TotalGHGEmissions</td>\n",
       "      <td>120.16</td>\n",
       "      <td>131.75</td>\n",
       "      <td>0.40</td>\n",
       "      <td>0.33</td>\n",
       "      <td></td>\n",
       "    </tr>\n",
       "    <tr>\n",
       "      <th>2</th>\n",
       "      <td>LinearRegression</td>\n",
       "      <td>non</td>\n",
       "      <td>TotalGHGEmissions</td>\n",
       "      <td>106.44</td>\n",
       "      <td>101.18</td>\n",
       "      <td>0.53</td>\n",
       "      <td>0.60</td>\n",
       "      <td></td>\n",
       "    </tr>\n",
       "    <tr>\n",
       "      <th>3</th>\n",
       "      <td>DecisionTreeRegressor</td>\n",
       "      <td>non</td>\n",
       "      <td>TotalGHGEmissions</td>\n",
       "      <td>133.29</td>\n",
       "      <td>151.04</td>\n",
       "      <td>0.26</td>\n",
       "      <td>0.11</td>\n",
       "      <td></td>\n",
       "    </tr>\n",
       "    <tr>\n",
       "      <th>4</th>\n",
       "      <td>SVR</td>\n",
       "      <td>non</td>\n",
       "      <td>TotalGHGEmissions</td>\n",
       "      <td>153.77</td>\n",
       "      <td>160.06</td>\n",
       "      <td>0.01</td>\n",
       "      <td>0.00</td>\n",
       "      <td></td>\n",
       "    </tr>\n",
       "    <tr>\n",
       "      <th>5</th>\n",
       "      <td>BaggingRegressor</td>\n",
       "      <td>LinearRegression</td>\n",
       "      <td>TotalGHGEmissions</td>\n",
       "      <td>154.83</td>\n",
       "      <td>160.39</td>\n",
       "      <td>-0.00</td>\n",
       "      <td>-0.00</td>\n",
       "      <td></td>\n",
       "    </tr>\n",
       "    <tr>\n",
       "      <th>6</th>\n",
       "      <td>BaggingRegressor</td>\n",
       "      <td>SVR</td>\n",
       "      <td>TotalGHGEmissions</td>\n",
       "      <td>146.96</td>\n",
       "      <td>174.64</td>\n",
       "      <td>0.10</td>\n",
       "      <td>-0.19</td>\n",
       "      <td></td>\n",
       "    </tr>\n",
       "  </tbody>\n",
       "</table>\n",
       "</div>"
      ],
      "text/plain": [
       "                  Modele       Ensembliste             Target  Train_RMSE  \\\n",
       "0         DummyRegressor               non  TotalGHGEmissions      154.78   \n",
       "1                  Ridge               non  TotalGHGEmissions      120.16   \n",
       "2       LinearRegression               non  TotalGHGEmissions      106.44   \n",
       "3  DecisionTreeRegressor               non  TotalGHGEmissions      133.29   \n",
       "4                    SVR               non  TotalGHGEmissions      153.77   \n",
       "5       BaggingRegressor  LinearRegression  TotalGHGEmissions      154.83   \n",
       "6       BaggingRegressor               SVR  TotalGHGEmissions      146.96   \n",
       "\n",
       "   Test_RMSE  Train_R2  Test_R2 Commentaires  \n",
       "0     160.48      0.00    -0.00               \n",
       "1     131.75      0.40     0.33               \n",
       "2     101.18      0.53     0.60               \n",
       "3     151.04      0.26     0.11               \n",
       "4     160.06      0.01     0.00               \n",
       "5     160.39     -0.00    -0.00               \n",
       "6     174.64      0.10    -0.19               "
      ]
     },
     "execution_count": 151,
     "metadata": {},
     "output_type": "execute_result"
    }
   ],
   "source": [
    "modele.set_params(**gs.best_params_).fit(X_train, y_train)\n",
    "df_summary =summary(modele,df_summary, X_train, X_test, y_train, y_test, ensembliste = \"SVR\")\n",
    "df_summary"
   ]
  },
  {
   "cell_type": "markdown",
   "id": "89b658ae",
   "metadata": {},
   "source": [
    "### 2.2.1.3 Bagging - Decision Tree regressor"
   ]
  },
  {
   "cell_type": "code",
   "execution_count": 152,
   "id": "4ad9f4ca",
   "metadata": {},
   "outputs": [],
   "source": [
    "estimator = DecisionTreeRegressor()\n",
    "bag_lin_reg = BaggingRegressor(estimator, n_estimators = 500, max_samples = 0.1, bootstrap = True, n_jobs = -1)\n",
    "modele =Pipeline(steps = [\n",
    "    ('preprocessor', init_o()),\n",
    "    ('estimator', bag_lin_reg)\n",
    "])"
   ]
  },
  {
   "cell_type": "code",
   "execution_count": 153,
   "id": "99e7529b",
   "metadata": {},
   "outputs": [
    {
     "name": "stdout",
     "output_type": "stream",
     "text": [
      "n_estimators =29 et rmse =  135.13\n"
     ]
    },
    {
     "data": {
      "text/plain": [
       "29"
      ]
     },
     "execution_count": 153,
     "metadata": {},
     "output_type": "execute_result"
    }
   ],
   "source": [
    "n_estimators = arret_precoce(modele,X_train,y_train,X_test,y_test, 500, 20)\n",
    "n_estimators"
   ]
  },
  {
   "cell_type": "code",
   "execution_count": 154,
   "id": "46e669da",
   "metadata": {},
   "outputs": [
    {
     "data": {
      "text/html": [
       "<div>\n",
       "<style scoped>\n",
       "    .dataframe tbody tr th:only-of-type {\n",
       "        vertical-align: middle;\n",
       "    }\n",
       "\n",
       "    .dataframe tbody tr th {\n",
       "        vertical-align: top;\n",
       "    }\n",
       "\n",
       "    .dataframe thead th {\n",
       "        text-align: right;\n",
       "    }\n",
       "</style>\n",
       "<table border=\"1\" class=\"dataframe\">\n",
       "  <thead>\n",
       "    <tr style=\"text-align: right;\">\n",
       "      <th></th>\n",
       "      <th>Modele</th>\n",
       "      <th>Ensembliste</th>\n",
       "      <th>Target</th>\n",
       "      <th>Train_RMSE</th>\n",
       "      <th>Test_RMSE</th>\n",
       "      <th>Train_R2</th>\n",
       "      <th>Test_R2</th>\n",
       "      <th>Commentaires</th>\n",
       "    </tr>\n",
       "  </thead>\n",
       "  <tbody>\n",
       "    <tr>\n",
       "      <th>0</th>\n",
       "      <td>DummyRegressor</td>\n",
       "      <td>non</td>\n",
       "      <td>TotalGHGEmissions</td>\n",
       "      <td>154.78</td>\n",
       "      <td>160.48</td>\n",
       "      <td>0.00</td>\n",
       "      <td>-0.00</td>\n",
       "      <td></td>\n",
       "    </tr>\n",
       "    <tr>\n",
       "      <th>1</th>\n",
       "      <td>Ridge</td>\n",
       "      <td>non</td>\n",
       "      <td>TotalGHGEmissions</td>\n",
       "      <td>120.16</td>\n",
       "      <td>131.75</td>\n",
       "      <td>0.40</td>\n",
       "      <td>0.33</td>\n",
       "      <td></td>\n",
       "    </tr>\n",
       "    <tr>\n",
       "      <th>2</th>\n",
       "      <td>LinearRegression</td>\n",
       "      <td>non</td>\n",
       "      <td>TotalGHGEmissions</td>\n",
       "      <td>106.44</td>\n",
       "      <td>101.18</td>\n",
       "      <td>0.53</td>\n",
       "      <td>0.60</td>\n",
       "      <td></td>\n",
       "    </tr>\n",
       "    <tr>\n",
       "      <th>3</th>\n",
       "      <td>DecisionTreeRegressor</td>\n",
       "      <td>non</td>\n",
       "      <td>TotalGHGEmissions</td>\n",
       "      <td>133.29</td>\n",
       "      <td>151.04</td>\n",
       "      <td>0.26</td>\n",
       "      <td>0.11</td>\n",
       "      <td></td>\n",
       "    </tr>\n",
       "    <tr>\n",
       "      <th>4</th>\n",
       "      <td>SVR</td>\n",
       "      <td>non</td>\n",
       "      <td>TotalGHGEmissions</td>\n",
       "      <td>153.77</td>\n",
       "      <td>160.06</td>\n",
       "      <td>0.01</td>\n",
       "      <td>0.00</td>\n",
       "      <td></td>\n",
       "    </tr>\n",
       "    <tr>\n",
       "      <th>5</th>\n",
       "      <td>BaggingRegressor</td>\n",
       "      <td>LinearRegression</td>\n",
       "      <td>TotalGHGEmissions</td>\n",
       "      <td>154.83</td>\n",
       "      <td>160.39</td>\n",
       "      <td>-0.00</td>\n",
       "      <td>-0.00</td>\n",
       "      <td></td>\n",
       "    </tr>\n",
       "    <tr>\n",
       "      <th>6</th>\n",
       "      <td>BaggingRegressor</td>\n",
       "      <td>SVR</td>\n",
       "      <td>TotalGHGEmissions</td>\n",
       "      <td>146.96</td>\n",
       "      <td>174.64</td>\n",
       "      <td>0.10</td>\n",
       "      <td>-0.19</td>\n",
       "      <td></td>\n",
       "    </tr>\n",
       "    <tr>\n",
       "      <th>7</th>\n",
       "      <td>BaggingRegressor</td>\n",
       "      <td>DecisionTreeRegressor</td>\n",
       "      <td>TotalGHGEmissions</td>\n",
       "      <td>122.40</td>\n",
       "      <td>140.40</td>\n",
       "      <td>0.37</td>\n",
       "      <td>0.23</td>\n",
       "      <td>avec arret précoce</td>\n",
       "    </tr>\n",
       "  </tbody>\n",
       "</table>\n",
       "</div>"
      ],
      "text/plain": [
       "                  Modele            Ensembliste             Target  \\\n",
       "0         DummyRegressor                    non  TotalGHGEmissions   \n",
       "1                  Ridge                    non  TotalGHGEmissions   \n",
       "2       LinearRegression                    non  TotalGHGEmissions   \n",
       "3  DecisionTreeRegressor                    non  TotalGHGEmissions   \n",
       "4                    SVR                    non  TotalGHGEmissions   \n",
       "5       BaggingRegressor       LinearRegression  TotalGHGEmissions   \n",
       "6       BaggingRegressor                    SVR  TotalGHGEmissions   \n",
       "7       BaggingRegressor  DecisionTreeRegressor  TotalGHGEmissions   \n",
       "\n",
       "   Train_RMSE  Test_RMSE  Train_R2  Test_R2        Commentaires  \n",
       "0      154.78     160.48      0.00    -0.00                      \n",
       "1      120.16     131.75      0.40     0.33                      \n",
       "2      106.44     101.18      0.53     0.60                      \n",
       "3      133.29     151.04      0.26     0.11                      \n",
       "4      153.77     160.06      0.01     0.00                      \n",
       "5      154.83     160.39     -0.00    -0.00                      \n",
       "6      146.96     174.64      0.10    -0.19                      \n",
       "7      122.40     140.40      0.37     0.23  avec arret précoce  "
      ]
     },
     "execution_count": 154,
     "metadata": {},
     "output_type": "execute_result"
    }
   ],
   "source": [
    "modele.set_params(estimator__n_estimators =28).fit(X_train, y_train)\n",
    "df_summary =summary(modele,df_summary, X_train, X_test, y_train, y_test, ensembliste = \"DecisionTreeRegressor\",\n",
    "                   commentaires = \"avec arret précoce\")\n",
    "df_summary"
   ]
  },
  {
   "cell_type": "markdown",
   "id": "2457d993",
   "metadata": {},
   "source": [
    "### 2.2.2 - Adaboost"
   ]
  },
  {
   "cell_type": "markdown",
   "id": "138fc3be",
   "metadata": {},
   "source": [
    "### 2.2.2.1 - Linear Regresssion"
   ]
  },
  {
   "cell_type": "code",
   "execution_count": 155,
   "id": "1c4c97d0",
   "metadata": {},
   "outputs": [],
   "source": [
    "predicteur = LinearRegression()\n",
    "modele = Pipeline(steps = \n",
    "                   [\n",
    "                       ('preprocessor', init_spo()),\n",
    "                       ( 'estimateur',AdaBoostRegressor(predicteur, n_estimators =10,  learning_rate = 0.5))\n",
    "                   ]\n",
    "                  )"
   ]
  },
  {
   "cell_type": "code",
   "execution_count": 156,
   "id": "75299c5e",
   "metadata": {},
   "outputs": [
    {
     "name": "stdout",
     "output_type": "stream",
     "text": [
      "{'estimateur__learning_rate': 0.1, 'estimateur__n_estimators': 1, 'preprocessor__nun_t__poly__degree': 1}\n"
     ]
    }
   ],
   "source": [
    "#parametrage\n",
    "param_grid = {'estimateur__n_estimators' :[1,10,100],\n",
    "              'preprocessor__nun_t__poly__degree' : [1,2,3],\n",
    "              'estimateur__learning_rate' : [0.1,0.5,0.8]}\n",
    "gs = GridSearchCV(modele,\n",
    "                  param_grid, \n",
    "                  cv = 6,\n",
    "                  return_train_score = True,\n",
    "                  n_jobs = -1,\n",
    "                  verbose = -1).fit(X_train, y_train)\n",
    "print(gs.best_params_)"
   ]
  },
  {
   "cell_type": "code",
   "execution_count": 157,
   "id": "da484931",
   "metadata": {},
   "outputs": [
    {
     "data": {
      "text/html": [
       "<div>\n",
       "<style scoped>\n",
       "    .dataframe tbody tr th:only-of-type {\n",
       "        vertical-align: middle;\n",
       "    }\n",
       "\n",
       "    .dataframe tbody tr th {\n",
       "        vertical-align: top;\n",
       "    }\n",
       "\n",
       "    .dataframe thead th {\n",
       "        text-align: right;\n",
       "    }\n",
       "</style>\n",
       "<table border=\"1\" class=\"dataframe\">\n",
       "  <thead>\n",
       "    <tr style=\"text-align: right;\">\n",
       "      <th></th>\n",
       "      <th>Modele</th>\n",
       "      <th>Ensembliste</th>\n",
       "      <th>Target</th>\n",
       "      <th>Train_RMSE</th>\n",
       "      <th>Test_RMSE</th>\n",
       "      <th>Train_R2</th>\n",
       "      <th>Test_R2</th>\n",
       "      <th>Commentaires</th>\n",
       "    </tr>\n",
       "  </thead>\n",
       "  <tbody>\n",
       "    <tr>\n",
       "      <th>0</th>\n",
       "      <td>DummyRegressor</td>\n",
       "      <td>non</td>\n",
       "      <td>TotalGHGEmissions</td>\n",
       "      <td>154.78</td>\n",
       "      <td>160.48</td>\n",
       "      <td>0.00</td>\n",
       "      <td>-0.00</td>\n",
       "      <td></td>\n",
       "    </tr>\n",
       "    <tr>\n",
       "      <th>1</th>\n",
       "      <td>Ridge</td>\n",
       "      <td>non</td>\n",
       "      <td>TotalGHGEmissions</td>\n",
       "      <td>120.16</td>\n",
       "      <td>131.75</td>\n",
       "      <td>0.40</td>\n",
       "      <td>0.33</td>\n",
       "      <td></td>\n",
       "    </tr>\n",
       "    <tr>\n",
       "      <th>2</th>\n",
       "      <td>LinearRegression</td>\n",
       "      <td>non</td>\n",
       "      <td>TotalGHGEmissions</td>\n",
       "      <td>106.44</td>\n",
       "      <td>101.18</td>\n",
       "      <td>0.53</td>\n",
       "      <td>0.60</td>\n",
       "      <td></td>\n",
       "    </tr>\n",
       "    <tr>\n",
       "      <th>3</th>\n",
       "      <td>DecisionTreeRegressor</td>\n",
       "      <td>non</td>\n",
       "      <td>TotalGHGEmissions</td>\n",
       "      <td>133.29</td>\n",
       "      <td>151.04</td>\n",
       "      <td>0.26</td>\n",
       "      <td>0.11</td>\n",
       "      <td></td>\n",
       "    </tr>\n",
       "    <tr>\n",
       "      <th>4</th>\n",
       "      <td>SVR</td>\n",
       "      <td>non</td>\n",
       "      <td>TotalGHGEmissions</td>\n",
       "      <td>153.77</td>\n",
       "      <td>160.06</td>\n",
       "      <td>0.01</td>\n",
       "      <td>0.00</td>\n",
       "      <td></td>\n",
       "    </tr>\n",
       "    <tr>\n",
       "      <th>5</th>\n",
       "      <td>BaggingRegressor</td>\n",
       "      <td>LinearRegression</td>\n",
       "      <td>TotalGHGEmissions</td>\n",
       "      <td>154.83</td>\n",
       "      <td>160.39</td>\n",
       "      <td>-0.00</td>\n",
       "      <td>-0.00</td>\n",
       "      <td></td>\n",
       "    </tr>\n",
       "    <tr>\n",
       "      <th>6</th>\n",
       "      <td>BaggingRegressor</td>\n",
       "      <td>SVR</td>\n",
       "      <td>TotalGHGEmissions</td>\n",
       "      <td>146.96</td>\n",
       "      <td>174.64</td>\n",
       "      <td>0.10</td>\n",
       "      <td>-0.19</td>\n",
       "      <td></td>\n",
       "    </tr>\n",
       "    <tr>\n",
       "      <th>7</th>\n",
       "      <td>BaggingRegressor</td>\n",
       "      <td>DecisionTreeRegressor</td>\n",
       "      <td>TotalGHGEmissions</td>\n",
       "      <td>122.40</td>\n",
       "      <td>140.40</td>\n",
       "      <td>0.37</td>\n",
       "      <td>0.23</td>\n",
       "      <td>avec arret précoce</td>\n",
       "    </tr>\n",
       "    <tr>\n",
       "      <th>8</th>\n",
       "      <td>AdaBoostRegressor</td>\n",
       "      <td>LinearRegresssion</td>\n",
       "      <td>TotalGHGEmissions</td>\n",
       "      <td>122.07</td>\n",
       "      <td>139.08</td>\n",
       "      <td>0.38</td>\n",
       "      <td>0.25</td>\n",
       "      <td></td>\n",
       "    </tr>\n",
       "  </tbody>\n",
       "</table>\n",
       "</div>"
      ],
      "text/plain": [
       "                  Modele            Ensembliste             Target  \\\n",
       "0         DummyRegressor                    non  TotalGHGEmissions   \n",
       "1                  Ridge                    non  TotalGHGEmissions   \n",
       "2       LinearRegression                    non  TotalGHGEmissions   \n",
       "3  DecisionTreeRegressor                    non  TotalGHGEmissions   \n",
       "4                    SVR                    non  TotalGHGEmissions   \n",
       "5       BaggingRegressor       LinearRegression  TotalGHGEmissions   \n",
       "6       BaggingRegressor                    SVR  TotalGHGEmissions   \n",
       "7       BaggingRegressor  DecisionTreeRegressor  TotalGHGEmissions   \n",
       "8      AdaBoostRegressor      LinearRegresssion  TotalGHGEmissions   \n",
       "\n",
       "   Train_RMSE  Test_RMSE  Train_R2  Test_R2        Commentaires  \n",
       "0      154.78     160.48      0.00    -0.00                      \n",
       "1      120.16     131.75      0.40     0.33                      \n",
       "2      106.44     101.18      0.53     0.60                      \n",
       "3      133.29     151.04      0.26     0.11                      \n",
       "4      153.77     160.06      0.01     0.00                      \n",
       "5      154.83     160.39     -0.00    -0.00                      \n",
       "6      146.96     174.64      0.10    -0.19                      \n",
       "7      122.40     140.40      0.37     0.23  avec arret précoce  \n",
       "8      122.07     139.08      0.38     0.25                      "
      ]
     },
     "execution_count": 157,
     "metadata": {},
     "output_type": "execute_result"
    }
   ],
   "source": [
    "modele.set_params(**gs.best_params_).fit(X_train, y_train)\n",
    "df_summary =summary(modele,df_summary, X_train, X_test, y_train, y_test, ensembliste = \"LinearRegresssion\")\n",
    "df_summary"
   ]
  },
  {
   "cell_type": "markdown",
   "id": "78ef2828",
   "metadata": {},
   "source": [
    "### 2.2.2.4 - Adaboost avec un DecisionTreeRegressor"
   ]
  },
  {
   "cell_type": "code",
   "execution_count": 158,
   "id": "aca383e4",
   "metadata": {},
   "outputs": [],
   "source": [
    "estimateur = DecisionTreeRegressor()\n",
    "modele = Pipeline(steps = \n",
    "                   [\n",
    "                       ('preprocessor', init_o()),\n",
    "                       ( 'estimateur',AdaBoostRegressor(estimateur, n_estimators =10,  learning_rate = 0.5))\n",
    "                   ]\n",
    "                  )"
   ]
  },
  {
   "cell_type": "code",
   "execution_count": 159,
   "id": "1131ec93",
   "metadata": {},
   "outputs": [
    {
     "name": "stdout",
     "output_type": "stream",
     "text": [
      "Fitting 6 folds for each of 16 candidates, totalling 96 fits\n",
      "{'estimateur__base_estimator__max_depth': 15, 'estimateur__base_estimator__min_samples_leaf': 15, 'estimateur__learning_rate': 0.8, 'estimateur__n_estimators': 120}\n"
     ]
    }
   ],
   "source": [
    "#parametrage\n",
    "param_grid = {'estimateur__n_estimators' :[100,120],\n",
    "              'estimateur__learning_rate' : [0.8, 1],\n",
    "              'estimateur__base_estimator__max_depth' : [10,15],\n",
    "              'estimateur__base_estimator__min_samples_leaf' : [10,15],}\n",
    "gs = GridSearchCV(modele,\n",
    "                  param_grid, \n",
    "                  cv = 6,\n",
    "                  return_train_score = True,\n",
    "                  n_jobs = -1,\n",
    "                  verbose = 1).fit(X_train, y_train)\n",
    "print(gs.best_params_)"
   ]
  },
  {
   "cell_type": "code",
   "execution_count": 160,
   "id": "9a6b4d34",
   "metadata": {},
   "outputs": [
    {
     "data": {
      "text/html": [
       "<div>\n",
       "<style scoped>\n",
       "    .dataframe tbody tr th:only-of-type {\n",
       "        vertical-align: middle;\n",
       "    }\n",
       "\n",
       "    .dataframe tbody tr th {\n",
       "        vertical-align: top;\n",
       "    }\n",
       "\n",
       "    .dataframe thead th {\n",
       "        text-align: right;\n",
       "    }\n",
       "</style>\n",
       "<table border=\"1\" class=\"dataframe\">\n",
       "  <thead>\n",
       "    <tr style=\"text-align: right;\">\n",
       "      <th></th>\n",
       "      <th>Modele</th>\n",
       "      <th>Ensembliste</th>\n",
       "      <th>Target</th>\n",
       "      <th>Train_RMSE</th>\n",
       "      <th>Test_RMSE</th>\n",
       "      <th>Train_R2</th>\n",
       "      <th>Test_R2</th>\n",
       "      <th>Commentaires</th>\n",
       "    </tr>\n",
       "  </thead>\n",
       "  <tbody>\n",
       "    <tr>\n",
       "      <th>0</th>\n",
       "      <td>DummyRegressor</td>\n",
       "      <td>non</td>\n",
       "      <td>TotalGHGEmissions</td>\n",
       "      <td>154.78</td>\n",
       "      <td>160.48</td>\n",
       "      <td>0.00</td>\n",
       "      <td>-0.00</td>\n",
       "      <td></td>\n",
       "    </tr>\n",
       "    <tr>\n",
       "      <th>1</th>\n",
       "      <td>Ridge</td>\n",
       "      <td>non</td>\n",
       "      <td>TotalGHGEmissions</td>\n",
       "      <td>120.16</td>\n",
       "      <td>131.75</td>\n",
       "      <td>0.40</td>\n",
       "      <td>0.33</td>\n",
       "      <td></td>\n",
       "    </tr>\n",
       "    <tr>\n",
       "      <th>2</th>\n",
       "      <td>LinearRegression</td>\n",
       "      <td>non</td>\n",
       "      <td>TotalGHGEmissions</td>\n",
       "      <td>106.44</td>\n",
       "      <td>101.18</td>\n",
       "      <td>0.53</td>\n",
       "      <td>0.60</td>\n",
       "      <td></td>\n",
       "    </tr>\n",
       "    <tr>\n",
       "      <th>3</th>\n",
       "      <td>DecisionTreeRegressor</td>\n",
       "      <td>non</td>\n",
       "      <td>TotalGHGEmissions</td>\n",
       "      <td>133.29</td>\n",
       "      <td>151.04</td>\n",
       "      <td>0.26</td>\n",
       "      <td>0.11</td>\n",
       "      <td></td>\n",
       "    </tr>\n",
       "    <tr>\n",
       "      <th>4</th>\n",
       "      <td>SVR</td>\n",
       "      <td>non</td>\n",
       "      <td>TotalGHGEmissions</td>\n",
       "      <td>153.77</td>\n",
       "      <td>160.06</td>\n",
       "      <td>0.01</td>\n",
       "      <td>0.00</td>\n",
       "      <td></td>\n",
       "    </tr>\n",
       "    <tr>\n",
       "      <th>5</th>\n",
       "      <td>BaggingRegressor</td>\n",
       "      <td>LinearRegression</td>\n",
       "      <td>TotalGHGEmissions</td>\n",
       "      <td>154.83</td>\n",
       "      <td>160.39</td>\n",
       "      <td>-0.00</td>\n",
       "      <td>-0.00</td>\n",
       "      <td></td>\n",
       "    </tr>\n",
       "    <tr>\n",
       "      <th>6</th>\n",
       "      <td>BaggingRegressor</td>\n",
       "      <td>SVR</td>\n",
       "      <td>TotalGHGEmissions</td>\n",
       "      <td>146.96</td>\n",
       "      <td>174.64</td>\n",
       "      <td>0.10</td>\n",
       "      <td>-0.19</td>\n",
       "      <td></td>\n",
       "    </tr>\n",
       "    <tr>\n",
       "      <th>7</th>\n",
       "      <td>BaggingRegressor</td>\n",
       "      <td>DecisionTreeRegressor</td>\n",
       "      <td>TotalGHGEmissions</td>\n",
       "      <td>122.40</td>\n",
       "      <td>140.40</td>\n",
       "      <td>0.37</td>\n",
       "      <td>0.23</td>\n",
       "      <td>avec arret précoce</td>\n",
       "    </tr>\n",
       "    <tr>\n",
       "      <th>8</th>\n",
       "      <td>AdaBoostRegressor</td>\n",
       "      <td>LinearRegresssion</td>\n",
       "      <td>TotalGHGEmissions</td>\n",
       "      <td>122.07</td>\n",
       "      <td>139.08</td>\n",
       "      <td>0.38</td>\n",
       "      <td>0.25</td>\n",
       "      <td></td>\n",
       "    </tr>\n",
       "    <tr>\n",
       "      <th>9</th>\n",
       "      <td>AdaBoostRegressor</td>\n",
       "      <td>DecisionTreeRegressor</td>\n",
       "      <td>TotalGHGEmissions</td>\n",
       "      <td>57.35</td>\n",
       "      <td>109.23</td>\n",
       "      <td>0.86</td>\n",
       "      <td>0.54</td>\n",
       "      <td></td>\n",
       "    </tr>\n",
       "  </tbody>\n",
       "</table>\n",
       "</div>"
      ],
      "text/plain": [
       "                  Modele            Ensembliste             Target  \\\n",
       "0         DummyRegressor                    non  TotalGHGEmissions   \n",
       "1                  Ridge                    non  TotalGHGEmissions   \n",
       "2       LinearRegression                    non  TotalGHGEmissions   \n",
       "3  DecisionTreeRegressor                    non  TotalGHGEmissions   \n",
       "4                    SVR                    non  TotalGHGEmissions   \n",
       "5       BaggingRegressor       LinearRegression  TotalGHGEmissions   \n",
       "6       BaggingRegressor                    SVR  TotalGHGEmissions   \n",
       "7       BaggingRegressor  DecisionTreeRegressor  TotalGHGEmissions   \n",
       "8      AdaBoostRegressor      LinearRegresssion  TotalGHGEmissions   \n",
       "9      AdaBoostRegressor  DecisionTreeRegressor  TotalGHGEmissions   \n",
       "\n",
       "   Train_RMSE  Test_RMSE  Train_R2  Test_R2        Commentaires  \n",
       "0      154.78     160.48      0.00    -0.00                      \n",
       "1      120.16     131.75      0.40     0.33                      \n",
       "2      106.44     101.18      0.53     0.60                      \n",
       "3      133.29     151.04      0.26     0.11                      \n",
       "4      153.77     160.06      0.01     0.00                      \n",
       "5      154.83     160.39     -0.00    -0.00                      \n",
       "6      146.96     174.64      0.10    -0.19                      \n",
       "7      122.40     140.40      0.37     0.23  avec arret précoce  \n",
       "8      122.07     139.08      0.38     0.25                      \n",
       "9       57.35     109.23      0.86     0.54                      "
      ]
     },
     "execution_count": 160,
     "metadata": {},
     "output_type": "execute_result"
    }
   ],
   "source": [
    "modele.set_params(**gs.best_params_).fit(X_train, y_train)\n",
    "df_summary =summary(modele,df_summary, X_train, X_test, y_train, y_test, ensembliste = \"DecisionTreeRegressor\")\n",
    "df_summary"
   ]
  },
  {
   "cell_type": "code",
   "execution_count": 161,
   "id": "c867ad70",
   "metadata": {},
   "outputs": [],
   "source": [
    "### 2.2.4 - XGBoost (extreme Gradient Boosting)"
   ]
  },
  {
   "cell_type": "code",
   "execution_count": 162,
   "id": "e4d4df26",
   "metadata": {},
   "outputs": [
    {
     "data": {
      "text/plain": [
       "<bound method XGBRegressor.__init__ of XGBRegressor(base_score=None, booster=None, colsample_bylevel=None,\n",
       "             colsample_bynode=None, colsample_bytree=None,\n",
       "             enable_categorical=False, gamma=None, gpu_id=None,\n",
       "             importance_type=None, interaction_constraints=None,\n",
       "             learning_rate=None, max_delta_step=None, max_depth=None,\n",
       "             min_child_weight=None, missing=nan, monotone_constraints=None,\n",
       "             n_estimators=100, n_jobs=None, num_parallel_tree=None,\n",
       "             predictor=None, random_state=None, reg_alpha=None, reg_lambda=None,\n",
       "             scale_pos_weight=None, subsample=None, tree_method=None,\n",
       "             validate_parameters=None, verbosity=None)>"
      ]
     },
     "execution_count": 162,
     "metadata": {},
     "output_type": "execute_result"
    }
   ],
   "source": [
    "import xgboost\n",
    "xgboost.XGBRegressor().__init__"
   ]
  },
  {
   "cell_type": "code",
   "execution_count": 163,
   "id": "ee1e3d1f",
   "metadata": {},
   "outputs": [],
   "source": [
    "modele = Pipeline(steps = \n",
    "                   [\n",
    "                       ('preprocessor', init_o()),\n",
    "                       ( 'estimateur',xgboost.XGBRegressor())\n",
    "                   ]\n",
    "                  )"
   ]
  },
  {
   "cell_type": "code",
   "execution_count": 164,
   "id": "59a704e7",
   "metadata": {},
   "outputs": [
    {
     "data": {
      "text/html": [
       "<style>#sk-9c307c0a-a634-43cd-a630-201b28b4f2dc {color: black;background-color: white;}#sk-9c307c0a-a634-43cd-a630-201b28b4f2dc pre{padding: 0;}#sk-9c307c0a-a634-43cd-a630-201b28b4f2dc div.sk-toggleable {background-color: white;}#sk-9c307c0a-a634-43cd-a630-201b28b4f2dc label.sk-toggleable__label {cursor: pointer;display: block;width: 100%;margin-bottom: 0;padding: 0.3em;box-sizing: border-box;text-align: center;}#sk-9c307c0a-a634-43cd-a630-201b28b4f2dc label.sk-toggleable__label-arrow:before {content: \"▸\";float: left;margin-right: 0.25em;color: #696969;}#sk-9c307c0a-a634-43cd-a630-201b28b4f2dc label.sk-toggleable__label-arrow:hover:before {color: black;}#sk-9c307c0a-a634-43cd-a630-201b28b4f2dc div.sk-estimator:hover label.sk-toggleable__label-arrow:before {color: black;}#sk-9c307c0a-a634-43cd-a630-201b28b4f2dc div.sk-toggleable__content {max-height: 0;max-width: 0;overflow: hidden;text-align: left;background-color: #f0f8ff;}#sk-9c307c0a-a634-43cd-a630-201b28b4f2dc div.sk-toggleable__content pre {margin: 0.2em;color: black;border-radius: 0.25em;background-color: #f0f8ff;}#sk-9c307c0a-a634-43cd-a630-201b28b4f2dc input.sk-toggleable__control:checked~div.sk-toggleable__content {max-height: 200px;max-width: 100%;overflow: auto;}#sk-9c307c0a-a634-43cd-a630-201b28b4f2dc input.sk-toggleable__control:checked~label.sk-toggleable__label-arrow:before {content: \"▾\";}#sk-9c307c0a-a634-43cd-a630-201b28b4f2dc div.sk-estimator input.sk-toggleable__control:checked~label.sk-toggleable__label {background-color: #d4ebff;}#sk-9c307c0a-a634-43cd-a630-201b28b4f2dc div.sk-label input.sk-toggleable__control:checked~label.sk-toggleable__label {background-color: #d4ebff;}#sk-9c307c0a-a634-43cd-a630-201b28b4f2dc input.sk-hidden--visually {border: 0;clip: rect(1px 1px 1px 1px);clip: rect(1px, 1px, 1px, 1px);height: 1px;margin: -1px;overflow: hidden;padding: 0;position: absolute;width: 1px;}#sk-9c307c0a-a634-43cd-a630-201b28b4f2dc div.sk-estimator {font-family: monospace;background-color: #f0f8ff;border: 1px dotted black;border-radius: 0.25em;box-sizing: border-box;margin-bottom: 0.5em;}#sk-9c307c0a-a634-43cd-a630-201b28b4f2dc div.sk-estimator:hover {background-color: #d4ebff;}#sk-9c307c0a-a634-43cd-a630-201b28b4f2dc div.sk-parallel-item::after {content: \"\";width: 100%;border-bottom: 1px solid gray;flex-grow: 1;}#sk-9c307c0a-a634-43cd-a630-201b28b4f2dc div.sk-label:hover label.sk-toggleable__label {background-color: #d4ebff;}#sk-9c307c0a-a634-43cd-a630-201b28b4f2dc div.sk-serial::before {content: \"\";position: absolute;border-left: 1px solid gray;box-sizing: border-box;top: 2em;bottom: 0;left: 50%;}#sk-9c307c0a-a634-43cd-a630-201b28b4f2dc div.sk-serial {display: flex;flex-direction: column;align-items: center;background-color: white;padding-right: 0.2em;padding-left: 0.2em;}#sk-9c307c0a-a634-43cd-a630-201b28b4f2dc div.sk-item {z-index: 1;}#sk-9c307c0a-a634-43cd-a630-201b28b4f2dc div.sk-parallel {display: flex;align-items: stretch;justify-content: center;background-color: white;}#sk-9c307c0a-a634-43cd-a630-201b28b4f2dc div.sk-parallel::before {content: \"\";position: absolute;border-left: 1px solid gray;box-sizing: border-box;top: 2em;bottom: 0;left: 50%;}#sk-9c307c0a-a634-43cd-a630-201b28b4f2dc div.sk-parallel-item {display: flex;flex-direction: column;position: relative;background-color: white;}#sk-9c307c0a-a634-43cd-a630-201b28b4f2dc div.sk-parallel-item:first-child::after {align-self: flex-end;width: 50%;}#sk-9c307c0a-a634-43cd-a630-201b28b4f2dc div.sk-parallel-item:last-child::after {align-self: flex-start;width: 50%;}#sk-9c307c0a-a634-43cd-a630-201b28b4f2dc div.sk-parallel-item:only-child::after {width: 0;}#sk-9c307c0a-a634-43cd-a630-201b28b4f2dc div.sk-dashed-wrapped {border: 1px dashed gray;margin: 0 0.4em 0.5em 0.4em;box-sizing: border-box;padding-bottom: 0.4em;background-color: white;position: relative;}#sk-9c307c0a-a634-43cd-a630-201b28b4f2dc div.sk-label label {font-family: monospace;font-weight: bold;background-color: white;display: inline-block;line-height: 1.2em;}#sk-9c307c0a-a634-43cd-a630-201b28b4f2dc div.sk-label-container {position: relative;z-index: 2;text-align: center;}#sk-9c307c0a-a634-43cd-a630-201b28b4f2dc div.sk-container {/* jupyter's `normalize.less` sets `[hidden] { display: none; }` but bootstrap.min.css set `[hidden] { display: none !important; }` so we also need the `!important` here to be able to override the default hidden behavior on the sphinx rendered scikit-learn.org. See: https://github.com/scikit-learn/scikit-learn/issues/21755 */display: inline-block !important;position: relative;}#sk-9c307c0a-a634-43cd-a630-201b28b4f2dc div.sk-text-repr-fallback {display: none;}</style><div id=\"sk-9c307c0a-a634-43cd-a630-201b28b4f2dc\" class=\"sk-top-container\"><div class=\"sk-text-repr-fallback\"><pre>Pipeline(steps=[(&#x27;preprocessor&#x27;,\n",
       "                 ColumnTransformer(sparse_threshold=0,\n",
       "                                   transformers=[(&#x27;passthrough_numeric&#x27;,\n",
       "                                                  &#x27;passthrough&#x27;,\n",
       "                                                  [&#x27;LargestPropertyUseTypeGFA&#x27;,\n",
       "                                                   &#x27;SecondLargestPropertyUseTypeGFA&#x27;,\n",
       "                                                   &#x27;ThirdLargestPropertyUseTypeGFA&#x27;,\n",
       "                                                   &#x27;Electricity_p&#x27;,\n",
       "                                                   &#x27;NaturalGaz_p&#x27;, &#x27;Latitude&#x27;,\n",
       "                                                   &#x27;Longitude&#x27;,\n",
       "                                                   &#x27;NonResidentialGFA&#x27;,\n",
       "                                                   &#x27;PropertyGFAParking&#x27;,\n",
       "                                                   &#x27;PropertyGFABuilding(s)&#x27;,\n",
       "                                                   &#x27;NumberofBuild...\n",
       "                              gamma=0, gpu_id=-1, importance_type=None,\n",
       "                              interaction_constraints=&#x27;&#x27;,\n",
       "                              learning_rate=0.300000012, max_delta_step=0,\n",
       "                              max_depth=6, min_child_weight=1, missing=nan,\n",
       "                              monotone_constraints=&#x27;()&#x27;, n_estimators=100,\n",
       "                              n_jobs=8, num_parallel_tree=1, predictor=&#x27;auto&#x27;,\n",
       "                              random_state=0, reg_alpha=0, reg_lambda=1,\n",
       "                              scale_pos_weight=1, subsample=1,\n",
       "                              tree_method=&#x27;exact&#x27;, validate_parameters=1,\n",
       "                              verbosity=None))])</pre><b>Please rerun this cell to show the HTML repr or trust the notebook.</b></div><div class=\"sk-container\" hidden><div class=\"sk-item sk-dashed-wrapped\"><div class=\"sk-label-container\"><div class=\"sk-label sk-toggleable\"><input class=\"sk-toggleable__control sk-hidden--visually\" id=\"d874e86a-987a-4e29-9e93-e570278b32f7\" type=\"checkbox\" ><label for=\"d874e86a-987a-4e29-9e93-e570278b32f7\" class=\"sk-toggleable__label sk-toggleable__label-arrow\">Pipeline</label><div class=\"sk-toggleable__content\"><pre>Pipeline(steps=[(&#x27;preprocessor&#x27;,\n",
       "                 ColumnTransformer(sparse_threshold=0,\n",
       "                                   transformers=[(&#x27;passthrough_numeric&#x27;,\n",
       "                                                  &#x27;passthrough&#x27;,\n",
       "                                                  [&#x27;LargestPropertyUseTypeGFA&#x27;,\n",
       "                                                   &#x27;SecondLargestPropertyUseTypeGFA&#x27;,\n",
       "                                                   &#x27;ThirdLargestPropertyUseTypeGFA&#x27;,\n",
       "                                                   &#x27;Electricity_p&#x27;,\n",
       "                                                   &#x27;NaturalGaz_p&#x27;, &#x27;Latitude&#x27;,\n",
       "                                                   &#x27;Longitude&#x27;,\n",
       "                                                   &#x27;NonResidentialGFA&#x27;,\n",
       "                                                   &#x27;PropertyGFAParking&#x27;,\n",
       "                                                   &#x27;PropertyGFABuilding(s)&#x27;,\n",
       "                                                   &#x27;NumberofBuild...\n",
       "                              gamma=0, gpu_id=-1, importance_type=None,\n",
       "                              interaction_constraints=&#x27;&#x27;,\n",
       "                              learning_rate=0.300000012, max_delta_step=0,\n",
       "                              max_depth=6, min_child_weight=1, missing=nan,\n",
       "                              monotone_constraints=&#x27;()&#x27;, n_estimators=100,\n",
       "                              n_jobs=8, num_parallel_tree=1, predictor=&#x27;auto&#x27;,\n",
       "                              random_state=0, reg_alpha=0, reg_lambda=1,\n",
       "                              scale_pos_weight=1, subsample=1,\n",
       "                              tree_method=&#x27;exact&#x27;, validate_parameters=1,\n",
       "                              verbosity=None))])</pre></div></div></div><div class=\"sk-serial\"><div class=\"sk-item sk-dashed-wrapped\"><div class=\"sk-label-container\"><div class=\"sk-label sk-toggleable\"><input class=\"sk-toggleable__control sk-hidden--visually\" id=\"19aead6b-eecb-4e43-aff2-35d01aa5621f\" type=\"checkbox\" ><label for=\"19aead6b-eecb-4e43-aff2-35d01aa5621f\" class=\"sk-toggleable__label sk-toggleable__label-arrow\">preprocessor: ColumnTransformer</label><div class=\"sk-toggleable__content\"><pre>ColumnTransformer(sparse_threshold=0,\n",
       "                  transformers=[(&#x27;passthrough_numeric&#x27;, &#x27;passthrough&#x27;,\n",
       "                                 [&#x27;LargestPropertyUseTypeGFA&#x27;,\n",
       "                                  &#x27;SecondLargestPropertyUseTypeGFA&#x27;,\n",
       "                                  &#x27;ThirdLargestPropertyUseTypeGFA&#x27;,\n",
       "                                  &#x27;Electricity_p&#x27;, &#x27;NaturalGaz_p&#x27;, &#x27;Latitude&#x27;,\n",
       "                                  &#x27;Longitude&#x27;, &#x27;NonResidentialGFA&#x27;,\n",
       "                                  &#x27;PropertyGFAParking&#x27;,\n",
       "                                  &#x27;PropertyGFABuilding(s)&#x27;, &#x27;NumberofBuildings&#x27;,\n",
       "                                  &#x27;NumberofFloors&#x27;, &#x27;ratio_Site_Source_WN&#x27;]),\n",
       "                                (&#x27;cat_t&#x27;,\n",
       "                                 OneHotEncoder(handle_unknown=&#x27;ignore&#x27;),\n",
       "                                 [&#x27;PrimaryPropertyType&#x27;, &#x27;BuildingType&#x27;,\n",
       "                                  &#x27;LargestPropertyUseType&#x27;])],\n",
       "                  verbose_feature_names_out=False)</pre></div></div></div><div class=\"sk-parallel\"><div class=\"sk-parallel-item\"><div class=\"sk-item\"><div class=\"sk-label-container\"><div class=\"sk-label sk-toggleable\"><input class=\"sk-toggleable__control sk-hidden--visually\" id=\"363e2f36-6476-4ac1-bb04-720cb04631e5\" type=\"checkbox\" ><label for=\"363e2f36-6476-4ac1-bb04-720cb04631e5\" class=\"sk-toggleable__label sk-toggleable__label-arrow\">passthrough_numeric</label><div class=\"sk-toggleable__content\"><pre>[&#x27;LargestPropertyUseTypeGFA&#x27;, &#x27;SecondLargestPropertyUseTypeGFA&#x27;, &#x27;ThirdLargestPropertyUseTypeGFA&#x27;, &#x27;Electricity_p&#x27;, &#x27;NaturalGaz_p&#x27;, &#x27;Latitude&#x27;, &#x27;Longitude&#x27;, &#x27;NonResidentialGFA&#x27;, &#x27;PropertyGFAParking&#x27;, &#x27;PropertyGFABuilding(s)&#x27;, &#x27;NumberofBuildings&#x27;, &#x27;NumberofFloors&#x27;, &#x27;ratio_Site_Source_WN&#x27;]</pre></div></div></div><div class=\"sk-serial\"><div class=\"sk-item\"><div class=\"sk-estimator sk-toggleable\"><input class=\"sk-toggleable__control sk-hidden--visually\" id=\"aca2e9da-94fe-4095-8598-02a5823c0eaf\" type=\"checkbox\" ><label for=\"aca2e9da-94fe-4095-8598-02a5823c0eaf\" class=\"sk-toggleable__label sk-toggleable__label-arrow\">passthrough</label><div class=\"sk-toggleable__content\"><pre>passthrough</pre></div></div></div></div></div></div><div class=\"sk-parallel-item\"><div class=\"sk-item\"><div class=\"sk-label-container\"><div class=\"sk-label sk-toggleable\"><input class=\"sk-toggleable__control sk-hidden--visually\" id=\"5a05b335-a6a0-4417-8f19-e3fef0fee850\" type=\"checkbox\" ><label for=\"5a05b335-a6a0-4417-8f19-e3fef0fee850\" class=\"sk-toggleable__label sk-toggleable__label-arrow\">cat_t</label><div class=\"sk-toggleable__content\"><pre>[&#x27;PrimaryPropertyType&#x27;, &#x27;BuildingType&#x27;, &#x27;LargestPropertyUseType&#x27;]</pre></div></div></div><div class=\"sk-serial\"><div class=\"sk-item\"><div class=\"sk-estimator sk-toggleable\"><input class=\"sk-toggleable__control sk-hidden--visually\" id=\"0cf9a153-3af0-43cc-81a8-22afe6ecfef5\" type=\"checkbox\" ><label for=\"0cf9a153-3af0-43cc-81a8-22afe6ecfef5\" class=\"sk-toggleable__label sk-toggleable__label-arrow\">OneHotEncoder</label><div class=\"sk-toggleable__content\"><pre>OneHotEncoder(handle_unknown=&#x27;ignore&#x27;)</pre></div></div></div></div></div></div></div></div><div class=\"sk-item\"><div class=\"sk-estimator sk-toggleable\"><input class=\"sk-toggleable__control sk-hidden--visually\" id=\"13880c92-78fc-4c25-903f-d2d9cd0fc6f4\" type=\"checkbox\" ><label for=\"13880c92-78fc-4c25-903f-d2d9cd0fc6f4\" class=\"sk-toggleable__label sk-toggleable__label-arrow\">XGBRegressor</label><div class=\"sk-toggleable__content\"><pre>XGBRegressor(base_score=0.5, booster=&#x27;gbtree&#x27;, colsample_bylevel=1,\n",
       "             colsample_bynode=1, colsample_bytree=1, enable_categorical=False,\n",
       "             gamma=0, gpu_id=-1, importance_type=None,\n",
       "             interaction_constraints=&#x27;&#x27;, learning_rate=0.300000012,\n",
       "             max_delta_step=0, max_depth=6, min_child_weight=1, missing=nan,\n",
       "             monotone_constraints=&#x27;()&#x27;, n_estimators=100, n_jobs=8,\n",
       "             num_parallel_tree=1, predictor=&#x27;auto&#x27;, random_state=0, reg_alpha=0,\n",
       "             reg_lambda=1, scale_pos_weight=1, subsample=1, tree_method=&#x27;exact&#x27;,\n",
       "             validate_parameters=1, verbosity=None)</pre></div></div></div></div></div></div></div>"
      ],
      "text/plain": [
       "Pipeline(steps=[('preprocessor',\n",
       "                 ColumnTransformer(sparse_threshold=0,\n",
       "                                   transformers=[('passthrough_numeric',\n",
       "                                                  'passthrough',\n",
       "                                                  ['LargestPropertyUseTypeGFA',\n",
       "                                                   'SecondLargestPropertyUseTypeGFA',\n",
       "                                                   'ThirdLargestPropertyUseTypeGFA',\n",
       "                                                   'Electricity_p',\n",
       "                                                   'NaturalGaz_p', 'Latitude',\n",
       "                                                   'Longitude',\n",
       "                                                   'NonResidentialGFA',\n",
       "                                                   'PropertyGFAParking',\n",
       "                                                   'PropertyGFABuilding(s)',\n",
       "                                                   'NumberofBuild...\n",
       "                              gamma=0, gpu_id=-1, importance_type=None,\n",
       "                              interaction_constraints='',\n",
       "                              learning_rate=0.300000012, max_delta_step=0,\n",
       "                              max_depth=6, min_child_weight=1, missing=nan,\n",
       "                              monotone_constraints='()', n_estimators=100,\n",
       "                              n_jobs=8, num_parallel_tree=1, predictor='auto',\n",
       "                              random_state=0, reg_alpha=0, reg_lambda=1,\n",
       "                              scale_pos_weight=1, subsample=1,\n",
       "                              tree_method='exact', validate_parameters=1,\n",
       "                              verbosity=None))])"
      ]
     },
     "execution_count": 164,
     "metadata": {},
     "output_type": "execute_result"
    }
   ],
   "source": [
    "modele.fit(X_train, y_train)"
   ]
  },
  {
   "cell_type": "code",
   "execution_count": null,
   "id": "aacaf3ea",
   "metadata": {},
   "outputs": [],
   "source": []
  },
  {
   "cell_type": "code",
   "execution_count": 165,
   "id": "95e87b9e",
   "metadata": {
    "scrolled": true
   },
   "outputs": [
    {
     "data": {
      "text/html": [
       "<div>\n",
       "<style scoped>\n",
       "    .dataframe tbody tr th:only-of-type {\n",
       "        vertical-align: middle;\n",
       "    }\n",
       "\n",
       "    .dataframe tbody tr th {\n",
       "        vertical-align: top;\n",
       "    }\n",
       "\n",
       "    .dataframe thead th {\n",
       "        text-align: right;\n",
       "    }\n",
       "</style>\n",
       "<table border=\"1\" class=\"dataframe\">\n",
       "  <thead>\n",
       "    <tr style=\"text-align: right;\">\n",
       "      <th></th>\n",
       "      <th>Modele</th>\n",
       "      <th>Ensembliste</th>\n",
       "      <th>Target</th>\n",
       "      <th>Train_RMSE</th>\n",
       "      <th>Test_RMSE</th>\n",
       "      <th>Train_R2</th>\n",
       "      <th>Test_R2</th>\n",
       "      <th>Commentaires</th>\n",
       "    </tr>\n",
       "  </thead>\n",
       "  <tbody>\n",
       "    <tr>\n",
       "      <th>0</th>\n",
       "      <td>DummyRegressor</td>\n",
       "      <td>non</td>\n",
       "      <td>TotalGHGEmissions</td>\n",
       "      <td>154.78</td>\n",
       "      <td>160.48</td>\n",
       "      <td>0.00</td>\n",
       "      <td>-0.00</td>\n",
       "      <td></td>\n",
       "    </tr>\n",
       "    <tr>\n",
       "      <th>1</th>\n",
       "      <td>Ridge</td>\n",
       "      <td>non</td>\n",
       "      <td>TotalGHGEmissions</td>\n",
       "      <td>120.16</td>\n",
       "      <td>131.75</td>\n",
       "      <td>0.40</td>\n",
       "      <td>0.33</td>\n",
       "      <td></td>\n",
       "    </tr>\n",
       "    <tr>\n",
       "      <th>2</th>\n",
       "      <td>LinearRegression</td>\n",
       "      <td>non</td>\n",
       "      <td>TotalGHGEmissions</td>\n",
       "      <td>106.44</td>\n",
       "      <td>101.18</td>\n",
       "      <td>0.53</td>\n",
       "      <td>0.60</td>\n",
       "      <td></td>\n",
       "    </tr>\n",
       "    <tr>\n",
       "      <th>3</th>\n",
       "      <td>DecisionTreeRegressor</td>\n",
       "      <td>non</td>\n",
       "      <td>TotalGHGEmissions</td>\n",
       "      <td>133.29</td>\n",
       "      <td>151.04</td>\n",
       "      <td>0.26</td>\n",
       "      <td>0.11</td>\n",
       "      <td></td>\n",
       "    </tr>\n",
       "    <tr>\n",
       "      <th>4</th>\n",
       "      <td>SVR</td>\n",
       "      <td>non</td>\n",
       "      <td>TotalGHGEmissions</td>\n",
       "      <td>153.77</td>\n",
       "      <td>160.06</td>\n",
       "      <td>0.01</td>\n",
       "      <td>0.00</td>\n",
       "      <td></td>\n",
       "    </tr>\n",
       "    <tr>\n",
       "      <th>5</th>\n",
       "      <td>BaggingRegressor</td>\n",
       "      <td>LinearRegression</td>\n",
       "      <td>TotalGHGEmissions</td>\n",
       "      <td>154.83</td>\n",
       "      <td>160.39</td>\n",
       "      <td>-0.00</td>\n",
       "      <td>-0.00</td>\n",
       "      <td></td>\n",
       "    </tr>\n",
       "    <tr>\n",
       "      <th>6</th>\n",
       "      <td>BaggingRegressor</td>\n",
       "      <td>SVR</td>\n",
       "      <td>TotalGHGEmissions</td>\n",
       "      <td>146.96</td>\n",
       "      <td>174.64</td>\n",
       "      <td>0.10</td>\n",
       "      <td>-0.19</td>\n",
       "      <td></td>\n",
       "    </tr>\n",
       "    <tr>\n",
       "      <th>7</th>\n",
       "      <td>BaggingRegressor</td>\n",
       "      <td>DecisionTreeRegressor</td>\n",
       "      <td>TotalGHGEmissions</td>\n",
       "      <td>122.40</td>\n",
       "      <td>140.40</td>\n",
       "      <td>0.37</td>\n",
       "      <td>0.23</td>\n",
       "      <td>avec arret précoce</td>\n",
       "    </tr>\n",
       "    <tr>\n",
       "      <th>8</th>\n",
       "      <td>AdaBoostRegressor</td>\n",
       "      <td>LinearRegresssion</td>\n",
       "      <td>TotalGHGEmissions</td>\n",
       "      <td>122.07</td>\n",
       "      <td>139.08</td>\n",
       "      <td>0.38</td>\n",
       "      <td>0.25</td>\n",
       "      <td></td>\n",
       "    </tr>\n",
       "    <tr>\n",
       "      <th>9</th>\n",
       "      <td>AdaBoostRegressor</td>\n",
       "      <td>DecisionTreeRegressor</td>\n",
       "      <td>TotalGHGEmissions</td>\n",
       "      <td>57.35</td>\n",
       "      <td>109.23</td>\n",
       "      <td>0.86</td>\n",
       "      <td>0.54</td>\n",
       "      <td></td>\n",
       "    </tr>\n",
       "    <tr>\n",
       "      <th>10</th>\n",
       "      <td>XGBRegressor</td>\n",
       "      <td>DecisionTreeRegressor</td>\n",
       "      <td>TotalGHGEmissions</td>\n",
       "      <td>16.29</td>\n",
       "      <td>108.07</td>\n",
       "      <td>0.99</td>\n",
       "      <td>0.55</td>\n",
       "      <td></td>\n",
       "    </tr>\n",
       "  </tbody>\n",
       "</table>\n",
       "</div>"
      ],
      "text/plain": [
       "                   Modele            Ensembliste             Target  \\\n",
       "0          DummyRegressor                    non  TotalGHGEmissions   \n",
       "1                   Ridge                    non  TotalGHGEmissions   \n",
       "2        LinearRegression                    non  TotalGHGEmissions   \n",
       "3   DecisionTreeRegressor                    non  TotalGHGEmissions   \n",
       "4                     SVR                    non  TotalGHGEmissions   \n",
       "5        BaggingRegressor       LinearRegression  TotalGHGEmissions   \n",
       "6        BaggingRegressor                    SVR  TotalGHGEmissions   \n",
       "7        BaggingRegressor  DecisionTreeRegressor  TotalGHGEmissions   \n",
       "8       AdaBoostRegressor      LinearRegresssion  TotalGHGEmissions   \n",
       "9       AdaBoostRegressor  DecisionTreeRegressor  TotalGHGEmissions   \n",
       "10           XGBRegressor  DecisionTreeRegressor  TotalGHGEmissions   \n",
       "\n",
       "    Train_RMSE  Test_RMSE  Train_R2  Test_R2        Commentaires  \n",
       "0       154.78     160.48      0.00    -0.00                      \n",
       "1       120.16     131.75      0.40     0.33                      \n",
       "2       106.44     101.18      0.53     0.60                      \n",
       "3       133.29     151.04      0.26     0.11                      \n",
       "4       153.77     160.06      0.01     0.00                      \n",
       "5       154.83     160.39     -0.00    -0.00                      \n",
       "6       146.96     174.64      0.10    -0.19                      \n",
       "7       122.40     140.40      0.37     0.23  avec arret précoce  \n",
       "8       122.07     139.08      0.38     0.25                      \n",
       "9        57.35     109.23      0.86     0.54                      \n",
       "10       16.29     108.07      0.99     0.55                      "
      ]
     },
     "execution_count": 165,
     "metadata": {},
     "output_type": "execute_result"
    }
   ],
   "source": [
    "df_summary =summary(modele,df_summary, X_train, X_test, y_train, y_test, ensembliste = \"DecisionTreeRegressor\")\n",
    "df_summary"
   ]
  },
  {
   "cell_type": "code",
   "execution_count": null,
   "id": "fc5621de",
   "metadata": {},
   "outputs": [],
   "source": []
  },
  {
   "cell_type": "code",
   "execution_count": null,
   "id": "e58c2644",
   "metadata": {},
   "outputs": [],
   "source": []
  },
  {
   "cell_type": "code",
   "execution_count": 166,
   "id": "f453b683",
   "metadata": {},
   "outputs": [],
   "source": [
    "### Comparaison la distribution entre les observations et les predictions des differents models"
   ]
  },
  {
   "cell_type": "code",
   "execution_count": 167,
   "id": "b6e91217",
   "metadata": {},
   "outputs": [
    {
     "ename": "NameError",
     "evalue": "name 'df_train' is not defined",
     "output_type": "error",
     "traceback": [
      "\u001b[0;31m---------------------------------------------------------------------------\u001b[0m",
      "\u001b[0;31mNameError\u001b[0m                                 Traceback (most recent call last)",
      "\u001b[0;32m/tmp/ipykernel_1111960/643927340.py\u001b[0m in \u001b[0;36m<module>\u001b[0;34m\u001b[0m\n\u001b[1;32m      3\u001b[0m \u001b[0mn_bins\u001b[0m \u001b[0;34m=\u001b[0m \u001b[0;36m500\u001b[0m\u001b[0;34m\u001b[0m\u001b[0;34m\u001b[0m\u001b[0m\n\u001b[1;32m      4\u001b[0m \u001b[0;34m\u001b[0m\u001b[0m\n\u001b[0;32m----> 5\u001b[0;31m \u001b[0;32mfor\u001b[0m \u001b[0mrow_idx\u001b[0m\u001b[0;34m,\u001b[0m \u001b[0mlabel\u001b[0m\u001b[0;34m,\u001b[0m \u001b[0mdf\u001b[0m \u001b[0;32min\u001b[0m \u001b[0mzip\u001b[0m\u001b[0;34m(\u001b[0m\u001b[0mrange\u001b[0m\u001b[0;34m(\u001b[0m\u001b[0;36m2\u001b[0m\u001b[0;34m)\u001b[0m\u001b[0;34m,\u001b[0m\u001b[0;34m[\u001b[0m\u001b[0;34m\"train\"\u001b[0m\u001b[0;34m,\u001b[0m\u001b[0;34m\"test\"\u001b[0m\u001b[0;34m]\u001b[0m\u001b[0;34m,\u001b[0m \u001b[0;34m[\u001b[0m\u001b[0mdf_train\u001b[0m\u001b[0;34m,\u001b[0m \u001b[0mdf_test\u001b[0m\u001b[0;34m]\u001b[0m\u001b[0;34m)\u001b[0m\u001b[0;34m:\u001b[0m\u001b[0;34m\u001b[0m\u001b[0;34m\u001b[0m\u001b[0m\n\u001b[0m\u001b[1;32m      6\u001b[0m     \u001b[0msns\u001b[0m\u001b[0;34m.\u001b[0m\u001b[0mhistplot\u001b[0m\u001b[0;34m(\u001b[0m\u001b[0mdata\u001b[0m \u001b[0;34m=\u001b[0m \u001b[0mdf\u001b[0m\u001b[0;34m[\u001b[0m\u001b[0;34m'TotalGHGEmissions'\u001b[0m\u001b[0;34m]\u001b[0m\u001b[0;34m,\u001b[0m \u001b[0mbins\u001b[0m \u001b[0;34m=\u001b[0m \u001b[0mn_bins\u001b[0m\u001b[0;34m,\u001b[0m \u001b[0max\u001b[0m \u001b[0;34m=\u001b[0m \u001b[0maxes\u001b[0m\u001b[0;34m[\u001b[0m\u001b[0mrow_idx\u001b[0m\u001b[0;34m,\u001b[0m\u001b[0;36m0\u001b[0m\u001b[0;34m]\u001b[0m\u001b[0;34m)\u001b[0m\u001b[0;34m\u001b[0m\u001b[0;34m\u001b[0m\u001b[0m\n\u001b[1;32m      7\u001b[0m     \u001b[0maxes\u001b[0m\u001b[0;34m[\u001b[0m\u001b[0mrow_idx\u001b[0m\u001b[0;34m,\u001b[0m \u001b[0;36m0\u001b[0m\u001b[0;34m]\u001b[0m\u001b[0;34m.\u001b[0m\u001b[0mset_title\u001b[0m\u001b[0;34m(\u001b[0m\u001b[0;34m'data'\u001b[0m\u001b[0;34m)\u001b[0m\u001b[0;34m\u001b[0m\u001b[0;34m\u001b[0m\u001b[0m\n",
      "\u001b[0;31mNameError\u001b[0m: name 'df_train' is not defined"
     ]
    },
    {
     "data": {
      "image/png": "[encoded data removed]",
      "text/plain": [
       "<Figure size 1600x500 with 8 Axes>"
      ]
     },
     "metadata": {},
     "output_type": "display_data"
    },
    {
     "name": "stderr",
     "output_type": "stream",
     "text": [
      "/home/bryan/anaconda3/envs/KeFlow/lib/python3.7/site-packages/sklearn/linear_model/_ridge.py:157: LinAlgWarning: Ill-conditioned matrix (rcond=1.88327e-25): result may not be accurate.\n",
      "  return linalg.solve(A, Xy, sym_pos=True, overwrite_a=True).T\n",
      "/home/bryan/anaconda3/envs/KeFlow/lib/python3.7/site-packages/sklearn/linear_model/_ridge.py:157: LinAlgWarning: Ill-conditioned matrix (rcond=1.94169e-25): result may not be accurate.\n",
      "  return linalg.solve(A, Xy, sym_pos=True, overwrite_a=True).T\n",
      "/home/bryan/anaconda3/envs/KeFlow/lib/python3.7/site-packages/sklearn/linear_model/_ridge.py:157: LinAlgWarning: Ill-conditioned matrix (rcond=2.29978e-23): result may not be accurate.\n",
      "  return linalg.solve(A, Xy, sym_pos=True, overwrite_a=True).T\n",
      "/home/bryan/anaconda3/envs/KeFlow/lib/python3.7/site-packages/sklearn/linear_model/_ridge.py:157: LinAlgWarning: Ill-conditioned matrix (rcond=1.68746e-23): result may not be accurate.\n",
      "  return linalg.solve(A, Xy, sym_pos=True, overwrite_a=True).T\n",
      "/home/bryan/anaconda3/envs/KeFlow/lib/python3.7/site-packages/sklearn/linear_model/_ridge.py:157: LinAlgWarning: Ill-conditioned matrix (rcond=1.68255e-23): result may not be accurate.\n",
      "  return linalg.solve(A, Xy, sym_pos=True, overwrite_a=True).T\n",
      "/home/bryan/anaconda3/envs/KeFlow/lib/python3.7/site-packages/sklearn/linear_model/_ridge.py:157: LinAlgWarning: Ill-conditioned matrix (rcond=1.81977e-23): result may not be accurate.\n",
      "  return linalg.solve(A, Xy, sym_pos=True, overwrite_a=True).T\n",
      "/home/bryan/anaconda3/envs/KeFlow/lib/python3.7/site-packages/sklearn/linear_model/_ridge.py:157: LinAlgWarning: Ill-conditioned matrix (rcond=1.38639e-37): result may not be accurate.\n",
      "  return linalg.solve(A, Xy, sym_pos=True, overwrite_a=True).T\n",
      "/home/bryan/anaconda3/envs/KeFlow/lib/python3.7/site-packages/sklearn/linear_model/_ridge.py:157: LinAlgWarning: Ill-conditioned matrix (rcond=2.24204e-24): result may not be accurate.\n",
      "  return linalg.solve(A, Xy, sym_pos=True, overwrite_a=True).T\n",
      "/home/bryan/anaconda3/envs/KeFlow/lib/python3.7/site-packages/sklearn/linear_model/_ridge.py:157: LinAlgWarning: Ill-conditioned matrix (rcond=1.57883e-24): result may not be accurate.\n",
      "  return linalg.solve(A, Xy, sym_pos=True, overwrite_a=True).T\n",
      "/home/bryan/anaconda3/envs/KeFlow/lib/python3.7/site-packages/sklearn/linear_model/_ridge.py:157: LinAlgWarning: Ill-conditioned matrix (rcond=1.67904e-23): result may not be accurate.\n",
      "  return linalg.solve(A, Xy, sym_pos=True, overwrite_a=True).T\n",
      "/home/bryan/anaconda3/envs/KeFlow/lib/python3.7/site-packages/sklearn/linear_model/_ridge.py:157: LinAlgWarning: Ill-conditioned matrix (rcond=1.67517e-23): result may not be accurate.\n",
      "  return linalg.solve(A, Xy, sym_pos=True, overwrite_a=True).T\n",
      "/home/bryan/anaconda3/envs/KeFlow/lib/python3.7/site-packages/sklearn/linear_model/_ridge.py:157: LinAlgWarning: Ill-conditioned matrix (rcond=1.87313e-25): result may not be accurate.\n",
      "  return linalg.solve(A, Xy, sym_pos=True, overwrite_a=True).T\n",
      "/home/bryan/anaconda3/envs/KeFlow/lib/python3.7/site-packages/sklearn/linear_model/_ridge.py:157: LinAlgWarning: Ill-conditioned matrix (rcond=1.83086e-25): result may not be accurate.\n",
      "  return linalg.solve(A, Xy, sym_pos=True, overwrite_a=True).T\n",
      "/home/bryan/anaconda3/envs/KeFlow/lib/python3.7/site-packages/sklearn/linear_model/_ridge.py:157: LinAlgWarning: Ill-conditioned matrix (rcond=2.21057e-23): result may not be accurate.\n",
      "  return linalg.solve(A, Xy, sym_pos=True, overwrite_a=True).T\n",
      "/home/bryan/anaconda3/envs/KeFlow/lib/python3.7/site-packages/sklearn/linear_model/_ridge.py:157: LinAlgWarning: Ill-conditioned matrix (rcond=1.73865e-23): result may not be accurate.\n",
      "  return linalg.solve(A, Xy, sym_pos=True, overwrite_a=True).T\n",
      "/home/bryan/anaconda3/envs/KeFlow/lib/python3.7/site-packages/sklearn/linear_model/_ridge.py:157: LinAlgWarning: Ill-conditioned matrix (rcond=1.6546e-24): result may not be accurate.\n",
      "  return linalg.solve(A, Xy, sym_pos=True, overwrite_a=True).T\n",
      "/home/bryan/anaconda3/envs/KeFlow/lib/python3.7/site-packages/sklearn/linear_model/_ridge.py:157: LinAlgWarning: Ill-conditioned matrix (rcond=1.78117e-24): result may not be accurate.\n",
      "  return linalg.solve(A, Xy, sym_pos=True, overwrite_a=True).T\n",
      "/home/bryan/anaconda3/envs/KeFlow/lib/python3.7/site-packages/sklearn/linear_model/_ridge.py:157: LinAlgWarning: Ill-conditioned matrix (rcond=1.7187e-23): result may not be accurate.\n",
      "  return linalg.solve(A, Xy, sym_pos=True, overwrite_a=True).T\n",
      "/home/bryan/anaconda3/envs/KeFlow/lib/python3.7/site-packages/sklearn/linear_model/_ridge.py:157: LinAlgWarning: Ill-conditioned matrix (rcond=2.72771e-23): result may not be accurate.\n",
      "  return linalg.solve(A, Xy, sym_pos=True, overwrite_a=True).T\n",
      "/home/bryan/anaconda3/envs/KeFlow/lib/python3.7/site-packages/sklearn/linear_model/_ridge.py:157: LinAlgWarning: Ill-conditioned matrix (rcond=1.92604e-25): result may not be accurate.\n",
      "  return linalg.solve(A, Xy, sym_pos=True, overwrite_a=True).T\n",
      "/home/bryan/anaconda3/envs/KeFlow/lib/python3.7/site-packages/sklearn/linear_model/_ridge.py:157: LinAlgWarning: Ill-conditioned matrix (rcond=2.0888e-25): result may not be accurate.\n",
      "  return linalg.solve(A, Xy, sym_pos=True, overwrite_a=True).T\n",
      "/home/bryan/anaconda3/envs/KeFlow/lib/python3.7/site-packages/sklearn/linear_model/_ridge.py:157: LinAlgWarning: Ill-conditioned matrix (rcond=1.64262e-24): result may not be accurate.\n",
      "  return linalg.solve(A, Xy, sym_pos=True, overwrite_a=True).T\n",
      "/home/bryan/anaconda3/envs/KeFlow/lib/python3.7/site-packages/sklearn/linear_model/_ridge.py:157: LinAlgWarning: Ill-conditioned matrix (rcond=1.77603e-24): result may not be accurate.\n",
      "  return linalg.solve(A, Xy, sym_pos=True, overwrite_a=True).T\n",
      "/home/bryan/anaconda3/envs/KeFlow/lib/python3.7/site-packages/sklearn/linear_model/_ridge.py:157: LinAlgWarning: Ill-conditioned matrix (rcond=2.57287e-25): result may not be accurate.\n",
      "  return linalg.solve(A, Xy, sym_pos=True, overwrite_a=True).T\n",
      "/home/bryan/anaconda3/envs/KeFlow/lib/python3.7/site-packages/sklearn/linear_model/_ridge.py:157: LinAlgWarning: Ill-conditioned matrix (rcond=1.67693e-25): result may not be accurate.\n",
      "  return linalg.solve(A, Xy, sym_pos=True, overwrite_a=True).T\n",
      "/home/bryan/anaconda3/envs/KeFlow/lib/python3.7/site-packages/sklearn/linear_model/_ridge.py:157: LinAlgWarning: Ill-conditioned matrix (rcond=1.7029e-24): result may not be accurate.\n",
      "  return linalg.solve(A, Xy, sym_pos=True, overwrite_a=True).T\n",
      "/home/bryan/anaconda3/envs/KeFlow/lib/python3.7/site-packages/sklearn/linear_model/_ridge.py:157: LinAlgWarning: Ill-conditioned matrix (rcond=1.66275e-24): result may not be accurate.\n",
      "  return linalg.solve(A, Xy, sym_pos=True, overwrite_a=True).T\n",
      "/home/bryan/anaconda3/envs/KeFlow/lib/python3.7/site-packages/sklearn/linear_model/_ridge.py:157: LinAlgWarning: Ill-conditioned matrix (rcond=2.79216e-36): result may not be accurate.\n",
      "  return linalg.solve(A, Xy, sym_pos=True, overwrite_a=True).T\n",
      "/home/bryan/anaconda3/envs/KeFlow/lib/python3.7/site-packages/sklearn/linear_model/_ridge.py:157: LinAlgWarning: Ill-conditioned matrix (rcond=6.26475e-37): result may not be accurate.\n",
      "  return linalg.solve(A, Xy, sym_pos=True, overwrite_a=True).T\n",
      "/home/bryan/anaconda3/envs/KeFlow/lib/python3.7/site-packages/sklearn/linear_model/_ridge.py:157: LinAlgWarning: Ill-conditioned matrix (rcond=1.8622e-25): result may not be accurate.\n",
      "  return linalg.solve(A, Xy, sym_pos=True, overwrite_a=True).T\n",
      "/home/bryan/anaconda3/envs/KeFlow/lib/python3.7/site-packages/sklearn/linear_model/_ridge.py:157: LinAlgWarning: Ill-conditioned matrix (rcond=3.12691e-25): result may not be accurate.\n",
      "  return linalg.solve(A, Xy, sym_pos=True, overwrite_a=True).T\n",
      "/home/bryan/anaconda3/envs/KeFlow/lib/python3.7/site-packages/sklearn/linear_model/_ridge.py:157: LinAlgWarning: Ill-conditioned matrix (rcond=1.64708e-24): result may not be accurate.\n",
      "  return linalg.solve(A, Xy, sym_pos=True, overwrite_a=True).T\n",
      "/home/bryan/anaconda3/envs/KeFlow/lib/python3.7/site-packages/sklearn/linear_model/_ridge.py:157: LinAlgWarning: Ill-conditioned matrix (rcond=2.67277e-24): result may not be accurate.\n",
      "  return linalg.solve(A, Xy, sym_pos=True, overwrite_a=True).T\n"
     ]
    }
   ],
   "source": [
    "fig, axes = plt.subplots(nrows = 2, ncols = 4, figsize = (16,5), sharey = True)\n",
    "fig.subplots_adjust(bottom =-0.3)\n",
    "n_bins = 500\n",
    "\n",
    "for row_idx, label, df in zip(range(2),[\"train\",\"test\"], [df_train, df_test]):\n",
    "    sns.histplot(data = df['TotalGHGEmissions'], bins = n_bins, ax = axes[row_idx,0])\n",
    "    axes[row_idx, 0].set_title('data')\n",
    "    axes[row_idx, 0].set_ylabel(label)\n",
    "    axes[row_idx, 0].set_xlim(-100,1500)\n",
    "    axes[row_idx, 0].set_xlabel('y_oberved')\n",
    "    \n",
    "    for idx, model in enumerate([lin_reg, ridge_reg, tree_reg]):\n",
    "        y_pred=model.predict(df)\n",
    "        sns.histplot(pd.Series(y_pred), bins =n_bins, ax = axes[row_idx, idx+1])\n",
    "        axes[row_idx,idx +1].set(\n",
    "            title = model[-1].__class__.__name__,\n",
    "            xlabel=\"y_pred (predicted expected Frequency)\",\n",
    "            xlim = (-100,1500)\n",
    "        )\n",
    "\n",
    "plt.show()"
   ]
  },
  {
   "cell_type": "code",
   "execution_count": null,
   "id": "ffa87392",
   "metadata": {},
   "outputs": [],
   "source": []
  },
  {
   "cell_type": "code",
   "execution_count": null,
   "id": "501c2f72",
   "metadata": {},
   "outputs": [],
   "source": []
  },
  {
   "cell_type": "code",
   "execution_count": null,
   "id": "ef815490",
   "metadata": {},
   "outputs": [],
   "source": []
  }
 ],
 "metadata": {
  "kernelspec": {
   "display_name": "Python 3 (ipykernel)",
   "language": "python",
   "name": "python3"
  },
  "language_info": {
   "codemirror_mode": {
    "name": "ipython",
    "version": 3
   },
   "file_extension": ".py",
   "mimetype": "text/x-python",
   "name": "python",
   "nbconvert_exporter": "python",
   "pygments_lexer": "ipython3",
   "version": "3.7.11"
  }
 },
 "nbformat": 4,
 "nbformat_minor": 5
}
