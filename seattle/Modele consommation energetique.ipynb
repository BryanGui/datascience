{
 "cells": [
  {
   "cell_type": "code",
   "execution_count": 1,
   "id": "3d4580bf",
   "metadata": {},
   "outputs": [],
   "source": [
    "#config\n",
    "from sklearn import set_config\n",
    "set_config(display = \"diagram\")\n",
    "\n",
    "#built in\n",
    "import os \n",
    "\n",
    "#HTML\n",
    "from IPython.core.display import HTML\n",
    "\n",
    "#data\n",
    "import pandas as pd\n",
    "import numpy as np\n",
    "\n",
    "#preprocessing\n",
    "from sklearn.preprocessing import StandardScaler, PolynomialFeatures, RobustScaler\n",
    "from sklearn.preprocessing import OneHotEncoder, LabelBinarizer, KBinsDiscretizer\n",
    "\n",
    "#pipeline\n",
    "from sklearn.pipeline import Pipeline, make_pipeline\n",
    "\n",
    "#compose\n",
    "from sklearn.compose import ColumnTransformer, make_column_transformer\n",
    "\n",
    "#Estimator\n",
    "from sklearn.linear_model import ElasticNet, LinearRegression, Ridge, Lasso\n",
    "from sklearn.svm import SVR, LinearSVR\n",
    "from sklearn.ensemble import RandomForestRegressor\n",
    "from sklearn.dummy import DummyRegressor\n",
    "from sklearn.tree import DecisionTreeRegressor\n",
    "from sklearn.ensemble import BaggingRegressor\n",
    "from sklearn.ensemble import AdaBoostRegressor\n",
    "\n",
    "#feature selection\n",
    "from sklearn.feature_selection import VarianceThreshold\n",
    "\n",
    "#model selection\n",
    "from sklearn.model_selection import train_test_split, GridSearchCV\n",
    "\n",
    "#metrics\n",
    "from sklearn.metrics import r2_score,mean_squared_error, SCORERS\n",
    "\n",
    "#clone\n",
    "from sklearn.base import clone"
   ]
  },
  {
   "cell_type": "code",
   "execution_count": 2,
   "id": "6ae69286",
   "metadata": {},
   "outputs": [],
   "source": [
    "import matplotlib.pyplot as plt\n",
    "import seaborn as sns\n",
    "\n",
    "sns.set_style(\n",
    "    style='darkgrid', \n",
    "    rc={'axes.facecolor': '.9', 'grid.color': '.8'}\n",
    ")\n",
    "\n",
    "sns.set_palette(palette='deep')\n",
    "sns_c = sns.color_palette(palette='deep')\n",
    "\n",
    "plt.rcParams['figure.figsize'] = [10, 6]\n",
    "plt.rcParams['figure.dpi'] = 100"
   ]
  },
  {
   "cell_type": "markdown",
   "id": "740ca1ec",
   "metadata": {},
   "source": [
    "# 1 -Preparation des données"
   ]
  },
  {
   "cell_type": "markdown",
   "id": "145243af",
   "metadata": {},
   "source": [
    "## 1.1 - Chargement"
   ]
  },
  {
   "cell_type": "code",
   "execution_count": 3,
   "id": "de5930b9",
   "metadata": {},
   "outputs": [],
   "source": [
    "source = 'data/cleaned/'\n",
    "filename = 'df_clean2.csv'\n",
    "df = pd.read_csv(source + filename, index_col = 0)"
   ]
  },
  {
   "cell_type": "code",
   "execution_count": 4,
   "id": "c0e3c0c0",
   "metadata": {},
   "outputs": [
    {
     "data": {
      "text/plain": [
       "(2384, 43)"
      ]
     },
     "execution_count": 4,
     "metadata": {},
     "output_type": "execute_result"
    }
   ],
   "source": [
    "df.shape"
   ]
  },
  {
   "cell_type": "code",
   "execution_count": 5,
   "id": "dc87cb28",
   "metadata": {},
   "outputs": [],
   "source": [
    "cond = df['ENERGYSTARScore'].isna()\n",
    "rqdIndex = df[cond].index\n",
    "df.drop(rqdIndex, axis = 0, inplace = True)"
   ]
  },
  {
   "cell_type": "code",
   "execution_count": 6,
   "id": "a101b198",
   "metadata": {},
   "outputs": [
    {
     "data": {
      "text/plain": [
       "(1646, 43)"
      ]
     },
     "execution_count": 6,
     "metadata": {},
     "output_type": "execute_result"
    }
   ],
   "source": [
    "df.shape"
   ]
  },
  {
   "cell_type": "markdown",
   "id": "251a94eb",
   "metadata": {},
   "source": [
    "### Fonction pour afficher les resultats dans une DF"
   ]
  },
  {
   "cell_type": "code",
   "execution_count": 7,
   "id": "180f1c1c",
   "metadata": {},
   "outputs": [],
   "source": [
    "#fonction qui renvoie la R2 et Rmse\n",
    "def score_p(modele, X, y):\n",
    "    y_pred = modele.predict(X)\n",
    "    rmse = mean_squared_error(y, y_pred, squared = False).round(2)\n",
    "    r2 = r2_score(y, y_pred).round(2)\n",
    "    \n",
    "    return rmse, r2"
   ]
  },
  {
   "cell_type": "code",
   "execution_count": 8,
   "id": "c4362e4e",
   "metadata": {},
   "outputs": [],
   "source": [
    "def add_result(df, data):\n",
    "    df = df.copy()\n",
    "    df = df.append(data,  ignore_index= True)\n",
    "    return df"
   ]
  },
  {
   "cell_type": "code",
   "execution_count": 9,
   "id": "4a9d8356",
   "metadata": {},
   "outputs": [],
   "source": [
    "#fonction pour calculer le R2 et rmse\n",
    "def summary( modele, df, X_train, X_test, y_train , y_test, \n",
    "            ensembliste = 'non',target ='TotalGHGEmissions',commentaires = \"\"):\n",
    "\n",
    "    #recupération nom du modele\n",
    "    nom_modele = modele[-1].__class__.__name__\n",
    "    \n",
    "    #Calcul du rmse et r2\n",
    "    #train set\n",
    "    train_rmse = score_p(modele, X_train, y_train)[0]\n",
    "    train_r2 = score_p(modele, X_train, y_train)[1]\n",
    "    \n",
    "    #test set\n",
    "    test_rmse = score_p(modele, X_test, y_test)[0]\n",
    "    test_r2 = score_p(modele, X_test, y_test)[1]\n",
    "    \n",
    "    #On ajoute les données dans la DataFrame\n",
    "    \n",
    "    data = {'Modele' : nom_modele,'Ensembliste':ensembliste,'Target' : target,\n",
    "               'Train_RMSE': train_rmse,'Test_RMSE' : test_rmse,'Train_R2' : train_r2,\n",
    "               'Test_R2' : test_r2, 'Commentaires' : commentaires}\n",
    "    df = add_result(df, data)\n",
    "    return df"
   ]
  },
  {
   "cell_type": "code",
   "execution_count": 10,
   "id": "4835ec53",
   "metadata": {},
   "outputs": [
    {
     "data": {
      "text/html": [
       "<div>\n",
       "<style scoped>\n",
       "    .dataframe tbody tr th:only-of-type {\n",
       "        vertical-align: middle;\n",
       "    }\n",
       "\n",
       "    .dataframe tbody tr th {\n",
       "        vertical-align: top;\n",
       "    }\n",
       "\n",
       "    .dataframe thead th {\n",
       "        text-align: right;\n",
       "    }\n",
       "</style>\n",
       "<table border=\"1\" class=\"dataframe\">\n",
       "  <thead>\n",
       "    <tr style=\"text-align: right;\">\n",
       "      <th></th>\n",
       "      <th>Modele</th>\n",
       "      <th>Ensembliste</th>\n",
       "      <th>Target</th>\n",
       "      <th>Train_RMSE</th>\n",
       "      <th>Test_RMSE</th>\n",
       "      <th>Train_R2</th>\n",
       "      <th>Test_R2</th>\n",
       "      <th>Commentaires</th>\n",
       "    </tr>\n",
       "  </thead>\n",
       "  <tbody>\n",
       "  </tbody>\n",
       "</table>\n",
       "</div>"
      ],
      "text/plain": [
       "Empty DataFrame\n",
       "Columns: [Modele, Ensembliste, Target, Train_RMSE, Test_RMSE, Train_R2, Test_R2, Commentaires]\n",
       "Index: []"
      ]
     },
     "execution_count": 10,
     "metadata": {},
     "output_type": "execute_result"
    }
   ],
   "source": [
    "#Creation de la dataframe Summary\n",
    "df_summary = pd.DataFrame(columns = ['Modele','Ensembliste','Target','Train_RMSE','Test_RMSE','Train_R2',\n",
    "            'Test_R2', 'Commentaires'])\n",
    "df_summary"
   ]
  },
  {
   "cell_type": "markdown",
   "id": "6267b797",
   "metadata": {},
   "source": [
    "### 1.2 Train test split"
   ]
  },
  {
   "cell_type": "code",
   "execution_count": 11,
   "id": "0266e9bd",
   "metadata": {},
   "outputs": [
    {
     "data": {
      "text/plain": [
       "Index(['BuildingType', 'PrimaryPropertyType', 'CouncilDistrictCode',\n",
       "       'Neighborhood', 'Latitude', 'Longitude', 'YearBuilt',\n",
       "       'NumberofBuildings', 'NumberofFloors', 'PropertyGFATotal',\n",
       "       'PropertyGFAParking', 'PropertyGFABuilding(s)',\n",
       "       'LargestPropertyUseType', 'LargestPropertyUseTypeGFA',\n",
       "       'SecondLargestPropertyUseType', 'SecondLargestPropertyUseTypeGFA',\n",
       "       'ThirdLargestPropertyUseType', 'ThirdLargestPropertyUseTypeGFA',\n",
       "       'ENERGYSTARScore', 'SiteEUI(kBtu/sf)', 'SiteEUIWN(kBtu/sf)',\n",
       "       'SourceEUI(kBtu/sf)', 'SourceEUIWN(kBtu/sf)', 'SiteEnergyUse(kBtu)',\n",
       "       'SiteEnergyUseWN(kBtu)', 'SteamUse(kBtu)', 'Electricity(kWh)',\n",
       "       'Electricity(kBtu)', 'NaturalGas(therms)', 'NaturalGas(kBtu)',\n",
       "       'DefaultData', 'ComplianceStatus', 'Outlier', 'TotalGHGEmissions',\n",
       "       'GHGEmissionsIntensity', 'NonResidentialGFA', 'delta_Site_WM',\n",
       "       'delta_Source_WM', 'Delta_Site_Source', 'Delta_Site_Source_WN',\n",
       "       'ratio_Site_Source_WN', 'NaturalGaz_p', 'Electricity_p'],\n",
       "      dtype='object')"
      ]
     },
     "execution_count": 11,
     "metadata": {},
     "output_type": "execute_result"
    }
   ],
   "source": [
    "df.columns"
   ]
  },
  {
   "cell_type": "code",
   "execution_count": 12,
   "id": "eac770a8",
   "metadata": {},
   "outputs": [
    {
     "data": {
      "text/plain": [
       "3206   -2.1\n",
       "Name: SourceEUIWN(kBtu/sf), dtype: float64"
      ]
     },
     "execution_count": 12,
     "metadata": {},
     "output_type": "execute_result"
    }
   ],
   "source": [
    "target = 'SourceEUIWN(kBtu/sf)'\n",
    "cond = df['SourceEUIWN(kBtu/sf)']<0\n",
    "df[cond]['SourceEUIWN(kBtu/sf)']"
   ]
  },
  {
   "cell_type": "code",
   "execution_count": 13,
   "id": "c2cfa30e",
   "metadata": {},
   "outputs": [],
   "source": [
    "df.drop(df[cond].index, axis = 0, inplace= True)"
   ]
  },
  {
   "cell_type": "code",
   "execution_count": 14,
   "id": "3aa1e3b0",
   "metadata": {},
   "outputs": [],
   "source": [
    "X = df.copy().drop([target], axis =1)\n",
    "y = df.copy()[target]\n",
    "y_trans = np.log1p(y)"
   ]
  },
  {
   "cell_type": "code",
   "execution_count": 15,
   "id": "acdfb159",
   "metadata": {},
   "outputs": [
    {
     "data": {
      "text/plain": [
       "(61.04, 75.5]       166\n",
       "(-0.001, 61.04]     165\n",
       "(86.7, 95.8]        165\n",
       "(123.74, 146.8]     165\n",
       "(236.54, 2620.0]    165\n",
       "(75.5, 86.7]        164\n",
       "(107.1, 123.74]     164\n",
       "(146.8, 180.52]     164\n",
       "(180.52, 236.54]    164\n",
       "(95.8, 107.1]       163\n",
       "Name: SourceEUIWN(kBtu/sf)_q, dtype: int64"
      ]
     },
     "execution_count": 15,
     "metadata": {},
     "output_type": "execute_result"
    }
   ],
   "source": [
    "#stratification des données\n",
    "df['SourceEUIWN(kBtu/sf)_q'] = pd.qcut(df['SourceEUIWN(kBtu/sf)'],10)\n",
    "df['SourceEUIWN(kBtu/sf)_q'].value_counts()"
   ]
  },
  {
   "cell_type": "code",
   "execution_count": 16,
   "id": "492f0738",
   "metadata": {},
   "outputs": [],
   "source": [
    "X_train, X_test, y_train, y_test = train_test_split(X,y_trans,\n",
    "                                                    test_size =0.3,\n",
    "                                                    random_state = 18,\n",
    "                                                    shuffle = True,\n",
    "                                                    stratify = df['SourceEUIWN(kBtu/sf)_q'])"
   ]
  },
  {
   "cell_type": "code",
   "execution_count": 17,
   "id": "24978da1",
   "metadata": {},
   "outputs": [
    {
     "data": {
      "image/png": "[encoded data removed]",
      "text/plain": [
       "<Figure size 1000x600 with 1 Axes>"
      ]
     },
     "metadata": {},
     "output_type": "display_data"
    }
   ],
   "source": [
    "fig, ax = plt.subplots()\n",
    "sns.lineplot(x=y_train.index, y= y_train, color ='black', label ='y_train', ax =ax)\n",
    "sns.lineplot(x=y_test.index, y = y_test, color = sns_c[3], label ='y_test', ax=ax)\n",
    "plt.suptitle(\"Répartition entre le set d'entrainement et de validation\")\n",
    "plt.show()"
   ]
  },
  {
   "cell_type": "markdown",
   "id": "8d0b4226",
   "metadata": {},
   "source": [
    "### 1.3 - Model Developpement"
   ]
  },
  {
   "cell_type": "code",
   "execution_count": 18,
   "id": "3f10d06f",
   "metadata": {},
   "outputs": [],
   "source": [
    "#features:\n",
    "numeric_features = [\n",
    "    'LargestPropertyUseTypeGFA',\n",
    "    'SecondLargestPropertyUseTypeGFA',\n",
    "    'ThirdLargestPropertyUseTypeGFA',\n",
    "    'Electricity_p',\n",
    "    'Latitude',\n",
    "    'Longitude',\n",
    "    'NonResidentialGFA',\n",
    "    'PropertyGFAParking',\n",
    "    'PropertyGFABuilding(s)',\n",
    "    'ENERGYSTARScore']\n",
    "\n",
    "\n",
    "categorical_features = [\n",
    "    'PrimaryPropertyType',\n",
    "    'LargestPropertyUseType'\n",
    "]\n",
    "\n",
    "features = numeric_features + categorical_features"
   ]
  },
  {
   "cell_type": "code",
   "execution_count": 19,
   "id": "094b7b88",
   "metadata": {},
   "outputs": [],
   "source": [
    "X_train = X_train[features]\n",
    "X_test = X_test[features]"
   ]
  },
  {
   "cell_type": "markdown",
   "id": "5c488943",
   "metadata": {},
   "source": [
    "### 1.4 - Preprocessor"
   ]
  },
  {
   "cell_type": "code",
   "execution_count": 20,
   "id": "b8ccedf7",
   "metadata": {},
   "outputs": [],
   "source": [
    "#centrage et réduction des données\n",
    "numeric_transformer = Pipeline(steps = [\n",
    "    ('scaler', StandardScaler())\n",
    "])"
   ]
  },
  {
   "cell_type": "code",
   "execution_count": 21,
   "id": "c9f06c9c",
   "metadata": {},
   "outputs": [],
   "source": [
    "#transformation des variables categorielles\n",
    "categorical_transformer = Pipeline(steps = [\n",
    "    ('one_hot', OneHotEncoder(handle_unknown = 'ignore'))\n",
    "])"
   ]
  },
  {
   "cell_type": "code",
   "execution_count": 22,
   "id": "26ebbb4c",
   "metadata": {},
   "outputs": [
    {
     "name": "stdout",
     "output_type": "stream",
     "text": [
      "Number of features after preprocessing: 50\n"
     ]
    }
   ],
   "source": [
    "#Recuperation des noms de colonnes apres les transformations\n",
    "categorical_features_ext = list(categorical_transformer['one_hot']\\\n",
    "                                .fit(X_train[categorical_features])\\\n",
    "                                .get_feature_names_out()\n",
    "                               )\n",
    "features_ext = categorical_features_ext + numeric_features\n",
    "print(f'Number of features after preprocessing: {len(features_ext)}')"
   ]
  },
  {
   "cell_type": "markdown",
   "id": "bf8f125d",
   "metadata": {},
   "source": [
    "## 2 - Model Selection"
   ]
  },
  {
   "cell_type": "markdown",
   "id": "9782c91d",
   "metadata": {},
   "source": [
    "### 2.1 - Linear Model"
   ]
  },
  {
   "cell_type": "markdown",
   "id": "e7adb4f2",
   "metadata": {},
   "source": [
    "### preprocessor"
   ]
  },
  {
   "cell_type": "code",
   "execution_count": 23,
   "id": "73c434cc",
   "metadata": {},
   "outputs": [],
   "source": [
    "linear_preprocessor = ColumnTransformer(transformers = [\n",
    "    ('cat', categorical_transformer, categorical_features),\n",
    "    ('num', numeric_transformer, numeric_features),\n",
    "], remainder = 'passthrough')"
   ]
  },
  {
   "cell_type": "markdown",
   "id": "dc986a70",
   "metadata": {},
   "source": [
    "### engineering"
   ]
  },
  {
   "cell_type": "code",
   "execution_count": 24,
   "id": "8c296b60",
   "metadata": {},
   "outputs": [],
   "source": [
    "#For linear regressor\n",
    "linear_feature_engineering = Pipeline(steps = [\n",
    "    ('linear_preprocessor', linear_preprocessor),\n",
    "    ('polynomial', PolynomialFeatures(degree = 1, include_bias = False)),\n",
    "    ('variance_threshold', VarianceThreshold())\n",
    "])\n"
   ]
  },
  {
   "cell_type": "code",
   "execution_count": null,
   "id": "24eae1aa",
   "metadata": {},
   "outputs": [],
   "source": []
  },
  {
   "cell_type": "markdown",
   "id": "61450431",
   "metadata": {},
   "source": [
    "### 2.1.1 - Dummy Regressor"
   ]
  },
  {
   "cell_type": "code",
   "execution_count": 25,
   "id": "34266dac",
   "metadata": {},
   "outputs": [],
   "source": [
    "dummy = Pipeline(steps = [\n",
    "    ('linear_feature_engineering', linear_feature_engineering),\n",
    "    ('regressor', DummyRegressor(strategy=\"mean\"))\n",
    "])"
   ]
  },
  {
   "cell_type": "code",
   "execution_count": null,
   "id": "05704128",
   "metadata": {},
   "outputs": [],
   "source": []
  },
  {
   "cell_type": "code",
   "execution_count": 26,
   "id": "b7e18901",
   "metadata": {
    "scrolled": true
   },
   "outputs": [
    {
     "data": {
      "text/html": [
       "<div>\n",
       "<style scoped>\n",
       "    .dataframe tbody tr th:only-of-type {\n",
       "        vertical-align: middle;\n",
       "    }\n",
       "\n",
       "    .dataframe tbody tr th {\n",
       "        vertical-align: top;\n",
       "    }\n",
       "\n",
       "    .dataframe thead th {\n",
       "        text-align: right;\n",
       "    }\n",
       "</style>\n",
       "<table border=\"1\" class=\"dataframe\">\n",
       "  <thead>\n",
       "    <tr style=\"text-align: right;\">\n",
       "      <th></th>\n",
       "      <th>Modele</th>\n",
       "      <th>Ensembliste</th>\n",
       "      <th>Target</th>\n",
       "      <th>Train_RMSE</th>\n",
       "      <th>Test_RMSE</th>\n",
       "      <th>Train_R2</th>\n",
       "      <th>Test_R2</th>\n",
       "      <th>Commentaires</th>\n",
       "    </tr>\n",
       "  </thead>\n",
       "  <tbody>\n",
       "    <tr>\n",
       "      <th>0</th>\n",
       "      <td>DummyRegressor</td>\n",
       "      <td>non</td>\n",
       "      <td>TotalGHGEmissions</td>\n",
       "      <td>0.67</td>\n",
       "      <td>0.63</td>\n",
       "      <td>0.0</td>\n",
       "      <td>-0.0</td>\n",
       "      <td></td>\n",
       "    </tr>\n",
       "  </tbody>\n",
       "</table>\n",
       "</div>"
      ],
      "text/plain": [
       "           Modele Ensembliste             Target  Train_RMSE  Test_RMSE  \\\n",
       "0  DummyRegressor         non  TotalGHGEmissions        0.67       0.63   \n",
       "\n",
       "   Train_R2  Test_R2 Commentaires  \n",
       "0       0.0     -0.0               "
      ]
     },
     "execution_count": 26,
     "metadata": {},
     "output_type": "execute_result"
    }
   ],
   "source": [
    "\n",
    "dummy.fit(X_train, y_train)\n",
    "df_summary = summary(dummy, df_summary,X_train, X_test, y_train, y_test)\n",
    "df_summary"
   ]
  },
  {
   "cell_type": "markdown",
   "id": "3987eb3f",
   "metadata": {},
   "source": [
    "### 2.1.2 - Lasso"
   ]
  },
  {
   "cell_type": "code",
   "execution_count": 27,
   "id": "dfbef275",
   "metadata": {},
   "outputs": [],
   "source": [
    "from sklearn.compose import TransformedTargetRegressor"
   ]
  },
  {
   "cell_type": "code",
   "execution_count": 28,
   "id": "08be3a97",
   "metadata": {},
   "outputs": [],
   "source": [
    "lasso = Pipeline(steps = [\n",
    "    ('linear_feature_engineering', linear_feature_engineering),\n",
    "    ('regressor', Lasso(max_iter = 8000))\n",
    "])\n",
    "\n"
   ]
  },
  {
   "cell_type": "raw",
   "id": "aca0e839",
   "metadata": {},
   "source": [
    "log_lasso = TransformedTargetRegressor(lasso, func = np.log, inverse_func = np.exp)"
   ]
  },
  {
   "cell_type": "code",
   "execution_count": 29,
   "id": "0b2382c4",
   "metadata": {},
   "outputs": [],
   "source": [
    "#Recherche des meilleurs hyperparametres\n",
    "lasso_param_grid = {\n",
    "    'linear_feature_engineering__polynomial__degree' : [1,2],\n",
    "    'regressor__alpha' : np.logspace(-3,3,20),\n",
    "    'linear_feature_engineering__polynomial__interaction_only' : [True, False]\n",
    "}\n",
    "\n",
    "lasso_grid_search = GridSearchCV(\n",
    "    estimator = lasso,\n",
    "    param_grid = lasso_param_grid,\n",
    "    scoring = 'neg_root_mean_squared_error',\n",
    "    cv = 3,\n",
    "    verbose = 1,\n",
    "    n_jobs = -1\n",
    ")"
   ]
  },
  {
   "cell_type": "code",
   "execution_count": 30,
   "id": "90db33f2",
   "metadata": {},
   "outputs": [
    {
     "name": "stdout",
     "output_type": "stream",
     "text": [
      "Fitting 3 folds for each of 80 candidates, totalling 240 fits\n"
     ]
    },
    {
     "data": {
      "text/html": [
       "<style>#sk-8bafe305-61a3-4175-a538-edd136eb1e56 {color: black;background-color: white;}#sk-8bafe305-61a3-4175-a538-edd136eb1e56 pre{padding: 0;}#sk-8bafe305-61a3-4175-a538-edd136eb1e56 div.sk-toggleable {background-color: white;}#sk-8bafe305-61a3-4175-a538-edd136eb1e56 label.sk-toggleable__label {cursor: pointer;display: block;width: 100%;margin-bottom: 0;padding: 0.3em;box-sizing: border-box;text-align: center;}#sk-8bafe305-61a3-4175-a538-edd136eb1e56 label.sk-toggleable__label-arrow:before {content: \"▸\";float: left;margin-right: 0.25em;color: #696969;}#sk-8bafe305-61a3-4175-a538-edd136eb1e56 label.sk-toggleable__label-arrow:hover:before {color: black;}#sk-8bafe305-61a3-4175-a538-edd136eb1e56 div.sk-estimator:hover label.sk-toggleable__label-arrow:before {color: black;}#sk-8bafe305-61a3-4175-a538-edd136eb1e56 div.sk-toggleable__content {max-height: 0;max-width: 0;overflow: hidden;text-align: left;background-color: #f0f8ff;}#sk-8bafe305-61a3-4175-a538-edd136eb1e56 div.sk-toggleable__content pre {margin: 0.2em;color: black;border-radius: 0.25em;background-color: #f0f8ff;}#sk-8bafe305-61a3-4175-a538-edd136eb1e56 input.sk-toggleable__control:checked~div.sk-toggleable__content {max-height: 200px;max-width: 100%;overflow: auto;}#sk-8bafe305-61a3-4175-a538-edd136eb1e56 input.sk-toggleable__control:checked~label.sk-toggleable__label-arrow:before {content: \"▾\";}#sk-8bafe305-61a3-4175-a538-edd136eb1e56 div.sk-estimator input.sk-toggleable__control:checked~label.sk-toggleable__label {background-color: #d4ebff;}#sk-8bafe305-61a3-4175-a538-edd136eb1e56 div.sk-label input.sk-toggleable__control:checked~label.sk-toggleable__label {background-color: #d4ebff;}#sk-8bafe305-61a3-4175-a538-edd136eb1e56 input.sk-hidden--visually {border: 0;clip: rect(1px 1px 1px 1px);clip: rect(1px, 1px, 1px, 1px);height: 1px;margin: -1px;overflow: hidden;padding: 0;position: absolute;width: 1px;}#sk-8bafe305-61a3-4175-a538-edd136eb1e56 div.sk-estimator {font-family: monospace;background-color: #f0f8ff;border: 1px dotted black;border-radius: 0.25em;box-sizing: border-box;margin-bottom: 0.5em;}#sk-8bafe305-61a3-4175-a538-edd136eb1e56 div.sk-estimator:hover {background-color: #d4ebff;}#sk-8bafe305-61a3-4175-a538-edd136eb1e56 div.sk-parallel-item::after {content: \"\";width: 100%;border-bottom: 1px solid gray;flex-grow: 1;}#sk-8bafe305-61a3-4175-a538-edd136eb1e56 div.sk-label:hover label.sk-toggleable__label {background-color: #d4ebff;}#sk-8bafe305-61a3-4175-a538-edd136eb1e56 div.sk-serial::before {content: \"\";position: absolute;border-left: 1px solid gray;box-sizing: border-box;top: 2em;bottom: 0;left: 50%;}#sk-8bafe305-61a3-4175-a538-edd136eb1e56 div.sk-serial {display: flex;flex-direction: column;align-items: center;background-color: white;padding-right: 0.2em;padding-left: 0.2em;}#sk-8bafe305-61a3-4175-a538-edd136eb1e56 div.sk-item {z-index: 1;}#sk-8bafe305-61a3-4175-a538-edd136eb1e56 div.sk-parallel {display: flex;align-items: stretch;justify-content: center;background-color: white;}#sk-8bafe305-61a3-4175-a538-edd136eb1e56 div.sk-parallel::before {content: \"\";position: absolute;border-left: 1px solid gray;box-sizing: border-box;top: 2em;bottom: 0;left: 50%;}#sk-8bafe305-61a3-4175-a538-edd136eb1e56 div.sk-parallel-item {display: flex;flex-direction: column;position: relative;background-color: white;}#sk-8bafe305-61a3-4175-a538-edd136eb1e56 div.sk-parallel-item:first-child::after {align-self: flex-end;width: 50%;}#sk-8bafe305-61a3-4175-a538-edd136eb1e56 div.sk-parallel-item:last-child::after {align-self: flex-start;width: 50%;}#sk-8bafe305-61a3-4175-a538-edd136eb1e56 div.sk-parallel-item:only-child::after {width: 0;}#sk-8bafe305-61a3-4175-a538-edd136eb1e56 div.sk-dashed-wrapped {border: 1px dashed gray;margin: 0 0.4em 0.5em 0.4em;box-sizing: border-box;padding-bottom: 0.4em;background-color: white;position: relative;}#sk-8bafe305-61a3-4175-a538-edd136eb1e56 div.sk-label label {font-family: monospace;font-weight: bold;background-color: white;display: inline-block;line-height: 1.2em;}#sk-8bafe305-61a3-4175-a538-edd136eb1e56 div.sk-label-container {position: relative;z-index: 2;text-align: center;}#sk-8bafe305-61a3-4175-a538-edd136eb1e56 div.sk-container {/* jupyter's `normalize.less` sets `[hidden] { display: none; }` but bootstrap.min.css set `[hidden] { display: none !important; }` so we also need the `!important` here to be able to override the default hidden behavior on the sphinx rendered scikit-learn.org. See: https://github.com/scikit-learn/scikit-learn/issues/21755 */display: inline-block !important;position: relative;}#sk-8bafe305-61a3-4175-a538-edd136eb1e56 div.sk-text-repr-fallback {display: none;}</style><div id=\"sk-8bafe305-61a3-4175-a538-edd136eb1e56\" class=\"sk-top-container\"><div class=\"sk-text-repr-fallback\"><pre>GridSearchCV(cv=3,\n",
       "             estimator=Pipeline(steps=[(&#x27;linear_feature_engineering&#x27;,\n",
       "                                        Pipeline(steps=[(&#x27;linear_preprocessor&#x27;,\n",
       "                                                         ColumnTransformer(remainder=&#x27;passthrough&#x27;,\n",
       "                                                                           transformers=[(&#x27;cat&#x27;,\n",
       "                                                                                          Pipeline(steps=[(&#x27;one_hot&#x27;,\n",
       "                                                                                                           OneHotEncoder(handle_unknown=&#x27;ignore&#x27;))]),\n",
       "                                                                                          [&#x27;PrimaryPropertyType&#x27;,\n",
       "                                                                                           &#x27;LargestPropertyUseType&#x27;]),\n",
       "                                                                                         (&#x27;num&#x27;,\n",
       "                                                                                          Pipeline(steps=[(&#x27;scaler&#x27;,\n",
       "                                                                                                           StandardScaler())]),\n",
       "                                                                                          [&#x27;...\n",
       "                         &#x27;regressor__alpha&#x27;: array([1.00000000e-03, 2.06913808e-03, 4.28133240e-03, 8.85866790e-03,\n",
       "       1.83298071e-02, 3.79269019e-02, 7.84759970e-02, 1.62377674e-01,\n",
       "       3.35981829e-01, 6.95192796e-01, 1.43844989e+00, 2.97635144e+00,\n",
       "       6.15848211e+00, 1.27427499e+01, 2.63665090e+01, 5.45559478e+01,\n",
       "       1.12883789e+02, 2.33572147e+02, 4.83293024e+02, 1.00000000e+03])},\n",
       "             scoring=&#x27;neg_root_mean_squared_error&#x27;, verbose=1)</pre><b>Please rerun this cell to show the HTML repr or trust the notebook.</b></div><div class=\"sk-container\" hidden><div class=\"sk-item sk-dashed-wrapped\"><div class=\"sk-label-container\"><div class=\"sk-label sk-toggleable\"><input class=\"sk-toggleable__control sk-hidden--visually\" id=\"64184e4c-b266-48c6-81d3-3517fef4da0c\" type=\"checkbox\" ><label for=\"64184e4c-b266-48c6-81d3-3517fef4da0c\" class=\"sk-toggleable__label sk-toggleable__label-arrow\">GridSearchCV</label><div class=\"sk-toggleable__content\"><pre>GridSearchCV(cv=3,\n",
       "             estimator=Pipeline(steps=[(&#x27;linear_feature_engineering&#x27;,\n",
       "                                        Pipeline(steps=[(&#x27;linear_preprocessor&#x27;,\n",
       "                                                         ColumnTransformer(remainder=&#x27;passthrough&#x27;,\n",
       "                                                                           transformers=[(&#x27;cat&#x27;,\n",
       "                                                                                          Pipeline(steps=[(&#x27;one_hot&#x27;,\n",
       "                                                                                                           OneHotEncoder(handle_unknown=&#x27;ignore&#x27;))]),\n",
       "                                                                                          [&#x27;PrimaryPropertyType&#x27;,\n",
       "                                                                                           &#x27;LargestPropertyUseType&#x27;]),\n",
       "                                                                                         (&#x27;num&#x27;,\n",
       "                                                                                          Pipeline(steps=[(&#x27;scaler&#x27;,\n",
       "                                                                                                           StandardScaler())]),\n",
       "                                                                                          [&#x27;...\n",
       "                         &#x27;regressor__alpha&#x27;: array([1.00000000e-03, 2.06913808e-03, 4.28133240e-03, 8.85866790e-03,\n",
       "       1.83298071e-02, 3.79269019e-02, 7.84759970e-02, 1.62377674e-01,\n",
       "       3.35981829e-01, 6.95192796e-01, 1.43844989e+00, 2.97635144e+00,\n",
       "       6.15848211e+00, 1.27427499e+01, 2.63665090e+01, 5.45559478e+01,\n",
       "       1.12883789e+02, 2.33572147e+02, 4.83293024e+02, 1.00000000e+03])},\n",
       "             scoring=&#x27;neg_root_mean_squared_error&#x27;, verbose=1)</pre></div></div></div><div class=\"sk-parallel\"><div class=\"sk-parallel-item\"><div class=\"sk-item\"><div class=\"sk-serial\"><div class=\"sk-item\"><div class=\"sk-serial\"><div class=\"sk-item\"><div class=\"sk-label-container\"><div class=\"sk-label sk-toggleable\"><input class=\"sk-toggleable__control sk-hidden--visually\" id=\"1ae6dad2-a044-41af-99ab-3b8d8da793cb\" type=\"checkbox\" ><label for=\"1ae6dad2-a044-41af-99ab-3b8d8da793cb\" class=\"sk-toggleable__label sk-toggleable__label-arrow\">linear_feature_engineering: Pipeline</label><div class=\"sk-toggleable__content\"><pre>Pipeline(steps=[(&#x27;linear_preprocessor&#x27;,\n",
       "                 ColumnTransformer(remainder=&#x27;passthrough&#x27;,\n",
       "                                   transformers=[(&#x27;cat&#x27;,\n",
       "                                                  Pipeline(steps=[(&#x27;one_hot&#x27;,\n",
       "                                                                   OneHotEncoder(handle_unknown=&#x27;ignore&#x27;))]),\n",
       "                                                  [&#x27;PrimaryPropertyType&#x27;,\n",
       "                                                   &#x27;LargestPropertyUseType&#x27;]),\n",
       "                                                 (&#x27;num&#x27;,\n",
       "                                                  Pipeline(steps=[(&#x27;scaler&#x27;,\n",
       "                                                                   StandardScaler())]),\n",
       "                                                  [&#x27;LargestPropertyUseTypeGFA&#x27;,\n",
       "                                                   &#x27;SecondLargestPropertyUseTypeGFA&#x27;,\n",
       "                                                   &#x27;ThirdLargestPropertyUseTypeGFA&#x27;,\n",
       "                                                   &#x27;Electricity_p&#x27;, &#x27;Latitude&#x27;,\n",
       "                                                   &#x27;Longitude&#x27;,\n",
       "                                                   &#x27;NonResidentialGFA&#x27;,\n",
       "                                                   &#x27;PropertyGFAParking&#x27;,\n",
       "                                                   &#x27;PropertyGFABuilding(s)&#x27;,\n",
       "                                                   &#x27;ENERGYSTARScore&#x27;])])),\n",
       "                (&#x27;polynomial&#x27;,\n",
       "                 PolynomialFeatures(degree=1, include_bias=False)),\n",
       "                (&#x27;variance_threshold&#x27;, VarianceThreshold())])</pre></div></div></div><div class=\"sk-serial\"><div class=\"sk-item sk-dashed-wrapped\"><div class=\"sk-label-container\"><div class=\"sk-label sk-toggleable\"><input class=\"sk-toggleable__control sk-hidden--visually\" id=\"5ece12eb-bfb0-4088-b69e-c444e93be1e0\" type=\"checkbox\" ><label for=\"5ece12eb-bfb0-4088-b69e-c444e93be1e0\" class=\"sk-toggleable__label sk-toggleable__label-arrow\">linear_preprocessor: ColumnTransformer</label><div class=\"sk-toggleable__content\"><pre>ColumnTransformer(remainder=&#x27;passthrough&#x27;,\n",
       "                  transformers=[(&#x27;cat&#x27;,\n",
       "                                 Pipeline(steps=[(&#x27;one_hot&#x27;,\n",
       "                                                  OneHotEncoder(handle_unknown=&#x27;ignore&#x27;))]),\n",
       "                                 [&#x27;PrimaryPropertyType&#x27;,\n",
       "                                  &#x27;LargestPropertyUseType&#x27;]),\n",
       "                                (&#x27;num&#x27;,\n",
       "                                 Pipeline(steps=[(&#x27;scaler&#x27;, StandardScaler())]),\n",
       "                                 [&#x27;LargestPropertyUseTypeGFA&#x27;,\n",
       "                                  &#x27;SecondLargestPropertyUseTypeGFA&#x27;,\n",
       "                                  &#x27;ThirdLargestPropertyUseTypeGFA&#x27;,\n",
       "                                  &#x27;Electricity_p&#x27;, &#x27;Latitude&#x27;, &#x27;Longitude&#x27;,\n",
       "                                  &#x27;NonResidentialGFA&#x27;, &#x27;PropertyGFAParking&#x27;,\n",
       "                                  &#x27;PropertyGFABuilding(s)&#x27;,\n",
       "                                  &#x27;ENERGYSTARScore&#x27;])])</pre></div></div></div><div class=\"sk-parallel\"><div class=\"sk-parallel-item\"><div class=\"sk-item\"><div class=\"sk-label-container\"><div class=\"sk-label sk-toggleable\"><input class=\"sk-toggleable__control sk-hidden--visually\" id=\"bc127652-3e2a-4a79-8357-781c94278c1a\" type=\"checkbox\" ><label for=\"bc127652-3e2a-4a79-8357-781c94278c1a\" class=\"sk-toggleable__label sk-toggleable__label-arrow\">cat</label><div class=\"sk-toggleable__content\"><pre>[&#x27;PrimaryPropertyType&#x27;, &#x27;LargestPropertyUseType&#x27;]</pre></div></div></div><div class=\"sk-serial\"><div class=\"sk-item\"><div class=\"sk-serial\"><div class=\"sk-item\"><div class=\"sk-estimator sk-toggleable\"><input class=\"sk-toggleable__control sk-hidden--visually\" id=\"8728d245-19e6-4d7d-8a7c-d37e25a84d72\" type=\"checkbox\" ><label for=\"8728d245-19e6-4d7d-8a7c-d37e25a84d72\" class=\"sk-toggleable__label sk-toggleable__label-arrow\">OneHotEncoder</label><div class=\"sk-toggleable__content\"><pre>OneHotEncoder(handle_unknown=&#x27;ignore&#x27;)</pre></div></div></div></div></div></div></div></div><div class=\"sk-parallel-item\"><div class=\"sk-item\"><div class=\"sk-label-container\"><div class=\"sk-label sk-toggleable\"><input class=\"sk-toggleable__control sk-hidden--visually\" id=\"e69d7433-25e7-42c9-a773-9bc32812e4f1\" type=\"checkbox\" ><label for=\"e69d7433-25e7-42c9-a773-9bc32812e4f1\" class=\"sk-toggleable__label sk-toggleable__label-arrow\">num</label><div class=\"sk-toggleable__content\"><pre>[&#x27;LargestPropertyUseTypeGFA&#x27;, &#x27;SecondLargestPropertyUseTypeGFA&#x27;, &#x27;ThirdLargestPropertyUseTypeGFA&#x27;, &#x27;Electricity_p&#x27;, &#x27;Latitude&#x27;, &#x27;Longitude&#x27;, &#x27;NonResidentialGFA&#x27;, &#x27;PropertyGFAParking&#x27;, &#x27;PropertyGFABuilding(s)&#x27;, &#x27;ENERGYSTARScore&#x27;]</pre></div></div></div><div class=\"sk-serial\"><div class=\"sk-item\"><div class=\"sk-serial\"><div class=\"sk-item\"><div class=\"sk-estimator sk-toggleable\"><input class=\"sk-toggleable__control sk-hidden--visually\" id=\"1a1b3f10-b721-4929-a7fb-6d70cbdffaf5\" type=\"checkbox\" ><label for=\"1a1b3f10-b721-4929-a7fb-6d70cbdffaf5\" class=\"sk-toggleable__label sk-toggleable__label-arrow\">StandardScaler</label><div class=\"sk-toggleable__content\"><pre>StandardScaler()</pre></div></div></div></div></div></div></div></div><div class=\"sk-parallel-item\"><div class=\"sk-item\"><div class=\"sk-label-container\"><div class=\"sk-label sk-toggleable\"><input class=\"sk-toggleable__control sk-hidden--visually\" id=\"21a8b204-2873-4908-9f7b-9bf937913b6e\" type=\"checkbox\" ><label for=\"21a8b204-2873-4908-9f7b-9bf937913b6e\" class=\"sk-toggleable__label sk-toggleable__label-arrow\">remainder</label><div class=\"sk-toggleable__content\"><pre>[]</pre></div></div></div><div class=\"sk-serial\"><div class=\"sk-item\"><div class=\"sk-estimator sk-toggleable\"><input class=\"sk-toggleable__control sk-hidden--visually\" id=\"18bd4ade-bbef-4168-826d-84835d75a35f\" type=\"checkbox\" ><label for=\"18bd4ade-bbef-4168-826d-84835d75a35f\" class=\"sk-toggleable__label sk-toggleable__label-arrow\">passthrough</label><div class=\"sk-toggleable__content\"><pre>passthrough</pre></div></div></div></div></div></div></div></div><div class=\"sk-item\"><div class=\"sk-estimator sk-toggleable\"><input class=\"sk-toggleable__control sk-hidden--visually\" id=\"1af39eae-7605-481c-91ab-0bfcb2df999f\" type=\"checkbox\" ><label for=\"1af39eae-7605-481c-91ab-0bfcb2df999f\" class=\"sk-toggleable__label sk-toggleable__label-arrow\">PolynomialFeatures</label><div class=\"sk-toggleable__content\"><pre>PolynomialFeatures(degree=1, include_bias=False)</pre></div></div></div><div class=\"sk-item\"><div class=\"sk-estimator sk-toggleable\"><input class=\"sk-toggleable__control sk-hidden--visually\" id=\"eb402ba3-d022-4b80-8944-968d869055dc\" type=\"checkbox\" ><label for=\"eb402ba3-d022-4b80-8944-968d869055dc\" class=\"sk-toggleable__label sk-toggleable__label-arrow\">VarianceThreshold</label><div class=\"sk-toggleable__content\"><pre>VarianceThreshold()</pre></div></div></div></div></div><div class=\"sk-item\"><div class=\"sk-estimator sk-toggleable\"><input class=\"sk-toggleable__control sk-hidden--visually\" id=\"3a4ae293-2548-42e6-b552-98395c5dd039\" type=\"checkbox\" ><label for=\"3a4ae293-2548-42e6-b552-98395c5dd039\" class=\"sk-toggleable__label sk-toggleable__label-arrow\">Lasso</label><div class=\"sk-toggleable__content\"><pre>Lasso(max_iter=8000)</pre></div></div></div></div></div></div></div></div></div></div></div></div>"
      ],
      "text/plain": [
       "GridSearchCV(cv=3,\n",
       "             estimator=Pipeline(steps=[('linear_feature_engineering',\n",
       "                                        Pipeline(steps=[('linear_preprocessor',\n",
       "                                                         ColumnTransformer(remainder='passthrough',\n",
       "                                                                           transformers=[('cat',\n",
       "                                                                                          Pipeline(steps=[('one_hot',\n",
       "                                                                                                           OneHotEncoder(handle_unknown='ignore'))]),\n",
       "                                                                                          ['PrimaryPropertyType',\n",
       "                                                                                           'LargestPropertyUseType']),\n",
       "                                                                                         ('num',\n",
       "                                                                                          Pipeline(steps=[('scaler',\n",
       "                                                                                                           StandardScaler())]),\n",
       "                                                                                          ['...\n",
       "                         'regressor__alpha': array([1.00000000e-03, 2.06913808e-03, 4.28133240e-03, 8.85866790e-03,\n",
       "       1.83298071e-02, 3.79269019e-02, 7.84759970e-02, 1.62377674e-01,\n",
       "       3.35981829e-01, 6.95192796e-01, 1.43844989e+00, 2.97635144e+00,\n",
       "       6.15848211e+00, 1.27427499e+01, 2.63665090e+01, 5.45559478e+01,\n",
       "       1.12883789e+02, 2.33572147e+02, 4.83293024e+02, 1.00000000e+03])},\n",
       "             scoring='neg_root_mean_squared_error', verbose=1)"
      ]
     },
     "execution_count": 30,
     "metadata": {},
     "output_type": "execute_result"
    }
   ],
   "source": [
    "lasso_grid_search.fit(X_train, y_train)"
   ]
  },
  {
   "cell_type": "code",
   "execution_count": 31,
   "id": "ead62bfb",
   "metadata": {},
   "outputs": [
    {
     "data": {
      "text/plain": [
       "{'linear_feature_engineering__polynomial__degree': 1,\n",
       " 'linear_feature_engineering__polynomial__interaction_only': True,\n",
       " 'regressor__alpha': 0.001}"
      ]
     },
     "execution_count": 31,
     "metadata": {},
     "output_type": "execute_result"
    }
   ],
   "source": [
    "lasso_grid_search.best_params_"
   ]
  },
  {
   "cell_type": "code",
   "execution_count": 32,
   "id": "feb89dfe",
   "metadata": {},
   "outputs": [
    {
     "data": {
      "text/html": [
       "<style>#sk-ec01fc4d-eabe-45a9-834b-09685383c831 {color: black;background-color: white;}#sk-ec01fc4d-eabe-45a9-834b-09685383c831 pre{padding: 0;}#sk-ec01fc4d-eabe-45a9-834b-09685383c831 div.sk-toggleable {background-color: white;}#sk-ec01fc4d-eabe-45a9-834b-09685383c831 label.sk-toggleable__label {cursor: pointer;display: block;width: 100%;margin-bottom: 0;padding: 0.3em;box-sizing: border-box;text-align: center;}#sk-ec01fc4d-eabe-45a9-834b-09685383c831 label.sk-toggleable__label-arrow:before {content: \"▸\";float: left;margin-right: 0.25em;color: #696969;}#sk-ec01fc4d-eabe-45a9-834b-09685383c831 label.sk-toggleable__label-arrow:hover:before {color: black;}#sk-ec01fc4d-eabe-45a9-834b-09685383c831 div.sk-estimator:hover label.sk-toggleable__label-arrow:before {color: black;}#sk-ec01fc4d-eabe-45a9-834b-09685383c831 div.sk-toggleable__content {max-height: 0;max-width: 0;overflow: hidden;text-align: left;background-color: #f0f8ff;}#sk-ec01fc4d-eabe-45a9-834b-09685383c831 div.sk-toggleable__content pre {margin: 0.2em;color: black;border-radius: 0.25em;background-color: #f0f8ff;}#sk-ec01fc4d-eabe-45a9-834b-09685383c831 input.sk-toggleable__control:checked~div.sk-toggleable__content {max-height: 200px;max-width: 100%;overflow: auto;}#sk-ec01fc4d-eabe-45a9-834b-09685383c831 input.sk-toggleable__control:checked~label.sk-toggleable__label-arrow:before {content: \"▾\";}#sk-ec01fc4d-eabe-45a9-834b-09685383c831 div.sk-estimator input.sk-toggleable__control:checked~label.sk-toggleable__label {background-color: #d4ebff;}#sk-ec01fc4d-eabe-45a9-834b-09685383c831 div.sk-label input.sk-toggleable__control:checked~label.sk-toggleable__label {background-color: #d4ebff;}#sk-ec01fc4d-eabe-45a9-834b-09685383c831 input.sk-hidden--visually {border: 0;clip: rect(1px 1px 1px 1px);clip: rect(1px, 1px, 1px, 1px);height: 1px;margin: -1px;overflow: hidden;padding: 0;position: absolute;width: 1px;}#sk-ec01fc4d-eabe-45a9-834b-09685383c831 div.sk-estimator {font-family: monospace;background-color: #f0f8ff;border: 1px dotted black;border-radius: 0.25em;box-sizing: border-box;margin-bottom: 0.5em;}#sk-ec01fc4d-eabe-45a9-834b-09685383c831 div.sk-estimator:hover {background-color: #d4ebff;}#sk-ec01fc4d-eabe-45a9-834b-09685383c831 div.sk-parallel-item::after {content: \"\";width: 100%;border-bottom: 1px solid gray;flex-grow: 1;}#sk-ec01fc4d-eabe-45a9-834b-09685383c831 div.sk-label:hover label.sk-toggleable__label {background-color: #d4ebff;}#sk-ec01fc4d-eabe-45a9-834b-09685383c831 div.sk-serial::before {content: \"\";position: absolute;border-left: 1px solid gray;box-sizing: border-box;top: 2em;bottom: 0;left: 50%;}#sk-ec01fc4d-eabe-45a9-834b-09685383c831 div.sk-serial {display: flex;flex-direction: column;align-items: center;background-color: white;padding-right: 0.2em;padding-left: 0.2em;}#sk-ec01fc4d-eabe-45a9-834b-09685383c831 div.sk-item {z-index: 1;}#sk-ec01fc4d-eabe-45a9-834b-09685383c831 div.sk-parallel {display: flex;align-items: stretch;justify-content: center;background-color: white;}#sk-ec01fc4d-eabe-45a9-834b-09685383c831 div.sk-parallel::before {content: \"\";position: absolute;border-left: 1px solid gray;box-sizing: border-box;top: 2em;bottom: 0;left: 50%;}#sk-ec01fc4d-eabe-45a9-834b-09685383c831 div.sk-parallel-item {display: flex;flex-direction: column;position: relative;background-color: white;}#sk-ec01fc4d-eabe-45a9-834b-09685383c831 div.sk-parallel-item:first-child::after {align-self: flex-end;width: 50%;}#sk-ec01fc4d-eabe-45a9-834b-09685383c831 div.sk-parallel-item:last-child::after {align-self: flex-start;width: 50%;}#sk-ec01fc4d-eabe-45a9-834b-09685383c831 div.sk-parallel-item:only-child::after {width: 0;}#sk-ec01fc4d-eabe-45a9-834b-09685383c831 div.sk-dashed-wrapped {border: 1px dashed gray;margin: 0 0.4em 0.5em 0.4em;box-sizing: border-box;padding-bottom: 0.4em;background-color: white;position: relative;}#sk-ec01fc4d-eabe-45a9-834b-09685383c831 div.sk-label label {font-family: monospace;font-weight: bold;background-color: white;display: inline-block;line-height: 1.2em;}#sk-ec01fc4d-eabe-45a9-834b-09685383c831 div.sk-label-container {position: relative;z-index: 2;text-align: center;}#sk-ec01fc4d-eabe-45a9-834b-09685383c831 div.sk-container {/* jupyter's `normalize.less` sets `[hidden] { display: none; }` but bootstrap.min.css set `[hidden] { display: none !important; }` so we also need the `!important` here to be able to override the default hidden behavior on the sphinx rendered scikit-learn.org. See: https://github.com/scikit-learn/scikit-learn/issues/21755 */display: inline-block !important;position: relative;}#sk-ec01fc4d-eabe-45a9-834b-09685383c831 div.sk-text-repr-fallback {display: none;}</style><div id=\"sk-ec01fc4d-eabe-45a9-834b-09685383c831\" class=\"sk-top-container\"><div class=\"sk-text-repr-fallback\"><pre>Pipeline(steps=[(&#x27;linear_feature_engineering&#x27;,\n",
       "                 Pipeline(steps=[(&#x27;linear_preprocessor&#x27;,\n",
       "                                  ColumnTransformer(remainder=&#x27;passthrough&#x27;,\n",
       "                                                    transformers=[(&#x27;cat&#x27;,\n",
       "                                                                   Pipeline(steps=[(&#x27;one_hot&#x27;,\n",
       "                                                                                    OneHotEncoder(handle_unknown=&#x27;ignore&#x27;))]),\n",
       "                                                                   [&#x27;PrimaryPropertyType&#x27;,\n",
       "                                                                    &#x27;LargestPropertyUseType&#x27;]),\n",
       "                                                                  (&#x27;num&#x27;,\n",
       "                                                                   Pipeline(steps=[(&#x27;scaler&#x27;,\n",
       "                                                                                    StandardScaler())]),\n",
       "                                                                   [&#x27;LargestPropertyUseTypeGFA&#x27;,\n",
       "                                                                    &#x27;...eTypeGFA&#x27;,\n",
       "                                                                    &#x27;ThirdLargestPropertyUseTypeGFA&#x27;,\n",
       "                                                                    &#x27;Electricity_p&#x27;,\n",
       "                                                                    &#x27;Latitude&#x27;,\n",
       "                                                                    &#x27;Longitude&#x27;,\n",
       "                                                                    &#x27;NonResidentialGFA&#x27;,\n",
       "                                                                    &#x27;PropertyGFAParking&#x27;,\n",
       "                                                                    &#x27;PropertyGFABuilding(s)&#x27;,\n",
       "                                                                    &#x27;ENERGYSTARScore&#x27;])])),\n",
       "                                 (&#x27;polynomial&#x27;,\n",
       "                                  PolynomialFeatures(degree=1,\n",
       "                                                     include_bias=False,\n",
       "                                                     interaction_only=True)),\n",
       "                                 (&#x27;variance_threshold&#x27;, VarianceThreshold())])),\n",
       "                (&#x27;regressor&#x27;, Lasso(alpha=0.001, max_iter=8000))])</pre><b>Please rerun this cell to show the HTML repr or trust the notebook.</b></div><div class=\"sk-container\" hidden><div class=\"sk-item sk-dashed-wrapped\"><div class=\"sk-label-container\"><div class=\"sk-label sk-toggleable\"><input class=\"sk-toggleable__control sk-hidden--visually\" id=\"9118ba60-8203-4354-a645-0a795d74ad98\" type=\"checkbox\" ><label for=\"9118ba60-8203-4354-a645-0a795d74ad98\" class=\"sk-toggleable__label sk-toggleable__label-arrow\">Pipeline</label><div class=\"sk-toggleable__content\"><pre>Pipeline(steps=[(&#x27;linear_feature_engineering&#x27;,\n",
       "                 Pipeline(steps=[(&#x27;linear_preprocessor&#x27;,\n",
       "                                  ColumnTransformer(remainder=&#x27;passthrough&#x27;,\n",
       "                                                    transformers=[(&#x27;cat&#x27;,\n",
       "                                                                   Pipeline(steps=[(&#x27;one_hot&#x27;,\n",
       "                                                                                    OneHotEncoder(handle_unknown=&#x27;ignore&#x27;))]),\n",
       "                                                                   [&#x27;PrimaryPropertyType&#x27;,\n",
       "                                                                    &#x27;LargestPropertyUseType&#x27;]),\n",
       "                                                                  (&#x27;num&#x27;,\n",
       "                                                                   Pipeline(steps=[(&#x27;scaler&#x27;,\n",
       "                                                                                    StandardScaler())]),\n",
       "                                                                   [&#x27;LargestPropertyUseTypeGFA&#x27;,\n",
       "                                                                    &#x27;...eTypeGFA&#x27;,\n",
       "                                                                    &#x27;ThirdLargestPropertyUseTypeGFA&#x27;,\n",
       "                                                                    &#x27;Electricity_p&#x27;,\n",
       "                                                                    &#x27;Latitude&#x27;,\n",
       "                                                                    &#x27;Longitude&#x27;,\n",
       "                                                                    &#x27;NonResidentialGFA&#x27;,\n",
       "                                                                    &#x27;PropertyGFAParking&#x27;,\n",
       "                                                                    &#x27;PropertyGFABuilding(s)&#x27;,\n",
       "                                                                    &#x27;ENERGYSTARScore&#x27;])])),\n",
       "                                 (&#x27;polynomial&#x27;,\n",
       "                                  PolynomialFeatures(degree=1,\n",
       "                                                     include_bias=False,\n",
       "                                                     interaction_only=True)),\n",
       "                                 (&#x27;variance_threshold&#x27;, VarianceThreshold())])),\n",
       "                (&#x27;regressor&#x27;, Lasso(alpha=0.001, max_iter=8000))])</pre></div></div></div><div class=\"sk-serial\"><div class=\"sk-item\"><div class=\"sk-label-container\"><div class=\"sk-label sk-toggleable\"><input class=\"sk-toggleable__control sk-hidden--visually\" id=\"ecfe31b5-8853-4529-ae9b-60bdf5dc29f1\" type=\"checkbox\" ><label for=\"ecfe31b5-8853-4529-ae9b-60bdf5dc29f1\" class=\"sk-toggleable__label sk-toggleable__label-arrow\">linear_feature_engineering: Pipeline</label><div class=\"sk-toggleable__content\"><pre>Pipeline(steps=[(&#x27;linear_preprocessor&#x27;,\n",
       "                 ColumnTransformer(remainder=&#x27;passthrough&#x27;,\n",
       "                                   transformers=[(&#x27;cat&#x27;,\n",
       "                                                  Pipeline(steps=[(&#x27;one_hot&#x27;,\n",
       "                                                                   OneHotEncoder(handle_unknown=&#x27;ignore&#x27;))]),\n",
       "                                                  [&#x27;PrimaryPropertyType&#x27;,\n",
       "                                                   &#x27;LargestPropertyUseType&#x27;]),\n",
       "                                                 (&#x27;num&#x27;,\n",
       "                                                  Pipeline(steps=[(&#x27;scaler&#x27;,\n",
       "                                                                   StandardScaler())]),\n",
       "                                                  [&#x27;LargestPropertyUseTypeGFA&#x27;,\n",
       "                                                   &#x27;SecondLargestPropertyUseTypeGFA&#x27;,\n",
       "                                                   &#x27;ThirdLargestPropertyUseTypeGFA&#x27;,\n",
       "                                                   &#x27;Electricity_p&#x27;, &#x27;Latitude&#x27;,\n",
       "                                                   &#x27;Longitude&#x27;,\n",
       "                                                   &#x27;NonResidentialGFA&#x27;,\n",
       "                                                   &#x27;PropertyGFAParking&#x27;,\n",
       "                                                   &#x27;PropertyGFABuilding(s)&#x27;,\n",
       "                                                   &#x27;ENERGYSTARScore&#x27;])])),\n",
       "                (&#x27;polynomial&#x27;,\n",
       "                 PolynomialFeatures(degree=1, include_bias=False,\n",
       "                                    interaction_only=True)),\n",
       "                (&#x27;variance_threshold&#x27;, VarianceThreshold())])</pre></div></div></div><div class=\"sk-serial\"><div class=\"sk-item sk-dashed-wrapped\"><div class=\"sk-label-container\"><div class=\"sk-label sk-toggleable\"><input class=\"sk-toggleable__control sk-hidden--visually\" id=\"0525a2a1-e60e-4e46-add2-37fb0034e941\" type=\"checkbox\" ><label for=\"0525a2a1-e60e-4e46-add2-37fb0034e941\" class=\"sk-toggleable__label sk-toggleable__label-arrow\">linear_preprocessor: ColumnTransformer</label><div class=\"sk-toggleable__content\"><pre>ColumnTransformer(remainder=&#x27;passthrough&#x27;,\n",
       "                  transformers=[(&#x27;cat&#x27;,\n",
       "                                 Pipeline(steps=[(&#x27;one_hot&#x27;,\n",
       "                                                  OneHotEncoder(handle_unknown=&#x27;ignore&#x27;))]),\n",
       "                                 [&#x27;PrimaryPropertyType&#x27;,\n",
       "                                  &#x27;LargestPropertyUseType&#x27;]),\n",
       "                                (&#x27;num&#x27;,\n",
       "                                 Pipeline(steps=[(&#x27;scaler&#x27;, StandardScaler())]),\n",
       "                                 [&#x27;LargestPropertyUseTypeGFA&#x27;,\n",
       "                                  &#x27;SecondLargestPropertyUseTypeGFA&#x27;,\n",
       "                                  &#x27;ThirdLargestPropertyUseTypeGFA&#x27;,\n",
       "                                  &#x27;Electricity_p&#x27;, &#x27;Latitude&#x27;, &#x27;Longitude&#x27;,\n",
       "                                  &#x27;NonResidentialGFA&#x27;, &#x27;PropertyGFAParking&#x27;,\n",
       "                                  &#x27;PropertyGFABuilding(s)&#x27;,\n",
       "                                  &#x27;ENERGYSTARScore&#x27;])])</pre></div></div></div><div class=\"sk-parallel\"><div class=\"sk-parallel-item\"><div class=\"sk-item\"><div class=\"sk-label-container\"><div class=\"sk-label sk-toggleable\"><input class=\"sk-toggleable__control sk-hidden--visually\" id=\"bc717f1d-6e93-4145-9999-299c59d97a81\" type=\"checkbox\" ><label for=\"bc717f1d-6e93-4145-9999-299c59d97a81\" class=\"sk-toggleable__label sk-toggleable__label-arrow\">cat</label><div class=\"sk-toggleable__content\"><pre>[&#x27;PrimaryPropertyType&#x27;, &#x27;LargestPropertyUseType&#x27;]</pre></div></div></div><div class=\"sk-serial\"><div class=\"sk-item\"><div class=\"sk-serial\"><div class=\"sk-item\"><div class=\"sk-estimator sk-toggleable\"><input class=\"sk-toggleable__control sk-hidden--visually\" id=\"a61468b3-9cee-4053-babb-e26a3054311f\" type=\"checkbox\" ><label for=\"a61468b3-9cee-4053-babb-e26a3054311f\" class=\"sk-toggleable__label sk-toggleable__label-arrow\">OneHotEncoder</label><div class=\"sk-toggleable__content\"><pre>OneHotEncoder(handle_unknown=&#x27;ignore&#x27;)</pre></div></div></div></div></div></div></div></div><div class=\"sk-parallel-item\"><div class=\"sk-item\"><div class=\"sk-label-container\"><div class=\"sk-label sk-toggleable\"><input class=\"sk-toggleable__control sk-hidden--visually\" id=\"54138d04-11f7-4973-8082-973ff09d43f6\" type=\"checkbox\" ><label for=\"54138d04-11f7-4973-8082-973ff09d43f6\" class=\"sk-toggleable__label sk-toggleable__label-arrow\">num</label><div class=\"sk-toggleable__content\"><pre>[&#x27;LargestPropertyUseTypeGFA&#x27;, &#x27;SecondLargestPropertyUseTypeGFA&#x27;, &#x27;ThirdLargestPropertyUseTypeGFA&#x27;, &#x27;Electricity_p&#x27;, &#x27;Latitude&#x27;, &#x27;Longitude&#x27;, &#x27;NonResidentialGFA&#x27;, &#x27;PropertyGFAParking&#x27;, &#x27;PropertyGFABuilding(s)&#x27;, &#x27;ENERGYSTARScore&#x27;]</pre></div></div></div><div class=\"sk-serial\"><div class=\"sk-item\"><div class=\"sk-serial\"><div class=\"sk-item\"><div class=\"sk-estimator sk-toggleable\"><input class=\"sk-toggleable__control sk-hidden--visually\" id=\"f550a907-7467-434a-8cd0-355ad0e61001\" type=\"checkbox\" ><label for=\"f550a907-7467-434a-8cd0-355ad0e61001\" class=\"sk-toggleable__label sk-toggleable__label-arrow\">StandardScaler</label><div class=\"sk-toggleable__content\"><pre>StandardScaler()</pre></div></div></div></div></div></div></div></div><div class=\"sk-parallel-item\"><div class=\"sk-item\"><div class=\"sk-label-container\"><div class=\"sk-label sk-toggleable\"><input class=\"sk-toggleable__control sk-hidden--visually\" id=\"41a56e8f-ef7e-4394-b5eb-af46f0579fd3\" type=\"checkbox\" ><label for=\"41a56e8f-ef7e-4394-b5eb-af46f0579fd3\" class=\"sk-toggleable__label sk-toggleable__label-arrow\">remainder</label><div class=\"sk-toggleable__content\"><pre>[]</pre></div></div></div><div class=\"sk-serial\"><div class=\"sk-item\"><div class=\"sk-estimator sk-toggleable\"><input class=\"sk-toggleable__control sk-hidden--visually\" id=\"2c1d986e-ee41-47ee-ad90-0f78b1051c7a\" type=\"checkbox\" ><label for=\"2c1d986e-ee41-47ee-ad90-0f78b1051c7a\" class=\"sk-toggleable__label sk-toggleable__label-arrow\">passthrough</label><div class=\"sk-toggleable__content\"><pre>passthrough</pre></div></div></div></div></div></div></div></div><div class=\"sk-item\"><div class=\"sk-estimator sk-toggleable\"><input class=\"sk-toggleable__control sk-hidden--visually\" id=\"38dc513b-cabd-42c0-b58c-1de4cb920759\" type=\"checkbox\" ><label for=\"38dc513b-cabd-42c0-b58c-1de4cb920759\" class=\"sk-toggleable__label sk-toggleable__label-arrow\">PolynomialFeatures</label><div class=\"sk-toggleable__content\"><pre>PolynomialFeatures(degree=1, include_bias=False, interaction_only=True)</pre></div></div></div><div class=\"sk-item\"><div class=\"sk-estimator sk-toggleable\"><input class=\"sk-toggleable__control sk-hidden--visually\" id=\"0889e377-6c29-48c7-b7ed-30819dd3df07\" type=\"checkbox\" ><label for=\"0889e377-6c29-48c7-b7ed-30819dd3df07\" class=\"sk-toggleable__label sk-toggleable__label-arrow\">VarianceThreshold</label><div class=\"sk-toggleable__content\"><pre>VarianceThreshold()</pre></div></div></div></div></div><div class=\"sk-item\"><div class=\"sk-estimator sk-toggleable\"><input class=\"sk-toggleable__control sk-hidden--visually\" id=\"cea2af97-c09b-46d8-9224-5c4cbc4863c9\" type=\"checkbox\" ><label for=\"cea2af97-c09b-46d8-9224-5c4cbc4863c9\" class=\"sk-toggleable__label sk-toggleable__label-arrow\">Lasso</label><div class=\"sk-toggleable__content\"><pre>Lasso(alpha=0.001, max_iter=8000)</pre></div></div></div></div></div></div></div>"
      ],
      "text/plain": [
       "Pipeline(steps=[('linear_feature_engineering',\n",
       "                 Pipeline(steps=[('linear_preprocessor',\n",
       "                                  ColumnTransformer(remainder='passthrough',\n",
       "                                                    transformers=[('cat',\n",
       "                                                                   Pipeline(steps=[('one_hot',\n",
       "                                                                                    OneHotEncoder(handle_unknown='ignore'))]),\n",
       "                                                                   ['PrimaryPropertyType',\n",
       "                                                                    'LargestPropertyUseType']),\n",
       "                                                                  ('num',\n",
       "                                                                   Pipeline(steps=[('scaler',\n",
       "                                                                                    StandardScaler())]),\n",
       "                                                                   ['LargestPropertyUseTypeGFA',\n",
       "                                                                    '...eTypeGFA',\n",
       "                                                                    'ThirdLargestPropertyUseTypeGFA',\n",
       "                                                                    'Electricity_p',\n",
       "                                                                    'Latitude',\n",
       "                                                                    'Longitude',\n",
       "                                                                    'NonResidentialGFA',\n",
       "                                                                    'PropertyGFAParking',\n",
       "                                                                    'PropertyGFABuilding(s)',\n",
       "                                                                    'ENERGYSTARScore'])])),\n",
       "                                 ('polynomial',\n",
       "                                  PolynomialFeatures(degree=1,\n",
       "                                                     include_bias=False,\n",
       "                                                     interaction_only=True)),\n",
       "                                 ('variance_threshold', VarianceThreshold())])),\n",
       "                ('regressor', Lasso(alpha=0.001, max_iter=8000))])"
      ]
     },
     "execution_count": 32,
     "metadata": {},
     "output_type": "execute_result"
    }
   ],
   "source": [
    "lasso.set_params(**lasso_grid_search.best_params_).fit(X_train, y_train)"
   ]
  },
  {
   "cell_type": "code",
   "execution_count": 33,
   "id": "740c0ba5",
   "metadata": {},
   "outputs": [
    {
     "data": {
      "text/html": [
       "<div>\n",
       "<style scoped>\n",
       "    .dataframe tbody tr th:only-of-type {\n",
       "        vertical-align: middle;\n",
       "    }\n",
       "\n",
       "    .dataframe tbody tr th {\n",
       "        vertical-align: top;\n",
       "    }\n",
       "\n",
       "    .dataframe thead th {\n",
       "        text-align: right;\n",
       "    }\n",
       "</style>\n",
       "<table border=\"1\" class=\"dataframe\">\n",
       "  <thead>\n",
       "    <tr style=\"text-align: right;\">\n",
       "      <th></th>\n",
       "      <th>Modele</th>\n",
       "      <th>Ensembliste</th>\n",
       "      <th>Target</th>\n",
       "      <th>Train_RMSE</th>\n",
       "      <th>Test_RMSE</th>\n",
       "      <th>Train_R2</th>\n",
       "      <th>Test_R2</th>\n",
       "      <th>Commentaires</th>\n",
       "    </tr>\n",
       "  </thead>\n",
       "  <tbody>\n",
       "    <tr>\n",
       "      <th>0</th>\n",
       "      <td>DummyRegressor</td>\n",
       "      <td>non</td>\n",
       "      <td>TotalGHGEmissions</td>\n",
       "      <td>0.67</td>\n",
       "      <td>0.63</td>\n",
       "      <td>0.00</td>\n",
       "      <td>-0.00</td>\n",
       "      <td></td>\n",
       "    </tr>\n",
       "    <tr>\n",
       "      <th>1</th>\n",
       "      <td>Lasso</td>\n",
       "      <td>non</td>\n",
       "      <td>TotalGHGEmissions</td>\n",
       "      <td>0.37</td>\n",
       "      <td>0.33</td>\n",
       "      <td>0.69</td>\n",
       "      <td>0.73</td>\n",
       "      <td></td>\n",
       "    </tr>\n",
       "  </tbody>\n",
       "</table>\n",
       "</div>"
      ],
      "text/plain": [
       "           Modele Ensembliste             Target  Train_RMSE  Test_RMSE  \\\n",
       "0  DummyRegressor         non  TotalGHGEmissions        0.67       0.63   \n",
       "1           Lasso         non  TotalGHGEmissions        0.37       0.33   \n",
       "\n",
       "   Train_R2  Test_R2 Commentaires  \n",
       "0      0.00    -0.00               \n",
       "1      0.69     0.73               "
      ]
     },
     "execution_count": 33,
     "metadata": {},
     "output_type": "execute_result"
    }
   ],
   "source": [
    "lasso.set_params(**lasso_grid_search.best_params_).fit(X_train, y_train)\n",
    "df_summary = summary(lasso, df_summary,X_train, X_test, y_train, y_test)\n",
    "df_summary"
   ]
  },
  {
   "cell_type": "markdown",
   "id": "c94570a2",
   "metadata": {},
   "source": [
    "### 2.1.3 - Linear"
   ]
  },
  {
   "cell_type": "code",
   "execution_count": 34,
   "id": "7a6b926a",
   "metadata": {},
   "outputs": [],
   "source": [
    "linear = Pipeline(steps = [\n",
    "    ('linear_feature_engineering', linear_feature_engineering),\n",
    "    ('regressor', LinearRegression())\n",
    "])"
   ]
  },
  {
   "cell_type": "raw",
   "id": "5af42c37",
   "metadata": {},
   "source": [
    "linear.get_params().keys()"
   ]
  },
  {
   "cell_type": "code",
   "execution_count": 35,
   "id": "c9a496bf",
   "metadata": {},
   "outputs": [],
   "source": [
    "#Recherche des meilleurs hyperparametres\n",
    "linear_param_grid = {\n",
    "    'linear_feature_engineering__polynomial__degree' : [1,2,3],\n",
    "    'regressor__fit_intercept': [True, False]\n",
    "}\n",
    "\n",
    "linear_grid_search = GridSearchCV(\n",
    "    estimator = linear,\n",
    "    param_grid = linear_param_grid,\n",
    "    scoring = 'neg_root_mean_squared_error',\n",
    "    cv = 3,\n",
    "    verbose = 2,\n",
    "    n_jobs = -1\n",
    ")"
   ]
  },
  {
   "cell_type": "code",
   "execution_count": 36,
   "id": "305800ee",
   "metadata": {},
   "outputs": [
    {
     "name": "stdout",
     "output_type": "stream",
     "text": [
      "Fitting 3 folds for each of 6 candidates, totalling 18 fits\n"
     ]
    },
    {
     "data": {
      "text/html": [
       "<style>#sk-a2b92868-9e68-4710-a321-ca4b78cc1784 {color: black;background-color: white;}#sk-a2b92868-9e68-4710-a321-ca4b78cc1784 pre{padding: 0;}#sk-a2b92868-9e68-4710-a321-ca4b78cc1784 div.sk-toggleable {background-color: white;}#sk-a2b92868-9e68-4710-a321-ca4b78cc1784 label.sk-toggleable__label {cursor: pointer;display: block;width: 100%;margin-bottom: 0;padding: 0.3em;box-sizing: border-box;text-align: center;}#sk-a2b92868-9e68-4710-a321-ca4b78cc1784 label.sk-toggleable__label-arrow:before {content: \"▸\";float: left;margin-right: 0.25em;color: #696969;}#sk-a2b92868-9e68-4710-a321-ca4b78cc1784 label.sk-toggleable__label-arrow:hover:before {color: black;}#sk-a2b92868-9e68-4710-a321-ca4b78cc1784 div.sk-estimator:hover label.sk-toggleable__label-arrow:before {color: black;}#sk-a2b92868-9e68-4710-a321-ca4b78cc1784 div.sk-toggleable__content {max-height: 0;max-width: 0;overflow: hidden;text-align: left;background-color: #f0f8ff;}#sk-a2b92868-9e68-4710-a321-ca4b78cc1784 div.sk-toggleable__content pre {margin: 0.2em;color: black;border-radius: 0.25em;background-color: #f0f8ff;}#sk-a2b92868-9e68-4710-a321-ca4b78cc1784 input.sk-toggleable__control:checked~div.sk-toggleable__content {max-height: 200px;max-width: 100%;overflow: auto;}#sk-a2b92868-9e68-4710-a321-ca4b78cc1784 input.sk-toggleable__control:checked~label.sk-toggleable__label-arrow:before {content: \"▾\";}#sk-a2b92868-9e68-4710-a321-ca4b78cc1784 div.sk-estimator input.sk-toggleable__control:checked~label.sk-toggleable__label {background-color: #d4ebff;}#sk-a2b92868-9e68-4710-a321-ca4b78cc1784 div.sk-label input.sk-toggleable__control:checked~label.sk-toggleable__label {background-color: #d4ebff;}#sk-a2b92868-9e68-4710-a321-ca4b78cc1784 input.sk-hidden--visually {border: 0;clip: rect(1px 1px 1px 1px);clip: rect(1px, 1px, 1px, 1px);height: 1px;margin: -1px;overflow: hidden;padding: 0;position: absolute;width: 1px;}#sk-a2b92868-9e68-4710-a321-ca4b78cc1784 div.sk-estimator {font-family: monospace;background-color: #f0f8ff;border: 1px dotted black;border-radius: 0.25em;box-sizing: border-box;margin-bottom: 0.5em;}#sk-a2b92868-9e68-4710-a321-ca4b78cc1784 div.sk-estimator:hover {background-color: #d4ebff;}#sk-a2b92868-9e68-4710-a321-ca4b78cc1784 div.sk-parallel-item::after {content: \"\";width: 100%;border-bottom: 1px solid gray;flex-grow: 1;}#sk-a2b92868-9e68-4710-a321-ca4b78cc1784 div.sk-label:hover label.sk-toggleable__label {background-color: #d4ebff;}#sk-a2b92868-9e68-4710-a321-ca4b78cc1784 div.sk-serial::before {content: \"\";position: absolute;border-left: 1px solid gray;box-sizing: border-box;top: 2em;bottom: 0;left: 50%;}#sk-a2b92868-9e68-4710-a321-ca4b78cc1784 div.sk-serial {display: flex;flex-direction: column;align-items: center;background-color: white;padding-right: 0.2em;padding-left: 0.2em;}#sk-a2b92868-9e68-4710-a321-ca4b78cc1784 div.sk-item {z-index: 1;}#sk-a2b92868-9e68-4710-a321-ca4b78cc1784 div.sk-parallel {display: flex;align-items: stretch;justify-content: center;background-color: white;}#sk-a2b92868-9e68-4710-a321-ca4b78cc1784 div.sk-parallel::before {content: \"\";position: absolute;border-left: 1px solid gray;box-sizing: border-box;top: 2em;bottom: 0;left: 50%;}#sk-a2b92868-9e68-4710-a321-ca4b78cc1784 div.sk-parallel-item {display: flex;flex-direction: column;position: relative;background-color: white;}#sk-a2b92868-9e68-4710-a321-ca4b78cc1784 div.sk-parallel-item:first-child::after {align-self: flex-end;width: 50%;}#sk-a2b92868-9e68-4710-a321-ca4b78cc1784 div.sk-parallel-item:last-child::after {align-self: flex-start;width: 50%;}#sk-a2b92868-9e68-4710-a321-ca4b78cc1784 div.sk-parallel-item:only-child::after {width: 0;}#sk-a2b92868-9e68-4710-a321-ca4b78cc1784 div.sk-dashed-wrapped {border: 1px dashed gray;margin: 0 0.4em 0.5em 0.4em;box-sizing: border-box;padding-bottom: 0.4em;background-color: white;position: relative;}#sk-a2b92868-9e68-4710-a321-ca4b78cc1784 div.sk-label label {font-family: monospace;font-weight: bold;background-color: white;display: inline-block;line-height: 1.2em;}#sk-a2b92868-9e68-4710-a321-ca4b78cc1784 div.sk-label-container {position: relative;z-index: 2;text-align: center;}#sk-a2b92868-9e68-4710-a321-ca4b78cc1784 div.sk-container {/* jupyter's `normalize.less` sets `[hidden] { display: none; }` but bootstrap.min.css set `[hidden] { display: none !important; }` so we also need the `!important` here to be able to override the default hidden behavior on the sphinx rendered scikit-learn.org. See: https://github.com/scikit-learn/scikit-learn/issues/21755 */display: inline-block !important;position: relative;}#sk-a2b92868-9e68-4710-a321-ca4b78cc1784 div.sk-text-repr-fallback {display: none;}</style><div id=\"sk-a2b92868-9e68-4710-a321-ca4b78cc1784\" class=\"sk-top-container\"><div class=\"sk-text-repr-fallback\"><pre>GridSearchCV(cv=3,\n",
       "             estimator=Pipeline(steps=[(&#x27;linear_feature_engineering&#x27;,\n",
       "                                        Pipeline(steps=[(&#x27;linear_preprocessor&#x27;,\n",
       "                                                         ColumnTransformer(remainder=&#x27;passthrough&#x27;,\n",
       "                                                                           transformers=[(&#x27;cat&#x27;,\n",
       "                                                                                          Pipeline(steps=[(&#x27;one_hot&#x27;,\n",
       "                                                                                                           OneHotEncoder(handle_unknown=&#x27;ignore&#x27;))]),\n",
       "                                                                                          [&#x27;PrimaryPropertyType&#x27;,\n",
       "                                                                                           &#x27;LargestPropertyUseType&#x27;]),\n",
       "                                                                                         (&#x27;num&#x27;,\n",
       "                                                                                          Pipeline(steps=[(&#x27;scaler&#x27;,\n",
       "                                                                                                           StandardScaler())]),\n",
       "                                                                                          [&#x27;...\n",
       "                                                                                           &#x27;ENERGYSTARScore&#x27;])])),\n",
       "                                                        (&#x27;polynomial&#x27;,\n",
       "                                                         PolynomialFeatures(degree=1,\n",
       "                                                                            include_bias=False,\n",
       "                                                                            interaction_only=True)),\n",
       "                                                        (&#x27;variance_threshold&#x27;,\n",
       "                                                         VarianceThreshold())])),\n",
       "                                       (&#x27;regressor&#x27;, LinearRegression())]),\n",
       "             n_jobs=-1,\n",
       "             param_grid={&#x27;linear_feature_engineering__polynomial__degree&#x27;: [1,\n",
       "                                                                            2,\n",
       "                                                                            3],\n",
       "                         &#x27;regressor__fit_intercept&#x27;: [True, False]},\n",
       "             scoring=&#x27;neg_root_mean_squared_error&#x27;, verbose=2)</pre><b>Please rerun this cell to show the HTML repr or trust the notebook.</b></div><div class=\"sk-container\" hidden><div class=\"sk-item sk-dashed-wrapped\"><div class=\"sk-label-container\"><div class=\"sk-label sk-toggleable\"><input class=\"sk-toggleable__control sk-hidden--visually\" id=\"3c26ed45-1af2-405a-b68f-48ffe34cb62a\" type=\"checkbox\" ><label for=\"3c26ed45-1af2-405a-b68f-48ffe34cb62a\" class=\"sk-toggleable__label sk-toggleable__label-arrow\">GridSearchCV</label><div class=\"sk-toggleable__content\"><pre>GridSearchCV(cv=3,\n",
       "             estimator=Pipeline(steps=[(&#x27;linear_feature_engineering&#x27;,\n",
       "                                        Pipeline(steps=[(&#x27;linear_preprocessor&#x27;,\n",
       "                                                         ColumnTransformer(remainder=&#x27;passthrough&#x27;,\n",
       "                                                                           transformers=[(&#x27;cat&#x27;,\n",
       "                                                                                          Pipeline(steps=[(&#x27;one_hot&#x27;,\n",
       "                                                                                                           OneHotEncoder(handle_unknown=&#x27;ignore&#x27;))]),\n",
       "                                                                                          [&#x27;PrimaryPropertyType&#x27;,\n",
       "                                                                                           &#x27;LargestPropertyUseType&#x27;]),\n",
       "                                                                                         (&#x27;num&#x27;,\n",
       "                                                                                          Pipeline(steps=[(&#x27;scaler&#x27;,\n",
       "                                                                                                           StandardScaler())]),\n",
       "                                                                                          [&#x27;...\n",
       "                                                                                           &#x27;ENERGYSTARScore&#x27;])])),\n",
       "                                                        (&#x27;polynomial&#x27;,\n",
       "                                                         PolynomialFeatures(degree=1,\n",
       "                                                                            include_bias=False,\n",
       "                                                                            interaction_only=True)),\n",
       "                                                        (&#x27;variance_threshold&#x27;,\n",
       "                                                         VarianceThreshold())])),\n",
       "                                       (&#x27;regressor&#x27;, LinearRegression())]),\n",
       "             n_jobs=-1,\n",
       "             param_grid={&#x27;linear_feature_engineering__polynomial__degree&#x27;: [1,\n",
       "                                                                            2,\n",
       "                                                                            3],\n",
       "                         &#x27;regressor__fit_intercept&#x27;: [True, False]},\n",
       "             scoring=&#x27;neg_root_mean_squared_error&#x27;, verbose=2)</pre></div></div></div><div class=\"sk-parallel\"><div class=\"sk-parallel-item\"><div class=\"sk-item\"><div class=\"sk-serial\"><div class=\"sk-item\"><div class=\"sk-serial\"><div class=\"sk-item\"><div class=\"sk-label-container\"><div class=\"sk-label sk-toggleable\"><input class=\"sk-toggleable__control sk-hidden--visually\" id=\"ae25ebca-fe5c-440f-9684-9542683f8d9d\" type=\"checkbox\" ><label for=\"ae25ebca-fe5c-440f-9684-9542683f8d9d\" class=\"sk-toggleable__label sk-toggleable__label-arrow\">linear_feature_engineering: Pipeline</label><div class=\"sk-toggleable__content\"><pre>Pipeline(steps=[(&#x27;linear_preprocessor&#x27;,\n",
       "                 ColumnTransformer(remainder=&#x27;passthrough&#x27;,\n",
       "                                   transformers=[(&#x27;cat&#x27;,\n",
       "                                                  Pipeline(steps=[(&#x27;one_hot&#x27;,\n",
       "                                                                   OneHotEncoder(handle_unknown=&#x27;ignore&#x27;))]),\n",
       "                                                  [&#x27;PrimaryPropertyType&#x27;,\n",
       "                                                   &#x27;LargestPropertyUseType&#x27;]),\n",
       "                                                 (&#x27;num&#x27;,\n",
       "                                                  Pipeline(steps=[(&#x27;scaler&#x27;,\n",
       "                                                                   StandardScaler())]),\n",
       "                                                  [&#x27;LargestPropertyUseTypeGFA&#x27;,\n",
       "                                                   &#x27;SecondLargestPropertyUseTypeGFA&#x27;,\n",
       "                                                   &#x27;ThirdLargestPropertyUseTypeGFA&#x27;,\n",
       "                                                   &#x27;Electricity_p&#x27;, &#x27;Latitude&#x27;,\n",
       "                                                   &#x27;Longitude&#x27;,\n",
       "                                                   &#x27;NonResidentialGFA&#x27;,\n",
       "                                                   &#x27;PropertyGFAParking&#x27;,\n",
       "                                                   &#x27;PropertyGFABuilding(s)&#x27;,\n",
       "                                                   &#x27;ENERGYSTARScore&#x27;])])),\n",
       "                (&#x27;polynomial&#x27;,\n",
       "                 PolynomialFeatures(degree=1, include_bias=False,\n",
       "                                    interaction_only=True)),\n",
       "                (&#x27;variance_threshold&#x27;, VarianceThreshold())])</pre></div></div></div><div class=\"sk-serial\"><div class=\"sk-item sk-dashed-wrapped\"><div class=\"sk-label-container\"><div class=\"sk-label sk-toggleable\"><input class=\"sk-toggleable__control sk-hidden--visually\" id=\"b28d6d9b-1114-4aab-a637-9c1f817c8575\" type=\"checkbox\" ><label for=\"b28d6d9b-1114-4aab-a637-9c1f817c8575\" class=\"sk-toggleable__label sk-toggleable__label-arrow\">linear_preprocessor: ColumnTransformer</label><div class=\"sk-toggleable__content\"><pre>ColumnTransformer(remainder=&#x27;passthrough&#x27;,\n",
       "                  transformers=[(&#x27;cat&#x27;,\n",
       "                                 Pipeline(steps=[(&#x27;one_hot&#x27;,\n",
       "                                                  OneHotEncoder(handle_unknown=&#x27;ignore&#x27;))]),\n",
       "                                 [&#x27;PrimaryPropertyType&#x27;,\n",
       "                                  &#x27;LargestPropertyUseType&#x27;]),\n",
       "                                (&#x27;num&#x27;,\n",
       "                                 Pipeline(steps=[(&#x27;scaler&#x27;, StandardScaler())]),\n",
       "                                 [&#x27;LargestPropertyUseTypeGFA&#x27;,\n",
       "                                  &#x27;SecondLargestPropertyUseTypeGFA&#x27;,\n",
       "                                  &#x27;ThirdLargestPropertyUseTypeGFA&#x27;,\n",
       "                                  &#x27;Electricity_p&#x27;, &#x27;Latitude&#x27;, &#x27;Longitude&#x27;,\n",
       "                                  &#x27;NonResidentialGFA&#x27;, &#x27;PropertyGFAParking&#x27;,\n",
       "                                  &#x27;PropertyGFABuilding(s)&#x27;,\n",
       "                                  &#x27;ENERGYSTARScore&#x27;])])</pre></div></div></div><div class=\"sk-parallel\"><div class=\"sk-parallel-item\"><div class=\"sk-item\"><div class=\"sk-label-container\"><div class=\"sk-label sk-toggleable\"><input class=\"sk-toggleable__control sk-hidden--visually\" id=\"6f103519-9229-451f-b8a0-087f7fc95222\" type=\"checkbox\" ><label for=\"6f103519-9229-451f-b8a0-087f7fc95222\" class=\"sk-toggleable__label sk-toggleable__label-arrow\">cat</label><div class=\"sk-toggleable__content\"><pre>[&#x27;PrimaryPropertyType&#x27;, &#x27;LargestPropertyUseType&#x27;]</pre></div></div></div><div class=\"sk-serial\"><div class=\"sk-item\"><div class=\"sk-serial\"><div class=\"sk-item\"><div class=\"sk-estimator sk-toggleable\"><input class=\"sk-toggleable__control sk-hidden--visually\" id=\"d36b885a-ab8e-48fd-a025-1a2cad9dd3e3\" type=\"checkbox\" ><label for=\"d36b885a-ab8e-48fd-a025-1a2cad9dd3e3\" class=\"sk-toggleable__label sk-toggleable__label-arrow\">OneHotEncoder</label><div class=\"sk-toggleable__content\"><pre>OneHotEncoder(handle_unknown=&#x27;ignore&#x27;)</pre></div></div></div></div></div></div></div></div><div class=\"sk-parallel-item\"><div class=\"sk-item\"><div class=\"sk-label-container\"><div class=\"sk-label sk-toggleable\"><input class=\"sk-toggleable__control sk-hidden--visually\" id=\"56e39ad8-6040-42fb-b4b1-d1c344bb0308\" type=\"checkbox\" ><label for=\"56e39ad8-6040-42fb-b4b1-d1c344bb0308\" class=\"sk-toggleable__label sk-toggleable__label-arrow\">num</label><div class=\"sk-toggleable__content\"><pre>[&#x27;LargestPropertyUseTypeGFA&#x27;, &#x27;SecondLargestPropertyUseTypeGFA&#x27;, &#x27;ThirdLargestPropertyUseTypeGFA&#x27;, &#x27;Electricity_p&#x27;, &#x27;Latitude&#x27;, &#x27;Longitude&#x27;, &#x27;NonResidentialGFA&#x27;, &#x27;PropertyGFAParking&#x27;, &#x27;PropertyGFABuilding(s)&#x27;, &#x27;ENERGYSTARScore&#x27;]</pre></div></div></div><div class=\"sk-serial\"><div class=\"sk-item\"><div class=\"sk-serial\"><div class=\"sk-item\"><div class=\"sk-estimator sk-toggleable\"><input class=\"sk-toggleable__control sk-hidden--visually\" id=\"f23a018a-a879-4595-9c58-31a9a5861afb\" type=\"checkbox\" ><label for=\"f23a018a-a879-4595-9c58-31a9a5861afb\" class=\"sk-toggleable__label sk-toggleable__label-arrow\">StandardScaler</label><div class=\"sk-toggleable__content\"><pre>StandardScaler()</pre></div></div></div></div></div></div></div></div><div class=\"sk-parallel-item\"><div class=\"sk-item\"><div class=\"sk-label-container\"><div class=\"sk-label sk-toggleable\"><input class=\"sk-toggleable__control sk-hidden--visually\" id=\"a8e8fb85-b2cd-4739-9265-1f02cc8453c5\" type=\"checkbox\" ><label for=\"a8e8fb85-b2cd-4739-9265-1f02cc8453c5\" class=\"sk-toggleable__label sk-toggleable__label-arrow\">remainder</label><div class=\"sk-toggleable__content\"><pre>[]</pre></div></div></div><div class=\"sk-serial\"><div class=\"sk-item\"><div class=\"sk-estimator sk-toggleable\"><input class=\"sk-toggleable__control sk-hidden--visually\" id=\"fbcfe52b-51fc-4219-bc5b-817dd939983f\" type=\"checkbox\" ><label for=\"fbcfe52b-51fc-4219-bc5b-817dd939983f\" class=\"sk-toggleable__label sk-toggleable__label-arrow\">passthrough</label><div class=\"sk-toggleable__content\"><pre>passthrough</pre></div></div></div></div></div></div></div></div><div class=\"sk-item\"><div class=\"sk-estimator sk-toggleable\"><input class=\"sk-toggleable__control sk-hidden--visually\" id=\"7f3a175b-3765-40e3-a865-29447efc9ed8\" type=\"checkbox\" ><label for=\"7f3a175b-3765-40e3-a865-29447efc9ed8\" class=\"sk-toggleable__label sk-toggleable__label-arrow\">PolynomialFeatures</label><div class=\"sk-toggleable__content\"><pre>PolynomialFeatures(degree=1, include_bias=False, interaction_only=True)</pre></div></div></div><div class=\"sk-item\"><div class=\"sk-estimator sk-toggleable\"><input class=\"sk-toggleable__control sk-hidden--visually\" id=\"2ea837a9-98a4-48a2-83ef-846796ffdc7d\" type=\"checkbox\" ><label for=\"2ea837a9-98a4-48a2-83ef-846796ffdc7d\" class=\"sk-toggleable__label sk-toggleable__label-arrow\">VarianceThreshold</label><div class=\"sk-toggleable__content\"><pre>VarianceThreshold()</pre></div></div></div></div></div><div class=\"sk-item\"><div class=\"sk-estimator sk-toggleable\"><input class=\"sk-toggleable__control sk-hidden--visually\" id=\"0951dbb0-588e-473f-b72e-5b7cc6cfe3d5\" type=\"checkbox\" ><label for=\"0951dbb0-588e-473f-b72e-5b7cc6cfe3d5\" class=\"sk-toggleable__label sk-toggleable__label-arrow\">LinearRegression</label><div class=\"sk-toggleable__content\"><pre>LinearRegression()</pre></div></div></div></div></div></div></div></div></div></div></div></div>"
      ],
      "text/plain": [
       "GridSearchCV(cv=3,\n",
       "             estimator=Pipeline(steps=[('linear_feature_engineering',\n",
       "                                        Pipeline(steps=[('linear_preprocessor',\n",
       "                                                         ColumnTransformer(remainder='passthrough',\n",
       "                                                                           transformers=[('cat',\n",
       "                                                                                          Pipeline(steps=[('one_hot',\n",
       "                                                                                                           OneHotEncoder(handle_unknown='ignore'))]),\n",
       "                                                                                          ['PrimaryPropertyType',\n",
       "                                                                                           'LargestPropertyUseType']),\n",
       "                                                                                         ('num',\n",
       "                                                                                          Pipeline(steps=[('scaler',\n",
       "                                                                                                           StandardScaler())]),\n",
       "                                                                                          ['...\n",
       "                                                                                           'ENERGYSTARScore'])])),\n",
       "                                                        ('polynomial',\n",
       "                                                         PolynomialFeatures(degree=1,\n",
       "                                                                            include_bias=False,\n",
       "                                                                            interaction_only=True)),\n",
       "                                                        ('variance_threshold',\n",
       "                                                         VarianceThreshold())])),\n",
       "                                       ('regressor', LinearRegression())]),\n",
       "             n_jobs=-1,\n",
       "             param_grid={'linear_feature_engineering__polynomial__degree': [1,\n",
       "                                                                            2,\n",
       "                                                                            3],\n",
       "                         'regressor__fit_intercept': [True, False]},\n",
       "             scoring='neg_root_mean_squared_error', verbose=2)"
      ]
     },
     "execution_count": 36,
     "metadata": {},
     "output_type": "execute_result"
    }
   ],
   "source": [
    "linear_grid_search.fit(X_train, y_train)"
   ]
  },
  {
   "cell_type": "code",
   "execution_count": 37,
   "id": "b1159760",
   "metadata": {},
   "outputs": [
    {
     "data": {
      "text/plain": [
       "{'linear_feature_engineering__polynomial__degree': 1,\n",
       " 'regressor__fit_intercept': True}"
      ]
     },
     "execution_count": 37,
     "metadata": {},
     "output_type": "execute_result"
    }
   ],
   "source": [
    "linear_grid_search.best_params_"
   ]
  },
  {
   "cell_type": "code",
   "execution_count": 38,
   "id": "3136a474",
   "metadata": {},
   "outputs": [
    {
     "data": {
      "text/html": [
       "<div>\n",
       "<style scoped>\n",
       "    .dataframe tbody tr th:only-of-type {\n",
       "        vertical-align: middle;\n",
       "    }\n",
       "\n",
       "    .dataframe tbody tr th {\n",
       "        vertical-align: top;\n",
       "    }\n",
       "\n",
       "    .dataframe thead th {\n",
       "        text-align: right;\n",
       "    }\n",
       "</style>\n",
       "<table border=\"1\" class=\"dataframe\">\n",
       "  <thead>\n",
       "    <tr style=\"text-align: right;\">\n",
       "      <th></th>\n",
       "      <th>Modele</th>\n",
       "      <th>Ensembliste</th>\n",
       "      <th>Target</th>\n",
       "      <th>Train_RMSE</th>\n",
       "      <th>Test_RMSE</th>\n",
       "      <th>Train_R2</th>\n",
       "      <th>Test_R2</th>\n",
       "      <th>Commentaires</th>\n",
       "    </tr>\n",
       "  </thead>\n",
       "  <tbody>\n",
       "    <tr>\n",
       "      <th>0</th>\n",
       "      <td>DummyRegressor</td>\n",
       "      <td>non</td>\n",
       "      <td>TotalGHGEmissions</td>\n",
       "      <td>0.67</td>\n",
       "      <td>0.63</td>\n",
       "      <td>0.00</td>\n",
       "      <td>-0.00</td>\n",
       "      <td></td>\n",
       "    </tr>\n",
       "    <tr>\n",
       "      <th>1</th>\n",
       "      <td>Lasso</td>\n",
       "      <td>non</td>\n",
       "      <td>TotalGHGEmissions</td>\n",
       "      <td>0.37</td>\n",
       "      <td>0.33</td>\n",
       "      <td>0.69</td>\n",
       "      <td>0.73</td>\n",
       "      <td></td>\n",
       "    </tr>\n",
       "    <tr>\n",
       "      <th>2</th>\n",
       "      <td>LinearRegression</td>\n",
       "      <td>non</td>\n",
       "      <td>TotalGHGEmissions</td>\n",
       "      <td>0.37</td>\n",
       "      <td>0.32</td>\n",
       "      <td>0.70</td>\n",
       "      <td>0.74</td>\n",
       "      <td></td>\n",
       "    </tr>\n",
       "  </tbody>\n",
       "</table>\n",
       "</div>"
      ],
      "text/plain": [
       "             Modele Ensembliste             Target  Train_RMSE  Test_RMSE  \\\n",
       "0    DummyRegressor         non  TotalGHGEmissions        0.67       0.63   \n",
       "1             Lasso         non  TotalGHGEmissions        0.37       0.33   \n",
       "2  LinearRegression         non  TotalGHGEmissions        0.37       0.32   \n",
       "\n",
       "   Train_R2  Test_R2 Commentaires  \n",
       "0      0.00    -0.00               \n",
       "1      0.69     0.73               \n",
       "2      0.70     0.74               "
      ]
     },
     "execution_count": 38,
     "metadata": {},
     "output_type": "execute_result"
    }
   ],
   "source": [
    "linear.set_params(**linear_grid_search.best_params_).fit(X_train, y_train)\n",
    "df_summary = summary(linear, df_summary,X_train, X_test, y_train, y_test)\n",
    "df_summary"
   ]
  },
  {
   "cell_type": "code",
   "execution_count": 39,
   "id": "e4f90965",
   "metadata": {},
   "outputs": [],
   "source": [
    "linear_y_pred = linear.predict(X_test)\n",
    "residu_linear = y_test - linear_y_pred"
   ]
  },
  {
   "cell_type": "markdown",
   "id": "e254c068",
   "metadata": {},
   "source": [
    "### 2.1.4 - Ridge"
   ]
  },
  {
   "cell_type": "code",
   "execution_count": 40,
   "id": "284bd27e",
   "metadata": {},
   "outputs": [],
   "source": [
    "ridge = Pipeline(steps = [\n",
    "    ('linear_feature_engineering', linear_feature_engineering),\n",
    "    ('regressor', Ridge())\n",
    "])"
   ]
  },
  {
   "cell_type": "code",
   "execution_count": 41,
   "id": "d5956000",
   "metadata": {},
   "outputs": [],
   "source": [
    "#Recherche des meilleurs hyperparametres\n",
    "ridge_param_grid = {\n",
    "    'linear_feature_engineering__polynomial__degree' : [1,2,3],\n",
    "    'regressor__fit_intercept': [True, False]\n",
    "}\n",
    "\n",
    "ridge_grid_search = GridSearchCV(\n",
    "    estimator = ridge,\n",
    "    param_grid = ridge_param_grid,\n",
    "    scoring = 'neg_root_mean_squared_error',\n",
    "    cv = 3,\n",
    "    verbose = 2,\n",
    "    n_jobs = -1\n",
    ")"
   ]
  },
  {
   "cell_type": "code",
   "execution_count": 42,
   "id": "71cb8326",
   "metadata": {},
   "outputs": [
    {
     "name": "stdout",
     "output_type": "stream",
     "text": [
      "Fitting 3 folds for each of 6 candidates, totalling 18 fits\n"
     ]
    },
    {
     "data": {
      "text/html": [
       "<style>#sk-3a92526d-c72f-4979-b6f1-2886873e9e73 {color: black;background-color: white;}#sk-3a92526d-c72f-4979-b6f1-2886873e9e73 pre{padding: 0;}#sk-3a92526d-c72f-4979-b6f1-2886873e9e73 div.sk-toggleable {background-color: white;}#sk-3a92526d-c72f-4979-b6f1-2886873e9e73 label.sk-toggleable__label {cursor: pointer;display: block;width: 100%;margin-bottom: 0;padding: 0.3em;box-sizing: border-box;text-align: center;}#sk-3a92526d-c72f-4979-b6f1-2886873e9e73 label.sk-toggleable__label-arrow:before {content: \"▸\";float: left;margin-right: 0.25em;color: #696969;}#sk-3a92526d-c72f-4979-b6f1-2886873e9e73 label.sk-toggleable__label-arrow:hover:before {color: black;}#sk-3a92526d-c72f-4979-b6f1-2886873e9e73 div.sk-estimator:hover label.sk-toggleable__label-arrow:before {color: black;}#sk-3a92526d-c72f-4979-b6f1-2886873e9e73 div.sk-toggleable__content {max-height: 0;max-width: 0;overflow: hidden;text-align: left;background-color: #f0f8ff;}#sk-3a92526d-c72f-4979-b6f1-2886873e9e73 div.sk-toggleable__content pre {margin: 0.2em;color: black;border-radius: 0.25em;background-color: #f0f8ff;}#sk-3a92526d-c72f-4979-b6f1-2886873e9e73 input.sk-toggleable__control:checked~div.sk-toggleable__content {max-height: 200px;max-width: 100%;overflow: auto;}#sk-3a92526d-c72f-4979-b6f1-2886873e9e73 input.sk-toggleable__control:checked~label.sk-toggleable__label-arrow:before {content: \"▾\";}#sk-3a92526d-c72f-4979-b6f1-2886873e9e73 div.sk-estimator input.sk-toggleable__control:checked~label.sk-toggleable__label {background-color: #d4ebff;}#sk-3a92526d-c72f-4979-b6f1-2886873e9e73 div.sk-label input.sk-toggleable__control:checked~label.sk-toggleable__label {background-color: #d4ebff;}#sk-3a92526d-c72f-4979-b6f1-2886873e9e73 input.sk-hidden--visually {border: 0;clip: rect(1px 1px 1px 1px);clip: rect(1px, 1px, 1px, 1px);height: 1px;margin: -1px;overflow: hidden;padding: 0;position: absolute;width: 1px;}#sk-3a92526d-c72f-4979-b6f1-2886873e9e73 div.sk-estimator {font-family: monospace;background-color: #f0f8ff;border: 1px dotted black;border-radius: 0.25em;box-sizing: border-box;margin-bottom: 0.5em;}#sk-3a92526d-c72f-4979-b6f1-2886873e9e73 div.sk-estimator:hover {background-color: #d4ebff;}#sk-3a92526d-c72f-4979-b6f1-2886873e9e73 div.sk-parallel-item::after {content: \"\";width: 100%;border-bottom: 1px solid gray;flex-grow: 1;}#sk-3a92526d-c72f-4979-b6f1-2886873e9e73 div.sk-label:hover label.sk-toggleable__label {background-color: #d4ebff;}#sk-3a92526d-c72f-4979-b6f1-2886873e9e73 div.sk-serial::before {content: \"\";position: absolute;border-left: 1px solid gray;box-sizing: border-box;top: 2em;bottom: 0;left: 50%;}#sk-3a92526d-c72f-4979-b6f1-2886873e9e73 div.sk-serial {display: flex;flex-direction: column;align-items: center;background-color: white;padding-right: 0.2em;padding-left: 0.2em;}#sk-3a92526d-c72f-4979-b6f1-2886873e9e73 div.sk-item {z-index: 1;}#sk-3a92526d-c72f-4979-b6f1-2886873e9e73 div.sk-parallel {display: flex;align-items: stretch;justify-content: center;background-color: white;}#sk-3a92526d-c72f-4979-b6f1-2886873e9e73 div.sk-parallel::before {content: \"\";position: absolute;border-left: 1px solid gray;box-sizing: border-box;top: 2em;bottom: 0;left: 50%;}#sk-3a92526d-c72f-4979-b6f1-2886873e9e73 div.sk-parallel-item {display: flex;flex-direction: column;position: relative;background-color: white;}#sk-3a92526d-c72f-4979-b6f1-2886873e9e73 div.sk-parallel-item:first-child::after {align-self: flex-end;width: 50%;}#sk-3a92526d-c72f-4979-b6f1-2886873e9e73 div.sk-parallel-item:last-child::after {align-self: flex-start;width: 50%;}#sk-3a92526d-c72f-4979-b6f1-2886873e9e73 div.sk-parallel-item:only-child::after {width: 0;}#sk-3a92526d-c72f-4979-b6f1-2886873e9e73 div.sk-dashed-wrapped {border: 1px dashed gray;margin: 0 0.4em 0.5em 0.4em;box-sizing: border-box;padding-bottom: 0.4em;background-color: white;position: relative;}#sk-3a92526d-c72f-4979-b6f1-2886873e9e73 div.sk-label label {font-family: monospace;font-weight: bold;background-color: white;display: inline-block;line-height: 1.2em;}#sk-3a92526d-c72f-4979-b6f1-2886873e9e73 div.sk-label-container {position: relative;z-index: 2;text-align: center;}#sk-3a92526d-c72f-4979-b6f1-2886873e9e73 div.sk-container {/* jupyter's `normalize.less` sets `[hidden] { display: none; }` but bootstrap.min.css set `[hidden] { display: none !important; }` so we also need the `!important` here to be able to override the default hidden behavior on the sphinx rendered scikit-learn.org. See: https://github.com/scikit-learn/scikit-learn/issues/21755 */display: inline-block !important;position: relative;}#sk-3a92526d-c72f-4979-b6f1-2886873e9e73 div.sk-text-repr-fallback {display: none;}</style><div id=\"sk-3a92526d-c72f-4979-b6f1-2886873e9e73\" class=\"sk-top-container\"><div class=\"sk-text-repr-fallback\"><pre>GridSearchCV(cv=3,\n",
       "             estimator=Pipeline(steps=[(&#x27;linear_feature_engineering&#x27;,\n",
       "                                        Pipeline(steps=[(&#x27;linear_preprocessor&#x27;,\n",
       "                                                         ColumnTransformer(remainder=&#x27;passthrough&#x27;,\n",
       "                                                                           transformers=[(&#x27;cat&#x27;,\n",
       "                                                                                          Pipeline(steps=[(&#x27;one_hot&#x27;,\n",
       "                                                                                                           OneHotEncoder(handle_unknown=&#x27;ignore&#x27;))]),\n",
       "                                                                                          [&#x27;PrimaryPropertyType&#x27;,\n",
       "                                                                                           &#x27;LargestPropertyUseType&#x27;]),\n",
       "                                                                                         (&#x27;num&#x27;,\n",
       "                                                                                          Pipeline(steps=[(&#x27;scaler&#x27;,\n",
       "                                                                                                           StandardScaler())]),\n",
       "                                                                                          [&#x27;...\n",
       "                                                                                           &#x27;PropertyGFABuilding(s)&#x27;,\n",
       "                                                                                           &#x27;ENERGYSTARScore&#x27;])])),\n",
       "                                                        (&#x27;polynomial&#x27;,\n",
       "                                                         PolynomialFeatures(degree=1,\n",
       "                                                                            include_bias=False,\n",
       "                                                                            interaction_only=True)),\n",
       "                                                        (&#x27;variance_threshold&#x27;,\n",
       "                                                         VarianceThreshold())])),\n",
       "                                       (&#x27;regressor&#x27;, Ridge())]),\n",
       "             n_jobs=-1,\n",
       "             param_grid={&#x27;linear_feature_engineering__polynomial__degree&#x27;: [1,\n",
       "                                                                            2,\n",
       "                                                                            3],\n",
       "                         &#x27;regressor__fit_intercept&#x27;: [True, False]},\n",
       "             scoring=&#x27;neg_root_mean_squared_error&#x27;, verbose=2)</pre><b>Please rerun this cell to show the HTML repr or trust the notebook.</b></div><div class=\"sk-container\" hidden><div class=\"sk-item sk-dashed-wrapped\"><div class=\"sk-label-container\"><div class=\"sk-label sk-toggleable\"><input class=\"sk-toggleable__control sk-hidden--visually\" id=\"0a0704c0-f145-432c-b442-bc74e9a2677e\" type=\"checkbox\" ><label for=\"0a0704c0-f145-432c-b442-bc74e9a2677e\" class=\"sk-toggleable__label sk-toggleable__label-arrow\">GridSearchCV</label><div class=\"sk-toggleable__content\"><pre>GridSearchCV(cv=3,\n",
       "             estimator=Pipeline(steps=[(&#x27;linear_feature_engineering&#x27;,\n",
       "                                        Pipeline(steps=[(&#x27;linear_preprocessor&#x27;,\n",
       "                                                         ColumnTransformer(remainder=&#x27;passthrough&#x27;,\n",
       "                                                                           transformers=[(&#x27;cat&#x27;,\n",
       "                                                                                          Pipeline(steps=[(&#x27;one_hot&#x27;,\n",
       "                                                                                                           OneHotEncoder(handle_unknown=&#x27;ignore&#x27;))]),\n",
       "                                                                                          [&#x27;PrimaryPropertyType&#x27;,\n",
       "                                                                                           &#x27;LargestPropertyUseType&#x27;]),\n",
       "                                                                                         (&#x27;num&#x27;,\n",
       "                                                                                          Pipeline(steps=[(&#x27;scaler&#x27;,\n",
       "                                                                                                           StandardScaler())]),\n",
       "                                                                                          [&#x27;...\n",
       "                                                                                           &#x27;PropertyGFABuilding(s)&#x27;,\n",
       "                                                                                           &#x27;ENERGYSTARScore&#x27;])])),\n",
       "                                                        (&#x27;polynomial&#x27;,\n",
       "                                                         PolynomialFeatures(degree=1,\n",
       "                                                                            include_bias=False,\n",
       "                                                                            interaction_only=True)),\n",
       "                                                        (&#x27;variance_threshold&#x27;,\n",
       "                                                         VarianceThreshold())])),\n",
       "                                       (&#x27;regressor&#x27;, Ridge())]),\n",
       "             n_jobs=-1,\n",
       "             param_grid={&#x27;linear_feature_engineering__polynomial__degree&#x27;: [1,\n",
       "                                                                            2,\n",
       "                                                                            3],\n",
       "                         &#x27;regressor__fit_intercept&#x27;: [True, False]},\n",
       "             scoring=&#x27;neg_root_mean_squared_error&#x27;, verbose=2)</pre></div></div></div><div class=\"sk-parallel\"><div class=\"sk-parallel-item\"><div class=\"sk-item\"><div class=\"sk-serial\"><div class=\"sk-item\"><div class=\"sk-serial\"><div class=\"sk-item\"><div class=\"sk-label-container\"><div class=\"sk-label sk-toggleable\"><input class=\"sk-toggleable__control sk-hidden--visually\" id=\"8b386d73-3edf-479c-8959-0c24cce917cb\" type=\"checkbox\" ><label for=\"8b386d73-3edf-479c-8959-0c24cce917cb\" class=\"sk-toggleable__label sk-toggleable__label-arrow\">linear_feature_engineering: Pipeline</label><div class=\"sk-toggleable__content\"><pre>Pipeline(steps=[(&#x27;linear_preprocessor&#x27;,\n",
       "                 ColumnTransformer(remainder=&#x27;passthrough&#x27;,\n",
       "                                   transformers=[(&#x27;cat&#x27;,\n",
       "                                                  Pipeline(steps=[(&#x27;one_hot&#x27;,\n",
       "                                                                   OneHotEncoder(handle_unknown=&#x27;ignore&#x27;))]),\n",
       "                                                  [&#x27;PrimaryPropertyType&#x27;,\n",
       "                                                   &#x27;LargestPropertyUseType&#x27;]),\n",
       "                                                 (&#x27;num&#x27;,\n",
       "                                                  Pipeline(steps=[(&#x27;scaler&#x27;,\n",
       "                                                                   StandardScaler())]),\n",
       "                                                  [&#x27;LargestPropertyUseTypeGFA&#x27;,\n",
       "                                                   &#x27;SecondLargestPropertyUseTypeGFA&#x27;,\n",
       "                                                   &#x27;ThirdLargestPropertyUseTypeGFA&#x27;,\n",
       "                                                   &#x27;Electricity_p&#x27;, &#x27;Latitude&#x27;,\n",
       "                                                   &#x27;Longitude&#x27;,\n",
       "                                                   &#x27;NonResidentialGFA&#x27;,\n",
       "                                                   &#x27;PropertyGFAParking&#x27;,\n",
       "                                                   &#x27;PropertyGFABuilding(s)&#x27;,\n",
       "                                                   &#x27;ENERGYSTARScore&#x27;])])),\n",
       "                (&#x27;polynomial&#x27;,\n",
       "                 PolynomialFeatures(degree=1, include_bias=False,\n",
       "                                    interaction_only=True)),\n",
       "                (&#x27;variance_threshold&#x27;, VarianceThreshold())])</pre></div></div></div><div class=\"sk-serial\"><div class=\"sk-item sk-dashed-wrapped\"><div class=\"sk-label-container\"><div class=\"sk-label sk-toggleable\"><input class=\"sk-toggleable__control sk-hidden--visually\" id=\"224905f0-c20d-4154-a545-88451d7267bb\" type=\"checkbox\" ><label for=\"224905f0-c20d-4154-a545-88451d7267bb\" class=\"sk-toggleable__label sk-toggleable__label-arrow\">linear_preprocessor: ColumnTransformer</label><div class=\"sk-toggleable__content\"><pre>ColumnTransformer(remainder=&#x27;passthrough&#x27;,\n",
       "                  transformers=[(&#x27;cat&#x27;,\n",
       "                                 Pipeline(steps=[(&#x27;one_hot&#x27;,\n",
       "                                                  OneHotEncoder(handle_unknown=&#x27;ignore&#x27;))]),\n",
       "                                 [&#x27;PrimaryPropertyType&#x27;,\n",
       "                                  &#x27;LargestPropertyUseType&#x27;]),\n",
       "                                (&#x27;num&#x27;,\n",
       "                                 Pipeline(steps=[(&#x27;scaler&#x27;, StandardScaler())]),\n",
       "                                 [&#x27;LargestPropertyUseTypeGFA&#x27;,\n",
       "                                  &#x27;SecondLargestPropertyUseTypeGFA&#x27;,\n",
       "                                  &#x27;ThirdLargestPropertyUseTypeGFA&#x27;,\n",
       "                                  &#x27;Electricity_p&#x27;, &#x27;Latitude&#x27;, &#x27;Longitude&#x27;,\n",
       "                                  &#x27;NonResidentialGFA&#x27;, &#x27;PropertyGFAParking&#x27;,\n",
       "                                  &#x27;PropertyGFABuilding(s)&#x27;,\n",
       "                                  &#x27;ENERGYSTARScore&#x27;])])</pre></div></div></div><div class=\"sk-parallel\"><div class=\"sk-parallel-item\"><div class=\"sk-item\"><div class=\"sk-label-container\"><div class=\"sk-label sk-toggleable\"><input class=\"sk-toggleable__control sk-hidden--visually\" id=\"9c5878d5-8287-4d2e-bca3-52cce7941d40\" type=\"checkbox\" ><label for=\"9c5878d5-8287-4d2e-bca3-52cce7941d40\" class=\"sk-toggleable__label sk-toggleable__label-arrow\">cat</label><div class=\"sk-toggleable__content\"><pre>[&#x27;PrimaryPropertyType&#x27;, &#x27;LargestPropertyUseType&#x27;]</pre></div></div></div><div class=\"sk-serial\"><div class=\"sk-item\"><div class=\"sk-serial\"><div class=\"sk-item\"><div class=\"sk-estimator sk-toggleable\"><input class=\"sk-toggleable__control sk-hidden--visually\" id=\"158833db-ae1e-4b80-a7bd-a43a8460651e\" type=\"checkbox\" ><label for=\"158833db-ae1e-4b80-a7bd-a43a8460651e\" class=\"sk-toggleable__label sk-toggleable__label-arrow\">OneHotEncoder</label><div class=\"sk-toggleable__content\"><pre>OneHotEncoder(handle_unknown=&#x27;ignore&#x27;)</pre></div></div></div></div></div></div></div></div><div class=\"sk-parallel-item\"><div class=\"sk-item\"><div class=\"sk-label-container\"><div class=\"sk-label sk-toggleable\"><input class=\"sk-toggleable__control sk-hidden--visually\" id=\"ef475670-7225-49a7-9939-81c1e66ef99e\" type=\"checkbox\" ><label for=\"ef475670-7225-49a7-9939-81c1e66ef99e\" class=\"sk-toggleable__label sk-toggleable__label-arrow\">num</label><div class=\"sk-toggleable__content\"><pre>[&#x27;LargestPropertyUseTypeGFA&#x27;, &#x27;SecondLargestPropertyUseTypeGFA&#x27;, &#x27;ThirdLargestPropertyUseTypeGFA&#x27;, &#x27;Electricity_p&#x27;, &#x27;Latitude&#x27;, &#x27;Longitude&#x27;, &#x27;NonResidentialGFA&#x27;, &#x27;PropertyGFAParking&#x27;, &#x27;PropertyGFABuilding(s)&#x27;, &#x27;ENERGYSTARScore&#x27;]</pre></div></div></div><div class=\"sk-serial\"><div class=\"sk-item\"><div class=\"sk-serial\"><div class=\"sk-item\"><div class=\"sk-estimator sk-toggleable\"><input class=\"sk-toggleable__control sk-hidden--visually\" id=\"b2e748ef-400d-41dd-957d-2733368d6f6f\" type=\"checkbox\" ><label for=\"b2e748ef-400d-41dd-957d-2733368d6f6f\" class=\"sk-toggleable__label sk-toggleable__label-arrow\">StandardScaler</label><div class=\"sk-toggleable__content\"><pre>StandardScaler()</pre></div></div></div></div></div></div></div></div><div class=\"sk-parallel-item\"><div class=\"sk-item\"><div class=\"sk-label-container\"><div class=\"sk-label sk-toggleable\"><input class=\"sk-toggleable__control sk-hidden--visually\" id=\"78f82ecf-f570-4e5a-9239-de35392bbc9a\" type=\"checkbox\" ><label for=\"78f82ecf-f570-4e5a-9239-de35392bbc9a\" class=\"sk-toggleable__label sk-toggleable__label-arrow\">remainder</label><div class=\"sk-toggleable__content\"><pre>[]</pre></div></div></div><div class=\"sk-serial\"><div class=\"sk-item\"><div class=\"sk-estimator sk-toggleable\"><input class=\"sk-toggleable__control sk-hidden--visually\" id=\"f72770e2-6a4e-42f1-9f25-3bc5beb8d974\" type=\"checkbox\" ><label for=\"f72770e2-6a4e-42f1-9f25-3bc5beb8d974\" class=\"sk-toggleable__label sk-toggleable__label-arrow\">passthrough</label><div class=\"sk-toggleable__content\"><pre>passthrough</pre></div></div></div></div></div></div></div></div><div class=\"sk-item\"><div class=\"sk-estimator sk-toggleable\"><input class=\"sk-toggleable__control sk-hidden--visually\" id=\"d247360c-f6e2-4bf0-ad5d-fa1b0e04a522\" type=\"checkbox\" ><label for=\"d247360c-f6e2-4bf0-ad5d-fa1b0e04a522\" class=\"sk-toggleable__label sk-toggleable__label-arrow\">PolynomialFeatures</label><div class=\"sk-toggleable__content\"><pre>PolynomialFeatures(degree=1, include_bias=False, interaction_only=True)</pre></div></div></div><div class=\"sk-item\"><div class=\"sk-estimator sk-toggleable\"><input class=\"sk-toggleable__control sk-hidden--visually\" id=\"20a9859b-0413-45e2-a331-ea8e0e59aa12\" type=\"checkbox\" ><label for=\"20a9859b-0413-45e2-a331-ea8e0e59aa12\" class=\"sk-toggleable__label sk-toggleable__label-arrow\">VarianceThreshold</label><div class=\"sk-toggleable__content\"><pre>VarianceThreshold()</pre></div></div></div></div></div><div class=\"sk-item\"><div class=\"sk-estimator sk-toggleable\"><input class=\"sk-toggleable__control sk-hidden--visually\" id=\"c8853d4a-5e4a-43e9-b6cc-b42be3571341\" type=\"checkbox\" ><label for=\"c8853d4a-5e4a-43e9-b6cc-b42be3571341\" class=\"sk-toggleable__label sk-toggleable__label-arrow\">Ridge</label><div class=\"sk-toggleable__content\"><pre>Ridge()</pre></div></div></div></div></div></div></div></div></div></div></div></div>"
      ],
      "text/plain": [
       "GridSearchCV(cv=3,\n",
       "             estimator=Pipeline(steps=[('linear_feature_engineering',\n",
       "                                        Pipeline(steps=[('linear_preprocessor',\n",
       "                                                         ColumnTransformer(remainder='passthrough',\n",
       "                                                                           transformers=[('cat',\n",
       "                                                                                          Pipeline(steps=[('one_hot',\n",
       "                                                                                                           OneHotEncoder(handle_unknown='ignore'))]),\n",
       "                                                                                          ['PrimaryPropertyType',\n",
       "                                                                                           'LargestPropertyUseType']),\n",
       "                                                                                         ('num',\n",
       "                                                                                          Pipeline(steps=[('scaler',\n",
       "                                                                                                           StandardScaler())]),\n",
       "                                                                                          ['...\n",
       "                                                                                           'PropertyGFABuilding(s)',\n",
       "                                                                                           'ENERGYSTARScore'])])),\n",
       "                                                        ('polynomial',\n",
       "                                                         PolynomialFeatures(degree=1,\n",
       "                                                                            include_bias=False,\n",
       "                                                                            interaction_only=True)),\n",
       "                                                        ('variance_threshold',\n",
       "                                                         VarianceThreshold())])),\n",
       "                                       ('regressor', Ridge())]),\n",
       "             n_jobs=-1,\n",
       "             param_grid={'linear_feature_engineering__polynomial__degree': [1,\n",
       "                                                                            2,\n",
       "                                                                            3],\n",
       "                         'regressor__fit_intercept': [True, False]},\n",
       "             scoring='neg_root_mean_squared_error', verbose=2)"
      ]
     },
     "execution_count": 42,
     "metadata": {},
     "output_type": "execute_result"
    }
   ],
   "source": [
    "ridge_grid_search.fit(X_train, y_train)"
   ]
  },
  {
   "cell_type": "code",
   "execution_count": 43,
   "id": "6352a274",
   "metadata": {},
   "outputs": [
    {
     "data": {
      "text/plain": [
       "{'linear_feature_engineering__polynomial__degree': 1,\n",
       " 'regressor__fit_intercept': True}"
      ]
     },
     "execution_count": 43,
     "metadata": {},
     "output_type": "execute_result"
    }
   ],
   "source": [
    "ridge_grid_search.best_params_"
   ]
  },
  {
   "cell_type": "code",
   "execution_count": 44,
   "id": "34366752",
   "metadata": {},
   "outputs": [
    {
     "data": {
      "text/html": [
       "<div>\n",
       "<style scoped>\n",
       "    .dataframe tbody tr th:only-of-type {\n",
       "        vertical-align: middle;\n",
       "    }\n",
       "\n",
       "    .dataframe tbody tr th {\n",
       "        vertical-align: top;\n",
       "    }\n",
       "\n",
       "    .dataframe thead th {\n",
       "        text-align: right;\n",
       "    }\n",
       "</style>\n",
       "<table border=\"1\" class=\"dataframe\">\n",
       "  <thead>\n",
       "    <tr style=\"text-align: right;\">\n",
       "      <th></th>\n",
       "      <th>Modele</th>\n",
       "      <th>Ensembliste</th>\n",
       "      <th>Target</th>\n",
       "      <th>Train_RMSE</th>\n",
       "      <th>Test_RMSE</th>\n",
       "      <th>Train_R2</th>\n",
       "      <th>Test_R2</th>\n",
       "      <th>Commentaires</th>\n",
       "    </tr>\n",
       "  </thead>\n",
       "  <tbody>\n",
       "    <tr>\n",
       "      <th>0</th>\n",
       "      <td>DummyRegressor</td>\n",
       "      <td>non</td>\n",
       "      <td>TotalGHGEmissions</td>\n",
       "      <td>0.67</td>\n",
       "      <td>0.63</td>\n",
       "      <td>0.00</td>\n",
       "      <td>-0.00</td>\n",
       "      <td></td>\n",
       "    </tr>\n",
       "    <tr>\n",
       "      <th>1</th>\n",
       "      <td>Lasso</td>\n",
       "      <td>non</td>\n",
       "      <td>TotalGHGEmissions</td>\n",
       "      <td>0.37</td>\n",
       "      <td>0.33</td>\n",
       "      <td>0.69</td>\n",
       "      <td>0.73</td>\n",
       "      <td></td>\n",
       "    </tr>\n",
       "    <tr>\n",
       "      <th>2</th>\n",
       "      <td>LinearRegression</td>\n",
       "      <td>non</td>\n",
       "      <td>TotalGHGEmissions</td>\n",
       "      <td>0.37</td>\n",
       "      <td>0.32</td>\n",
       "      <td>0.70</td>\n",
       "      <td>0.74</td>\n",
       "      <td></td>\n",
       "    </tr>\n",
       "    <tr>\n",
       "      <th>3</th>\n",
       "      <td>Ridge</td>\n",
       "      <td>non</td>\n",
       "      <td>TotalGHGEmissions</td>\n",
       "      <td>0.37</td>\n",
       "      <td>0.33</td>\n",
       "      <td>0.69</td>\n",
       "      <td>0.73</td>\n",
       "      <td></td>\n",
       "    </tr>\n",
       "  </tbody>\n",
       "</table>\n",
       "</div>"
      ],
      "text/plain": [
       "             Modele Ensembliste             Target  Train_RMSE  Test_RMSE  \\\n",
       "0    DummyRegressor         non  TotalGHGEmissions        0.67       0.63   \n",
       "1             Lasso         non  TotalGHGEmissions        0.37       0.33   \n",
       "2  LinearRegression         non  TotalGHGEmissions        0.37       0.32   \n",
       "3             Ridge         non  TotalGHGEmissions        0.37       0.33   \n",
       "\n",
       "   Train_R2  Test_R2 Commentaires  \n",
       "0      0.00    -0.00               \n",
       "1      0.69     0.73               \n",
       "2      0.70     0.74               \n",
       "3      0.69     0.73               "
      ]
     },
     "execution_count": 44,
     "metadata": {},
     "output_type": "execute_result"
    }
   ],
   "source": [
    "ridge.set_params(**ridge_grid_search.best_params_).fit(X_train, y_train)\n",
    "df_summary = summary(ridge, df_summary,X_train, X_test, y_train, y_test)\n",
    "df_summary"
   ]
  },
  {
   "cell_type": "markdown",
   "id": "73699445",
   "metadata": {},
   "source": [
    "### 2.2 - Decision Tree regressor"
   ]
  },
  {
   "cell_type": "markdown",
   "id": "dd3e0b41",
   "metadata": {},
   "source": [
    "### preprocessor"
   ]
  },
  {
   "cell_type": "code",
   "execution_count": 45,
   "id": "1ae6260b",
   "metadata": {},
   "outputs": [],
   "source": [
    "tree_preprocessor = ColumnTransformer(transformers = [\n",
    "    ('cat', categorical_transformer, categorical_features),\n",
    "], remainder = 'passthrough')"
   ]
  },
  {
   "cell_type": "markdown",
   "id": "228bb425",
   "metadata": {},
   "source": [
    "### engineering"
   ]
  },
  {
   "cell_type": "code",
   "execution_count": 46,
   "id": "7d417125",
   "metadata": {},
   "outputs": [],
   "source": [
    "tree_feature_engineering = Pipeline(steps = [\n",
    "    ('tree_preprocessor', tree_preprocessor),\n",
    "])"
   ]
  },
  {
   "cell_type": "code",
   "execution_count": 47,
   "id": "86f4b5c8",
   "metadata": {},
   "outputs": [],
   "source": [
    "tree = Pipeline(steps = [\n",
    "    ('tree_feature_engineering', tree_feature_engineering),\n",
    "    ('regressor', DecisionTreeRegressor())\n",
    "])"
   ]
  },
  {
   "cell_type": "code",
   "execution_count": 48,
   "id": "79c80186",
   "metadata": {},
   "outputs": [],
   "source": [
    "#Recherche des meilleurs hyperparamètres\n",
    "tree_param_grid = {'regressor__max_depth' : [30,40,50],\n",
    "              'regressor__min_samples_leaf' : [1,3,5,10],\n",
    "             }\n",
    "\n",
    "tree_grid_search = GridSearchCV(\n",
    "    estimator=tree,\n",
    "    param_grid=tree_param_grid,\n",
    "    scoring='neg_root_mean_squared_error',\n",
    "    cv=5,\n",
    "    n_jobs = -1,\n",
    "    verbose = -1\n",
    ")"
   ]
  },
  {
   "cell_type": "code",
   "execution_count": 49,
   "id": "03bdb3f7",
   "metadata": {},
   "outputs": [
    {
     "data": {
      "text/html": [
       "<style>#sk-c0fd8e29-bec3-4b23-bd20-91701dff5aff {color: black;background-color: white;}#sk-c0fd8e29-bec3-4b23-bd20-91701dff5aff pre{padding: 0;}#sk-c0fd8e29-bec3-4b23-bd20-91701dff5aff div.sk-toggleable {background-color: white;}#sk-c0fd8e29-bec3-4b23-bd20-91701dff5aff label.sk-toggleable__label {cursor: pointer;display: block;width: 100%;margin-bottom: 0;padding: 0.3em;box-sizing: border-box;text-align: center;}#sk-c0fd8e29-bec3-4b23-bd20-91701dff5aff label.sk-toggleable__label-arrow:before {content: \"▸\";float: left;margin-right: 0.25em;color: #696969;}#sk-c0fd8e29-bec3-4b23-bd20-91701dff5aff label.sk-toggleable__label-arrow:hover:before {color: black;}#sk-c0fd8e29-bec3-4b23-bd20-91701dff5aff div.sk-estimator:hover label.sk-toggleable__label-arrow:before {color: black;}#sk-c0fd8e29-bec3-4b23-bd20-91701dff5aff div.sk-toggleable__content {max-height: 0;max-width: 0;overflow: hidden;text-align: left;background-color: #f0f8ff;}#sk-c0fd8e29-bec3-4b23-bd20-91701dff5aff div.sk-toggleable__content pre {margin: 0.2em;color: black;border-radius: 0.25em;background-color: #f0f8ff;}#sk-c0fd8e29-bec3-4b23-bd20-91701dff5aff input.sk-toggleable__control:checked~div.sk-toggleable__content {max-height: 200px;max-width: 100%;overflow: auto;}#sk-c0fd8e29-bec3-4b23-bd20-91701dff5aff input.sk-toggleable__control:checked~label.sk-toggleable__label-arrow:before {content: \"▾\";}#sk-c0fd8e29-bec3-4b23-bd20-91701dff5aff div.sk-estimator input.sk-toggleable__control:checked~label.sk-toggleable__label {background-color: #d4ebff;}#sk-c0fd8e29-bec3-4b23-bd20-91701dff5aff div.sk-label input.sk-toggleable__control:checked~label.sk-toggleable__label {background-color: #d4ebff;}#sk-c0fd8e29-bec3-4b23-bd20-91701dff5aff input.sk-hidden--visually {border: 0;clip: rect(1px 1px 1px 1px);clip: rect(1px, 1px, 1px, 1px);height: 1px;margin: -1px;overflow: hidden;padding: 0;position: absolute;width: 1px;}#sk-c0fd8e29-bec3-4b23-bd20-91701dff5aff div.sk-estimator {font-family: monospace;background-color: #f0f8ff;border: 1px dotted black;border-radius: 0.25em;box-sizing: border-box;margin-bottom: 0.5em;}#sk-c0fd8e29-bec3-4b23-bd20-91701dff5aff div.sk-estimator:hover {background-color: #d4ebff;}#sk-c0fd8e29-bec3-4b23-bd20-91701dff5aff div.sk-parallel-item::after {content: \"\";width: 100%;border-bottom: 1px solid gray;flex-grow: 1;}#sk-c0fd8e29-bec3-4b23-bd20-91701dff5aff div.sk-label:hover label.sk-toggleable__label {background-color: #d4ebff;}#sk-c0fd8e29-bec3-4b23-bd20-91701dff5aff div.sk-serial::before {content: \"\";position: absolute;border-left: 1px solid gray;box-sizing: border-box;top: 2em;bottom: 0;left: 50%;}#sk-c0fd8e29-bec3-4b23-bd20-91701dff5aff div.sk-serial {display: flex;flex-direction: column;align-items: center;background-color: white;padding-right: 0.2em;padding-left: 0.2em;}#sk-c0fd8e29-bec3-4b23-bd20-91701dff5aff div.sk-item {z-index: 1;}#sk-c0fd8e29-bec3-4b23-bd20-91701dff5aff div.sk-parallel {display: flex;align-items: stretch;justify-content: center;background-color: white;}#sk-c0fd8e29-bec3-4b23-bd20-91701dff5aff div.sk-parallel::before {content: \"\";position: absolute;border-left: 1px solid gray;box-sizing: border-box;top: 2em;bottom: 0;left: 50%;}#sk-c0fd8e29-bec3-4b23-bd20-91701dff5aff div.sk-parallel-item {display: flex;flex-direction: column;position: relative;background-color: white;}#sk-c0fd8e29-bec3-4b23-bd20-91701dff5aff div.sk-parallel-item:first-child::after {align-self: flex-end;width: 50%;}#sk-c0fd8e29-bec3-4b23-bd20-91701dff5aff div.sk-parallel-item:last-child::after {align-self: flex-start;width: 50%;}#sk-c0fd8e29-bec3-4b23-bd20-91701dff5aff div.sk-parallel-item:only-child::after {width: 0;}#sk-c0fd8e29-bec3-4b23-bd20-91701dff5aff div.sk-dashed-wrapped {border: 1px dashed gray;margin: 0 0.4em 0.5em 0.4em;box-sizing: border-box;padding-bottom: 0.4em;background-color: white;position: relative;}#sk-c0fd8e29-bec3-4b23-bd20-91701dff5aff div.sk-label label {font-family: monospace;font-weight: bold;background-color: white;display: inline-block;line-height: 1.2em;}#sk-c0fd8e29-bec3-4b23-bd20-91701dff5aff div.sk-label-container {position: relative;z-index: 2;text-align: center;}#sk-c0fd8e29-bec3-4b23-bd20-91701dff5aff div.sk-container {/* jupyter's `normalize.less` sets `[hidden] { display: none; }` but bootstrap.min.css set `[hidden] { display: none !important; }` so we also need the `!important` here to be able to override the default hidden behavior on the sphinx rendered scikit-learn.org. See: https://github.com/scikit-learn/scikit-learn/issues/21755 */display: inline-block !important;position: relative;}#sk-c0fd8e29-bec3-4b23-bd20-91701dff5aff div.sk-text-repr-fallback {display: none;}</style><div id=\"sk-c0fd8e29-bec3-4b23-bd20-91701dff5aff\" class=\"sk-top-container\"><div class=\"sk-text-repr-fallback\"><pre>GridSearchCV(cv=5,\n",
       "             estimator=Pipeline(steps=[(&#x27;tree_feature_engineering&#x27;,\n",
       "                                        Pipeline(steps=[(&#x27;tree_preprocessor&#x27;,\n",
       "                                                         ColumnTransformer(remainder=&#x27;passthrough&#x27;,\n",
       "                                                                           transformers=[(&#x27;cat&#x27;,\n",
       "                                                                                          Pipeline(steps=[(&#x27;one_hot&#x27;,\n",
       "                                                                                                           OneHotEncoder(handle_unknown=&#x27;ignore&#x27;))]),\n",
       "                                                                                          [&#x27;PrimaryPropertyType&#x27;,\n",
       "                                                                                           &#x27;LargestPropertyUseType&#x27;])]))])),\n",
       "                                       (&#x27;regressor&#x27;, DecisionTreeRegressor())]),\n",
       "             n_jobs=-1,\n",
       "             param_grid={&#x27;regressor__max_depth&#x27;: [30, 40, 50],\n",
       "                         &#x27;regressor__min_samples_leaf&#x27;: [1, 3, 5, 10]},\n",
       "             scoring=&#x27;neg_root_mean_squared_error&#x27;, verbose=-1)</pre><b>Please rerun this cell to show the HTML repr or trust the notebook.</b></div><div class=\"sk-container\" hidden><div class=\"sk-item sk-dashed-wrapped\"><div class=\"sk-label-container\"><div class=\"sk-label sk-toggleable\"><input class=\"sk-toggleable__control sk-hidden--visually\" id=\"05d6a508-40a6-4936-8114-a61e1d121d16\" type=\"checkbox\" ><label for=\"05d6a508-40a6-4936-8114-a61e1d121d16\" class=\"sk-toggleable__label sk-toggleable__label-arrow\">GridSearchCV</label><div class=\"sk-toggleable__content\"><pre>GridSearchCV(cv=5,\n",
       "             estimator=Pipeline(steps=[(&#x27;tree_feature_engineering&#x27;,\n",
       "                                        Pipeline(steps=[(&#x27;tree_preprocessor&#x27;,\n",
       "                                                         ColumnTransformer(remainder=&#x27;passthrough&#x27;,\n",
       "                                                                           transformers=[(&#x27;cat&#x27;,\n",
       "                                                                                          Pipeline(steps=[(&#x27;one_hot&#x27;,\n",
       "                                                                                                           OneHotEncoder(handle_unknown=&#x27;ignore&#x27;))]),\n",
       "                                                                                          [&#x27;PrimaryPropertyType&#x27;,\n",
       "                                                                                           &#x27;LargestPropertyUseType&#x27;])]))])),\n",
       "                                       (&#x27;regressor&#x27;, DecisionTreeRegressor())]),\n",
       "             n_jobs=-1,\n",
       "             param_grid={&#x27;regressor__max_depth&#x27;: [30, 40, 50],\n",
       "                         &#x27;regressor__min_samples_leaf&#x27;: [1, 3, 5, 10]},\n",
       "             scoring=&#x27;neg_root_mean_squared_error&#x27;, verbose=-1)</pre></div></div></div><div class=\"sk-parallel\"><div class=\"sk-parallel-item\"><div class=\"sk-item\"><div class=\"sk-serial\"><div class=\"sk-item\"><div class=\"sk-serial\"><div class=\"sk-item\"><div class=\"sk-label-container\"><div class=\"sk-label sk-toggleable\"><input class=\"sk-toggleable__control sk-hidden--visually\" id=\"bc792e50-59cd-4fa0-a0f6-9c8bfe9e8d01\" type=\"checkbox\" ><label for=\"bc792e50-59cd-4fa0-a0f6-9c8bfe9e8d01\" class=\"sk-toggleable__label sk-toggleable__label-arrow\">tree_feature_engineering: Pipeline</label><div class=\"sk-toggleable__content\"><pre>Pipeline(steps=[(&#x27;tree_preprocessor&#x27;,\n",
       "                 ColumnTransformer(remainder=&#x27;passthrough&#x27;,\n",
       "                                   transformers=[(&#x27;cat&#x27;,\n",
       "                                                  Pipeline(steps=[(&#x27;one_hot&#x27;,\n",
       "                                                                   OneHotEncoder(handle_unknown=&#x27;ignore&#x27;))]),\n",
       "                                                  [&#x27;PrimaryPropertyType&#x27;,\n",
       "                                                   &#x27;LargestPropertyUseType&#x27;])]))])</pre></div></div></div><div class=\"sk-serial\"><div class=\"sk-item sk-dashed-wrapped\"><div class=\"sk-label-container\"><div class=\"sk-label sk-toggleable\"><input class=\"sk-toggleable__control sk-hidden--visually\" id=\"09ee6a2b-e19e-4391-89ee-63906d612914\" type=\"checkbox\" ><label for=\"09ee6a2b-e19e-4391-89ee-63906d612914\" class=\"sk-toggleable__label sk-toggleable__label-arrow\">tree_preprocessor: ColumnTransformer</label><div class=\"sk-toggleable__content\"><pre>ColumnTransformer(remainder=&#x27;passthrough&#x27;,\n",
       "                  transformers=[(&#x27;cat&#x27;,\n",
       "                                 Pipeline(steps=[(&#x27;one_hot&#x27;,\n",
       "                                                  OneHotEncoder(handle_unknown=&#x27;ignore&#x27;))]),\n",
       "                                 [&#x27;PrimaryPropertyType&#x27;,\n",
       "                                  &#x27;LargestPropertyUseType&#x27;])])</pre></div></div></div><div class=\"sk-parallel\"><div class=\"sk-parallel-item\"><div class=\"sk-item\"><div class=\"sk-label-container\"><div class=\"sk-label sk-toggleable\"><input class=\"sk-toggleable__control sk-hidden--visually\" id=\"5e18f7c9-3267-4b65-8d16-f3c4566bc475\" type=\"checkbox\" ><label for=\"5e18f7c9-3267-4b65-8d16-f3c4566bc475\" class=\"sk-toggleable__label sk-toggleable__label-arrow\">cat</label><div class=\"sk-toggleable__content\"><pre>[&#x27;PrimaryPropertyType&#x27;, &#x27;LargestPropertyUseType&#x27;]</pre></div></div></div><div class=\"sk-serial\"><div class=\"sk-item\"><div class=\"sk-serial\"><div class=\"sk-item\"><div class=\"sk-estimator sk-toggleable\"><input class=\"sk-toggleable__control sk-hidden--visually\" id=\"b1aec521-dfcb-4ee8-bf69-67f062312f58\" type=\"checkbox\" ><label for=\"b1aec521-dfcb-4ee8-bf69-67f062312f58\" class=\"sk-toggleable__label sk-toggleable__label-arrow\">OneHotEncoder</label><div class=\"sk-toggleable__content\"><pre>OneHotEncoder(handle_unknown=&#x27;ignore&#x27;)</pre></div></div></div></div></div></div></div></div><div class=\"sk-parallel-item\"><div class=\"sk-item\"><div class=\"sk-label-container\"><div class=\"sk-label sk-toggleable\"><input class=\"sk-toggleable__control sk-hidden--visually\" id=\"16d99f95-74e1-4e77-bbc9-245270d06a8c\" type=\"checkbox\" ><label for=\"16d99f95-74e1-4e77-bbc9-245270d06a8c\" class=\"sk-toggleable__label sk-toggleable__label-arrow\">remainder</label><div class=\"sk-toggleable__content\"><pre></pre></div></div></div><div class=\"sk-serial\"><div class=\"sk-item\"><div class=\"sk-estimator sk-toggleable\"><input class=\"sk-toggleable__control sk-hidden--visually\" id=\"fb1a35f8-50a9-4580-aa1f-f553e0aeb3b2\" type=\"checkbox\" ><label for=\"fb1a35f8-50a9-4580-aa1f-f553e0aeb3b2\" class=\"sk-toggleable__label sk-toggleable__label-arrow\">passthrough</label><div class=\"sk-toggleable__content\"><pre>passthrough</pre></div></div></div></div></div></div></div></div></div></div><div class=\"sk-item\"><div class=\"sk-estimator sk-toggleable\"><input class=\"sk-toggleable__control sk-hidden--visually\" id=\"15a23cd1-1f79-46a4-9e55-e83b6847f196\" type=\"checkbox\" ><label for=\"15a23cd1-1f79-46a4-9e55-e83b6847f196\" class=\"sk-toggleable__label sk-toggleable__label-arrow\">DecisionTreeRegressor</label><div class=\"sk-toggleable__content\"><pre>DecisionTreeRegressor()</pre></div></div></div></div></div></div></div></div></div></div></div></div>"
      ],
      "text/plain": [
       "GridSearchCV(cv=5,\n",
       "             estimator=Pipeline(steps=[('tree_feature_engineering',\n",
       "                                        Pipeline(steps=[('tree_preprocessor',\n",
       "                                                         ColumnTransformer(remainder='passthrough',\n",
       "                                                                           transformers=[('cat',\n",
       "                                                                                          Pipeline(steps=[('one_hot',\n",
       "                                                                                                           OneHotEncoder(handle_unknown='ignore'))]),\n",
       "                                                                                          ['PrimaryPropertyType',\n",
       "                                                                                           'LargestPropertyUseType'])]))])),\n",
       "                                       ('regressor', DecisionTreeRegressor())]),\n",
       "             n_jobs=-1,\n",
       "             param_grid={'regressor__max_depth': [30, 40, 50],\n",
       "                         'regressor__min_samples_leaf': [1, 3, 5, 10]},\n",
       "             scoring='neg_root_mean_squared_error', verbose=-1)"
      ]
     },
     "execution_count": 49,
     "metadata": {},
     "output_type": "execute_result"
    }
   ],
   "source": [
    "tree_grid_search.fit(X_train, y_train)"
   ]
  },
  {
   "cell_type": "code",
   "execution_count": 50,
   "id": "51dbea59",
   "metadata": {},
   "outputs": [
    {
     "data": {
      "text/plain": [
       "{'regressor__max_depth': 50, 'regressor__min_samples_leaf': 3}"
      ]
     },
     "execution_count": 50,
     "metadata": {},
     "output_type": "execute_result"
    }
   ],
   "source": [
    "tree_grid_search.best_params_"
   ]
  },
  {
   "cell_type": "code",
   "execution_count": 51,
   "id": "b1868a91",
   "metadata": {},
   "outputs": [
    {
     "data": {
      "text/plain": [
       "0.5203314556429908"
      ]
     },
     "execution_count": 51,
     "metadata": {},
     "output_type": "execute_result"
    }
   ],
   "source": [
    "tree.set_params(**tree_grid_search.best_params_).fit(X_train, y_train)\n",
    "tree.score(X_test, y_test)"
   ]
  },
  {
   "cell_type": "code",
   "execution_count": 52,
   "id": "0385d76b",
   "metadata": {},
   "outputs": [
    {
     "data": {
      "text/html": [
       "<div>\n",
       "<style scoped>\n",
       "    .dataframe tbody tr th:only-of-type {\n",
       "        vertical-align: middle;\n",
       "    }\n",
       "\n",
       "    .dataframe tbody tr th {\n",
       "        vertical-align: top;\n",
       "    }\n",
       "\n",
       "    .dataframe thead th {\n",
       "        text-align: right;\n",
       "    }\n",
       "</style>\n",
       "<table border=\"1\" class=\"dataframe\">\n",
       "  <thead>\n",
       "    <tr style=\"text-align: right;\">\n",
       "      <th></th>\n",
       "      <th>Modele</th>\n",
       "      <th>Ensembliste</th>\n",
       "      <th>Target</th>\n",
       "      <th>Train_RMSE</th>\n",
       "      <th>Test_RMSE</th>\n",
       "      <th>Train_R2</th>\n",
       "      <th>Test_R2</th>\n",
       "      <th>Commentaires</th>\n",
       "    </tr>\n",
       "  </thead>\n",
       "  <tbody>\n",
       "    <tr>\n",
       "      <th>0</th>\n",
       "      <td>DummyRegressor</td>\n",
       "      <td>non</td>\n",
       "      <td>TotalGHGEmissions</td>\n",
       "      <td>0.67</td>\n",
       "      <td>0.63</td>\n",
       "      <td>0.00</td>\n",
       "      <td>-0.00</td>\n",
       "      <td></td>\n",
       "    </tr>\n",
       "    <tr>\n",
       "      <th>1</th>\n",
       "      <td>Lasso</td>\n",
       "      <td>non</td>\n",
       "      <td>TotalGHGEmissions</td>\n",
       "      <td>0.37</td>\n",
       "      <td>0.33</td>\n",
       "      <td>0.69</td>\n",
       "      <td>0.73</td>\n",
       "      <td></td>\n",
       "    </tr>\n",
       "    <tr>\n",
       "      <th>2</th>\n",
       "      <td>LinearRegression</td>\n",
       "      <td>non</td>\n",
       "      <td>TotalGHGEmissions</td>\n",
       "      <td>0.37</td>\n",
       "      <td>0.32</td>\n",
       "      <td>0.70</td>\n",
       "      <td>0.74</td>\n",
       "      <td></td>\n",
       "    </tr>\n",
       "    <tr>\n",
       "      <th>3</th>\n",
       "      <td>Ridge</td>\n",
       "      <td>non</td>\n",
       "      <td>TotalGHGEmissions</td>\n",
       "      <td>0.37</td>\n",
       "      <td>0.33</td>\n",
       "      <td>0.69</td>\n",
       "      <td>0.73</td>\n",
       "      <td></td>\n",
       "    </tr>\n",
       "    <tr>\n",
       "      <th>4</th>\n",
       "      <td>DecisionTreeRegressor</td>\n",
       "      <td>non</td>\n",
       "      <td>TotalGHGEmissions</td>\n",
       "      <td>0.22</td>\n",
       "      <td>0.44</td>\n",
       "      <td>0.89</td>\n",
       "      <td>0.52</td>\n",
       "      <td></td>\n",
       "    </tr>\n",
       "  </tbody>\n",
       "</table>\n",
       "</div>"
      ],
      "text/plain": [
       "                  Modele Ensembliste             Target  Train_RMSE  \\\n",
       "0         DummyRegressor         non  TotalGHGEmissions        0.67   \n",
       "1                  Lasso         non  TotalGHGEmissions        0.37   \n",
       "2       LinearRegression         non  TotalGHGEmissions        0.37   \n",
       "3                  Ridge         non  TotalGHGEmissions        0.37   \n",
       "4  DecisionTreeRegressor         non  TotalGHGEmissions        0.22   \n",
       "\n",
       "   Test_RMSE  Train_R2  Test_R2 Commentaires  \n",
       "0       0.63      0.00    -0.00               \n",
       "1       0.33      0.69     0.73               \n",
       "2       0.32      0.70     0.74               \n",
       "3       0.33      0.69     0.73               \n",
       "4       0.44      0.89     0.52               "
      ]
     },
     "execution_count": 52,
     "metadata": {},
     "output_type": "execute_result"
    }
   ],
   "source": [
    "tree.set_params(**tree_grid_search.best_params_).fit(X_train, y_train)\n",
    "df_summary = summary(tree, df_summary,X_train, X_test, y_train, y_test)\n",
    "df_summary"
   ]
  },
  {
   "cell_type": "markdown",
   "id": "4283bcd0",
   "metadata": {},
   "source": [
    "## 2.3 - Methode ensembliste"
   ]
  },
  {
   "cell_type": "markdown",
   "id": "2b97b6ea",
   "metadata": {},
   "source": [
    "## 2.3.1 Bagging"
   ]
  },
  {
   "cell_type": "raw",
   "id": "3bbb3c3d",
   "metadata": {},
   "source": [
    "le bagging permet de reduire la variance d'un modele(sur-apprentissage).En modifiant a chaque itération l'échantillonnage il reduit l'erreur du a la sensibilité du modèle aux petites fluctuations de l'échantillonnage.\n",
    "Il n'est pas interessant de l'appliquer sur les modele ineaire qui sont des modele a aux biais et faible variance"
   ]
  },
  {
   "cell_type": "markdown",
   "id": "6afa1784",
   "metadata": {},
   "source": [
    "https://medium.com/towards-data-science/bagging-on-low-variance-models-38d3c70259db"
   ]
  },
  {
   "cell_type": "markdown",
   "id": "06e13e51",
   "metadata": {},
   "source": [
    "https://medium.com/all-about-ml/bagging-random-forests-and-boosting-8c728e91a85d"
   ]
  },
  {
   "cell_type": "markdown",
   "id": "1af2cf0c",
   "metadata": {},
   "source": [
    "### fonction pour gerer l'arret précoce"
   ]
  },
  {
   "cell_type": "code",
   "execution_count": 53,
   "id": "01ce3247",
   "metadata": {},
   "outputs": [],
   "source": [
    "def arret_precoce(modele,X_train,y_train,X_test,y_test, n_estimators, n_error):\n",
    "    min_val_error = float('inf')\n",
    "    for n in range(1, n_estimators):\n",
    "        modele.n_estimators = n\n",
    "        modele.fit(X_train,y_train)\n",
    "        val_error = mean_squared_error(y_test, modele.predict(X_test), squared= False)\n",
    "        if min_val_error >= val_error:\n",
    "            min_val_error = val_error\n",
    "            error_going_up = 0\n",
    "        else:\n",
    "            error_going_up +=1\n",
    "            if error_going_up > n_error :\n",
    "                break\n",
    "    \n",
    "    print(f\"n_estimators ={n} et rmse = {val_error: .2f}\")\n",
    "    return n"
   ]
  },
  {
   "cell_type": "code",
   "execution_count": 54,
   "id": "66138bba",
   "metadata": {},
   "outputs": [],
   "source": [
    "estimator = DecisionTreeRegressor()\n",
    "bag_reg= BaggingRegressor(estimator, n_estimators = 500, max_samples = 0.1, bootstrap = True, n_jobs = -1)\n",
    "modele = Pipeline(steps = [\n",
    "    ('tree_feature_engineering', tree_feature_engineering),\n",
    "    ('regressor', bag_reg)\n",
    "])"
   ]
  },
  {
   "cell_type": "code",
   "execution_count": 55,
   "id": "ef2d3a9c",
   "metadata": {},
   "outputs": [
    {
     "name": "stdout",
     "output_type": "stream",
     "text": [
      "n_estimators =63 et rmse =  0.36\n"
     ]
    },
    {
     "data": {
      "text/plain": [
       "63"
      ]
     },
     "execution_count": 55,
     "metadata": {},
     "output_type": "execute_result"
    }
   ],
   "source": [
    "arret_precoce(modele,X_train,y_train,X_test,y_test, 800, 40)"
   ]
  },
  {
   "cell_type": "code",
   "execution_count": 56,
   "id": "4967cfd0",
   "metadata": {},
   "outputs": [
    {
     "data": {
      "text/html": [
       "<div>\n",
       "<style scoped>\n",
       "    .dataframe tbody tr th:only-of-type {\n",
       "        vertical-align: middle;\n",
       "    }\n",
       "\n",
       "    .dataframe tbody tr th {\n",
       "        vertical-align: top;\n",
       "    }\n",
       "\n",
       "    .dataframe thead th {\n",
       "        text-align: right;\n",
       "    }\n",
       "</style>\n",
       "<table border=\"1\" class=\"dataframe\">\n",
       "  <thead>\n",
       "    <tr style=\"text-align: right;\">\n",
       "      <th></th>\n",
       "      <th>Modele</th>\n",
       "      <th>Ensembliste</th>\n",
       "      <th>Target</th>\n",
       "      <th>Train_RMSE</th>\n",
       "      <th>Test_RMSE</th>\n",
       "      <th>Train_R2</th>\n",
       "      <th>Test_R2</th>\n",
       "      <th>Commentaires</th>\n",
       "    </tr>\n",
       "  </thead>\n",
       "  <tbody>\n",
       "    <tr>\n",
       "      <th>0</th>\n",
       "      <td>DummyRegressor</td>\n",
       "      <td>non</td>\n",
       "      <td>TotalGHGEmissions</td>\n",
       "      <td>0.67</td>\n",
       "      <td>0.63</td>\n",
       "      <td>0.00</td>\n",
       "      <td>-0.00</td>\n",
       "      <td></td>\n",
       "    </tr>\n",
       "    <tr>\n",
       "      <th>1</th>\n",
       "      <td>Lasso</td>\n",
       "      <td>non</td>\n",
       "      <td>TotalGHGEmissions</td>\n",
       "      <td>0.37</td>\n",
       "      <td>0.33</td>\n",
       "      <td>0.69</td>\n",
       "      <td>0.73</td>\n",
       "      <td></td>\n",
       "    </tr>\n",
       "    <tr>\n",
       "      <th>2</th>\n",
       "      <td>LinearRegression</td>\n",
       "      <td>non</td>\n",
       "      <td>TotalGHGEmissions</td>\n",
       "      <td>0.37</td>\n",
       "      <td>0.32</td>\n",
       "      <td>0.70</td>\n",
       "      <td>0.74</td>\n",
       "      <td></td>\n",
       "    </tr>\n",
       "    <tr>\n",
       "      <th>3</th>\n",
       "      <td>Ridge</td>\n",
       "      <td>non</td>\n",
       "      <td>TotalGHGEmissions</td>\n",
       "      <td>0.37</td>\n",
       "      <td>0.33</td>\n",
       "      <td>0.69</td>\n",
       "      <td>0.73</td>\n",
       "      <td></td>\n",
       "    </tr>\n",
       "    <tr>\n",
       "      <th>4</th>\n",
       "      <td>DecisionTreeRegressor</td>\n",
       "      <td>non</td>\n",
       "      <td>TotalGHGEmissions</td>\n",
       "      <td>0.22</td>\n",
       "      <td>0.44</td>\n",
       "      <td>0.89</td>\n",
       "      <td>0.52</td>\n",
       "      <td></td>\n",
       "    </tr>\n",
       "    <tr>\n",
       "      <th>5</th>\n",
       "      <td>BaggingRegressor</td>\n",
       "      <td>DecisionTreeRegressor</td>\n",
       "      <td>TotalGHGEmissions</td>\n",
       "      <td>0.39</td>\n",
       "      <td>0.36</td>\n",
       "      <td>0.66</td>\n",
       "      <td>0.68</td>\n",
       "      <td>avec arret précoce</td>\n",
       "    </tr>\n",
       "  </tbody>\n",
       "</table>\n",
       "</div>"
      ],
      "text/plain": [
       "                  Modele            Ensembliste             Target  \\\n",
       "0         DummyRegressor                    non  TotalGHGEmissions   \n",
       "1                  Lasso                    non  TotalGHGEmissions   \n",
       "2       LinearRegression                    non  TotalGHGEmissions   \n",
       "3                  Ridge                    non  TotalGHGEmissions   \n",
       "4  DecisionTreeRegressor                    non  TotalGHGEmissions   \n",
       "5       BaggingRegressor  DecisionTreeRegressor  TotalGHGEmissions   \n",
       "\n",
       "   Train_RMSE  Test_RMSE  Train_R2  Test_R2        Commentaires  \n",
       "0        0.67       0.63      0.00    -0.00                      \n",
       "1        0.37       0.33      0.69     0.73                      \n",
       "2        0.37       0.32      0.70     0.74                      \n",
       "3        0.37       0.33      0.69     0.73                      \n",
       "4        0.22       0.44      0.89     0.52                      \n",
       "5        0.39       0.36      0.66     0.68  avec arret précoce  "
      ]
     },
     "execution_count": 56,
     "metadata": {},
     "output_type": "execute_result"
    }
   ],
   "source": [
    "modele.set_params(regressor__n_estimators = 42).fit(X_train, y_train)\n",
    "df_summary = summary(modele, df_summary,X_train, X_test, y_train, y_test,\n",
    "                     ensembliste = \"DecisionTreeRegressor\",\n",
    "                     commentaires = \"avec arret précoce\")\n",
    "df_summary"
   ]
  },
  {
   "cell_type": "markdown",
   "id": "b806fc7b",
   "metadata": {},
   "source": [
    "## 2.3.2 - Adaboost"
   ]
  },
  {
   "cell_type": "markdown",
   "id": "4437fde4",
   "metadata": {},
   "source": [
    "### linear regression"
   ]
  },
  {
   "cell_type": "code",
   "execution_count": 57,
   "id": "ae265f20",
   "metadata": {},
   "outputs": [],
   "source": [
    "estimateur = LinearRegression()\n",
    "modele = Pipeline(steps = [\n",
    "    ('linear_feature_engineering', linear_feature_engineering),\n",
    "    ('regressor', AdaBoostRegressor(estimateur))\n",
    "])"
   ]
  },
  {
   "cell_type": "code",
   "execution_count": 58,
   "id": "1428e49e",
   "metadata": {},
   "outputs": [],
   "source": [
    "#parametrage\n",
    "param_grid = {'regressor__learning_rate': [0.1],\n",
    "             'linear_feature_engineering__polynomial__degree' : [2],\n",
    "             'regressor__n_estimators' :[10] }\n",
    "lin_adaboost_grid_search = GridSearchCV(\n",
    "    estimator=modele,\n",
    "    param_grid=param_grid,\n",
    "    scoring='neg_root_mean_squared_error',\n",
    "    cv=5,\n",
    "    n_jobs = -1,\n",
    "    verbose = 1\n",
    ")"
   ]
  },
  {
   "cell_type": "code",
   "execution_count": 59,
   "id": "7fe90de8",
   "metadata": {},
   "outputs": [
    {
     "name": "stdout",
     "output_type": "stream",
     "text": [
      "Fitting 5 folds for each of 1 candidates, totalling 5 fits\n"
     ]
    },
    {
     "data": {
      "text/html": [
       "<style>#sk-26bafd72-3010-47c0-b76c-3940053a89be {color: black;background-color: white;}#sk-26bafd72-3010-47c0-b76c-3940053a89be pre{padding: 0;}#sk-26bafd72-3010-47c0-b76c-3940053a89be div.sk-toggleable {background-color: white;}#sk-26bafd72-3010-47c0-b76c-3940053a89be label.sk-toggleable__label {cursor: pointer;display: block;width: 100%;margin-bottom: 0;padding: 0.3em;box-sizing: border-box;text-align: center;}#sk-26bafd72-3010-47c0-b76c-3940053a89be label.sk-toggleable__label-arrow:before {content: \"▸\";float: left;margin-right: 0.25em;color: #696969;}#sk-26bafd72-3010-47c0-b76c-3940053a89be label.sk-toggleable__label-arrow:hover:before {color: black;}#sk-26bafd72-3010-47c0-b76c-3940053a89be div.sk-estimator:hover label.sk-toggleable__label-arrow:before {color: black;}#sk-26bafd72-3010-47c0-b76c-3940053a89be div.sk-toggleable__content {max-height: 0;max-width: 0;overflow: hidden;text-align: left;background-color: #f0f8ff;}#sk-26bafd72-3010-47c0-b76c-3940053a89be div.sk-toggleable__content pre {margin: 0.2em;color: black;border-radius: 0.25em;background-color: #f0f8ff;}#sk-26bafd72-3010-47c0-b76c-3940053a89be input.sk-toggleable__control:checked~div.sk-toggleable__content {max-height: 200px;max-width: 100%;overflow: auto;}#sk-26bafd72-3010-47c0-b76c-3940053a89be input.sk-toggleable__control:checked~label.sk-toggleable__label-arrow:before {content: \"▾\";}#sk-26bafd72-3010-47c0-b76c-3940053a89be div.sk-estimator input.sk-toggleable__control:checked~label.sk-toggleable__label {background-color: #d4ebff;}#sk-26bafd72-3010-47c0-b76c-3940053a89be div.sk-label input.sk-toggleable__control:checked~label.sk-toggleable__label {background-color: #d4ebff;}#sk-26bafd72-3010-47c0-b76c-3940053a89be input.sk-hidden--visually {border: 0;clip: rect(1px 1px 1px 1px);clip: rect(1px, 1px, 1px, 1px);height: 1px;margin: -1px;overflow: hidden;padding: 0;position: absolute;width: 1px;}#sk-26bafd72-3010-47c0-b76c-3940053a89be div.sk-estimator {font-family: monospace;background-color: #f0f8ff;border: 1px dotted black;border-radius: 0.25em;box-sizing: border-box;margin-bottom: 0.5em;}#sk-26bafd72-3010-47c0-b76c-3940053a89be div.sk-estimator:hover {background-color: #d4ebff;}#sk-26bafd72-3010-47c0-b76c-3940053a89be div.sk-parallel-item::after {content: \"\";width: 100%;border-bottom: 1px solid gray;flex-grow: 1;}#sk-26bafd72-3010-47c0-b76c-3940053a89be div.sk-label:hover label.sk-toggleable__label {background-color: #d4ebff;}#sk-26bafd72-3010-47c0-b76c-3940053a89be div.sk-serial::before {content: \"\";position: absolute;border-left: 1px solid gray;box-sizing: border-box;top: 2em;bottom: 0;left: 50%;}#sk-26bafd72-3010-47c0-b76c-3940053a89be div.sk-serial {display: flex;flex-direction: column;align-items: center;background-color: white;padding-right: 0.2em;padding-left: 0.2em;}#sk-26bafd72-3010-47c0-b76c-3940053a89be div.sk-item {z-index: 1;}#sk-26bafd72-3010-47c0-b76c-3940053a89be div.sk-parallel {display: flex;align-items: stretch;justify-content: center;background-color: white;}#sk-26bafd72-3010-47c0-b76c-3940053a89be div.sk-parallel::before {content: \"\";position: absolute;border-left: 1px solid gray;box-sizing: border-box;top: 2em;bottom: 0;left: 50%;}#sk-26bafd72-3010-47c0-b76c-3940053a89be div.sk-parallel-item {display: flex;flex-direction: column;position: relative;background-color: white;}#sk-26bafd72-3010-47c0-b76c-3940053a89be div.sk-parallel-item:first-child::after {align-self: flex-end;width: 50%;}#sk-26bafd72-3010-47c0-b76c-3940053a89be div.sk-parallel-item:last-child::after {align-self: flex-start;width: 50%;}#sk-26bafd72-3010-47c0-b76c-3940053a89be div.sk-parallel-item:only-child::after {width: 0;}#sk-26bafd72-3010-47c0-b76c-3940053a89be div.sk-dashed-wrapped {border: 1px dashed gray;margin: 0 0.4em 0.5em 0.4em;box-sizing: border-box;padding-bottom: 0.4em;background-color: white;position: relative;}#sk-26bafd72-3010-47c0-b76c-3940053a89be div.sk-label label {font-family: monospace;font-weight: bold;background-color: white;display: inline-block;line-height: 1.2em;}#sk-26bafd72-3010-47c0-b76c-3940053a89be div.sk-label-container {position: relative;z-index: 2;text-align: center;}#sk-26bafd72-3010-47c0-b76c-3940053a89be div.sk-container {/* jupyter's `normalize.less` sets `[hidden] { display: none; }` but bootstrap.min.css set `[hidden] { display: none !important; }` so we also need the `!important` here to be able to override the default hidden behavior on the sphinx rendered scikit-learn.org. See: https://github.com/scikit-learn/scikit-learn/issues/21755 */display: inline-block !important;position: relative;}#sk-26bafd72-3010-47c0-b76c-3940053a89be div.sk-text-repr-fallback {display: none;}</style><div id=\"sk-26bafd72-3010-47c0-b76c-3940053a89be\" class=\"sk-top-container\"><div class=\"sk-text-repr-fallback\"><pre>Pipeline(steps=[(&#x27;linear_feature_engineering&#x27;,\n",
       "                 Pipeline(steps=[(&#x27;linear_preprocessor&#x27;,\n",
       "                                  ColumnTransformer(remainder=&#x27;passthrough&#x27;,\n",
       "                                                    transformers=[(&#x27;cat&#x27;,\n",
       "                                                                   Pipeline(steps=[(&#x27;one_hot&#x27;,\n",
       "                                                                                    OneHotEncoder(handle_unknown=&#x27;ignore&#x27;))]),\n",
       "                                                                   [&#x27;PrimaryPropertyType&#x27;,\n",
       "                                                                    &#x27;LargestPropertyUseType&#x27;]),\n",
       "                                                                  (&#x27;num&#x27;,\n",
       "                                                                   Pipeline(steps=[(&#x27;scaler&#x27;,\n",
       "                                                                                    StandardScaler())]),\n",
       "                                                                   [&#x27;LargestPropertyUseTypeGFA&#x27;,\n",
       "                                                                    &#x27;...\n",
       "                                                                    &#x27;Electricity_p&#x27;,\n",
       "                                                                    &#x27;Latitude&#x27;,\n",
       "                                                                    &#x27;Longitude&#x27;,\n",
       "                                                                    &#x27;NonResidentialGFA&#x27;,\n",
       "                                                                    &#x27;PropertyGFAParking&#x27;,\n",
       "                                                                    &#x27;PropertyGFABuilding(s)&#x27;,\n",
       "                                                                    &#x27;ENERGYSTARScore&#x27;])])),\n",
       "                                 (&#x27;polynomial&#x27;,\n",
       "                                  PolynomialFeatures(include_bias=False,\n",
       "                                                     interaction_only=True)),\n",
       "                                 (&#x27;variance_threshold&#x27;, VarianceThreshold())])),\n",
       "                (&#x27;regressor&#x27;,\n",
       "                 AdaBoostRegressor(base_estimator=LinearRegression(),\n",
       "                                   learning_rate=0.1, n_estimators=10))])</pre><b>Please rerun this cell to show the HTML repr or trust the notebook.</b></div><div class=\"sk-container\" hidden><div class=\"sk-item sk-dashed-wrapped\"><div class=\"sk-label-container\"><div class=\"sk-label sk-toggleable\"><input class=\"sk-toggleable__control sk-hidden--visually\" id=\"4b2850f1-2b6d-43e8-ac07-0aacd84ad91d\" type=\"checkbox\" ><label for=\"4b2850f1-2b6d-43e8-ac07-0aacd84ad91d\" class=\"sk-toggleable__label sk-toggleable__label-arrow\">Pipeline</label><div class=\"sk-toggleable__content\"><pre>Pipeline(steps=[(&#x27;linear_feature_engineering&#x27;,\n",
       "                 Pipeline(steps=[(&#x27;linear_preprocessor&#x27;,\n",
       "                                  ColumnTransformer(remainder=&#x27;passthrough&#x27;,\n",
       "                                                    transformers=[(&#x27;cat&#x27;,\n",
       "                                                                   Pipeline(steps=[(&#x27;one_hot&#x27;,\n",
       "                                                                                    OneHotEncoder(handle_unknown=&#x27;ignore&#x27;))]),\n",
       "                                                                   [&#x27;PrimaryPropertyType&#x27;,\n",
       "                                                                    &#x27;LargestPropertyUseType&#x27;]),\n",
       "                                                                  (&#x27;num&#x27;,\n",
       "                                                                   Pipeline(steps=[(&#x27;scaler&#x27;,\n",
       "                                                                                    StandardScaler())]),\n",
       "                                                                   [&#x27;LargestPropertyUseTypeGFA&#x27;,\n",
       "                                                                    &#x27;...\n",
       "                                                                    &#x27;Electricity_p&#x27;,\n",
       "                                                                    &#x27;Latitude&#x27;,\n",
       "                                                                    &#x27;Longitude&#x27;,\n",
       "                                                                    &#x27;NonResidentialGFA&#x27;,\n",
       "                                                                    &#x27;PropertyGFAParking&#x27;,\n",
       "                                                                    &#x27;PropertyGFABuilding(s)&#x27;,\n",
       "                                                                    &#x27;ENERGYSTARScore&#x27;])])),\n",
       "                                 (&#x27;polynomial&#x27;,\n",
       "                                  PolynomialFeatures(include_bias=False,\n",
       "                                                     interaction_only=True)),\n",
       "                                 (&#x27;variance_threshold&#x27;, VarianceThreshold())])),\n",
       "                (&#x27;regressor&#x27;,\n",
       "                 AdaBoostRegressor(base_estimator=LinearRegression(),\n",
       "                                   learning_rate=0.1, n_estimators=10))])</pre></div></div></div><div class=\"sk-serial\"><div class=\"sk-item\"><div class=\"sk-label-container\"><div class=\"sk-label sk-toggleable\"><input class=\"sk-toggleable__control sk-hidden--visually\" id=\"f443946a-961c-4c3a-8d74-ff7063d7a600\" type=\"checkbox\" ><label for=\"f443946a-961c-4c3a-8d74-ff7063d7a600\" class=\"sk-toggleable__label sk-toggleable__label-arrow\">linear_feature_engineering: Pipeline</label><div class=\"sk-toggleable__content\"><pre>Pipeline(steps=[(&#x27;linear_preprocessor&#x27;,\n",
       "                 ColumnTransformer(remainder=&#x27;passthrough&#x27;,\n",
       "                                   transformers=[(&#x27;cat&#x27;,\n",
       "                                                  Pipeline(steps=[(&#x27;one_hot&#x27;,\n",
       "                                                                   OneHotEncoder(handle_unknown=&#x27;ignore&#x27;))]),\n",
       "                                                  [&#x27;PrimaryPropertyType&#x27;,\n",
       "                                                   &#x27;LargestPropertyUseType&#x27;]),\n",
       "                                                 (&#x27;num&#x27;,\n",
       "                                                  Pipeline(steps=[(&#x27;scaler&#x27;,\n",
       "                                                                   StandardScaler())]),\n",
       "                                                  [&#x27;LargestPropertyUseTypeGFA&#x27;,\n",
       "                                                   &#x27;SecondLargestPropertyUseTypeGFA&#x27;,\n",
       "                                                   &#x27;ThirdLargestPropertyUseTypeGFA&#x27;,\n",
       "                                                   &#x27;Electricity_p&#x27;, &#x27;Latitude&#x27;,\n",
       "                                                   &#x27;Longitude&#x27;,\n",
       "                                                   &#x27;NonResidentialGFA&#x27;,\n",
       "                                                   &#x27;PropertyGFAParking&#x27;,\n",
       "                                                   &#x27;PropertyGFABuilding(s)&#x27;,\n",
       "                                                   &#x27;ENERGYSTARScore&#x27;])])),\n",
       "                (&#x27;polynomial&#x27;,\n",
       "                 PolynomialFeatures(include_bias=False, interaction_only=True)),\n",
       "                (&#x27;variance_threshold&#x27;, VarianceThreshold())])</pre></div></div></div><div class=\"sk-serial\"><div class=\"sk-item sk-dashed-wrapped\"><div class=\"sk-label-container\"><div class=\"sk-label sk-toggleable\"><input class=\"sk-toggleable__control sk-hidden--visually\" id=\"99cdf1fa-5ab5-4a22-8eaf-99eaa7788d75\" type=\"checkbox\" ><label for=\"99cdf1fa-5ab5-4a22-8eaf-99eaa7788d75\" class=\"sk-toggleable__label sk-toggleable__label-arrow\">linear_preprocessor: ColumnTransformer</label><div class=\"sk-toggleable__content\"><pre>ColumnTransformer(remainder=&#x27;passthrough&#x27;,\n",
       "                  transformers=[(&#x27;cat&#x27;,\n",
       "                                 Pipeline(steps=[(&#x27;one_hot&#x27;,\n",
       "                                                  OneHotEncoder(handle_unknown=&#x27;ignore&#x27;))]),\n",
       "                                 [&#x27;PrimaryPropertyType&#x27;,\n",
       "                                  &#x27;LargestPropertyUseType&#x27;]),\n",
       "                                (&#x27;num&#x27;,\n",
       "                                 Pipeline(steps=[(&#x27;scaler&#x27;, StandardScaler())]),\n",
       "                                 [&#x27;LargestPropertyUseTypeGFA&#x27;,\n",
       "                                  &#x27;SecondLargestPropertyUseTypeGFA&#x27;,\n",
       "                                  &#x27;ThirdLargestPropertyUseTypeGFA&#x27;,\n",
       "                                  &#x27;Electricity_p&#x27;, &#x27;Latitude&#x27;, &#x27;Longitude&#x27;,\n",
       "                                  &#x27;NonResidentialGFA&#x27;, &#x27;PropertyGFAParking&#x27;,\n",
       "                                  &#x27;PropertyGFABuilding(s)&#x27;,\n",
       "                                  &#x27;ENERGYSTARScore&#x27;])])</pre></div></div></div><div class=\"sk-parallel\"><div class=\"sk-parallel-item\"><div class=\"sk-item\"><div class=\"sk-label-container\"><div class=\"sk-label sk-toggleable\"><input class=\"sk-toggleable__control sk-hidden--visually\" id=\"8c107920-a5a4-4024-9d3c-02e9bb78ff86\" type=\"checkbox\" ><label for=\"8c107920-a5a4-4024-9d3c-02e9bb78ff86\" class=\"sk-toggleable__label sk-toggleable__label-arrow\">cat</label><div class=\"sk-toggleable__content\"><pre>[&#x27;PrimaryPropertyType&#x27;, &#x27;LargestPropertyUseType&#x27;]</pre></div></div></div><div class=\"sk-serial\"><div class=\"sk-item\"><div class=\"sk-serial\"><div class=\"sk-item\"><div class=\"sk-estimator sk-toggleable\"><input class=\"sk-toggleable__control sk-hidden--visually\" id=\"3e1215ae-2718-4975-8744-b052c854be48\" type=\"checkbox\" ><label for=\"3e1215ae-2718-4975-8744-b052c854be48\" class=\"sk-toggleable__label sk-toggleable__label-arrow\">OneHotEncoder</label><div class=\"sk-toggleable__content\"><pre>OneHotEncoder(handle_unknown=&#x27;ignore&#x27;)</pre></div></div></div></div></div></div></div></div><div class=\"sk-parallel-item\"><div class=\"sk-item\"><div class=\"sk-label-container\"><div class=\"sk-label sk-toggleable\"><input class=\"sk-toggleable__control sk-hidden--visually\" id=\"8095dd04-da08-46cd-b5aa-73fa73084fe2\" type=\"checkbox\" ><label for=\"8095dd04-da08-46cd-b5aa-73fa73084fe2\" class=\"sk-toggleable__label sk-toggleable__label-arrow\">num</label><div class=\"sk-toggleable__content\"><pre>[&#x27;LargestPropertyUseTypeGFA&#x27;, &#x27;SecondLargestPropertyUseTypeGFA&#x27;, &#x27;ThirdLargestPropertyUseTypeGFA&#x27;, &#x27;Electricity_p&#x27;, &#x27;Latitude&#x27;, &#x27;Longitude&#x27;, &#x27;NonResidentialGFA&#x27;, &#x27;PropertyGFAParking&#x27;, &#x27;PropertyGFABuilding(s)&#x27;, &#x27;ENERGYSTARScore&#x27;]</pre></div></div></div><div class=\"sk-serial\"><div class=\"sk-item\"><div class=\"sk-serial\"><div class=\"sk-item\"><div class=\"sk-estimator sk-toggleable\"><input class=\"sk-toggleable__control sk-hidden--visually\" id=\"d2d70fed-e389-43c5-bc6a-a81c8ac66bfa\" type=\"checkbox\" ><label for=\"d2d70fed-e389-43c5-bc6a-a81c8ac66bfa\" class=\"sk-toggleable__label sk-toggleable__label-arrow\">StandardScaler</label><div class=\"sk-toggleable__content\"><pre>StandardScaler()</pre></div></div></div></div></div></div></div></div><div class=\"sk-parallel-item\"><div class=\"sk-item\"><div class=\"sk-label-container\"><div class=\"sk-label sk-toggleable\"><input class=\"sk-toggleable__control sk-hidden--visually\" id=\"300c5b12-3ecb-43eb-9254-3808dbe5d059\" type=\"checkbox\" ><label for=\"300c5b12-3ecb-43eb-9254-3808dbe5d059\" class=\"sk-toggleable__label sk-toggleable__label-arrow\">remainder</label><div class=\"sk-toggleable__content\"><pre>[]</pre></div></div></div><div class=\"sk-serial\"><div class=\"sk-item\"><div class=\"sk-estimator sk-toggleable\"><input class=\"sk-toggleable__control sk-hidden--visually\" id=\"a1fef529-b571-4770-b89e-8045ce41371b\" type=\"checkbox\" ><label for=\"a1fef529-b571-4770-b89e-8045ce41371b\" class=\"sk-toggleable__label sk-toggleable__label-arrow\">passthrough</label><div class=\"sk-toggleable__content\"><pre>passthrough</pre></div></div></div></div></div></div></div></div><div class=\"sk-item\"><div class=\"sk-estimator sk-toggleable\"><input class=\"sk-toggleable__control sk-hidden--visually\" id=\"50c7719b-ed2b-44a7-9595-0d80b0b224e4\" type=\"checkbox\" ><label for=\"50c7719b-ed2b-44a7-9595-0d80b0b224e4\" class=\"sk-toggleable__label sk-toggleable__label-arrow\">PolynomialFeatures</label><div class=\"sk-toggleable__content\"><pre>PolynomialFeatures(include_bias=False, interaction_only=True)</pre></div></div></div><div class=\"sk-item\"><div class=\"sk-estimator sk-toggleable\"><input class=\"sk-toggleable__control sk-hidden--visually\" id=\"d4de03c7-eb35-4ce4-9281-cb7b022cb4dc\" type=\"checkbox\" ><label for=\"d4de03c7-eb35-4ce4-9281-cb7b022cb4dc\" class=\"sk-toggleable__label sk-toggleable__label-arrow\">VarianceThreshold</label><div class=\"sk-toggleable__content\"><pre>VarianceThreshold()</pre></div></div></div></div></div><div class=\"sk-item sk-dashed-wrapped\"><div class=\"sk-label-container\"><div class=\"sk-label sk-toggleable\"><input class=\"sk-toggleable__control sk-hidden--visually\" id=\"35a4fbf2-4f4e-402a-a772-8e978194fa08\" type=\"checkbox\" ><label for=\"35a4fbf2-4f4e-402a-a772-8e978194fa08\" class=\"sk-toggleable__label sk-toggleable__label-arrow\">regressor: AdaBoostRegressor</label><div class=\"sk-toggleable__content\"><pre>AdaBoostRegressor(base_estimator=LinearRegression(), learning_rate=0.1,\n",
       "                  n_estimators=10)</pre></div></div></div><div class=\"sk-parallel\"><div class=\"sk-parallel-item\"><div class=\"sk-item\"><div class=\"sk-serial\"><div class=\"sk-item\"><div class=\"sk-estimator sk-toggleable\"><input class=\"sk-toggleable__control sk-hidden--visually\" id=\"0e22c15c-29c1-4db9-b909-191a112d4d90\" type=\"checkbox\" ><label for=\"0e22c15c-29c1-4db9-b909-191a112d4d90\" class=\"sk-toggleable__label sk-toggleable__label-arrow\">LinearRegression</label><div class=\"sk-toggleable__content\"><pre>LinearRegression()</pre></div></div></div></div></div></div></div></div></div></div></div></div>"
      ],
      "text/plain": [
       "Pipeline(steps=[('linear_feature_engineering',\n",
       "                 Pipeline(steps=[('linear_preprocessor',\n",
       "                                  ColumnTransformer(remainder='passthrough',\n",
       "                                                    transformers=[('cat',\n",
       "                                                                   Pipeline(steps=[('one_hot',\n",
       "                                                                                    OneHotEncoder(handle_unknown='ignore'))]),\n",
       "                                                                   ['PrimaryPropertyType',\n",
       "                                                                    'LargestPropertyUseType']),\n",
       "                                                                  ('num',\n",
       "                                                                   Pipeline(steps=[('scaler',\n",
       "                                                                                    StandardScaler())]),\n",
       "                                                                   ['LargestPropertyUseTypeGFA',\n",
       "                                                                    '...\n",
       "                                                                    'Electricity_p',\n",
       "                                                                    'Latitude',\n",
       "                                                                    'Longitude',\n",
       "                                                                    'NonResidentialGFA',\n",
       "                                                                    'PropertyGFAParking',\n",
       "                                                                    'PropertyGFABuilding(s)',\n",
       "                                                                    'ENERGYSTARScore'])])),\n",
       "                                 ('polynomial',\n",
       "                                  PolynomialFeatures(include_bias=False,\n",
       "                                                     interaction_only=True)),\n",
       "                                 ('variance_threshold', VarianceThreshold())])),\n",
       "                ('regressor',\n",
       "                 AdaBoostRegressor(base_estimator=LinearRegression(),\n",
       "                                   learning_rate=0.1, n_estimators=10))])"
      ]
     },
     "execution_count": 59,
     "metadata": {},
     "output_type": "execute_result"
    }
   ],
   "source": [
    "lin_adaboost_grid_search.fit(X_train, y_train)\n",
    "modele.set_params(**lin_adaboost_grid_search.best_params_).fit(X_train, y_train)"
   ]
  },
  {
   "cell_type": "code",
   "execution_count": 60,
   "id": "451f2b3d",
   "metadata": {},
   "outputs": [
    {
     "data": {
      "text/plain": [
       "{'linear_feature_engineering__polynomial__degree': 2,\n",
       " 'regressor__learning_rate': 0.1,\n",
       " 'regressor__n_estimators': 10}"
      ]
     },
     "execution_count": 60,
     "metadata": {},
     "output_type": "execute_result"
    }
   ],
   "source": [
    "lin_adaboost_grid_search.best_params_"
   ]
  },
  {
   "cell_type": "code",
   "execution_count": 61,
   "id": "b6833434",
   "metadata": {},
   "outputs": [
    {
     "data": {
      "text/html": [
       "<div>\n",
       "<style scoped>\n",
       "    .dataframe tbody tr th:only-of-type {\n",
       "        vertical-align: middle;\n",
       "    }\n",
       "\n",
       "    .dataframe tbody tr th {\n",
       "        vertical-align: top;\n",
       "    }\n",
       "\n",
       "    .dataframe thead th {\n",
       "        text-align: right;\n",
       "    }\n",
       "</style>\n",
       "<table border=\"1\" class=\"dataframe\">\n",
       "  <thead>\n",
       "    <tr style=\"text-align: right;\">\n",
       "      <th></th>\n",
       "      <th>Modele</th>\n",
       "      <th>Ensembliste</th>\n",
       "      <th>Target</th>\n",
       "      <th>Train_RMSE</th>\n",
       "      <th>Test_RMSE</th>\n",
       "      <th>Train_R2</th>\n",
       "      <th>Test_R2</th>\n",
       "      <th>Commentaires</th>\n",
       "    </tr>\n",
       "  </thead>\n",
       "  <tbody>\n",
       "    <tr>\n",
       "      <th>0</th>\n",
       "      <td>DummyRegressor</td>\n",
       "      <td>non</td>\n",
       "      <td>TotalGHGEmissions</td>\n",
       "      <td>0.67</td>\n",
       "      <td>0.63</td>\n",
       "      <td>0.00</td>\n",
       "      <td>-0.00</td>\n",
       "      <td></td>\n",
       "    </tr>\n",
       "    <tr>\n",
       "      <th>1</th>\n",
       "      <td>Lasso</td>\n",
       "      <td>non</td>\n",
       "      <td>TotalGHGEmissions</td>\n",
       "      <td>0.37</td>\n",
       "      <td>0.33</td>\n",
       "      <td>0.69</td>\n",
       "      <td>0.73</td>\n",
       "      <td></td>\n",
       "    </tr>\n",
       "    <tr>\n",
       "      <th>2</th>\n",
       "      <td>LinearRegression</td>\n",
       "      <td>non</td>\n",
       "      <td>TotalGHGEmissions</td>\n",
       "      <td>0.37</td>\n",
       "      <td>0.32</td>\n",
       "      <td>0.70</td>\n",
       "      <td>0.74</td>\n",
       "      <td></td>\n",
       "    </tr>\n",
       "    <tr>\n",
       "      <th>3</th>\n",
       "      <td>Ridge</td>\n",
       "      <td>non</td>\n",
       "      <td>TotalGHGEmissions</td>\n",
       "      <td>0.37</td>\n",
       "      <td>0.33</td>\n",
       "      <td>0.69</td>\n",
       "      <td>0.73</td>\n",
       "      <td></td>\n",
       "    </tr>\n",
       "    <tr>\n",
       "      <th>4</th>\n",
       "      <td>DecisionTreeRegressor</td>\n",
       "      <td>non</td>\n",
       "      <td>TotalGHGEmissions</td>\n",
       "      <td>0.22</td>\n",
       "      <td>0.44</td>\n",
       "      <td>0.89</td>\n",
       "      <td>0.52</td>\n",
       "      <td></td>\n",
       "    </tr>\n",
       "    <tr>\n",
       "      <th>5</th>\n",
       "      <td>BaggingRegressor</td>\n",
       "      <td>DecisionTreeRegressor</td>\n",
       "      <td>TotalGHGEmissions</td>\n",
       "      <td>0.39</td>\n",
       "      <td>0.36</td>\n",
       "      <td>0.66</td>\n",
       "      <td>0.68</td>\n",
       "      <td>avec arret précoce</td>\n",
       "    </tr>\n",
       "    <tr>\n",
       "      <th>6</th>\n",
       "      <td>AdaBoostRegressor</td>\n",
       "      <td>LinearRegression</td>\n",
       "      <td>TotalGHGEmissions</td>\n",
       "      <td>0.29</td>\n",
       "      <td>0.40</td>\n",
       "      <td>0.81</td>\n",
       "      <td>0.60</td>\n",
       "      <td></td>\n",
       "    </tr>\n",
       "  </tbody>\n",
       "</table>\n",
       "</div>"
      ],
      "text/plain": [
       "                  Modele            Ensembliste             Target  \\\n",
       "0         DummyRegressor                    non  TotalGHGEmissions   \n",
       "1                  Lasso                    non  TotalGHGEmissions   \n",
       "2       LinearRegression                    non  TotalGHGEmissions   \n",
       "3                  Ridge                    non  TotalGHGEmissions   \n",
       "4  DecisionTreeRegressor                    non  TotalGHGEmissions   \n",
       "5       BaggingRegressor  DecisionTreeRegressor  TotalGHGEmissions   \n",
       "6      AdaBoostRegressor       LinearRegression  TotalGHGEmissions   \n",
       "\n",
       "   Train_RMSE  Test_RMSE  Train_R2  Test_R2        Commentaires  \n",
       "0        0.67       0.63      0.00    -0.00                      \n",
       "1        0.37       0.33      0.69     0.73                      \n",
       "2        0.37       0.32      0.70     0.74                      \n",
       "3        0.37       0.33      0.69     0.73                      \n",
       "4        0.22       0.44      0.89     0.52                      \n",
       "5        0.39       0.36      0.66     0.68  avec arret précoce  \n",
       "6        0.29       0.40      0.81     0.60                      "
      ]
     },
     "execution_count": 61,
     "metadata": {},
     "output_type": "execute_result"
    }
   ],
   "source": [
    "modele.set_params(**lin_adaboost_grid_search.best_params_).fit(X_train, y_train)\n",
    "df_summary = summary(modele, df_summary,X_train, X_test, y_train, y_test,\n",
    "                     ensembliste = \"LinearRegression\")\n",
    "df_summary"
   ]
  },
  {
   "cell_type": "markdown",
   "id": "9f8a7151",
   "metadata": {},
   "source": [
    "### DecisionTreeRegressor"
   ]
  },
  {
   "cell_type": "code",
   "execution_count": 62,
   "id": "3f60bc22",
   "metadata": {},
   "outputs": [],
   "source": [
    "estimateur = DecisionTreeRegressor()\n",
    "ada_tree = Pipeline(steps = [\n",
    "    ('tree_feature_engineering', tree_feature_engineering),\n",
    "    ('regressor', AdaBoostRegressor(estimateur))\n",
    "])"
   ]
  },
  {
   "cell_type": "code",
   "execution_count": 63,
   "id": "29691837",
   "metadata": {},
   "outputs": [],
   "source": [
    "#parametrage\n",
    "param_grid = {'regressor__learning_rate': [0.1,0.5,1],\n",
    "              'regressor__n_estimators' :[10,20,30],\n",
    "              'regressor__base_estimator__max_depth' : [30,40,50],\n",
    "              'regressor__base_estimator__min_samples_leaf' : [1,3,5,10]}\n",
    "\n",
    "tree_adaboost_grid_search = GridSearchCV(\n",
    "    estimator=ada_tree,\n",
    "    param_grid=param_grid,\n",
    "    scoring='neg_root_mean_squared_error',\n",
    "    cv=5,\n",
    "    n_jobs = -1,\n",
    "    verbose = -1\n",
    ")"
   ]
  },
  {
   "cell_type": "code",
   "execution_count": 64,
   "id": "ca1bba75",
   "metadata": {},
   "outputs": [
    {
     "data": {
      "text/html": [
       "<style>#sk-ae394095-1d21-4f8c-83d7-52578201c0b0 {color: black;background-color: white;}#sk-ae394095-1d21-4f8c-83d7-52578201c0b0 pre{padding: 0;}#sk-ae394095-1d21-4f8c-83d7-52578201c0b0 div.sk-toggleable {background-color: white;}#sk-ae394095-1d21-4f8c-83d7-52578201c0b0 label.sk-toggleable__label {cursor: pointer;display: block;width: 100%;margin-bottom: 0;padding: 0.3em;box-sizing: border-box;text-align: center;}#sk-ae394095-1d21-4f8c-83d7-52578201c0b0 label.sk-toggleable__label-arrow:before {content: \"▸\";float: left;margin-right: 0.25em;color: #696969;}#sk-ae394095-1d21-4f8c-83d7-52578201c0b0 label.sk-toggleable__label-arrow:hover:before {color: black;}#sk-ae394095-1d21-4f8c-83d7-52578201c0b0 div.sk-estimator:hover label.sk-toggleable__label-arrow:before {color: black;}#sk-ae394095-1d21-4f8c-83d7-52578201c0b0 div.sk-toggleable__content {max-height: 0;max-width: 0;overflow: hidden;text-align: left;background-color: #f0f8ff;}#sk-ae394095-1d21-4f8c-83d7-52578201c0b0 div.sk-toggleable__content pre {margin: 0.2em;color: black;border-radius: 0.25em;background-color: #f0f8ff;}#sk-ae394095-1d21-4f8c-83d7-52578201c0b0 input.sk-toggleable__control:checked~div.sk-toggleable__content {max-height: 200px;max-width: 100%;overflow: auto;}#sk-ae394095-1d21-4f8c-83d7-52578201c0b0 input.sk-toggleable__control:checked~label.sk-toggleable__label-arrow:before {content: \"▾\";}#sk-ae394095-1d21-4f8c-83d7-52578201c0b0 div.sk-estimator input.sk-toggleable__control:checked~label.sk-toggleable__label {background-color: #d4ebff;}#sk-ae394095-1d21-4f8c-83d7-52578201c0b0 div.sk-label input.sk-toggleable__control:checked~label.sk-toggleable__label {background-color: #d4ebff;}#sk-ae394095-1d21-4f8c-83d7-52578201c0b0 input.sk-hidden--visually {border: 0;clip: rect(1px 1px 1px 1px);clip: rect(1px, 1px, 1px, 1px);height: 1px;margin: -1px;overflow: hidden;padding: 0;position: absolute;width: 1px;}#sk-ae394095-1d21-4f8c-83d7-52578201c0b0 div.sk-estimator {font-family: monospace;background-color: #f0f8ff;border: 1px dotted black;border-radius: 0.25em;box-sizing: border-box;margin-bottom: 0.5em;}#sk-ae394095-1d21-4f8c-83d7-52578201c0b0 div.sk-estimator:hover {background-color: #d4ebff;}#sk-ae394095-1d21-4f8c-83d7-52578201c0b0 div.sk-parallel-item::after {content: \"\";width: 100%;border-bottom: 1px solid gray;flex-grow: 1;}#sk-ae394095-1d21-4f8c-83d7-52578201c0b0 div.sk-label:hover label.sk-toggleable__label {background-color: #d4ebff;}#sk-ae394095-1d21-4f8c-83d7-52578201c0b0 div.sk-serial::before {content: \"\";position: absolute;border-left: 1px solid gray;box-sizing: border-box;top: 2em;bottom: 0;left: 50%;}#sk-ae394095-1d21-4f8c-83d7-52578201c0b0 div.sk-serial {display: flex;flex-direction: column;align-items: center;background-color: white;padding-right: 0.2em;padding-left: 0.2em;}#sk-ae394095-1d21-4f8c-83d7-52578201c0b0 div.sk-item {z-index: 1;}#sk-ae394095-1d21-4f8c-83d7-52578201c0b0 div.sk-parallel {display: flex;align-items: stretch;justify-content: center;background-color: white;}#sk-ae394095-1d21-4f8c-83d7-52578201c0b0 div.sk-parallel::before {content: \"\";position: absolute;border-left: 1px solid gray;box-sizing: border-box;top: 2em;bottom: 0;left: 50%;}#sk-ae394095-1d21-4f8c-83d7-52578201c0b0 div.sk-parallel-item {display: flex;flex-direction: column;position: relative;background-color: white;}#sk-ae394095-1d21-4f8c-83d7-52578201c0b0 div.sk-parallel-item:first-child::after {align-self: flex-end;width: 50%;}#sk-ae394095-1d21-4f8c-83d7-52578201c0b0 div.sk-parallel-item:last-child::after {align-self: flex-start;width: 50%;}#sk-ae394095-1d21-4f8c-83d7-52578201c0b0 div.sk-parallel-item:only-child::after {width: 0;}#sk-ae394095-1d21-4f8c-83d7-52578201c0b0 div.sk-dashed-wrapped {border: 1px dashed gray;margin: 0 0.4em 0.5em 0.4em;box-sizing: border-box;padding-bottom: 0.4em;background-color: white;position: relative;}#sk-ae394095-1d21-4f8c-83d7-52578201c0b0 div.sk-label label {font-family: monospace;font-weight: bold;background-color: white;display: inline-block;line-height: 1.2em;}#sk-ae394095-1d21-4f8c-83d7-52578201c0b0 div.sk-label-container {position: relative;z-index: 2;text-align: center;}#sk-ae394095-1d21-4f8c-83d7-52578201c0b0 div.sk-container {/* jupyter's `normalize.less` sets `[hidden] { display: none; }` but bootstrap.min.css set `[hidden] { display: none !important; }` so we also need the `!important` here to be able to override the default hidden behavior on the sphinx rendered scikit-learn.org. See: https://github.com/scikit-learn/scikit-learn/issues/21755 */display: inline-block !important;position: relative;}#sk-ae394095-1d21-4f8c-83d7-52578201c0b0 div.sk-text-repr-fallback {display: none;}</style><div id=\"sk-ae394095-1d21-4f8c-83d7-52578201c0b0\" class=\"sk-top-container\"><div class=\"sk-text-repr-fallback\"><pre>Pipeline(steps=[(&#x27;tree_feature_engineering&#x27;,\n",
       "                 Pipeline(steps=[(&#x27;tree_preprocessor&#x27;,\n",
       "                                  ColumnTransformer(remainder=&#x27;passthrough&#x27;,\n",
       "                                                    transformers=[(&#x27;cat&#x27;,\n",
       "                                                                   Pipeline(steps=[(&#x27;one_hot&#x27;,\n",
       "                                                                                    OneHotEncoder(handle_unknown=&#x27;ignore&#x27;))]),\n",
       "                                                                   [&#x27;PrimaryPropertyType&#x27;,\n",
       "                                                                    &#x27;LargestPropertyUseType&#x27;])]))])),\n",
       "                (&#x27;regressor&#x27;,\n",
       "                 AdaBoostRegressor(base_estimator=DecisionTreeRegressor(max_depth=50,\n",
       "                                                                        min_samples_leaf=5),\n",
       "                                   learning_rate=1, n_estimators=20))])</pre><b>Please rerun this cell to show the HTML repr or trust the notebook.</b></div><div class=\"sk-container\" hidden><div class=\"sk-item sk-dashed-wrapped\"><div class=\"sk-label-container\"><div class=\"sk-label sk-toggleable\"><input class=\"sk-toggleable__control sk-hidden--visually\" id=\"d3afc4ea-bb84-4396-8645-e004a5994620\" type=\"checkbox\" ><label for=\"d3afc4ea-bb84-4396-8645-e004a5994620\" class=\"sk-toggleable__label sk-toggleable__label-arrow\">Pipeline</label><div class=\"sk-toggleable__content\"><pre>Pipeline(steps=[(&#x27;tree_feature_engineering&#x27;,\n",
       "                 Pipeline(steps=[(&#x27;tree_preprocessor&#x27;,\n",
       "                                  ColumnTransformer(remainder=&#x27;passthrough&#x27;,\n",
       "                                                    transformers=[(&#x27;cat&#x27;,\n",
       "                                                                   Pipeline(steps=[(&#x27;one_hot&#x27;,\n",
       "                                                                                    OneHotEncoder(handle_unknown=&#x27;ignore&#x27;))]),\n",
       "                                                                   [&#x27;PrimaryPropertyType&#x27;,\n",
       "                                                                    &#x27;LargestPropertyUseType&#x27;])]))])),\n",
       "                (&#x27;regressor&#x27;,\n",
       "                 AdaBoostRegressor(base_estimator=DecisionTreeRegressor(max_depth=50,\n",
       "                                                                        min_samples_leaf=5),\n",
       "                                   learning_rate=1, n_estimators=20))])</pre></div></div></div><div class=\"sk-serial\"><div class=\"sk-item\"><div class=\"sk-label-container\"><div class=\"sk-label sk-toggleable\"><input class=\"sk-toggleable__control sk-hidden--visually\" id=\"b96ee10e-306f-439a-9921-9f47c96ed7aa\" type=\"checkbox\" ><label for=\"b96ee10e-306f-439a-9921-9f47c96ed7aa\" class=\"sk-toggleable__label sk-toggleable__label-arrow\">tree_feature_engineering: Pipeline</label><div class=\"sk-toggleable__content\"><pre>Pipeline(steps=[(&#x27;tree_preprocessor&#x27;,\n",
       "                 ColumnTransformer(remainder=&#x27;passthrough&#x27;,\n",
       "                                   transformers=[(&#x27;cat&#x27;,\n",
       "                                                  Pipeline(steps=[(&#x27;one_hot&#x27;,\n",
       "                                                                   OneHotEncoder(handle_unknown=&#x27;ignore&#x27;))]),\n",
       "                                                  [&#x27;PrimaryPropertyType&#x27;,\n",
       "                                                   &#x27;LargestPropertyUseType&#x27;])]))])</pre></div></div></div><div class=\"sk-serial\"><div class=\"sk-item sk-dashed-wrapped\"><div class=\"sk-label-container\"><div class=\"sk-label sk-toggleable\"><input class=\"sk-toggleable__control sk-hidden--visually\" id=\"04d09a13-bb68-480c-a829-36c52c2b43a7\" type=\"checkbox\" ><label for=\"04d09a13-bb68-480c-a829-36c52c2b43a7\" class=\"sk-toggleable__label sk-toggleable__label-arrow\">tree_preprocessor: ColumnTransformer</label><div class=\"sk-toggleable__content\"><pre>ColumnTransformer(remainder=&#x27;passthrough&#x27;,\n",
       "                  transformers=[(&#x27;cat&#x27;,\n",
       "                                 Pipeline(steps=[(&#x27;one_hot&#x27;,\n",
       "                                                  OneHotEncoder(handle_unknown=&#x27;ignore&#x27;))]),\n",
       "                                 [&#x27;PrimaryPropertyType&#x27;,\n",
       "                                  &#x27;LargestPropertyUseType&#x27;])])</pre></div></div></div><div class=\"sk-parallel\"><div class=\"sk-parallel-item\"><div class=\"sk-item\"><div class=\"sk-label-container\"><div class=\"sk-label sk-toggleable\"><input class=\"sk-toggleable__control sk-hidden--visually\" id=\"ea5aaf9d-ca56-4533-8877-1c1a778757bf\" type=\"checkbox\" ><label for=\"ea5aaf9d-ca56-4533-8877-1c1a778757bf\" class=\"sk-toggleable__label sk-toggleable__label-arrow\">cat</label><div class=\"sk-toggleable__content\"><pre>[&#x27;PrimaryPropertyType&#x27;, &#x27;LargestPropertyUseType&#x27;]</pre></div></div></div><div class=\"sk-serial\"><div class=\"sk-item\"><div class=\"sk-serial\"><div class=\"sk-item\"><div class=\"sk-estimator sk-toggleable\"><input class=\"sk-toggleable__control sk-hidden--visually\" id=\"966cb0f8-6647-4375-9eb3-cfdf1d6b4ad3\" type=\"checkbox\" ><label for=\"966cb0f8-6647-4375-9eb3-cfdf1d6b4ad3\" class=\"sk-toggleable__label sk-toggleable__label-arrow\">OneHotEncoder</label><div class=\"sk-toggleable__content\"><pre>OneHotEncoder(handle_unknown=&#x27;ignore&#x27;)</pre></div></div></div></div></div></div></div></div><div class=\"sk-parallel-item\"><div class=\"sk-item\"><div class=\"sk-label-container\"><div class=\"sk-label sk-toggleable\"><input class=\"sk-toggleable__control sk-hidden--visually\" id=\"e9bb099a-8a2b-4682-9d9c-526a8e75df32\" type=\"checkbox\" ><label for=\"e9bb099a-8a2b-4682-9d9c-526a8e75df32\" class=\"sk-toggleable__label sk-toggleable__label-arrow\">remainder</label><div class=\"sk-toggleable__content\"><pre>[&#x27;LargestPropertyUseTypeGFA&#x27;, &#x27;SecondLargestPropertyUseTypeGFA&#x27;, &#x27;ThirdLargestPropertyUseTypeGFA&#x27;, &#x27;Electricity_p&#x27;, &#x27;Latitude&#x27;, &#x27;Longitude&#x27;, &#x27;NonResidentialGFA&#x27;, &#x27;PropertyGFAParking&#x27;, &#x27;PropertyGFABuilding(s)&#x27;, &#x27;ENERGYSTARScore&#x27;]</pre></div></div></div><div class=\"sk-serial\"><div class=\"sk-item\"><div class=\"sk-estimator sk-toggleable\"><input class=\"sk-toggleable__control sk-hidden--visually\" id=\"a1db42a8-71af-4fa1-9c13-ea8f8c72c666\" type=\"checkbox\" ><label for=\"a1db42a8-71af-4fa1-9c13-ea8f8c72c666\" class=\"sk-toggleable__label sk-toggleable__label-arrow\">passthrough</label><div class=\"sk-toggleable__content\"><pre>passthrough</pre></div></div></div></div></div></div></div></div></div></div><div class=\"sk-item sk-dashed-wrapped\"><div class=\"sk-label-container\"><div class=\"sk-label sk-toggleable\"><input class=\"sk-toggleable__control sk-hidden--visually\" id=\"6399281a-2e97-41b4-9fe1-20f9843b3b23\" type=\"checkbox\" ><label for=\"6399281a-2e97-41b4-9fe1-20f9843b3b23\" class=\"sk-toggleable__label sk-toggleable__label-arrow\">regressor: AdaBoostRegressor</label><div class=\"sk-toggleable__content\"><pre>AdaBoostRegressor(base_estimator=DecisionTreeRegressor(max_depth=50,\n",
       "                                                       min_samples_leaf=5),\n",
       "                  learning_rate=1, n_estimators=20)</pre></div></div></div><div class=\"sk-parallel\"><div class=\"sk-parallel-item\"><div class=\"sk-item\"><div class=\"sk-serial\"><div class=\"sk-item\"><div class=\"sk-estimator sk-toggleable\"><input class=\"sk-toggleable__control sk-hidden--visually\" id=\"8dc2d1fb-eade-4d96-9698-437acced388c\" type=\"checkbox\" ><label for=\"8dc2d1fb-eade-4d96-9698-437acced388c\" class=\"sk-toggleable__label sk-toggleable__label-arrow\">DecisionTreeRegressor</label><div class=\"sk-toggleable__content\"><pre>DecisionTreeRegressor(max_depth=50, min_samples_leaf=5)</pre></div></div></div></div></div></div></div></div></div></div></div></div>"
      ],
      "text/plain": [
       "Pipeline(steps=[('tree_feature_engineering',\n",
       "                 Pipeline(steps=[('tree_preprocessor',\n",
       "                                  ColumnTransformer(remainder='passthrough',\n",
       "                                                    transformers=[('cat',\n",
       "                                                                   Pipeline(steps=[('one_hot',\n",
       "                                                                                    OneHotEncoder(handle_unknown='ignore'))]),\n",
       "                                                                   ['PrimaryPropertyType',\n",
       "                                                                    'LargestPropertyUseType'])]))])),\n",
       "                ('regressor',\n",
       "                 AdaBoostRegressor(base_estimator=DecisionTreeRegressor(max_depth=50,\n",
       "                                                                        min_samples_leaf=5),\n",
       "                                   learning_rate=1, n_estimators=20))])"
      ]
     },
     "execution_count": 64,
     "metadata": {},
     "output_type": "execute_result"
    }
   ],
   "source": [
    "tree_adaboost_grid_search.fit(X_train, y_train)\n",
    "ada_tree.set_params(**tree_adaboost_grid_search.best_params_).fit(X_train, y_train)"
   ]
  },
  {
   "cell_type": "code",
   "execution_count": 65,
   "id": "d264a8da",
   "metadata": {},
   "outputs": [
    {
     "data": {
      "text/plain": [
       "{'regressor__base_estimator__max_depth': 50,\n",
       " 'regressor__base_estimator__min_samples_leaf': 5,\n",
       " 'regressor__learning_rate': 1,\n",
       " 'regressor__n_estimators': 20}"
      ]
     },
     "execution_count": 65,
     "metadata": {},
     "output_type": "execute_result"
    }
   ],
   "source": [
    "tree_adaboost_grid_search.best_params_"
   ]
  },
  {
   "cell_type": "code",
   "execution_count": 66,
   "id": "bdea0dc3",
   "metadata": {},
   "outputs": [
    {
     "data": {
      "text/plain": [
       "[DecisionTreeRegressor(max_depth=50, min_samples_leaf=5, random_state=553393426),\n",
       " DecisionTreeRegressor(max_depth=50, min_samples_leaf=5, random_state=631741136),\n",
       " DecisionTreeRegressor(max_depth=50, min_samples_leaf=5, random_state=1374396696),\n",
       " DecisionTreeRegressor(max_depth=50, min_samples_leaf=5, random_state=704225320),\n",
       " DecisionTreeRegressor(max_depth=50, min_samples_leaf=5, random_state=606238131),\n",
       " DecisionTreeRegressor(max_depth=50, min_samples_leaf=5, random_state=801471219),\n",
       " DecisionTreeRegressor(max_depth=50, min_samples_leaf=5, random_state=673434130),\n",
       " DecisionTreeRegressor(max_depth=50, min_samples_leaf=5, random_state=676451884),\n",
       " DecisionTreeRegressor(max_depth=50, min_samples_leaf=5, random_state=1894692222),\n",
       " DecisionTreeRegressor(max_depth=50, min_samples_leaf=5, random_state=1419320619),\n",
       " DecisionTreeRegressor(max_depth=50, min_samples_leaf=5, random_state=1795537875),\n",
       " DecisionTreeRegressor(max_depth=50, min_samples_leaf=5, random_state=839370779),\n",
       " DecisionTreeRegressor(max_depth=50, min_samples_leaf=5, random_state=80063250),\n",
       " DecisionTreeRegressor(max_depth=50, min_samples_leaf=5, random_state=981075299),\n",
       " DecisionTreeRegressor(max_depth=50, min_samples_leaf=5, random_state=868793858),\n",
       " DecisionTreeRegressor(max_depth=50, min_samples_leaf=5, random_state=569257666),\n",
       " DecisionTreeRegressor(max_depth=50, min_samples_leaf=5, random_state=706193962),\n",
       " DecisionTreeRegressor(max_depth=50, min_samples_leaf=5, random_state=616056000),\n",
       " DecisionTreeRegressor(max_depth=50, min_samples_leaf=5, random_state=246361140),\n",
       " DecisionTreeRegressor(max_depth=50, min_samples_leaf=5, random_state=1567802360)]"
      ]
     },
     "execution_count": 66,
     "metadata": {},
     "output_type": "execute_result"
    }
   ],
   "source": [
    "ada_tree[-1].estimators_"
   ]
  },
  {
   "cell_type": "code",
   "execution_count": 67,
   "id": "12a3fb74",
   "metadata": {},
   "outputs": [
    {
     "data": {
      "text/plain": [
       "array([3.04958329, 2.97080447, 3.02379045, 2.19044897, 2.76200522,\n",
       "       2.8372603 , 3.07093654, 3.20336293, 3.18727965, 3.20557633,\n",
       "       2.64586864, 2.36879097, 2.29565597, 3.09300533, 3.28746964,\n",
       "       2.84698042, 3.10683357, 2.43590807, 2.33711693, 2.99096989])"
      ]
     },
     "execution_count": 67,
     "metadata": {},
     "output_type": "execute_result"
    }
   ],
   "source": [
    "ada_tree[-1].estimator_weights_"
   ]
  },
  {
   "cell_type": "code",
   "execution_count": 68,
   "id": "7bc233c7",
   "metadata": {},
   "outputs": [
    {
     "data": {
      "text/plain": [
       "array([0.04523547, 0.04876239, 0.0463626 , 0.10061146, 0.05941221,\n",
       "       0.0553436 , 0.04432214, 0.03903937, 0.03964723, 0.03895641,\n",
       "       0.0662441 , 0.08558371, 0.09148337, 0.0433967 , 0.03600356,\n",
       "       0.05483761, 0.04282626, 0.08047519, 0.08809525, 0.04783549])"
      ]
     },
     "execution_count": 68,
     "metadata": {},
     "output_type": "execute_result"
    }
   ],
   "source": [
    "ada_tree[-1].estimator_errors_"
   ]
  },
  {
   "cell_type": "code",
   "execution_count": 69,
   "id": "7a59fb2f",
   "metadata": {},
   "outputs": [
    {
     "data": {
      "text/html": [
       "<div>\n",
       "<style scoped>\n",
       "    .dataframe tbody tr th:only-of-type {\n",
       "        vertical-align: middle;\n",
       "    }\n",
       "\n",
       "    .dataframe tbody tr th {\n",
       "        vertical-align: top;\n",
       "    }\n",
       "\n",
       "    .dataframe thead th {\n",
       "        text-align: right;\n",
       "    }\n",
       "</style>\n",
       "<table border=\"1\" class=\"dataframe\">\n",
       "  <thead>\n",
       "    <tr style=\"text-align: right;\">\n",
       "      <th></th>\n",
       "      <th>Modele</th>\n",
       "      <th>Ensembliste</th>\n",
       "      <th>Target</th>\n",
       "      <th>Train_RMSE</th>\n",
       "      <th>Test_RMSE</th>\n",
       "      <th>Train_R2</th>\n",
       "      <th>Test_R2</th>\n",
       "      <th>Commentaires</th>\n",
       "    </tr>\n",
       "  </thead>\n",
       "  <tbody>\n",
       "    <tr>\n",
       "      <th>0</th>\n",
       "      <td>DummyRegressor</td>\n",
       "      <td>non</td>\n",
       "      <td>TotalGHGEmissions</td>\n",
       "      <td>0.67</td>\n",
       "      <td>0.63</td>\n",
       "      <td>0.00</td>\n",
       "      <td>-0.00</td>\n",
       "      <td></td>\n",
       "    </tr>\n",
       "    <tr>\n",
       "      <th>1</th>\n",
       "      <td>Lasso</td>\n",
       "      <td>non</td>\n",
       "      <td>TotalGHGEmissions</td>\n",
       "      <td>0.37</td>\n",
       "      <td>0.33</td>\n",
       "      <td>0.69</td>\n",
       "      <td>0.73</td>\n",
       "      <td></td>\n",
       "    </tr>\n",
       "    <tr>\n",
       "      <th>2</th>\n",
       "      <td>LinearRegression</td>\n",
       "      <td>non</td>\n",
       "      <td>TotalGHGEmissions</td>\n",
       "      <td>0.37</td>\n",
       "      <td>0.32</td>\n",
       "      <td>0.70</td>\n",
       "      <td>0.74</td>\n",
       "      <td></td>\n",
       "    </tr>\n",
       "    <tr>\n",
       "      <th>3</th>\n",
       "      <td>Ridge</td>\n",
       "      <td>non</td>\n",
       "      <td>TotalGHGEmissions</td>\n",
       "      <td>0.37</td>\n",
       "      <td>0.33</td>\n",
       "      <td>0.69</td>\n",
       "      <td>0.73</td>\n",
       "      <td></td>\n",
       "    </tr>\n",
       "    <tr>\n",
       "      <th>4</th>\n",
       "      <td>DecisionTreeRegressor</td>\n",
       "      <td>non</td>\n",
       "      <td>TotalGHGEmissions</td>\n",
       "      <td>0.22</td>\n",
       "      <td>0.44</td>\n",
       "      <td>0.89</td>\n",
       "      <td>0.52</td>\n",
       "      <td></td>\n",
       "    </tr>\n",
       "    <tr>\n",
       "      <th>5</th>\n",
       "      <td>BaggingRegressor</td>\n",
       "      <td>DecisionTreeRegressor</td>\n",
       "      <td>TotalGHGEmissions</td>\n",
       "      <td>0.39</td>\n",
       "      <td>0.36</td>\n",
       "      <td>0.66</td>\n",
       "      <td>0.68</td>\n",
       "      <td>avec arret précoce</td>\n",
       "    </tr>\n",
       "    <tr>\n",
       "      <th>6</th>\n",
       "      <td>AdaBoostRegressor</td>\n",
       "      <td>LinearRegression</td>\n",
       "      <td>TotalGHGEmissions</td>\n",
       "      <td>0.29</td>\n",
       "      <td>0.40</td>\n",
       "      <td>0.81</td>\n",
       "      <td>0.60</td>\n",
       "      <td></td>\n",
       "    </tr>\n",
       "    <tr>\n",
       "      <th>7</th>\n",
       "      <td>AdaBoostRegressor</td>\n",
       "      <td>DecisionTreeRegressor</td>\n",
       "      <td>TotalGHGEmissions</td>\n",
       "      <td>0.12</td>\n",
       "      <td>0.30</td>\n",
       "      <td>0.97</td>\n",
       "      <td>0.78</td>\n",
       "      <td></td>\n",
       "    </tr>\n",
       "  </tbody>\n",
       "</table>\n",
       "</div>"
      ],
      "text/plain": [
       "                  Modele            Ensembliste             Target  \\\n",
       "0         DummyRegressor                    non  TotalGHGEmissions   \n",
       "1                  Lasso                    non  TotalGHGEmissions   \n",
       "2       LinearRegression                    non  TotalGHGEmissions   \n",
       "3                  Ridge                    non  TotalGHGEmissions   \n",
       "4  DecisionTreeRegressor                    non  TotalGHGEmissions   \n",
       "5       BaggingRegressor  DecisionTreeRegressor  TotalGHGEmissions   \n",
       "6      AdaBoostRegressor       LinearRegression  TotalGHGEmissions   \n",
       "7      AdaBoostRegressor  DecisionTreeRegressor  TotalGHGEmissions   \n",
       "\n",
       "   Train_RMSE  Test_RMSE  Train_R2  Test_R2        Commentaires  \n",
       "0        0.67       0.63      0.00    -0.00                      \n",
       "1        0.37       0.33      0.69     0.73                      \n",
       "2        0.37       0.32      0.70     0.74                      \n",
       "3        0.37       0.33      0.69     0.73                      \n",
       "4        0.22       0.44      0.89     0.52                      \n",
       "5        0.39       0.36      0.66     0.68  avec arret précoce  \n",
       "6        0.29       0.40      0.81     0.60                      \n",
       "7        0.12       0.30      0.97     0.78                      "
      ]
     },
     "execution_count": 69,
     "metadata": {},
     "output_type": "execute_result"
    }
   ],
   "source": [
    "\n",
    "df_summary = summary(ada_tree, df_summary,X_train, X_test, y_train, y_test,\n",
    "                     ensembliste = \"DecisionTreeRegressor\")\n",
    "df_summary"
   ]
  },
  {
   "cell_type": "code",
   "execution_count": 92,
   "id": "bfa4d139",
   "metadata": {},
   "outputs": [],
   "source": [
    "ada_tree_y_pred = ada_tree.predict(X_test)\n",
    "residu_ada_tree = y_test - ada_tree_y_pred"
   ]
  },
  {
   "cell_type": "markdown",
   "id": "5c7b75f9",
   "metadata": {},
   "source": [
    "## 2.2.3 GradientBoostingRegressor"
   ]
  },
  {
   "cell_type": "code",
   "execution_count": 70,
   "id": "05512a2f",
   "metadata": {},
   "outputs": [],
   "source": [
    "from sklearn.ensemble import GradientBoostingRegressor\n",
    "#Rappel : par default GBR utilise l'estimator decisionTree (max_depth = 2)\n",
    "gbrt = GradientBoostingRegressor()"
   ]
  },
  {
   "cell_type": "code",
   "execution_count": 71,
   "id": "663becaa",
   "metadata": {},
   "outputs": [
    {
     "data": {
      "text/plain": [
       "<function sklearn.ensemble._gb.GradientBoostingRegressor.__init__(self, *, loss='squared_error', learning_rate=0.1, n_estimators=100, subsample=1.0, criterion='friedman_mse', min_samples_split=2, min_samples_leaf=1, min_weight_fraction_leaf=0.0, max_depth=3, min_impurity_decrease=0.0, init=None, random_state=None, max_features=None, alpha=0.9, verbose=0, max_leaf_nodes=None, warm_start=False, validation_fraction=0.1, n_iter_no_change=None, tol=0.0001, ccp_alpha=0.0)>"
      ]
     },
     "execution_count": 71,
     "metadata": {},
     "output_type": "execute_result"
    }
   ],
   "source": [
    "#valeur defaut\n",
    "GradientBoostingRegressor.__init__"
   ]
  },
  {
   "cell_type": "code",
   "execution_count": 72,
   "id": "a647c24c",
   "metadata": {},
   "outputs": [],
   "source": [
    "estimateur = GradientBoostingRegressor()\n",
    "modele = Pipeline(steps = [\n",
    "    ('tree_feature_engineering', tree_feature_engineering),\n",
    "    ( 'regressor',GradientBoostingRegressor())\n",
    "])"
   ]
  },
  {
   "cell_type": "code",
   "execution_count": 73,
   "id": "e73a446a",
   "metadata": {},
   "outputs": [],
   "source": [
    "#parametrage\n",
    "param_grid = {'regressor__n_estimators': [210,220],\n",
    "              'regressor__max_depth' : range(2,5),\n",
    "              'regressor__learning_rate' : [0.8,0.9],\n",
    "              'regressor__min_samples_split': [5,8]}\n",
    "\n",
    "tree_gradboost_grid_search=GridSearchCV(\n",
    "    modele,\n",
    "    param_grid,\n",
    "    cv = 6,\n",
    "    n_jobs = -1,\n",
    "    verbose =1)"
   ]
  },
  {
   "cell_type": "code",
   "execution_count": 74,
   "id": "3673196b",
   "metadata": {},
   "outputs": [
    {
     "name": "stdout",
     "output_type": "stream",
     "text": [
      "Fitting 6 folds for each of 24 candidates, totalling 144 fits\n"
     ]
    },
    {
     "data": {
      "text/html": [
       "<style>#sk-b73d4d8c-25bc-4517-8fca-cf1619b1de28 {color: black;background-color: white;}#sk-b73d4d8c-25bc-4517-8fca-cf1619b1de28 pre{padding: 0;}#sk-b73d4d8c-25bc-4517-8fca-cf1619b1de28 div.sk-toggleable {background-color: white;}#sk-b73d4d8c-25bc-4517-8fca-cf1619b1de28 label.sk-toggleable__label {cursor: pointer;display: block;width: 100%;margin-bottom: 0;padding: 0.3em;box-sizing: border-box;text-align: center;}#sk-b73d4d8c-25bc-4517-8fca-cf1619b1de28 label.sk-toggleable__label-arrow:before {content: \"▸\";float: left;margin-right: 0.25em;color: #696969;}#sk-b73d4d8c-25bc-4517-8fca-cf1619b1de28 label.sk-toggleable__label-arrow:hover:before {color: black;}#sk-b73d4d8c-25bc-4517-8fca-cf1619b1de28 div.sk-estimator:hover label.sk-toggleable__label-arrow:before {color: black;}#sk-b73d4d8c-25bc-4517-8fca-cf1619b1de28 div.sk-toggleable__content {max-height: 0;max-width: 0;overflow: hidden;text-align: left;background-color: #f0f8ff;}#sk-b73d4d8c-25bc-4517-8fca-cf1619b1de28 div.sk-toggleable__content pre {margin: 0.2em;color: black;border-radius: 0.25em;background-color: #f0f8ff;}#sk-b73d4d8c-25bc-4517-8fca-cf1619b1de28 input.sk-toggleable__control:checked~div.sk-toggleable__content {max-height: 200px;max-width: 100%;overflow: auto;}#sk-b73d4d8c-25bc-4517-8fca-cf1619b1de28 input.sk-toggleable__control:checked~label.sk-toggleable__label-arrow:before {content: \"▾\";}#sk-b73d4d8c-25bc-4517-8fca-cf1619b1de28 div.sk-estimator input.sk-toggleable__control:checked~label.sk-toggleable__label {background-color: #d4ebff;}#sk-b73d4d8c-25bc-4517-8fca-cf1619b1de28 div.sk-label input.sk-toggleable__control:checked~label.sk-toggleable__label {background-color: #d4ebff;}#sk-b73d4d8c-25bc-4517-8fca-cf1619b1de28 input.sk-hidden--visually {border: 0;clip: rect(1px 1px 1px 1px);clip: rect(1px, 1px, 1px, 1px);height: 1px;margin: -1px;overflow: hidden;padding: 0;position: absolute;width: 1px;}#sk-b73d4d8c-25bc-4517-8fca-cf1619b1de28 div.sk-estimator {font-family: monospace;background-color: #f0f8ff;border: 1px dotted black;border-radius: 0.25em;box-sizing: border-box;margin-bottom: 0.5em;}#sk-b73d4d8c-25bc-4517-8fca-cf1619b1de28 div.sk-estimator:hover {background-color: #d4ebff;}#sk-b73d4d8c-25bc-4517-8fca-cf1619b1de28 div.sk-parallel-item::after {content: \"\";width: 100%;border-bottom: 1px solid gray;flex-grow: 1;}#sk-b73d4d8c-25bc-4517-8fca-cf1619b1de28 div.sk-label:hover label.sk-toggleable__label {background-color: #d4ebff;}#sk-b73d4d8c-25bc-4517-8fca-cf1619b1de28 div.sk-serial::before {content: \"\";position: absolute;border-left: 1px solid gray;box-sizing: border-box;top: 2em;bottom: 0;left: 50%;}#sk-b73d4d8c-25bc-4517-8fca-cf1619b1de28 div.sk-serial {display: flex;flex-direction: column;align-items: center;background-color: white;padding-right: 0.2em;padding-left: 0.2em;}#sk-b73d4d8c-25bc-4517-8fca-cf1619b1de28 div.sk-item {z-index: 1;}#sk-b73d4d8c-25bc-4517-8fca-cf1619b1de28 div.sk-parallel {display: flex;align-items: stretch;justify-content: center;background-color: white;}#sk-b73d4d8c-25bc-4517-8fca-cf1619b1de28 div.sk-parallel::before {content: \"\";position: absolute;border-left: 1px solid gray;box-sizing: border-box;top: 2em;bottom: 0;left: 50%;}#sk-b73d4d8c-25bc-4517-8fca-cf1619b1de28 div.sk-parallel-item {display: flex;flex-direction: column;position: relative;background-color: white;}#sk-b73d4d8c-25bc-4517-8fca-cf1619b1de28 div.sk-parallel-item:first-child::after {align-self: flex-end;width: 50%;}#sk-b73d4d8c-25bc-4517-8fca-cf1619b1de28 div.sk-parallel-item:last-child::after {align-self: flex-start;width: 50%;}#sk-b73d4d8c-25bc-4517-8fca-cf1619b1de28 div.sk-parallel-item:only-child::after {width: 0;}#sk-b73d4d8c-25bc-4517-8fca-cf1619b1de28 div.sk-dashed-wrapped {border: 1px dashed gray;margin: 0 0.4em 0.5em 0.4em;box-sizing: border-box;padding-bottom: 0.4em;background-color: white;position: relative;}#sk-b73d4d8c-25bc-4517-8fca-cf1619b1de28 div.sk-label label {font-family: monospace;font-weight: bold;background-color: white;display: inline-block;line-height: 1.2em;}#sk-b73d4d8c-25bc-4517-8fca-cf1619b1de28 div.sk-label-container {position: relative;z-index: 2;text-align: center;}#sk-b73d4d8c-25bc-4517-8fca-cf1619b1de28 div.sk-container {/* jupyter's `normalize.less` sets `[hidden] { display: none; }` but bootstrap.min.css set `[hidden] { display: none !important; }` so we also need the `!important` here to be able to override the default hidden behavior on the sphinx rendered scikit-learn.org. See: https://github.com/scikit-learn/scikit-learn/issues/21755 */display: inline-block !important;position: relative;}#sk-b73d4d8c-25bc-4517-8fca-cf1619b1de28 div.sk-text-repr-fallback {display: none;}</style><div id=\"sk-b73d4d8c-25bc-4517-8fca-cf1619b1de28\" class=\"sk-top-container\"><div class=\"sk-text-repr-fallback\"><pre>GridSearchCV(cv=6,\n",
       "             estimator=Pipeline(steps=[(&#x27;tree_feature_engineering&#x27;,\n",
       "                                        Pipeline(steps=[(&#x27;tree_preprocessor&#x27;,\n",
       "                                                         ColumnTransformer(remainder=&#x27;passthrough&#x27;,\n",
       "                                                                           transformers=[(&#x27;cat&#x27;,\n",
       "                                                                                          Pipeline(steps=[(&#x27;one_hot&#x27;,\n",
       "                                                                                                           OneHotEncoder(handle_unknown=&#x27;ignore&#x27;))]),\n",
       "                                                                                          [&#x27;PrimaryPropertyType&#x27;,\n",
       "                                                                                           &#x27;LargestPropertyUseType&#x27;])]))])),\n",
       "                                       (&#x27;regressor&#x27;,\n",
       "                                        GradientBoostingRegressor())]),\n",
       "             n_jobs=-1,\n",
       "             param_grid={&#x27;regressor__learning_rate&#x27;: [0.8, 0.9],\n",
       "                         &#x27;regressor__max_depth&#x27;: range(2, 5),\n",
       "                         &#x27;regressor__min_samples_split&#x27;: [5, 8],\n",
       "                         &#x27;regressor__n_estimators&#x27;: [210, 220]},\n",
       "             verbose=1)</pre><b>Please rerun this cell to show the HTML repr or trust the notebook.</b></div><div class=\"sk-container\" hidden><div class=\"sk-item sk-dashed-wrapped\"><div class=\"sk-label-container\"><div class=\"sk-label sk-toggleable\"><input class=\"sk-toggleable__control sk-hidden--visually\" id=\"0332cfab-823e-473e-afd4-f769c9e9c3d1\" type=\"checkbox\" ><label for=\"0332cfab-823e-473e-afd4-f769c9e9c3d1\" class=\"sk-toggleable__label sk-toggleable__label-arrow\">GridSearchCV</label><div class=\"sk-toggleable__content\"><pre>GridSearchCV(cv=6,\n",
       "             estimator=Pipeline(steps=[(&#x27;tree_feature_engineering&#x27;,\n",
       "                                        Pipeline(steps=[(&#x27;tree_preprocessor&#x27;,\n",
       "                                                         ColumnTransformer(remainder=&#x27;passthrough&#x27;,\n",
       "                                                                           transformers=[(&#x27;cat&#x27;,\n",
       "                                                                                          Pipeline(steps=[(&#x27;one_hot&#x27;,\n",
       "                                                                                                           OneHotEncoder(handle_unknown=&#x27;ignore&#x27;))]),\n",
       "                                                                                          [&#x27;PrimaryPropertyType&#x27;,\n",
       "                                                                                           &#x27;LargestPropertyUseType&#x27;])]))])),\n",
       "                                       (&#x27;regressor&#x27;,\n",
       "                                        GradientBoostingRegressor())]),\n",
       "             n_jobs=-1,\n",
       "             param_grid={&#x27;regressor__learning_rate&#x27;: [0.8, 0.9],\n",
       "                         &#x27;regressor__max_depth&#x27;: range(2, 5),\n",
       "                         &#x27;regressor__min_samples_split&#x27;: [5, 8],\n",
       "                         &#x27;regressor__n_estimators&#x27;: [210, 220]},\n",
       "             verbose=1)</pre></div></div></div><div class=\"sk-parallel\"><div class=\"sk-parallel-item\"><div class=\"sk-item\"><div class=\"sk-serial\"><div class=\"sk-item\"><div class=\"sk-serial\"><div class=\"sk-item\"><div class=\"sk-label-container\"><div class=\"sk-label sk-toggleable\"><input class=\"sk-toggleable__control sk-hidden--visually\" id=\"e9ae9dff-1695-43c3-8313-f38c6ff18738\" type=\"checkbox\" ><label for=\"e9ae9dff-1695-43c3-8313-f38c6ff18738\" class=\"sk-toggleable__label sk-toggleable__label-arrow\">tree_feature_engineering: Pipeline</label><div class=\"sk-toggleable__content\"><pre>Pipeline(steps=[(&#x27;tree_preprocessor&#x27;,\n",
       "                 ColumnTransformer(remainder=&#x27;passthrough&#x27;,\n",
       "                                   transformers=[(&#x27;cat&#x27;,\n",
       "                                                  Pipeline(steps=[(&#x27;one_hot&#x27;,\n",
       "                                                                   OneHotEncoder(handle_unknown=&#x27;ignore&#x27;))]),\n",
       "                                                  [&#x27;PrimaryPropertyType&#x27;,\n",
       "                                                   &#x27;LargestPropertyUseType&#x27;])]))])</pre></div></div></div><div class=\"sk-serial\"><div class=\"sk-item sk-dashed-wrapped\"><div class=\"sk-label-container\"><div class=\"sk-label sk-toggleable\"><input class=\"sk-toggleable__control sk-hidden--visually\" id=\"9894f373-ffd2-40c1-865d-aa25c3d919ba\" type=\"checkbox\" ><label for=\"9894f373-ffd2-40c1-865d-aa25c3d919ba\" class=\"sk-toggleable__label sk-toggleable__label-arrow\">tree_preprocessor: ColumnTransformer</label><div class=\"sk-toggleable__content\"><pre>ColumnTransformer(remainder=&#x27;passthrough&#x27;,\n",
       "                  transformers=[(&#x27;cat&#x27;,\n",
       "                                 Pipeline(steps=[(&#x27;one_hot&#x27;,\n",
       "                                                  OneHotEncoder(handle_unknown=&#x27;ignore&#x27;))]),\n",
       "                                 [&#x27;PrimaryPropertyType&#x27;,\n",
       "                                  &#x27;LargestPropertyUseType&#x27;])])</pre></div></div></div><div class=\"sk-parallel\"><div class=\"sk-parallel-item\"><div class=\"sk-item\"><div class=\"sk-label-container\"><div class=\"sk-label sk-toggleable\"><input class=\"sk-toggleable__control sk-hidden--visually\" id=\"4f06741d-6b18-4ff6-aad8-a2592a8c3dc1\" type=\"checkbox\" ><label for=\"4f06741d-6b18-4ff6-aad8-a2592a8c3dc1\" class=\"sk-toggleable__label sk-toggleable__label-arrow\">cat</label><div class=\"sk-toggleable__content\"><pre>[&#x27;PrimaryPropertyType&#x27;, &#x27;LargestPropertyUseType&#x27;]</pre></div></div></div><div class=\"sk-serial\"><div class=\"sk-item\"><div class=\"sk-serial\"><div class=\"sk-item\"><div class=\"sk-estimator sk-toggleable\"><input class=\"sk-toggleable__control sk-hidden--visually\" id=\"2f061b65-f9e8-4f7d-b171-13d662bd26a1\" type=\"checkbox\" ><label for=\"2f061b65-f9e8-4f7d-b171-13d662bd26a1\" class=\"sk-toggleable__label sk-toggleable__label-arrow\">OneHotEncoder</label><div class=\"sk-toggleable__content\"><pre>OneHotEncoder(handle_unknown=&#x27;ignore&#x27;)</pre></div></div></div></div></div></div></div></div><div class=\"sk-parallel-item\"><div class=\"sk-item\"><div class=\"sk-label-container\"><div class=\"sk-label sk-toggleable\"><input class=\"sk-toggleable__control sk-hidden--visually\" id=\"31671959-bd2f-44bd-942e-037849dcc2af\" type=\"checkbox\" ><label for=\"31671959-bd2f-44bd-942e-037849dcc2af\" class=\"sk-toggleable__label sk-toggleable__label-arrow\">remainder</label><div class=\"sk-toggleable__content\"><pre>[&#x27;LargestPropertyUseTypeGFA&#x27;, &#x27;SecondLargestPropertyUseTypeGFA&#x27;, &#x27;ThirdLargestPropertyUseTypeGFA&#x27;, &#x27;Electricity_p&#x27;, &#x27;Latitude&#x27;, &#x27;Longitude&#x27;, &#x27;NonResidentialGFA&#x27;, &#x27;PropertyGFAParking&#x27;, &#x27;PropertyGFABuilding(s)&#x27;, &#x27;ENERGYSTARScore&#x27;]</pre></div></div></div><div class=\"sk-serial\"><div class=\"sk-item\"><div class=\"sk-estimator sk-toggleable\"><input class=\"sk-toggleable__control sk-hidden--visually\" id=\"03046b67-3a2d-4f62-ba45-54c261ca81e0\" type=\"checkbox\" ><label for=\"03046b67-3a2d-4f62-ba45-54c261ca81e0\" class=\"sk-toggleable__label sk-toggleable__label-arrow\">passthrough</label><div class=\"sk-toggleable__content\"><pre>passthrough</pre></div></div></div></div></div></div></div></div></div></div><div class=\"sk-item\"><div class=\"sk-estimator sk-toggleable\"><input class=\"sk-toggleable__control sk-hidden--visually\" id=\"0192474d-1730-4279-ba3b-8ff11fcf2e42\" type=\"checkbox\" ><label for=\"0192474d-1730-4279-ba3b-8ff11fcf2e42\" class=\"sk-toggleable__label sk-toggleable__label-arrow\">GradientBoostingRegressor</label><div class=\"sk-toggleable__content\"><pre>GradientBoostingRegressor()</pre></div></div></div></div></div></div></div></div></div></div></div></div>"
      ],
      "text/plain": [
       "GridSearchCV(cv=6,\n",
       "             estimator=Pipeline(steps=[('tree_feature_engineering',\n",
       "                                        Pipeline(steps=[('tree_preprocessor',\n",
       "                                                         ColumnTransformer(remainder='passthrough',\n",
       "                                                                           transformers=[('cat',\n",
       "                                                                                          Pipeline(steps=[('one_hot',\n",
       "                                                                                                           OneHotEncoder(handle_unknown='ignore'))]),\n",
       "                                                                                          ['PrimaryPropertyType',\n",
       "                                                                                           'LargestPropertyUseType'])]))])),\n",
       "                                       ('regressor',\n",
       "                                        GradientBoostingRegressor())]),\n",
       "             n_jobs=-1,\n",
       "             param_grid={'regressor__learning_rate': [0.8, 0.9],\n",
       "                         'regressor__max_depth': range(2, 5),\n",
       "                         'regressor__min_samples_split': [5, 8],\n",
       "                         'regressor__n_estimators': [210, 220]},\n",
       "             verbose=1)"
      ]
     },
     "execution_count": 74,
     "metadata": {},
     "output_type": "execute_result"
    }
   ],
   "source": [
    "tree_gradboost_grid_search.fit(X_train, y_train)"
   ]
  },
  {
   "cell_type": "code",
   "execution_count": 75,
   "id": "bd9201e2",
   "metadata": {},
   "outputs": [
    {
     "data": {
      "text/plain": [
       "{'regressor__learning_rate': 0.8,\n",
       " 'regressor__max_depth': 3,\n",
       " 'regressor__min_samples_split': 5,\n",
       " 'regressor__n_estimators': 210}"
      ]
     },
     "execution_count": 75,
     "metadata": {},
     "output_type": "execute_result"
    }
   ],
   "source": [
    "tree_gradboost_grid_search.best_params_"
   ]
  },
  {
   "cell_type": "code",
   "execution_count": 76,
   "id": "714d052b",
   "metadata": {
    "scrolled": false
   },
   "outputs": [],
   "source": [
    "modele.set_params(**tree_gradboost_grid_search.best_params_).fit(X_train, y_train)\n",
    "df_summary = summary(modele, df_summary,X_train, X_test, y_train, y_test,\n",
    "                     ensembliste = \"DecisionTreeRegressor\")\n"
   ]
  },
  {
   "cell_type": "code",
   "execution_count": 77,
   "id": "e37bc8c0",
   "metadata": {},
   "outputs": [],
   "source": [
    "estimateur = DecisionTreeRegressor()\n",
    "modele = Pipeline(steps = [\n",
    "    ('tree_feature_engineering', tree_feature_engineering),\n",
    "    ('regressor', AdaBoostRegressor(estimateur))\n",
    "])"
   ]
  },
  {
   "cell_type": "code",
   "execution_count": 78,
   "id": "dcaeb098",
   "metadata": {},
   "outputs": [],
   "source": [
    "#parametrage\n",
    "param_grid = {'regressor__learning_rate': [0.1,0.5,1],\n",
    "              'regressor__n_estimators' :[10,20,30],\n",
    "              'regressor__base_estimator__max_depth' : [30,40,50],\n",
    "              'regressor__base_estimator__min_samples_leaf' : [1,3,5,10]}\n",
    "\n",
    "tree_adaboost_grid_search = GridSearchCV(\n",
    "    estimator=modele,\n",
    "    param_grid=param_grid,\n",
    "    scoring='neg_root_mean_squared_error',\n",
    "    cv=5,\n",
    "    n_jobs = -1,\n",
    "    verbose = -1\n",
    ")"
   ]
  },
  {
   "cell_type": "code",
   "execution_count": 79,
   "id": "e21ede37",
   "metadata": {},
   "outputs": [
    {
     "data": {
      "text/html": [
       "<style>#sk-f89f115f-62b2-4a79-86a5-f3b21907d8c3 {color: black;background-color: white;}#sk-f89f115f-62b2-4a79-86a5-f3b21907d8c3 pre{padding: 0;}#sk-f89f115f-62b2-4a79-86a5-f3b21907d8c3 div.sk-toggleable {background-color: white;}#sk-f89f115f-62b2-4a79-86a5-f3b21907d8c3 label.sk-toggleable__label {cursor: pointer;display: block;width: 100%;margin-bottom: 0;padding: 0.3em;box-sizing: border-box;text-align: center;}#sk-f89f115f-62b2-4a79-86a5-f3b21907d8c3 label.sk-toggleable__label-arrow:before {content: \"▸\";float: left;margin-right: 0.25em;color: #696969;}#sk-f89f115f-62b2-4a79-86a5-f3b21907d8c3 label.sk-toggleable__label-arrow:hover:before {color: black;}#sk-f89f115f-62b2-4a79-86a5-f3b21907d8c3 div.sk-estimator:hover label.sk-toggleable__label-arrow:before {color: black;}#sk-f89f115f-62b2-4a79-86a5-f3b21907d8c3 div.sk-toggleable__content {max-height: 0;max-width: 0;overflow: hidden;text-align: left;background-color: #f0f8ff;}#sk-f89f115f-62b2-4a79-86a5-f3b21907d8c3 div.sk-toggleable__content pre {margin: 0.2em;color: black;border-radius: 0.25em;background-color: #f0f8ff;}#sk-f89f115f-62b2-4a79-86a5-f3b21907d8c3 input.sk-toggleable__control:checked~div.sk-toggleable__content {max-height: 200px;max-width: 100%;overflow: auto;}#sk-f89f115f-62b2-4a79-86a5-f3b21907d8c3 input.sk-toggleable__control:checked~label.sk-toggleable__label-arrow:before {content: \"▾\";}#sk-f89f115f-62b2-4a79-86a5-f3b21907d8c3 div.sk-estimator input.sk-toggleable__control:checked~label.sk-toggleable__label {background-color: #d4ebff;}#sk-f89f115f-62b2-4a79-86a5-f3b21907d8c3 div.sk-label input.sk-toggleable__control:checked~label.sk-toggleable__label {background-color: #d4ebff;}#sk-f89f115f-62b2-4a79-86a5-f3b21907d8c3 input.sk-hidden--visually {border: 0;clip: rect(1px 1px 1px 1px);clip: rect(1px, 1px, 1px, 1px);height: 1px;margin: -1px;overflow: hidden;padding: 0;position: absolute;width: 1px;}#sk-f89f115f-62b2-4a79-86a5-f3b21907d8c3 div.sk-estimator {font-family: monospace;background-color: #f0f8ff;border: 1px dotted black;border-radius: 0.25em;box-sizing: border-box;margin-bottom: 0.5em;}#sk-f89f115f-62b2-4a79-86a5-f3b21907d8c3 div.sk-estimator:hover {background-color: #d4ebff;}#sk-f89f115f-62b2-4a79-86a5-f3b21907d8c3 div.sk-parallel-item::after {content: \"\";width: 100%;border-bottom: 1px solid gray;flex-grow: 1;}#sk-f89f115f-62b2-4a79-86a5-f3b21907d8c3 div.sk-label:hover label.sk-toggleable__label {background-color: #d4ebff;}#sk-f89f115f-62b2-4a79-86a5-f3b21907d8c3 div.sk-serial::before {content: \"\";position: absolute;border-left: 1px solid gray;box-sizing: border-box;top: 2em;bottom: 0;left: 50%;}#sk-f89f115f-62b2-4a79-86a5-f3b21907d8c3 div.sk-serial {display: flex;flex-direction: column;align-items: center;background-color: white;padding-right: 0.2em;padding-left: 0.2em;}#sk-f89f115f-62b2-4a79-86a5-f3b21907d8c3 div.sk-item {z-index: 1;}#sk-f89f115f-62b2-4a79-86a5-f3b21907d8c3 div.sk-parallel {display: flex;align-items: stretch;justify-content: center;background-color: white;}#sk-f89f115f-62b2-4a79-86a5-f3b21907d8c3 div.sk-parallel::before {content: \"\";position: absolute;border-left: 1px solid gray;box-sizing: border-box;top: 2em;bottom: 0;left: 50%;}#sk-f89f115f-62b2-4a79-86a5-f3b21907d8c3 div.sk-parallel-item {display: flex;flex-direction: column;position: relative;background-color: white;}#sk-f89f115f-62b2-4a79-86a5-f3b21907d8c3 div.sk-parallel-item:first-child::after {align-self: flex-end;width: 50%;}#sk-f89f115f-62b2-4a79-86a5-f3b21907d8c3 div.sk-parallel-item:last-child::after {align-self: flex-start;width: 50%;}#sk-f89f115f-62b2-4a79-86a5-f3b21907d8c3 div.sk-parallel-item:only-child::after {width: 0;}#sk-f89f115f-62b2-4a79-86a5-f3b21907d8c3 div.sk-dashed-wrapped {border: 1px dashed gray;margin: 0 0.4em 0.5em 0.4em;box-sizing: border-box;padding-bottom: 0.4em;background-color: white;position: relative;}#sk-f89f115f-62b2-4a79-86a5-f3b21907d8c3 div.sk-label label {font-family: monospace;font-weight: bold;background-color: white;display: inline-block;line-height: 1.2em;}#sk-f89f115f-62b2-4a79-86a5-f3b21907d8c3 div.sk-label-container {position: relative;z-index: 2;text-align: center;}#sk-f89f115f-62b2-4a79-86a5-f3b21907d8c3 div.sk-container {/* jupyter's `normalize.less` sets `[hidden] { display: none; }` but bootstrap.min.css set `[hidden] { display: none !important; }` so we also need the `!important` here to be able to override the default hidden behavior on the sphinx rendered scikit-learn.org. See: https://github.com/scikit-learn/scikit-learn/issues/21755 */display: inline-block !important;position: relative;}#sk-f89f115f-62b2-4a79-86a5-f3b21907d8c3 div.sk-text-repr-fallback {display: none;}</style><div id=\"sk-f89f115f-62b2-4a79-86a5-f3b21907d8c3\" class=\"sk-top-container\"><div class=\"sk-text-repr-fallback\"><pre>Pipeline(steps=[(&#x27;tree_feature_engineering&#x27;,\n",
       "                 Pipeline(steps=[(&#x27;tree_preprocessor&#x27;,\n",
       "                                  ColumnTransformer(remainder=&#x27;passthrough&#x27;,\n",
       "                                                    transformers=[(&#x27;cat&#x27;,\n",
       "                                                                   Pipeline(steps=[(&#x27;one_hot&#x27;,\n",
       "                                                                                    OneHotEncoder(handle_unknown=&#x27;ignore&#x27;))]),\n",
       "                                                                   [&#x27;PrimaryPropertyType&#x27;,\n",
       "                                                                    &#x27;LargestPropertyUseType&#x27;])]))])),\n",
       "                (&#x27;regressor&#x27;,\n",
       "                 AdaBoostRegressor(base_estimator=DecisionTreeRegressor(max_depth=50),\n",
       "                                   learning_rate=1, n_estimators=30))])</pre><b>Please rerun this cell to show the HTML repr or trust the notebook.</b></div><div class=\"sk-container\" hidden><div class=\"sk-item sk-dashed-wrapped\"><div class=\"sk-label-container\"><div class=\"sk-label sk-toggleable\"><input class=\"sk-toggleable__control sk-hidden--visually\" id=\"3daf585d-b56c-4e95-88f8-d3275f219806\" type=\"checkbox\" ><label for=\"3daf585d-b56c-4e95-88f8-d3275f219806\" class=\"sk-toggleable__label sk-toggleable__label-arrow\">Pipeline</label><div class=\"sk-toggleable__content\"><pre>Pipeline(steps=[(&#x27;tree_feature_engineering&#x27;,\n",
       "                 Pipeline(steps=[(&#x27;tree_preprocessor&#x27;,\n",
       "                                  ColumnTransformer(remainder=&#x27;passthrough&#x27;,\n",
       "                                                    transformers=[(&#x27;cat&#x27;,\n",
       "                                                                   Pipeline(steps=[(&#x27;one_hot&#x27;,\n",
       "                                                                                    OneHotEncoder(handle_unknown=&#x27;ignore&#x27;))]),\n",
       "                                                                   [&#x27;PrimaryPropertyType&#x27;,\n",
       "                                                                    &#x27;LargestPropertyUseType&#x27;])]))])),\n",
       "                (&#x27;regressor&#x27;,\n",
       "                 AdaBoostRegressor(base_estimator=DecisionTreeRegressor(max_depth=50),\n",
       "                                   learning_rate=1, n_estimators=30))])</pre></div></div></div><div class=\"sk-serial\"><div class=\"sk-item\"><div class=\"sk-label-container\"><div class=\"sk-label sk-toggleable\"><input class=\"sk-toggleable__control sk-hidden--visually\" id=\"bf634d40-6e0e-4d61-b397-dc574c2ef8d0\" type=\"checkbox\" ><label for=\"bf634d40-6e0e-4d61-b397-dc574c2ef8d0\" class=\"sk-toggleable__label sk-toggleable__label-arrow\">tree_feature_engineering: Pipeline</label><div class=\"sk-toggleable__content\"><pre>Pipeline(steps=[(&#x27;tree_preprocessor&#x27;,\n",
       "                 ColumnTransformer(remainder=&#x27;passthrough&#x27;,\n",
       "                                   transformers=[(&#x27;cat&#x27;,\n",
       "                                                  Pipeline(steps=[(&#x27;one_hot&#x27;,\n",
       "                                                                   OneHotEncoder(handle_unknown=&#x27;ignore&#x27;))]),\n",
       "                                                  [&#x27;PrimaryPropertyType&#x27;,\n",
       "                                                   &#x27;LargestPropertyUseType&#x27;])]))])</pre></div></div></div><div class=\"sk-serial\"><div class=\"sk-item sk-dashed-wrapped\"><div class=\"sk-label-container\"><div class=\"sk-label sk-toggleable\"><input class=\"sk-toggleable__control sk-hidden--visually\" id=\"cf664663-aaa4-4b23-bdbf-717afb19f7e6\" type=\"checkbox\" ><label for=\"cf664663-aaa4-4b23-bdbf-717afb19f7e6\" class=\"sk-toggleable__label sk-toggleable__label-arrow\">tree_preprocessor: ColumnTransformer</label><div class=\"sk-toggleable__content\"><pre>ColumnTransformer(remainder=&#x27;passthrough&#x27;,\n",
       "                  transformers=[(&#x27;cat&#x27;,\n",
       "                                 Pipeline(steps=[(&#x27;one_hot&#x27;,\n",
       "                                                  OneHotEncoder(handle_unknown=&#x27;ignore&#x27;))]),\n",
       "                                 [&#x27;PrimaryPropertyType&#x27;,\n",
       "                                  &#x27;LargestPropertyUseType&#x27;])])</pre></div></div></div><div class=\"sk-parallel\"><div class=\"sk-parallel-item\"><div class=\"sk-item\"><div class=\"sk-label-container\"><div class=\"sk-label sk-toggleable\"><input class=\"sk-toggleable__control sk-hidden--visually\" id=\"320a19b8-0343-4aca-b10c-117eeb8f4aa2\" type=\"checkbox\" ><label for=\"320a19b8-0343-4aca-b10c-117eeb8f4aa2\" class=\"sk-toggleable__label sk-toggleable__label-arrow\">cat</label><div class=\"sk-toggleable__content\"><pre>[&#x27;PrimaryPropertyType&#x27;, &#x27;LargestPropertyUseType&#x27;]</pre></div></div></div><div class=\"sk-serial\"><div class=\"sk-item\"><div class=\"sk-serial\"><div class=\"sk-item\"><div class=\"sk-estimator sk-toggleable\"><input class=\"sk-toggleable__control sk-hidden--visually\" id=\"a8205aff-50d1-4420-86cc-369cea16f13e\" type=\"checkbox\" ><label for=\"a8205aff-50d1-4420-86cc-369cea16f13e\" class=\"sk-toggleable__label sk-toggleable__label-arrow\">OneHotEncoder</label><div class=\"sk-toggleable__content\"><pre>OneHotEncoder(handle_unknown=&#x27;ignore&#x27;)</pre></div></div></div></div></div></div></div></div><div class=\"sk-parallel-item\"><div class=\"sk-item\"><div class=\"sk-label-container\"><div class=\"sk-label sk-toggleable\"><input class=\"sk-toggleable__control sk-hidden--visually\" id=\"9bfb8755-7c6d-49af-aa74-df7fb79ffb20\" type=\"checkbox\" ><label for=\"9bfb8755-7c6d-49af-aa74-df7fb79ffb20\" class=\"sk-toggleable__label sk-toggleable__label-arrow\">remainder</label><div class=\"sk-toggleable__content\"><pre>[&#x27;LargestPropertyUseTypeGFA&#x27;, &#x27;SecondLargestPropertyUseTypeGFA&#x27;, &#x27;ThirdLargestPropertyUseTypeGFA&#x27;, &#x27;Electricity_p&#x27;, &#x27;Latitude&#x27;, &#x27;Longitude&#x27;, &#x27;NonResidentialGFA&#x27;, &#x27;PropertyGFAParking&#x27;, &#x27;PropertyGFABuilding(s)&#x27;, &#x27;ENERGYSTARScore&#x27;]</pre></div></div></div><div class=\"sk-serial\"><div class=\"sk-item\"><div class=\"sk-estimator sk-toggleable\"><input class=\"sk-toggleable__control sk-hidden--visually\" id=\"13c42ef2-3685-4589-a9ae-ae68a4c88a80\" type=\"checkbox\" ><label for=\"13c42ef2-3685-4589-a9ae-ae68a4c88a80\" class=\"sk-toggleable__label sk-toggleable__label-arrow\">passthrough</label><div class=\"sk-toggleable__content\"><pre>passthrough</pre></div></div></div></div></div></div></div></div></div></div><div class=\"sk-item sk-dashed-wrapped\"><div class=\"sk-label-container\"><div class=\"sk-label sk-toggleable\"><input class=\"sk-toggleable__control sk-hidden--visually\" id=\"4d23bc7c-4b1b-4d63-9739-2c109f8016ae\" type=\"checkbox\" ><label for=\"4d23bc7c-4b1b-4d63-9739-2c109f8016ae\" class=\"sk-toggleable__label sk-toggleable__label-arrow\">regressor: AdaBoostRegressor</label><div class=\"sk-toggleable__content\"><pre>AdaBoostRegressor(base_estimator=DecisionTreeRegressor(max_depth=50),\n",
       "                  learning_rate=1, n_estimators=30)</pre></div></div></div><div class=\"sk-parallel\"><div class=\"sk-parallel-item\"><div class=\"sk-item\"><div class=\"sk-serial\"><div class=\"sk-item\"><div class=\"sk-estimator sk-toggleable\"><input class=\"sk-toggleable__control sk-hidden--visually\" id=\"ef09dfbe-249f-42fa-8e15-59d4c46c2eea\" type=\"checkbox\" ><label for=\"ef09dfbe-249f-42fa-8e15-59d4c46c2eea\" class=\"sk-toggleable__label sk-toggleable__label-arrow\">DecisionTreeRegressor</label><div class=\"sk-toggleable__content\"><pre>DecisionTreeRegressor(max_depth=50)</pre></div></div></div></div></div></div></div></div></div></div></div></div>"
      ],
      "text/plain": [
       "Pipeline(steps=[('tree_feature_engineering',\n",
       "                 Pipeline(steps=[('tree_preprocessor',\n",
       "                                  ColumnTransformer(remainder='passthrough',\n",
       "                                                    transformers=[('cat',\n",
       "                                                                   Pipeline(steps=[('one_hot',\n",
       "                                                                                    OneHotEncoder(handle_unknown='ignore'))]),\n",
       "                                                                   ['PrimaryPropertyType',\n",
       "                                                                    'LargestPropertyUseType'])]))])),\n",
       "                ('regressor',\n",
       "                 AdaBoostRegressor(base_estimator=DecisionTreeRegressor(max_depth=50),\n",
       "                                   learning_rate=1, n_estimators=30))])"
      ]
     },
     "execution_count": 79,
     "metadata": {},
     "output_type": "execute_result"
    }
   ],
   "source": [
    "tree_adaboost_grid_search.fit(X_train, y_train)\n",
    "modele.set_params(**tree_adaboost_grid_search.best_params_).fit(X_train, y_train)"
   ]
  },
  {
   "cell_type": "code",
   "execution_count": 80,
   "id": "c807a494",
   "metadata": {},
   "outputs": [],
   "source": [
    "df_summary= summary(modele, df_summary,X_train, X_test, y_train, y_test,\n",
    "                     ensembliste = \"DecisionTreeRegressor\")"
   ]
  },
  {
   "cell_type": "code",
   "execution_count": 81,
   "id": "6edd0258",
   "metadata": {},
   "outputs": [
    {
     "data": {
      "text/html": [
       "<div>\n",
       "<style scoped>\n",
       "    .dataframe tbody tr th:only-of-type {\n",
       "        vertical-align: middle;\n",
       "    }\n",
       "\n",
       "    .dataframe tbody tr th {\n",
       "        vertical-align: top;\n",
       "    }\n",
       "\n",
       "    .dataframe thead th {\n",
       "        text-align: right;\n",
       "    }\n",
       "</style>\n",
       "<table border=\"1\" class=\"dataframe\">\n",
       "  <thead>\n",
       "    <tr style=\"text-align: right;\">\n",
       "      <th></th>\n",
       "      <th>Modele</th>\n",
       "      <th>Ensembliste</th>\n",
       "      <th>Target</th>\n",
       "      <th>Train_RMSE</th>\n",
       "      <th>Test_RMSE</th>\n",
       "      <th>Train_R2</th>\n",
       "      <th>Test_R2</th>\n",
       "      <th>Commentaires</th>\n",
       "    </tr>\n",
       "  </thead>\n",
       "  <tbody>\n",
       "    <tr>\n",
       "      <th>0</th>\n",
       "      <td>DummyRegressor</td>\n",
       "      <td>non</td>\n",
       "      <td>TotalGHGEmissions</td>\n",
       "      <td>0.67</td>\n",
       "      <td>0.63</td>\n",
       "      <td>0.00</td>\n",
       "      <td>-0.00</td>\n",
       "      <td></td>\n",
       "    </tr>\n",
       "    <tr>\n",
       "      <th>1</th>\n",
       "      <td>Lasso</td>\n",
       "      <td>non</td>\n",
       "      <td>TotalGHGEmissions</td>\n",
       "      <td>0.37</td>\n",
       "      <td>0.33</td>\n",
       "      <td>0.69</td>\n",
       "      <td>0.73</td>\n",
       "      <td></td>\n",
       "    </tr>\n",
       "    <tr>\n",
       "      <th>2</th>\n",
       "      <td>LinearRegression</td>\n",
       "      <td>non</td>\n",
       "      <td>TotalGHGEmissions</td>\n",
       "      <td>0.37</td>\n",
       "      <td>0.32</td>\n",
       "      <td>0.70</td>\n",
       "      <td>0.74</td>\n",
       "      <td></td>\n",
       "    </tr>\n",
       "    <tr>\n",
       "      <th>3</th>\n",
       "      <td>Ridge</td>\n",
       "      <td>non</td>\n",
       "      <td>TotalGHGEmissions</td>\n",
       "      <td>0.37</td>\n",
       "      <td>0.33</td>\n",
       "      <td>0.69</td>\n",
       "      <td>0.73</td>\n",
       "      <td></td>\n",
       "    </tr>\n",
       "    <tr>\n",
       "      <th>4</th>\n",
       "      <td>DecisionTreeRegressor</td>\n",
       "      <td>non</td>\n",
       "      <td>TotalGHGEmissions</td>\n",
       "      <td>0.22</td>\n",
       "      <td>0.44</td>\n",
       "      <td>0.89</td>\n",
       "      <td>0.52</td>\n",
       "      <td></td>\n",
       "    </tr>\n",
       "    <tr>\n",
       "      <th>5</th>\n",
       "      <td>BaggingRegressor</td>\n",
       "      <td>DecisionTreeRegressor</td>\n",
       "      <td>TotalGHGEmissions</td>\n",
       "      <td>0.39</td>\n",
       "      <td>0.36</td>\n",
       "      <td>0.66</td>\n",
       "      <td>0.68</td>\n",
       "      <td>avec arret précoce</td>\n",
       "    </tr>\n",
       "    <tr>\n",
       "      <th>6</th>\n",
       "      <td>AdaBoostRegressor</td>\n",
       "      <td>LinearRegression</td>\n",
       "      <td>TotalGHGEmissions</td>\n",
       "      <td>0.29</td>\n",
       "      <td>0.40</td>\n",
       "      <td>0.81</td>\n",
       "      <td>0.60</td>\n",
       "      <td></td>\n",
       "    </tr>\n",
       "    <tr>\n",
       "      <th>7</th>\n",
       "      <td>AdaBoostRegressor</td>\n",
       "      <td>DecisionTreeRegressor</td>\n",
       "      <td>TotalGHGEmissions</td>\n",
       "      <td>0.12</td>\n",
       "      <td>0.30</td>\n",
       "      <td>0.97</td>\n",
       "      <td>0.78</td>\n",
       "      <td></td>\n",
       "    </tr>\n",
       "    <tr>\n",
       "      <th>8</th>\n",
       "      <td>GradientBoostingRegressor</td>\n",
       "      <td>DecisionTreeRegressor</td>\n",
       "      <td>TotalGHGEmissions</td>\n",
       "      <td>0.03</td>\n",
       "      <td>0.42</td>\n",
       "      <td>1.00</td>\n",
       "      <td>0.55</td>\n",
       "      <td></td>\n",
       "    </tr>\n",
       "    <tr>\n",
       "      <th>9</th>\n",
       "      <td>AdaBoostRegressor</td>\n",
       "      <td>DecisionTreeRegressor</td>\n",
       "      <td>TotalGHGEmissions</td>\n",
       "      <td>0.03</td>\n",
       "      <td>0.31</td>\n",
       "      <td>1.00</td>\n",
       "      <td>0.76</td>\n",
       "      <td></td>\n",
       "    </tr>\n",
       "  </tbody>\n",
       "</table>\n",
       "</div>"
      ],
      "text/plain": [
       "                      Modele            Ensembliste             Target  \\\n",
       "0             DummyRegressor                    non  TotalGHGEmissions   \n",
       "1                      Lasso                    non  TotalGHGEmissions   \n",
       "2           LinearRegression                    non  TotalGHGEmissions   \n",
       "3                      Ridge                    non  TotalGHGEmissions   \n",
       "4      DecisionTreeRegressor                    non  TotalGHGEmissions   \n",
       "5           BaggingRegressor  DecisionTreeRegressor  TotalGHGEmissions   \n",
       "6          AdaBoostRegressor       LinearRegression  TotalGHGEmissions   \n",
       "7          AdaBoostRegressor  DecisionTreeRegressor  TotalGHGEmissions   \n",
       "8  GradientBoostingRegressor  DecisionTreeRegressor  TotalGHGEmissions   \n",
       "9          AdaBoostRegressor  DecisionTreeRegressor  TotalGHGEmissions   \n",
       "\n",
       "   Train_RMSE  Test_RMSE  Train_R2  Test_R2        Commentaires  \n",
       "0        0.67       0.63      0.00    -0.00                      \n",
       "1        0.37       0.33      0.69     0.73                      \n",
       "2        0.37       0.32      0.70     0.74                      \n",
       "3        0.37       0.33      0.69     0.73                      \n",
       "4        0.22       0.44      0.89     0.52                      \n",
       "5        0.39       0.36      0.66     0.68  avec arret précoce  \n",
       "6        0.29       0.40      0.81     0.60                      \n",
       "7        0.12       0.30      0.97     0.78                      \n",
       "8        0.03       0.42      1.00     0.55                      \n",
       "9        0.03       0.31      1.00     0.76                      "
      ]
     },
     "execution_count": 81,
     "metadata": {},
     "output_type": "execute_result"
    }
   ],
   "source": [
    "df_summary"
   ]
  },
  {
   "cell_type": "markdown",
   "id": "3dd55c6f",
   "metadata": {},
   "source": [
    "## 2.2.4 - XGBoost (extreme Gradient Boosting)"
   ]
  },
  {
   "cell_type": "code",
   "execution_count": 82,
   "id": "8d0bc796",
   "metadata": {},
   "outputs": [
    {
     "data": {
      "text/plain": [
       "<bound method XGBRegressor.__init__ of XGBRegressor(base_score=None, booster=None, colsample_bylevel=None,\n",
       "             colsample_bynode=None, colsample_bytree=None,\n",
       "             enable_categorical=False, gamma=None, gpu_id=None,\n",
       "             importance_type=None, interaction_constraints=None,\n",
       "             learning_rate=None, max_delta_step=None, max_depth=None,\n",
       "             min_child_weight=None, missing=nan, monotone_constraints=None,\n",
       "             n_estimators=100, n_jobs=None, num_parallel_tree=None,\n",
       "             predictor=None, random_state=None, reg_alpha=None, reg_lambda=None,\n",
       "             scale_pos_weight=None, subsample=None, tree_method=None,\n",
       "             validate_parameters=None, verbosity=None)>"
      ]
     },
     "execution_count": 82,
     "metadata": {},
     "output_type": "execute_result"
    }
   ],
   "source": [
    "import xgboost\n",
    "xgboost.XGBRegressor().__init__"
   ]
  },
  {
   "cell_type": "code",
   "execution_count": 83,
   "id": "e8199185",
   "metadata": {},
   "outputs": [],
   "source": [
    "estimateur = GradientBoostingRegressor()\n",
    "modele = Pipeline(steps = [\n",
    "    ('tree_feature_engineering', tree_feature_engineering),\n",
    "    ( 'regressor',xgboost.XGBRegressor())\n",
    "])"
   ]
  },
  {
   "cell_type": "code",
   "execution_count": 84,
   "id": "613245f6",
   "metadata": {},
   "outputs": [
    {
     "data": {
      "text/html": [
       "<style>#sk-8c4e4cb0-92c6-4f30-a034-5c66e753e28b {color: black;background-color: white;}#sk-8c4e4cb0-92c6-4f30-a034-5c66e753e28b pre{padding: 0;}#sk-8c4e4cb0-92c6-4f30-a034-5c66e753e28b div.sk-toggleable {background-color: white;}#sk-8c4e4cb0-92c6-4f30-a034-5c66e753e28b label.sk-toggleable__label {cursor: pointer;display: block;width: 100%;margin-bottom: 0;padding: 0.3em;box-sizing: border-box;text-align: center;}#sk-8c4e4cb0-92c6-4f30-a034-5c66e753e28b label.sk-toggleable__label-arrow:before {content: \"▸\";float: left;margin-right: 0.25em;color: #696969;}#sk-8c4e4cb0-92c6-4f30-a034-5c66e753e28b label.sk-toggleable__label-arrow:hover:before {color: black;}#sk-8c4e4cb0-92c6-4f30-a034-5c66e753e28b div.sk-estimator:hover label.sk-toggleable__label-arrow:before {color: black;}#sk-8c4e4cb0-92c6-4f30-a034-5c66e753e28b div.sk-toggleable__content {max-height: 0;max-width: 0;overflow: hidden;text-align: left;background-color: #f0f8ff;}#sk-8c4e4cb0-92c6-4f30-a034-5c66e753e28b div.sk-toggleable__content pre {margin: 0.2em;color: black;border-radius: 0.25em;background-color: #f0f8ff;}#sk-8c4e4cb0-92c6-4f30-a034-5c66e753e28b input.sk-toggleable__control:checked~div.sk-toggleable__content {max-height: 200px;max-width: 100%;overflow: auto;}#sk-8c4e4cb0-92c6-4f30-a034-5c66e753e28b input.sk-toggleable__control:checked~label.sk-toggleable__label-arrow:before {content: \"▾\";}#sk-8c4e4cb0-92c6-4f30-a034-5c66e753e28b div.sk-estimator input.sk-toggleable__control:checked~label.sk-toggleable__label {background-color: #d4ebff;}#sk-8c4e4cb0-92c6-4f30-a034-5c66e753e28b div.sk-label input.sk-toggleable__control:checked~label.sk-toggleable__label {background-color: #d4ebff;}#sk-8c4e4cb0-92c6-4f30-a034-5c66e753e28b input.sk-hidden--visually {border: 0;clip: rect(1px 1px 1px 1px);clip: rect(1px, 1px, 1px, 1px);height: 1px;margin: -1px;overflow: hidden;padding: 0;position: absolute;width: 1px;}#sk-8c4e4cb0-92c6-4f30-a034-5c66e753e28b div.sk-estimator {font-family: monospace;background-color: #f0f8ff;border: 1px dotted black;border-radius: 0.25em;box-sizing: border-box;margin-bottom: 0.5em;}#sk-8c4e4cb0-92c6-4f30-a034-5c66e753e28b div.sk-estimator:hover {background-color: #d4ebff;}#sk-8c4e4cb0-92c6-4f30-a034-5c66e753e28b div.sk-parallel-item::after {content: \"\";width: 100%;border-bottom: 1px solid gray;flex-grow: 1;}#sk-8c4e4cb0-92c6-4f30-a034-5c66e753e28b div.sk-label:hover label.sk-toggleable__label {background-color: #d4ebff;}#sk-8c4e4cb0-92c6-4f30-a034-5c66e753e28b div.sk-serial::before {content: \"\";position: absolute;border-left: 1px solid gray;box-sizing: border-box;top: 2em;bottom: 0;left: 50%;}#sk-8c4e4cb0-92c6-4f30-a034-5c66e753e28b div.sk-serial {display: flex;flex-direction: column;align-items: center;background-color: white;padding-right: 0.2em;padding-left: 0.2em;}#sk-8c4e4cb0-92c6-4f30-a034-5c66e753e28b div.sk-item {z-index: 1;}#sk-8c4e4cb0-92c6-4f30-a034-5c66e753e28b div.sk-parallel {display: flex;align-items: stretch;justify-content: center;background-color: white;}#sk-8c4e4cb0-92c6-4f30-a034-5c66e753e28b div.sk-parallel::before {content: \"\";position: absolute;border-left: 1px solid gray;box-sizing: border-box;top: 2em;bottom: 0;left: 50%;}#sk-8c4e4cb0-92c6-4f30-a034-5c66e753e28b div.sk-parallel-item {display: flex;flex-direction: column;position: relative;background-color: white;}#sk-8c4e4cb0-92c6-4f30-a034-5c66e753e28b div.sk-parallel-item:first-child::after {align-self: flex-end;width: 50%;}#sk-8c4e4cb0-92c6-4f30-a034-5c66e753e28b div.sk-parallel-item:last-child::after {align-self: flex-start;width: 50%;}#sk-8c4e4cb0-92c6-4f30-a034-5c66e753e28b div.sk-parallel-item:only-child::after {width: 0;}#sk-8c4e4cb0-92c6-4f30-a034-5c66e753e28b div.sk-dashed-wrapped {border: 1px dashed gray;margin: 0 0.4em 0.5em 0.4em;box-sizing: border-box;padding-bottom: 0.4em;background-color: white;position: relative;}#sk-8c4e4cb0-92c6-4f30-a034-5c66e753e28b div.sk-label label {font-family: monospace;font-weight: bold;background-color: white;display: inline-block;line-height: 1.2em;}#sk-8c4e4cb0-92c6-4f30-a034-5c66e753e28b div.sk-label-container {position: relative;z-index: 2;text-align: center;}#sk-8c4e4cb0-92c6-4f30-a034-5c66e753e28b div.sk-container {/* jupyter's `normalize.less` sets `[hidden] { display: none; }` but bootstrap.min.css set `[hidden] { display: none !important; }` so we also need the `!important` here to be able to override the default hidden behavior on the sphinx rendered scikit-learn.org. See: https://github.com/scikit-learn/scikit-learn/issues/21755 */display: inline-block !important;position: relative;}#sk-8c4e4cb0-92c6-4f30-a034-5c66e753e28b div.sk-text-repr-fallback {display: none;}</style><div id=\"sk-8c4e4cb0-92c6-4f30-a034-5c66e753e28b\" class=\"sk-top-container\"><div class=\"sk-text-repr-fallback\"><pre>Pipeline(steps=[(&#x27;tree_feature_engineering&#x27;,\n",
       "                 Pipeline(steps=[(&#x27;tree_preprocessor&#x27;,\n",
       "                                  ColumnTransformer(remainder=&#x27;passthrough&#x27;,\n",
       "                                                    transformers=[(&#x27;cat&#x27;,\n",
       "                                                                   Pipeline(steps=[(&#x27;one_hot&#x27;,\n",
       "                                                                                    OneHotEncoder(handle_unknown=&#x27;ignore&#x27;))]),\n",
       "                                                                   [&#x27;PrimaryPropertyType&#x27;,\n",
       "                                                                    &#x27;LargestPropertyUseType&#x27;])]))])),\n",
       "                (&#x27;regressor&#x27;,\n",
       "                 XGBRegressor(base_score=0.5, booster=&#x27;gbtree&#x27;,\n",
       "                              colsample_bylevel=1, col...\n",
       "                              gamma=0, gpu_id=-1, importance_type=None,\n",
       "                              interaction_constraints=&#x27;&#x27;,\n",
       "                              learning_rate=0.300000012, max_delta_step=0,\n",
       "                              max_depth=6, min_child_weight=1, missing=nan,\n",
       "                              monotone_constraints=&#x27;()&#x27;, n_estimators=100,\n",
       "                              n_jobs=8, num_parallel_tree=1, predictor=&#x27;auto&#x27;,\n",
       "                              random_state=0, reg_alpha=0, reg_lambda=1,\n",
       "                              scale_pos_weight=1, subsample=1,\n",
       "                              tree_method=&#x27;exact&#x27;, validate_parameters=1,\n",
       "                              verbosity=None))])</pre><b>Please rerun this cell to show the HTML repr or trust the notebook.</b></div><div class=\"sk-container\" hidden><div class=\"sk-item sk-dashed-wrapped\"><div class=\"sk-label-container\"><div class=\"sk-label sk-toggleable\"><input class=\"sk-toggleable__control sk-hidden--visually\" id=\"a76866e5-a6b7-49b1-9ee8-1769a7c85670\" type=\"checkbox\" ><label for=\"a76866e5-a6b7-49b1-9ee8-1769a7c85670\" class=\"sk-toggleable__label sk-toggleable__label-arrow\">Pipeline</label><div class=\"sk-toggleable__content\"><pre>Pipeline(steps=[(&#x27;tree_feature_engineering&#x27;,\n",
       "                 Pipeline(steps=[(&#x27;tree_preprocessor&#x27;,\n",
       "                                  ColumnTransformer(remainder=&#x27;passthrough&#x27;,\n",
       "                                                    transformers=[(&#x27;cat&#x27;,\n",
       "                                                                   Pipeline(steps=[(&#x27;one_hot&#x27;,\n",
       "                                                                                    OneHotEncoder(handle_unknown=&#x27;ignore&#x27;))]),\n",
       "                                                                   [&#x27;PrimaryPropertyType&#x27;,\n",
       "                                                                    &#x27;LargestPropertyUseType&#x27;])]))])),\n",
       "                (&#x27;regressor&#x27;,\n",
       "                 XGBRegressor(base_score=0.5, booster=&#x27;gbtree&#x27;,\n",
       "                              colsample_bylevel=1, col...\n",
       "                              gamma=0, gpu_id=-1, importance_type=None,\n",
       "                              interaction_constraints=&#x27;&#x27;,\n",
       "                              learning_rate=0.300000012, max_delta_step=0,\n",
       "                              max_depth=6, min_child_weight=1, missing=nan,\n",
       "                              monotone_constraints=&#x27;()&#x27;, n_estimators=100,\n",
       "                              n_jobs=8, num_parallel_tree=1, predictor=&#x27;auto&#x27;,\n",
       "                              random_state=0, reg_alpha=0, reg_lambda=1,\n",
       "                              scale_pos_weight=1, subsample=1,\n",
       "                              tree_method=&#x27;exact&#x27;, validate_parameters=1,\n",
       "                              verbosity=None))])</pre></div></div></div><div class=\"sk-serial\"><div class=\"sk-item\"><div class=\"sk-label-container\"><div class=\"sk-label sk-toggleable\"><input class=\"sk-toggleable__control sk-hidden--visually\" id=\"7243b79a-22bf-4d87-9bfc-007d0ffacbf9\" type=\"checkbox\" ><label for=\"7243b79a-22bf-4d87-9bfc-007d0ffacbf9\" class=\"sk-toggleable__label sk-toggleable__label-arrow\">tree_feature_engineering: Pipeline</label><div class=\"sk-toggleable__content\"><pre>Pipeline(steps=[(&#x27;tree_preprocessor&#x27;,\n",
       "                 ColumnTransformer(remainder=&#x27;passthrough&#x27;,\n",
       "                                   transformers=[(&#x27;cat&#x27;,\n",
       "                                                  Pipeline(steps=[(&#x27;one_hot&#x27;,\n",
       "                                                                   OneHotEncoder(handle_unknown=&#x27;ignore&#x27;))]),\n",
       "                                                  [&#x27;PrimaryPropertyType&#x27;,\n",
       "                                                   &#x27;LargestPropertyUseType&#x27;])]))])</pre></div></div></div><div class=\"sk-serial\"><div class=\"sk-item sk-dashed-wrapped\"><div class=\"sk-label-container\"><div class=\"sk-label sk-toggleable\"><input class=\"sk-toggleable__control sk-hidden--visually\" id=\"29b63c72-94ff-4716-af7f-a5e948afe73d\" type=\"checkbox\" ><label for=\"29b63c72-94ff-4716-af7f-a5e948afe73d\" class=\"sk-toggleable__label sk-toggleable__label-arrow\">tree_preprocessor: ColumnTransformer</label><div class=\"sk-toggleable__content\"><pre>ColumnTransformer(remainder=&#x27;passthrough&#x27;,\n",
       "                  transformers=[(&#x27;cat&#x27;,\n",
       "                                 Pipeline(steps=[(&#x27;one_hot&#x27;,\n",
       "                                                  OneHotEncoder(handle_unknown=&#x27;ignore&#x27;))]),\n",
       "                                 [&#x27;PrimaryPropertyType&#x27;,\n",
       "                                  &#x27;LargestPropertyUseType&#x27;])])</pre></div></div></div><div class=\"sk-parallel\"><div class=\"sk-parallel-item\"><div class=\"sk-item\"><div class=\"sk-label-container\"><div class=\"sk-label sk-toggleable\"><input class=\"sk-toggleable__control sk-hidden--visually\" id=\"4fc2aef8-4056-44e8-ad70-8918e4b2f7d2\" type=\"checkbox\" ><label for=\"4fc2aef8-4056-44e8-ad70-8918e4b2f7d2\" class=\"sk-toggleable__label sk-toggleable__label-arrow\">cat</label><div class=\"sk-toggleable__content\"><pre>[&#x27;PrimaryPropertyType&#x27;, &#x27;LargestPropertyUseType&#x27;]</pre></div></div></div><div class=\"sk-serial\"><div class=\"sk-item\"><div class=\"sk-serial\"><div class=\"sk-item\"><div class=\"sk-estimator sk-toggleable\"><input class=\"sk-toggleable__control sk-hidden--visually\" id=\"71ea842f-d7be-4655-a4f8-43d855fca562\" type=\"checkbox\" ><label for=\"71ea842f-d7be-4655-a4f8-43d855fca562\" class=\"sk-toggleable__label sk-toggleable__label-arrow\">OneHotEncoder</label><div class=\"sk-toggleable__content\"><pre>OneHotEncoder(handle_unknown=&#x27;ignore&#x27;)</pre></div></div></div></div></div></div></div></div><div class=\"sk-parallel-item\"><div class=\"sk-item\"><div class=\"sk-label-container\"><div class=\"sk-label sk-toggleable\"><input class=\"sk-toggleable__control sk-hidden--visually\" id=\"6faedbb7-082b-4e8d-8aef-cf352db19e79\" type=\"checkbox\" ><label for=\"6faedbb7-082b-4e8d-8aef-cf352db19e79\" class=\"sk-toggleable__label sk-toggleable__label-arrow\">remainder</label><div class=\"sk-toggleable__content\"><pre>[&#x27;LargestPropertyUseTypeGFA&#x27;, &#x27;SecondLargestPropertyUseTypeGFA&#x27;, &#x27;ThirdLargestPropertyUseTypeGFA&#x27;, &#x27;Electricity_p&#x27;, &#x27;Latitude&#x27;, &#x27;Longitude&#x27;, &#x27;NonResidentialGFA&#x27;, &#x27;PropertyGFAParking&#x27;, &#x27;PropertyGFABuilding(s)&#x27;, &#x27;ENERGYSTARScore&#x27;]</pre></div></div></div><div class=\"sk-serial\"><div class=\"sk-item\"><div class=\"sk-estimator sk-toggleable\"><input class=\"sk-toggleable__control sk-hidden--visually\" id=\"a30cc1d6-79ec-4c62-9cda-4bb750fdffb6\" type=\"checkbox\" ><label for=\"a30cc1d6-79ec-4c62-9cda-4bb750fdffb6\" class=\"sk-toggleable__label sk-toggleable__label-arrow\">passthrough</label><div class=\"sk-toggleable__content\"><pre>passthrough</pre></div></div></div></div></div></div></div></div></div></div><div class=\"sk-item\"><div class=\"sk-estimator sk-toggleable\"><input class=\"sk-toggleable__control sk-hidden--visually\" id=\"e67cf83d-71f7-4ff4-a4fb-f7db334bab7f\" type=\"checkbox\" ><label for=\"e67cf83d-71f7-4ff4-a4fb-f7db334bab7f\" class=\"sk-toggleable__label sk-toggleable__label-arrow\">XGBRegressor</label><div class=\"sk-toggleable__content\"><pre>XGBRegressor(base_score=0.5, booster=&#x27;gbtree&#x27;, colsample_bylevel=1,\n",
       "             colsample_bynode=1, colsample_bytree=1, enable_categorical=False,\n",
       "             gamma=0, gpu_id=-1, importance_type=None,\n",
       "             interaction_constraints=&#x27;&#x27;, learning_rate=0.300000012,\n",
       "             max_delta_step=0, max_depth=6, min_child_weight=1, missing=nan,\n",
       "             monotone_constraints=&#x27;()&#x27;, n_estimators=100, n_jobs=8,\n",
       "             num_parallel_tree=1, predictor=&#x27;auto&#x27;, random_state=0, reg_alpha=0,\n",
       "             reg_lambda=1, scale_pos_weight=1, subsample=1, tree_method=&#x27;exact&#x27;,\n",
       "             validate_parameters=1, verbosity=None)</pre></div></div></div></div></div></div></div>"
      ],
      "text/plain": [
       "Pipeline(steps=[('tree_feature_engineering',\n",
       "                 Pipeline(steps=[('tree_preprocessor',\n",
       "                                  ColumnTransformer(remainder='passthrough',\n",
       "                                                    transformers=[('cat',\n",
       "                                                                   Pipeline(steps=[('one_hot',\n",
       "                                                                                    OneHotEncoder(handle_unknown='ignore'))]),\n",
       "                                                                   ['PrimaryPropertyType',\n",
       "                                                                    'LargestPropertyUseType'])]))])),\n",
       "                ('regressor',\n",
       "                 XGBRegressor(base_score=0.5, booster='gbtree',\n",
       "                              colsample_bylevel=1, col...\n",
       "                              gamma=0, gpu_id=-1, importance_type=None,\n",
       "                              interaction_constraints='',\n",
       "                              learning_rate=0.300000012, max_delta_step=0,\n",
       "                              max_depth=6, min_child_weight=1, missing=nan,\n",
       "                              monotone_constraints='()', n_estimators=100,\n",
       "                              n_jobs=8, num_parallel_tree=1, predictor='auto',\n",
       "                              random_state=0, reg_alpha=0, reg_lambda=1,\n",
       "                              scale_pos_weight=1, subsample=1,\n",
       "                              tree_method='exact', validate_parameters=1,\n",
       "                              verbosity=None))])"
      ]
     },
     "execution_count": 84,
     "metadata": {},
     "output_type": "execute_result"
    }
   ],
   "source": [
    "modele.fit(X_train, y_train)"
   ]
  },
  {
   "cell_type": "code",
   "execution_count": 86,
   "id": "332d11ba",
   "metadata": {},
   "outputs": [],
   "source": [
    "XGBR_y_pred = modele.predict(X_test)\n",
    "residu_XGBR = y_test - XGBR_y_pred"
   ]
  },
  {
   "cell_type": "code",
   "execution_count": 89,
   "id": "cb4b3c8e",
   "metadata": {},
   "outputs": [],
   "source": [
    "df_summary = summary(modele, df_summary,X_train, X_test, y_train, y_test,\n",
    "                     ensembliste = \"DecisionTreeRegressor\")"
   ]
  },
  {
   "cell_type": "code",
   "execution_count": 91,
   "id": "e1fa7b83",
   "metadata": {},
   "outputs": [
    {
     "data": {
      "text/html": [
       "<div>\n",
       "<style scoped>\n",
       "    .dataframe tbody tr th:only-of-type {\n",
       "        vertical-align: middle;\n",
       "    }\n",
       "\n",
       "    .dataframe tbody tr th {\n",
       "        vertical-align: top;\n",
       "    }\n",
       "\n",
       "    .dataframe thead th {\n",
       "        text-align: right;\n",
       "    }\n",
       "</style>\n",
       "<table border=\"1\" class=\"dataframe\">\n",
       "  <thead>\n",
       "    <tr style=\"text-align: right;\">\n",
       "      <th></th>\n",
       "      <th>Modele</th>\n",
       "      <th>Ensembliste</th>\n",
       "      <th>Target</th>\n",
       "      <th>Train_RMSE</th>\n",
       "      <th>Test_RMSE</th>\n",
       "      <th>Train_R2</th>\n",
       "      <th>Test_R2</th>\n",
       "      <th>Commentaires</th>\n",
       "    </tr>\n",
       "  </thead>\n",
       "  <tbody>\n",
       "    <tr>\n",
       "      <th>7</th>\n",
       "      <td>AdaBoostRegressor</td>\n",
       "      <td>DecisionTreeRegressor</td>\n",
       "      <td>TotalGHGEmissions</td>\n",
       "      <td>0.12</td>\n",
       "      <td>0.30</td>\n",
       "      <td>0.97</td>\n",
       "      <td>0.78</td>\n",
       "      <td></td>\n",
       "    </tr>\n",
       "    <tr>\n",
       "      <th>9</th>\n",
       "      <td>AdaBoostRegressor</td>\n",
       "      <td>DecisionTreeRegressor</td>\n",
       "      <td>TotalGHGEmissions</td>\n",
       "      <td>0.03</td>\n",
       "      <td>0.31</td>\n",
       "      <td>1.00</td>\n",
       "      <td>0.76</td>\n",
       "      <td></td>\n",
       "    </tr>\n",
       "    <tr>\n",
       "      <th>2</th>\n",
       "      <td>LinearRegression</td>\n",
       "      <td>non</td>\n",
       "      <td>TotalGHGEmissions</td>\n",
       "      <td>0.37</td>\n",
       "      <td>0.32</td>\n",
       "      <td>0.70</td>\n",
       "      <td>0.74</td>\n",
       "      <td></td>\n",
       "    </tr>\n",
       "    <tr>\n",
       "      <th>10</th>\n",
       "      <td>XGBRegressor</td>\n",
       "      <td>DecisionTreeRegressor</td>\n",
       "      <td>TotalGHGEmissions</td>\n",
       "      <td>0.04</td>\n",
       "      <td>0.32</td>\n",
       "      <td>1.00</td>\n",
       "      <td>0.74</td>\n",
       "      <td></td>\n",
       "    </tr>\n",
       "    <tr>\n",
       "      <th>1</th>\n",
       "      <td>Lasso</td>\n",
       "      <td>non</td>\n",
       "      <td>TotalGHGEmissions</td>\n",
       "      <td>0.37</td>\n",
       "      <td>0.33</td>\n",
       "      <td>0.69</td>\n",
       "      <td>0.73</td>\n",
       "      <td></td>\n",
       "    </tr>\n",
       "    <tr>\n",
       "      <th>3</th>\n",
       "      <td>Ridge</td>\n",
       "      <td>non</td>\n",
       "      <td>TotalGHGEmissions</td>\n",
       "      <td>0.37</td>\n",
       "      <td>0.33</td>\n",
       "      <td>0.69</td>\n",
       "      <td>0.73</td>\n",
       "      <td></td>\n",
       "    </tr>\n",
       "    <tr>\n",
       "      <th>5</th>\n",
       "      <td>BaggingRegressor</td>\n",
       "      <td>DecisionTreeRegressor</td>\n",
       "      <td>TotalGHGEmissions</td>\n",
       "      <td>0.39</td>\n",
       "      <td>0.36</td>\n",
       "      <td>0.66</td>\n",
       "      <td>0.68</td>\n",
       "      <td>avec arret précoce</td>\n",
       "    </tr>\n",
       "    <tr>\n",
       "      <th>6</th>\n",
       "      <td>AdaBoostRegressor</td>\n",
       "      <td>LinearRegression</td>\n",
       "      <td>TotalGHGEmissions</td>\n",
       "      <td>0.29</td>\n",
       "      <td>0.40</td>\n",
       "      <td>0.81</td>\n",
       "      <td>0.60</td>\n",
       "      <td></td>\n",
       "    </tr>\n",
       "    <tr>\n",
       "      <th>8</th>\n",
       "      <td>GradientBoostingRegressor</td>\n",
       "      <td>DecisionTreeRegressor</td>\n",
       "      <td>TotalGHGEmissions</td>\n",
       "      <td>0.03</td>\n",
       "      <td>0.42</td>\n",
       "      <td>1.00</td>\n",
       "      <td>0.55</td>\n",
       "      <td></td>\n",
       "    </tr>\n",
       "    <tr>\n",
       "      <th>4</th>\n",
       "      <td>DecisionTreeRegressor</td>\n",
       "      <td>non</td>\n",
       "      <td>TotalGHGEmissions</td>\n",
       "      <td>0.22</td>\n",
       "      <td>0.44</td>\n",
       "      <td>0.89</td>\n",
       "      <td>0.52</td>\n",
       "      <td></td>\n",
       "    </tr>\n",
       "    <tr>\n",
       "      <th>0</th>\n",
       "      <td>DummyRegressor</td>\n",
       "      <td>non</td>\n",
       "      <td>TotalGHGEmissions</td>\n",
       "      <td>0.67</td>\n",
       "      <td>0.63</td>\n",
       "      <td>0.00</td>\n",
       "      <td>-0.00</td>\n",
       "      <td></td>\n",
       "    </tr>\n",
       "  </tbody>\n",
       "</table>\n",
       "</div>"
      ],
      "text/plain": [
       "                       Modele            Ensembliste             Target  \\\n",
       "7           AdaBoostRegressor  DecisionTreeRegressor  TotalGHGEmissions   \n",
       "9           AdaBoostRegressor  DecisionTreeRegressor  TotalGHGEmissions   \n",
       "2            LinearRegression                    non  TotalGHGEmissions   \n",
       "10               XGBRegressor  DecisionTreeRegressor  TotalGHGEmissions   \n",
       "1                       Lasso                    non  TotalGHGEmissions   \n",
       "3                       Ridge                    non  TotalGHGEmissions   \n",
       "5            BaggingRegressor  DecisionTreeRegressor  TotalGHGEmissions   \n",
       "6           AdaBoostRegressor       LinearRegression  TotalGHGEmissions   \n",
       "8   GradientBoostingRegressor  DecisionTreeRegressor  TotalGHGEmissions   \n",
       "4       DecisionTreeRegressor                    non  TotalGHGEmissions   \n",
       "0              DummyRegressor                    non  TotalGHGEmissions   \n",
       "\n",
       "    Train_RMSE  Test_RMSE  Train_R2  Test_R2        Commentaires  \n",
       "7         0.12       0.30      0.97     0.78                      \n",
       "9         0.03       0.31      1.00     0.76                      \n",
       "2         0.37       0.32      0.70     0.74                      \n",
       "10        0.04       0.32      1.00     0.74                      \n",
       "1         0.37       0.33      0.69     0.73                      \n",
       "3         0.37       0.33      0.69     0.73                      \n",
       "5         0.39       0.36      0.66     0.68  avec arret précoce  \n",
       "6         0.29       0.40      0.81     0.60                      \n",
       "8         0.03       0.42      1.00     0.55                      \n",
       "4         0.22       0.44      0.89     0.52                      \n",
       "0         0.67       0.63      0.00    -0.00                      "
      ]
     },
     "execution_count": 91,
     "metadata": {},
     "output_type": "execute_result"
    }
   ],
   "source": [
    "df_summary.sort_values(by = 'Test_RMSE')"
   ]
  },
  {
   "cell_type": "markdown",
   "id": "1a0976e0",
   "metadata": {},
   "source": [
    "# 3 - Analyse et Interpretation"
   ]
  },
  {
   "cell_type": "markdown",
   "id": "c8a0e870",
   "metadata": {},
   "source": [
    "### choix modele"
   ]
  },
  {
   "cell_type": "code",
   "execution_count": 120,
   "id": "9bab16cf",
   "metadata": {
    "scrolled": false
   },
   "outputs": [
    {
     "data": {
      "image/png": "[encoded data removed]",
      "text/plain": [
       "<Figure size 600x600 with 2 Axes>"
      ]
     },
     "metadata": {},
     "output_type": "display_data"
    }
   ],
   "source": [
    "fig, ax = plt.subplots(2,1,figsize = (6,6))\n",
    "\n",
    "ax = ax.flatten()\n",
    "\n",
    "sns.regplot(y=y_test, x = linear_y_pred, label='linear', ax=ax[0])\n",
    "sns.regplot(y=y_test, x = ada_tree_y_pred, label='AdaBoost_tree', ax=ax[0])\n",
    "ax[0].axline(xy1=(0,0), slope=1, color='gray', linestyle='--', label='diagonal')\n",
    "ax[0].legend(loc='upper left')\n",
    "ax[0].set(title='Predictions', xlabel='y_test', ylabel='y_test_pred')\n",
    "\n",
    "\n",
    "x = residu_linear[residu_linear < np.quantile(residu_linear, 1)]\n",
    "sns.kdeplot(x = x, ax  = ax[1])\n",
    "x = residu_ada_tree[residu_ada_tree < np.quantile(residu_ada_tree, 1)]\n",
    "sns.kdeplot(x = x, ax  = ax[1])\n",
    "ax[1].axvline(x=residu_linear.mean(), color=sns.color_palette()[0], linestyle='--', label='residu_linear')\n",
    "ax[1].axvline(x=residu_ada_tree.mean(), color=sns.color_palette()[1], linestyle='--', label='residu_ada_tree', alpha = 0.5)\n",
    "ax[1].legend(loc='upper right')\n",
    "ax[1].set(title='Errors', xlabel= 'error')\n",
    "\n",
    "plt.show()"
   ]
  },
  {
   "cell_type": "raw",
   "id": "861be3dd",
   "metadata": {},
   "source": [
    "Nous avons choisi le modèle AdaboostRegressor sur DecisiontreeRegressor"
   ]
  },
  {
   "cell_type": "markdown",
   "id": "1ab2c461",
   "metadata": {},
   "source": [
    "#### Graphique"
   ]
  },
  {
   "cell_type": "markdown",
   "id": "41cc666e",
   "metadata": {},
   "source": [
    "https://towardsdatascience.com/visualizing-decision-trees-with-python-scikit-learn-graphviz-matplotlib-1c50b4aa68dc"
   ]
  },
  {
   "cell_type": "code",
   "execution_count": 95,
   "id": "a3678050",
   "metadata": {},
   "outputs": [
    {
     "data": {
      "text/plain": [
       "50"
      ]
     },
     "execution_count": 95,
     "metadata": {},
     "output_type": "execute_result"
    }
   ],
   "source": [
    "#extraction des variables explicatives apres transformation\n",
    "modele_features = modele[:-1].get_feature_names_out()\n",
    "len(modele_features)"
   ]
  },
  {
   "cell_type": "code",
   "execution_count": 106,
   "id": "5f54aeb2",
   "metadata": {},
   "outputs": [
    {
     "data": {
      "text/plain": [
       "{'regressor__base_estimator__max_depth': 50,\n",
       " 'regressor__base_estimator__min_samples_leaf': 1,\n",
       " 'regressor__learning_rate': 1,\n",
       " 'regressor__n_estimators': 30}"
      ]
     },
     "execution_count": 106,
     "metadata": {},
     "output_type": "execute_result"
    }
   ],
   "source": [
    "tree_adaboost_grid_search.best_params_"
   ]
  },
  {
   "cell_type": "code",
   "execution_count": 107,
   "id": "8b552f32",
   "metadata": {},
   "outputs": [],
   "source": [
    "from sklearn.tree import plot_tree"
   ]
  },
  {
   "cell_type": "code",
   "execution_count": 108,
   "id": "af4078f6",
   "metadata": {
    "scrolled": true
   },
   "outputs": [
    {
     "data": {
      "image/png": "[encoded data removed]",
      "text/plain": [
       "<Figure size 1000x600 with 1 Axes>"
      ]
     },
     "metadata": {},
     "output_type": "display_data"
    }
   ],
   "source": [
    "plt.figure()\n",
    "plot_tree(ada_tree[-1][0], feature_names = modele_features, max_depth =2, filled=True)\n",
    "plt.show()"
   ]
  },
  {
   "cell_type": "code",
   "execution_count": null,
   "id": "04624c58",
   "metadata": {},
   "outputs": [],
   "source": []
  },
  {
   "cell_type": "markdown",
   "id": "f5786da8",
   "metadata": {},
   "source": [
    "## 3.3 Permutation Importance"
   ]
  },
  {
   "cell_type": "code",
   "execution_count": 109,
   "id": "f1553b9c",
   "metadata": {},
   "outputs": [],
   "source": [
    "from sklearn.inspection import permutation_importance"
   ]
  },
  {
   "cell_type": "code",
   "execution_count": 110,
   "id": "3191b720",
   "metadata": {},
   "outputs": [
    {
     "data": {
      "text/plain": [
       "(12, 10)"
      ]
     },
     "execution_count": 110,
     "metadata": {},
     "output_type": "execute_result"
    }
   ],
   "source": [
    "adaboost_tree_pi = permutation_importance(\n",
    "    estimator=ada_tree,\n",
    "    X=X_train,\n",
    "    y=y_train,\n",
    "    n_repeats=10\n",
    ")\n",
    "#retourn a dictionnary with 3 keys :('importances_mean', 'importances_std','importances')\n",
    "adaboost_tree_pi['importances'].shape"
   ]
  },
  {
   "cell_type": "code",
   "execution_count": 111,
   "id": "71526193",
   "metadata": {},
   "outputs": [
    {
     "data": {
      "text/plain": [
       "dict_keys(['importances_mean', 'importances_std', 'importances'])"
      ]
     },
     "execution_count": 111,
     "metadata": {},
     "output_type": "execute_result"
    }
   ],
   "source": [
    "adaboost_tree_pi.keys()"
   ]
  },
  {
   "cell_type": "code",
   "execution_count": 112,
   "id": "ed81b2be",
   "metadata": {},
   "outputs": [
    {
     "data": {
      "text/plain": [
       "array([0.01175086, 0.01435352, 0.00242107, 0.03054352, 0.01971098,\n",
       "       0.05918452, 0.13894452, 0.04112841, 0.01124315, 0.81832513,\n",
       "       0.20405379, 0.31732687])"
      ]
     },
     "execution_count": 112,
     "metadata": {},
     "output_type": "execute_result"
    }
   ],
   "source": [
    "adaboost_tree_pi['importances_mean']"
   ]
  },
  {
   "cell_type": "code",
   "execution_count": 113,
   "id": "00a923ba",
   "metadata": {},
   "outputs": [
    {
     "data": {
      "text/plain": [
       "(12,)"
      ]
     },
     "execution_count": 113,
     "metadata": {},
     "output_type": "execute_result"
    }
   ],
   "source": [
    "X_train.columns.shape"
   ]
  },
  {
   "cell_type": "code",
   "execution_count": 114,
   "id": "e1d44860",
   "metadata": {},
   "outputs": [],
   "source": [
    "d = {'importances_mean':adaboost_tree_pi['importances_mean'],'importances_std':adaboost_tree_pi['importances_std']}\n",
    "adaboost_tree_pi_df= pd.DataFrame(data = d,\n",
    "                          index =X_train.columns )"
   ]
  },
  {
   "cell_type": "code",
   "execution_count": 115,
   "id": "ea57219c",
   "metadata": {},
   "outputs": [],
   "source": [
    "adaboost_tree_pi_df = adaboost_tree_pi_df.sort_values(by ='importances_mean', ascending= False)"
   ]
  },
  {
   "cell_type": "code",
   "execution_count": 116,
   "id": "ff159998",
   "metadata": {},
   "outputs": [
    {
     "data": {
      "image/png": "[encoded data removed]",
      "text/plain": [
       "<Figure size 1000x500 with 2 Axes>"
      ]
     },
     "metadata": {},
     "output_type": "display_data"
    }
   ],
   "source": [
    "fig, ax = plt.subplots(1,2, figsize=(10, 5), constrained_layout=True)\n",
    "\n",
    "sns.barplot(\n",
    "    data = adaboost_tree_pi_df,\n",
    "    x='importances_mean',\n",
    "    y=adaboost_tree_pi_df.index,\n",
    "    orient='h',\n",
    "    color=sns_c[0],\n",
    "    ax=ax[0])\n",
    "\n",
    "sns.barplot(\n",
    "    data = adaboost_tree_pi_df,\n",
    "    x='importances_std',\n",
    "    y=adaboost_tree_pi_df.index,\n",
    "    orient='h',\n",
    "    color=sns_c[1],\n",
    "    ax=ax[1]\n",
    ")\n",
    "\n",
    "ax[0].set(title='importances_mean')\n",
    "ax[1].set(title='importances_std')\n",
    "\n",
    "plt.show()"
   ]
  },
  {
   "cell_type": "code",
   "execution_count": 122,
   "id": "38505044",
   "metadata": {},
   "outputs": [],
   "source": [
    "x_train_preprocessor= tree_preprocessor.transform(X_train).todense()\n",
    "x_train_preprocessor=np.asarray(x_train_preprocessor)"
   ]
  },
  {
   "cell_type": "code",
   "execution_count": 123,
   "id": "d7a67017",
   "metadata": {},
   "outputs": [
    {
     "name": "stderr",
     "output_type": "stream",
     "text": [
      "/home/bryan/anaconda3/envs/KeFlow/lib/python3.7/site-packages/yellowbrick/regressor/influence.py:157: RuntimeWarning: invalid value encountered in sqrt\n",
      "  residuals_studentized = residuals / np.sqrt(mse) / np.sqrt(1 - leverage)\n"
     ]
    },
    {
     "data": {
      "image/png": "[encoded data removed]",
      "text/plain": [
       "<Figure size 800x550 with 1 Axes>"
      ]
     },
     "metadata": {},
     "output_type": "display_data"
    },
    {
     "data": {
      "text/plain": [
       "<AxesSubplot:title={'center':\"Cook's Distance Outlier Detection\"}, xlabel='instance index', ylabel='influence (I)'>"
      ]
     },
     "execution_count": 123,
     "metadata": {},
     "output_type": "execute_result"
    }
   ],
   "source": [
    "from yellowbrick.regressor import CooksDistance\n",
    "from yellowbrick.datasets import load_concrete\n",
    "\n",
    "\n",
    "\n",
    "# Instantiate and fit the visualizer\n",
    "visualizer = CooksDistance()\n",
    "visualizer.fit(x_train_preprocessor,np.asarray(y_train))\n",
    "visualizer.show()"
   ]
  },
  {
   "cell_type": "code",
   "execution_count": 124,
   "id": "a819db0e",
   "metadata": {},
   "outputs": [],
   "source": [
    "cook_distance = pd.Series(visualizer.distance_)\n",
    "cook_distance = cook_distance.sort_values(ascending = False)"
   ]
  },
  {
   "cell_type": "code",
   "execution_count": 126,
   "id": "f76590ab",
   "metadata": {},
   "outputs": [
    {
     "data": {
      "text/html": [
       "<div>\n",
       "<style scoped>\n",
       "    .dataframe tbody tr th:only-of-type {\n",
       "        vertical-align: middle;\n",
       "    }\n",
       "\n",
       "    .dataframe tbody tr th {\n",
       "        vertical-align: top;\n",
       "    }\n",
       "\n",
       "    .dataframe thead th {\n",
       "        text-align: right;\n",
       "    }\n",
       "</style>\n",
       "<table border=\"1\" class=\"dataframe\">\n",
       "  <thead>\n",
       "    <tr style=\"text-align: right;\">\n",
       "      <th></th>\n",
       "      <th>Electricity_p</th>\n",
       "      <th>ENERGYSTARScore</th>\n",
       "      <th>LargestPropertyUseType</th>\n",
       "    </tr>\n",
       "  </thead>\n",
       "  <tbody>\n",
       "    <tr>\n",
       "      <th>887</th>\n",
       "      <td>0.515056</td>\n",
       "      <td>80.0</td>\n",
       "      <td>Distribution Center</td>\n",
       "    </tr>\n",
       "    <tr>\n",
       "      <th>1233</th>\n",
       "      <td>1.000000</td>\n",
       "      <td>60.0</td>\n",
       "      <td>Bank Branch</td>\n",
       "    </tr>\n",
       "    <tr>\n",
       "      <th>440</th>\n",
       "      <td>0.748053</td>\n",
       "      <td>75.0</td>\n",
       "      <td>Retail Store</td>\n",
       "    </tr>\n",
       "    <tr>\n",
       "      <th>529</th>\n",
       "      <td>0.689684</td>\n",
       "      <td>89.0</td>\n",
       "      <td>Other</td>\n",
       "    </tr>\n",
       "  </tbody>\n",
       "</table>\n",
       "</div>"
      ],
      "text/plain": [
       "      Electricity_p  ENERGYSTARScore LargestPropertyUseType\n",
       "887        0.515056             80.0    Distribution Center\n",
       "1233       1.000000             60.0            Bank Branch\n",
       "440        0.748053             75.0           Retail Store\n",
       "529        0.689684             89.0                  Other"
      ]
     },
     "execution_count": 126,
     "metadata": {},
     "output_type": "execute_result"
    }
   ],
   "source": [
    "X_train.iloc[cook_distance[:4].index][['Electricity_p','ENERGYSTARScore','LargestPropertyUseType']]"
   ]
  },
  {
   "cell_type": "markdown",
   "id": "618869bd",
   "metadata": {},
   "source": [
    "## 3.4 Interpretation "
   ]
  },
  {
   "cell_type": "markdown",
   "id": "81e80d89",
   "metadata": {},
   "source": [
    "### Globale"
   ]
  },
  {
   "cell_type": "code",
   "execution_count": null,
   "id": "9e27c4ea",
   "metadata": {},
   "outputs": [],
   "source": [
    "import shap"
   ]
  },
  {
   "cell_type": "code",
   "execution_count": null,
   "id": "28b69994",
   "metadata": {},
   "outputs": [],
   "source": [
    "shap_values = shap.TreeExplainer(modele[-1]).shap_values(X_train)\n",
    "shap.summary_plot(shap_values, X_train, plot_type=\"bar\")"
   ]
  },
  {
   "cell_type": "code",
   "execution_count": null,
   "id": "445601e7",
   "metadata": {},
   "outputs": [],
   "source": []
  }
 ],
 "metadata": {
  "kernelspec": {
   "display_name": "Python 3 (ipykernel)",
   "language": "python",
   "name": "python3"
  },
  "language_info": {
   "codemirror_mode": {
    "name": "ipython",
    "version": 3
   },
   "file_extension": ".py",
   "mimetype": "text/x-python",
   "name": "python",
   "nbconvert_exporter": "python",
   "pygments_lexer": "ipython3",
   "version": "3.7.11"
  }
 },
 "nbformat": 4,
 "nbformat_minor": 5
}
